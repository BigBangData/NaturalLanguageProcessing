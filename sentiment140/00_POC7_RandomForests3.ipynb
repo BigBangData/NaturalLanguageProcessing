{
 "cells": [
  {
   "cell_type": "markdown",
   "metadata": {},
   "source": [
    "# Twitter Sentiment Analysis - POC\n",
    "---\n",
    "\n",
    "## 7. Quickly train various models\n",
    "\n",
    "**Current State**: I've trained three baseline models with little tweaking, fine-tuned a single decision tree, and trained a few random forests on a Bag-of-Word subset of $m\\approx250k, n=50k$ of the training data, using cross validation, and got the following mean accuracy scores:\n",
    "\n",
    "- Logistic Regression: $78.8\\%$\n",
    "- Naive Bayes: $77.6\\%$ \n",
    "- SGD (log loss): $77.1\\%$ \n",
    "- Random Forests: $75.0\\%$\n",
    "- Decision Tree: $69.0\\%$\n",
    "\n",
    "**This Notebook**: since the previous notebook's random forests were built on few instances, I'm choosing a couple of the best ones to train on the entire training data (for th POC) and plotting some learning curves."
   ]
  },
  {
   "cell_type": "code",
   "execution_count": 1,
   "metadata": {},
   "outputs": [],
   "source": [
    "import re\n",
    "import os\n",
    "import time\n",
    "import json\n",
    "\n",
    "import numpy as np\n",
    "import pandas as pd\n",
    "import scipy.sparse as sp\n",
    "import matplotlib.pyplot as plt\n",
    "\n",
    "from sklearn.base import clone\n",
    "from sklearn.ensemble import RandomForestClassifier \n",
    "from sklearn.model_selection import cross_val_score\n",
    "from sklearn.model_selection import train_test_split\n",
    "from sklearn.model_selection import ShuffleSplit\n",
    "from sklearn.metrics import accuracy_score"
   ]
  },
  {
   "cell_type": "markdown",
   "metadata": {},
   "source": [
    "### Load $m\\approx250k$, $n=50k$ training subset"
   ]
  },
  {
   "cell_type": "code",
   "execution_count": 2,
   "metadata": {},
   "outputs": [],
   "source": [
    "# processed dir\n",
    "proc_dir = os.path.join(\"..\",\"data\",\"3_processed\",\"sentiment140\")\n",
    "X_train_transformed = sp.load_npz(os.path.join(proc_dir, \"X_train_transformed_BoW_250k_50k.npz\"))\n",
    "with open(os.path.join(proc_dir, \"y_array_250k.npy\"), 'rb') as f:\n",
    "    y_array = np.load(f)"
   ]
  },
  {
   "cell_type": "code",
   "execution_count": 3,
   "metadata": {},
   "outputs": [],
   "source": [
    "X_train, X_valid, y_train, y_valid = train_test_split(X_train_transformed, \n",
    "                                                      y_array, \n",
    "                                                      test_size=0.2, \n",
    "                                                      random_state=42)"
   ]
  },
  {
   "cell_type": "markdown",
   "metadata": {},
   "source": [
    "### Define functions\n",
    "\n",
    "These are helper functions for getting data for plotting the learning curves."
   ]
  },
  {
   "cell_type": "code",
   "execution_count": 48,
   "metadata": {},
   "outputs": [],
   "source": [
    "def get_learning_data(clf):\n",
    "    xs, train_acc, valid_acc = [], [], []\n",
    "    for m_instances in range(1004, 201174, 22241):\n",
    "        rf_clf.fit(X_train[:m_instances], y_train[:m_instances])\n",
    "        y_train_predict = rf_clf.predict(X_train[:m_instances])\n",
    "        y_valid_predict = rf_clf.predict(X_valid)\n",
    "        train_acc.append(accuracy_score(y_train[:m_instances], y_train_predict))\n",
    "        valid_acc.append(accuracy_score(y_valid, y_valid_predict))\n",
    "        xs.append(str(m_instances)) \n",
    "    return xs, train_acc, valid_acc"
   ]
  },
  {
   "cell_type": "code",
   "execution_count": 49,
   "metadata": {},
   "outputs": [],
   "source": [
    "def plot_learning_curve(xs, train_acc, valid_acc):\n",
    "    fig = plt.figure(figsize=(12, 6))\n",
    "    ax = fig.add_axes([0.0, X_train.shape[0], 0.4, 0.8])\n",
    "    plt.plot(xs, train_acc, 'r--', linewidth=.8, label=\"train accuracy\")\n",
    "    plt.plot(xs, valid_acc, 'b--', linewidth=.8, label=\"validation accuracy\")\n",
    "    plt.xticks(rotation=45)\n",
    "    plt.title(''.join([\"Learning Rates for Training and Validation\"]), fontsize=16)\n",
    "    plt.legend(loc=\"lower right\", fontsize=14)\n",
    "    plt.xlabel(\"Training Set Size\", fontsize=14)\n",
    "    plt.ylabel(\"Accuracy\", fontsize=14)\n",
    "    plt.show()"
   ]
  },
  {
   "cell_type": "markdown",
   "metadata": {},
   "source": [
    "### Random Forest 1\n",
    "\n",
    "This is a very big 10,000-tree forest which uses `max_leaf_nodes=99` as its main constraining factor.\n",
    "\n",
    "Alas, `warm_start=True` is used to increase n_estimators, not n_samples, so it can't be used for learning curves."
   ]
  },
  {
   "cell_type": "code",
   "execution_count": 42,
   "metadata": {},
   "outputs": [],
   "source": [
    "rf_clf1 = RandomForestClassifier(n_estimators=10000, # the second DIY forest params\n",
    "                                max_samples=None, # 2000 was the max then, got 75% accuracy\n",
    "                                max_features=\"sqrt\", \n",
    "                                max_leaf_nodes=99, \n",
    "                                random_state=42,\n",
    "                                n_jobs=-1, \n",
    "                                verbose=0)"
   ]
  },
  {
   "cell_type": "code",
   "execution_count": 44,
   "metadata": {},
   "outputs": [],
   "source": [
    "xs1, train_acc1, valid_acc1 = get_learning_data(rf_clf1)"
   ]
  },
  {
   "cell_type": "code",
   "execution_count": 26,
   "metadata": {},
   "outputs": [
    {
     "data": {
      "image/png": "[encoded data removed]",
      "text/plain": [
       "<Figure size 864x432 with 1 Axes>"
      ]
     },
     "metadata": {
      "needs_background": "light"
     },
     "output_type": "display_data"
    }
   ],
   "source": [
    "plot_learning_curve(xs1, train_acc1, valid_acc1)"
   ]
  },
  {
   "cell_type": "code",
   "execution_count": 37,
   "metadata": {},
   "outputs": [
    {
     "name": "stdout",
     "output_type": "stream",
     "text": [
      "Min training accuracy: 0.8962\n",
      "Max validation accuracy: 0.7205\n"
     ]
    }
   ],
   "source": [
    "print(f'Min training accuracy: {min(train_acc1):0.4f}')\n",
    "print(f'Max validation accuracy: {max(valid_acc1):0.4f}')"
   ]
  },
  {
   "cell_type": "markdown",
   "metadata": {},
   "source": [
    "### Random Forest 2\n",
    "\n",
    "This is a 1,000-tree forest that uses `max_features=200` as its limiting factor."
   ]
  },
  {
   "cell_type": "code",
   "execution_count": 38,
   "metadata": {},
   "outputs": [],
   "source": [
    "rf_clf2 = RandomForestClassifier(n_estimators=1000, # the grid search params\n",
    "                                 max_samples=None, # 8000 was the max then, got 75% accuracy as well\n",
    "                                 max_features=200, \n",
    "                                 max_depth=None,\n",
    "                                 random_state=42,\n",
    "                                 n_jobs=-1, \n",
    "                                 verbose=0)"
   ]
  },
  {
   "cell_type": "code",
   "execution_count": null,
   "metadata": {},
   "outputs": [],
   "source": [
    "xs2, train_acc2, valid_acc2 = get_learning_data(rf_clf2)"
   ]
  },
  {
   "cell_type": "code",
   "execution_count": null,
   "metadata": {},
   "outputs": [],
   "source": [
    "plot_learning_curve(xs2, train_acc2, valid_acc2)"
   ]
  },
  {
   "cell_type": "code",
   "execution_count": null,
   "metadata": {},
   "outputs": [],
   "source": [
    "print(f'Min training accuracy: {min(train_acc2):0.4f}')\n",
    "print(f'Max validation accuracy: {max(valid_acc2):0.4f}')"
   ]
  },
  {
   "cell_type": "markdown",
   "metadata": {},
   "source": [
    "### Random Forest 3\n",
    "\n",
    "This is a small forest of 300 trees which uses `max_features=\"sqrt\"` as a limiting factor."
   ]
  },
  {
   "cell_type": "code",
   "execution_count": 39,
   "metadata": {},
   "outputs": [],
   "source": [
    "rf_clf3 = RandomForestClassifier(n_estimators=300,\n",
    "                                 max_samples=None, \n",
    "                                 max_features=\"sqrt\",\n",
    "                                 max_depth=None,\n",
    "                                 random_state=42,\n",
    "                                 n_jobs=-1, \n",
    "                                 verbose=0)"
   ]
  },
  {
   "cell_type": "code",
   "execution_count": null,
   "metadata": {},
   "outputs": [],
   "source": [
    "xs3, train_acc3, valid_acc3 = get_learning_data(rf_clf3)"
   ]
  },
  {
   "cell_type": "code",
   "execution_count": null,
   "metadata": {},
   "outputs": [],
   "source": [
    "plot_learning_curve(xs3, train_acc3, valid_acc3)"
   ]
  },
  {
   "cell_type": "code",
   "execution_count": 42,
   "metadata": {},
   "outputs": [
    {
     "data": {
      "text/plain": [
       "0.7839"
      ]
     },
     "execution_count": 42,
     "metadata": {},
     "output_type": "execute_result"
    }
   ],
   "source": [
    "print(f'Min training accuracy: {min(train_acc3):0.4f}')\n",
    "print(f'Max validation accuracy: {max(valid_acc3):0.4f}')"
   ]
  },
  {
   "cell_type": "markdown",
   "metadata": {},
   "source": [
    "---"
   ]
  }
 ],
 "metadata": {
  "kernelspec": {
   "display_name": "Python 3",
   "language": "python",
   "name": "python3"
  },
  "language_info": {
   "codemirror_mode": {
    "name": "ipython",
    "version": 3
   },
   "file_extension": ".py",
   "mimetype": "text/x-python",
   "name": "python",
   "nbconvert_exporter": "python",
   "pygments_lexer": "ipython3",
   "version": "3.7.3"
  }
 },
 "nbformat": 4,
 "nbformat_minor": 4
}
