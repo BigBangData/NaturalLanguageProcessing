{
 "cells": [
  {
   "cell_type": "markdown",
   "metadata": {},
   "source": [
    "## Twitter Setiment Analysis \n",
    "\n",
    "### Part 3: Machine Learning with the Sentiment140 dataset \n"
   ]
  },
  {
   "cell_type": "markdown",
   "metadata": {},
   "source": [
    "### Load Pre-Processed Data"
   ]
  },
  {
   "cell_type": "code",
   "execution_count": 1,
   "metadata": {},
   "outputs": [],
   "source": [
    "import os \n",
    "import time\n",
    "import scipy.sparse as sp\n",
    "\n",
    "def end_timer(start):\n",
    "    end = time.perf_counter()\n",
    "    print(f'Finished in {round(end-start, 2)} second(s)')"
   ]
  },
  {
   "cell_type": "code",
   "execution_count": 2,
   "metadata": {},
   "outputs": [],
   "source": [
    "dirpath = os.path.join(\"..\",\"data\",\"3_processed\")\n",
    "filenames = ['X_text_bow'\n",
    "            ,'X_tokn_bow'\n",
    "            ,'X_filt_bow'\n",
    "            ,'X_stem_bow'\n",
    "            ,'X_text_tfidf'\n",
    "            ,'X_tokn_tfidf'\n",
    "            ,'X_filt_tfidf'\n",
    "            ,'X_stem_tfidf'\n",
    "            ,'X_text_log_tfidf'\n",
    "            ,'X_tokn_log_tfidf'\n",
    "            ,'X_filt_log_tfidf'\n",
    "            ,'X_stem_log_tfidf']\n",
    "\n",
    "filepaths = [os.path.join(dirpath, ''.join([filename, '.npz'])) for filename in filenames]"
   ]
  },
  {
   "cell_type": "code",
   "execution_count": 3,
   "metadata": {},
   "outputs": [
    {
     "name": "stdout",
     "output_type": "stream",
     "text": [
      "Finished in 10.75 second(s)\n"
     ]
    }
   ],
   "source": [
    "start = time.perf_counter()\n",
    "X_text_bow       = sp.load_npz(filepaths[0])\n",
    "X_tokn_bow       = sp.load_npz(filepaths[1])\n",
    "X_filt_bow       = sp.load_npz(filepaths[2])\n",
    "X_stem_bow       = sp.load_npz(filepaths[3])\n",
    "X_text_tfidf     = sp.load_npz(filepaths[4])\n",
    "X_tokn_tfidf     = sp.load_npz(filepaths[5])\n",
    "X_filt_tfidf     = sp.load_npz(filepaths[6])\n",
    "X_stem_tfidf     = sp.load_npz(filepaths[7])\n",
    "X_text_log_tfidf = sp.load_npz(filepaths[8])\n",
    "X_tokn_log_tfidf = sp.load_npz(filepaths[9])\n",
    "X_filt_log_tfidf = sp.load_npz(filepaths[10])\n",
    "X_stem_log_tfidf = sp.load_npz(filepaths[11])\n",
    "end_timer(start)"
   ]
  },
  {
   "cell_type": "code",
   "execution_count": 4,
   "metadata": {},
   "outputs": [
    {
     "data": {
      "text/plain": [
       "<1596180x682660 sparse matrix of type '<class 'numpy.int64'>'\n",
       "\twith 18978956 stored elements in Compressed Sparse Row format>"
      ]
     },
     "execution_count": 4,
     "metadata": {},
     "output_type": "execute_result"
    }
   ],
   "source": [
    "X_text_bow"
   ]
  },
  {
   "cell_type": "code",
   "execution_count": null,
   "metadata": {},
   "outputs": [],
   "source": []
  },
  {
   "cell_type": "markdown",
   "metadata": {},
   "source": [
    "### Train"
   ]
  },
  {
   "cell_type": "code",
   "execution_count": 5,
   "metadata": {},
   "outputs": [],
   "source": [
    "import numpy as np\n",
    "#from sklearn import preprocessing\n",
    "#from sklearn.feature_extraction.text import TfidfVectorizer\n",
    "#from sklearn.feature_extraction.text import CountVectorizer"
   ]
  },
  {
   "cell_type": "code",
   "execution_count": 8,
   "metadata": {},
   "outputs": [],
   "source": [
    "def train(model, X, y):\n",
    "    \n",
    "    start = time.perf_counter()\n",
    "    \n",
    "    X_train, X_test, y_train, y_test = \\\n",
    "    train_test_split(X_fit, y, test_size=0.2, random_state=42)\n",
    "    \n",
    "    if model == 'NB':\n",
    "        NB = MultinomialNB()\n",
    "        NB.fit(X_train, y_train)\n",
    "        y_preds = NB.predict(X_test)\n",
    "        accuracy = accuracy_score(y_test, y_preds)\n",
    "        print('Accuracy')\n",
    "        print(''.join(['NB: ' , str(round(accuracy, 4))]))\n",
    "\n",
    "    elif model == 'LR':\n",
    "        LR = LogisticRegression(solver='lbfgs', max_iter=1000)\n",
    "        LR.fit(X_train, y_train)\n",
    "        y_preds = LR.predict(X_test)\n",
    "        accuracy = accuracy_score(y_test, y_preds)\n",
    "        print(''.join(['LR: ' , str(round(accuracy, 4))]))\n",
    "    \n",
    "    else:\n",
    "        pass\n",
    "    \n",
    "    end_timer(start)"
   ]
  },
  {
   "cell_type": "code",
   "execution_count": null,
   "metadata": {},
   "outputs": [],
   "source": [
    "# oopsies, save y!\n",
    "\n",
    "train('NB', X_text_bow, y)"
   ]
  },
  {
   "cell_type": "code",
   "execution_count": 9,
   "metadata": {},
   "outputs": [],
   "source": [
    "# use Pipeline\n",
    "# check out sklearn examples\n"
   ]
  }
 ],
 "metadata": {
  "kernelspec": {
   "display_name": "Python 3",
   "language": "python",
   "name": "python3"
  },
  "language_info": {
   "codemirror_mode": {
    "name": "ipython",
    "version": 3
   },
   "file_extension": ".py",
   "mimetype": "text/x-python",
   "name": "python",
   "nbconvert_exporter": "python",
   "pygments_lexer": "ipython3",
   "version": "3.7.3"
  }
 },
 "nbformat": 4,
 "nbformat_minor": 4
}
