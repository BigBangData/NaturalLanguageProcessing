{
 "cells": [
  {
   "cell_type": "markdown",
   "metadata": {},
   "source": [
    "## Twitter Sentiment Analysis \n",
    "---\n",
    "\n",
    "**PROJECT STRUCTURE**\n",
    "\n",
    "Following well-established practices, the plan is to...\n",
    "\n",
    "- do minimal data exploration and cleanup before splitting into train, test datasets\n",
    "- split into train, test datasets; set the test dataset aside and do not peek further to prevent data leakage\n",
    "- create a cleanup pipeline for the training data that can be re-applied to the test data\n",
    "- create an ML pre-processing pipeline that can be re-applied as well\n",
    "- using cross-validation, evaluate a variety models without hyperparameter tuning to establish some baselines\n",
    "- short-list promising models for further hyperparemeter tuning; go wild\n",
    "- go back if necessary, create new features (feature engineering), create a 2nd ML processing pipeline\n",
    "- re-apply all cleanup and pre-processing steps to the test set\n",
    "- evaluate the most promising model using the test set and calculate the generalization error, once\n",
    "- create a presentation including how this model would be deployed, evaluated, and maintained in production\n",
    "\n",
    "Differentiating *cleanup* from *pre-processing* and *further processing* helps because the original cleanup is often simple enough and doesn't need to be tweaked, while later processing might involve several iterations and stages.\n",
    "\n",
    "**THE DATA**\n",
    "\n",
    "This so-called *sentiment140* dataset comes from Marios Michailidis [Kaggle repository.](https://www.kaggle.com/kazanova/sentiment140/)\n",
    "It consists of 1.6 M rows evenly split into negative and positive Tweets. The labels were created automatically using emoticons - the specific steps of how this was accomplished have not been disclosed.\n",
    "For more information on *sentiment140* see their [API.](http://help.sentiment140.com/api)"
   ]
  },
  {
   "cell_type": "markdown",
   "metadata": {},
   "source": [
    "### Load data"
   ]
  },
  {
   "cell_type": "code",
   "execution_count": 1,
   "metadata": {},
   "outputs": [],
   "source": [
    "import os \n",
    "import time\n",
    "import numpy as np\n",
    "import pandas as pd \n",
    "\n",
    "# time notebook\n",
    "start_notebook = time.time()\n",
    "\n",
    "# load raw dataset\n",
    "raw_path = os.path.join(\"..\",\"data\",\"1_raw\",\"sentiment140\")\n",
    "filename = \"training.1600000.processed.noemoticon.csv\"\n",
    "filepath = os.path.join(raw_path, filename)\n",
    "\n",
    "raw = pd.read_csv(filepath, encoding='latin-1', usecols=[0,1,4,5])\n",
    "raw.columns = [\"Polarity\",\"ID\",\"Username\",\"Text\"]"
   ]
  },
  {
   "cell_type": "markdown",
   "metadata": {},
   "source": [
    "### Preview data"
   ]
  },
  {
   "cell_type": "code",
   "execution_count": 2,
   "metadata": {},
   "outputs": [
    {
     "data": {
      "text/plain": [
       "(1599999, 4)"
      ]
     },
     "execution_count": 2,
     "metadata": {},
     "output_type": "execute_result"
    }
   ],
   "source": [
    "raw.shape"
   ]
  },
  {
   "cell_type": "code",
   "execution_count": 3,
   "metadata": {},
   "outputs": [
    {
     "data": {
      "text/html": [
       "<div>\n",
       "<style scoped>\n",
       "    .dataframe tbody tr th:only-of-type {\n",
       "        vertical-align: middle;\n",
       "    }\n",
       "\n",
       "    .dataframe tbody tr th {\n",
       "        vertical-align: top;\n",
       "    }\n",
       "\n",
       "    .dataframe thead th {\n",
       "        text-align: right;\n",
       "    }\n",
       "</style>\n",
       "<table border=\"1\" class=\"dataframe\">\n",
       "  <thead>\n",
       "    <tr style=\"text-align: right;\">\n",
       "      <th></th>\n",
       "      <th>Polarity</th>\n",
       "      <th>ID</th>\n",
       "      <th>Username</th>\n",
       "      <th>Text</th>\n",
       "    </tr>\n",
       "  </thead>\n",
       "  <tbody>\n",
       "    <tr>\n",
       "      <th>0</th>\n",
       "      <td>0</td>\n",
       "      <td>1467810672</td>\n",
       "      <td>scotthamilton</td>\n",
       "      <td>is upset that he can't update his Facebook by ...</td>\n",
       "    </tr>\n",
       "    <tr>\n",
       "      <th>1</th>\n",
       "      <td>0</td>\n",
       "      <td>1467810917</td>\n",
       "      <td>mattycus</td>\n",
       "      <td>@Kenichan I dived many times for the ball. Man...</td>\n",
       "    </tr>\n",
       "    <tr>\n",
       "      <th>2</th>\n",
       "      <td>0</td>\n",
       "      <td>1467811184</td>\n",
       "      <td>ElleCTF</td>\n",
       "      <td>my whole body feels itchy and like its on fire</td>\n",
       "    </tr>\n",
       "    <tr>\n",
       "      <th>3</th>\n",
       "      <td>0</td>\n",
       "      <td>1467811193</td>\n",
       "      <td>Karoli</td>\n",
       "      <td>@nationwideclass no, it's not behaving at all....</td>\n",
       "    </tr>\n",
       "    <tr>\n",
       "      <th>4</th>\n",
       "      <td>0</td>\n",
       "      <td>1467811372</td>\n",
       "      <td>joy_wolf</td>\n",
       "      <td>@Kwesidei not the whole crew</td>\n",
       "    </tr>\n",
       "  </tbody>\n",
       "</table>\n",
       "</div>"
      ],
      "text/plain": [
       "   Polarity          ID       Username  \\\n",
       "0         0  1467810672  scotthamilton   \n",
       "1         0  1467810917       mattycus   \n",
       "2         0  1467811184        ElleCTF   \n",
       "3         0  1467811193         Karoli   \n",
       "4         0  1467811372       joy_wolf   \n",
       "\n",
       "                                                Text  \n",
       "0  is upset that he can't update his Facebook by ...  \n",
       "1  @Kenichan I dived many times for the ball. Man...  \n",
       "2    my whole body feels itchy and like its on fire   \n",
       "3  @nationwideclass no, it's not behaving at all....  \n",
       "4                      @Kwesidei not the whole crew   "
      ]
     },
     "execution_count": 3,
     "metadata": {},
     "output_type": "execute_result"
    }
   ],
   "source": [
    "raw.head()"
   ]
  },
  {
   "cell_type": "code",
   "execution_count": 4,
   "metadata": {},
   "outputs": [],
   "source": [
    "X = raw.iloc[:, 1:4]\n",
    "y = raw.iloc[:, 0]"
   ]
  },
  {
   "cell_type": "code",
   "execution_count": 5,
   "metadata": {},
   "outputs": [
    {
     "data": {
      "text/html": [
       "<div>\n",
       "<style scoped>\n",
       "    .dataframe tbody tr th:only-of-type {\n",
       "        vertical-align: middle;\n",
       "    }\n",
       "\n",
       "    .dataframe tbody tr th {\n",
       "        vertical-align: top;\n",
       "    }\n",
       "\n",
       "    .dataframe thead th {\n",
       "        text-align: right;\n",
       "    }\n",
       "</style>\n",
       "<table border=\"1\" class=\"dataframe\">\n",
       "  <thead>\n",
       "    <tr style=\"text-align: right;\">\n",
       "      <th></th>\n",
       "      <th>ID</th>\n",
       "      <th>Username</th>\n",
       "      <th>Text</th>\n",
       "    </tr>\n",
       "  </thead>\n",
       "  <tbody>\n",
       "    <tr>\n",
       "      <th>0</th>\n",
       "      <td>1467810672</td>\n",
       "      <td>scotthamilton</td>\n",
       "      <td>is upset that he can't update his Facebook by ...</td>\n",
       "    </tr>\n",
       "    <tr>\n",
       "      <th>1</th>\n",
       "      <td>1467810917</td>\n",
       "      <td>mattycus</td>\n",
       "      <td>@Kenichan I dived many times for the ball. Man...</td>\n",
       "    </tr>\n",
       "    <tr>\n",
       "      <th>2</th>\n",
       "      <td>1467811184</td>\n",
       "      <td>ElleCTF</td>\n",
       "      <td>my whole body feels itchy and like its on fire</td>\n",
       "    </tr>\n",
       "    <tr>\n",
       "      <th>3</th>\n",
       "      <td>1467811193</td>\n",
       "      <td>Karoli</td>\n",
       "      <td>@nationwideclass no, it's not behaving at all....</td>\n",
       "    </tr>\n",
       "    <tr>\n",
       "      <th>4</th>\n",
       "      <td>1467811372</td>\n",
       "      <td>joy_wolf</td>\n",
       "      <td>@Kwesidei not the whole crew</td>\n",
       "    </tr>\n",
       "  </tbody>\n",
       "</table>\n",
       "</div>"
      ],
      "text/plain": [
       "           ID       Username  \\\n",
       "0  1467810672  scotthamilton   \n",
       "1  1467810917       mattycus   \n",
       "2  1467811184        ElleCTF   \n",
       "3  1467811193         Karoli   \n",
       "4  1467811372       joy_wolf   \n",
       "\n",
       "                                                Text  \n",
       "0  is upset that he can't update his Facebook by ...  \n",
       "1  @Kenichan I dived many times for the ball. Man...  \n",
       "2    my whole body feels itchy and like its on fire   \n",
       "3  @nationwideclass no, it's not behaving at all....  \n",
       "4                      @Kwesidei not the whole crew   "
      ]
     },
     "execution_count": 5,
     "metadata": {},
     "output_type": "execute_result"
    }
   ],
   "source": [
    "X.head()"
   ]
  },
  {
   "cell_type": "markdown",
   "metadata": {},
   "source": [
    "#### Minimal cleanup!"
   ]
  },
  {
   "cell_type": "code",
   "execution_count": 6,
   "metadata": {},
   "outputs": [
    {
     "data": {
      "text/html": [
       "<div>\n",
       "<style scoped>\n",
       "    .dataframe tbody tr th:only-of-type {\n",
       "        vertical-align: middle;\n",
       "    }\n",
       "\n",
       "    .dataframe tbody tr th {\n",
       "        vertical-align: top;\n",
       "    }\n",
       "\n",
       "    .dataframe thead th {\n",
       "        text-align: right;\n",
       "    }\n",
       "</style>\n",
       "<table border=\"1\" class=\"dataframe\">\n",
       "  <thead>\n",
       "    <tr style=\"text-align: right;\">\n",
       "      <th></th>\n",
       "      <th>target</th>\n",
       "    </tr>\n",
       "  </thead>\n",
       "  <tbody>\n",
       "    <tr>\n",
       "      <th>1599994</th>\n",
       "      <td>1</td>\n",
       "    </tr>\n",
       "    <tr>\n",
       "      <th>1599995</th>\n",
       "      <td>1</td>\n",
       "    </tr>\n",
       "    <tr>\n",
       "      <th>1599996</th>\n",
       "      <td>1</td>\n",
       "    </tr>\n",
       "    <tr>\n",
       "      <th>1599997</th>\n",
       "      <td>1</td>\n",
       "    </tr>\n",
       "    <tr>\n",
       "      <th>1599998</th>\n",
       "      <td>1</td>\n",
       "    </tr>\n",
       "  </tbody>\n",
       "</table>\n",
       "</div>"
      ],
      "text/plain": [
       "         target\n",
       "1599994       1\n",
       "1599995       1\n",
       "1599996       1\n",
       "1599997       1\n",
       "1599998       1"
      ]
     },
     "execution_count": 6,
     "metadata": {},
     "output_type": "execute_result"
    }
   ],
   "source": [
    "# change 4s to 1s\n",
    "y_df = pd.DataFrame({'target':y}) \n",
    "y_df[y_df[\"target\"]==4] = 1\n",
    "y_df.tail()"
   ]
  },
  {
   "cell_type": "markdown",
   "metadata": {},
   "source": [
    "### Split into Train, Test sets"
   ]
  },
  {
   "cell_type": "code",
   "execution_count": 7,
   "metadata": {},
   "outputs": [],
   "source": [
    "import numpy as np\n",
    "from sklearn.model_selection import train_test_split\n",
    "\n",
    "X_train, X_test, y_train, y_test = train_test_split(X, y_df, test_size=0.25, random_state=42)"
   ]
  },
  {
   "cell_type": "markdown",
   "metadata": {},
   "source": [
    "### Set Test set aside\n",
    "\n",
    "Save training and test sets, and indices as well (although arguably the procedures is reproducible by setting the same random seed above)."
   ]
  },
  {
   "cell_type": "code",
   "execution_count": 8,
   "metadata": {},
   "outputs": [
    {
     "data": {
      "text/html": [
       "<div>\n",
       "<style scoped>\n",
       "    .dataframe tbody tr th:only-of-type {\n",
       "        vertical-align: middle;\n",
       "    }\n",
       "\n",
       "    .dataframe tbody tr th {\n",
       "        vertical-align: top;\n",
       "    }\n",
       "\n",
       "    .dataframe thead th {\n",
       "        text-align: right;\n",
       "    }\n",
       "</style>\n",
       "<table border=\"1\" class=\"dataframe\">\n",
       "  <thead>\n",
       "    <tr style=\"text-align: right;\">\n",
       "      <th></th>\n",
       "      <th>ID</th>\n",
       "      <th>Username</th>\n",
       "      <th>Text</th>\n",
       "    </tr>\n",
       "  </thead>\n",
       "  <tbody>\n",
       "    <tr>\n",
       "      <th>66270</th>\n",
       "      <td>1691417640</td>\n",
       "      <td>goatkinghoang</td>\n",
       "      <td>working madly</td>\n",
       "    </tr>\n",
       "    <tr>\n",
       "      <th>428045</th>\n",
       "      <td>2063856213</td>\n",
       "      <td>Emma_Keenan</td>\n",
       "      <td>How can it be this cold! It's June!!! Sheesh</td>\n",
       "    </tr>\n",
       "    <tr>\n",
       "      <th>1307927</th>\n",
       "      <td>2012574359</td>\n",
       "      <td>shellywellyx1</td>\n",
       "      <td>@jojoalexander ight i let they lil white boy k...</td>\n",
       "    </tr>\n",
       "    <tr>\n",
       "      <th>1112400</th>\n",
       "      <td>1972402571</td>\n",
       "      <td>FreagleDiva</td>\n",
       "      <td>Tweetlater Pro is the way to go for those who ...</td>\n",
       "    </tr>\n",
       "    <tr>\n",
       "      <th>840793</th>\n",
       "      <td>1559873939</td>\n",
       "      <td>bumgirl</td>\n",
       "      <td>&amp;quot;I wanna wake up where you are&amp;quot; I lo...</td>\n",
       "    </tr>\n",
       "  </tbody>\n",
       "</table>\n",
       "</div>"
      ],
      "text/plain": [
       "                 ID       Username  \\\n",
       "66270    1691417640  goatkinghoang   \n",
       "428045   2063856213    Emma_Keenan   \n",
       "1307927  2012574359  shellywellyx1   \n",
       "1112400  1972402571    FreagleDiva   \n",
       "840793   1559873939        bumgirl   \n",
       "\n",
       "                                                      Text  \n",
       "66270                                       working madly   \n",
       "428045       How can it be this cold! It's June!!! Sheesh   \n",
       "1307927  @jojoalexander ight i let they lil white boy k...  \n",
       "1112400  Tweetlater Pro is the way to go for those who ...  \n",
       "840793   &quot;I wanna wake up where you are&quot; I lo...  "
      ]
     },
     "execution_count": 8,
     "metadata": {},
     "output_type": "execute_result"
    }
   ],
   "source": [
    "X_train.head()"
   ]
  },
  {
   "cell_type": "code",
   "execution_count": 9,
   "metadata": {},
   "outputs": [
    {
     "data": {
      "text/html": [
       "<div>\n",
       "<style scoped>\n",
       "    .dataframe tbody tr th:only-of-type {\n",
       "        vertical-align: middle;\n",
       "    }\n",
       "\n",
       "    .dataframe tbody tr th {\n",
       "        vertical-align: top;\n",
       "    }\n",
       "\n",
       "    .dataframe thead th {\n",
       "        text-align: right;\n",
       "    }\n",
       "</style>\n",
       "<table border=\"1\" class=\"dataframe\">\n",
       "  <thead>\n",
       "    <tr style=\"text-align: right;\">\n",
       "      <th></th>\n",
       "      <th>target</th>\n",
       "    </tr>\n",
       "  </thead>\n",
       "  <tbody>\n",
       "    <tr>\n",
       "      <th>66270</th>\n",
       "      <td>0</td>\n",
       "    </tr>\n",
       "    <tr>\n",
       "      <th>428045</th>\n",
       "      <td>0</td>\n",
       "    </tr>\n",
       "    <tr>\n",
       "      <th>1307927</th>\n",
       "      <td>1</td>\n",
       "    </tr>\n",
       "    <tr>\n",
       "      <th>1112400</th>\n",
       "      <td>1</td>\n",
       "    </tr>\n",
       "    <tr>\n",
       "      <th>840793</th>\n",
       "      <td>1</td>\n",
       "    </tr>\n",
       "  </tbody>\n",
       "</table>\n",
       "</div>"
      ],
      "text/plain": [
       "         target\n",
       "66270         0\n",
       "428045        0\n",
       "1307927       1\n",
       "1112400       1\n",
       "840793        1"
      ]
     },
     "execution_count": 9,
     "metadata": {},
     "output_type": "execute_result"
    }
   ],
   "source": [
    "y_train.head()"
   ]
  },
  {
   "cell_type": "code",
   "execution_count": 10,
   "metadata": {},
   "outputs": [],
   "source": [
    "# save train and test indices\n",
    "trainpath = os.path.join(raw_path, \"train_ix.npy\")\n",
    "testpath = os.path.join(raw_path, \"test_ix.npy\")\n",
    "\n",
    "with open(trainpath, 'wb') as f:\n",
    "    np.save(f, np.array(y_train.index))\n",
    "    \n",
    "with open(testpath, 'wb') as f:\n",
    "    np.save(f, np.array(y_test.index))"
   ]
  },
  {
   "cell_type": "code",
   "execution_count": 11,
   "metadata": {},
   "outputs": [],
   "source": [
    "# Save train and test sets (index=True does not preserve split indices)\n",
    "X_train.to_csv(os.path.join(raw_path, \"X_train.csv\"), index=False) \n",
    "X_test.to_csv(os.path.join(raw_path, \"X_test.csv\"), index=False)\n",
    "y_train.to_csv(os.path.join(raw_path, \"y_train.csv\"), index=False)\n",
    "y_test.to_csv(os.path.join(raw_path, \"y_test.csv\"), index=False)"
   ]
  },
  {
   "cell_type": "code",
   "execution_count": 12,
   "metadata": {},
   "outputs": [
    {
     "name": "stdout",
     "output_type": "stream",
     "text": [
      "Time so far: 0 minute(s) and 31 second(s)\n"
     ]
    }
   ],
   "source": [
    "# print time so far\n",
    "\n",
    "mins, secs = divmod(time.time() - start_notebook, 60)\n",
    "print(f'Time so far: {mins:0.0f} minute(s) and {secs:0.0f} second(s)')"
   ]
  },
  {
   "cell_type": "markdown",
   "metadata": {},
   "source": [
    "### Cleanup Process"
   ]
  },
  {
   "cell_type": "markdown",
   "metadata": {},
   "source": [
    "All details of cleanup steps can be found in the custom script: `cleanup_module.py`\n",
    "\n",
    "Since my cleanup function entails heavy CPU-bound processes I use multiprocessing, splitting the data into 50k-row chunks which are processed 8 at a time (my laptop has 8 logical processors). The order of processing is asynchronous."
   ]
  },
  {
   "cell_type": "code",
   "execution_count": 13,
   "metadata": {
    "scrolled": true
   },
   "outputs": [
    {
     "name": "stdout",
     "output_type": "stream",
     "text": [
      "Saving X_train.2\n",
      "Saving X_train.8\n",
      "Saving X_train.3\n",
      "Saving X_train.4\n",
      "Saving X_train.5\n",
      "Saving X_train.1\n",
      "Saving X_train.6\n",
      "Saving X_train.7\n",
      "Saving X_train.10\n",
      "Saving X_train.9\n",
      "Saving X_train.15\n",
      "Saving X_train.11\n",
      "Saving X_train.16\n",
      "Saving X_train.12\n",
      "Saving X_train.13\n",
      "Saving X_train.14\n",
      "Saving X_train.18\n",
      "Saving X_train.17\n",
      "Saving X_train.20\n",
      "Saving X_train.22\n",
      "Saving X_train.19\n",
      "Saving X_train.21\n",
      "Saving X_train.23\n",
      "Saving X_train.24\n",
      "Cleanup time: 2 minute(s) and 33 second(s).\n"
     ]
    }
   ],
   "source": [
    "cmd = 'python cleanup_module.py X_train'\n",
    "!{cmd}"
   ]
  },
  {
   "cell_type": "markdown",
   "metadata": {},
   "source": [
    "### X_clean $\\Rightarrow$ train_ix $\\Rightarrow$ raw data"
   ]
  },
  {
   "cell_type": "markdown",
   "metadata": {},
   "source": [
    "After loading a cleaned subset we trace the path backward to the raw data via the train indices, using the ranges passed to the multiprocessing executor in `cleanup_module.py`:\n",
    "\n",
    "- Ex. this set of parameters shows that the cleaned data subset 6 contains the range from 250000 to 300000:\n",
    "\n",
    "```\n",
    "(X_name, range( 250000,  300001),  6)\n",
    "```"
   ]
  },
  {
   "cell_type": "code",
   "execution_count": 14,
   "metadata": {},
   "outputs": [],
   "source": [
    "# loading example train subset 6\n",
    "clean_path = os.path.join(\"..\",\"data\",\"2_clean\",\"sentiment140\")\n",
    "filename = \"X_train.6.csv\"\n",
    "filepath = os.path.join(clean_path, filename)\n",
    "\n",
    "X_clean =  pd.read_csv(filepath)"
   ]
  },
  {
   "cell_type": "code",
   "execution_count": 15,
   "metadata": {},
   "outputs": [
    {
     "data": {
      "text/html": [
       "<div>\n",
       "<style scoped>\n",
       "    .dataframe tbody tr th:only-of-type {\n",
       "        vertical-align: middle;\n",
       "    }\n",
       "\n",
       "    .dataframe tbody tr th {\n",
       "        vertical-align: top;\n",
       "    }\n",
       "\n",
       "    .dataframe thead th {\n",
       "        text-align: right;\n",
       "    }\n",
       "</style>\n",
       "<table border=\"1\" class=\"dataframe\">\n",
       "  <thead>\n",
       "    <tr style=\"text-align: right;\">\n",
       "      <th></th>\n",
       "      <th>username</th>\n",
       "      <th>text</th>\n",
       "      <th>lemmatized</th>\n",
       "    </tr>\n",
       "  </thead>\n",
       "  <tbody>\n",
       "    <tr>\n",
       "      <th>0</th>\n",
       "      <td>willysandi</td>\n",
       "      <td>i am so sleepy but there's still lots of assig...</td>\n",
       "      <td>i am so sleepy but there still lot assignment ...</td>\n",
       "    </tr>\n",
       "    <tr>\n",
       "      <th>1</th>\n",
       "      <td>brandyf82</td>\n",
       "      <td>thinks its great how one person can make you f...</td>\n",
       "      <td>think great how one person can make you feel w...</td>\n",
       "    </tr>\n",
       "    <tr>\n",
       "      <th>2</th>\n",
       "      <td>warfoot</td>\n",
       "      <td>Got the BrainBone daily question right!  - htt...</td>\n",
       "      <td>got brainbone daily question right URL</td>\n",
       "    </tr>\n",
       "    <tr>\n",
       "      <th>3</th>\n",
       "      <td>sydeshow</td>\n",
       "      <td>@tinayayo Girl, I get out a lot but you put me...</td>\n",
       "      <td>USERNAME girl i get out lot but you put me my ...</td>\n",
       "    </tr>\n",
       "    <tr>\n",
       "      <th>4</th>\n",
       "      <td>__JANEDOE</td>\n",
       "      <td>sitting at my desk... doing nothing. i look ar...</td>\n",
       "      <td>sitting my desk doing nothing i look around al...</td>\n",
       "    </tr>\n",
       "    <tr>\n",
       "      <th>5</th>\n",
       "      <td>lordtrilink</td>\n",
       "      <td>@guaranteedjuicy Wishful thinking?</td>\n",
       "      <td>USERNAME wishful thinking</td>\n",
       "    </tr>\n",
       "    <tr>\n",
       "      <th>6</th>\n",
       "      <td>eirwen29</td>\n",
       "      <td>@acoffinyoursize I was going to buy it today! ...</td>\n",
       "      <td>USERNAME i going buy today then my bank accoun...</td>\n",
       "    </tr>\n",
       "    <tr>\n",
       "      <th>7</th>\n",
       "      <td>Kerry_0</td>\n",
       "      <td>I want a Crabby Patty</td>\n",
       "      <td>i want crabby patty</td>\n",
       "    </tr>\n",
       "    <tr>\n",
       "      <th>8</th>\n",
       "      <td>Megann57</td>\n",
       "      <td>@coakay123 I'm gonna direct message you.</td>\n",
       "      <td>USERNAME im gon na direct message you</td>\n",
       "    </tr>\n",
       "    <tr>\n",
       "      <th>9</th>\n",
       "      <td>Miss_Grace</td>\n",
       "      <td>Got to wait till 10  Its taking forever!</td>\n",
       "      <td>got wait till 10 taking forever</td>\n",
       "    </tr>\n",
       "  </tbody>\n",
       "</table>\n",
       "</div>"
      ],
      "text/plain": [
       "      username                                               text  \\\n",
       "0   willysandi  i am so sleepy but there's still lots of assig...   \n",
       "1    brandyf82  thinks its great how one person can make you f...   \n",
       "2      warfoot  Got the BrainBone daily question right!  - htt...   \n",
       "3     sydeshow  @tinayayo Girl, I get out a lot but you put me...   \n",
       "4    __JANEDOE  sitting at my desk... doing nothing. i look ar...   \n",
       "5  lordtrilink                @guaranteedjuicy Wishful thinking?    \n",
       "6     eirwen29  @acoffinyoursize I was going to buy it today! ...   \n",
       "7      Kerry_0                             I want a Crabby Patty    \n",
       "8     Megann57          @coakay123 I'm gonna direct message you.    \n",
       "9   Miss_Grace           Got to wait till 10  Its taking forever!   \n",
       "\n",
       "                                          lemmatized  \n",
       "0  i am so sleepy but there still lot assignment ...  \n",
       "1  think great how one person can make you feel w...  \n",
       "2             got brainbone daily question right URL  \n",
       "3  USERNAME girl i get out lot but you put me my ...  \n",
       "4  sitting my desk doing nothing i look around al...  \n",
       "5                          USERNAME wishful thinking  \n",
       "6  USERNAME i going buy today then my bank accoun...  \n",
       "7                                i want crabby patty  \n",
       "8              USERNAME im gon na direct message you  \n",
       "9                    got wait till 10 taking forever  "
      ]
     },
     "execution_count": 15,
     "metadata": {},
     "output_type": "execute_result"
    }
   ],
   "source": [
    "X_clean.head(10)"
   ]
  },
  {
   "cell_type": "code",
   "execution_count": 16,
   "metadata": {},
   "outputs": [],
   "source": [
    "# loading previously saved train indices\n",
    "with open(os.path.join(raw_path, 'train_ix.npy'), 'rb') as f:\n",
    "    train_ix = np.load(f)"
   ]
  },
  {
   "cell_type": "code",
   "execution_count": 17,
   "metadata": {},
   "outputs": [],
   "source": [
    "# unit test: recovered train ix match X_train ix?\n",
    "assert train_ix[250000:250010].all() == X_train.iloc[250000:250010, ].index.all()"
   ]
  },
  {
   "cell_type": "code",
   "execution_count": 18,
   "metadata": {},
   "outputs": [
    {
     "data": {
      "text/html": [
       "<div>\n",
       "<style scoped>\n",
       "    .dataframe tbody tr th:only-of-type {\n",
       "        vertical-align: middle;\n",
       "    }\n",
       "\n",
       "    .dataframe tbody tr th {\n",
       "        vertical-align: top;\n",
       "    }\n",
       "\n",
       "    .dataframe thead th {\n",
       "        text-align: right;\n",
       "    }\n",
       "</style>\n",
       "<table border=\"1\" class=\"dataframe\">\n",
       "  <thead>\n",
       "    <tr style=\"text-align: right;\">\n",
       "      <th></th>\n",
       "      <th>Polarity</th>\n",
       "      <th>ID</th>\n",
       "      <th>Username</th>\n",
       "      <th>Text</th>\n",
       "    </tr>\n",
       "  </thead>\n",
       "  <tbody>\n",
       "    <tr>\n",
       "      <th>127175</th>\n",
       "      <td>0</td>\n",
       "      <td>1834669916</td>\n",
       "      <td>willysandi</td>\n",
       "      <td>i am so sleepy but there's still lots of assig...</td>\n",
       "    </tr>\n",
       "    <tr>\n",
       "      <th>1521865</th>\n",
       "      <td>4</td>\n",
       "      <td>2176374015</td>\n",
       "      <td>brandyf82</td>\n",
       "      <td>thinks its great how one person can make you f...</td>\n",
       "    </tr>\n",
       "    <tr>\n",
       "      <th>1028707</th>\n",
       "      <td>4</td>\n",
       "      <td>1932667098</td>\n",
       "      <td>warfoot</td>\n",
       "      <td>Got the BrainBone daily question right!  - htt...</td>\n",
       "    </tr>\n",
       "    <tr>\n",
       "      <th>327835</th>\n",
       "      <td>0</td>\n",
       "      <td>2010059197</td>\n",
       "      <td>sydeshow</td>\n",
       "      <td>@tinayayo Girl, I get out a lot but you put me...</td>\n",
       "    </tr>\n",
       "    <tr>\n",
       "      <th>865153</th>\n",
       "      <td>4</td>\n",
       "      <td>1677410625</td>\n",
       "      <td>__JANEDOE</td>\n",
       "      <td>sitting at my desk... doing nothing. i look ar...</td>\n",
       "    </tr>\n",
       "    <tr>\n",
       "      <th>1141972</th>\n",
       "      <td>4</td>\n",
       "      <td>1977246621</td>\n",
       "      <td>lordtrilink</td>\n",
       "      <td>@guaranteedjuicy Wishful thinking?</td>\n",
       "    </tr>\n",
       "    <tr>\n",
       "      <th>70329</th>\n",
       "      <td>0</td>\n",
       "      <td>1693625979</td>\n",
       "      <td>eirwen29</td>\n",
       "      <td>@acoffinyoursize I was going to buy it today! ...</td>\n",
       "    </tr>\n",
       "    <tr>\n",
       "      <th>49803</th>\n",
       "      <td>0</td>\n",
       "      <td>1678267176</td>\n",
       "      <td>Kerry_0</td>\n",
       "      <td>I want a Crabby Patty</td>\n",
       "    </tr>\n",
       "    <tr>\n",
       "      <th>1533460</th>\n",
       "      <td>4</td>\n",
       "      <td>2178502727</td>\n",
       "      <td>Megann57</td>\n",
       "      <td>@coakay123 I'm gonna direct message you.</td>\n",
       "    </tr>\n",
       "    <tr>\n",
       "      <th>444364</th>\n",
       "      <td>0</td>\n",
       "      <td>2067816745</td>\n",
       "      <td>Miss_Grace</td>\n",
       "      <td>Got to wait till 10  Its taking forever!</td>\n",
       "    </tr>\n",
       "  </tbody>\n",
       "</table>\n",
       "</div>"
      ],
      "text/plain": [
       "         Polarity          ID     Username  \\\n",
       "127175          0  1834669916   willysandi   \n",
       "1521865         4  2176374015    brandyf82   \n",
       "1028707         4  1932667098      warfoot   \n",
       "327835          0  2010059197     sydeshow   \n",
       "865153          4  1677410625    __JANEDOE   \n",
       "1141972         4  1977246621  lordtrilink   \n",
       "70329           0  1693625979     eirwen29   \n",
       "49803           0  1678267176      Kerry_0   \n",
       "1533460         4  2178502727     Megann57   \n",
       "444364          0  2067816745   Miss_Grace   \n",
       "\n",
       "                                                      Text  \n",
       "127175   i am so sleepy but there's still lots of assig...  \n",
       "1521865  thinks its great how one person can make you f...  \n",
       "1028707  Got the BrainBone daily question right!  - htt...  \n",
       "327835   @tinayayo Girl, I get out a lot but you put me...  \n",
       "865153   sitting at my desk... doing nothing. i look ar...  \n",
       "1141972                @guaranteedjuicy Wishful thinking?   \n",
       "70329    @acoffinyoursize I was going to buy it today! ...  \n",
       "49803                               I want a Crabby Patty   \n",
       "1533460          @coakay123 I'm gonna direct message you.   \n",
       "444364            Got to wait till 10  Its taking forever!  "
      ]
     },
     "execution_count": 18,
     "metadata": {},
     "output_type": "execute_result"
    }
   ],
   "source": [
    "# pass indces to raw data\n",
    "raw.iloc[list(train_ix[250000:250010]), ]"
   ]
  },
  {
   "cell_type": "code",
   "execution_count": 19,
   "metadata": {},
   "outputs": [
    {
     "data": {
      "text/html": [
       "<div>\n",
       "<style scoped>\n",
       "    .dataframe tbody tr th:only-of-type {\n",
       "        vertical-align: middle;\n",
       "    }\n",
       "\n",
       "    .dataframe tbody tr th {\n",
       "        vertical-align: top;\n",
       "    }\n",
       "\n",
       "    .dataframe thead th {\n",
       "        text-align: right;\n",
       "    }\n",
       "</style>\n",
       "<table border=\"1\" class=\"dataframe\">\n",
       "  <thead>\n",
       "    <tr style=\"text-align: right;\">\n",
       "      <th></th>\n",
       "      <th>target</th>\n",
       "    </tr>\n",
       "  </thead>\n",
       "  <tbody>\n",
       "    <tr>\n",
       "      <th>127175</th>\n",
       "      <td>0</td>\n",
       "    </tr>\n",
       "    <tr>\n",
       "      <th>1521865</th>\n",
       "      <td>1</td>\n",
       "    </tr>\n",
       "    <tr>\n",
       "      <th>1028707</th>\n",
       "      <td>1</td>\n",
       "    </tr>\n",
       "    <tr>\n",
       "      <th>327835</th>\n",
       "      <td>0</td>\n",
       "    </tr>\n",
       "    <tr>\n",
       "      <th>865153</th>\n",
       "      <td>1</td>\n",
       "    </tr>\n",
       "    <tr>\n",
       "      <th>1141972</th>\n",
       "      <td>1</td>\n",
       "    </tr>\n",
       "    <tr>\n",
       "      <th>70329</th>\n",
       "      <td>0</td>\n",
       "    </tr>\n",
       "    <tr>\n",
       "      <th>49803</th>\n",
       "      <td>0</td>\n",
       "    </tr>\n",
       "    <tr>\n",
       "      <th>1533460</th>\n",
       "      <td>1</td>\n",
       "    </tr>\n",
       "    <tr>\n",
       "      <th>444364</th>\n",
       "      <td>0</td>\n",
       "    </tr>\n",
       "  </tbody>\n",
       "</table>\n",
       "</div>"
      ],
      "text/plain": [
       "         target\n",
       "127175        0\n",
       "1521865       1\n",
       "1028707       1\n",
       "327835        0\n",
       "865153        1\n",
       "1141972       1\n",
       "70329         0\n",
       "49803         0\n",
       "1533460       1\n",
       "444364        0"
      ]
     },
     "execution_count": 19,
     "metadata": {},
     "output_type": "execute_result"
    }
   ],
   "source": [
    "# confirm y_train has correct target vals\n",
    "y_train[250000:250010]"
   ]
  },
  {
   "cell_type": "markdown",
   "metadata": {},
   "source": [
    "---"
   ]
  },
  {
   "cell_type": "code",
   "execution_count": 20,
   "metadata": {},
   "outputs": [
    {
     "name": "stdout",
     "output_type": "stream",
     "text": [
      "Total running time: 3 minute(s) and 7 second(s)\n"
     ]
    }
   ],
   "source": [
    "# print total time\n",
    "mins, secs = divmod(time.time() - start_notebook, 60)\n",
    "print(f'Total running time: {mins:0.0f} minute(s) and {secs:0.0f} second(s)')"
   ]
  }
 ],
 "metadata": {
  "kernelspec": {
   "display_name": "Python 3",
   "language": "python",
   "name": "python3"
  },
  "language_info": {
   "codemirror_mode": {
    "name": "ipython",
    "version": 3
   },
   "file_extension": ".py",
   "mimetype": "text/x-python",
   "name": "python",
   "nbconvert_exporter": "python",
   "pygments_lexer": "ipython3",
   "version": "3.7.3"
  }
 },
 "nbformat": 4,
 "nbformat_minor": 4
}
