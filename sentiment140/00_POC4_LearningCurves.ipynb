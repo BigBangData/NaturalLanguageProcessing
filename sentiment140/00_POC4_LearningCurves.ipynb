{
 "cells": [
  {
   "cell_type": "markdown",
   "metadata": {},
   "source": [
    "# Twitter Sentiment Analysis - POC\n",
    "---\n",
    "\n",
    "## 6. Evaluate Several Models\n",
    "\n",
    "Before throwing a bunch of models at the data, I first want to design a method to understand how models are learning. Etc... \n",
    "\n",
    "TODO: EXPLANATIONS FOR LEARNING CURVES\n",
    "\n",
    "\n",
    "TODO: merge here? not a POC anymore if I'm not sampling down?"
   ]
  },
  {
   "cell_type": "code",
   "execution_count": null,
   "metadata": {},
   "outputs": [],
   "source": [
    "import re\n",
    "import os\n",
    "import time\n",
    "import json\n",
    "\n",
    "import numpy as np\n",
    "import pandas as pd\n",
    "\n",
    "import cleanup_module_POC as Cmod\n",
    "\n",
    "from sklearn.pipeline import Pipeline\n",
    "from sklearn.naive_bayes import MultinomialNB\n",
    "from sklearn.linear_model import LogisticRegression\n",
    "from sklearn.model_selection import cross_val_score"
   ]
  },
  {
   "cell_type": "code",
   "execution_count": 1,
   "metadata": {},
   "outputs": [],
   "source": [
    "# time notebook\n",
    "start_notebook = time.time()\n",
    "\n",
    "# load minimally prepared X, y train subsets\n",
    "raw_path = os.path.join(\"..\",\"data\",\"1_raw\",\"sentiment140\")\n",
    "X = pd.read_csv(os.path.join(raw_path, \"X_train.csv\"))\n",
    "y = pd.read_csv(os.path.join(raw_path, \"y_train.csv\"))"
   ]
  },
  {
   "cell_type": "code",
   "execution_count": 2,
   "metadata": {},
   "outputs": [
    {
     "name": "stdout",
     "output_type": "stream",
     "text": [
      "Dataset size: 1197471\n",
      "Target distribution: 0.499\n"
     ]
    }
   ],
   "source": [
    "print(f'Dataset size: {len(X):0.0f}')\n",
    "print(f'Target distribution: {sum(y[\"target\"])/len(y):0.3f}')"
   ]
  },
  {
   "cell_type": "code",
   "execution_count": 3,
   "metadata": {},
   "outputs": [
    {
     "data": {
      "text/html": [
       "<div>\n",
       "<style scoped>\n",
       "    .dataframe tbody tr th:only-of-type {\n",
       "        vertical-align: middle;\n",
       "    }\n",
       "\n",
       "    .dataframe tbody tr th {\n",
       "        vertical-align: top;\n",
       "    }\n",
       "\n",
       "    .dataframe thead th {\n",
       "        text-align: right;\n",
       "    }\n",
       "</style>\n",
       "<table border=\"1\" class=\"dataframe\">\n",
       "  <thead>\n",
       "    <tr style=\"text-align: right;\">\n",
       "      <th></th>\n",
       "      <th>ID</th>\n",
       "      <th>username</th>\n",
       "      <th>tweet</th>\n",
       "    </tr>\n",
       "  </thead>\n",
       "  <tbody>\n",
       "    <tr>\n",
       "      <th>0</th>\n",
       "      <td>1996787711</td>\n",
       "      <td>lifeischill</td>\n",
       "      <td>I went to frys to see andy and saw my BUD inst...</td>\n",
       "    </tr>\n",
       "    <tr>\n",
       "      <th>1</th>\n",
       "      <td>1985020349</td>\n",
       "      <td>knikkim</td>\n",
       "      <td>back home after brunch with church friends and...</td>\n",
       "    </tr>\n",
       "    <tr>\n",
       "      <th>2</th>\n",
       "      <td>1750930121</td>\n",
       "      <td>ginny9577</td>\n",
       "      <td>@specialk0478 yeah she's part lab, part spanie...</td>\n",
       "    </tr>\n",
       "    <tr>\n",
       "      <th>3</th>\n",
       "      <td>2063956079</td>\n",
       "      <td>kirstyhooper</td>\n",
       "      <td>kirsty is doing some ipd work!</td>\n",
       "    </tr>\n",
       "    <tr>\n",
       "      <th>4</th>\n",
       "      <td>1695806605</td>\n",
       "      <td>TwentyFour</td>\n",
       "      <td>@ScaryMommy   Sure!  My entire blogroll is ter...</td>\n",
       "    </tr>\n",
       "  </tbody>\n",
       "</table>\n",
       "</div>"
      ],
      "text/plain": [
       "           ID      username                                              tweet\n",
       "0  1996787711   lifeischill  I went to frys to see andy and saw my BUD inst...\n",
       "1  1985020349       knikkim  back home after brunch with church friends and...\n",
       "2  1750930121     ginny9577  @specialk0478 yeah she's part lab, part spanie...\n",
       "3  2063956079  kirstyhooper                    kirsty is doing some ipd work! \n",
       "4  1695806605    TwentyFour  @ScaryMommy   Sure!  My entire blogroll is ter..."
      ]
     },
     "execution_count": 3,
     "metadata": {},
     "output_type": "execute_result"
    }
   ],
   "source": [
    "X.head() # remember, original training indices saved in raw dir"
   ]
  },
  {
   "cell_type": "code",
   "execution_count": 4,
   "metadata": {},
   "outputs": [],
   "source": [
    "# transform into arrays\n",
    "X_array = np.array(X.iloc[:, 2]).ravel()\n",
    "y_array = y.iloc[:,0].ravel()"
   ]
  },
  {
   "cell_type": "code",
   "execution_count": 5,
   "metadata": {},
   "outputs": [
    {
     "name": "stdout",
     "output_type": "stream",
     "text": [
      "Preprocessing pipeline time: 12 minute(s) and 40 second(s).\n"
     ]
    }
   ],
   "source": [
    "# processed dir\n",
    "proc_dir = os.path.join(\"..\",\"data\",\"3_processed\",\"sentiment140\")\n",
    "\n",
    "try:\n",
    "    # load sparce matrices\n",
    "    X_train_transformed = sp.load_npz(os.path.join(proc_dir, \"X_train_transformed.npz\"))\n",
    "except:\n",
    "    preprocess_pipeline = Pipeline([\n",
    "        (\"document_to_wordcount\", Cmod.DocumentToWordCounterTransformer()),\n",
    "        (\"wordcount_to_vector\", Cmod.WordCounterToVectorTransformer()),\n",
    "    ])\n",
    "    start_pipeline = time.time()\n",
    "    X_train_transformed = preprocess_pipeline.fit_transform(X_array)\n",
    "    mins, secs = divmod(time.time() - start_pipeline, 60)\n",
    "    print(f'Preprocessing pipeline time: {mins:0.0f} minute(s) and {secs:0.0f} second(s).')"
   ]
  },
  {
   "cell_type": "code",
   "execution_count": 6,
   "metadata": {},
   "outputs": [
    {
     "data": {
      "text/plain": [
       "<1197471x1001 sparse matrix of type '<class 'numpy.int32'>'\n",
       "\twith 10503967 stored elements in Compressed Sparse Row format>"
      ]
     },
     "execution_count": 6,
     "metadata": {},
     "output_type": "execute_result"
    }
   ],
   "source": [
    "X_train_transformed"
   ]
  },
  {
   "cell_type": "markdown",
   "metadata": {},
   "source": [
    "First training the full data on previous models."
   ]
  },
  {
   "cell_type": "code",
   "execution_count": 7,
   "metadata": {},
   "outputs": [
    {
     "name": "stderr",
     "output_type": "stream",
     "text": [
      "[Parallel(n_jobs=1)]: Using backend SequentialBackend with 1 concurrent workers.\n"
     ]
    },
    {
     "name": "stdout",
     "output_type": "stream",
     "text": [
      "[CV]  ................................................................\n",
      "[CV] .................................... , score=0.756, total=   0.7s\n",
      "[CV]  ................................................................\n"
     ]
    },
    {
     "name": "stderr",
     "output_type": "stream",
     "text": [
      "[Parallel(n_jobs=1)]: Done   1 out of   1 | elapsed:    0.9s remaining:    0.0s\n"
     ]
    },
    {
     "name": "stdout",
     "output_type": "stream",
     "text": [
      "[CV] .................................... , score=0.756, total=   0.7s\n",
      "[CV]  ................................................................\n"
     ]
    },
    {
     "name": "stderr",
     "output_type": "stream",
     "text": [
      "[Parallel(n_jobs=1)]: Done   2 out of   2 | elapsed:    1.6s remaining:    0.0s\n"
     ]
    },
    {
     "name": "stdout",
     "output_type": "stream",
     "text": [
      "[CV] .................................... , score=0.758, total=   0.7s\n",
      "[CV]  ................................................................\n",
      "[CV] .................................... , score=0.754, total=   0.7s\n",
      "[CV]  ................................................................\n",
      "[CV] .................................... , score=0.756, total=   0.7s\n",
      "[CV]  ................................................................\n",
      "[CV] .................................... , score=0.756, total=   0.7s\n",
      "[CV]  ................................................................\n",
      "[CV] .................................... , score=0.753, total=   0.8s\n",
      "[CV]  ................................................................\n",
      "[CV] .................................... , score=0.755, total=   0.8s\n",
      "[CV]  ................................................................\n",
      "[CV] .................................... , score=0.754, total=   0.8s\n",
      "[CV]  ................................................................\n",
      "[CV] .................................... , score=0.754, total=   0.8s\n",
      "Mean accuracy: 0.7551982461735232\n"
     ]
    },
    {
     "name": "stderr",
     "output_type": "stream",
     "text": [
      "[Parallel(n_jobs=1)]: Done  10 out of  10 | elapsed:    7.7s finished\n"
     ]
    }
   ],
   "source": [
    "NB_clf = MultinomialNB()\n",
    "score = cross_val_score(NB_clf, X_train_transformed, y_array, cv=10, verbose=3, scoring='accuracy')\n",
    "print('Mean accuracy: ' + str(score.mean()))"
   ]
  },
  {
   "cell_type": "code",
   "execution_count": 9,
   "metadata": {},
   "outputs": [
    {
     "name": "stderr",
     "output_type": "stream",
     "text": [
      "[Parallel(n_jobs=1)]: Using backend SequentialBackend with 1 concurrent workers.\n"
     ]
    },
    {
     "name": "stdout",
     "output_type": "stream",
     "text": [
      "[CV]  ................................................................\n",
      "[CV] .................................... , score=0.770, total=  19.1s\n",
      "[CV]  ................................................................\n"
     ]
    },
    {
     "name": "stderr",
     "output_type": "stream",
     "text": [
      "[Parallel(n_jobs=1)]: Done   1 out of   1 | elapsed:   19.4s remaining:    0.0s\n"
     ]
    },
    {
     "name": "stdout",
     "output_type": "stream",
     "text": [
      "[CV] .................................... , score=0.770, total=  19.0s\n",
      "[CV]  ................................................................\n"
     ]
    },
    {
     "name": "stderr",
     "output_type": "stream",
     "text": [
      "[Parallel(n_jobs=1)]: Done   2 out of   2 | elapsed:   38.4s remaining:    0.0s\n"
     ]
    },
    {
     "name": "stdout",
     "output_type": "stream",
     "text": [
      "[CV] .................................... , score=0.769, total=  19.1s\n",
      "[CV]  ................................................................\n",
      "[CV] .................................... , score=0.769, total=  18.8s\n",
      "[CV]  ................................................................\n",
      "[CV] .................................... , score=0.769, total=  17.9s\n",
      "[CV]  ................................................................\n",
      "[CV] .................................... , score=0.769, total=  19.3s\n",
      "[CV]  ................................................................\n",
      "[CV] .................................... , score=0.767, total=  19.3s\n",
      "[CV]  ................................................................\n",
      "[CV] .................................... , score=0.770, total=  19.1s\n",
      "[CV]  ................................................................\n",
      "[CV] .................................... , score=0.769, total=  19.7s\n",
      "[CV]  ................................................................\n",
      "[CV] .................................... , score=0.768, total=  18.2s\n",
      "Mean accuracy: 0.7690207103376425\n"
     ]
    },
    {
     "name": "stderr",
     "output_type": "stream",
     "text": [
      "[Parallel(n_jobs=1)]: Done  10 out of  10 | elapsed:  3.2min finished\n"
     ]
    }
   ],
   "source": [
    "log_clf = LogisticRegression(solver=\"liblinear\", random_state=42)\n",
    "score = cross_val_score(log_clf, X_train_transformed, y_array, cv=10, verbose=3, scoring='accuracy')\n",
    "print('Mean accuracy: ' + str(score.mean()))"
   ]
  },
  {
   "cell_type": "markdown",
   "metadata": {},
   "source": [
    "#### Save X_train_transformed in the processed folder."
   ]
  },
  {
   "cell_type": "code",
   "execution_count": 11,
   "metadata": {},
   "outputs": [],
   "source": [
    "import scipy.sparse as sp\n",
    "\n",
    "save_dir = os.path.join(\"..\",\"data\",\"3_processed\",\"sentiment140\")\n",
    "sp.save_npz(os.path.join(save_dir, 'X_train_transformed.npz'), X_train_transformed)"
   ]
  },
  {
   "cell_type": "markdown",
   "metadata": {},
   "source": [
    "#### Learning Curves, n=1000, feed m"
   ]
  },
  {
   "cell_type": "code",
   "execution_count": null,
   "metadata": {},
   "outputs": [],
   "source": [
    "from sklearn.metrics import accuracy_score\n",
    "import matplotlib.pyplot as plt\n",
    "\n",
    "def plot_learning_curves_feed_m(model, X, y, Xname):\n",
    "    \"\"\"Plot the learning curves for train and validation sets\n",
    "       , by adding more rows (m) and keeping the number of \n",
    "       features (n) constant.\n",
    "       Args:\n",
    "           model: a classifier\n",
    "           X: sparce matrix of features\n",
    "           y: target vector\n",
    "           Xname: vectorization method\n",
    "       Evaluates accuracy (TODO: implement other metrics)\n",
    "    \"\"\"\n",
    "    X_train, X_valid, y_train, y_valid = train_test_split(X, y, \n",
    "                                                          test_size=0.2, \n",
    "                                                          random_state=42)\n",
    "    # train\n",
    "    # change data granularity (denominator) for more data points\n",
    "    data_granularity = int(X_train.shape[0]/10)\n",
    "    xs = []\n",
    "    train_acc = []\n",
    "    valid_acc = []\n",
    "    for m in range(10, X_train.shape[0], data_granularity):       \n",
    "        model.fit(X_train[:m], y_train[:m])\n",
    "        y_train_predict = model.predict(X_train[:m])\n",
    "        y_valid_predict = model.predict(X_valid)\n",
    "        train_acc.append(accuracy_score(y_train[:m], y_train_predict))\n",
    "        valid_acc.append(accuracy_score(y_valid, y_valid_predict))\n",
    "        xs.append(str(m-1))\n",
    "    # plot\n",
    "    fig = plt.figure(figsize=(12, 6))\n",
    "    ax = fig.add_axes([0.0, \n",
    "                       # dynamically calculate number of x ticks\n",
    "                       round(X_train.shape[0]/data_granularity, 0), \n",
    "                       0.4, 0.8])\n",
    "    plt.plot(xs, np.sqrt(train_acc), 'r--', linewidth=.8, \n",
    "             label=\"train accuracy\")\n",
    "    plt.plot(xs, np.sqrt(valid_acc), 'b--', linewidth=.8, \n",
    "             label=\"validation accuracy\")\n",
    "    plt.xticks(rotation=45)\n",
    "    plt.title(''.join([\"Learning Rates for Training and Validation - \", \n",
    "                       Xname]), \n",
    "              fontsize=16)\n",
    "    plt.legend(loc=\"lower right\", fontsize=14)\n",
    "    plt.xlabel(\"Training Set Size\", fontsize=14)\n",
    "    plt.ylabel(\"Accuracy\", fontsize=14)\n",
    "    plt.show()"
   ]
  },
  {
   "cell_type": "code",
   "execution_count": null,
   "metadata": {},
   "outputs": [],
   "source": [
    "plot_learning_curves_feed_m(NB_clf, X_train_transformed, y_array, \n",
    "                     'Naive Bayes- BoW n=1000')"
   ]
  },
  {
   "cell_type": "code",
   "execution_count": null,
   "metadata": {},
   "outputs": [],
   "source": [
    "plot_learning_curves(log_clf, X_train_transformed, y_array, \n",
    "                     'Logistic Regression (liblinear) - BoW n=1000')"
   ]
  },
  {
   "cell_type": "markdown",
   "metadata": {},
   "source": [
    "#### Learning Curves, m=500k, feed n"
   ]
  },
  {
   "cell_type": "markdown",
   "metadata": {},
   "source": [
    "Since it would take too long to transform the entire 1.2M dataset using a lot of features, we pair it down to ~500k since the learning curves for these models do not improve after about 100k anyway (currently)."
   ]
  },
  {
   "cell_type": "code",
   "execution_count": null,
   "metadata": {},
   "outputs": [],
   "source": [
    "# sample down \n",
    "from sklearn.model_selection import train_test_split\n",
    "\n",
    "X, X_rest, y, y_rest = train_test_split(X_train, y_train, test_size=0.58, random_state=42)"
   ]
  },
  {
   "cell_type": "code",
   "execution_count": null,
   "metadata": {},
   "outputs": [],
   "source": [
    "len(X)"
   ]
  },
  {
   "cell_type": "code",
   "execution_count": null,
   "metadata": {},
   "outputs": [],
   "source": [
    "# transform into arrays\n",
    "X_array = np.array(X.iloc[:, 2]).ravel()\n",
    "y_array = y.iloc[:,0].ravel()"
   ]
  },
  {
   "cell_type": "code",
   "execution_count": null,
   "metadata": {},
   "outputs": [],
   "source": [
    "preprocess_pipeline = Pipeline([\n",
    "    (\"document_to_wordcount\", Cmod.DocumentToWordCounterTransformer()),\n",
    "    (\"wordcount_to_vector\", Cmod.WordCounterToVectorTransformer(vocabulary_size=50000)),\n",
    "])\n",
    "\n",
    "start_pipeline = time.time()\n",
    "X_train_transformed_50kfeat = preprocess_pipeline.fit_transform(X_array)\n",
    "mins, secs = divmod(time.time() - start_pipeline, 60)\n",
    "print(f'Preprocessing pipeline time: {mins:0.0f} minute(s) and {secs:0.0f} second(s).')"
   ]
  },
  {
   "cell_type": "code",
   "execution_count": null,
   "metadata": {},
   "outputs": [],
   "source": [
    "X_train_transformed_50kfeat"
   ]
  },
  {
   "cell_type": "code",
   "execution_count": null,
   "metadata": {},
   "outputs": [],
   "source": [
    "def plot_learning_curves_feed_n(model, X, y, Xname):\n",
    "    \"\"\"Plot the learning curves for train and validation sets,\n",
    "       by adding more features (n) and keeping the number of \n",
    "       rows (m) constant.\n",
    "       Args:\n",
    "           model: a classifier\n",
    "           X: sparce matrix of features\n",
    "           y: target vector\n",
    "           Xname: vectorization method\n",
    "       Evaluates accuracy (TODO: implement other metrics)\n",
    "    \"\"\"\n",
    "    X_train, X_valid, y_train, y_valid = train_test_split(X, y, \n",
    "                                                          test_size=0.2, \n",
    "                                                          random_state=42)\n",
    "    xs = []\n",
    "    train_acc = []\n",
    "    valid_acc = []\n",
    "    for n in range(500, 50001, 4500):\n",
    "        model.fit(X_train[:502937,:n], y_train)\n",
    "        y_train_predict = model.predict(X_train[:502937,:n])\n",
    "        y_valid_predict = model.predict(X_valid[:502937,:n])\n",
    "        train_acc.append(accuracy_score(y_train, y_train_predict))\n",
    "        valid_acc.append(accuracy_score(y_valid, y_valid_predict))\n",
    "        xs.append(str(n-1))\n",
    "\n",
    "    # plot\n",
    "    fig = plt.figure(figsize=(16, 6))\n",
    "    ax = fig.add_axes([0.0, \n",
    "                       # dynamically calculate number of x ticks\n",
    "                       len(range(500, 50001, 4500)), \n",
    "                       0.4, 0.8])\n",
    "    plt.plot(xs, np.sqrt(train_acc), 'r--', linewidth=.8, \n",
    "             label=\"train accuracy\")\n",
    "    plt.plot(xs, np.sqrt(valid_acc), 'b--', linewidth=.8, \n",
    "             label=\"validation accuracy\")\n",
    "    plt.xticks(rotation=45)\n",
    "    plt.title(''.join([\"Learning Rates for Training and Validation - \", \n",
    "                       Xname]), \n",
    "              fontsize=16)\n",
    "    plt.legend(loc=\"lower right\", fontsize=14)\n",
    "    plt.xlabel(\"Training Set Size\", fontsize=14)\n",
    "    plt.ylabel(\"Accuracy\", fontsize=14)\n",
    "    plt.show()"
   ]
  },
  {
   "cell_type": "code",
   "execution_count": null,
   "metadata": {},
   "outputs": [],
   "source": [
    "plot_learning_curves_feed_n(NB_clf, \n",
    "                            X_train_transformed_50kfeat, \n",
    "                            y_array, \n",
    "                            'Naive Bayes - BoW m=500k')"
   ]
  },
  {
   "cell_type": "code",
   "execution_count": null,
   "metadata": {},
   "outputs": [],
   "source": [
    "start_LR_plot = time.time()\n",
    "plot_learning_curves_feed_n(log_clf, \n",
    "                            X_train_transformed_50kfeat, \n",
    "                            y_array, \n",
    "                            'Logistic Regression - BoW m=500k')\n",
    "mins, secs = divmod(time.time() - start_LR_plot, 60)\n",
    "print(f'LR plot time: {mins:0.0f} minute(s) and {secs:0.0f} second(s).')"
   ]
  },
  {
   "cell_type": "code",
   "execution_count": null,
   "metadata": {},
   "outputs": [],
   "source": [
    "score = cross_val_score(NB_clf, X_train_transformed_50kfeat, y_array, cv=10, verbose=3, scoring='accuracy')\n",
    "print('Mean accuracy: ' + str(score.mean()))"
   ]
  },
  {
   "cell_type": "code",
   "execution_count": null,
   "metadata": {},
   "outputs": [],
   "source": [
    "score = cross_val_score(log_clf, X_train_transformed_50kfeat, y_array, cv=10, verbose=3, scoring='accuracy')\n",
    "print('Mean accuracy: ' + str(score.mean()))"
   ]
  },
  {
   "cell_type": "code",
   "execution_count": null,
   "metadata": {},
   "outputs": [],
   "source": [
    "# time notebook\n",
    "mins, secs = divmod(time.time() - start_notebook, 60)\n",
    "print(f'Total running time: {mins:0.0f} minute(s) and {secs:0.0f} second(s).')"
   ]
  },
  {
   "cell_type": "markdown",
   "metadata": {},
   "source": [
    "---"
   ]
  }
 ],
 "metadata": {
  "kernelspec": {
   "display_name": "Python 3",
   "language": "python",
   "name": "python3"
  },
  "language_info": {
   "codemirror_mode": {
    "name": "ipython",
    "version": 3
   },
   "file_extension": ".py",
   "mimetype": "text/x-python",
   "name": "python",
   "nbconvert_exporter": "python",
   "pygments_lexer": "ipython3",
   "version": "3.7.3"
  }
 },
 "nbformat": 4,
 "nbformat_minor": 4
}
