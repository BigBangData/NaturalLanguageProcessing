{
 "cells": [
  {
   "cell_type": "markdown",
   "metadata": {},
   "source": [
    "# Twitter Sentiment Analysis - POC\n",
    "---\n",
    "\n",
    "## 7. Quickly train various models\n",
    "\n",
    "**Current State**: I've trained three baseline models without much tweaking on BoW matrices and using cross validation got the following accuracy scores:\n",
    "\n",
    "- Logistic Regression: $78.8\\%$\n",
    "- Naive Bayes: $77.6\\%$ \n",
    "- SGD (log loss): $77.1\\%$ \n",
    "\n",
    "**Next Steps**: Train Decision Trees.\n"
   ]
  },
  {
   "cell_type": "code",
   "execution_count": 1,
   "metadata": {},
   "outputs": [],
   "source": [
    "import re\n",
    "import os\n",
    "import time\n",
    "import json\n",
    "\n",
    "import numpy as np\n",
    "import pandas as pd\n",
    "import scipy.sparse as sp\n",
    "\n",
    "from sklearn.tree import DecisionTreeClassifier \n",
    "from sklearn.model_selection import cross_val_score\n",
    "from sklearn.model_selection import train_test_split\n",
    "from sklearn.metrics import accuracy_score"
   ]
  },
  {
   "cell_type": "markdown",
   "metadata": {},
   "source": [
    "### Load $m\\approx250k$, $n=50k$ training subset"
   ]
  },
  {
   "cell_type": "code",
   "execution_count": 2,
   "metadata": {},
   "outputs": [],
   "source": [
    "# time notebook\n",
    "start_notebook = time.time()\n",
    "\n",
    "# processed dir\n",
    "proc_dir = os.path.join(\"..\",\"data\",\"3_processed\",\"sentiment140\")\n",
    "X_train_transformed = sp.load_npz(os.path.join(proc_dir, \"X_train_transformed_BoW_250k_50k.npz\"))\n",
    "with open(os.path.join(proc_dir, \"y_array_250k.npy\"), 'rb') as f:\n",
    "    y_array = np.load(f)"
   ]
  },
  {
   "cell_type": "code",
   "execution_count": 3,
   "metadata": {},
   "outputs": [
    {
     "data": {
      "text/plain": [
       "(<251468x50001 sparse matrix of type '<class 'numpy.int32'>'\n",
       " \twith 2569112 stored elements in Compressed Sparse Row format>,\n",
       " 251468)"
      ]
     },
     "execution_count": 3,
     "metadata": {},
     "output_type": "execute_result"
    }
   ],
   "source": [
    "# sanity check\n",
    "X_train_transformed, len(y_array)"
   ]
  },
  {
   "cell_type": "markdown",
   "metadata": {},
   "source": [
    "### Decision Trees\n"
   ]
  },
  {
   "cell_type": "code",
   "execution_count": 4,
   "metadata": {},
   "outputs": [],
   "source": [
    "X_train, X_test, y_train, y_test = train_test_split(X_train_transformed, \n",
    "                                                    y_array, \n",
    "                                                    test_size=0.25, \n",
    "                                                    random_state=2)"
   ]
  },
  {
   "cell_type": "code",
   "execution_count": 5,
   "metadata": {},
   "outputs": [],
   "source": [
    "clf = DecisionTreeClassifier(criterion=\"gini\", max_depth=5, random_state=42)"
   ]
  },
  {
   "cell_type": "code",
   "execution_count": 6,
   "metadata": {},
   "outputs": [
    {
     "name": "stdout",
     "output_type": "stream",
     "text": [
      "Time: 0 mins and 14 secs\n"
     ]
    }
   ],
   "source": [
    "start_time = time.time()\n",
    "clf.fit(X_train, y_train)\n",
    "mins, secs = divmod(time.time() - start_time, 60)\n",
    "print(f'Time: {mins:0.0f} mins and {secs:0.0f} secs')"
   ]
  },
  {
   "cell_type": "code",
   "execution_count": 7,
   "metadata": {},
   "outputs": [],
   "source": [
    "y_pred = clf.predict(X_test)"
   ]
  },
  {
   "cell_type": "code",
   "execution_count": 8,
   "metadata": {},
   "outputs": [
    {
     "name": "stdout",
     "output_type": "stream",
     "text": [
      "Accuracy: 0.632\n"
     ]
    }
   ],
   "source": [
    "print(\"Accuracy:\", round(accuracy_score(y_test, y_pred), 4))"
   ]
  },
  {
   "cell_type": "code",
   "execution_count": 9,
   "metadata": {},
   "outputs": [
    {
     "name": "stdout",
     "output_type": "stream",
     "text": [
      "[CV]  ................................................................\n"
     ]
    },
    {
     "name": "stderr",
     "output_type": "stream",
     "text": [
      "[Parallel(n_jobs=1)]: Using backend SequentialBackend with 1 concurrent workers.\n"
     ]
    },
    {
     "name": "stdout",
     "output_type": "stream",
     "text": [
      "[CV] .................................... , score=0.631, total=   4.9s\n",
      "[CV]  ................................................................\n"
     ]
    },
    {
     "name": "stderr",
     "output_type": "stream",
     "text": [
      "[Parallel(n_jobs=1)]: Done   1 out of   1 | elapsed:    4.9s remaining:    0.0s\n"
     ]
    },
    {
     "name": "stdout",
     "output_type": "stream",
     "text": [
      "[CV] .................................... , score=0.633, total=   7.0s\n",
      "[CV]  ................................................................\n"
     ]
    },
    {
     "name": "stderr",
     "output_type": "stream",
     "text": [
      "[Parallel(n_jobs=1)]: Done   2 out of   2 | elapsed:   11.9s remaining:    0.0s\n"
     ]
    },
    {
     "name": "stdout",
     "output_type": "stream",
     "text": [
      "[CV] .................................... , score=0.632, total=   8.7s\n",
      "[CV]  ................................................................\n",
      "[CV] .................................... , score=0.632, total=   8.9s\n",
      "[CV]  ................................................................\n",
      "[CV] .................................... , score=0.629, total=   8.8s\n",
      "Accuracy: 0.63 (+/- 0.00)\n"
     ]
    },
    {
     "name": "stderr",
     "output_type": "stream",
     "text": [
      "[Parallel(n_jobs=1)]: Done   5 out of   5 | elapsed:   38.4s finished\n"
     ]
    }
   ],
   "source": [
    "# Cross validate with entire 250k rows\n",
    "scores = cross_val_score(clf, X_train_transformed, y_array, cv=5, verbose=3, scoring='accuracy')\n",
    "print(\"Accuracy: %0.2f (+/- %0.2f)\" % (scores.mean(), scores.std() * 2))"
   ]
  },
  {
   "cell_type": "markdown",
   "metadata": {},
   "source": [
    "### GridSearch too early?"
   ]
  },
  {
   "cell_type": "code",
   "execution_count": 37,
   "metadata": {},
   "outputs": [
    {
     "name": "stdout",
     "output_type": "stream",
     "text": [
      "Time: 3 mins and 10 secs\n"
     ]
    }
   ],
   "source": [
    "start_time = time.time()\n",
    "\n",
    "depth, runtime, accuracy = [], [], []\n",
    "for i in range(10, 410, 30):\n",
    "    clf = DecisionTreeClassifier(criterion=\"gini\", max_depth=i, random_state=42)\n",
    "    depth.append(i)\n",
    "    \n",
    "    start_time = time.time()\n",
    "    clf.fit(X_train, y_train)\n",
    "    runtime.append(round(time.time() - start_time, 1))\n",
    "    \n",
    "    y_pred = clf.predict(X_test)\n",
    "    accuracy.append(round(accuracy_score(y_test, y_pred), 4))\n",
    "    \n",
    "mins, secs = divmod(time.time() - start_time, 60)\n",
    "print(f'Time: {mins:0.0f} mins and {secs:0.0f} secs')"
   ]
  },
  {
   "cell_type": "code",
   "execution_count": 38,
   "metadata": {},
   "outputs": [
    {
     "data": {
      "text/html": [
       "<div>\n",
       "<style scoped>\n",
       "    .dataframe tbody tr th:only-of-type {\n",
       "        vertical-align: middle;\n",
       "    }\n",
       "\n",
       "    .dataframe tbody tr th {\n",
       "        vertical-align: top;\n",
       "    }\n",
       "\n",
       "    .dataframe thead th {\n",
       "        text-align: right;\n",
       "    }\n",
       "</style>\n",
       "<table border=\"1\" class=\"dataframe\">\n",
       "  <thead>\n",
       "    <tr style=\"text-align: right;\">\n",
       "      <th></th>\n",
       "      <th>depth</th>\n",
       "      <th>runtime</th>\n",
       "      <th>accuracy</th>\n",
       "    </tr>\n",
       "  </thead>\n",
       "  <tbody>\n",
       "    <tr>\n",
       "      <th>0</th>\n",
       "      <td>10</td>\n",
       "      <td>15.7</td>\n",
       "      <td>0.6545</td>\n",
       "    </tr>\n",
       "    <tr>\n",
       "      <th>1</th>\n",
       "      <td>40</td>\n",
       "      <td>37.3</td>\n",
       "      <td>0.6980</td>\n",
       "    </tr>\n",
       "    <tr>\n",
       "      <th>2</th>\n",
       "      <td>70</td>\n",
       "      <td>64.0</td>\n",
       "      <td>0.7082</td>\n",
       "    </tr>\n",
       "    <tr>\n",
       "      <th>3</th>\n",
       "      <td>100</td>\n",
       "      <td>80.7</td>\n",
       "      <td>0.7129</td>\n",
       "    </tr>\n",
       "    <tr>\n",
       "      <th>4</th>\n",
       "      <td>130</td>\n",
       "      <td>98.6</td>\n",
       "      <td>0.7158</td>\n",
       "    </tr>\n",
       "    <tr>\n",
       "      <th>5</th>\n",
       "      <td>160</td>\n",
       "      <td>123.4</td>\n",
       "      <td>0.7141</td>\n",
       "    </tr>\n",
       "    <tr>\n",
       "      <th>6</th>\n",
       "      <td>190</td>\n",
       "      <td>131.5</td>\n",
       "      <td>0.7146</td>\n",
       "    </tr>\n",
       "    <tr>\n",
       "      <th>7</th>\n",
       "      <td>220</td>\n",
       "      <td>138.1</td>\n",
       "      <td>0.7163</td>\n",
       "    </tr>\n",
       "    <tr>\n",
       "      <th>8</th>\n",
       "      <td>250</td>\n",
       "      <td>143.0</td>\n",
       "      <td>0.7144</td>\n",
       "    </tr>\n",
       "    <tr>\n",
       "      <th>9</th>\n",
       "      <td>280</td>\n",
       "      <td>145.3</td>\n",
       "      <td>0.7154</td>\n",
       "    </tr>\n",
       "    <tr>\n",
       "      <th>10</th>\n",
       "      <td>310</td>\n",
       "      <td>146.5</td>\n",
       "      <td>0.7163</td>\n",
       "    </tr>\n",
       "    <tr>\n",
       "      <th>11</th>\n",
       "      <td>340</td>\n",
       "      <td>296.2</td>\n",
       "      <td>0.7141</td>\n",
       "    </tr>\n",
       "    <tr>\n",
       "      <th>12</th>\n",
       "      <td>370</td>\n",
       "      <td>343.8</td>\n",
       "      <td>0.7141</td>\n",
       "    </tr>\n",
       "    <tr>\n",
       "      <th>13</th>\n",
       "      <td>400</td>\n",
       "      <td>189.9</td>\n",
       "      <td>0.7140</td>\n",
       "    </tr>\n",
       "  </tbody>\n",
       "</table>\n",
       "</div>"
      ],
      "text/plain": [
       "    depth  runtime  accuracy\n",
       "0      10     15.7    0.6545\n",
       "1      40     37.3    0.6980\n",
       "2      70     64.0    0.7082\n",
       "3     100     80.7    0.7129\n",
       "4     130     98.6    0.7158\n",
       "5     160    123.4    0.7141\n",
       "6     190    131.5    0.7146\n",
       "7     220    138.1    0.7163\n",
       "8     250    143.0    0.7144\n",
       "9     280    145.3    0.7154\n",
       "10    310    146.5    0.7163\n",
       "11    340    296.2    0.7141\n",
       "12    370    343.8    0.7141\n",
       "13    400    189.9    0.7140"
      ]
     },
     "execution_count": 38,
     "metadata": {},
     "output_type": "execute_result"
    }
   ],
   "source": [
    "df = pd.DataFrame(\n",
    "    {'depth': depth,\n",
    "     'runtime': runtime,\n",
    "     'accuracy': accuracy\n",
    "    })\n",
    "df"
   ]
  },
  {
   "cell_type": "code",
   "execution_count": null,
   "metadata": {},
   "outputs": [],
   "source": [
    "# Time was only the last iteration because start_time... yeah..."
   ]
  },
  {
   "cell_type": "code",
   "execution_count": 39,
   "metadata": {},
   "outputs": [
    {
     "name": "stdout",
     "output_type": "stream",
     "text": [
      "Total running time: 42 minute(s) and 25 second(s).\n"
     ]
    }
   ],
   "source": [
    "# time notebook\n",
    "mins, secs = divmod(time.time() - start_notebook, 60)\n",
    "print(f'Total running time: {mins:0.0f} minute(s) and {secs:0.0f} second(s).')"
   ]
  },
  {
   "cell_type": "markdown",
   "metadata": {},
   "source": [
    "---"
   ]
  }
 ],
 "metadata": {
  "kernelspec": {
   "display_name": "Python 3",
   "language": "python",
   "name": "python3"
  },
  "language_info": {
   "codemirror_mode": {
    "name": "ipython",
    "version": 3
   },
   "file_extension": ".py",
   "mimetype": "text/x-python",
   "name": "python",
   "nbconvert_exporter": "python",
   "pygments_lexer": "ipython3",
   "version": "3.7.3"
  }
 },
 "nbformat": 4,
 "nbformat_minor": 4
}
