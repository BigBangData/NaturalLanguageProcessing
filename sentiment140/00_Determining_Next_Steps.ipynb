{
 "cells": [
  {
   "cell_type": "markdown",
   "metadata": {},
   "source": [
    "## Determining Next Steps\n",
    "\n",
    "TODO:\n",
    "\n",
    "- Processed folder has great nomenclature for X but poor for y (and missing): Fix\n",
    "\n",
    "Current POC\n",
    "\n",
    "- POC9: Extra Trees and VarImp plots\n",
    "\n",
    "Next POC\n",
    "\n",
    "- adaboost and gradient boosting\n",
    "- SVC\n",
    "- ensembles\n",
    "\n",
    "Other Considerations\n",
    "\n",
    "- Try TextBlob?\n",
    "\n",
    "Better Representation\n",
    "\n",
    "- TF-IDF (see DSB)\n",
    "- Bag of N-grams\n",
    "- LSA/SVD\n",
    "\n",
    "Feature Engineering\n",
    "\n",
    "- TextLength, etc\n",
    "- CosineSimilarity \n",
    "- count of: punctuations, ascii chars, USERNAMEs, EMOJIs, URLs\n",
    "- tweet starts with USERNAME, or EMOJI, or URL, etc.\n",
    "- count of swear words, or negative words, or positive words, etc. (need lists)\n",
    "- semantic analysis research\n",
    "\n",
    "Feature Selection\n",
    "\n",
    "- Random Forest + VarImp plot \n",
    "- LASSO\n",
    "\n",
    "Direction\n",
    "\n",
    "- define goal and purpose.. what's the use case? App idea?\n",
    "- POC to full-blown: do not use full dataset unless it is warranted (learning curves)\n",
    "- multi-processing cleanup effort: verify whether developing a reproducible async method for cleanup is warranted; might be worth if iterating on representations and also for new twitterbot data\n",
    "- define evaluation metric better? If the goal is overall performance, the MCC (from sklearn.metrics import matthews_corrcoef) is probably preferred as it takes into account the entirety of the confusion matrix"
   ]
  },
  {
   "cell_type": "markdown",
   "metadata": {},
   "source": [
    "---"
   ]
  }
 ],
 "metadata": {
  "kernelspec": {
   "display_name": "Python 3",
   "language": "python",
   "name": "python3"
  },
  "language_info": {
   "codemirror_mode": {
    "name": "ipython",
    "version": 3
   },
   "file_extension": ".py",
   "mimetype": "text/x-python",
   "name": "python",
   "nbconvert_exporter": "python",
   "pygments_lexer": "ipython3",
   "version": "3.7.3"
  }
 },
 "nbformat": 4,
 "nbformat_minor": 4
}
