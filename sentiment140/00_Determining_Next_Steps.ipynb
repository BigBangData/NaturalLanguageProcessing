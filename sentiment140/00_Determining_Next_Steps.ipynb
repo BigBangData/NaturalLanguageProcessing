{
 "cells": [
  {
   "cell_type": "markdown",
   "metadata": {},
   "source": [
    "## Determining Next Steps\n",
    "\n",
    "TODO:\n",
    "\n",
    "- Processed folder has great nomenclature for X but poor for y (and missing): Fix\n",
    "\n",
    "Current State\n",
    "\n",
    "- POC4: underfitting with NB at 0.776 accuracy and LR at 0.788, unigram BoW, m=250k, n=50k\n",
    "\n",
    "\n",
    "Next POC\n",
    "\n",
    "- POC5: test more models:\n",
    "- SVG, SVM/SVC\n",
    "- tweaks to NB and LR\n",
    "- decision trees\n",
    "- random forests\n",
    "- xgboost, gbm?\n",
    "- others?\n",
    "\n",
    "Other Considerations\n",
    "\n",
    "- Look at actual predictions (text)\n",
    "- If we apply to Tweets without emoticons, predict sentiment correctly? (needs labelling effort)\n",
    "- Use TextBlob? Another method?\n",
    "- Research app idea\n",
    "\n",
    "Better Representation\n",
    "\n",
    "- TF-IDF (see DSB)\n",
    "- Bag of N-grams\n",
    "- LSA/SVD\n",
    "\n",
    "Feature Engineering\n",
    "\n",
    "- TextLength, etc\n",
    "- CosineSimilarity \n",
    "- count of: punctuations, ascii chars, USERNAMEs, EMOJIs, URLs\n",
    "- tweet starts with USERNAME, or EMOJI, or URL, etc.\n",
    "- count of swear words, or negative words, or positive words, etc. (need lists)\n",
    "- semantic analysis research\n",
    "\n",
    "Feature Selection\n",
    "\n",
    "- Random Forest + VarImp plot \n",
    "- LASSO\n",
    "\n",
    "Direction\n",
    "\n",
    "- define goal and purpose.. WHAT'S THE USE CASE?\n",
    "- POC to full-blown: do not use full dataset unless it is warranted (models appear to be increasing fit with more data)\n",
    "- multi-processing cleanup effort: verify whether developing a reproducible async method for cleanup is warranted; might be worth if iterating on representations and also for new twitterbot data\n",
    "- define evaluation metric better? If the goal is overall performance, the MCC (from sklearn.metrics import matthews_corrcoef) is probably preferred as it takes into account the entirety of the confusion matrix"
   ]
  },
  {
   "cell_type": "markdown",
   "metadata": {},
   "source": [
    "---"
   ]
  }
 ],
 "metadata": {
  "kernelspec": {
   "display_name": "Python 3",
   "language": "python",
   "name": "python3"
  },
  "language_info": {
   "codemirror_mode": {
    "name": "ipython",
    "version": 3
   },
   "file_extension": ".py",
   "mimetype": "text/x-python",
   "name": "python",
   "nbconvert_exporter": "python",
   "pygments_lexer": "ipython3",
   "version": "3.7.3"
  }
 },
 "nbformat": 4,
 "nbformat_minor": 4
}
