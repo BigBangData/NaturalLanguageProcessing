{
 "cells": [
  {
   "cell_type": "markdown",
   "metadata": {},
   "source": [
    "# Twitter Sentiment Analysis - POC\n",
    "---\n",
    "\n",
    "## 7. Quickly train various models\n",
    "\n",
    "**Current State**: I've trained two simple baseline models, Naive Bayes and Logistic Regression (liblinear), without much tweaking, on unigram Bag of Words (Bow) of  approximately $250k$ rows and $50k$ features. These simple models appear to be underfitting so throwing more data will not work. Naive Bayes achieved $77.6\\%$ accuracy and Logistic Regression $78.8\\%$.\n",
    "\n",
    "**Next Steps**: This notebook will quickly train a variety of models and short-list a few promising models, based on the same BoW processed data. Starting with SGD (hinge and log loss).\n",
    "\n",
    "**Future Direction**: After short-listing models, I'll iterate on the representation and feature engineering steps and test the baseline models again for comparison. Ideally, I'd reiterate on testing all sorts of models since a new representation might incur in different results for different models."
   ]
  },
  {
   "cell_type": "code",
   "execution_count": 1,
   "metadata": {},
   "outputs": [],
   "source": [
    "import re\n",
    "import os\n",
    "import time\n",
    "import json\n",
    "\n",
    "import numpy as np\n",
    "import pandas as pd\n",
    "import scipy.sparse as sp\n",
    "\n",
    "# SGD takes scaled data\n",
    "from sklearn.preprocessing import StandardScaler \n",
    "from sklearn.pipeline import make_pipeline\n",
    "\n",
    "# models\n",
    "from sklearn.linear_model import SGDClassifier\n",
    "\n",
    "# evaluation\n",
    "from sklearn.model_selection import cross_val_score\n",
    "from sklearn.model_selection import train_test_split"
   ]
  },
  {
   "cell_type": "markdown",
   "metadata": {},
   "source": [
    "### Load *X_train_transformed* with $m\\approx500k$ and $n=50k$"
   ]
  },
  {
   "cell_type": "code",
   "execution_count": 2,
   "metadata": {},
   "outputs": [],
   "source": [
    "# time notebook\n",
    "start_notebook = time.time()\n",
    "\n",
    "# processed dir\n",
    "proc_dir = os.path.join(\"..\",\"data\",\"3_processed\",\"sentiment140\")\n",
    "X_train_transformed = sp.load_npz(os.path.join(proc_dir, \"X_train_transformed_BoW_250k_50k.npz\"))"
   ]
  },
  {
   "cell_type": "code",
   "execution_count": 3,
   "metadata": {},
   "outputs": [
    {
     "data": {
      "text/plain": [
       "<251468x50001 sparse matrix of type '<class 'numpy.int32'>'\n",
       "\twith 2569112 stored elements in Compressed Sparse Row format>"
      ]
     },
     "execution_count": 3,
     "metadata": {},
     "output_type": "execute_result"
    }
   ],
   "source": [
    "X_train_transformed"
   ]
  },
  {
   "cell_type": "markdown",
   "metadata": {},
   "source": [
    "### Load y_array with $m\\approx500k$"
   ]
  },
  {
   "cell_type": "code",
   "execution_count": 4,
   "metadata": {},
   "outputs": [],
   "source": [
    "with open(os.path.join(proc_dir, \"y_array_250k.npy\"), 'rb') as f:\n",
    "    y = np.load(f)"
   ]
  },
  {
   "cell_type": "code",
   "execution_count": 15,
   "metadata": {},
   "outputs": [
    {
     "data": {
      "text/plain": [
       "(251468, array([1, 1, 0, 0, 1, 1, 0, 0, 1, 0], dtype=int64))"
      ]
     },
     "execution_count": 15,
     "metadata": {},
     "output_type": "execute_result"
    }
   ],
   "source": [
    "len(y), y[:10]"
   ]
  },
  {
   "cell_type": "markdown",
   "metadata": {},
   "source": [
    "### Stochastic Gradient Descent (SGD)\n",
    "\n",
    "Chosen because it trains quickly. "
   ]
  },
  {
   "cell_type": "code",
   "execution_count": 24,
   "metadata": {},
   "outputs": [],
   "source": [
    "SGD_clf = make_pipeline(\n",
    "                        StandardScaler(with_mean=False),\n",
    "                        SGDClassifier(max_iter=1000, \n",
    "                                      tol=1e-3, \n",
    "                                      loss='hinge', # default, linear SVM, try 'log' for Logistic Regression\n",
    "                                      warm_start=True,\n",
    "                                      random_state=42, \n",
    "                                      n_jobs=-1)\n",
    "                       )"
   ]
  },
  {
   "cell_type": "code",
   "execution_count": 25,
   "metadata": {},
   "outputs": [
    {
     "name": "stderr",
     "output_type": "stream",
     "text": [
      "[Parallel(n_jobs=1)]: Using backend SequentialBackend with 1 concurrent workers.\n"
     ]
    },
    {
     "name": "stdout",
     "output_type": "stream",
     "text": [
      "[CV]  ................................................................\n",
      "[CV] .................................... , score=0.740, total=  20.5s\n",
      "[CV]  ................................................................\n"
     ]
    },
    {
     "name": "stderr",
     "output_type": "stream",
     "text": [
      "[Parallel(n_jobs=1)]: Done   1 out of   1 | elapsed:   20.5s remaining:    0.0s\n"
     ]
    },
    {
     "name": "stdout",
     "output_type": "stream",
     "text": [
      "[CV] .................................... , score=0.738, total=  25.7s\n",
      "[CV]  ................................................................\n"
     ]
    },
    {
     "name": "stderr",
     "output_type": "stream",
     "text": [
      "[Parallel(n_jobs=1)]: Done   2 out of   2 | elapsed:   46.2s remaining:    0.0s\n"
     ]
    },
    {
     "name": "stdout",
     "output_type": "stream",
     "text": [
      "[CV] .................................... , score=0.735, total=  16.6s\n",
      "[CV]  ................................................................\n",
      "[CV] .................................... , score=0.743, total=  23.7s\n",
      "[CV]  ................................................................\n",
      "[CV] .................................... , score=0.737, total=  23.5s\n",
      "Mean accuracy: 0.7384080782222016\n"
     ]
    },
    {
     "name": "stderr",
     "output_type": "stream",
     "text": [
      "[Parallel(n_jobs=1)]: Done   5 out of   5 | elapsed:  1.8min finished\n"
     ]
    }
   ],
   "source": [
    "# train\n",
    "score = cross_val_score(SGD_clf, X_train_transformed, y, cv=5, verbose=3, scoring='accuracy')\n",
    "print('Mean accuracy: ' + str(score.mean()))"
   ]
  },
  {
   "cell_type": "code",
   "execution_count": 26,
   "metadata": {},
   "outputs": [
    {
     "name": "stdout",
     "output_type": "stream",
     "text": [
      "[CV]  ................................................................\n"
     ]
    },
    {
     "name": "stderr",
     "output_type": "stream",
     "text": [
      "[Parallel(n_jobs=1)]: Using backend SequentialBackend with 1 concurrent workers.\n"
     ]
    },
    {
     "name": "stdout",
     "output_type": "stream",
     "text": [
      "[CV] .................................... , score=0.743, total=  42.7s\n",
      "[CV]  ................................................................\n"
     ]
    },
    {
     "name": "stderr",
     "output_type": "stream",
     "text": [
      "[Parallel(n_jobs=1)]: Done   1 out of   1 | elapsed:   42.7s remaining:    0.0s\n"
     ]
    },
    {
     "name": "stdout",
     "output_type": "stream",
     "text": [
      "[CV] .................................... , score=0.740, total=  37.3s\n",
      "[CV]  ................................................................\n"
     ]
    },
    {
     "name": "stderr",
     "output_type": "stream",
     "text": [
      "[Parallel(n_jobs=1)]: Done   2 out of   2 | elapsed:  1.3min remaining:    0.0s\n"
     ]
    },
    {
     "name": "stdout",
     "output_type": "stream",
     "text": [
      "[CV] .................................... , score=0.741, total=  35.3s\n",
      "[CV]  ................................................................\n",
      "[CV] .................................... , score=0.741, total=  30.2s\n",
      "[CV]  ................................................................\n",
      "[CV] .................................... , score=0.738, total=  39.3s\n",
      "Mean accuracy: 0.7405514737046878\n"
     ]
    },
    {
     "name": "stderr",
     "output_type": "stream",
     "text": [
      "[Parallel(n_jobs=1)]: Done   5 out of   5 | elapsed:  3.1min finished\n"
     ]
    }
   ],
   "source": [
    "SGD_clf_log = make_pipeline(\n",
    "                            StandardScaler(with_mean=False),\n",
    "                            SGDClassifier(max_iter=1000, \n",
    "                                          tol=1e-3, \n",
    "                                          loss='log', # Logistic Regression\n",
    "                                          warm_start=True,\n",
    "                                          random_state=42, \n",
    "                                          n_jobs=-1)\n",
    "                           )\n",
    "\n",
    "score = cross_val_score(SGD_clf_log, X_train_transformed, y, cv=5, verbose=3, scoring='accuracy')\n",
    "print('Mean accuracy: ' + str(score.mean()))"
   ]
  },
  {
   "cell_type": "code",
   "execution_count": 27,
   "metadata": {},
   "outputs": [],
   "source": [
    "from sklearn.metrics import accuracy_score\n",
    "import matplotlib.pyplot as plt\n",
    "\n",
    "def plot_learning_curves_feed_m(model, X, y, Xname):\n",
    "    \"\"\"Plot the learning curves for train and validation sets\n",
    "       , by adding more rows (m) and keeping the number of \n",
    "       features (n) constant.\n",
    "       Args:\n",
    "           model: a classifier\n",
    "           X: sparce matrix of features\n",
    "           y: target vector\n",
    "           Xname: vectorization method\n",
    "       Evaluates accuracy (TODO: implement other metrics)\n",
    "    \"\"\"\n",
    "    X_train, X_valid, y_train, y_valid = train_test_split(X, y, \n",
    "                                                          test_size=0.2, \n",
    "                                                          random_state=42)\n",
    "    # train\n",
    "    # change data granularity (denominator) for more data points\n",
    "    data_granularity = int(X_train.shape[0]/10)\n",
    "    \n",
    "    xs, train_acc, valid_acc = [], [], []\n",
    "\n",
    "    for m in range(10, X_train.shape[0], data_granularity):       \n",
    "        model.fit(X_train[:m], y_train[:m])\n",
    "        y_train_predict = model.predict(X_train[:m])\n",
    "        y_valid_predict = model.predict(X_valid)\n",
    "        train_acc.append(accuracy_score(y_train[:m], y_train_predict))\n",
    "        valid_acc.append(accuracy_score(y_valid, y_valid_predict))\n",
    "        xs.append(str(m-1))\n",
    "\n",
    "    fig = plt.figure(figsize=(12, 6))\n",
    "    ax = fig.add_axes([0.0, \n",
    "                       # dynamically calculate number of x ticks\n",
    "                       round(X_train.shape[0]/data_granularity, 0), \n",
    "                       0.4, 0.8])\n",
    "    plt.plot(xs, np.sqrt(train_acc), 'r--', linewidth=.8, \n",
    "             label=\"train accuracy\")\n",
    "    plt.plot(xs, np.sqrt(valid_acc), 'b--', linewidth=.8, \n",
    "             label=\"validation accuracy\")\n",
    "    plt.xticks(rotation=45)\n",
    "    plt.title(''.join([\"Learning Rates for Training and Validation - \", \n",
    "                       Xname]), \n",
    "              fontsize=16)\n",
    "    plt.legend(loc=\"lower right\", fontsize=14)\n",
    "    plt.xlabel(\"Training Set Size\", fontsize=14)\n",
    "    plt.ylabel(\"Accuracy\", fontsize=14)\n",
    "    plt.show()"
   ]
  },
  {
   "cell_type": "code",
   "execution_count": 29,
   "metadata": {},
   "outputs": [
    {
     "data": {
      "image/png": "[encoded data removed]",
      "text/plain": [
       "<Figure size 864x432 with 1 Axes>"
      ]
     },
     "metadata": {
      "needs_background": "light"
     },
     "output_type": "display_data"
    }
   ],
   "source": [
    "plot_learning_curves_feed_m(SGD_clf, X_train_transformed, y, \n",
    "                           'SGD, BoW, n=250k')"
   ]
  },
  {
   "cell_type": "markdown",
   "metadata": {},
   "source": [
    "Interesting, as opposed to the simpler models, SGD actually seems to be on a path to improving classification and we should actually train it on the full $1.2M$ training dataset to see how far we can take this unigram BoW representation."
   ]
  },
  {
   "cell_type": "code",
   "execution_count": 30,
   "metadata": {},
   "outputs": [
    {
     "data": {
      "image/png": "[encoded data removed]",
      "text/plain": [
       "<Figure size 864x432 with 1 Axes>"
      ]
     },
     "metadata": {
      "needs_background": "light"
     },
     "output_type": "display_data"
    }
   ],
   "source": [
    "plot_learning_curves_feed_m(SGD_clf_log, X_train_transformed, y, \n",
    "                           'SGD_log, BoW, n=250k')"
   ]
  },
  {
   "cell_type": "markdown",
   "metadata": {},
   "source": [
    "Logistic regression with SGD seems to be on an even better path as the validation accuracy seems to be improving at a steeper rate. "
   ]
  },
  {
   "cell_type": "code",
   "execution_count": null,
   "metadata": {},
   "outputs": [],
   "source": []
  },
  {
   "cell_type": "code",
   "execution_count": null,
   "metadata": {},
   "outputs": [],
   "source": []
  },
  {
   "cell_type": "code",
   "execution_count": null,
   "metadata": {},
   "outputs": [],
   "source": []
  },
  {
   "cell_type": "code",
   "execution_count": null,
   "metadata": {},
   "outputs": [],
   "source": []
  },
  {
   "cell_type": "code",
   "execution_count": null,
   "metadata": {},
   "outputs": [],
   "source": []
  },
  {
   "cell_type": "code",
   "execution_count": null,
   "metadata": {},
   "outputs": [],
   "source": []
  },
  {
   "cell_type": "markdown",
   "metadata": {},
   "source": [
    "### Cross Validation "
   ]
  },
  {
   "cell_type": "code",
   "execution_count": 8,
   "metadata": {},
   "outputs": [],
   "source": [
    "#score = cross_val_score(NB_clf, X_train_transformed, y_array, cv=5, verbose=3, scoring='accuracy')\n",
    "#print('Mean accuracy: ' + str(score.mean()))"
   ]
  },
  {
   "cell_type": "markdown",
   "metadata": {},
   "source": [
    "### Peek at some predictions"
   ]
  },
  {
   "cell_type": "code",
   "execution_count": 12,
   "metadata": {},
   "outputs": [],
   "source": [
    "#NB_clf.fit(X_train_transformed, y_array)"
   ]
  },
  {
   "cell_type": "markdown",
   "metadata": {},
   "source": [
    "**Misclassified**"
   ]
  },
  {
   "cell_type": "code",
   "execution_count": 9,
   "metadata": {},
   "outputs": [],
   "source": [
    "# print misclassifications in first 100 \n",
    "# y_actual, y_pred, tweet\n",
    "#misclassified = []\n",
    "#for i,v in enumerate(NB_clf.predict(X_train_transformed[:100])):\n",
    "#    if v != y_array[:100][i]:\n",
    "#        print(y_array[:100][i], v, X_array[:100][i])\n",
    "#        misclassified.append(i)"
   ]
  },
  {
   "cell_type": "code",
   "execution_count": 10,
   "metadata": {},
   "outputs": [],
   "source": [
    "#accuracy = 1 - len(misclassified)/100\n",
    "#print(f'Accuracy in first 100 rows = {accuracy}')"
   ]
  },
  {
   "cell_type": "markdown",
   "metadata": {},
   "source": [
    "These do seem ambiguous at times, looking at some correctly classified examples.\n",
    "\n",
    "**Correctly classified**"
   ]
  },
  {
   "cell_type": "code",
   "execution_count": 11,
   "metadata": {},
   "outputs": [],
   "source": [
    "#for i,v in enumerate(NB_clf.predict(X_train_transformed[:100])):\n",
    "#    if v == y_array[:100][i] and i < 20:\n",
    "#        print(y_array[:100][i], v, X_array[:100][i])"
   ]
  },
  {
   "cell_type": "markdown",
   "metadata": {},
   "source": [
    "And those do seem like more clearcut cases."
   ]
  },
  {
   "cell_type": "code",
   "execution_count": 24,
   "metadata": {},
   "outputs": [
    {
     "name": "stdout",
     "output_type": "stream",
     "text": [
      "Total running time: 2 minute(s) and 16 second(s).\n"
     ]
    }
   ],
   "source": [
    "# time notebook\n",
    "mins, secs = divmod(time.time() - start_notebook, 60)\n",
    "print(f'Total running time: {mins:0.0f} minute(s) and {secs:0.0f} second(s).')"
   ]
  },
  {
   "cell_type": "markdown",
   "metadata": {},
   "source": [
    "---"
   ]
  }
 ],
 "metadata": {
  "kernelspec": {
   "display_name": "Python 3",
   "language": "python",
   "name": "python3"
  },
  "language_info": {
   "codemirror_mode": {
    "name": "ipython",
    "version": 3
   },
   "file_extension": ".py",
   "mimetype": "text/x-python",
   "name": "python",
   "nbconvert_exporter": "python",
   "pygments_lexer": "ipython3",
   "version": "3.7.3"
  }
 },
 "nbformat": 4,
 "nbformat_minor": 4
}
