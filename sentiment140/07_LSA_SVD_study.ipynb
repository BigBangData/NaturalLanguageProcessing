{
 "cells": [
  {
   "cell_type": "markdown",
   "metadata": {},
   "source": [
    "# Latent Semantic Analysis (LSA)\n",
    "\n",
    "This notebook is for studying SVD further: will need to project the test data into the same semantic space (see IntroToTextAnalyticsWithR, part 8: \"As with TF-IDF, we will need to project new data (e.g., the test data) into the SVD semantic space.\"\n",
    "\n",
    "Consulted Prof. Steve Brunton's [YouTube lecture series](https://www.youtube.com/playlist?list=PLMrJAkhIeNNSVjnsviglFoY2nXildDCcv) and [Data-Driven Science and Engineering book](https://www.amazon.com/Data-Driven-Science-Engineering-Learning-Dynamical/dp/1108422098) - a brief summary of relevant parts can be found [here](./Extra_SteveBrunton_SVD_lecture.pdf).\n",
    "\n",
    "Using sklearn's **TruncatedSVD** class' ARPACK algorithm (seemed a lot faster than the randomized option in the case). Under the hood, this class just uses `scipy.psarse.linalg`:\n",
    "\n",
    "[(source)](https://github.com/scikit-learn/scikit-learn/blob/0fb307bf3/sklearn/decomposition/_truncated_svd.py#L24)\n",
    "```\n",
    "from scipy.sparse.linalg import svds\n",
    "\n",
    "        if self.algorithm == \"arpack\":\n",
    "            U, Sigma, VT = svds(X, k=self.n_components, tol=self.tol)\n",
    "            # svds doesn't abide by scipy.linalg.svd/randomized_svd\n",
    "            # conventions, so reverse its outputs.\n",
    "            Sigma = Sigma[::-1]\n",
    "            U, VT = svd_flip(U[:, ::-1], VT[::-1])\n",
    "```    \n",
    "\n",
    "---"
   ]
  },
  {
   "cell_type": "markdown",
   "metadata": {},
   "source": [
    "**Toy Example**"
   ]
  },
  {
   "cell_type": "code",
   "execution_count": 5,
   "metadata": {},
   "outputs": [],
   "source": [
    "from scipy.sparse import random as sparse_random\n",
    "from sklearn.random_projection import sparse_random_matrix\n",
    "\n",
    "X_example = sparse_random(200, 50, density=0.01, format='csr', random_state=42)"
   ]
  },
  {
   "cell_type": "code",
   "execution_count": 6,
   "metadata": {},
   "outputs": [],
   "source": [
    "from scipy.sparse.linalg import svds\n",
    "from sklearn.utils.extmath import svd_flip\n",
    "\n",
    "U, Sigma, VT = svds(X_example, k=5)\n",
    "Sigma = Sigma[::-1]\n",
    "U, VT = svd_flip(U[:, ::-1], VT[::-1])"
   ]
  },
  {
   "cell_type": "code",
   "execution_count": 7,
   "metadata": {},
   "outputs": [
    {
     "data": {
      "text/plain": [
       "((200, 5), (5,), (5, 50))"
      ]
     },
     "execution_count": 7,
     "metadata": {},
     "output_type": "execute_result"
    }
   ],
   "source": [
    "U.shape, Sigma.shape, VT.shape"
   ]
  },
  {
   "cell_type": "code",
   "execution_count": 14,
   "metadata": {},
   "outputs": [],
   "source": [
    "# save to current dir\n",
    "import pandas as pd\n",
    "df = pd.DataFrame(X_example.toarray())\n",
    "df.to_csv(\"../data/X_example.csv\", index=False)"
   ]
  },
  {
   "cell_type": "code",
   "execution_count": 13,
   "metadata": {},
   "outputs": [
    {
     "data": {
      "image/png": "[encoded data removed]",
      "text/plain": [
       "<Figure size 432x288 with 1 Axes>"
      ]
     },
     "metadata": {
      "needs_background": "light"
     },
     "output_type": "display_data"
    }
   ],
   "source": [
    "import matplotlib.pyplot as plt \n",
    "\n",
    "plt.plot(VT[0])\n",
    "plt.show()"
   ]
  },
  {
   "cell_type": "markdown",
   "metadata": {},
   "source": [
    "R code for the same plot:\n",
    "\n",
    "```\n",
    "# setup\n",
    "rm(list=ls())\n",
    "library(irlba)\n",
    "wd_ <- \"../GitHub/TwitterSentimentAnalysis/data\"\n",
    "if (getwd() != wd_) setwd(wd_)\n",
    "# read csv\n",
    "X <- read.csv(\"X_example.csv\")\n",
    "X <- as.matrix(X)\n",
    "# svd\n",
    "svd_ <- irlba(X, nv=5, maxit=10)\n",
    "# plot\n",
    "plot(svd_$v[,1], type='l', col='blue', ylab='First Right Singular Vector')\n",
    "# save plot\n",
    "dev.copy(png,'../plots/FirstRightSingularVector.png')\n",
    "dev.off()\n",
    "```"
   ]
  },
  {
   "cell_type": "code",
   "execution_count": 19,
   "metadata": {},
   "outputs": [],
   "source": [
    "sigma_inv = 1 / Sigma\n",
    "doc = X_example[1:2,:].toarray()"
   ]
  },
  {
   "cell_type": "code",
   "execution_count": 20,
   "metadata": {},
   "outputs": [
    {
     "data": {
      "text/plain": [
       "(5,)"
      ]
     },
     "execution_count": 20,
     "metadata": {},
     "output_type": "execute_result"
    }
   ],
   "source": [
    "sigma_inv.shape"
   ]
  },
  {
   "cell_type": "code",
   "execution_count": 21,
   "metadata": {},
   "outputs": [
    {
     "data": {
      "text/plain": [
       "(5, 200)"
      ]
     },
     "execution_count": 21,
     "metadata": {},
     "output_type": "execute_result"
    }
   ],
   "source": [
    "U.T.shape"
   ]
  },
  {
   "cell_type": "code",
   "execution_count": 23,
   "metadata": {},
   "outputs": [],
   "source": [
    "import numpy as np\n",
    "first_term = np.dot(sigma_inv, U.T)"
   ]
  },
  {
   "cell_type": "code",
   "execution_count": 24,
   "metadata": {},
   "outputs": [
    {
     "data": {
      "text/plain": [
       "(200, 1)"
      ]
     },
     "execution_count": 24,
     "metadata": {},
     "output_type": "execute_result"
    }
   ],
   "source": [
    "np.array([first_term]).T.shape"
   ]
  },
  {
   "cell_type": "code",
   "execution_count": 25,
   "metadata": {},
   "outputs": [
    {
     "data": {
      "text/plain": [
       "(1, 50)"
      ]
     },
     "execution_count": 25,
     "metadata": {},
     "output_type": "execute_result"
    }
   ],
   "source": [
    "doc.shape"
   ]
  },
  {
   "cell_type": "code",
   "execution_count": 26,
   "metadata": {},
   "outputs": [],
   "source": [
    "doc_hat = np.matmul(np.array([first_term]).T, doc)"
   ]
  },
  {
   "cell_type": "code",
   "execution_count": 27,
   "metadata": {},
   "outputs": [
    {
     "data": {
      "text/plain": [
       "(200, 50)"
      ]
     },
     "execution_count": 27,
     "metadata": {},
     "output_type": "execute_result"
    }
   ],
   "source": [
    "doc_hat.shape"
   ]
  },
  {
   "cell_type": "code",
   "execution_count": 28,
   "metadata": {},
   "outputs": [
    {
     "data": {
      "text/plain": [
       "array([0.00000000e+00, 0.00000000e+00, 0.00000000e+00, 0.00000000e+00,\n",
       "       0.00000000e+00, 0.00000000e+00, 0.00000000e+00, 0.00000000e+00,\n",
       "       0.00000000e+00, 0.00000000e+00, 0.00000000e+00, 0.00000000e+00,\n",
       "       0.00000000e+00, 0.00000000e+00, 0.00000000e+00, 0.00000000e+00,\n",
       "       0.00000000e+00, 0.00000000e+00, 0.00000000e+00, 0.00000000e+00,\n",
       "       0.00000000e+00, 0.00000000e+00, 0.00000000e+00, 0.00000000e+00,\n",
       "       0.00000000e+00, 0.00000000e+00, 0.00000000e+00, 0.00000000e+00,\n",
       "       0.00000000e+00, 0.00000000e+00, 0.00000000e+00, 0.00000000e+00,\n",
       "       0.00000000e+00, 0.00000000e+00, 0.00000000e+00, 0.00000000e+00,\n",
       "       0.00000000e+00, 0.00000000e+00, 0.00000000e+00, 0.00000000e+00,\n",
       "       0.00000000e+00, 0.00000000e+00, 0.00000000e+00, 0.00000000e+00,\n",
       "       0.00000000e+00, 3.16717761e-18, 0.00000000e+00, 0.00000000e+00,\n",
       "       0.00000000e+00, 0.00000000e+00])"
      ]
     },
     "execution_count": 28,
     "metadata": {},
     "output_type": "execute_result"
    }
   ],
   "source": [
    "doc_hat[1]"
   ]
  },
  {
   "cell_type": "code",
   "execution_count": 29,
   "metadata": {},
   "outputs": [
    {
     "data": {
      "text/plain": [
       "array([-4.75284737e-17,  3.43530344e-17,  4.34131568e-17,  9.07556074e-17,\n",
       "       -2.98926356e-17, -3.14436246e-18,  2.28182027e-17, -3.51942635e-17,\n",
       "       -7.96049297e-17, -1.03033064e-17, -1.76917179e-16, -2.37183991e-16,\n",
       "       -2.34192063e-16,  1.75757282e-16,  2.11109649e-01, -3.24362967e-16,\n",
       "        1.45254682e-16, -4.80416316e-17,  3.88166712e-01,  2.76441640e-17,\n",
       "       -2.71879645e-18, -1.52319031e-18,  6.74938557e-17, -1.42779339e-16,\n",
       "       -6.20779526e-16,  5.20037409e-18,  2.26306789e-01, -8.50707805e-17,\n",
       "       -1.87314724e-17, -2.12918299e-16, -1.24912019e-16, -1.28030046e-16,\n",
       "       -1.66644215e-16, -2.42245450e-17, -3.80811930e-18,  2.76144937e-17,\n",
       "       -1.13017678e-17, -1.72226210e-16,  1.26786689e-16,  8.82412951e-17,\n",
       "        8.68069442e-01,  2.60391365e-16,  9.84947247e-17,  2.20188096e-18,\n",
       "       -2.16635652e-16, -4.66285530e-17,  1.17237219e-16,  1.10789496e-16,\n",
       "        1.17584119e-16,  1.51452527e-17])"
      ]
     },
     "execution_count": 29,
     "metadata": {},
     "output_type": "execute_result"
    }
   ],
   "source": [
    "VT[1]"
   ]
  },
  {
   "cell_type": "code",
   "execution_count": 17,
   "metadata": {},
   "outputs": [],
   "source": [
    "# As with TF-IDF, we will need to project new data (e.g., the test data)\n",
    "# into the SVD semantic space. The following code illustrates how to do\n",
    "# this using a row of the training data that has already been transformed\n",
    "# by TF-IDF.\n",
    "\n",
    "#sigma.inverse <- 1 / train.irlba$d\n",
    "#sigma_inv = 1 / svd_model.singular_values_\n",
    "\n",
    "#u.transpose <- t(train.irlba$u)\n",
    "\n",
    "\n",
    "#document <- train.tokens.tfidf[1,]\n",
    "\n",
    "#document_hat <- sigma_inv * Ut %*% document\n",
    "\n",
    "# Look at the first 10 components of projected document and the corresponding\n",
    "# row in our document semantic space (i.e., the V matrix)\n",
    "#document.hat[1:10]\n",
    "#train.irlba$v[1, 1:10]\n",
    "\n",
    "\n",
    "#\n",
    "# Create new feature data frame using our document semantic space of 300\n",
    "# features (i.e., the V matrix from our SVD).\n",
    "#\n",
    "#train.svd <- data.frame(Label = train$Label, train.irlba$v)\n"
   ]
  },
  {
   "cell_type": "code",
   "execution_count": null,
   "metadata": {},
   "outputs": [],
   "source": []
  },
  {
   "cell_type": "code",
   "execution_count": null,
   "metadata": {},
   "outputs": [],
   "source": []
  },
  {
   "cell_type": "code",
   "execution_count": null,
   "metadata": {},
   "outputs": [],
   "source": []
  },
  {
   "cell_type": "code",
   "execution_count": null,
   "metadata": {},
   "outputs": [],
   "source": []
  },
  {
   "cell_type": "code",
   "execution_count": null,
   "metadata": {},
   "outputs": [],
   "source": []
  },
  {
   "cell_type": "code",
   "execution_count": null,
   "metadata": {},
   "outputs": [],
   "source": []
  },
  {
   "cell_type": "code",
   "execution_count": null,
   "metadata": {},
   "outputs": [],
   "source": []
  },
  {
   "cell_type": "code",
   "execution_count": null,
   "metadata": {},
   "outputs": [],
   "source": []
  },
  {
   "cell_type": "code",
   "execution_count": null,
   "metadata": {},
   "outputs": [],
   "source": []
  }
 ],
 "metadata": {
  "kernelspec": {
   "display_name": "Python 3",
   "language": "python",
   "name": "python3"
  },
  "language_info": {
   "codemirror_mode": {
    "name": "ipython",
    "version": 3
   },
   "file_extension": ".py",
   "mimetype": "text/x-python",
   "name": "python",
   "nbconvert_exporter": "python",
   "pygments_lexer": "ipython3",
   "version": "3.7.3"
  }
 },
 "nbformat": 4,
 "nbformat_minor": 4
}
