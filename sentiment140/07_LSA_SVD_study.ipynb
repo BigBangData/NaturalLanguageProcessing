{
 "cells": [
  {
   "cell_type": "markdown",
   "metadata": {},
   "source": [
    "# Latent Semantic Analysis (LSA)\n",
    "\n",
    "This notebook is for studying SVD further: will need to project the test data into the same semantic space (see IntroToTextAnalyticsWithR, part 8: \"As with TF-IDF, we will need to project new data (e.g., the test data) into the SVD semantic space.\"\n",
    "\n",
    "Consulted Prof. Steve Brunton's [YouTube lecture series](https://www.youtube.com/playlist?list=PLMrJAkhIeNNSVjnsviglFoY2nXildDCcv) and [Data-Driven Science and Engineering book](https://www.amazon.com/Data-Driven-Science-Engineering-Learning-Dynamical/dp/1108422098) - a brief summary of relevant parts can be found [here](./Extra_SteveBrunton_SVD_lecture.pdf).\n",
    "\n",
    "Using sklearn's **TruncatedSVD** class' ARPACK algorithm (seemed a lot faster than the randomized option in the case). Under the hood, this class just uses `scipy.psarse.linalg`:\n",
    "\n",
    "[(source)](https://github.com/scikit-learn/scikit-learn/blob/0fb307bf3/sklearn/decomposition/_truncated_svd.py#L24)\n",
    "```\n",
    "        if self.algorithm == \"arpack\":\n",
    "            U, Sigma, VT = svds(X, k=self.n_components, tol=self.tol)\n",
    "            # svds doesn't abide by scipy.linalg.svd/randomized_svd\n",
    "            # conventions, so reverse its outputs.\n",
    "            Sigma = Sigma[::-1]\n",
    "            U, VT = svd_flip(U[:, ::-1], VT[::-1])\n",
    "```    \n",
    "\n",
    "---"
   ]
  },
  {
   "cell_type": "markdown",
   "metadata": {},
   "source": [
    "**Toy Example**"
   ]
  },
  {
   "cell_type": "code",
   "execution_count": 6,
   "metadata": {},
   "outputs": [],
   "source": [
    "from scipy.sparse import random as sparse_random\n",
    "from sklearn.random_projection import sparse_random_matrix\n",
    "\n",
    "X_example = sparse_random(200, 50, density=0.01, format='csr', random_state=42)"
   ]
  },
  {
   "cell_type": "code",
   "execution_count": 7,
   "metadata": {},
   "outputs": [
    {
     "data": {
      "text/plain": [
       "(200, 50)"
      ]
     },
     "execution_count": 7,
     "metadata": {},
     "output_type": "execute_result"
    }
   ],
   "source": [
    "X_example.shape # 200 documents, 50 terms"
   ]
  },
  {
   "cell_type": "code",
   "execution_count": 8,
   "metadata": {},
   "outputs": [],
   "source": [
    "from scipy.sparse.linalg import svds\n",
    "from sklearn.utils.extmath import svd_flip\n",
    "\n",
    "U, Sigma, VT = svds(X_example.T, # pass a term-document matrix\n",
    "                    k=5)\n",
    "Sigma = Sigma[::-1]\n",
    "U, VT = svd_flip(U[:, ::-1], VT[::-1])"
   ]
  },
  {
   "cell_type": "code",
   "execution_count": 9,
   "metadata": {},
   "outputs": [
    {
     "data": {
      "text/plain": [
       "((50, 5), (5,), (5, 200))"
      ]
     },
     "execution_count": 9,
     "metadata": {},
     "output_type": "execute_result"
    }
   ],
   "source": [
    "U.shape, Sigma.shape, VT.shape"
   ]
  },
  {
   "cell_type": "code",
   "execution_count": 10,
   "metadata": {},
   "outputs": [],
   "source": [
    "# save to current dir\n",
    "import pandas as pd\n",
    "df = pd.DataFrame(X_example.toarray())\n",
    "df.to_csv(\"../data/X_example.csv\", index=False)"
   ]
  },
  {
   "cell_type": "code",
   "execution_count": 13,
   "metadata": {},
   "outputs": [
    {
     "data": {
      "image/png": "[encoded data removed]",
      "text/plain": [
       "<Figure size 432x288 with 1 Axes>"
      ]
     },
     "metadata": {
      "needs_background": "light"
     },
     "output_type": "display_data"
    }
   ],
   "source": [
    "import matplotlib.pyplot as plt \n",
    "\n",
    "plt.plot(VT[0])\n",
    "plt.show()"
   ]
  },
  {
   "cell_type": "markdown",
   "metadata": {},
   "source": [
    "R code for the same plot:\n",
    "\n",
    "```\n",
    "# setup\n",
    "rm(list=ls())\n",
    "library(irlba)\n",
    "wd_ <- \"../GitHub/TwitterSentimentAnalysis/data\"\n",
    "if (getwd() != wd_) setwd(wd_)\n",
    "# read csv\n",
    "X <- read.csv(\"X_example.csv\")\n",
    "X <- as.matrix(X)\n",
    "# svd\n",
    "svd_ <- irlba(X, nv=5, maxit=10)\n",
    "# plot\n",
    "plot(svd_$v[,1], type='l', col='blue', ylab='First Right Singular Vector')\n",
    "# save plot\n",
    "dev.copy(png,'../plots/FirstRightSingularVector.png')\n",
    "dev.off()\n",
    "```"
   ]
  },
  {
   "cell_type": "code",
   "execution_count": 15,
   "metadata": {},
   "outputs": [
    {
     "data": {
      "text/plain": [
       "(200, 5)"
      ]
     },
     "execution_count": 15,
     "metadata": {},
     "output_type": "execute_result"
    }
   ],
   "source": [
    "V = VT.T\n",
    "V.shape # the new training set of 200 docs, 5 \"topics\" (components)"
   ]
  },
  {
   "cell_type": "markdown",
   "metadata": {},
   "source": [
    "Projecting a new TF-IDF document $d$ into the same semantic space created by the training data SVD requires us to save the $\\Sigma$ and $U^T$ values such that we can recreate our $V$ matrix using the following projection: $\\hat{d} = \\Sigma^{-1}U^Td$"
   ]
  },
  {
   "cell_type": "code",
   "execution_count": 16,
   "metadata": {},
   "outputs": [],
   "source": [
    "Sigma_inv = 1 / Sigma"
   ]
  },
  {
   "cell_type": "code",
   "execution_count": 19,
   "metadata": {},
   "outputs": [
    {
     "name": "stdout",
     "output_type": "stream",
     "text": [
      "[-2.04043685e-18 -1.45839974e-18 -1.95396780e-18 -5.05428100e-18\n",
      "  9.13917596e-19]\n"
     ]
    }
   ],
   "source": [
    "print(V[1])"
   ]
  },
  {
   "cell_type": "code",
   "execution_count": 21,
   "metadata": {},
   "outputs": [
    {
     "data": {
      "text/plain": [
       "((5,), (5, 50), (5,))"
      ]
     },
     "execution_count": 21,
     "metadata": {},
     "output_type": "execute_result"
    }
   ],
   "source": [
    "Sigma_inv.shape, U.T.shape, V[1].shape"
   ]
  },
  {
   "cell_type": "code",
   "execution_count": 22,
   "metadata": {},
   "outputs": [],
   "source": [
    "import numpy as np\n",
    "\n",
    "sigma_dot_ut = np.dot(Sigma_inv, U.T)"
   ]
  },
  {
   "cell_type": "code",
   "execution_count": 23,
   "metadata": {},
   "outputs": [
    {
     "data": {
      "text/plain": [
       "(50,)"
      ]
     },
     "execution_count": 23,
     "metadata": {},
     "output_type": "execute_result"
    }
   ],
   "source": [
    "sigma_dot_ut.shape"
   ]
  },
  {
   "cell_type": "code",
   "execution_count": 43,
   "metadata": {},
   "outputs": [
    {
     "data": {
      "text/plain": [
       "(50, 5)"
      ]
     },
     "execution_count": 43,
     "metadata": {},
     "output_type": "execute_result"
    }
   ],
   "source": [
    "np.dot(np.array([sigma_dot_ut]).T, np.array([V[1]])).shape"
   ]
  },
  {
   "cell_type": "code",
   "execution_count": 40,
   "metadata": {},
   "outputs": [
    {
     "data": {
      "text/plain": [
       "(1, 5)"
      ]
     },
     "execution_count": 40,
     "metadata": {},
     "output_type": "execute_result"
    }
   ],
   "source": [
    "np.array([V[1]]).shape"
   ]
  },
  {
   "cell_type": "code",
   "execution_count": null,
   "metadata": {},
   "outputs": [],
   "source": []
  },
  {
   "cell_type": "code",
   "execution_count": null,
   "metadata": {},
   "outputs": [],
   "source": []
  },
  {
   "cell_type": "code",
   "execution_count": 10,
   "metadata": {},
   "outputs": [],
   "source": [
    "import numpy as np\n",
    "first_term = np.dot(sigma_inv, U.T)"
   ]
  },
  {
   "cell_type": "code",
   "execution_count": 11,
   "metadata": {},
   "outputs": [
    {
     "data": {
      "text/plain": [
       "(200, 1)"
      ]
     },
     "execution_count": 11,
     "metadata": {},
     "output_type": "execute_result"
    }
   ],
   "source": [
    "np.array([first_term]).T.shape"
   ]
  },
  {
   "cell_type": "code",
   "execution_count": 12,
   "metadata": {},
   "outputs": [
    {
     "data": {
      "text/plain": [
       "(1, 50)"
      ]
     },
     "execution_count": 12,
     "metadata": {},
     "output_type": "execute_result"
    }
   ],
   "source": [
    "doc.shape"
   ]
  },
  {
   "cell_type": "code",
   "execution_count": 13,
   "metadata": {},
   "outputs": [],
   "source": [
    "doc_hat = np.matmul(np.array([first_term]).T, doc)"
   ]
  },
  {
   "cell_type": "code",
   "execution_count": 14,
   "metadata": {},
   "outputs": [
    {
     "data": {
      "text/plain": [
       "(200, 50)"
      ]
     },
     "execution_count": 14,
     "metadata": {},
     "output_type": "execute_result"
    }
   ],
   "source": [
    "doc_hat.shape"
   ]
  },
  {
   "cell_type": "code",
   "execution_count": 15,
   "metadata": {},
   "outputs": [
    {
     "data": {
      "text/plain": [
       "array([ 0.00000000e+00,  0.00000000e+00,  0.00000000e+00,  0.00000000e+00,\n",
       "        0.00000000e+00,  0.00000000e+00,  0.00000000e+00,  0.00000000e+00,\n",
       "        0.00000000e+00,  0.00000000e+00,  0.00000000e+00,  0.00000000e+00,\n",
       "        0.00000000e+00,  0.00000000e+00,  0.00000000e+00,  0.00000000e+00,\n",
       "        0.00000000e+00,  0.00000000e+00,  0.00000000e+00,  0.00000000e+00,\n",
       "        0.00000000e+00,  0.00000000e+00,  0.00000000e+00,  0.00000000e+00,\n",
       "        0.00000000e+00,  0.00000000e+00,  0.00000000e+00,  0.00000000e+00,\n",
       "        0.00000000e+00,  0.00000000e+00,  0.00000000e+00,  0.00000000e+00,\n",
       "        0.00000000e+00,  0.00000000e+00,  0.00000000e+00,  0.00000000e+00,\n",
       "        0.00000000e+00,  0.00000000e+00,  0.00000000e+00,  0.00000000e+00,\n",
       "        0.00000000e+00,  0.00000000e+00,  0.00000000e+00,  0.00000000e+00,\n",
       "        0.00000000e+00, -1.79675347e-18,  0.00000000e+00,  0.00000000e+00,\n",
       "        0.00000000e+00,  0.00000000e+00])"
      ]
     },
     "execution_count": 15,
     "metadata": {},
     "output_type": "execute_result"
    }
   ],
   "source": [
    "doc_hat[1]"
   ]
  },
  {
   "cell_type": "code",
   "execution_count": 16,
   "metadata": {},
   "outputs": [
    {
     "data": {
      "text/plain": [
       "array([-1.74095525e-16,  2.68743109e-17,  6.28080937e-17, -3.98815411e-17,\n",
       "       -1.39307519e-17, -1.96455737e-17,  5.57490577e-17, -1.49122997e-17,\n",
       "       -2.26357690e-17, -2.23013095e-17, -9.42166284e-17, -1.24172748e-16,\n",
       "       -2.03548105e-16,  1.18525394e-16,  2.11109649e-01, -5.81359539e-16,\n",
       "        8.47285275e-17, -2.99125065e-17,  3.88166712e-01,  9.56811857e-18,\n",
       "       -5.68480776e-17,  3.37740663e-17,  3.20771924e-17, -3.57994597e-17,\n",
       "       -4.59814368e-16,  2.86783142e-17,  2.26306789e-01, -1.13587700e-16,\n",
       "       -4.56050968e-17, -9.51796856e-17, -3.92624489e-17, -5.39865564e-17,\n",
       "       -6.17355162e-18, -1.55843641e-16, -6.90041151e-17,  3.65476654e-17,\n",
       "       -8.38926778e-18, -2.39928929e-15,  5.40425021e-17,  4.22669829e-17,\n",
       "        8.68069442e-01,  5.15361502e-17, -9.36068455e-19,  3.13520262e-17,\n",
       "       -1.07678039e-16, -8.02449149e-17, -8.66688149e-18, -2.27379818e-17,\n",
       "        7.94321153e-17,  2.50451876e-17])"
      ]
     },
     "execution_count": 16,
     "metadata": {},
     "output_type": "execute_result"
    }
   ],
   "source": [
    "VT[1]"
   ]
  },
  {
   "cell_type": "code",
   "execution_count": 17,
   "metadata": {},
   "outputs": [],
   "source": [
    "# As with TF-IDF, we will need to project new data (e.g., the test data)\n",
    "# into the SVD semantic space. The following code illustrates how to do\n",
    "# this using a row of the training data that has already been transformed\n",
    "# by TF-IDF.\n",
    "\n",
    "#sigma.inverse <- 1 / train.irlba$d\n",
    "#sigma_inv = 1 / svd_model.singular_values_\n",
    "\n",
    "#u.transpose <- t(train.irlba$u)\n",
    "\n",
    "\n",
    "#document <- train.tokens.tfidf[1,]\n",
    "\n",
    "#document_hat <- sigma_inv * Ut %*% document\n",
    "\n",
    "# Look at the first 10 components of projected document and the corresponding\n",
    "# row in our document semantic space (i.e., the V matrix)\n",
    "#document.hat[1:10]\n",
    "#train.irlba$v[1, 1:10]\n",
    "\n",
    "\n",
    "#\n",
    "# Create new feature data frame using our document semantic space of 300\n",
    "# features (i.e., the V matrix from our SVD).\n",
    "#\n",
    "#train.svd <- data.frame(Label = train$Label, train.irlba$v)\n"
   ]
  },
  {
   "cell_type": "code",
   "execution_count": null,
   "metadata": {},
   "outputs": [],
   "source": []
  },
  {
   "cell_type": "code",
   "execution_count": null,
   "metadata": {},
   "outputs": [],
   "source": []
  },
  {
   "cell_type": "code",
   "execution_count": null,
   "metadata": {},
   "outputs": [],
   "source": []
  },
  {
   "cell_type": "code",
   "execution_count": null,
   "metadata": {},
   "outputs": [],
   "source": []
  },
  {
   "cell_type": "code",
   "execution_count": null,
   "metadata": {},
   "outputs": [],
   "source": []
  },
  {
   "cell_type": "code",
   "execution_count": null,
   "metadata": {},
   "outputs": [],
   "source": []
  },
  {
   "cell_type": "code",
   "execution_count": null,
   "metadata": {},
   "outputs": [],
   "source": []
  },
  {
   "cell_type": "code",
   "execution_count": null,
   "metadata": {},
   "outputs": [],
   "source": []
  },
  {
   "cell_type": "code",
   "execution_count": null,
   "metadata": {},
   "outputs": [],
   "source": []
  }
 ],
 "metadata": {
  "kernelspec": {
   "display_name": "Python 3",
   "language": "python",
   "name": "python3"
  },
  "language_info": {
   "codemirror_mode": {
    "name": "ipython",
    "version": 3
   },
   "file_extension": ".py",
   "mimetype": "text/x-python",
   "name": "python",
   "nbconvert_exporter": "python",
   "pygments_lexer": "ipython3",
   "version": "3.7.3"
  }
 },
 "nbformat": 4,
 "nbformat_minor": 4
}
