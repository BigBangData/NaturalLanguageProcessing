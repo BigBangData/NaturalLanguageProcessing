{
 "cells": [
  {
   "cell_type": "markdown",
   "metadata": {},
   "source": [
    "## Twitter Sentiment Analysis \n",
    "\n",
    "---\n",
    "\n",
    "###  Pre-process cleaned data for machine learning \n",
    "\n",
    "### Part 1: Bag of Words\n",
    "\n",
    "While cleanup involved simply reformatting a Tweet's text by standardizing it and reducing the feature space (less punctuation, replacing usernames and URLs, lower casing, tokenizing, lemmatizing, etc.), pre-processing for machine learning is often more involved. It mainly consists of further data cleanup steps such as imputing NAs, but also feature engineering, and perhaps most importantly, a method of representing text in numerical form, such as [Document Term Matrices](./01_Document_Term_Matrices.ipynb), since most machine-learning algorithms do not accept text as input. This notebook explores the creation of a simple Bag of Words Document-Frequency Matrix.\n",
    "\n",
    "---\n",
    "\n",
    "### Load cleaned TRAIN data\n"
   ]
  },
  {
   "cell_type": "code",
   "execution_count": 1,
   "metadata": {},
   "outputs": [],
   "source": [
    "import os \n",
    "import re\n",
    "import time\n",
    "\n",
    "import numpy as np\n",
    "import pandas as pd\n",
    "import scipy.sparse as sp\n",
    "\n",
    "# for ML preprocessing\n",
    "from sklearn import preprocessing\n",
    "from sklearn.feature_extraction.text import TfidfVectorizer\n",
    "from sklearn.feature_extraction.text import CountVectorizer\n",
    "\n",
    "# custom (see script)\n",
    "import loading_module as lm\n",
    "\n",
    "start_time = time.time()\n",
    "X_train, y_train = lm.load_clean_data('X_train')"
   ]
  },
  {
   "cell_type": "markdown",
   "metadata": {},
   "source": [
    "### Save y as .npy"
   ]
  },
  {
   "cell_type": "code",
   "execution_count": 2,
   "metadata": {},
   "outputs": [],
   "source": [
    "proc_dir = os.path.join(\"..\",\"data\",\"3_processed\",\"sentiment140\")\n",
    "y_filepath = os.path.join(proc_dir, \"y_train.npy\")\n",
    "\n",
    "with open(y_filepath, 'wb') as f:\n",
    "    np.save(f, y_train)"
   ]
  },
  {
   "cell_type": "markdown",
   "metadata": {},
   "source": [
    "### Quick EDA"
   ]
  },
  {
   "cell_type": "code",
   "execution_count": 3,
   "metadata": {},
   "outputs": [
    {
     "data": {
      "text/plain": [
       "((1199999, 3), (1199999, 1))"
      ]
     },
     "execution_count": 3,
     "metadata": {},
     "output_type": "execute_result"
    }
   ],
   "source": [
    "X_train.shape, y_train.shape"
   ]
  },
  {
   "cell_type": "code",
   "execution_count": 4,
   "metadata": {},
   "outputs": [
    {
     "data": {
      "text/html": [
       "<div>\n",
       "<style scoped>\n",
       "    .dataframe tbody tr th:only-of-type {\n",
       "        vertical-align: middle;\n",
       "    }\n",
       "\n",
       "    .dataframe tbody tr th {\n",
       "        vertical-align: top;\n",
       "    }\n",
       "\n",
       "    .dataframe thead th {\n",
       "        text-align: right;\n",
       "    }\n",
       "</style>\n",
       "<table border=\"1\" class=\"dataframe\">\n",
       "  <thead>\n",
       "    <tr style=\"text-align: right;\">\n",
       "      <th></th>\n",
       "      <th>username</th>\n",
       "      <th>text</th>\n",
       "      <th>lemmatized</th>\n",
       "    </tr>\n",
       "  </thead>\n",
       "  <tbody>\n",
       "    <tr>\n",
       "      <th>66270</th>\n",
       "      <td>rohdesign</td>\n",
       "      <td>My favorite part of the Jimmy Fallon show: The...</td>\n",
       "      <td>my favorite part jimmy fallon show root crew t...</td>\n",
       "    </tr>\n",
       "    <tr>\n",
       "      <th>428045</th>\n",
       "      <td>blettany</td>\n",
       "      <td>A Chorus Line at the Aronoff with Dad...then C...</td>\n",
       "      <td>chorus line aronoff dadthen cadillac ranch dinner</td>\n",
       "    </tr>\n",
       "    <tr>\n",
       "      <th>1307927</th>\n",
       "      <td>bryan_wilson</td>\n",
       "      <td>@judahworldchamp - I think for next season of ...</td>\n",
       "      <td>USERNAME i think next season 30rock sometime a...</td>\n",
       "    </tr>\n",
       "    <tr>\n",
       "      <th>1112400</th>\n",
       "      <td>bowieblue</td>\n",
       "      <td>Moving into my new place today  &amp;lt;3</td>\n",
       "      <td>moving into my new place today 3</td>\n",
       "    </tr>\n",
       "    <tr>\n",
       "      <th>840793</th>\n",
       "      <td>nkeeyah</td>\n",
       "      <td>I'm a little sad today   I don't know why.</td>\n",
       "      <td>im little sad today i dont know why</td>\n",
       "    </tr>\n",
       "  </tbody>\n",
       "</table>\n",
       "</div>"
      ],
      "text/plain": [
       "             username                                               text  \\\n",
       "66270       rohdesign  My favorite part of the Jimmy Fallon show: The...   \n",
       "428045       blettany  A Chorus Line at the Aronoff with Dad...then C...   \n",
       "1307927  bryan_wilson  @judahworldchamp - I think for next season of ...   \n",
       "1112400     bowieblue              Moving into my new place today  &lt;3   \n",
       "840793        nkeeyah         I'm a little sad today   I don't know why.   \n",
       "\n",
       "                                                lemmatized  \n",
       "66270    my favorite part jimmy fallon show root crew t...  \n",
       "428045   chorus line aronoff dadthen cadillac ranch dinner  \n",
       "1307927  USERNAME i think next season 30rock sometime a...  \n",
       "1112400                   moving into my new place today 3  \n",
       "840793                 im little sad today i dont know why  "
      ]
     },
     "execution_count": 4,
     "metadata": {},
     "output_type": "execute_result"
    }
   ],
   "source": [
    "X_train.head() "
   ]
  },
  {
   "cell_type": "code",
   "execution_count": 5,
   "metadata": {},
   "outputs": [
    {
     "data": {
      "text/html": [
       "<div>\n",
       "<style scoped>\n",
       "    .dataframe tbody tr th:only-of-type {\n",
       "        vertical-align: middle;\n",
       "    }\n",
       "\n",
       "    .dataframe tbody tr th {\n",
       "        vertical-align: top;\n",
       "    }\n",
       "\n",
       "    .dataframe thead th {\n",
       "        text-align: right;\n",
       "    }\n",
       "</style>\n",
       "<table border=\"1\" class=\"dataframe\">\n",
       "  <thead>\n",
       "    <tr style=\"text-align: right;\">\n",
       "      <th></th>\n",
       "      <th>target</th>\n",
       "    </tr>\n",
       "  </thead>\n",
       "  <tbody>\n",
       "    <tr>\n",
       "      <th>66270</th>\n",
       "      <td>0</td>\n",
       "    </tr>\n",
       "    <tr>\n",
       "      <th>428045</th>\n",
       "      <td>0</td>\n",
       "    </tr>\n",
       "    <tr>\n",
       "      <th>1307927</th>\n",
       "      <td>1</td>\n",
       "    </tr>\n",
       "    <tr>\n",
       "      <th>1112400</th>\n",
       "      <td>1</td>\n",
       "    </tr>\n",
       "    <tr>\n",
       "      <th>840793</th>\n",
       "      <td>1</td>\n",
       "    </tr>\n",
       "  </tbody>\n",
       "</table>\n",
       "</div>"
      ],
      "text/plain": [
       "         target\n",
       "66270         0\n",
       "428045        0\n",
       "1307927       1\n",
       "1112400       1\n",
       "840793        1"
      ]
     },
     "execution_count": 5,
     "metadata": {},
     "output_type": "execute_result"
    }
   ],
   "source": [
    "y_train.head()"
   ]
  },
  {
   "cell_type": "markdown",
   "metadata": {},
   "source": [
    "Look for emojis, get `NaNs` instead:"
   ]
  },
  {
   "cell_type": "code",
   "execution_count": 6,
   "metadata": {},
   "outputs": [],
   "source": [
    "error_ix = []\n",
    "emoji_ix = []\n",
    "for i, tweet in enumerate(X_train['lemmatized'][:len(X_train)]):\n",
    "    try:\n",
    "        m = re.search(r'EMOJI', tweet)\n",
    "        if m:\n",
    "            emoji_ix.append(i)\n",
    "    except TypeError as e: \n",
    "        error_ix.append(i)"
   ]
  },
  {
   "cell_type": "code",
   "execution_count": 7,
   "metadata": {},
   "outputs": [
    {
     "data": {
      "text/html": [
       "<div>\n",
       "<style scoped>\n",
       "    .dataframe tbody tr th:only-of-type {\n",
       "        vertical-align: middle;\n",
       "    }\n",
       "\n",
       "    .dataframe tbody tr th {\n",
       "        vertical-align: top;\n",
       "    }\n",
       "\n",
       "    .dataframe thead th {\n",
       "        text-align: right;\n",
       "    }\n",
       "</style>\n",
       "<table border=\"1\" class=\"dataframe\">\n",
       "  <thead>\n",
       "    <tr style=\"text-align: right;\">\n",
       "      <th></th>\n",
       "      <th>username</th>\n",
       "      <th>text</th>\n",
       "      <th>lemmatized</th>\n",
       "    </tr>\n",
       "  </thead>\n",
       "  <tbody>\n",
       "    <tr>\n",
       "      <th>394523</th>\n",
       "      <td>Jmoux</td>\n",
       "      <td>are on..</td>\n",
       "      <td>NaN</td>\n",
       "    </tr>\n",
       "    <tr>\n",
       "      <th>738615</th>\n",
       "      <td>Spacegirlspif13</td>\n",
       "      <td>Is...                                         ...</td>\n",
       "      <td>NaN</td>\n",
       "    </tr>\n",
       "    <tr>\n",
       "      <th>371034</th>\n",
       "      <td>WMonk</td>\n",
       "      <td>It will</td>\n",
       "      <td>NaN</td>\n",
       "    </tr>\n",
       "    <tr>\n",
       "      <th>666330</th>\n",
       "      <td>LukeOgle</td>\n",
       "      <td>is in IT</td>\n",
       "      <td>NaN</td>\n",
       "    </tr>\n",
       "    <tr>\n",
       "      <th>1032283</th>\n",
       "      <td>dianamra</td>\n",
       "      <td>and it was</td>\n",
       "      <td>NaN</td>\n",
       "    </tr>\n",
       "    <tr>\n",
       "      <th>1224562</th>\n",
       "      <td>ChickWithAName</td>\n",
       "      <td>. . . . . and it's on!</td>\n",
       "      <td>NaN</td>\n",
       "    </tr>\n",
       "    <tr>\n",
       "      <th>704528</th>\n",
       "      <td>rooroocachoo</td>\n",
       "      <td>It will</td>\n",
       "      <td>NaN</td>\n",
       "    </tr>\n",
       "    <tr>\n",
       "      <th>935651</th>\n",
       "      <td>geegeeludlow</td>\n",
       "      <td>is in IT</td>\n",
       "      <td>NaN</td>\n",
       "    </tr>\n",
       "    <tr>\n",
       "      <th>1472714</th>\n",
       "      <td>sangofsorrow</td>\n",
       "      <td>He is...</td>\n",
       "      <td>NaN</td>\n",
       "    </tr>\n",
       "    <tr>\n",
       "      <th>986445</th>\n",
       "      <td>SquarahFaggins</td>\n",
       "      <td>to it!!</td>\n",
       "      <td>NaN</td>\n",
       "    </tr>\n",
       "  </tbody>\n",
       "</table>\n",
       "</div>"
      ],
      "text/plain": [
       "                username                                               text  \\\n",
       "394523             Jmoux                                          are on..    \n",
       "738615   Spacegirlspif13  Is...                                         ...   \n",
       "371034             WMonk                                           It will    \n",
       "666330          LukeOgle                                          is in IT    \n",
       "1032283         dianamra                                        and it was    \n",
       "1224562   ChickWithAName                            . . . . . and it's on!    \n",
       "704528      rooroocachoo                                           It will    \n",
       "935651      geegeeludlow                                          is in IT    \n",
       "1472714     sangofsorrow                                       He is...       \n",
       "986445    SquarahFaggins                                           to it!!    \n",
       "\n",
       "        lemmatized  \n",
       "394523         NaN  \n",
       "738615         NaN  \n",
       "371034         NaN  \n",
       "666330         NaN  \n",
       "1032283        NaN  \n",
       "1224562        NaN  \n",
       "704528         NaN  \n",
       "935651         NaN  \n",
       "1472714        NaN  \n",
       "986445         NaN  "
      ]
     },
     "execution_count": 7,
     "metadata": {},
     "output_type": "execute_result"
    }
   ],
   "source": [
    "# only a few NaNs\n",
    "X_train.iloc[error_ix, ]"
   ]
  },
  {
   "cell_type": "code",
   "execution_count": 8,
   "metadata": {},
   "outputs": [
    {
     "data": {
      "text/html": [
       "<div>\n",
       "<style scoped>\n",
       "    .dataframe tbody tr th:only-of-type {\n",
       "        vertical-align: middle;\n",
       "    }\n",
       "\n",
       "    .dataframe tbody tr th {\n",
       "        vertical-align: top;\n",
       "    }\n",
       "\n",
       "    .dataframe thead th {\n",
       "        text-align: right;\n",
       "    }\n",
       "</style>\n",
       "<table border=\"1\" class=\"dataframe\">\n",
       "  <thead>\n",
       "    <tr style=\"text-align: right;\">\n",
       "      <th></th>\n",
       "      <th>username</th>\n",
       "      <th>text</th>\n",
       "      <th>lemmatized</th>\n",
       "    </tr>\n",
       "  </thead>\n",
       "  <tbody>\n",
       "    <tr>\n",
       "      <th>917087</th>\n",
       "      <td>Lesley_M</td>\n",
       "      <td>@DarrenRoberts Hope youÃ¢ÂÂre having a blast...</td>\n",
       "      <td>USERNAME hope you EMOJI re having blast i EMOJ...</td>\n",
       "    </tr>\n",
       "    <tr>\n",
       "      <th>175035</th>\n",
       "      <td>violetMars</td>\n",
       "      <td>RIP- Cpl. Charles Dustin Ã¢ÂÂDustyÃ¢Â? Parr...</td>\n",
       "      <td>rip cpl charles dustin EMOJI dusty EMOJI parri...</td>\n",
       "    </tr>\n",
       "    <tr>\n",
       "      <th>490152</th>\n",
       "      <td>Johnsito127</td>\n",
       "      <td>he said noo  ok doesnÃÂ´t matter i think we a...</td>\n",
       "      <td>said noo ok doesn EMOJI t matter i think we go...</td>\n",
       "    </tr>\n",
       "    <tr>\n",
       "      <th>621566</th>\n",
       "      <td>MelllTGP</td>\n",
       "      <td>@babycarrot5 your kind words made me feel so m...</td>\n",
       "      <td>USERNAME your kind word made me feel so much b...</td>\n",
       "    </tr>\n",
       "    <tr>\n",
       "      <th>80064</th>\n",
       "      <td>barraisah</td>\n",
       "      <td>Ouvindo The Killers. AtÃ¯Â¿Â½ron</td>\n",
       "      <td>ouvindo killer EMOJI ron</td>\n",
       "    </tr>\n",
       "  </tbody>\n",
       "</table>\n",
       "</div>"
      ],
      "text/plain": [
       "           username                                               text  \\\n",
       "917087     Lesley_M  @DarrenRoberts Hope youÃ¢ÂÂre having a blast...   \n",
       "175035   violetMars  RIP- Cpl. Charles Dustin Ã¢ÂÂDustyÃ¢Â? Parr...   \n",
       "490152  Johnsito127  he said noo  ok doesnÃÂ´t matter i think we a...   \n",
       "621566     MelllTGP  @babycarrot5 your kind words made me feel so m...   \n",
       "80064     barraisah                  Ouvindo The Killers. AtÃ¯Â¿Â½ron    \n",
       "\n",
       "                                               lemmatized  \n",
       "917087  USERNAME hope you EMOJI re having blast i EMOJ...  \n",
       "175035  rip cpl charles dustin EMOJI dusty EMOJI parri...  \n",
       "490152  said noo ok doesn EMOJI t matter i think we go...  \n",
       "621566  USERNAME your kind word made me feel so much b...  \n",
       "80064                            ouvindo killer EMOJI ron  "
      ]
     },
     "execution_count": 8,
     "metadata": {},
     "output_type": "execute_result"
    }
   ],
   "source": [
    "# emojis\n",
    "X_train.iloc[emoji_ix[:5], ]"
   ]
  },
  {
   "cell_type": "code",
   "execution_count": 9,
   "metadata": {},
   "outputs": [
    {
     "data": {
      "text/plain": [
       "10856"
      ]
     },
     "execution_count": 9,
     "metadata": {},
     "output_type": "execute_result"
    }
   ],
   "source": [
    "len(emoji_ix) # could be better?"
   ]
  },
  {
   "cell_type": "markdown",
   "metadata": {},
   "source": [
    "### Impute NAs created during cleanup\n",
    "\n",
    "We do not want to drop since the fact they ended up as empty strings is possibly informative."
   ]
  },
  {
   "cell_type": "code",
   "execution_count": 10,
   "metadata": {},
   "outputs": [
    {
     "data": {
      "text/plain": [
       "username       0\n",
       "text           0\n",
       "lemmatized    10\n",
       "dtype: int64"
      ]
     },
     "execution_count": 10,
     "metadata": {},
     "output_type": "execute_result"
    }
   ],
   "source": [
    "X_train.isnull().sum()"
   ]
  },
  {
   "cell_type": "code",
   "execution_count": 11,
   "metadata": {},
   "outputs": [],
   "source": [
    "# Impute with NULL as a string\n",
    "error_ix = []\n",
    "NULL_ix = []\n",
    "for i, tweet in enumerate(X_train['lemmatized'][:len(X_train)]):\n",
    "    try:\n",
    "        m = re.search(r'NULL', tweet)\n",
    "        if m:\n",
    "            NULL_ix.append(i)\n",
    "    except TypeError as e: \n",
    "        error_ix.append(i)\n",
    "\n",
    "NA_ix = X_train.loc[X_train['lemmatized'].isnull(), ].index\n",
    "X_train['lemmatized'].loc[list(NA_ix), ] = 'NULL'"
   ]
  },
  {
   "cell_type": "code",
   "execution_count": 12,
   "metadata": {},
   "outputs": [
    {
     "data": {
      "text/plain": [
       "username      0\n",
       "text          0\n",
       "lemmatized    0\n",
       "dtype: int64"
      ]
     },
     "execution_count": 12,
     "metadata": {},
     "output_type": "execute_result"
    }
   ],
   "source": [
    "# double check\n",
    "X_train.isnull().sum()"
   ]
  },
  {
   "cell_type": "code",
   "execution_count": 13,
   "metadata": {},
   "outputs": [
    {
     "data": {
      "text/html": [
       "<div>\n",
       "<style scoped>\n",
       "    .dataframe tbody tr th:only-of-type {\n",
       "        vertical-align: middle;\n",
       "    }\n",
       "\n",
       "    .dataframe tbody tr th {\n",
       "        vertical-align: top;\n",
       "    }\n",
       "\n",
       "    .dataframe thead th {\n",
       "        text-align: right;\n",
       "    }\n",
       "</style>\n",
       "<table border=\"1\" class=\"dataframe\">\n",
       "  <thead>\n",
       "    <tr style=\"text-align: right;\">\n",
       "      <th></th>\n",
       "      <th>username</th>\n",
       "      <th>text</th>\n",
       "      <th>lemmatized</th>\n",
       "    </tr>\n",
       "  </thead>\n",
       "  <tbody>\n",
       "    <tr>\n",
       "      <th>394523</th>\n",
       "      <td>Jmoux</td>\n",
       "      <td>are on..</td>\n",
       "      <td>NULL</td>\n",
       "    </tr>\n",
       "    <tr>\n",
       "      <th>738615</th>\n",
       "      <td>Spacegirlspif13</td>\n",
       "      <td>Is...                                         ...</td>\n",
       "      <td>NULL</td>\n",
       "    </tr>\n",
       "    <tr>\n",
       "      <th>371034</th>\n",
       "      <td>WMonk</td>\n",
       "      <td>It will</td>\n",
       "      <td>NULL</td>\n",
       "    </tr>\n",
       "    <tr>\n",
       "      <th>666330</th>\n",
       "      <td>LukeOgle</td>\n",
       "      <td>is in IT</td>\n",
       "      <td>NULL</td>\n",
       "    </tr>\n",
       "    <tr>\n",
       "      <th>1032283</th>\n",
       "      <td>dianamra</td>\n",
       "      <td>and it was</td>\n",
       "      <td>NULL</td>\n",
       "    </tr>\n",
       "    <tr>\n",
       "      <th>1224562</th>\n",
       "      <td>ChickWithAName</td>\n",
       "      <td>. . . . . and it's on!</td>\n",
       "      <td>NULL</td>\n",
       "    </tr>\n",
       "    <tr>\n",
       "      <th>704528</th>\n",
       "      <td>rooroocachoo</td>\n",
       "      <td>It will</td>\n",
       "      <td>NULL</td>\n",
       "    </tr>\n",
       "    <tr>\n",
       "      <th>935651</th>\n",
       "      <td>geegeeludlow</td>\n",
       "      <td>is in IT</td>\n",
       "      <td>NULL</td>\n",
       "    </tr>\n",
       "    <tr>\n",
       "      <th>1472714</th>\n",
       "      <td>sangofsorrow</td>\n",
       "      <td>He is...</td>\n",
       "      <td>NULL</td>\n",
       "    </tr>\n",
       "    <tr>\n",
       "      <th>986445</th>\n",
       "      <td>SquarahFaggins</td>\n",
       "      <td>to it!!</td>\n",
       "      <td>NULL</td>\n",
       "    </tr>\n",
       "  </tbody>\n",
       "</table>\n",
       "</div>"
      ],
      "text/plain": [
       "                username                                               text  \\\n",
       "394523             Jmoux                                          are on..    \n",
       "738615   Spacegirlspif13  Is...                                         ...   \n",
       "371034             WMonk                                           It will    \n",
       "666330          LukeOgle                                          is in IT    \n",
       "1032283         dianamra                                        and it was    \n",
       "1224562   ChickWithAName                            . . . . . and it's on!    \n",
       "704528      rooroocachoo                                           It will    \n",
       "935651      geegeeludlow                                          is in IT    \n",
       "1472714     sangofsorrow                                       He is...       \n",
       "986445    SquarahFaggins                                           to it!!    \n",
       "\n",
       "        lemmatized  \n",
       "394523        NULL  \n",
       "738615        NULL  \n",
       "371034        NULL  \n",
       "666330        NULL  \n",
       "1032283       NULL  \n",
       "1224562       NULL  \n",
       "704528        NULL  \n",
       "935651        NULL  \n",
       "1472714       NULL  \n",
       "986445        NULL  "
      ]
     },
     "execution_count": 13,
     "metadata": {},
     "output_type": "execute_result"
    }
   ],
   "source": [
    "error_ix = []\n",
    "for i, tweet in enumerate(X_train['lemmatized'][:len(X_train)]):\n",
    "    try:\n",
    "        m = re.search(r'NULL', tweet)\n",
    "        if m:\n",
    "            NULL_ix.append(i)\n",
    "    except TypeError as e: \n",
    "        continue\n",
    "\n",
    "X_train.iloc[NULL_ix, ]"
   ]
  },
  {
   "cell_type": "markdown",
   "metadata": {},
   "source": [
    "### Create BoW DFM"
   ]
  },
  {
   "cell_type": "code",
   "execution_count": 14,
   "metadata": {},
   "outputs": [],
   "source": [
    "# lemmatized column (2) as array, ravel will flatten the structure\n",
    "X_array = np.array(X_train.iloc[:, 2]).ravel()"
   ]
  },
  {
   "cell_type": "code",
   "execution_count": 15,
   "metadata": {},
   "outputs": [
    {
     "data": {
      "text/plain": [
       "array(['my favorite part jimmy fallon show root crew tuba player',\n",
       "       'chorus line aronoff dadthen cadillac ranch dinner',\n",
       "       'USERNAME i think next season 30rock sometime alternate between yes or no hat every other shot breadbutter',\n",
       "       ...,\n",
       "       'i wish my head wasnt so sore plaza tapatia shorebird game whitney my momma',\n",
       "       'USERNAME could you post link internet version time so i can read pllleeeaaassseeeeee',\n",
       "       'USERNAME try listen USERNAME song i think youll like'],\n",
       "      dtype=object)"
      ]
     },
     "execution_count": 15,
     "metadata": {},
     "output_type": "execute_result"
    }
   ],
   "source": [
    "X_array"
   ]
  },
  {
   "cell_type": "code",
   "execution_count": 17,
   "metadata": {},
   "outputs": [],
   "source": [
    "# create a BoW DFM\n",
    "bow_vectorizer_ung = CountVectorizer(max_features=10000) \n",
    "bow_vectorizer_big = CountVectorizer(max_features=10000, ngram_range=(1,2))\n",
    "\n",
    "X_bow_ung = bow_vectorizer_ung.fit_transform(X_array)\n",
    "X_bow_big = bow_vectorizer_big.fit_transform(X_array)"
   ]
  },
  {
   "cell_type": "code",
   "execution_count": 18,
   "metadata": {},
   "outputs": [
    {
     "data": {
      "text/plain": [
       "(<1199999x10000 sparse matrix of type '<class 'numpy.int64'>'\n",
       " \twith 10626030 stored elements in Compressed Sparse Row format>,\n",
       " <1199999x10000 sparse matrix of type '<class 'numpy.int64'>'\n",
       " \twith 13212223 stored elements in Compressed Sparse Row format>)"
      ]
     },
     "execution_count": 18,
     "metadata": {},
     "output_type": "execute_result"
    }
   ],
   "source": [
    "# Total space <1199999x329492 sparse matrix of type '<class 'numpy.int64'>' with 11446957 stored elements\n",
    "X_bow_ung, X_bow_big"
   ]
  },
  {
   "cell_type": "code",
   "execution_count": 19,
   "metadata": {},
   "outputs": [
    {
     "name": "stdout",
     "output_type": "stream",
     "text": [
      "Only 0.0885503238 % nonzero.\n"
     ]
    }
   ],
   "source": [
    "# Only 0.0028951048 % nonzero for ALL features\n",
    "def calc_sparsity(X):\n",
    "    total_space = X.shape[0] * X.shape[1]\n",
    "    total_store = X.getnnz()\n",
    "    pct_zeroes = 100 * (total_store/total_space)\n",
    "    print(f'Only {pct_zeroes:0.10f} % nonzero.')\n",
    "\n",
    "calc_sparsity(X_bow_ung)"
   ]
  },
  {
   "cell_type": "code",
   "execution_count": 21,
   "metadata": {},
   "outputs": [
    {
     "name": "stdout",
     "output_type": "stream",
     "text": [
      "Only 0.1101019501 % nonzero.\n"
     ]
    }
   ],
   "source": [
    "calc_sparsity(X_bow_big)"
   ]
  },
  {
   "cell_type": "markdown",
   "metadata": {},
   "source": [
    "### Save BoW"
   ]
  },
  {
   "cell_type": "code",
   "execution_count": 22,
   "metadata": {},
   "outputs": [
    {
     "name": "stdout",
     "output_type": "stream",
     "text": [
      "Elapsed Time: 7 minute(s) and 5 second(s)\n"
     ]
    }
   ],
   "source": [
    "savepath = os.path.join(\"..\",\"data\",\"3_processed\",\"sentiment140\")\n",
    "sp.save_npz(os.path.join(savepath, 'X_bow_ung.npz'), X_bow_ung)\n",
    "sp.save_npz(os.path.join(savepath, 'X_bow_big.npz'), X_bow_big)\n",
    "\n",
    "# print total running time\n",
    "mins, secs = divmod(time.time() - start_time, 60)\n",
    "print(f'Elapsed Time: {mins:0.0f} minute(s) and {secs:0.0f} second(s)')"
   ]
  },
  {
   "cell_type": "markdown",
   "metadata": {},
   "source": [
    "---"
   ]
  }
 ],
 "metadata": {
  "kernelspec": {
   "display_name": "Python 3",
   "language": "python",
   "name": "python3"
  },
  "language_info": {
   "codemirror_mode": {
    "name": "ipython",
    "version": 3
   },
   "file_extension": ".py",
   "mimetype": "text/x-python",
   "name": "python",
   "nbconvert_exporter": "python",
   "pygments_lexer": "ipython3",
   "version": "3.7.3"
  }
 },
 "nbformat": 4,
 "nbformat_minor": 4
}
