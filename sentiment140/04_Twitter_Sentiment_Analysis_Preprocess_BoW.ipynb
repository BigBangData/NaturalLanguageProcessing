{
 "cells": [
  {
   "cell_type": "markdown",
   "metadata": {},
   "source": [
    "## Twitter Sentiment Analysis \n",
    "\n",
    "---\n",
    "\n",
    "###  Pre-process cleaned data for machine learning \n",
    "\n",
    "### Part 1: Bag of Words\n",
    "\n",
    "While cleanup involved simply reformatting a Tweet's text by standardizing it and reducing the feature space (less punctuation, replacing usernames and URLs, lower casing, tokenizing, lemmatizing, etc.), pre-processing for machine learning is often more involved. It mainly consists of further data cleanup steps such as imputing NAs, but also feature engineering, and perhaps most importantly, a method of representing text in numerical form, such as [Document Term Matrices](./01_Document_Term_Matrices.ipynb), since most machine-learning algorithms do not accept text as input. This notebook explores the creation of a simple Bag of Words Document-Frequency Matrix.\n",
    "\n",
    "---\n",
    "\n",
    "### Load cleaned TRAIN data\n"
   ]
  },
  {
   "cell_type": "code",
   "execution_count": 2,
   "metadata": {},
   "outputs": [],
   "source": [
    "import os \n",
    "import re\n",
    "import time\n",
    "\n",
    "import numpy as np\n",
    "import pandas as pd\n",
    "import scipy.sparse as sp\n",
    "\n",
    "# for ML preprocessing\n",
    "from sklearn import preprocessing\n",
    "from sklearn.feature_extraction.text import TfidfVectorizer\n",
    "from sklearn.feature_extraction.text import CountVectorizer\n",
    "\n",
    "# custom (see script)\n",
    "import loading_module as lm\n",
    "\n",
    "start_time = time.time()\n",
    "X_train, y_train = lm.load_clean_data('X_train')"
   ]
  },
  {
   "cell_type": "markdown",
   "metadata": {},
   "source": [
    "### Save y as .npy"
   ]
  },
  {
   "cell_type": "code",
   "execution_count": 3,
   "metadata": {},
   "outputs": [],
   "source": [
    "proc_dir = os.path.join(\"..\",\"data\",\"3_processed\",\"sentiment140\")\n",
    "y_filepath = os.path.join(proc_dir, \"y_train.npy\")\n",
    "\n",
    "with open(y_filepath, 'wb') as f:\n",
    "    np.save(f, y_train)"
   ]
  },
  {
   "cell_type": "markdown",
   "metadata": {},
   "source": [
    "### Quick EDA"
   ]
  },
  {
   "cell_type": "code",
   "execution_count": 4,
   "metadata": {},
   "outputs": [
    {
     "data": {
      "text/plain": [
       "((1199999, 3), (1199999, 1))"
      ]
     },
     "execution_count": 4,
     "metadata": {},
     "output_type": "execute_result"
    }
   ],
   "source": [
    "X_train.shape, y_train.shape"
   ]
  },
  {
   "cell_type": "code",
   "execution_count": 5,
   "metadata": {},
   "outputs": [
    {
     "data": {
      "text/html": [
       "<div>\n",
       "<style scoped>\n",
       "    .dataframe tbody tr th:only-of-type {\n",
       "        vertical-align: middle;\n",
       "    }\n",
       "\n",
       "    .dataframe tbody tr th {\n",
       "        vertical-align: top;\n",
       "    }\n",
       "\n",
       "    .dataframe thead th {\n",
       "        text-align: right;\n",
       "    }\n",
       "</style>\n",
       "<table border=\"1\" class=\"dataframe\">\n",
       "  <thead>\n",
       "    <tr style=\"text-align: right;\">\n",
       "      <th></th>\n",
       "      <th>username</th>\n",
       "      <th>text</th>\n",
       "      <th>lemmatized</th>\n",
       "    </tr>\n",
       "  </thead>\n",
       "  <tbody>\n",
       "    <tr>\n",
       "      <th>66270</th>\n",
       "      <td>kylefong</td>\n",
       "      <td>Please pray for my house. There is a major wat...</td>\n",
       "      <td>please pray my house there major water leakage...</td>\n",
       "    </tr>\n",
       "    <tr>\n",
       "      <th>428045</th>\n",
       "      <td>Abcmsaj</td>\n",
       "      <td>http://twitpic.com/kfu7 - Bump this</td>\n",
       "      <td>URL bump this</td>\n",
       "    </tr>\n",
       "    <tr>\n",
       "      <th>1307927</th>\n",
       "      <td>rkguruparan</td>\n",
       "      <td>@sanjanah just saw the 'not' part in your last...</td>\n",
       "      <td>USERNAME just saw not part your last message</td>\n",
       "    </tr>\n",
       "    <tr>\n",
       "      <th>1112400</th>\n",
       "      <td>Breedon</td>\n",
       "      <td>@Princesz22 lol, I put up 100 tracks u haven't...</td>\n",
       "      <td>USERNAME lol i put up 100 track u havent retwe...</td>\n",
       "    </tr>\n",
       "    <tr>\n",
       "      <th>840793</th>\n",
       "      <td>redgehomes</td>\n",
       "      <td>@NBA u gotta endorse an application if u gonna...</td>\n",
       "      <td>USERNAME u got ta endorse application if u gon...</td>\n",
       "    </tr>\n",
       "  </tbody>\n",
       "</table>\n",
       "</div>"
      ],
      "text/plain": [
       "            username                                               text  \\\n",
       "66270       kylefong  Please pray for my house. There is a major wat...   \n",
       "428045       Abcmsaj               http://twitpic.com/kfu7 - Bump this    \n",
       "1307927  rkguruparan  @sanjanah just saw the 'not' part in your last...   \n",
       "1112400      Breedon  @Princesz22 lol, I put up 100 tracks u haven't...   \n",
       "840793    redgehomes  @NBA u gotta endorse an application if u gonna...   \n",
       "\n",
       "                                                lemmatized  \n",
       "66270    please pray my house there major water leakage...  \n",
       "428045                                       URL bump this  \n",
       "1307927       USERNAME just saw not part your last message  \n",
       "1112400  USERNAME lol i put up 100 track u havent retwe...  \n",
       "840793   USERNAME u got ta endorse application if u gon...  "
      ]
     },
     "execution_count": 5,
     "metadata": {},
     "output_type": "execute_result"
    }
   ],
   "source": [
    "X_train.head() "
   ]
  },
  {
   "cell_type": "code",
   "execution_count": 4,
   "metadata": {},
   "outputs": [
    {
     "data": {
      "text/html": [
       "<div>\n",
       "<style scoped>\n",
       "    .dataframe tbody tr th:only-of-type {\n",
       "        vertical-align: middle;\n",
       "    }\n",
       "\n",
       "    .dataframe tbody tr th {\n",
       "        vertical-align: top;\n",
       "    }\n",
       "\n",
       "    .dataframe thead th {\n",
       "        text-align: right;\n",
       "    }\n",
       "</style>\n",
       "<table border=\"1\" class=\"dataframe\">\n",
       "  <thead>\n",
       "    <tr style=\"text-align: right;\">\n",
       "      <th></th>\n",
       "      <th>target</th>\n",
       "    </tr>\n",
       "  </thead>\n",
       "  <tbody>\n",
       "    <tr>\n",
       "      <th>66270</th>\n",
       "      <td>0</td>\n",
       "    </tr>\n",
       "    <tr>\n",
       "      <th>428045</th>\n",
       "      <td>0</td>\n",
       "    </tr>\n",
       "    <tr>\n",
       "      <th>1307927</th>\n",
       "      <td>1</td>\n",
       "    </tr>\n",
       "    <tr>\n",
       "      <th>1112400</th>\n",
       "      <td>1</td>\n",
       "    </tr>\n",
       "    <tr>\n",
       "      <th>840793</th>\n",
       "      <td>1</td>\n",
       "    </tr>\n",
       "  </tbody>\n",
       "</table>\n",
       "</div>"
      ],
      "text/plain": [
       "         target\n",
       "66270         0\n",
       "428045        0\n",
       "1307927       1\n",
       "1112400       1\n",
       "840793        1"
      ]
     },
     "execution_count": 4,
     "metadata": {},
     "output_type": "execute_result"
    }
   ],
   "source": [
    "y_train.head()"
   ]
  },
  {
   "cell_type": "markdown",
   "metadata": {},
   "source": [
    "Look for emojis, get `NaNs` instead:"
   ]
  },
  {
   "cell_type": "code",
   "execution_count": 5,
   "metadata": {},
   "outputs": [],
   "source": [
    "error_ix = []\n",
    "emoji_ix = []\n",
    "for i, tweet in enumerate(df['lemmatized'][:len(df)]):\n",
    "    try:\n",
    "        m = re.search(r'EMOJI', tweet)\n",
    "        if m:\n",
    "            emoji_ix.append(i)\n",
    "    except TypeError as e: \n",
    "        error_ix.append(i)"
   ]
  },
  {
   "cell_type": "code",
   "execution_count": 6,
   "metadata": {},
   "outputs": [
    {
     "data": {
      "text/html": [
       "<div>\n",
       "<style scoped>\n",
       "    .dataframe tbody tr th:only-of-type {\n",
       "        vertical-align: middle;\n",
       "    }\n",
       "\n",
       "    .dataframe tbody tr th {\n",
       "        vertical-align: top;\n",
       "    }\n",
       "\n",
       "    .dataframe thead th {\n",
       "        text-align: right;\n",
       "    }\n",
       "</style>\n",
       "<table border=\"1\" class=\"dataframe\">\n",
       "  <thead>\n",
       "    <tr style=\"text-align: right;\">\n",
       "      <th></th>\n",
       "      <th>username</th>\n",
       "      <th>text</th>\n",
       "      <th>lemmatized</th>\n",
       "    </tr>\n",
       "  </thead>\n",
       "  <tbody>\n",
       "    <tr>\n",
       "      <th>1023057</th>\n",
       "      <td>ChickWithAName</td>\n",
       "      <td>. . . . . and it's on!</td>\n",
       "      <td>NaN</td>\n",
       "    </tr>\n",
       "    <tr>\n",
       "      <th>301554</th>\n",
       "      <td>sangofsorrow</td>\n",
       "      <td>He is...</td>\n",
       "      <td>NaN</td>\n",
       "    </tr>\n",
       "    <tr>\n",
       "      <th>473192</th>\n",
       "      <td>LukeOgle</td>\n",
       "      <td>is in IT</td>\n",
       "      <td>NaN</td>\n",
       "    </tr>\n",
       "    <tr>\n",
       "      <th>690091</th>\n",
       "      <td>dianamra</td>\n",
       "      <td>and it was</td>\n",
       "      <td>NaN</td>\n",
       "    </tr>\n",
       "    <tr>\n",
       "      <th>910200</th>\n",
       "      <td>Spacegirlspif13</td>\n",
       "      <td>Is...                                         ...</td>\n",
       "      <td>NaN</td>\n",
       "    </tr>\n",
       "    <tr>\n",
       "      <th>248115</th>\n",
       "      <td>WMonk</td>\n",
       "      <td>It will</td>\n",
       "      <td>NaN</td>\n",
       "    </tr>\n",
       "    <tr>\n",
       "      <th>229686</th>\n",
       "      <td>Jmoux</td>\n",
       "      <td>are on..</td>\n",
       "      <td>NaN</td>\n",
       "    </tr>\n",
       "    <tr>\n",
       "      <th>1058230</th>\n",
       "      <td>SquarahFaggins</td>\n",
       "      <td>to it!!</td>\n",
       "      <td>NaN</td>\n",
       "    </tr>\n",
       "    <tr>\n",
       "      <th>213856</th>\n",
       "      <td>geegeeludlow</td>\n",
       "      <td>is in IT</td>\n",
       "      <td>NaN</td>\n",
       "    </tr>\n",
       "    <tr>\n",
       "      <th>1288815</th>\n",
       "      <td>rooroocachoo</td>\n",
       "      <td>It will</td>\n",
       "      <td>NaN</td>\n",
       "    </tr>\n",
       "  </tbody>\n",
       "</table>\n",
       "</div>"
      ],
      "text/plain": [
       "                username                                               text  \\\n",
       "1023057   ChickWithAName                            . . . . . and it's on!    \n",
       "301554      sangofsorrow                                       He is...       \n",
       "473192          LukeOgle                                          is in IT    \n",
       "690091          dianamra                                        and it was    \n",
       "910200   Spacegirlspif13  Is...                                         ...   \n",
       "248115             WMonk                                           It will    \n",
       "229686             Jmoux                                          are on..    \n",
       "1058230   SquarahFaggins                                           to it!!    \n",
       "213856      geegeeludlow                                          is in IT    \n",
       "1288815     rooroocachoo                                           It will    \n",
       "\n",
       "        lemmatized  \n",
       "1023057        NaN  \n",
       "301554         NaN  \n",
       "473192         NaN  \n",
       "690091         NaN  \n",
       "910200         NaN  \n",
       "248115         NaN  \n",
       "229686         NaN  \n",
       "1058230        NaN  \n",
       "213856         NaN  \n",
       "1288815        NaN  "
      ]
     },
     "execution_count": 6,
     "metadata": {},
     "output_type": "execute_result"
    }
   ],
   "source": [
    "# only a few NaNs\n",
    "df.iloc[error_ix, ]"
   ]
  },
  {
   "cell_type": "code",
   "execution_count": 7,
   "metadata": {},
   "outputs": [
    {
     "data": {
      "text/html": [
       "<div>\n",
       "<style scoped>\n",
       "    .dataframe tbody tr th:only-of-type {\n",
       "        vertical-align: middle;\n",
       "    }\n",
       "\n",
       "    .dataframe tbody tr th {\n",
       "        vertical-align: top;\n",
       "    }\n",
       "\n",
       "    .dataframe thead th {\n",
       "        text-align: right;\n",
       "    }\n",
       "</style>\n",
       "<table border=\"1\" class=\"dataframe\">\n",
       "  <thead>\n",
       "    <tr style=\"text-align: right;\">\n",
       "      <th></th>\n",
       "      <th>username</th>\n",
       "      <th>text</th>\n",
       "      <th>lemmatized</th>\n",
       "    </tr>\n",
       "  </thead>\n",
       "  <tbody>\n",
       "    <tr>\n",
       "      <th>752651</th>\n",
       "      <td>oeaejung</td>\n",
       "      <td>@FlowGoTom Hey, I watched your clip. wanna say...</td>\n",
       "      <td>USERNAME hey i watched your clip wan na say tr...</td>\n",
       "    </tr>\n",
       "    <tr>\n",
       "      <th>962667</th>\n",
       "      <td>javadimon</td>\n",
       "      <td>ÃÂ¡ÃÂ¸ÃÂ¶ÃÂ ÃÂ² ÃÂÃÂµÃÂ",
       "ÃÂ, ÃÂ½Ã...</td>\n",
       "      <td>EMOJI EMOJI EMOJI EMOJI mt g3 EMOJI EMOJI 1mb ...</td>\n",
       "    </tr>\n",
       "    <tr>\n",
       "      <th>228718</th>\n",
       "      <td>jstn7</td>\n",
       "      <td>Time to pick the dragon upÃ¯Â¼?I'm sure she'll...</td>\n",
       "      <td>time pick dragon up EMOJI im sure shell have p...</td>\n",
       "    </tr>\n",
       "    <tr>\n",
       "      <th>1269140</th>\n",
       "      <td>Hanescymru</td>\n",
       "      <td>Cardiff 1989! There's lovely!  Ã¢ÂÂ« http://b...</td>\n",
       "      <td>cardiff 1989 there lovely EMOJI URL</td>\n",
       "    </tr>\n",
       "    <tr>\n",
       "      <th>956933</th>\n",
       "      <td>edwinduinkerken</td>\n",
       "      <td>Not so motivated for work today. Since that is...</td>\n",
       "      <td>not so motivated work today since not good thi...</td>\n",
       "    </tr>\n",
       "  </tbody>\n",
       "</table>\n",
       "</div>"
      ],
      "text/plain": [
       "                username                                               text  \\\n",
       "752651          oeaejung  @FlowGoTom Hey, I watched your clip. wanna say...   \n",
       "962667         javadimon  ÃÂ¡ÃÂ¸ÃÂ¶ÃÂ ÃÂ² ÃÂÃÂµÃÂ\n",
       "ÃÂ, ÃÂ½Ã...   \n",
       "228718             jstn7  Time to pick the dragon upÃ¯Â¼?I'm sure she'll...   \n",
       "1269140       Hanescymru  Cardiff 1989! There's lovely!  Ã¢ÂÂ« http://b...   \n",
       "956933   edwinduinkerken  Not so motivated for work today. Since that is...   \n",
       "\n",
       "                                                lemmatized  \n",
       "752651   USERNAME hey i watched your clip wan na say tr...  \n",
       "962667   EMOJI EMOJI EMOJI EMOJI mt g3 EMOJI EMOJI 1mb ...  \n",
       "228718   time pick dragon up EMOJI im sure shell have p...  \n",
       "1269140                cardiff 1989 there lovely EMOJI URL  \n",
       "956933   not so motivated work today since not good thi...  "
      ]
     },
     "execution_count": 7,
     "metadata": {},
     "output_type": "execute_result"
    }
   ],
   "source": [
    "# emojis\n",
    "df.iloc[emoji_ix[:5], ]"
   ]
  },
  {
   "cell_type": "code",
   "execution_count": 8,
   "metadata": {},
   "outputs": [
    {
     "data": {
      "text/plain": [
       "10856"
      ]
     },
     "execution_count": 8,
     "metadata": {},
     "output_type": "execute_result"
    }
   ],
   "source": [
    "len(emoji_ix) # could be better?"
   ]
  },
  {
   "cell_type": "markdown",
   "metadata": {},
   "source": [
    "### Impute NAs created during cleanup\n",
    "\n",
    "We do not want to drop since the fact they ended up as empty strings is possibly informative."
   ]
  },
  {
   "cell_type": "code",
   "execution_count": 9,
   "metadata": {},
   "outputs": [
    {
     "data": {
      "text/plain": [
       "username       0\n",
       "text           0\n",
       "lemmatized    10\n",
       "dtype: int64"
      ]
     },
     "execution_count": 9,
     "metadata": {},
     "output_type": "execute_result"
    }
   ],
   "source": [
    "df.isnull().sum()"
   ]
  },
  {
   "cell_type": "code",
   "execution_count": 10,
   "metadata": {},
   "outputs": [],
   "source": [
    "# Impute with NULL as a string\n",
    "error_ix = []\n",
    "NULL_ix = []\n",
    "for i, tweet in enumerate(df['lemmatized'][:len(df)]):\n",
    "    try:\n",
    "        m = re.search(r'NULL', tweet)\n",
    "        if m:\n",
    "            NULL_ix.append(i)\n",
    "    except TypeError as e: \n",
    "        error_ix.append(i)\n",
    "\n",
    "NA_ix = df.loc[df['lemmatized'].isnull(), ].index\n",
    "df['lemmatized'].loc[list(NA_ix), ] = 'NULL'"
   ]
  },
  {
   "cell_type": "code",
   "execution_count": 11,
   "metadata": {},
   "outputs": [
    {
     "data": {
      "text/plain": [
       "username      0\n",
       "text          0\n",
       "lemmatized    0\n",
       "dtype: int64"
      ]
     },
     "execution_count": 11,
     "metadata": {},
     "output_type": "execute_result"
    }
   ],
   "source": [
    "# double check\n",
    "df.isnull().sum()"
   ]
  },
  {
   "cell_type": "code",
   "execution_count": 12,
   "metadata": {},
   "outputs": [
    {
     "data": {
      "text/html": [
       "<div>\n",
       "<style scoped>\n",
       "    .dataframe tbody tr th:only-of-type {\n",
       "        vertical-align: middle;\n",
       "    }\n",
       "\n",
       "    .dataframe tbody tr th {\n",
       "        vertical-align: top;\n",
       "    }\n",
       "\n",
       "    .dataframe thead th {\n",
       "        text-align: right;\n",
       "    }\n",
       "</style>\n",
       "<table border=\"1\" class=\"dataframe\">\n",
       "  <thead>\n",
       "    <tr style=\"text-align: right;\">\n",
       "      <th></th>\n",
       "      <th>username</th>\n",
       "      <th>text</th>\n",
       "      <th>lemmatized</th>\n",
       "    </tr>\n",
       "  </thead>\n",
       "  <tbody>\n",
       "    <tr>\n",
       "      <th>1023057</th>\n",
       "      <td>ChickWithAName</td>\n",
       "      <td>. . . . . and it's on!</td>\n",
       "      <td>NULL</td>\n",
       "    </tr>\n",
       "    <tr>\n",
       "      <th>301554</th>\n",
       "      <td>sangofsorrow</td>\n",
       "      <td>He is...</td>\n",
       "      <td>NULL</td>\n",
       "    </tr>\n",
       "    <tr>\n",
       "      <th>473192</th>\n",
       "      <td>LukeOgle</td>\n",
       "      <td>is in IT</td>\n",
       "      <td>NULL</td>\n",
       "    </tr>\n",
       "    <tr>\n",
       "      <th>690091</th>\n",
       "      <td>dianamra</td>\n",
       "      <td>and it was</td>\n",
       "      <td>NULL</td>\n",
       "    </tr>\n",
       "    <tr>\n",
       "      <th>910200</th>\n",
       "      <td>Spacegirlspif13</td>\n",
       "      <td>Is...                                         ...</td>\n",
       "      <td>NULL</td>\n",
       "    </tr>\n",
       "    <tr>\n",
       "      <th>248115</th>\n",
       "      <td>WMonk</td>\n",
       "      <td>It will</td>\n",
       "      <td>NULL</td>\n",
       "    </tr>\n",
       "    <tr>\n",
       "      <th>229686</th>\n",
       "      <td>Jmoux</td>\n",
       "      <td>are on..</td>\n",
       "      <td>NULL</td>\n",
       "    </tr>\n",
       "    <tr>\n",
       "      <th>1058230</th>\n",
       "      <td>SquarahFaggins</td>\n",
       "      <td>to it!!</td>\n",
       "      <td>NULL</td>\n",
       "    </tr>\n",
       "    <tr>\n",
       "      <th>213856</th>\n",
       "      <td>geegeeludlow</td>\n",
       "      <td>is in IT</td>\n",
       "      <td>NULL</td>\n",
       "    </tr>\n",
       "    <tr>\n",
       "      <th>1288815</th>\n",
       "      <td>rooroocachoo</td>\n",
       "      <td>It will</td>\n",
       "      <td>NULL</td>\n",
       "    </tr>\n",
       "  </tbody>\n",
       "</table>\n",
       "</div>"
      ],
      "text/plain": [
       "                username                                               text  \\\n",
       "1023057   ChickWithAName                            . . . . . and it's on!    \n",
       "301554      sangofsorrow                                       He is...       \n",
       "473192          LukeOgle                                          is in IT    \n",
       "690091          dianamra                                        and it was    \n",
       "910200   Spacegirlspif13  Is...                                         ...   \n",
       "248115             WMonk                                           It will    \n",
       "229686             Jmoux                                          are on..    \n",
       "1058230   SquarahFaggins                                           to it!!    \n",
       "213856      geegeeludlow                                          is in IT    \n",
       "1288815     rooroocachoo                                           It will    \n",
       "\n",
       "        lemmatized  \n",
       "1023057       NULL  \n",
       "301554        NULL  \n",
       "473192        NULL  \n",
       "690091        NULL  \n",
       "910200        NULL  \n",
       "248115        NULL  \n",
       "229686        NULL  \n",
       "1058230       NULL  \n",
       "213856        NULL  \n",
       "1288815       NULL  "
      ]
     },
     "execution_count": 12,
     "metadata": {},
     "output_type": "execute_result"
    }
   ],
   "source": [
    "error_ix = []\n",
    "for i, tweet in enumerate(df['lemmatized'][:len(df)]):\n",
    "    try:\n",
    "        m = re.search(r'NULL', tweet)\n",
    "        if m:\n",
    "            NULL_ix.append(i)\n",
    "    except TypeError as e: \n",
    "        continue\n",
    "\n",
    "df.iloc[NULL_ix, ]"
   ]
  },
  {
   "cell_type": "markdown",
   "metadata": {},
   "source": [
    "### Create BoW DFM"
   ]
  },
  {
   "cell_type": "code",
   "execution_count": 13,
   "metadata": {},
   "outputs": [],
   "source": [
    "# lemmatized column (2) as array, ravel will flatten the structure\n",
    "X_array = np.array(df.iloc[:, 2]).ravel()"
   ]
  },
  {
   "cell_type": "code",
   "execution_count": 14,
   "metadata": {},
   "outputs": [],
   "source": [
    "# create a BoW DFM\n",
    "bow_vectorizer = CountVectorizer()\n",
    "\n",
    "X_bow = bow_vectorizer.fit_transform(X_array)"
   ]
  },
  {
   "cell_type": "code",
   "execution_count": 15,
   "metadata": {},
   "outputs": [
    {
     "data": {
      "text/plain": [
       "<1199999x329492 sparse matrix of type '<class 'numpy.int64'>'\n",
       "\twith 11446957 stored elements in Compressed Sparse Row format>"
      ]
     },
     "execution_count": 15,
     "metadata": {},
     "output_type": "execute_result"
    }
   ],
   "source": [
    "X_bow"
   ]
  },
  {
   "cell_type": "code",
   "execution_count": 16,
   "metadata": {},
   "outputs": [
    {
     "data": {
      "text/plain": [
       "matrix([[0, 0, 0, 0, 0, 0, 0, 0, 0, 0, 0, 0, 0, 0, 0, 0, 0, 0, 0, 0],\n",
       "        [0, 0, 0, 0, 0, 0, 0, 0, 0, 0, 0, 0, 0, 0, 0, 0, 0, 0, 0, 0],\n",
       "        [0, 0, 0, 0, 0, 0, 0, 0, 0, 0, 0, 0, 0, 0, 0, 0, 0, 0, 0, 0],\n",
       "        [0, 0, 0, 0, 0, 0, 0, 0, 0, 0, 0, 0, 0, 0, 0, 0, 0, 0, 0, 0],\n",
       "        [0, 0, 0, 0, 0, 0, 0, 0, 0, 0, 0, 0, 0, 0, 0, 0, 0, 0, 0, 0],\n",
       "        [0, 0, 0, 0, 0, 0, 0, 0, 0, 0, 0, 0, 0, 0, 0, 0, 0, 0, 0, 0]],\n",
       "       dtype=int64)"
      ]
     },
     "execution_count": 16,
     "metadata": {},
     "output_type": "execute_result"
    }
   ],
   "source": [
    "# visualize tiny portion\n",
    "X_bow[0:6, 0:20].todense()"
   ]
  },
  {
   "cell_type": "code",
   "execution_count": 17,
   "metadata": {},
   "outputs": [
    {
     "name": "stdout",
     "output_type": "stream",
     "text": [
      "Only 0.0028951048 % nonzero.\n"
     ]
    }
   ],
   "source": [
    "# calculate sparsity\n",
    "total_space = X_bow.shape[0] * X_bow.shape[1]\n",
    "total_store = X_bow.getnnz()\n",
    "pct_zeroes = 100 * (total_store/total_space)\n",
    "print(f'Only {pct_zeroes:0.10f} % nonzero.')"
   ]
  },
  {
   "cell_type": "markdown",
   "metadata": {},
   "source": [
    "### Save BoW"
   ]
  },
  {
   "cell_type": "code",
   "execution_count": 18,
   "metadata": {},
   "outputs": [
    {
     "name": "stdout",
     "output_type": "stream",
     "text": [
      "Elapsed Time: 1 minute(s) and 1 second(s)\n"
     ]
    }
   ],
   "source": [
    "savepath = os.path.join(\"..\",\"data\",\"3_processed\",\"sentiment140\")\n",
    "filename = 'X_bow'\n",
    "filepath = os.path.join(savepath, ''.join([filename, '.npz']))\n",
    "\n",
    "sp.save_npz(filepath, X_bow)\n",
    "\n",
    "# print total running time\n",
    "mins, secs = divmod(time.time() - start_time, 60)\n",
    "print(f'Elapsed Time: {mins:0.0f} minute(s) and {secs:0.0f} second(s)')"
   ]
  },
  {
   "cell_type": "markdown",
   "metadata": {},
   "source": [
    "---"
   ]
  }
 ],
 "metadata": {
  "kernelspec": {
   "display_name": "Python 3",
   "language": "python",
   "name": "python3"
  },
  "language_info": {
   "codemirror_mode": {
    "name": "ipython",
    "version": 3
   },
   "file_extension": ".py",
   "mimetype": "text/x-python",
   "name": "python",
   "nbconvert_exporter": "python",
   "pygments_lexer": "ipython3",
   "version": "3.7.3"
  }
 },
 "nbformat": 4,
 "nbformat_minor": 4
}
