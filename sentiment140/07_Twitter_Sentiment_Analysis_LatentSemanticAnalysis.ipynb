{
 "cells": [
  {
   "cell_type": "markdown",
   "metadata": {},
   "source": [
    "## Twitter Sentiment Analysis \n",
    "\n",
    "### Part 7: Latent Semantic Analysis (LSA)\n",
    "\n",
    "\n",
    "LSA using SVD to reduce vector space\n",
    "\n",
    "- Random Forest, also provides VarImp plot\n",
    "\n",
    "Feature Engineering\n",
    "\n",
    "- Ngrams\n",
    "- TextLength\n",
    "- CosineSimilarity \n",
    "\n",
    "Feature Selection\n",
    "\n",
    "- ?\n",
    "\n",
    "Modeling\n",
    "\n",
    "- SVM/SVC\n",
    "- SGD\n",
    "- Decision Trees\n",
    "\n",
    "Curiosity:\n",
    "- NB with 10% random sample + bi-grams, etc. and/or SVD?\n",
    "- Look at actual predictions (text)? \n",
    "- Are we predicting labels or actual positive/negative emotions?\n",
    "- Combined approach with semantic analysis?\n",
    "\n",
    "\n",
    "Direction\n",
    "- define goal and purpose\n",
    "- for ex: is sensitivity (recall, TPR, TP/condition P) more important than specificity (selectivity, TNR, TN / condition N)?\n",
    "- in other words, do we want to minimize Type II error (increase sensitivity) or Type I error (increase specificity)?\n",
    "- or... do we care about precision (PPV, TP / pred P) rather? \n",
    "- if the goal is overall performance, the MCC (from sklearn.metrics import matthews_corrcoef) is probably preferred as it takes into account the entirety of the confusion matrix"
   ]
  },
  {
   "cell_type": "code",
   "execution_count": 20,
   "metadata": {},
   "outputs": [],
   "source": [
    "# total time notebook\n",
    "import time \n",
    "start_notebook = time.time()"
   ]
  },
  {
   "cell_type": "markdown",
   "metadata": {},
   "source": [
    "### Load Pre-Processed Data\n",
    "\n",
    "The timer decorator comes from Geir Arne Hjelle's [Real Python Tutorial](https://realpython.com/python-timer/#using-the-python-timer-decorator)."
   ]
  },
  {
   "cell_type": "code",
   "execution_count": 21,
   "metadata": {},
   "outputs": [
    {
     "name": "stdout",
     "output_type": "stream",
     "text": [
      "Elapsed time: 35.2358 seconds\n"
     ]
    }
   ],
   "source": [
    "import os \n",
    "import functools\n",
    "import numpy as np\n",
    "import scipy.sparse as sp\n",
    "import matplotlib.pyplot as plt\n",
    "from joblib import dump, load\n",
    "\n",
    "def timer(func):\n",
    "    @functools.wraps(func)\n",
    "    def wrapper_timer(*args, **kwargs):\n",
    "        tic = time.perf_counter()\n",
    "        value = func(*args, **kwargs)\n",
    "        toc = time.perf_counter()\n",
    "        elapsed_time = toc - tic\n",
    "        print(f\"Elapsed time: {elapsed_time:0.4f} seconds\")\n",
    "        return value\n",
    "    return wrapper_timer\n",
    "\n",
    "dirpath = os.path.join(\"..\",\"data\",\"3_processed\",\"sentiment140\")\n",
    "filenames = ['X_text_bow'\n",
    "            ,'X_tokn_bow'\n",
    "            ,'X_filt_bow'\n",
    "            ,'X_stem_bow'\n",
    "            ,'X_lemm_bow'\n",
    "            ,'X_text_tfidf'\n",
    "            ,'X_tokn_tfidf'\n",
    "            ,'X_filt_tfidf'\n",
    "            ,'X_stem_tfidf'\n",
    "            ,'X_lemm_tfidf'\n",
    "            ,'X_text_log_tfidf'\n",
    "            ,'X_tokn_log_tfidf'\n",
    "            ,'X_filt_log_tfidf'\n",
    "            ,'X_stem_log_tfidf'\n",
    "            ,'X_lemm_log_tfidf']\n",
    "\n",
    "filepaths = [os.path.join(dirpath, ''.join([filename, '.npz'])) for filename in filenames]\n",
    "\n",
    "# load y target vector\n",
    "y = np.load(os.path.join(dirpath, 'y.npy'))\n",
    "\n",
    "# load pre-processed document-term matrices\n",
    "@timer\n",
    "def load_data():\n",
    "    X_text_bow       = sp.load_npz(filepaths[0])\n",
    "    X_tokn_bow       = sp.load_npz(filepaths[1])\n",
    "    X_filt_bow       = sp.load_npz(filepaths[2])\n",
    "    X_stem_bow       = sp.load_npz(filepaths[3])\n",
    "    X_lemm_bow       = sp.load_npz(filepaths[4])\n",
    "    X_text_tfidf     = sp.load_npz(filepaths[5])\n",
    "    X_tokn_tfidf     = sp.load_npz(filepaths[6])\n",
    "    X_filt_tfidf     = sp.load_npz(filepaths[7])\n",
    "    X_stem_tfidf     = sp.load_npz(filepaths[8])\n",
    "    X_lemm_tfidf     = sp.load_npz(filepaths[9])\n",
    "    X_text_log_tfidf = sp.load_npz(filepaths[10])\n",
    "    X_tokn_log_tfidf = sp.load_npz(filepaths[11])\n",
    "    X_filt_log_tfidf = sp.load_npz(filepaths[12])\n",
    "    X_stem_log_tfidf = sp.load_npz(filepaths[13])\n",
    "    X_lemm_log_tfidf = sp.load_npz(filepaths[14])\n",
    "    \n",
    "    return (  X_text_bow      \n",
    "            , X_tokn_bow      \n",
    "            , X_filt_bow      \n",
    "            , X_stem_bow  \n",
    "            , X_lemm_bow\n",
    "            , X_text_tfidf    \n",
    "            , X_tokn_tfidf    \n",
    "            , X_filt_tfidf    \n",
    "            , X_stem_tfidf  \n",
    "            , X_lemm_tfidf\n",
    "            , X_text_log_tfidf\n",
    "            , X_tokn_log_tfidf\n",
    "            , X_filt_log_tfidf\n",
    "            , X_stem_log_tfidf\n",
    "            , X_lemm_log_tfidf\n",
    "            )\n",
    "\n",
    "( X_text_bow      \n",
    ", X_tokn_bow      \n",
    ", X_filt_bow      \n",
    ", X_stem_bow  \n",
    ", X_lemm_bow\n",
    ", X_text_tfidf    \n",
    ", X_tokn_tfidf    \n",
    ", X_filt_tfidf    \n",
    ", X_stem_tfidf  \n",
    ", X_lemm_tfidf\n",
    ", X_text_log_tfidf\n",
    ", X_tokn_log_tfidf\n",
    ", X_filt_log_tfidf\n",
    ", X_stem_log_tfidf\n",
    ", X_lemm_log_tfidf\n",
    ") = load_data()"
   ]
  },
  {
   "cell_type": "code",
   "execution_count": null,
   "metadata": {},
   "outputs": [],
   "source": []
  },
  {
   "cell_type": "code",
   "execution_count": null,
   "metadata": {},
   "outputs": [],
   "source": []
  },
  {
   "cell_type": "code",
   "execution_count": null,
   "metadata": {},
   "outputs": [],
   "source": []
  },
  {
   "cell_type": "code",
   "execution_count": null,
   "metadata": {},
   "outputs": [],
   "source": []
  },
  {
   "cell_type": "code",
   "execution_count": 23,
   "metadata": {},
   "outputs": [
    {
     "name": "stdout",
     "output_type": "stream",
     "text": [
      "Total elapsed time: 2 minutes and 37 seconds.\n"
     ]
    }
   ],
   "source": [
    "end_notebook = time.time()\n",
    "mins, secs = divmod(end_notebook - start_notebook, 60)\n",
    "print(f\"Total elapsed time: {mins:0.0f} minutes and {secs:0.0f} seconds.\")"
   ]
  }
 ],
 "metadata": {
  "kernelspec": {
   "display_name": "Python 3",
   "language": "python",
   "name": "python3"
  },
  "language_info": {
   "codemirror_mode": {
    "name": "ipython",
    "version": 3
   },
   "file_extension": ".py",
   "mimetype": "text/x-python",
   "name": "python",
   "nbconvert_exporter": "python",
   "pygments_lexer": "ipython3",
   "version": "3.7.3"
  }
 },
 "nbformat": 4,
 "nbformat_minor": 4
}
