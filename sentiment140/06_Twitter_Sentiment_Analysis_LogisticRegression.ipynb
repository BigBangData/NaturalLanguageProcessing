{
 "cells": [
  {
   "cell_type": "markdown",
   "metadata": {},
   "source": [
    "## Twitter Setiment Analysis \n",
    "\n",
    "### Part 4: Train and Evaluate Selected Models\n",
    "\n",
    "\n",
    "First - take a training/modeling pause, assess situation:\n",
    " \n",
    "TODO: feature extraction (text length?)\n",
    "\n",
    "TODO: feature selection?\n",
    "\n",
    "TODO: N-grams?"
   ]
  },
  {
   "cell_type": "markdown",
   "metadata": {},
   "source": [
    "### Load Data\n"
   ]
  },
  {
   "cell_type": "code",
   "execution_count": 1,
   "metadata": {},
   "outputs": [],
   "source": [
    "import os \n",
    "import time\n",
    "import functools\n",
    "import numpy as np\n",
    "import scipy.sparse as sp\n",
    "from joblib import dump, load\n",
    "\n",
    "def timer(func):\n",
    "    @functools.wraps(func)\n",
    "    def wrapper_timer(*args, **kwargs):\n",
    "        tic = time.perf_counter()\n",
    "        value = func(*args, **kwargs)\n",
    "        toc = time.perf_counter()\n",
    "        elapsed_time = toc - tic\n",
    "        print(f\"Elapsed time: {elapsed_time:0.4f} seconds\")\n",
    "        return value\n",
    "    return wrapper_timer"
   ]
  },
  {
   "cell_type": "code",
   "execution_count": null,
   "metadata": {},
   "outputs": [],
   "source": [
    "dirpath = os.path.join(\"..\",\"data\",\"3_processed\",\"sentiment140\")\n",
    "filenames = ['X_text_bow'\n",
    "            ,'X_tokn_bow'\n",
    "            ,'X_filt_bow'\n",
    "            ,'X_stem_bow'\n",
    "            ,'X_text_tfidf'\n",
    "            ,'X_tokn_tfidf'\n",
    "            ,'X_filt_tfidf'\n",
    "            ,'X_stem_tfidf'\n",
    "            ,'X_text_log_tfidf'\n",
    "            ,'X_tokn_log_tfidf'\n",
    "            ,'X_filt_log_tfidf'\n",
    "            ,'X_stem_log_tfidf']\n",
    "\n",
    "filepaths = [os.path.join(dirpath, ''.join([filename, '.npz'])) for filename in filenames]"
   ]
  },
  {
   "cell_type": "code",
   "execution_count": null,
   "metadata": {},
   "outputs": [],
   "source": [
    "# load pre-processed featre vectors\n",
    "@timer\n",
    "def load_data():\n",
    "    X_text_bow       = sp.load_npz(filepaths[0])\n",
    "    X_tokn_bow       = sp.load_npz(filepaths[1])\n",
    "    X_filt_bow       = sp.load_npz(filepaths[2])\n",
    "    X_stem_bow       = sp.load_npz(filepaths[3])\n",
    "    X_text_tfidf     = sp.load_npz(filepaths[4])\n",
    "    X_tokn_tfidf     = sp.load_npz(filepaths[5])\n",
    "    X_filt_tfidf     = sp.load_npz(filepaths[6])\n",
    "    X_stem_tfidf     = sp.load_npz(filepaths[7])\n",
    "    X_text_log_tfidf = sp.load_npz(filepaths[8])\n",
    "    X_tokn_log_tfidf = sp.load_npz(filepaths[9])\n",
    "    X_filt_log_tfidf = sp.load_npz(filepaths[10])\n",
    "    X_stem_log_tfidf = sp.load_npz(filepaths[11])\n",
    "    \n",
    "    return (  X_text_bow      \n",
    "            , X_tokn_bow      \n",
    "            , X_filt_bow      \n",
    "            , X_stem_bow      \n",
    "            , X_text_tfidf    \n",
    "            , X_tokn_tfidf    \n",
    "            , X_filt_tfidf    \n",
    "            , X_stem_tfidf    \n",
    "            , X_text_log_tfidf\n",
    "            , X_tokn_log_tfidf\n",
    "            , X_filt_log_tfidf\n",
    "            , X_stem_log_tfidf\n",
    "            )"
   ]
  },
  {
   "cell_type": "code",
   "execution_count": null,
   "metadata": {},
   "outputs": [],
   "source": [
    "( X_text_bow      \n",
    ", X_tokn_bow      \n",
    ", X_filt_bow      \n",
    ", X_stem_bow      \n",
    ", X_text_tfidf    \n",
    ", X_tokn_tfidf    \n",
    ", X_filt_tfidf    \n",
    ", X_stem_tfidf    \n",
    ", X_text_log_tfidf\n",
    ", X_tokn_log_tfidf\n",
    ", X_filt_log_tfidf\n",
    ", X_stem_log_tfidf\n",
    ") = load_data()"
   ]
  },
  {
   "cell_type": "code",
   "execution_count": null,
   "metadata": {},
   "outputs": [],
   "source": [
    "# load y target vector\n",
    "y = np.load(os.path.join(dirpath, 'y.npy'))"
   ]
  },
  {
   "cell_type": "markdown",
   "metadata": {},
   "source": [
    "### Load Pre-Trained Models"
   ]
  },
  {
   "cell_type": "code",
   "execution_count": 2,
   "metadata": {},
   "outputs": [
    {
     "data": {
      "text/plain": [
       "['1601009417_svm_clf_tokn_bow_10pctsample_48min.joblib']"
      ]
     },
     "execution_count": 2,
     "metadata": {},
     "output_type": "execute_result"
    }
   ],
   "source": [
    "dirpath = os.path.join(\"..\",\"data\",\"4_models\",\"sentiment140\")\n",
    "os.listdir(dirpath)"
   ]
  },
  {
   "cell_type": "code",
   "execution_count": 3,
   "metadata": {},
   "outputs": [
    {
     "data": {
      "text/plain": [
       "'..\\\\data\\\\4_models\\\\sentiment140\\\\1601009417_svm_clf_tokn_bow_10pctsample_48min.joblib'"
      ]
     },
     "execution_count": 3,
     "metadata": {},
     "output_type": "execute_result"
    }
   ],
   "source": [
    "filename = os.listdir(dirpath)[0]\n",
    "filepath = os.path.join(dirpath, filename)\n",
    "filepath"
   ]
  },
  {
   "cell_type": "code",
   "execution_count": 5,
   "metadata": {},
   "outputs": [],
   "source": [
    "svm_clf = load(filepath)"
   ]
  },
  {
   "cell_type": "markdown",
   "metadata": {},
   "source": [
    "REPRODUCIBILITY ISSUE: need to save exact train, test sets if using random sampling, or reproducible steps to get the same indices."
   ]
  },
  {
   "cell_type": "markdown",
   "metadata": {},
   "source": [
    "### Evaluate "
   ]
  },
  {
   "cell_type": "code",
   "execution_count": null,
   "metadata": {},
   "outputs": [],
   "source": []
  },
  {
   "cell_type": "code",
   "execution_count": null,
   "metadata": {},
   "outputs": [],
   "source": []
  },
  {
   "cell_type": "code",
   "execution_count": null,
   "metadata": {},
   "outputs": [],
   "source": []
  }
 ],
 "metadata": {
  "kernelspec": {
   "display_name": "Python 3",
   "language": "python",
   "name": "python3"
  },
  "language_info": {
   "codemirror_mode": {
    "name": "ipython",
    "version": 3
   },
   "file_extension": ".py",
   "mimetype": "text/x-python",
   "name": "python",
   "nbconvert_exporter": "python",
   "pygments_lexer": "ipython3",
   "version": "3.7.3"
  }
 },
 "nbformat": 4,
 "nbformat_minor": 4
}
