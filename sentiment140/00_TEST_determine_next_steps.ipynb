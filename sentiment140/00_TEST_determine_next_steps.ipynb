{
 "cells": [
  {
   "cell_type": "markdown",
   "metadata": {},
   "source": [
    "## Determining Next Steps\n",
    "\n",
    "LSA using SVD to reduce vector space\n",
    "\n",
    "- Random Forest, also provides VarImp plot\n",
    "\n",
    "Feature Engineering\n",
    "\n",
    "- Ngrams\n",
    "- TextLength\n",
    "- CosineSimilarity \n",
    "\n",
    "Modeling\n",
    "\n",
    "- SVM/SVC\n",
    "- SGD\n",
    "- Decision Trees\n",
    "\n",
    "Curiosity:\n",
    "- NB with 10% random sample + bi-grams, etc. and/or SVD?\n",
    "- Look at actual predictions (text)? \n",
    "- Are we predicting labels or actual positive/negative emotions?\n",
    "- Combined approach with semantic analysis?\n",
    "\n",
    "Direction\n",
    "- define goal and purpose.. WHAT'S THE USE CASE?\n",
    "- for ex: is sensitivity (recall, TPR, TP/condition P) more important than specificity (selectivity, TNR, TN / condition N)?\n",
    "- in other words, do we want to minimize Type II error (increase sensitivity) or Type I error (increase specificity)?\n",
    "- or... do we care about precision (PPV, TP / pred P) rather? \n",
    "- if the goal is overall performance, the MCC (from sklearn.metrics import matthews_corrcoef) is probably preferred as it takes into account the entirety of the confusion matrix"
   ]
  },
  {
   "cell_type": "code",
   "execution_count": null,
   "metadata": {},
   "outputs": [],
   "source": []
  }
 ],
 "metadata": {
  "kernelspec": {
   "display_name": "Python 3",
   "language": "python",
   "name": "python3"
  },
  "language_info": {
   "codemirror_mode": {
    "name": "ipython",
    "version": 3
   },
   "file_extension": ".py",
   "mimetype": "text/x-python",
   "name": "python",
   "nbconvert_exporter": "python",
   "pygments_lexer": "ipython3",
   "version": "3.7.3"
  }
 },
 "nbformat": 4,
 "nbformat_minor": 4
}
