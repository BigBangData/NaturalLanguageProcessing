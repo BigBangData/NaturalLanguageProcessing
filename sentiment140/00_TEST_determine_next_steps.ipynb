{
 "cells": [
  {
   "cell_type": "markdown",
   "metadata": {},
   "source": [
    "## Determining Next Steps\n",
    "\n",
    "Current State\n",
    "\n",
    "- NB and LR at 75%, unigram BoW, m,n=12k,1k \n",
    "- plot learning curves for a given m,n size, keeping n constant, or m constant, and either NB or LR (has to be fast)\n",
    "\n",
    "Extra:\n",
    "\n",
    "- Look at actual predictions (text)? \n",
    "- Are we predicting positive/negative Tweets or positive/negative emoticons? \n",
    "- If we apply to Tweets without emoticons, predict sentiment correctly? (would need human-made labels)\n",
    "- Use TextBlob? Another method (more research)?\n",
    "- App idea\n",
    "\n",
    "\n",
    "Better Representation\n",
    "\n",
    "- TF-IDF\n",
    "- Ngrams\n",
    "- LSA/SVD\n",
    "\n",
    "Feature Engineering\n",
    "\n",
    "- TextLength, etc\n",
    "- CosineSimilarity \n",
    "- count of: punctuations, ascii chars, USERNAMEs, EMOJIs, URLs\n",
    "- tweet starts with USERNAME, or EMOJI, or URL, etc.\n",
    "- count of swear words, or negative words, or positive words, etc. (need lists)\n",
    "- semantic analysis research\n",
    "\n",
    "Feature Selection\n",
    "\n",
    "- Random Forest + VarImp plot \n",
    "- LASSO\n",
    "\n",
    "Modeling\n",
    "\n",
    "- SVM/SVC\n",
    "- SGD\n",
    "- Decision Trees\n",
    "\n",
    "\n",
    "Direction\n",
    "\n",
    "- define goal and purpose.. WHAT'S THE USE CASE?\n",
    "- define evaluation metric better?\n",
    "- if the goal is overall performance, the MCC (from sklearn.metrics import matthews_corrcoef) is probably preferred as it takes into account the entirety of the confusion matrix"
   ]
  },
  {
   "cell_type": "markdown",
   "metadata": {},
   "source": [
    "---"
   ]
  }
 ],
 "metadata": {
  "kernelspec": {
   "display_name": "Python 3",
   "language": "python",
   "name": "python3"
  },
  "language_info": {
   "codemirror_mode": {
    "name": "ipython",
    "version": 3
   },
   "file_extension": ".py",
   "mimetype": "text/x-python",
   "name": "python",
   "nbconvert_exporter": "python",
   "pygments_lexer": "ipython3",
   "version": "3.7.3"
  }
 },
 "nbformat": 4,
 "nbformat_minor": 4
}
