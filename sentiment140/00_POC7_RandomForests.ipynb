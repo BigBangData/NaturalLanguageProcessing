{
 "cells": [
  {
   "cell_type": "markdown",
   "metadata": {},
   "source": [
    "# Twitter Sentiment Analysis - POC\n",
    "---\n",
    "\n",
    "## 7. Quickly train various models\n",
    "\n",
    "**Current State**: I've trained three baseline models with little tweaking, and fine-tuned a single decision tree, on a Bag-of-Word subset of $m\\approx250k, n=50k$ of the training data, using cross validation, and got the following mean accuracy scores:\n",
    "\n",
    "- Logistic Regression: $78.8\\%$\n",
    "- Naive Bayes: $77.6\\%$ \n",
    "- SGD (log loss): $77.1\\%$ \n",
    "- Decision Tree: $69.0\\%$\n",
    "\n",
    "**This Notebook**: Build random forests (DIY and using Scikit-learn's RandomForestClassifier class), perhaps even a tiny GridSearchCV with choice parameters to see whether I can crack $80\\%$ accuracy on the test set."
   ]
  },
  {
   "cell_type": "code",
   "execution_count": 1,
   "metadata": {},
   "outputs": [],
   "source": [
    "import re\n",
    "import os\n",
    "import time\n",
    "import json\n",
    "\n",
    "import numpy as np\n",
    "import pandas as pd\n",
    "import scipy.sparse as sp\n",
    "\n",
    "from sklearn.tree import DecisionTreeClassifier \n",
    "from sklearn.model_selection import cross_val_score\n",
    "from sklearn.model_selection import train_test_split\n",
    "from sklearn.metrics import accuracy_score"
   ]
  },
  {
   "cell_type": "markdown",
   "metadata": {},
   "source": [
    "### Load $m\\approx250k$, $n=50k$ training subset"
   ]
  },
  {
   "cell_type": "code",
   "execution_count": 2,
   "metadata": {},
   "outputs": [],
   "source": [
    "# processed dir\n",
    "proc_dir = os.path.join(\"..\",\"data\",\"3_processed\",\"sentiment140\")\n",
    "X_train_transformed = sp.load_npz(os.path.join(proc_dir, \"X_train_transformed_BoW_250k_50k.npz\"))\n",
    "with open(os.path.join(proc_dir, \"y_array_250k.npy\"), 'rb') as f:\n",
    "    y_array = np.load(f)"
   ]
  },
  {
   "cell_type": "code",
   "execution_count": 3,
   "metadata": {},
   "outputs": [],
   "source": [
    "X_train, X_test, y_train, y_test = train_test_split(X_train_transformed, \n",
    "                                                    y_array, \n",
    "                                                    test_size=0.2, \n",
    "                                                    random_state=42)"
   ]
  },
  {
   "cell_type": "markdown",
   "metadata": {},
   "source": [
    "### Scikit-learn's RandomForestClassifier"
   ]
  },
  {
   "cell_type": "markdown",
   "metadata": {},
   "source": [
    "[(source)](https://github.com/scikit-learn/scikit-learn/blob/0fb307bf3/sklearn/ensemble/_forest.py#L883)\n",
    "\n",
    "```\n",
    "class sklearn.ensemble.RandomForestClassifier(n_estimators=100, *, criterion='gini', max_depth=None, min_samples_split=2, min_samples_leaf=1, min_weight_fraction_leaf=0.0, max_features='auto', max_leaf_nodes=None, min_impurity_decrease=0.0, min_impurity_split=None, bootstrap=True, oob_score=False, n_jobs=None, random_state=None, verbose=0, warm_start=False, class_weight=None, ccp_alpha=0.0, max_samples=None\n",
    "```\n",
    "\n",
    "Note that `max_features`'s default is \"auto\", which is the same as \"sqrt\", meaning: `max_features=sqrt(n_features)`\n",
    "\n",
    "In our case: $\\sqrt{50000}\\approx224$ max features. This is arguably the reason this will run a lot faster than my DIY random forest, which considered all the features.\n",
    "\n",
    "[(source)](https://github.com/scikit-learn/scikit-learn/blob/0fb307bf39bbdacd6ed713c00724f8f871d60370/sklearn/tree/_classes.py#L597)\n",
    "\n",
    "```\n",
    "class DecisionTreeClassifier(ClassifierMixin, BaseDecisionTree):\n",
    "    [...]\n",
    "    max_features : int, float or {\"auto\", \"sqrt\", \"log2\"}, default=None\n",
    "        The number of features to consider when looking for the best split:\n",
    "            [...]\n",
    "            - If None, then `max_features=n_features`.\n",
    "```         "
   ]
  },
  {
   "cell_type": "code",
   "execution_count": 10,
   "metadata": {},
   "outputs": [],
   "source": [
    "from sklearn.ensemble import RandomForestClassifier"
   ]
  },
  {
   "cell_type": "code",
   "execution_count": 4,
   "metadata": {},
   "outputs": [],
   "source": [
    "#scores = cross_val_score(rf_clf, X_train_transformed, y_array, cv=3, verbose=0, scoring='accuracy')\n",
    "#print(\"Accuracy: %0.2f (+/- %0.2f)\" % (scores.mean(), scores.std() * 2))\n",
    "#Accuracy: 0.75 (+/- 0.00)"
   ]
  },
  {
   "cell_type": "code",
   "execution_count": 5,
   "metadata": {},
   "outputs": [],
   "source": [
    "#rf_clf.fit(X_train, y_train) 6.6min"
   ]
  },
  {
   "cell_type": "code",
   "execution_count": 6,
   "metadata": {},
   "outputs": [],
   "source": [
    "#y_pred = rf_clf.predict(X_test)"
   ]
  },
  {
   "cell_type": "code",
   "execution_count": 7,
   "metadata": {},
   "outputs": [],
   "source": [
    "#round(accuracy_score(y_test, y_pred), 4) # 0.7528"
   ]
  },
  {
   "cell_type": "markdown",
   "metadata": {},
   "source": [
    "### GridSearch 1\n",
    "\n",
    "* $\\text{n_estimators}=100$, vary `max_depth`"
   ]
  },
  {
   "cell_type": "code",
   "execution_count": 20,
   "metadata": {},
   "outputs": [
    {
     "name": "stdout",
     "output_type": "stream",
     "text": [
      "Finished loop 1 | runtime: 7.70s\n",
      "Finished loop 2 | runtime: 7.70s\n",
      "Finished loop 3 | runtime: 7.70s\n",
      "Finished loop 4 | runtime: 7.70s\n",
      "Finished loop 5 | runtime: 7.70s\n",
      "Finished loop 6 | runtime: 7.70s\n",
      "Finished loop 7 | runtime: 7.70s\n",
      "Finished loop 8 | runtime: 7.70s\n",
      "Finished loop 9 | runtime: 7.70s\n",
      "Gridsearch total time: 2 mins and 24 secs\n"
     ]
    }
   ],
   "source": [
    "start_gridsearch = time.time()\n",
    "\n",
    "depth, runtime, scores = [], [], []\n",
    "for i in range(1, 10):\n",
    "    depth.append(i)\n",
    "    start_loop = time.time()\n",
    "    clf = RandomForestClassifier(n_estimators=100, \n",
    "                                 max_features=\"sqrt\",\n",
    "                                 random_state=42,\n",
    "                                 max_depth=i, \n",
    "                                 n_jobs=-1)\n",
    "    scores.append(\n",
    "        cross_val_score(clf, \n",
    "                        X_train_transformed, \n",
    "                        y_array, \n",
    "                        cv=3, \n",
    "                        verbose=0, \n",
    "                        scoring='accuracy')\n",
    "                 )\n",
    "    runtime.append(round(time.time() - start_loop, 1))\n",
    "    print(f'Finished loop {i:0.0f} | runtime: {runtime[0]:0.2f}s')\n",
    "    \n",
    "mins, secs = divmod(time.time() - start_gridsearch, 60)\n",
    "print(f'Gridsearch total time: {mins:0.0f} mins and {secs:0.0f} secs')"
   ]
  },
  {
   "cell_type": "code",
   "execution_count": 26,
   "metadata": {},
   "outputs": [
    {
     "data": {
      "text/html": [
       "<div>\n",
       "<style scoped>\n",
       "    .dataframe tbody tr th:only-of-type {\n",
       "        vertical-align: middle;\n",
       "    }\n",
       "\n",
       "    .dataframe tbody tr th {\n",
       "        vertical-align: top;\n",
       "    }\n",
       "\n",
       "    .dataframe thead th {\n",
       "        text-align: right;\n",
       "    }\n",
       "</style>\n",
       "<table border=\"1\" class=\"dataframe\">\n",
       "  <thead>\n",
       "    <tr style=\"text-align: right;\">\n",
       "      <th></th>\n",
       "      <th>depth</th>\n",
       "      <th>runtime</th>\n",
       "      <th>min acc</th>\n",
       "      <th>mean acc</th>\n",
       "      <th>max acc</th>\n",
       "    </tr>\n",
       "  </thead>\n",
       "  <tbody>\n",
       "    <tr>\n",
       "      <th>0</th>\n",
       "      <td>1</td>\n",
       "      <td>7.7</td>\n",
       "      <td>0.608496</td>\n",
       "      <td>0.634116</td>\n",
       "      <td>0.659867</td>\n",
       "    </tr>\n",
       "    <tr>\n",
       "      <th>1</th>\n",
       "      <td>2</td>\n",
       "      <td>9.7</td>\n",
       "      <td>0.657743</td>\n",
       "      <td>0.676444</td>\n",
       "      <td>0.687087</td>\n",
       "    </tr>\n",
       "    <tr>\n",
       "      <th>2</th>\n",
       "      <td>3</td>\n",
       "      <td>11.8</td>\n",
       "      <td>0.680446</td>\n",
       "      <td>0.692526</td>\n",
       "      <td>0.699188</td>\n",
       "    </tr>\n",
       "    <tr>\n",
       "      <th>3</th>\n",
       "      <td>4</td>\n",
       "      <td>14.0</td>\n",
       "      <td>0.689071</td>\n",
       "      <td>0.702463</td>\n",
       "      <td>0.710661</td>\n",
       "    </tr>\n",
       "    <tr>\n",
       "      <th>4</th>\n",
       "      <td>5</td>\n",
       "      <td>16.1</td>\n",
       "      <td>0.700762</td>\n",
       "      <td>0.711594</td>\n",
       "      <td>0.719238</td>\n",
       "    </tr>\n",
       "    <tr>\n",
       "      <th>5</th>\n",
       "      <td>6</td>\n",
       "      <td>17.9</td>\n",
       "      <td>0.705844</td>\n",
       "      <td>0.715522</td>\n",
       "      <td>0.720801</td>\n",
       "    </tr>\n",
       "    <tr>\n",
       "      <th>6</th>\n",
       "      <td>7</td>\n",
       "      <td>19.8</td>\n",
       "      <td>0.716892</td>\n",
       "      <td>0.722498</td>\n",
       "      <td>0.725660</td>\n",
       "    </tr>\n",
       "    <tr>\n",
       "      <th>7</th>\n",
       "      <td>8</td>\n",
       "      <td>22.5</td>\n",
       "      <td>0.717536</td>\n",
       "      <td>0.724386</td>\n",
       "      <td>0.731315</td>\n",
       "    </tr>\n",
       "    <tr>\n",
       "      <th>8</th>\n",
       "      <td>9</td>\n",
       "      <td>24.6</td>\n",
       "      <td>0.720661</td>\n",
       "      <td>0.726216</td>\n",
       "      <td>0.732019</td>\n",
       "    </tr>\n",
       "  </tbody>\n",
       "</table>\n",
       "</div>"
      ],
      "text/plain": [
       "   depth  runtime   min acc  mean acc   max acc\n",
       "0      1      7.7  0.608496  0.634116  0.659867\n",
       "1      2      9.7  0.657743  0.676444  0.687087\n",
       "2      3     11.8  0.680446  0.692526  0.699188\n",
       "3      4     14.0  0.689071  0.702463  0.710661\n",
       "4      5     16.1  0.700762  0.711594  0.719238\n",
       "5      6     17.9  0.705844  0.715522  0.720801\n",
       "6      7     19.8  0.716892  0.722498  0.725660\n",
       "7      8     22.5  0.717536  0.724386  0.731315\n",
       "8      9     24.6  0.720661  0.726216  0.732019"
      ]
     },
     "execution_count": 26,
     "metadata": {},
     "output_type": "execute_result"
    }
   ],
   "source": [
    "df1 = pd.DataFrame(\n",
    "    {'depth': depth,\n",
    "     'runtime': runtime,\n",
    "     'min acc': [np.min(score) for score in scores],\n",
    "     'mean acc': [np.mean(score) for score in scores],\n",
    "     'max acc': [np.max(score) for score in scores]\n",
    "    })\n",
    "df1"
   ]
  },
  {
   "cell_type": "code",
   "execution_count": 17,
   "metadata": {},
   "outputs": [
    {
     "name": "stdout",
     "output_type": "stream",
     "text": [
      "Gridsearch total time: 15 mins and 25 secs\n"
     ]
    }
   ],
   "source": [
    "start_gridsearch = time.time()\n",
    "\n",
    "depth, runtime, accuracy = [], [], []\n",
    "for i in range(10, 100, 10):\n",
    "    depth.append(i)\n",
    "    start_clf = time.time()\n",
    "    clf = RandomForestClassifier(n_estimators=100, \n",
    "                                 max_depth=i, \n",
    "                                 n_jobs=6, \n",
    "                                 random_state=42)\n",
    "    clf.fit(X_train, y_train)\n",
    "    y_pred = clf.predict(X_test)\n",
    "    accuracy.append(round(accuracy_score(y_test, y_pred), 4))\n",
    "    runtime.append(round(time.time() - start_clf, 1))\n",
    "    \n",
    "mins, secs = divmod(time.time() - start_gridsearch, 60)\n",
    "print(f'Gridsearch total time: {mins:0.0f} mins and {secs:0.0f} secs')"
   ]
  },
  {
   "cell_type": "code",
   "execution_count": 18,
   "metadata": {},
   "outputs": [
    {
     "data": {
      "text/html": [
       "<div>\n",
       "<style scoped>\n",
       "    .dataframe tbody tr th:only-of-type {\n",
       "        vertical-align: middle;\n",
       "    }\n",
       "\n",
       "    .dataframe tbody tr th {\n",
       "        vertical-align: top;\n",
       "    }\n",
       "\n",
       "    .dataframe thead th {\n",
       "        text-align: right;\n",
       "    }\n",
       "</style>\n",
       "<table border=\"1\" class=\"dataframe\">\n",
       "  <thead>\n",
       "    <tr style=\"text-align: right;\">\n",
       "      <th></th>\n",
       "      <th>depth</th>\n",
       "      <th>runtime</th>\n",
       "      <th>accuracy</th>\n",
       "    </tr>\n",
       "  </thead>\n",
       "  <tbody>\n",
       "    <tr>\n",
       "      <th>0</th>\n",
       "      <td>10</td>\n",
       "      <td>13.4</td>\n",
       "      <td>0.7309</td>\n",
       "    </tr>\n",
       "    <tr>\n",
       "      <th>1</th>\n",
       "      <td>20</td>\n",
       "      <td>27.9</td>\n",
       "      <td>0.7355</td>\n",
       "    </tr>\n",
       "    <tr>\n",
       "      <th>2</th>\n",
       "      <td>30</td>\n",
       "      <td>43.4</td>\n",
       "      <td>0.7442</td>\n",
       "    </tr>\n",
       "    <tr>\n",
       "      <th>3</th>\n",
       "      <td>40</td>\n",
       "      <td>63.0</td>\n",
       "      <td>0.7494</td>\n",
       "    </tr>\n",
       "    <tr>\n",
       "      <th>4</th>\n",
       "      <td>50</td>\n",
       "      <td>83.6</td>\n",
       "      <td>0.7531</td>\n",
       "    </tr>\n",
       "    <tr>\n",
       "      <th>5</th>\n",
       "      <td>60</td>\n",
       "      <td>111.5</td>\n",
       "      <td>0.7586</td>\n",
       "    </tr>\n",
       "    <tr>\n",
       "      <th>6</th>\n",
       "      <td>70</td>\n",
       "      <td>158.9</td>\n",
       "      <td>0.7607</td>\n",
       "    </tr>\n",
       "    <tr>\n",
       "      <th>7</th>\n",
       "      <td>80</td>\n",
       "      <td>193.1</td>\n",
       "      <td>0.7643</td>\n",
       "    </tr>\n",
       "    <tr>\n",
       "      <th>8</th>\n",
       "      <td>90</td>\n",
       "      <td>230.1</td>\n",
       "      <td>0.7671</td>\n",
       "    </tr>\n",
       "  </tbody>\n",
       "</table>\n",
       "</div>"
      ],
      "text/plain": [
       "   depth  runtime  accuracy\n",
       "0     10     13.4    0.7309\n",
       "1     20     27.9    0.7355\n",
       "2     30     43.4    0.7442\n",
       "3     40     63.0    0.7494\n",
       "4     50     83.6    0.7531\n",
       "5     60    111.5    0.7586\n",
       "6     70    158.9    0.7607\n",
       "7     80    193.1    0.7643\n",
       "8     90    230.1    0.7671"
      ]
     },
     "execution_count": 18,
     "metadata": {},
     "output_type": "execute_result"
    }
   ],
   "source": [
    "df2 = pd.DataFrame(\n",
    "    {'depth': depth,\n",
    "     'runtime': runtime,\n",
    "     'accuracy': accuracy\n",
    "    })\n",
    "df2"
   ]
  },
  {
   "cell_type": "code",
   "execution_count": 19,
   "metadata": {},
   "outputs": [
    {
     "name": "stdout",
     "output_type": "stream",
     "text": [
      "Gridsearch total time: 98 mins and 58 secs\n"
     ]
    }
   ],
   "source": [
    "start_gridsearch = time.time()\n",
    "\n",
    "depth, runtime, accuracy = [], [], []\n",
    "for i in range(100, 1100, 100):\n",
    "    depth.append(i)\n",
    "    start_clf = time.time()\n",
    "    clf = RandomForestClassifier(n_estimators=100, \n",
    "                                 max_depth=i, \n",
    "                                 n_jobs=6, \n",
    "                                 random_state=42)\n",
    "    clf.fit(X_train, y_train)\n",
    "    y_pred = clf.predict(X_test)\n",
    "    accuracy.append(round(accuracy_score(y_test, y_pred), 4))\n",
    "    runtime.append(round(time.time() - start_clf, 1))\n",
    "    \n",
    "mins, secs = divmod(time.time() - start_gridsearch, 60)\n",
    "print(f'Gridsearch total time: {mins:0.0f} mins and {secs:0.0f} secs')"
   ]
  },
  {
   "cell_type": "code",
   "execution_count": 20,
   "metadata": {},
   "outputs": [
    {
     "data": {
      "text/html": [
       "<div>\n",
       "<style scoped>\n",
       "    .dataframe tbody tr th:only-of-type {\n",
       "        vertical-align: middle;\n",
       "    }\n",
       "\n",
       "    .dataframe tbody tr th {\n",
       "        vertical-align: top;\n",
       "    }\n",
       "\n",
       "    .dataframe thead th {\n",
       "        text-align: right;\n",
       "    }\n",
       "</style>\n",
       "<table border=\"1\" class=\"dataframe\">\n",
       "  <thead>\n",
       "    <tr style=\"text-align: right;\">\n",
       "      <th></th>\n",
       "      <th>depth</th>\n",
       "      <th>runtime</th>\n",
       "      <th>accuracy</th>\n",
       "    </tr>\n",
       "  </thead>\n",
       "  <tbody>\n",
       "    <tr>\n",
       "      <th>0</th>\n",
       "      <td>100</td>\n",
       "      <td>216.3</td>\n",
       "      <td>0.7695</td>\n",
       "    </tr>\n",
       "    <tr>\n",
       "      <th>1</th>\n",
       "      <td>200</td>\n",
       "      <td>531.9</td>\n",
       "      <td>0.7777</td>\n",
       "    </tr>\n",
       "    <tr>\n",
       "      <th>2</th>\n",
       "      <td>300</td>\n",
       "      <td>867.3</td>\n",
       "      <td>0.7795</td>\n",
       "    </tr>\n",
       "    <tr>\n",
       "      <th>3</th>\n",
       "      <td>400</td>\n",
       "      <td>588.4</td>\n",
       "      <td>0.7793</td>\n",
       "    </tr>\n",
       "    <tr>\n",
       "      <th>4</th>\n",
       "      <td>500</td>\n",
       "      <td>598.6</td>\n",
       "      <td>0.7806</td>\n",
       "    </tr>\n",
       "    <tr>\n",
       "      <th>5</th>\n",
       "      <td>600</td>\n",
       "      <td>584.9</td>\n",
       "      <td>0.7808</td>\n",
       "    </tr>\n",
       "    <tr>\n",
       "      <th>6</th>\n",
       "      <td>700</td>\n",
       "      <td>647.2</td>\n",
       "      <td>0.7781</td>\n",
       "    </tr>\n",
       "    <tr>\n",
       "      <th>7</th>\n",
       "      <td>800</td>\n",
       "      <td>637.5</td>\n",
       "      <td>0.7799</td>\n",
       "    </tr>\n",
       "    <tr>\n",
       "      <th>8</th>\n",
       "      <td>900</td>\n",
       "      <td>604.2</td>\n",
       "      <td>0.7794</td>\n",
       "    </tr>\n",
       "    <tr>\n",
       "      <th>9</th>\n",
       "      <td>1000</td>\n",
       "      <td>661.8</td>\n",
       "      <td>0.7789</td>\n",
       "    </tr>\n",
       "  </tbody>\n",
       "</table>\n",
       "</div>"
      ],
      "text/plain": [
       "   depth  runtime  accuracy\n",
       "0    100    216.3    0.7695\n",
       "1    200    531.9    0.7777\n",
       "2    300    867.3    0.7795\n",
       "3    400    588.4    0.7793\n",
       "4    500    598.6    0.7806\n",
       "5    600    584.9    0.7808\n",
       "6    700    647.2    0.7781\n",
       "7    800    637.5    0.7799\n",
       "8    900    604.2    0.7794\n",
       "9   1000    661.8    0.7789"
      ]
     },
     "execution_count": 20,
     "metadata": {},
     "output_type": "execute_result"
    }
   ],
   "source": [
    "df3 = pd.DataFrame(\n",
    "    {'depth': depth,\n",
    "     'runtime': runtime,\n",
    "     'accuracy': accuracy\n",
    "    })\n",
    "df3"
   ]
  },
  {
   "cell_type": "code",
   "execution_count": 25,
   "metadata": {},
   "outputs": [],
   "source": [
    "rf_gridsearch = pd.concat([df1,df2,df3])"
   ]
  },
  {
   "cell_type": "code",
   "execution_count": 26,
   "metadata": {},
   "outputs": [],
   "source": [
    "# save gridsearch results\n",
    "model_tuning_dir = os.path.join(\"..\",\"data\",\"4_models\",\"sentiment140\",\"tuning\")\n",
    "\n",
    "try:\n",
    "    os.stat(model_tuning_dir)\n",
    "except:\n",
    "    os.mkdir(model_tuning_dir)\n",
    "    \n",
    "filepath = os.path.join(model_tuning_dir, \"POC7_rf_gridsearch1.csv\")\n",
    "rf_gridsearch.to_csv(filepath, index=False)"
   ]
  },
  {
   "cell_type": "markdown",
   "metadata": {},
   "source": [
    "### GridSearch 2\n",
    "\n",
    "* $\\text{max_depth}=500$, vary `n_estimators`"
   ]
  },
  {
   "cell_type": "code",
   "execution_count": null,
   "metadata": {},
   "outputs": [],
   "source": [
    "start_gridsearch = time.time()\n",
    "\n",
    "ntrees, runtime, accuracy = [], [], []\n",
    "for i in range(100, 500, 100):\n",
    "    ntrees.append(i)\n",
    "    start_clf = time.time()\n",
    "    clf = RandomForestClassifier(n_estimators=i,\n",
    "                                 max_depth=500, \n",
    "                                 n_jobs=6, \n",
    "                                 random_state=42)\n",
    "    clf.fit(X_train, y_train)\n",
    "    y_pred = clf.predict(X_test)\n",
    "    accuracy.append(round(accuracy_score(y_test, y_pred), 4))\n",
    "    runtime.append(round(time.time() - start_clf, 1))\n",
    "    \n",
    "mins, secs = divmod(time.time() - start_gridsearch, 60)"
   ]
  },
  {
   "cell_type": "code",
   "execution_count": 34,
   "metadata": {},
   "outputs": [
    {
     "name": "stdout",
     "output_type": "stream",
     "text": [
      "Gridsearch total time: 165 mins and 11 secs\n"
     ]
    }
   ],
   "source": [
    "print(f'Gridsearch total time: {mins:0.0f} mins and {secs:0.0f} secs')"
   ]
  },
  {
   "cell_type": "code",
   "execution_count": 39,
   "metadata": {},
   "outputs": [
    {
     "data": {
      "text/html": [
       "<div>\n",
       "<style scoped>\n",
       "    .dataframe tbody tr th:only-of-type {\n",
       "        vertical-align: middle;\n",
       "    }\n",
       "\n",
       "    .dataframe tbody tr th {\n",
       "        vertical-align: top;\n",
       "    }\n",
       "\n",
       "    .dataframe thead th {\n",
       "        text-align: right;\n",
       "    }\n",
       "</style>\n",
       "<table border=\"1\" class=\"dataframe\">\n",
       "  <thead>\n",
       "    <tr style=\"text-align: right;\">\n",
       "      <th></th>\n",
       "      <th>ntrees</th>\n",
       "      <th>runtime</th>\n",
       "      <th>accuracy</th>\n",
       "    </tr>\n",
       "  </thead>\n",
       "  <tbody>\n",
       "    <tr>\n",
       "      <th>0</th>\n",
       "      <td>100</td>\n",
       "      <td>543.0</td>\n",
       "      <td>0.7806</td>\n",
       "    </tr>\n",
       "    <tr>\n",
       "      <th>1</th>\n",
       "      <td>200</td>\n",
       "      <td>1162.2</td>\n",
       "      <td>0.7826</td>\n",
       "    </tr>\n",
       "    <tr>\n",
       "      <th>2</th>\n",
       "      <td>300</td>\n",
       "      <td>1770.1</td>\n",
       "      <td>0.7843</td>\n",
       "    </tr>\n",
       "    <tr>\n",
       "      <th>3</th>\n",
       "      <td>400</td>\n",
       "      <td>2259.7</td>\n",
       "      <td>0.7843</td>\n",
       "    </tr>\n",
       "  </tbody>\n",
       "</table>\n",
       "</div>"
      ],
      "text/plain": [
       "   ntrees  runtime  accuracy\n",
       "0     100    543.0    0.7806\n",
       "1     200   1162.2    0.7826\n",
       "2     300   1770.1    0.7843\n",
       "3     400   2259.7    0.7843"
      ]
     },
     "execution_count": 39,
     "metadata": {},
     "output_type": "execute_result"
    }
   ],
   "source": [
    "df4 = pd.DataFrame(\n",
    "    {'ntrees': ntrees,\n",
    "     'runtime': runtime,\n",
    "     'accuracy': accuracy\n",
    "    })\n",
    "df4"
   ]
  },
  {
   "cell_type": "code",
   "execution_count": 40,
   "metadata": {},
   "outputs": [
    {
     "name": "stdout",
     "output_type": "stream",
     "text": [
      "Total running time: 378 minute(s) and 0 second(s).\n"
     ]
    }
   ],
   "source": [
    "# time notebook\n",
    "mins, secs = divmod(time.time() - start_notebook, 60)\n",
    "print(f'Total running time: {mins:0.0f} minute(s) and {secs:0.0f} second(s).')"
   ]
  },
  {
   "cell_type": "markdown",
   "metadata": {},
   "source": [
    "---"
   ]
  }
 ],
 "metadata": {
  "kernelspec": {
   "display_name": "Python 3",
   "language": "python",
   "name": "python3"
  },
  "language_info": {
   "codemirror_mode": {
    "name": "ipython",
    "version": 3
   },
   "file_extension": ".py",
   "mimetype": "text/x-python",
   "name": "python",
   "nbconvert_exporter": "python",
   "pygments_lexer": "ipython3",
   "version": "3.7.3"
  }
 },
 "nbformat": 4,
 "nbformat_minor": 4
}
