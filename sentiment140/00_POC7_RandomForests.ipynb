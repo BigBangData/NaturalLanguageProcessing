{
 "cells": [
  {
   "cell_type": "markdown",
   "metadata": {},
   "source": [
    "# Twitter Sentiment Analysis - POC\n",
    "---\n",
    "\n",
    "## 7. Quickly train various models\n",
    "\n",
    "**Current State**: I've trained three baseline models with little tweaking, and fine-tuned a single decision tree, on a Bag-of-Word subset of $m\\approx250k, n=50k$ of the training data, using cross validation, and got the following mean accuracy scores:\n",
    "\n",
    "- Logistic Regression: $78.8\\%$\n",
    "- Naive Bayes: $77.6\\%$ \n",
    "- SGD (log loss): $77.1\\%$ \n",
    "- Decision Tree: $69.0\\%$\n",
    "\n",
    "**This Notebook**: Build my own random forest based on the previous decision tree's best parameters."
   ]
  },
  {
   "cell_type": "code",
   "execution_count": 31,
   "metadata": {},
   "outputs": [],
   "source": [
    "import re\n",
    "import os\n",
    "import time\n",
    "import json\n",
    "\n",
    "import numpy as np\n",
    "import pandas as pd\n",
    "import scipy.sparse as sp\n",
    "\n",
    "from sklearn.tree import DecisionTreeClassifier \n",
    "from sklearn.model_selection import cross_val_score\n",
    "from sklearn.model_selection import train_test_split\n",
    "from sklearn.metrics import accuracy_score"
   ]
  },
  {
   "cell_type": "markdown",
   "metadata": {},
   "source": [
    "### Load $m\\approx250k$, $n=50k$ training subset"
   ]
  },
  {
   "cell_type": "code",
   "execution_count": 32,
   "metadata": {},
   "outputs": [],
   "source": [
    "# processed dir\n",
    "proc_dir = os.path.join(\"..\",\"data\",\"3_processed\",\"sentiment140\")\n",
    "X_train_transformed = sp.load_npz(os.path.join(proc_dir, \"X_train_transformed_BoW_250k_50k.npz\"))\n",
    "with open(os.path.join(proc_dir, \"y_array_250k.npy\"), 'rb') as f:\n",
    "    y_array = np.load(f)"
   ]
  },
  {
   "cell_type": "code",
   "execution_count": 33,
   "metadata": {},
   "outputs": [],
   "source": [
    "X_train, X_test, y_train, y_test = train_test_split(X_train_transformed, \n",
    "                                                    y_array, \n",
    "                                                    test_size=0.2, \n",
    "                                                    random_state=42)"
   ]
  },
  {
   "cell_type": "markdown",
   "metadata": {},
   "source": [
    "### DIY Random Forest\n",
    "\n",
    "In the [POC for growing your own random forest](10.extra_GrowingRandomForests) (yes, a \"POC of the POC\", I'm sure agile covers this...) we used 1,000 trees of 100 instances each for an 8,000 training dataset. If I were to mimic these proportions with the roughly 200,000 instances in our training data I'd have to train approximately 25,000 trees with 2,500 instances each. That might take too long so I'll start with the same 1,000 trees of 100 instances each and see where I get."
   ]
  },
  {
   "cell_type": "code",
   "execution_count": 34,
   "metadata": {},
   "outputs": [],
   "source": [
    "from sklearn.model_selection import ShuffleSplit\n",
    "\n",
    "n_trees = 1000\n",
    "n_instances = 100\n",
    "subsets = []\n",
    "\n",
    "rs = ShuffleSplit(n_splits=n_trees, test_size=X_train.shape[0] - n_instances, random_state=42)\n",
    "for train_sub_ix, test_sub_ix in rs.split(X_train):\n",
    "    X_sub_train = X_train[train_sub_ix]\n",
    "    y_sub_train = y_train[train_sub_ix]\n",
    "    subsets.append((X_sub_train, y_sub_train))"
   ]
  },
  {
   "cell_type": "markdown",
   "metadata": {},
   "source": [
    "With this loop we get `subsets`: a 1,000-long list of 100 by 50k sparse matrices of features and 1000-long numpy arrays with target values. \n",
    "\n",
    "We start our forest by cloning our best estimator from the previous notebook 1,000 times."
   ]
  },
  {
   "cell_type": "code",
   "execution_count": 35,
   "metadata": {},
   "outputs": [],
   "source": [
    "from sklearn.base import clone\n",
    "\n",
    "best_estimator_ = DecisionTreeClassifier(random_state=42, \n",
    "                                         max_leaf_nodes=99)\n",
    "\n",
    "forest = [clone(best_estimator_) for _ in range(n_trees)]"
   ]
  },
  {
   "cell_type": "markdown",
   "metadata": {},
   "source": [
    "Then we train each tree in our forest, make predictions on the test set and get the accuracy for each of these predictions."
   ]
  },
  {
   "cell_type": "code",
   "execution_count": 36,
   "metadata": {},
   "outputs": [
    {
     "name": "stdout",
     "output_type": "stream",
     "text": [
      "Fitting estimator 1 | Time elapsed: 0 mins and 0 secs\n",
      "Fitting estimator 101 | Time elapsed: 0 mins and 16 secs\n",
      "Fitting estimator 201 | Time elapsed: 0 mins and 30 secs\n",
      "Fitting estimator 301 | Time elapsed: 0 mins and 46 secs\n",
      "Fitting estimator 401 | Time elapsed: 1 mins and 2 secs\n",
      "Fitting estimator 501 | Time elapsed: 1 mins and 17 secs\n",
      "Fitting estimator 601 | Time elapsed: 1 mins and 33 secs\n",
      "Fitting estimator 701 | Time elapsed: 1 mins and 49 secs\n",
      "Fitting estimator 801 | Time elapsed: 2 mins and 4 secs\n",
      "Fitting estimator 901 | Time elapsed: 2 mins and 20 secs\n"
     ]
    }
   ],
   "source": [
    "import time \n",
    "\n",
    "accuracy_scores = []\n",
    "start_loop = time.time()\n",
    "\n",
    "for ix, (tree, (X_sub_train, y_sub_train)) in enumerate(zip(forest, subsets)):\n",
    "    if ix % 100 == 0:\n",
    "        mins, secs = divmod(time.time() - start_loop, 60)\n",
    "        print(''.join(['Fitting estimator ', str(ix+1), ' | ', \\\n",
    "                       f'Time elapsed: {mins:0.0f} mins and {secs:0.0f} secs']))\n",
    "        \n",
    "    tree.fit(X_sub_train, y_sub_train)\n",
    "    y_pred = tree.predict(X_test)\n",
    "    accuracy_scores.append(accuracy_score(y_test, y_pred))"
   ]
  },
  {
   "cell_type": "code",
   "execution_count": 37,
   "metadata": {},
   "outputs": [
    {
     "data": {
      "text/plain": [
       "0.5629"
      ]
     },
     "execution_count": 37,
     "metadata": {},
     "output_type": "execute_result"
    }
   ],
   "source": [
    "round(np.mean(accuracy_scores), 4)"
   ]
  },
  {
   "cell_type": "markdown",
   "metadata": {},
   "source": [
    "This is the **\"magic\"** step:\n",
    "\n",
    "- for each test set instance, generate the predictions of the 10,000 trees \n",
    "- keep only the most frequent prediction (the *mode*)\n",
    "\n",
    "This procedure gives you the majority-vote predictions over the test set."
   ]
  },
  {
   "cell_type": "code",
   "execution_count": 38,
   "metadata": {},
   "outputs": [
    {
     "data": {
      "text/plain": [
       "50294"
      ]
     },
     "execution_count": 38,
     "metadata": {},
     "output_type": "execute_result"
    }
   ],
   "source": [
    "X_test.shape[0]"
   ]
  },
  {
   "cell_type": "code",
   "execution_count": 39,
   "metadata": {},
   "outputs": [],
   "source": [
    "Y_pred = np.empty([1000, X_test.shape[0]], dtype=np.uint8) # a 1,000 x 62,867 matrix"
   ]
  },
  {
   "cell_type": "code",
   "execution_count": 40,
   "metadata": {},
   "outputs": [],
   "source": [
    "# generate predictions for each classifier\n",
    "for tree_ix, tree in enumerate(forest):              \n",
    "    Y_pred[tree_ix] = tree.predict(X_test)"
   ]
  },
  {
   "cell_type": "code",
   "execution_count": 41,
   "metadata": {},
   "outputs": [],
   "source": [
    "from scipy.stats import mode\n",
    "\n",
    "# compute mode for each y_pred\n",
    "y_pred_majority_votes, n_votes = mode(Y_pred, axis=0)"
   ]
  },
  {
   "cell_type": "code",
   "execution_count": 42,
   "metadata": {},
   "outputs": [
    {
     "data": {
      "text/plain": [
       "0.6608"
      ]
     },
     "execution_count": 42,
     "metadata": {},
     "output_type": "execute_result"
    }
   ],
   "source": [
    "# get accuracy of preds on test target\n",
    "round(accuracy_score(y_test, y_pred_majority_votes.reshape([-1])), 4)"
   ]
  },
  {
   "cell_type": "markdown",
   "metadata": {},
   "source": [
    "That shows some potential, so let's scale it up to 10,000 trees of 2,000 instances each."
   ]
  },
  {
   "cell_type": "code",
   "execution_count": 43,
   "metadata": {},
   "outputs": [],
   "source": [
    "n_trees = 10000\n",
    "n_instances = 2000\n",
    "subsets = []\n",
    "\n",
    "rs = ShuffleSplit(n_splits=n_trees, test_size=X_train.shape[0] - n_instances, random_state=42)\n",
    "for train_sub_ix, test_sub_ix in rs.split(X_train):\n",
    "    X_sub_train = X_train[train_sub_ix]\n",
    "    y_sub_train = y_train[train_sub_ix]\n",
    "    subsets.append((X_sub_train, y_sub_train))"
   ]
  },
  {
   "cell_type": "code",
   "execution_count": 44,
   "metadata": {},
   "outputs": [],
   "source": [
    "best_estimator_ = DecisionTreeClassifier(random_state=42, max_leaf_nodes=99, max_features=11000)\n",
    "forest = [clone(best_estimator_) for _ in range(n_trees)]"
   ]
  },
  {
   "cell_type": "code",
   "execution_count": 45,
   "metadata": {},
   "outputs": [
    {
     "name": "stdout",
     "output_type": "stream",
     "text": [
      "Fitting estimator 1 | Time elapsed: 0 mins and 0 secs\n",
      "Fitting estimator 501 | Time elapsed: 1 mins and 39 secs\n",
      "Fitting estimator 1001 | Time elapsed: 3 mins and 18 secs\n",
      "Fitting estimator 1501 | Time elapsed: 4 mins and 56 secs\n",
      "Fitting estimator 2001 | Time elapsed: 6 mins and 34 secs\n",
      "Fitting estimator 2501 | Time elapsed: 8 mins and 13 secs\n",
      "Fitting estimator 3001 | Time elapsed: 9 mins and 52 secs\n",
      "Fitting estimator 3501 | Time elapsed: 11 mins and 30 secs\n",
      "Fitting estimator 4001 | Time elapsed: 13 mins and 9 secs\n",
      "Fitting estimator 4501 | Time elapsed: 14 mins and 47 secs\n",
      "Fitting estimator 5001 | Time elapsed: 16 mins and 27 secs\n",
      "Fitting estimator 5501 | Time elapsed: 18 mins and 5 secs\n",
      "Fitting estimator 6001 | Time elapsed: 19 mins and 44 secs\n",
      "Fitting estimator 6501 | Time elapsed: 21 mins and 23 secs\n",
      "Fitting estimator 7001 | Time elapsed: 23 mins and 1 secs\n",
      "Fitting estimator 7501 | Time elapsed: 24 mins and 50 secs\n",
      "Fitting estimator 8001 | Time elapsed: 26 mins and 35 secs\n",
      "Fitting estimator 8501 | Time elapsed: 28 mins and 22 secs\n",
      "Fitting estimator 9001 | Time elapsed: 30 mins and 12 secs\n",
      "Fitting estimator 9501 | Time elapsed: 32 mins and 2 secs\n",
      "Fitting completed. | Time elapsed: 33 mins and 42 secs\n"
     ]
    }
   ],
   "source": [
    "accuracy_scores = []\n",
    "start_loop = time.time()\n",
    "\n",
    "for ix, (tree, (X_sub_train, y_sub_train)) in enumerate(zip(forest, subsets)):\n",
    "    tree.fit(X_sub_train, y_sub_train)\n",
    "    y_pred = tree.predict(X_test)\n",
    "    accuracy_scores.append(accuracy_score(y_test, y_pred))\n",
    "    \n",
    "    if ix % 500 == 0:\n",
    "        mins, secs = divmod(time.time() - start_loop, 60)\n",
    "        print(''.join(['Fitting estimator ', str(ix+1), ' | ', \\\n",
    "                       f'Time elapsed: {mins:0.0f} mins and {secs:0.0f} secs']))\n",
    "        \n",
    "    if ix == n_trees-1:\n",
    "        mins, secs = divmod(time.time() - start_loop, 60)\n",
    "        print(''.join(['Fitting completed. | ', \\\n",
    "                       f'Time elapsed: {mins:0.0f} mins and {secs:0.0f} secs']))"
   ]
  },
  {
   "cell_type": "code",
   "execution_count": 46,
   "metadata": {},
   "outputs": [
    {
     "data": {
      "text/plain": [
       "0.6375"
      ]
     },
     "execution_count": 46,
     "metadata": {},
     "output_type": "execute_result"
    }
   ],
   "source": [
    "round(np.mean(accuracy_scores), 4)"
   ]
  },
  {
   "cell_type": "markdown",
   "metadata": {},
   "source": [
    "**magic** step:"
   ]
  },
  {
   "cell_type": "code",
   "execution_count": 27,
   "metadata": {},
   "outputs": [],
   "source": [
    "Y_pred = np.empty([n_trees, X_test.shape[0]], dtype=np.uint8)"
   ]
  },
  {
   "cell_type": "code",
   "execution_count": 28,
   "metadata": {},
   "outputs": [],
   "source": [
    "# generate predictions for each classifier\n",
    "for ix, tree in enumerate(forest):         \n",
    "    Y_pred[ix] = tree.predict(X_test)"
   ]
  },
  {
   "cell_type": "code",
   "execution_count": 29,
   "metadata": {},
   "outputs": [],
   "source": [
    "# compute mode for each y_pred\n",
    "y_pred_majority_votes, n_votes = mode(Y_pred, axis=0)"
   ]
  },
  {
   "cell_type": "code",
   "execution_count": 30,
   "metadata": {},
   "outputs": [
    {
     "data": {
      "text/plain": [
       "0.685"
      ]
     },
     "execution_count": 30,
     "metadata": {},
     "output_type": "execute_result"
    }
   ],
   "source": [
    "# get accuracy of preds on test target\n",
    "round(accuracy_score(y_test, y_pred_majority_votes.reshape([-1])), 4)"
   ]
  },
  {
   "cell_type": "markdown",
   "metadata": {},
   "source": [
    "### Scikit-Learn's RandomForestClassifier class"
   ]
  },
  {
   "cell_type": "markdown",
   "metadata": {},
   "source": [
    "[(source)](https://github.com/scikit-learn/scikit-learn/blob/0fb307bf3/sklearn/ensemble/_forest.py#L883)\n",
    "\n",
    "```\n",
    "class sklearn.ensemble.RandomForestClassifier(n_estimators=100, *, criterion='gini', max_depth=None, min_samples_split=2, min_samples_leaf=1, min_weight_fraction_leaf=0.0, max_features='auto', max_leaf_nodes=None, min_impurity_decrease=0.0, min_impurity_split=None, bootstrap=True, oob_score=False, n_jobs=None, random_state=None, verbose=0, warm_start=False, class_weight=None, ccp_alpha=0.0, max_samples=None\n",
    "```\n",
    "\n",
    "`max_features`'s default is \"auto\"; then `max_features=sqrt(n_features)` - in our case: $\\sqrt{50000}\\approx224$"
   ]
  },
  {
   "cell_type": "code",
   "execution_count": null,
   "metadata": {},
   "outputs": [
    {
     "name": "stderr",
     "output_type": "stream",
     "text": [
      "[Parallel(n_jobs=-1)]: Using backend ThreadingBackend with 8 concurrent workers.\n"
     ]
    },
    {
     "name": "stdout",
     "output_type": "stream",
     "text": [
      "building tree 1 of 500building tree 2 of 500\n",
      "building tree 3 of 500\n",
      "\n",
      "building tree 4 of 500\n",
      "building tree 5 of 500\n",
      "building tree 6 of 500\n",
      "building tree 7 of 500\n",
      "building tree 8 of 500\n"
     ]
    }
   ],
   "source": [
    "from sklearn.ensemble import RandomForestClassifier\n",
    "\n",
    "clf = RandomForestClassifier(n_estimators=500, n_jobs=-1, random_state=42, verbose=3)\n",
    "clf = clf.fit(X_train, y_train)"
   ]
  },
  {
   "cell_type": "code",
   "execution_count": 10,
   "metadata": {},
   "outputs": [
    {
     "name": "stderr",
     "output_type": "stream",
     "text": [
      "[Parallel(n_jobs=1)]: Using backend SequentialBackend with 1 concurrent workers.\n"
     ]
    },
    {
     "name": "stdout",
     "output_type": "stream",
     "text": [
      "[CV]  ................................................................\n"
     ]
    },
    {
     "name": "stderr",
     "output_type": "stream",
     "text": [
      "[Parallel(n_jobs=-1)]: Using backend LokyBackend with 8 concurrent workers.\n",
      "[Parallel(n_jobs=-1)]: Done  34 tasks      | elapsed:    5.7s\n",
      "[Parallel(n_jobs=-1)]: Done 184 tasks      | elapsed:   21.9s\n",
      "[Parallel(n_jobs=-1)]: Done 434 tasks      | elapsed:   49.5s\n",
      "[Parallel(n_jobs=-1)]: Done 500 out of 500 | elapsed:   56.6s finished\n",
      "[Parallel(n_jobs=8)]: Using backend ThreadingBackend with 8 concurrent workers.\n",
      "[Parallel(n_jobs=8)]: Done  34 tasks      | elapsed:    0.0s\n",
      "[Parallel(n_jobs=8)]: Done 184 tasks      | elapsed:    0.5s\n",
      "[Parallel(n_jobs=8)]: Done 434 tasks      | elapsed:    1.4s\n",
      "[Parallel(n_jobs=8)]: Done 500 out of 500 | elapsed:    1.6s finished\n",
      "[Parallel(n_jobs=1)]: Done   1 out of   1 | elapsed:   59.2s remaining:    0.0s\n"
     ]
    },
    {
     "name": "stdout",
     "output_type": "stream",
     "text": [
      "[CV] ................................................. , total=  59.2s\n",
      "[CV]  ................................................................\n"
     ]
    },
    {
     "name": "stderr",
     "output_type": "stream",
     "text": [
      "[Parallel(n_jobs=-1)]: Using backend LokyBackend with 8 concurrent workers.\n",
      "[Parallel(n_jobs=-1)]: Done  34 tasks      | elapsed:    5.1s\n",
      "[Parallel(n_jobs=-1)]: Done 184 tasks      | elapsed:   23.9s\n",
      "[Parallel(n_jobs=-1)]: Done 434 tasks      | elapsed:   55.4s\n",
      "[Parallel(n_jobs=-1)]: Done 500 out of 500 | elapsed:  1.1min finished\n",
      "[Parallel(n_jobs=8)]: Using backend ThreadingBackend with 8 concurrent workers.\n",
      "[Parallel(n_jobs=8)]: Done  34 tasks      | elapsed:    0.0s\n",
      "[Parallel(n_jobs=8)]: Done 184 tasks      | elapsed:    0.5s\n",
      "[Parallel(n_jobs=8)]: Done 434 tasks      | elapsed:    1.4s\n",
      "[Parallel(n_jobs=8)]: Done 500 out of 500 | elapsed:    1.7s finished\n"
     ]
    },
    {
     "name": "stdout",
     "output_type": "stream",
     "text": [
      "[CV] ................................................. , total= 1.1min\n",
      "[CV]  ................................................................\n"
     ]
    },
    {
     "name": "stderr",
     "output_type": "stream",
     "text": [
      "[Parallel(n_jobs=-1)]: Using backend LokyBackend with 8 concurrent workers.\n",
      "[Parallel(n_jobs=-1)]: Done  34 tasks      | elapsed:    5.2s\n",
      "[Parallel(n_jobs=-1)]: Done 184 tasks      | elapsed:   23.9s\n",
      "[Parallel(n_jobs=-1)]: Done 434 tasks      | elapsed:   55.8s\n",
      "[Parallel(n_jobs=-1)]: Done 500 out of 500 | elapsed:  1.1min finished\n",
      "[Parallel(n_jobs=8)]: Using backend ThreadingBackend with 8 concurrent workers.\n",
      "[Parallel(n_jobs=8)]: Done  34 tasks      | elapsed:    0.0s\n",
      "[Parallel(n_jobs=8)]: Done 184 tasks      | elapsed:    0.6s\n",
      "[Parallel(n_jobs=8)]: Done 434 tasks      | elapsed:    1.5s\n"
     ]
    },
    {
     "name": "stdout",
     "output_type": "stream",
     "text": [
      "[CV] ................................................. , total= 1.1min\n",
      "Accuracy: 0.75 (+/- 0.00)\n"
     ]
    },
    {
     "name": "stderr",
     "output_type": "stream",
     "text": [
      "[Parallel(n_jobs=8)]: Done 500 out of 500 | elapsed:    1.7s finished\n",
      "[Parallel(n_jobs=1)]: Done   3 out of   3 | elapsed:  3.2min finished\n"
     ]
    }
   ],
   "source": [
    "scores = cross_val_score(clf, X_train_transformed, y_array, cv=3, verbose=2, scoring='accuracy')\n",
    "print(\"Accuracy: %0.2f (+/- %0.2f)\" % (scores.mean(), scores.std() * 2))"
   ]
  },
  {
   "cell_type": "markdown",
   "metadata": {},
   "source": [
    "### GridSearch 1\n",
    "\n",
    "* $\\text{n_estimators}=100$, vary `max_depth`"
   ]
  },
  {
   "cell_type": "code",
   "execution_count": 11,
   "metadata": {},
   "outputs": [
    {
     "name": "stdout",
     "output_type": "stream",
     "text": [
      "Gridsearch total time: 1 mins and 10 secs\n"
     ]
    }
   ],
   "source": [
    "start_gridsearch = time.time()\n",
    "\n",
    "depth, runtime, accuracy = [], [], []\n",
    "for i in range(2, 10):\n",
    "    depth.append(i)\n",
    "    start_clf = time.time()\n",
    "    clf = RandomForestClassifier(n_estimators=100, \n",
    "                                 max_depth=i, \n",
    "                                 n_jobs=6, \n",
    "                                 random_state=42)\n",
    "    clf.fit(X_train, y_train)\n",
    "    y_pred = clf.predict(X_test)\n",
    "    accuracy.append(round(accuracy_score(y_test, y_pred), 4))\n",
    "    runtime.append(round(time.time() - start_clf, 1))\n",
    "    \n",
    "mins, secs = divmod(time.time() - start_gridsearch, 60)\n",
    "print(f'Gridsearch total time: {mins:0.0f} mins and {secs:0.0f} secs')"
   ]
  },
  {
   "cell_type": "code",
   "execution_count": 16,
   "metadata": {},
   "outputs": [
    {
     "data": {
      "text/html": [
       "<div>\n",
       "<style scoped>\n",
       "    .dataframe tbody tr th:only-of-type {\n",
       "        vertical-align: middle;\n",
       "    }\n",
       "\n",
       "    .dataframe tbody tr th {\n",
       "        vertical-align: top;\n",
       "    }\n",
       "\n",
       "    .dataframe thead th {\n",
       "        text-align: right;\n",
       "    }\n",
       "</style>\n",
       "<table border=\"1\" class=\"dataframe\">\n",
       "  <thead>\n",
       "    <tr style=\"text-align: right;\">\n",
       "      <th></th>\n",
       "      <th>depth</th>\n",
       "      <th>runtime</th>\n",
       "      <th>accuracy</th>\n",
       "    </tr>\n",
       "  </thead>\n",
       "  <tbody>\n",
       "    <tr>\n",
       "      <th>0</th>\n",
       "      <td>2</td>\n",
       "      <td>4.3</td>\n",
       "      <td>0.6512</td>\n",
       "    </tr>\n",
       "    <tr>\n",
       "      <th>1</th>\n",
       "      <td>3</td>\n",
       "      <td>5.2</td>\n",
       "      <td>0.6672</td>\n",
       "    </tr>\n",
       "    <tr>\n",
       "      <th>2</th>\n",
       "      <td>4</td>\n",
       "      <td>6.2</td>\n",
       "      <td>0.6883</td>\n",
       "    </tr>\n",
       "    <tr>\n",
       "      <th>3</th>\n",
       "      <td>5</td>\n",
       "      <td>8.2</td>\n",
       "      <td>0.7035</td>\n",
       "    </tr>\n",
       "    <tr>\n",
       "      <th>4</th>\n",
       "      <td>6</td>\n",
       "      <td>9.4</td>\n",
       "      <td>0.7070</td>\n",
       "    </tr>\n",
       "    <tr>\n",
       "      <th>5</th>\n",
       "      <td>7</td>\n",
       "      <td>10.8</td>\n",
       "      <td>0.7250</td>\n",
       "    </tr>\n",
       "    <tr>\n",
       "      <th>6</th>\n",
       "      <td>8</td>\n",
       "      <td>12.1</td>\n",
       "      <td>0.7250</td>\n",
       "    </tr>\n",
       "    <tr>\n",
       "      <th>7</th>\n",
       "      <td>9</td>\n",
       "      <td>13.6</td>\n",
       "      <td>0.7273</td>\n",
       "    </tr>\n",
       "  </tbody>\n",
       "</table>\n",
       "</div>"
      ],
      "text/plain": [
       "   depth  runtime  accuracy\n",
       "0      2      4.3    0.6512\n",
       "1      3      5.2    0.6672\n",
       "2      4      6.2    0.6883\n",
       "3      5      8.2    0.7035\n",
       "4      6      9.4    0.7070\n",
       "5      7     10.8    0.7250\n",
       "6      8     12.1    0.7250\n",
       "7      9     13.6    0.7273"
      ]
     },
     "execution_count": 16,
     "metadata": {},
     "output_type": "execute_result"
    }
   ],
   "source": [
    "df1 = pd.DataFrame(\n",
    "    {'depth': depth,\n",
    "     'runtime': runtime,\n",
    "     'accuracy': accuracy\n",
    "    })\n",
    "df1"
   ]
  },
  {
   "cell_type": "code",
   "execution_count": 17,
   "metadata": {},
   "outputs": [
    {
     "name": "stdout",
     "output_type": "stream",
     "text": [
      "Gridsearch total time: 15 mins and 25 secs\n"
     ]
    }
   ],
   "source": [
    "start_gridsearch = time.time()\n",
    "\n",
    "depth, runtime, accuracy = [], [], []\n",
    "for i in range(10, 100, 10):\n",
    "    depth.append(i)\n",
    "    start_clf = time.time()\n",
    "    clf = RandomForestClassifier(n_estimators=100, \n",
    "                                 max_depth=i, \n",
    "                                 n_jobs=6, \n",
    "                                 random_state=42)\n",
    "    clf.fit(X_train, y_train)\n",
    "    y_pred = clf.predict(X_test)\n",
    "    accuracy.append(round(accuracy_score(y_test, y_pred), 4))\n",
    "    runtime.append(round(time.time() - start_clf, 1))\n",
    "    \n",
    "mins, secs = divmod(time.time() - start_gridsearch, 60)\n",
    "print(f'Gridsearch total time: {mins:0.0f} mins and {secs:0.0f} secs')"
   ]
  },
  {
   "cell_type": "code",
   "execution_count": 18,
   "metadata": {},
   "outputs": [
    {
     "data": {
      "text/html": [
       "<div>\n",
       "<style scoped>\n",
       "    .dataframe tbody tr th:only-of-type {\n",
       "        vertical-align: middle;\n",
       "    }\n",
       "\n",
       "    .dataframe tbody tr th {\n",
       "        vertical-align: top;\n",
       "    }\n",
       "\n",
       "    .dataframe thead th {\n",
       "        text-align: right;\n",
       "    }\n",
       "</style>\n",
       "<table border=\"1\" class=\"dataframe\">\n",
       "  <thead>\n",
       "    <tr style=\"text-align: right;\">\n",
       "      <th></th>\n",
       "      <th>depth</th>\n",
       "      <th>runtime</th>\n",
       "      <th>accuracy</th>\n",
       "    </tr>\n",
       "  </thead>\n",
       "  <tbody>\n",
       "    <tr>\n",
       "      <th>0</th>\n",
       "      <td>10</td>\n",
       "      <td>13.4</td>\n",
       "      <td>0.7309</td>\n",
       "    </tr>\n",
       "    <tr>\n",
       "      <th>1</th>\n",
       "      <td>20</td>\n",
       "      <td>27.9</td>\n",
       "      <td>0.7355</td>\n",
       "    </tr>\n",
       "    <tr>\n",
       "      <th>2</th>\n",
       "      <td>30</td>\n",
       "      <td>43.4</td>\n",
       "      <td>0.7442</td>\n",
       "    </tr>\n",
       "    <tr>\n",
       "      <th>3</th>\n",
       "      <td>40</td>\n",
       "      <td>63.0</td>\n",
       "      <td>0.7494</td>\n",
       "    </tr>\n",
       "    <tr>\n",
       "      <th>4</th>\n",
       "      <td>50</td>\n",
       "      <td>83.6</td>\n",
       "      <td>0.7531</td>\n",
       "    </tr>\n",
       "    <tr>\n",
       "      <th>5</th>\n",
       "      <td>60</td>\n",
       "      <td>111.5</td>\n",
       "      <td>0.7586</td>\n",
       "    </tr>\n",
       "    <tr>\n",
       "      <th>6</th>\n",
       "      <td>70</td>\n",
       "      <td>158.9</td>\n",
       "      <td>0.7607</td>\n",
       "    </tr>\n",
       "    <tr>\n",
       "      <th>7</th>\n",
       "      <td>80</td>\n",
       "      <td>193.1</td>\n",
       "      <td>0.7643</td>\n",
       "    </tr>\n",
       "    <tr>\n",
       "      <th>8</th>\n",
       "      <td>90</td>\n",
       "      <td>230.1</td>\n",
       "      <td>0.7671</td>\n",
       "    </tr>\n",
       "  </tbody>\n",
       "</table>\n",
       "</div>"
      ],
      "text/plain": [
       "   depth  runtime  accuracy\n",
       "0     10     13.4    0.7309\n",
       "1     20     27.9    0.7355\n",
       "2     30     43.4    0.7442\n",
       "3     40     63.0    0.7494\n",
       "4     50     83.6    0.7531\n",
       "5     60    111.5    0.7586\n",
       "6     70    158.9    0.7607\n",
       "7     80    193.1    0.7643\n",
       "8     90    230.1    0.7671"
      ]
     },
     "execution_count": 18,
     "metadata": {},
     "output_type": "execute_result"
    }
   ],
   "source": [
    "df2 = pd.DataFrame(\n",
    "    {'depth': depth,\n",
    "     'runtime': runtime,\n",
    "     'accuracy': accuracy\n",
    "    })\n",
    "df2"
   ]
  },
  {
   "cell_type": "code",
   "execution_count": 19,
   "metadata": {},
   "outputs": [
    {
     "name": "stdout",
     "output_type": "stream",
     "text": [
      "Gridsearch total time: 98 mins and 58 secs\n"
     ]
    }
   ],
   "source": [
    "start_gridsearch = time.time()\n",
    "\n",
    "depth, runtime, accuracy = [], [], []\n",
    "for i in range(100, 1100, 100):\n",
    "    depth.append(i)\n",
    "    start_clf = time.time()\n",
    "    clf = RandomForestClassifier(n_estimators=100, \n",
    "                                 max_depth=i, \n",
    "                                 n_jobs=6, \n",
    "                                 random_state=42)\n",
    "    clf.fit(X_train, y_train)\n",
    "    y_pred = clf.predict(X_test)\n",
    "    accuracy.append(round(accuracy_score(y_test, y_pred), 4))\n",
    "    runtime.append(round(time.time() - start_clf, 1))\n",
    "    \n",
    "mins, secs = divmod(time.time() - start_gridsearch, 60)\n",
    "print(f'Gridsearch total time: {mins:0.0f} mins and {secs:0.0f} secs')"
   ]
  },
  {
   "cell_type": "code",
   "execution_count": 20,
   "metadata": {},
   "outputs": [
    {
     "data": {
      "text/html": [
       "<div>\n",
       "<style scoped>\n",
       "    .dataframe tbody tr th:only-of-type {\n",
       "        vertical-align: middle;\n",
       "    }\n",
       "\n",
       "    .dataframe tbody tr th {\n",
       "        vertical-align: top;\n",
       "    }\n",
       "\n",
       "    .dataframe thead th {\n",
       "        text-align: right;\n",
       "    }\n",
       "</style>\n",
       "<table border=\"1\" class=\"dataframe\">\n",
       "  <thead>\n",
       "    <tr style=\"text-align: right;\">\n",
       "      <th></th>\n",
       "      <th>depth</th>\n",
       "      <th>runtime</th>\n",
       "      <th>accuracy</th>\n",
       "    </tr>\n",
       "  </thead>\n",
       "  <tbody>\n",
       "    <tr>\n",
       "      <th>0</th>\n",
       "      <td>100</td>\n",
       "      <td>216.3</td>\n",
       "      <td>0.7695</td>\n",
       "    </tr>\n",
       "    <tr>\n",
       "      <th>1</th>\n",
       "      <td>200</td>\n",
       "      <td>531.9</td>\n",
       "      <td>0.7777</td>\n",
       "    </tr>\n",
       "    <tr>\n",
       "      <th>2</th>\n",
       "      <td>300</td>\n",
       "      <td>867.3</td>\n",
       "      <td>0.7795</td>\n",
       "    </tr>\n",
       "    <tr>\n",
       "      <th>3</th>\n",
       "      <td>400</td>\n",
       "      <td>588.4</td>\n",
       "      <td>0.7793</td>\n",
       "    </tr>\n",
       "    <tr>\n",
       "      <th>4</th>\n",
       "      <td>500</td>\n",
       "      <td>598.6</td>\n",
       "      <td>0.7806</td>\n",
       "    </tr>\n",
       "    <tr>\n",
       "      <th>5</th>\n",
       "      <td>600</td>\n",
       "      <td>584.9</td>\n",
       "      <td>0.7808</td>\n",
       "    </tr>\n",
       "    <tr>\n",
       "      <th>6</th>\n",
       "      <td>700</td>\n",
       "      <td>647.2</td>\n",
       "      <td>0.7781</td>\n",
       "    </tr>\n",
       "    <tr>\n",
       "      <th>7</th>\n",
       "      <td>800</td>\n",
       "      <td>637.5</td>\n",
       "      <td>0.7799</td>\n",
       "    </tr>\n",
       "    <tr>\n",
       "      <th>8</th>\n",
       "      <td>900</td>\n",
       "      <td>604.2</td>\n",
       "      <td>0.7794</td>\n",
       "    </tr>\n",
       "    <tr>\n",
       "      <th>9</th>\n",
       "      <td>1000</td>\n",
       "      <td>661.8</td>\n",
       "      <td>0.7789</td>\n",
       "    </tr>\n",
       "  </tbody>\n",
       "</table>\n",
       "</div>"
      ],
      "text/plain": [
       "   depth  runtime  accuracy\n",
       "0    100    216.3    0.7695\n",
       "1    200    531.9    0.7777\n",
       "2    300    867.3    0.7795\n",
       "3    400    588.4    0.7793\n",
       "4    500    598.6    0.7806\n",
       "5    600    584.9    0.7808\n",
       "6    700    647.2    0.7781\n",
       "7    800    637.5    0.7799\n",
       "8    900    604.2    0.7794\n",
       "9   1000    661.8    0.7789"
      ]
     },
     "execution_count": 20,
     "metadata": {},
     "output_type": "execute_result"
    }
   ],
   "source": [
    "df3 = pd.DataFrame(\n",
    "    {'depth': depth,\n",
    "     'runtime': runtime,\n",
    "     'accuracy': accuracy\n",
    "    })\n",
    "df3"
   ]
  },
  {
   "cell_type": "code",
   "execution_count": 25,
   "metadata": {},
   "outputs": [],
   "source": [
    "rf_gridsearch = pd.concat([df1,df2,df3])"
   ]
  },
  {
   "cell_type": "code",
   "execution_count": 26,
   "metadata": {},
   "outputs": [],
   "source": [
    "# save gridsearch results\n",
    "model_tuning_dir = os.path.join(\"..\",\"data\",\"4_models\",\"sentiment140\",\"tuning\")\n",
    "\n",
    "try:\n",
    "    os.stat(model_tuning_dir)\n",
    "except:\n",
    "    os.mkdir(model_tuning_dir)\n",
    "    \n",
    "filepath = os.path.join(model_tuning_dir, \"POC7_rf_gridsearch1.csv\")\n",
    "rf_gridsearch.to_csv(filepath, index=False)"
   ]
  },
  {
   "cell_type": "markdown",
   "metadata": {},
   "source": [
    "### GridSearch 2\n",
    "\n",
    "* $\\text{max_depth}=500$, vary `n_estimators`"
   ]
  },
  {
   "cell_type": "code",
   "execution_count": null,
   "metadata": {},
   "outputs": [],
   "source": [
    "start_gridsearch = time.time()\n",
    "\n",
    "ntrees, runtime, accuracy = [], [], []\n",
    "for i in range(100, 500, 100):\n",
    "    ntrees.append(i)\n",
    "    start_clf = time.time()\n",
    "    clf = RandomForestClassifier(n_estimators=i,\n",
    "                                 max_depth=500, \n",
    "                                 n_jobs=6, \n",
    "                                 random_state=42)\n",
    "    clf.fit(X_train, y_train)\n",
    "    y_pred = clf.predict(X_test)\n",
    "    accuracy.append(round(accuracy_score(y_test, y_pred), 4))\n",
    "    runtime.append(round(time.time() - start_clf, 1))\n",
    "    \n",
    "mins, secs = divmod(time.time() - start_gridsearch, 60)"
   ]
  },
  {
   "cell_type": "code",
   "execution_count": 34,
   "metadata": {},
   "outputs": [
    {
     "name": "stdout",
     "output_type": "stream",
     "text": [
      "Gridsearch total time: 165 mins and 11 secs\n"
     ]
    }
   ],
   "source": [
    "print(f'Gridsearch total time: {mins:0.0f} mins and {secs:0.0f} secs')"
   ]
  },
  {
   "cell_type": "code",
   "execution_count": 39,
   "metadata": {},
   "outputs": [
    {
     "data": {
      "text/html": [
       "<div>\n",
       "<style scoped>\n",
       "    .dataframe tbody tr th:only-of-type {\n",
       "        vertical-align: middle;\n",
       "    }\n",
       "\n",
       "    .dataframe tbody tr th {\n",
       "        vertical-align: top;\n",
       "    }\n",
       "\n",
       "    .dataframe thead th {\n",
       "        text-align: right;\n",
       "    }\n",
       "</style>\n",
       "<table border=\"1\" class=\"dataframe\">\n",
       "  <thead>\n",
       "    <tr style=\"text-align: right;\">\n",
       "      <th></th>\n",
       "      <th>ntrees</th>\n",
       "      <th>runtime</th>\n",
       "      <th>accuracy</th>\n",
       "    </tr>\n",
       "  </thead>\n",
       "  <tbody>\n",
       "    <tr>\n",
       "      <th>0</th>\n",
       "      <td>100</td>\n",
       "      <td>543.0</td>\n",
       "      <td>0.7806</td>\n",
       "    </tr>\n",
       "    <tr>\n",
       "      <th>1</th>\n",
       "      <td>200</td>\n",
       "      <td>1162.2</td>\n",
       "      <td>0.7826</td>\n",
       "    </tr>\n",
       "    <tr>\n",
       "      <th>2</th>\n",
       "      <td>300</td>\n",
       "      <td>1770.1</td>\n",
       "      <td>0.7843</td>\n",
       "    </tr>\n",
       "    <tr>\n",
       "      <th>3</th>\n",
       "      <td>400</td>\n",
       "      <td>2259.7</td>\n",
       "      <td>0.7843</td>\n",
       "    </tr>\n",
       "  </tbody>\n",
       "</table>\n",
       "</div>"
      ],
      "text/plain": [
       "   ntrees  runtime  accuracy\n",
       "0     100    543.0    0.7806\n",
       "1     200   1162.2    0.7826\n",
       "2     300   1770.1    0.7843\n",
       "3     400   2259.7    0.7843"
      ]
     },
     "execution_count": 39,
     "metadata": {},
     "output_type": "execute_result"
    }
   ],
   "source": [
    "df4 = pd.DataFrame(\n",
    "    {'ntrees': ntrees,\n",
    "     'runtime': runtime,\n",
    "     'accuracy': accuracy\n",
    "    })\n",
    "df4"
   ]
  },
  {
   "cell_type": "code",
   "execution_count": 40,
   "metadata": {},
   "outputs": [
    {
     "name": "stdout",
     "output_type": "stream",
     "text": [
      "Total running time: 378 minute(s) and 0 second(s).\n"
     ]
    }
   ],
   "source": [
    "# time notebook\n",
    "mins, secs = divmod(time.time() - start_notebook, 60)\n",
    "print(f'Total running time: {mins:0.0f} minute(s) and {secs:0.0f} second(s).')"
   ]
  },
  {
   "cell_type": "markdown",
   "metadata": {},
   "source": [
    "---"
   ]
  }
 ],
 "metadata": {
  "kernelspec": {
   "display_name": "Python 3",
   "language": "python",
   "name": "python3"
  },
  "language_info": {
   "codemirror_mode": {
    "name": "ipython",
    "version": 3
   },
   "file_extension": ".py",
   "mimetype": "text/x-python",
   "name": "python",
   "nbconvert_exporter": "python",
   "pygments_lexer": "ipython3",
   "version": "3.7.3"
  }
 },
 "nbformat": 4,
 "nbformat_minor": 4
}
