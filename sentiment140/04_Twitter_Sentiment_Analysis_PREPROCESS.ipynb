{
 "cells": [
  {
   "cell_type": "markdown",
   "metadata": {},
   "source": [
    "## Twitter Sentiment Analysis \n",
    "\n",
    "---\n",
    "\n",
    "### Pre-process cleaned data for machine learning \n",
    "\n",
    "While cleanup involved simply reformatting a Tweet's text by standardizing it and reducing the feature space (less punctuation, replacing usernames and URLs, lower casing, tokenizing, lemmatizing, etc.), pre-processing for machine learning is often more involved. It mainly consists of further data cleanup steps such as imputing NAs, but also feature engineering, and perhaps most importantly, a method of representing text in numerical form, such as [Document Term Matrices](./01_Document_Term_Matrices.ipynb), since most machine-learning algorithms do not accept text as input.\n",
    "\n",
    "---\n",
    "\n",
    "### Load cleaned TRAIN data\n"
   ]
  },
  {
   "cell_type": "code",
   "execution_count": 11,
   "metadata": {},
   "outputs": [
    {
     "name": "stdout",
     "output_type": "stream",
     "text": [
      "Elapsed Time: 0 minute(s) and 5 second(s)\n"
     ]
    }
   ],
   "source": [
    "import os \n",
    "import re\n",
    "import time\n",
    "\n",
    "import numpy as np\n",
    "import pandas as pd\n",
    "import scipy.sparse as sp\n",
    "\n",
    "# for ML preprocessing\n",
    "from sklearn import preprocessing\n",
    "from sklearn.feature_extraction.text import TfidfVectorizer\n",
    "from sklearn.feature_extraction.text import CountVectorizer\n",
    "\n",
    "# custom (see script)\n",
    "import loading_module as lm\n",
    "\n",
    "start_time = time.time()\n",
    "df = lm.load_clean_data('X_train')\n",
    "mins, secs = divmod(time.time() - start_time, 60)\n",
    "print(f'Elapsed Time: {mins:0.0f} minute(s) and {secs:0.0f} second(s)')"
   ]
  },
  {
   "cell_type": "markdown",
   "metadata": {},
   "source": [
    "### Quick EDA"
   ]
  },
  {
   "cell_type": "code",
   "execution_count": 12,
   "metadata": {},
   "outputs": [
    {
     "data": {
      "text/plain": [
       "(1199999, 3)"
      ]
     },
     "execution_count": 12,
     "metadata": {},
     "output_type": "execute_result"
    }
   ],
   "source": [
    "df.shape"
   ]
  },
  {
   "cell_type": "code",
   "execution_count": 13,
   "metadata": {},
   "outputs": [
    {
     "data": {
      "text/html": [
       "<div>\n",
       "<style scoped>\n",
       "    .dataframe tbody tr th:only-of-type {\n",
       "        vertical-align: middle;\n",
       "    }\n",
       "\n",
       "    .dataframe tbody tr th {\n",
       "        vertical-align: top;\n",
       "    }\n",
       "\n",
       "    .dataframe thead th {\n",
       "        text-align: right;\n",
       "    }\n",
       "</style>\n",
       "<table border=\"1\" class=\"dataframe\">\n",
       "  <thead>\n",
       "    <tr style=\"text-align: right;\">\n",
       "      <th></th>\n",
       "      <th>username</th>\n",
       "      <th>text</th>\n",
       "      <th>lemmatized</th>\n",
       "    </tr>\n",
       "  </thead>\n",
       "  <tbody>\n",
       "    <tr>\n",
       "      <th>0</th>\n",
       "      <td>TessFTW</td>\n",
       "      <td>@haleyxfax at least your phone didn't get stol...</td>\n",
       "      <td>USERNAME least your phone didnt get stoled min...</td>\n",
       "    </tr>\n",
       "    <tr>\n",
       "      <th>0</th>\n",
       "      <td>haleybear</td>\n",
       "      <td>I shall leave for school when i am done jammin...</td>\n",
       "      <td>i shall leave school when i am done jammin kri...</td>\n",
       "    </tr>\n",
       "    <tr>\n",
       "      <th>0</th>\n",
       "      <td>Pace</td>\n",
       "      <td>Wish I was in Bournemouth today  - how's it lo...</td>\n",
       "      <td>wish i bournemouth today hows looking down the...</td>\n",
       "    </tr>\n",
       "    <tr>\n",
       "      <th>0</th>\n",
       "      <td>goatkinghoang</td>\n",
       "      <td>working madly</td>\n",
       "      <td>working madly</td>\n",
       "    </tr>\n",
       "    <tr>\n",
       "      <th>0</th>\n",
       "      <td>area259</td>\n",
       "      <td>The mad boys are here to tweet</td>\n",
       "      <td>mad boy here tweet</td>\n",
       "    </tr>\n",
       "  </tbody>\n",
       "</table>\n",
       "</div>"
      ],
      "text/plain": [
       "        username                                               text  \\\n",
       "0        TessFTW  @haleyxfax at least your phone didn't get stol...   \n",
       "0      haleybear  I shall leave for school when i am done jammin...   \n",
       "0           Pace  Wish I was in Bournemouth today  - how's it lo...   \n",
       "0  goatkinghoang                                     working madly    \n",
       "0        area259                    The mad boys are here to tweet    \n",
       "\n",
       "                                          lemmatized  \n",
       "0  USERNAME least your phone didnt get stoled min...  \n",
       "0  i shall leave school when i am done jammin kri...  \n",
       "0  wish i bournemouth today hows looking down the...  \n",
       "0                                      working madly  \n",
       "0                                 mad boy here tweet  "
      ]
     },
     "execution_count": 13,
     "metadata": {},
     "output_type": "execute_result"
    }
   ],
   "source": [
    "df.head() "
   ]
  },
  {
   "cell_type": "code",
   "execution_count": 14,
   "metadata": {},
   "outputs": [],
   "source": [
    "# load original train indices and subset\n",
    "raw_path = os.path.join(\"..\",\"data\",\"1_raw\",\"sentiment140\")  \n",
    "train_ix = np.load(os.path.join(raw_path, \"train_ix.npy\"))\n",
    "df.index = list(train_ix)"
   ]
  },
  {
   "cell_type": "code",
   "execution_count": 15,
   "metadata": {},
   "outputs": [
    {
     "data": {
      "text/html": [
       "<div>\n",
       "<style scoped>\n",
       "    .dataframe tbody tr th:only-of-type {\n",
       "        vertical-align: middle;\n",
       "    }\n",
       "\n",
       "    .dataframe tbody tr th {\n",
       "        vertical-align: top;\n",
       "    }\n",
       "\n",
       "    .dataframe thead th {\n",
       "        text-align: right;\n",
       "    }\n",
       "</style>\n",
       "<table border=\"1\" class=\"dataframe\">\n",
       "  <thead>\n",
       "    <tr style=\"text-align: right;\">\n",
       "      <th></th>\n",
       "      <th>username</th>\n",
       "      <th>text</th>\n",
       "      <th>lemmatized</th>\n",
       "    </tr>\n",
       "  </thead>\n",
       "  <tbody>\n",
       "    <tr>\n",
       "      <th>66270</th>\n",
       "      <td>TessFTW</td>\n",
       "      <td>@haleyxfax at least your phone didn't get stol...</td>\n",
       "      <td>USERNAME least your phone didnt get stoled min...</td>\n",
       "    </tr>\n",
       "    <tr>\n",
       "      <th>428045</th>\n",
       "      <td>haleybear</td>\n",
       "      <td>I shall leave for school when i am done jammin...</td>\n",
       "      <td>i shall leave school when i am done jammin kri...</td>\n",
       "    </tr>\n",
       "    <tr>\n",
       "      <th>1307927</th>\n",
       "      <td>Pace</td>\n",
       "      <td>Wish I was in Bournemouth today  - how's it lo...</td>\n",
       "      <td>wish i bournemouth today hows looking down the...</td>\n",
       "    </tr>\n",
       "    <tr>\n",
       "      <th>1112400</th>\n",
       "      <td>goatkinghoang</td>\n",
       "      <td>working madly</td>\n",
       "      <td>working madly</td>\n",
       "    </tr>\n",
       "    <tr>\n",
       "      <th>840793</th>\n",
       "      <td>area259</td>\n",
       "      <td>The mad boys are here to tweet</td>\n",
       "      <td>mad boy here tweet</td>\n",
       "    </tr>\n",
       "  </tbody>\n",
       "</table>\n",
       "</div>"
      ],
      "text/plain": [
       "              username                                               text  \\\n",
       "66270          TessFTW  @haleyxfax at least your phone didn't get stol...   \n",
       "428045       haleybear  I shall leave for school when i am done jammin...   \n",
       "1307927           Pace  Wish I was in Bournemouth today  - how's it lo...   \n",
       "1112400  goatkinghoang                                     working madly    \n",
       "840793         area259                    The mad boys are here to tweet    \n",
       "\n",
       "                                                lemmatized  \n",
       "66270    USERNAME least your phone didnt get stoled min...  \n",
       "428045   i shall leave school when i am done jammin kri...  \n",
       "1307927  wish i bournemouth today hows looking down the...  \n",
       "1112400                                      working madly  \n",
       "840793                                  mad boy here tweet  "
      ]
     },
     "execution_count": 15,
     "metadata": {},
     "output_type": "execute_result"
    }
   ],
   "source": [
    "df.head()"
   ]
  },
  {
   "cell_type": "markdown",
   "metadata": {},
   "source": [
    "Look for emojis, get `NaNs` instead:"
   ]
  },
  {
   "cell_type": "code",
   "execution_count": 16,
   "metadata": {},
   "outputs": [],
   "source": [
    "error_ix = []\n",
    "emoji_ix = []\n",
    "for i, tweet in enumerate(df['lemmatized'][:len(df)]):\n",
    "    try:\n",
    "        m = re.search(r'EMOJI', tweet)\n",
    "        if m:\n",
    "            emoji_ix.append(i)\n",
    "    except TypeError as e: \n",
    "        error_ix.append(i)"
   ]
  },
  {
   "cell_type": "code",
   "execution_count": 17,
   "metadata": {},
   "outputs": [
    {
     "data": {
      "text/html": [
       "<div>\n",
       "<style scoped>\n",
       "    .dataframe tbody tr th:only-of-type {\n",
       "        vertical-align: middle;\n",
       "    }\n",
       "\n",
       "    .dataframe tbody tr th {\n",
       "        vertical-align: top;\n",
       "    }\n",
       "\n",
       "    .dataframe thead th {\n",
       "        text-align: right;\n",
       "    }\n",
       "</style>\n",
       "<table border=\"1\" class=\"dataframe\">\n",
       "  <thead>\n",
       "    <tr style=\"text-align: right;\">\n",
       "      <th></th>\n",
       "      <th>username</th>\n",
       "      <th>text</th>\n",
       "      <th>lemmatized</th>\n",
       "    </tr>\n",
       "  </thead>\n",
       "  <tbody>\n",
       "    <tr>\n",
       "      <th>1345707</th>\n",
       "      <td>ChickWithAName</td>\n",
       "      <td>. . . . . and it's on!</td>\n",
       "      <td>NaN</td>\n",
       "    </tr>\n",
       "    <tr>\n",
       "      <th>1384923</th>\n",
       "      <td>sangofsorrow</td>\n",
       "      <td>He is...</td>\n",
       "      <td>NaN</td>\n",
       "    </tr>\n",
       "    <tr>\n",
       "      <th>127147</th>\n",
       "      <td>LukeOgle</td>\n",
       "      <td>is in IT</td>\n",
       "      <td>NaN</td>\n",
       "    </tr>\n",
       "    <tr>\n",
       "      <th>332364</th>\n",
       "      <td>dianamra</td>\n",
       "      <td>and it was</td>\n",
       "      <td>NaN</td>\n",
       "    </tr>\n",
       "    <tr>\n",
       "      <th>1045989</th>\n",
       "      <td>Spacegirlspif13</td>\n",
       "      <td>Is...                                         ...</td>\n",
       "      <td>NaN</td>\n",
       "    </tr>\n",
       "    <tr>\n",
       "      <th>859506</th>\n",
       "      <td>WMonk</td>\n",
       "      <td>It will</td>\n",
       "      <td>NaN</td>\n",
       "    </tr>\n",
       "    <tr>\n",
       "      <th>229686</th>\n",
       "      <td>Jmoux</td>\n",
       "      <td>are on..</td>\n",
       "      <td>NaN</td>\n",
       "    </tr>\n",
       "    <tr>\n",
       "      <th>968236</th>\n",
       "      <td>SquarahFaggins</td>\n",
       "      <td>to it!!</td>\n",
       "      <td>NaN</td>\n",
       "    </tr>\n",
       "    <tr>\n",
       "      <th>1463690</th>\n",
       "      <td>geegeeludlow</td>\n",
       "      <td>is in IT</td>\n",
       "      <td>NaN</td>\n",
       "    </tr>\n",
       "    <tr>\n",
       "      <th>891561</th>\n",
       "      <td>rooroocachoo</td>\n",
       "      <td>It will</td>\n",
       "      <td>NaN</td>\n",
       "    </tr>\n",
       "  </tbody>\n",
       "</table>\n",
       "</div>"
      ],
      "text/plain": [
       "                username                                               text  \\\n",
       "1345707   ChickWithAName                            . . . . . and it's on!    \n",
       "1384923     sangofsorrow                                       He is...       \n",
       "127147          LukeOgle                                          is in IT    \n",
       "332364          dianamra                                        and it was    \n",
       "1045989  Spacegirlspif13  Is...                                         ...   \n",
       "859506             WMonk                                           It will    \n",
       "229686             Jmoux                                          are on..    \n",
       "968236    SquarahFaggins                                           to it!!    \n",
       "1463690     geegeeludlow                                          is in IT    \n",
       "891561      rooroocachoo                                           It will    \n",
       "\n",
       "        lemmatized  \n",
       "1345707        NaN  \n",
       "1384923        NaN  \n",
       "127147         NaN  \n",
       "332364         NaN  \n",
       "1045989        NaN  \n",
       "859506         NaN  \n",
       "229686         NaN  \n",
       "968236         NaN  \n",
       "1463690        NaN  \n",
       "891561         NaN  "
      ]
     },
     "execution_count": 17,
     "metadata": {},
     "output_type": "execute_result"
    }
   ],
   "source": [
    "# only a few NaNs\n",
    "df.iloc[error_ix, ]"
   ]
  },
  {
   "cell_type": "code",
   "execution_count": 19,
   "metadata": {},
   "outputs": [
    {
     "data": {
      "text/html": [
       "<div>\n",
       "<style scoped>\n",
       "    .dataframe tbody tr th:only-of-type {\n",
       "        vertical-align: middle;\n",
       "    }\n",
       "\n",
       "    .dataframe tbody tr th {\n",
       "        vertical-align: top;\n",
       "    }\n",
       "\n",
       "    .dataframe thead th {\n",
       "        text-align: right;\n",
       "    }\n",
       "</style>\n",
       "<table border=\"1\" class=\"dataframe\">\n",
       "  <thead>\n",
       "    <tr style=\"text-align: right;\">\n",
       "      <th></th>\n",
       "      <th>username</th>\n",
       "      <th>text</th>\n",
       "      <th>lemmatized</th>\n",
       "    </tr>\n",
       "  </thead>\n",
       "  <tbody>\n",
       "    <tr>\n",
       "      <th>490715</th>\n",
       "      <td>oeaejung</td>\n",
       "      <td>@FlowGoTom Hey, I watched your clip. wanna say...</td>\n",
       "      <td>USERNAME hey i watched your clip wan na say tr...</td>\n",
       "    </tr>\n",
       "    <tr>\n",
       "      <th>471789</th>\n",
       "      <td>javadimon</td>\n",
       "      <td>ÃÂ¡ÃÂ¸ÃÂ¶ÃÂ ÃÂ² ÃÂÃÂµÃÂ",
       "ÃÂ, ÃÂ½Ã...</td>\n",
       "      <td>EMOJI EMOJI EMOJI EMOJI mt g3 EMOJI EMOJI 1mb ...</td>\n",
       "    </tr>\n",
       "    <tr>\n",
       "      <th>143909</th>\n",
       "      <td>jstn7</td>\n",
       "      <td>Time to pick the dragon upÃ¯Â¼?I'm sure she'll...</td>\n",
       "      <td>time pick dragon up EMOJI im sure shell have p...</td>\n",
       "    </tr>\n",
       "    <tr>\n",
       "      <th>1252403</th>\n",
       "      <td>Hanescymru</td>\n",
       "      <td>Cardiff 1989! There's lovely!  Ã¢ÂÂ« http://b...</td>\n",
       "      <td>cardiff 1989 there lovely EMOJI URL</td>\n",
       "    </tr>\n",
       "    <tr>\n",
       "      <th>1249804</th>\n",
       "      <td>edwinduinkerken</td>\n",
       "      <td>Not so motivated for work today. Since that is...</td>\n",
       "      <td>not so motivated work today since not good thi...</td>\n",
       "    </tr>\n",
       "  </tbody>\n",
       "</table>\n",
       "</div>"
      ],
      "text/plain": [
       "                username                                               text  \\\n",
       "490715          oeaejung  @FlowGoTom Hey, I watched your clip. wanna say...   \n",
       "471789         javadimon  ÃÂ¡ÃÂ¸ÃÂ¶ÃÂ ÃÂ² ÃÂÃÂµÃÂ\n",
       "ÃÂ, ÃÂ½Ã...   \n",
       "143909             jstn7  Time to pick the dragon upÃ¯Â¼?I'm sure she'll...   \n",
       "1252403       Hanescymru  Cardiff 1989! There's lovely!  Ã¢ÂÂ« http://b...   \n",
       "1249804  edwinduinkerken  Not so motivated for work today. Since that is...   \n",
       "\n",
       "                                                lemmatized  \n",
       "490715   USERNAME hey i watched your clip wan na say tr...  \n",
       "471789   EMOJI EMOJI EMOJI EMOJI mt g3 EMOJI EMOJI 1mb ...  \n",
       "143909   time pick dragon up EMOJI im sure shell have p...  \n",
       "1252403                cardiff 1989 there lovely EMOJI URL  \n",
       "1249804  not so motivated work today since not good thi...  "
      ]
     },
     "execution_count": 19,
     "metadata": {},
     "output_type": "execute_result"
    }
   ],
   "source": [
    "# emojis\n",
    "df.iloc[emoji_ix[:5], ]"
   ]
  },
  {
   "cell_type": "code",
   "execution_count": 20,
   "metadata": {},
   "outputs": [
    {
     "data": {
      "text/plain": [
       "10856"
      ]
     },
     "execution_count": 20,
     "metadata": {},
     "output_type": "execute_result"
    }
   ],
   "source": [
    "len(emoji_ix) # could be better?"
   ]
  },
  {
   "cell_type": "markdown",
   "metadata": {},
   "source": [
    "### Impute NAs created during cleanup\n",
    "\n",
    "We do not want to drop since the fact they ended up as empty strings is possibly informative."
   ]
  },
  {
   "cell_type": "code",
   "execution_count": 21,
   "metadata": {},
   "outputs": [
    {
     "data": {
      "text/plain": [
       "username       0\n",
       "text           0\n",
       "lemmatized    10\n",
       "dtype: int64"
      ]
     },
     "execution_count": 21,
     "metadata": {},
     "output_type": "execute_result"
    }
   ],
   "source": [
    "df.isnull().sum()"
   ]
  },
  {
   "cell_type": "code",
   "execution_count": 24,
   "metadata": {},
   "outputs": [],
   "source": [
    "# Impute with NULL as a string?\n",
    "error_ix = []\n",
    "NULL_ix = []\n",
    "for i, tweet in enumerate(df['lemmatized'][:len(df)]):\n",
    "    try:\n",
    "        m = re.search(r'NULL', tweet)\n",
    "        if m:\n",
    "            NULL_ix.append(i)\n",
    "    except TypeError as e: \n",
    "        error_ix.append(i)"
   ]
  },
  {
   "cell_type": "code",
   "execution_count": 25,
   "metadata": {},
   "outputs": [
    {
     "data": {
      "text/html": [
       "<div>\n",
       "<style scoped>\n",
       "    .dataframe tbody tr th:only-of-type {\n",
       "        vertical-align: middle;\n",
       "    }\n",
       "\n",
       "    .dataframe tbody tr th {\n",
       "        vertical-align: top;\n",
       "    }\n",
       "\n",
       "    .dataframe thead th {\n",
       "        text-align: right;\n",
       "    }\n",
       "</style>\n",
       "<table border=\"1\" class=\"dataframe\">\n",
       "  <thead>\n",
       "    <tr style=\"text-align: right;\">\n",
       "      <th></th>\n",
       "      <th>username</th>\n",
       "      <th>text</th>\n",
       "      <th>lemmatized</th>\n",
       "    </tr>\n",
       "  </thead>\n",
       "  <tbody>\n",
       "  </tbody>\n",
       "</table>\n",
       "</div>"
      ],
      "text/plain": [
       "Empty DataFrame\n",
       "Columns: [username, text, lemmatized]\n",
       "Index: []"
      ]
     },
     "execution_count": 25,
     "metadata": {},
     "output_type": "execute_result"
    }
   ],
   "source": [
    "df.iloc[NULL_ix, ]"
   ]
  },
  {
   "cell_type": "code",
   "execution_count": 26,
   "metadata": {},
   "outputs": [],
   "source": [
    "NA_ix = df.loc[df['lemmatized'].isnull(), ].index\n",
    "df['lemmatized'].loc[list(NA_ix), ] = 'NULL'"
   ]
  },
  {
   "cell_type": "code",
   "execution_count": 27,
   "metadata": {},
   "outputs": [
    {
     "data": {
      "text/plain": [
       "username      0\n",
       "text          0\n",
       "lemmatized    0\n",
       "dtype: int64"
      ]
     },
     "execution_count": 27,
     "metadata": {},
     "output_type": "execute_result"
    }
   ],
   "source": [
    "# double check\n",
    "df.isnull().sum()"
   ]
  },
  {
   "cell_type": "code",
   "execution_count": 28,
   "metadata": {},
   "outputs": [],
   "source": [
    "error_ix = []\n",
    "NULL_ix = []\n",
    "for i, tweet in enumerate(df['lemmatized'][:len(df)]):\n",
    "    try:\n",
    "        m = re.search(r'NULL', tweet)\n",
    "        if m:\n",
    "            NULL_ix.append(i)\n",
    "    except TypeError as e: \n",
    "        error_ix.append(i)"
   ]
  },
  {
   "cell_type": "code",
   "execution_count": 29,
   "metadata": {},
   "outputs": [
    {
     "data": {
      "text/html": [
       "<div>\n",
       "<style scoped>\n",
       "    .dataframe tbody tr th:only-of-type {\n",
       "        vertical-align: middle;\n",
       "    }\n",
       "\n",
       "    .dataframe tbody tr th {\n",
       "        vertical-align: top;\n",
       "    }\n",
       "\n",
       "    .dataframe thead th {\n",
       "        text-align: right;\n",
       "    }\n",
       "</style>\n",
       "<table border=\"1\" class=\"dataframe\">\n",
       "  <thead>\n",
       "    <tr style=\"text-align: right;\">\n",
       "      <th></th>\n",
       "      <th>username</th>\n",
       "      <th>text</th>\n",
       "      <th>lemmatized</th>\n",
       "    </tr>\n",
       "  </thead>\n",
       "  <tbody>\n",
       "    <tr>\n",
       "      <th>1345707</th>\n",
       "      <td>ChickWithAName</td>\n",
       "      <td>. . . . . and it's on!</td>\n",
       "      <td>NULL</td>\n",
       "    </tr>\n",
       "    <tr>\n",
       "      <th>1384923</th>\n",
       "      <td>sangofsorrow</td>\n",
       "      <td>He is...</td>\n",
       "      <td>NULL</td>\n",
       "    </tr>\n",
       "    <tr>\n",
       "      <th>127147</th>\n",
       "      <td>LukeOgle</td>\n",
       "      <td>is in IT</td>\n",
       "      <td>NULL</td>\n",
       "    </tr>\n",
       "    <tr>\n",
       "      <th>332364</th>\n",
       "      <td>dianamra</td>\n",
       "      <td>and it was</td>\n",
       "      <td>NULL</td>\n",
       "    </tr>\n",
       "    <tr>\n",
       "      <th>1045989</th>\n",
       "      <td>Spacegirlspif13</td>\n",
       "      <td>Is...                                         ...</td>\n",
       "      <td>NULL</td>\n",
       "    </tr>\n",
       "    <tr>\n",
       "      <th>859506</th>\n",
       "      <td>WMonk</td>\n",
       "      <td>It will</td>\n",
       "      <td>NULL</td>\n",
       "    </tr>\n",
       "    <tr>\n",
       "      <th>229686</th>\n",
       "      <td>Jmoux</td>\n",
       "      <td>are on..</td>\n",
       "      <td>NULL</td>\n",
       "    </tr>\n",
       "    <tr>\n",
       "      <th>968236</th>\n",
       "      <td>SquarahFaggins</td>\n",
       "      <td>to it!!</td>\n",
       "      <td>NULL</td>\n",
       "    </tr>\n",
       "    <tr>\n",
       "      <th>1463690</th>\n",
       "      <td>geegeeludlow</td>\n",
       "      <td>is in IT</td>\n",
       "      <td>NULL</td>\n",
       "    </tr>\n",
       "    <tr>\n",
       "      <th>891561</th>\n",
       "      <td>rooroocachoo</td>\n",
       "      <td>It will</td>\n",
       "      <td>NULL</td>\n",
       "    </tr>\n",
       "  </tbody>\n",
       "</table>\n",
       "</div>"
      ],
      "text/plain": [
       "                username                                               text  \\\n",
       "1345707   ChickWithAName                            . . . . . and it's on!    \n",
       "1384923     sangofsorrow                                       He is...       \n",
       "127147          LukeOgle                                          is in IT    \n",
       "332364          dianamra                                        and it was    \n",
       "1045989  Spacegirlspif13  Is...                                         ...   \n",
       "859506             WMonk                                           It will    \n",
       "229686             Jmoux                                          are on..    \n",
       "968236    SquarahFaggins                                           to it!!    \n",
       "1463690     geegeeludlow                                          is in IT    \n",
       "891561      rooroocachoo                                           It will    \n",
       "\n",
       "        lemmatized  \n",
       "1345707       NULL  \n",
       "1384923       NULL  \n",
       "127147        NULL  \n",
       "332364        NULL  \n",
       "1045989       NULL  \n",
       "859506        NULL  \n",
       "229686        NULL  \n",
       "968236        NULL  \n",
       "1463690       NULL  \n",
       "891561        NULL  "
      ]
     },
     "execution_count": 29,
     "metadata": {},
     "output_type": "execute_result"
    }
   ],
   "source": [
    "df.iloc[NULL_ix, ]"
   ]
  },
  {
   "cell_type": "markdown",
   "metadata": {},
   "source": [
    "### Create BoW DFM"
   ]
  },
  {
   "cell_type": "code",
   "execution_count": 31,
   "metadata": {},
   "outputs": [],
   "source": [
    "# target\n",
    "# load target...... why?\n",
    "\n",
    "#y = np.array(df.iloc[:, 0]).ravel()"
   ]
  },
  {
   "cell_type": "code",
   "execution_count": 33,
   "metadata": {},
   "outputs": [],
   "source": [
    "# lemmatized column (as array)\n",
    "X_array = np.array(df.iloc[:, 2]).ravel()"
   ]
  },
  {
   "cell_type": "code",
   "execution_count": 34,
   "metadata": {},
   "outputs": [
    {
     "data": {
      "text/plain": [
       "array(['USERNAME least your phone didnt get stoled mine did',\n",
       "       'i shall leave school when i am done jammin kris allen i miss him so much 3',\n",
       "       'wish i bournemouth today hows looking down there dorset folk',\n",
       "       ...,\n",
       "       'USERNAME i mean USERNAME USERNAME never invite me 2 cicis USERNAME i when come back r gon na go do our own thang',\n",
       "       'im gutted im night i want some eye candy',\n",
       "       'mmmmm bedtime sound good today i found out i might have have down payment buy housewtf up'],\n",
       "      dtype=object)"
      ]
     },
     "execution_count": 34,
     "metadata": {},
     "output_type": "execute_result"
    }
   ],
   "source": [
    "X_array"
   ]
  },
  {
   "cell_type": "code",
   "execution_count": 35,
   "metadata": {},
   "outputs": [],
   "source": [
    "# # create a BoW DFM \n",
    "bow_vectorizer = CountVectorizer()\n",
    "\n",
    "start_bow = time.time()\n",
    "\n",
    "X_bow = bow_vectorizer.fit_transform(X_array)\n",
    "\n",
    "mins, secs = divmod(time.time() - start_bow, 60)\n",
    "print(f\"BoW vectorization time: {mins:0.0f} minute(s) and {secs:0.0f} second(s).\")"
   ]
  },
  {
   "cell_type": "code",
   "execution_count": 38,
   "metadata": {},
   "outputs": [
    {
     "data": {
      "text/plain": [
       "<1199999x329492 sparse matrix of type '<class 'numpy.int64'>'\n",
       "\twith 11446957 stored elements in Compressed Sparse Row format>"
      ]
     },
     "execution_count": 38,
     "metadata": {},
     "output_type": "execute_result"
    }
   ],
   "source": [
    "X_bow"
   ]
  },
  {
   "cell_type": "code",
   "execution_count": 40,
   "metadata": {},
   "outputs": [
    {
     "data": {
      "text/plain": [
       "matrix([[0, 0, 0, 0, 0, 0, 0, 0, 0, 0, 0, 0, 0, 0, 0, 0, 0, 0, 0, 0],\n",
       "        [0, 0, 0, 0, 0, 0, 0, 0, 0, 0, 0, 0, 0, 0, 0, 0, 0, 0, 0, 0],\n",
       "        [0, 0, 0, 0, 0, 0, 0, 0, 0, 0, 0, 0, 0, 0, 0, 0, 0, 0, 0, 0],\n",
       "        [0, 0, 0, 0, 0, 0, 0, 0, 0, 0, 0, 0, 0, 0, 0, 0, 0, 0, 0, 0],\n",
       "        [0, 0, 0, 0, 0, 0, 0, 0, 0, 0, 0, 0, 0, 0, 0, 0, 0, 0, 0, 0],\n",
       "        [0, 0, 0, 0, 0, 0, 0, 0, 0, 0, 0, 0, 0, 0, 0, 0, 0, 0, 0, 0],\n",
       "        [0, 0, 0, 0, 0, 0, 0, 0, 0, 0, 0, 0, 0, 0, 0, 0, 0, 0, 0, 0],\n",
       "        [0, 0, 0, 0, 0, 0, 0, 0, 0, 0, 0, 0, 0, 0, 0, 0, 0, 0, 0, 0],\n",
       "        [0, 0, 0, 0, 0, 0, 0, 0, 0, 0, 0, 0, 0, 0, 0, 0, 0, 0, 0, 0],\n",
       "        [0, 0, 0, 0, 0, 0, 0, 0, 0, 0, 0, 0, 0, 0, 0, 0, 0, 0, 0, 0]],\n",
       "       dtype=int64)"
      ]
     },
     "execution_count": 40,
     "metadata": {},
     "output_type": "execute_result"
    }
   ],
   "source": [
    "# visualize tiny portion, sparse indeed\n",
    "X_bow[0:10, 0:20].todense()"
   ]
  },
  {
   "cell_type": "code",
   "execution_count": null,
   "metadata": {},
   "outputs": [],
   "source": [
    "# use log(tf)? do this now? what about savind idfs for test set?\n",
    "# tfidf_vectorizer = TfidfVectorizer(sublinear_tf=True) "
   ]
  },
  {
   "cell_type": "markdown",
   "metadata": {},
   "source": [
    "### Save pre-processed DFMs"
   ]
  },
  {
   "cell_type": "code",
   "execution_count": 43,
   "metadata": {},
   "outputs": [
    {
     "data": {
      "text/plain": [
       "'..\\\\data\\\\3_processed\\\\sentiment140\\\\X_bow.npz'"
      ]
     },
     "execution_count": 43,
     "metadata": {},
     "output_type": "execute_result"
    }
   ],
   "source": [
    "savepath = os.path.join(\"..\",\"data\",\"3_processed\",\"sentiment140\")\n",
    "filename = 'X_bow'\n",
    "filepath = os.path.join(savepath, ''.join([filename, '.npz']))\n",
    "filepath"
   ]
  },
  {
   "cell_type": "code",
   "execution_count": 44,
   "metadata": {},
   "outputs": [],
   "source": [
    "sp.save_npz(filepath, X_bow)"
   ]
  },
  {
   "cell_type": "code",
   "execution_count": 45,
   "metadata": {},
   "outputs": [],
   "source": [
    "# save y target vector == we already have this!?\n",
    "#np.save(os.path.join(dirpath, 'y'), y)"
   ]
  },
  {
   "cell_type": "markdown",
   "metadata": {},
   "source": [
    "---"
   ]
  }
 ],
 "metadata": {
  "kernelspec": {
   "display_name": "Python 3",
   "language": "python",
   "name": "python3"
  },
  "language_info": {
   "codemirror_mode": {
    "name": "ipython",
    "version": 3
   },
   "file_extension": ".py",
   "mimetype": "text/x-python",
   "name": "python",
   "nbconvert_exporter": "python",
   "pygments_lexer": "ipython3",
   "version": "3.7.3"
  }
 },
 "nbformat": 4,
 "nbformat_minor": 4
}
