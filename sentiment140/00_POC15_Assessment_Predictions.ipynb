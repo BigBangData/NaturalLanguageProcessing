{
 "cells": [
  {
   "cell_type": "markdown",
   "metadata": {},
   "source": [
    "# Twitter Sentiment Analysis - POC\n",
    "---\n"
   ]
  },
  {
   "cell_type": "code",
   "execution_count": 1,
   "metadata": {},
   "outputs": [],
   "source": [
    "import re\n",
    "import os\n",
    "import time\n",
    "import json\n",
    "\n",
    "import numpy as np\n",
    "import pandas as pd\n",
    "import scipy.sparse as sp\n",
    "\n",
    "import cleanup_module_POC as Cmod\n",
    "\n",
    "from sklearn.pipeline import Pipeline\n",
    "from sklearn.naive_bayes import MultinomialNB\n",
    "from sklearn.linear_model import LogisticRegression\n",
    "from sklearn.model_selection import cross_val_score\n",
    "from sklearn.model_selection import train_test_split"
   ]
  },
  {
   "cell_type": "code",
   "execution_count": 2,
   "metadata": {},
   "outputs": [],
   "source": [
    "# time notebook\n",
    "start_notebook = time.time()\n",
    "\n",
    "# load minimally prepared X, y train subsets\n",
    "raw_path = os.path.join(\"..\",\"data\",\"1_raw\",\"sentiment140\")\n",
    "X_train = pd.read_csv(os.path.join(raw_path, \"X_train.csv\"))\n",
    "y_train = pd.read_csv(os.path.join(raw_path, \"y_train.csv\"))"
   ]
  },
  {
   "cell_type": "markdown",
   "metadata": {},
   "source": [
    "### Sample down to $m\\approx250k$"
   ]
  },
  {
   "cell_type": "code",
   "execution_count": 38,
   "metadata": {},
   "outputs": [],
   "source": [
    "X, X_rest, y, y_rest = train_test_split(X_train, y_train, test_size=0.9, random_state=42)"
   ]
  },
  {
   "cell_type": "code",
   "execution_count": 39,
   "metadata": {},
   "outputs": [
    {
     "name": "stdout",
     "output_type": "stream",
     "text": [
      "Dataset size: 119747\n",
      "Target distribution: 0.498\n"
     ]
    }
   ],
   "source": [
    "# check\n",
    "print(f'Dataset size: {len(X):0.0f}')\n",
    "print(f'Target distribution: {sum(y[\"target\"])/len(y):0.3f}')"
   ]
  },
  {
   "cell_type": "code",
   "execution_count": 40,
   "metadata": {},
   "outputs": [],
   "source": [
    "# transform into arrays\n",
    "X_array = np.array(X.iloc[:, 2]).ravel()\n",
    "y_array = y.iloc[:,0].ravel()"
   ]
  },
  {
   "cell_type": "code",
   "execution_count": 44,
   "metadata": {},
   "outputs": [
    {
     "name": "stdout",
     "output_type": "stream",
     "text": [
      "Preprocessing X_array...\n",
      "Preprocessing time: 1 minute(s) and 16 second(s).\n"
     ]
    }
   ],
   "source": [
    " proc_dir = os.path.join(\"..\",\"data\",\"3_processed\",\"sentiment140\")\n",
    "try:\n",
    "    # load X_train_transformed \n",
    "    X_train_transformed = sp.load_npz(os.path.join(proc_dir, \"X_train_transformed_BoW_120k_30k.npz\"))\n",
    "    print('Loading X_train_transformed...')\n",
    "except:\n",
    "    print('Preprocessing X_array...')\n",
    "    preprocess_pipeline = Pipeline([\n",
    "        (\"document_to_wordcount\", Cmod.DocumentToWordCounterTransformer()),\n",
    "        (\"wordcount_to_vector\", Cmod.WordCounterToVectorTransformer(vocabulary_size=30000)),\n",
    "    ])\n",
    "    start_pipeline = time.time()\n",
    "    X_train_transformed = preprocess_pipeline.fit_transform(X_array) \n",
    "    # save preprocessed data\n",
    "    sp.save_npz(os.path.join(proc_dir, 'X_train_transformed_BoW_120k_30k.npz'), X_train_transformed)\n",
    "    # print processing time\n",
    "    mins, secs = divmod(time.time() - start_pipeline, 60)\n",
    "    print(f'Preprocessing time: {mins:0.0f} minute(s) and {secs:0.0f} second(s).')\n",
    "    # Preprocessing time: 2 minute(s) and 41 second(s)."
   ]
  },
  {
   "cell_type": "code",
   "execution_count": 45,
   "metadata": {},
   "outputs": [
    {
     "data": {
      "text/plain": [
       "<119747x30001 sparse matrix of type '<class 'numpy.int32'>'\n",
       "\twith 1220493 stored elements in Compressed Sparse Row format>"
      ]
     },
     "execution_count": 45,
     "metadata": {},
     "output_type": "execute_result"
    }
   ],
   "source": [
    "X_train_transformed"
   ]
  },
  {
   "cell_type": "markdown",
   "metadata": {},
   "source": [
    "### Cross Validation "
   ]
  },
  {
   "cell_type": "code",
   "execution_count": 46,
   "metadata": {},
   "outputs": [],
   "source": [
    "NB_clf = MultinomialNB()\n",
    "log_clf = LogisticRegression(solver=\"liblinear\", random_state=42)"
   ]
  },
  {
   "cell_type": "code",
   "execution_count": 47,
   "metadata": {},
   "outputs": [
    {
     "name": "stdout",
     "output_type": "stream",
     "text": [
      "Accuracy: 0.7702 (+/- 0.0014)\n"
     ]
    }
   ],
   "source": [
    "score = cross_val_score(NB_clf, X_train_transformed, y_array, cv=5, verbose=0, scoring='accuracy')\n",
    "print(f'Accuracy: {round(score.mean(),4):0.4f} (+/- {np.std(score):0.4f})')"
   ]
  },
  {
   "cell_type": "code",
   "execution_count": 48,
   "metadata": {},
   "outputs": [
    {
     "name": "stdout",
     "output_type": "stream",
     "text": [
      "Accuracy: 0.7819 (+/- 0.0016)\n"
     ]
    }
   ],
   "source": [
    "score = cross_val_score(log_clf, X_train_transformed, y_array, cv=5, verbose=0, scoring='accuracy')\n",
    "print(f'Accuracy: {round(score.mean(),4):0.4f} (+/- {np.std(score):0.4f})')"
   ]
  },
  {
   "cell_type": "markdown",
   "metadata": {},
   "source": [
    "### Peek at some predictions"
   ]
  },
  {
   "cell_type": "code",
   "execution_count": 84,
   "metadata": {},
   "outputs": [],
   "source": [
    "new_array1 = np.array([\n",
    "                      \"loving this feeling amazing happy\",\n",
    "                      \"yay we're going bowling - so excited\",\n",
    "                      \"what a wonderful day!\",\n",
    "                       \"they can go to hell, idiots\",\n",
    "                      \"I hate you and I hate everyone\",\n",
    "                      \"what a poor excuse - sorry but they're terrible liars\"\n",
    "                      ])"
   ]
  },
  {
   "cell_type": "code",
   "execution_count": 85,
   "metadata": {},
   "outputs": [],
   "source": [
    "new_array2 = np.array([\n",
    "                       \"they can go to hell, idiots\",\n",
    "                      \"I hate you and I hate everyone\",\n",
    "                      \"what a poor excuse - sorry but they're terrible liars\",\n",
    "                      \"loving this feeling amazing happy\",\n",
    "                      \"yay we're going bowling - so excited\",\n",
    "                      \"what a wonderful day!\"\n",
    "                      ])"
   ]
  },
  {
   "cell_type": "code",
   "execution_count": 86,
   "metadata": {},
   "outputs": [],
   "source": [
    "narray1_transformed = preprocess_pipeline.fit_transform(new_array1)\n",
    "narray2_transformed = preprocess_pipeline.fit_transform(new_array2)"
   ]
  },
  {
   "cell_type": "code",
   "execution_count": 88,
   "metadata": {},
   "outputs": [
    {
     "data": {
      "text/plain": [
       "<6x30001 sparse matrix of type '<class 'numpy.int32'>'\n",
       "\twith 31 stored elements in Compressed Sparse Row format>"
      ]
     },
     "execution_count": 88,
     "metadata": {},
     "output_type": "execute_result"
    }
   ],
   "source": [
    "narray1_transformed"
   ]
  },
  {
   "cell_type": "code",
   "execution_count": 80,
   "metadata": {},
   "outputs": [
    {
     "data": {
      "text/plain": [
       "LogisticRegression(random_state=42, solver='liblinear')"
      ]
     },
     "execution_count": 80,
     "metadata": {},
     "output_type": "execute_result"
    }
   ],
   "source": [
    "log_clf = LogisticRegression(solver=\"liblinear\", random_state=42)\n",
    "log_clf.fit(X_train_transformed, y_array)"
   ]
  },
  {
   "cell_type": "code",
   "execution_count": 89,
   "metadata": {},
   "outputs": [
    {
     "data": {
      "text/plain": [
       "array([[0.70974634, 0.29025366],\n",
       "       [0.49105686, 0.50894314],\n",
       "       [0.53170177, 0.46829823],\n",
       "       [0.23791629, 0.76208371],\n",
       "       [0.42847116, 0.57152884],\n",
       "       [0.62319776, 0.37680224]])"
      ]
     },
     "execution_count": 89,
     "metadata": {},
     "output_type": "execute_result"
    }
   ],
   "source": [
    "log_clf.predict_proba(narray1_transformed)"
   ]
  },
  {
   "cell_type": "code",
   "execution_count": 90,
   "metadata": {},
   "outputs": [
    {
     "data": {
      "text/plain": [
       "array([0, 1, 0, 1, 1, 0], dtype=int64)"
      ]
     },
     "execution_count": 90,
     "metadata": {},
     "output_type": "execute_result"
    }
   ],
   "source": [
    "log_clf.predict(narray1_transformed)"
   ]
  },
  {
   "cell_type": "code",
   "execution_count": 91,
   "metadata": {},
   "outputs": [
    {
     "data": {
      "text/plain": [
       "array([[0.68408587, 0.31591413],\n",
       "       [0.33733676, 0.66266324],\n",
       "       [0.58661048, 0.41338952],\n",
       "       [0.33339196, 0.66660804],\n",
       "       [0.74986453, 0.25013547],\n",
       "       [0.30658423, 0.69341577]])"
      ]
     },
     "execution_count": 91,
     "metadata": {},
     "output_type": "execute_result"
    }
   ],
   "source": [
    "log_clf.predict_proba(narray2_transformed)"
   ]
  },
  {
   "cell_type": "code",
   "execution_count": 92,
   "metadata": {},
   "outputs": [
    {
     "data": {
      "text/plain": [
       "array([0, 1, 0, 1, 0, 1], dtype=int64)"
      ]
     },
     "execution_count": 92,
     "metadata": {},
     "output_type": "execute_result"
    }
   ],
   "source": [
    "log_clf.predict(narray2_transformed)"
   ]
  },
  {
   "cell_type": "markdown",
   "metadata": {},
   "source": [
    "---"
   ]
  }
 ],
 "metadata": {
  "kernelspec": {
   "display_name": "Python 3",
   "language": "python",
   "name": "python3"
  },
  "language_info": {
   "codemirror_mode": {
    "name": "ipython",
    "version": 3
   },
   "file_extension": ".py",
   "mimetype": "text/x-python",
   "name": "python",
   "nbconvert_exporter": "python",
   "pygments_lexer": "ipython3",
   "version": "3.7.3"
  }
 },
 "nbformat": 4,
 "nbformat_minor": 4
}
