{
 "cells": [
  {
   "cell_type": "markdown",
   "metadata": {},
   "source": [
    "##  TD - IDF Tutorial "
   ]
  },
  {
   "cell_type": "markdown",
   "metadata": {},
   "source": [
    "### Vectorizing \n",
    "\n",
    "We need to use some technique to convert text into numerical vectors that can be used for machine learning. \n",
    "\n",
    "\n",
    "**Bag Of Words**\n",
    "\n",
    "One of the simplest and most common ways to perform this conversion is called Bag Of Words (BoW) - it captures the frequency of terms in a corpus, regardlers of order. Example:"
   ]
  },
  {
   "cell_type": "code",
   "execution_count": 117,
   "metadata": {},
   "outputs": [
    {
     "data": {
      "text/html": [
       "<div>\n",
       "<style scoped>\n",
       "    .dataframe tbody tr th:only-of-type {\n",
       "        vertical-align: middle;\n",
       "    }\n",
       "\n",
       "    .dataframe tbody tr th {\n",
       "        vertical-align: top;\n",
       "    }\n",
       "\n",
       "    .dataframe thead th {\n",
       "        text-align: right;\n",
       "    }\n",
       "</style>\n",
       "<table border=\"1\" class=\"dataframe\">\n",
       "  <thead>\n",
       "    <tr style=\"text-align: right;\">\n",
       "      <th>vocabulary ---&gt;</th>\n",
       "      <th>all</th>\n",
       "      <th>are</th>\n",
       "      <th>bird</th>\n",
       "      <th>black</th>\n",
       "      <th>cage</th>\n",
       "      <th>crow</th>\n",
       "      <th>crows</th>\n",
       "      <th>in</th>\n",
       "      <th>is</th>\n",
       "      <th>my</th>\n",
       "      <th>the</th>\n",
       "    </tr>\n",
       "  </thead>\n",
       "  <tbody>\n",
       "    <tr>\n",
       "      <th>doc 1 vector</th>\n",
       "      <td>1</td>\n",
       "      <td>1</td>\n",
       "      <td>0</td>\n",
       "      <td>1</td>\n",
       "      <td>0</td>\n",
       "      <td>0</td>\n",
       "      <td>1</td>\n",
       "      <td>0</td>\n",
       "      <td>0</td>\n",
       "      <td>0</td>\n",
       "      <td>0</td>\n",
       "    </tr>\n",
       "    <tr>\n",
       "      <th>doc 2 vector</th>\n",
       "      <td>0</td>\n",
       "      <td>0</td>\n",
       "      <td>1</td>\n",
       "      <td>1</td>\n",
       "      <td>1</td>\n",
       "      <td>0</td>\n",
       "      <td>0</td>\n",
       "      <td>1</td>\n",
       "      <td>1</td>\n",
       "      <td>1</td>\n",
       "      <td>1</td>\n",
       "    </tr>\n",
       "    <tr>\n",
       "      <th>doc 3 vector</th>\n",
       "      <td>0</td>\n",
       "      <td>0</td>\n",
       "      <td>1</td>\n",
       "      <td>0</td>\n",
       "      <td>0</td>\n",
       "      <td>1</td>\n",
       "      <td>0</td>\n",
       "      <td>0</td>\n",
       "      <td>1</td>\n",
       "      <td>0</td>\n",
       "      <td>1</td>\n",
       "    </tr>\n",
       "  </tbody>\n",
       "</table>\n",
       "</div>"
      ],
      "text/plain": [
       "vocabulary --->  all  are  bird  black  cage  crow  crows  in  is  my  the\n",
       "doc 1 vector       1    1     0      1     0     0      1   0   0   0    0\n",
       "doc 2 vector       0    0     1      1     1     0      0   1   1   1    1\n",
       "doc 3 vector       0    0     1      0     0     1      0   0   1   0    1"
      ]
     },
     "execution_count": 117,
     "metadata": {},
     "output_type": "execute_result"
    }
   ],
   "source": [
    "from sklearn.feature_extraction.text import CountVectorizer\n",
    " \n",
    "corpus = ['All crows are black', \n",
    "          'The bird in my cage is black',\n",
    "          'The bird is a crow']\n",
    "\n",
    "vectorizer = CountVectorizer()\n",
    "X = vectorizer.fit_transform(corpus)\n",
    "\n",
    "df = pd.DataFrame()\n",
    "df['vocabulary --->'] = vectorizer.get_feature_names()\n",
    "df['doc 1 vector'] = X.toarray()[0]\n",
    "df['doc 2 vector'] = X.toarray()[1]\n",
    "df['doc 3 vector'] = X.toarray()[2]\n",
    "df.set_index('vocabulary --->', inplace=True)\n",
    "df.T"
   ]
  },
  {
   "cell_type": "markdown",
   "metadata": {},
   "source": [
    "**N-Grams**\n",
    "\n",
    "A slight and improved variant of BoW, N-Grams takes into account N consecutive terms and builds the same kind of BoW feature vector with bi-grams (if N=2), or tri-grams (if N=3), and so forth. Each N-gram constitute a feature, just like our unigrams (terms) in BoW. Example:"
   ]
  },
  {
   "cell_type": "code",
   "execution_count": 123,
   "metadata": {},
   "outputs": [],
   "source": [
    "from nltk import ngrams\n",
    "\n",
    "generators = []\n",
    "for doc in corpus:\n",
    "    generators.append(ngrams(doc.split(' '), n=2))\n",
    "\n",
    "bigram_corpus = []\n",
    "for generator in generators:\n",
    "    bigrams = []\n",
    "    for ix, val in enumerate(generator):\n",
    "        bigram = ''.join([val[0], val[1]])\n",
    "        bigrams.append(bigram)\n",
    "    \n",
    "    bigram_corpus.append(' '.join(bigrams))"
   ]
  },
  {
   "cell_type": "code",
   "execution_count": 124,
   "metadata": {},
   "outputs": [
    {
     "data": {
      "text/html": [
       "<div>\n",
       "<style scoped>\n",
       "    .dataframe tbody tr th:only-of-type {\n",
       "        vertical-align: middle;\n",
       "    }\n",
       "\n",
       "    .dataframe tbody tr th {\n",
       "        vertical-align: top;\n",
       "    }\n",
       "\n",
       "    .dataframe thead th {\n",
       "        text-align: right;\n",
       "    }\n",
       "</style>\n",
       "<table border=\"1\" class=\"dataframe\">\n",
       "  <thead>\n",
       "    <tr style=\"text-align: right;\">\n",
       "      <th>vocabulary ---&gt;</th>\n",
       "      <th>acrow</th>\n",
       "      <th>allcrows</th>\n",
       "      <th>areblack</th>\n",
       "      <th>birdin</th>\n",
       "      <th>birdis</th>\n",
       "      <th>cageis</th>\n",
       "      <th>crowsare</th>\n",
       "      <th>inmy</th>\n",
       "      <th>isa</th>\n",
       "      <th>isblack</th>\n",
       "      <th>mycage</th>\n",
       "      <th>thebird</th>\n",
       "    </tr>\n",
       "  </thead>\n",
       "  <tbody>\n",
       "    <tr>\n",
       "      <th>doc 1 vector</th>\n",
       "      <td>0</td>\n",
       "      <td>1</td>\n",
       "      <td>1</td>\n",
       "      <td>0</td>\n",
       "      <td>0</td>\n",
       "      <td>0</td>\n",
       "      <td>1</td>\n",
       "      <td>0</td>\n",
       "      <td>0</td>\n",
       "      <td>0</td>\n",
       "      <td>0</td>\n",
       "      <td>0</td>\n",
       "    </tr>\n",
       "    <tr>\n",
       "      <th>doc 2 vector</th>\n",
       "      <td>0</td>\n",
       "      <td>0</td>\n",
       "      <td>0</td>\n",
       "      <td>1</td>\n",
       "      <td>0</td>\n",
       "      <td>1</td>\n",
       "      <td>0</td>\n",
       "      <td>1</td>\n",
       "      <td>0</td>\n",
       "      <td>1</td>\n",
       "      <td>1</td>\n",
       "      <td>1</td>\n",
       "    </tr>\n",
       "    <tr>\n",
       "      <th>doc 3 vector</th>\n",
       "      <td>1</td>\n",
       "      <td>0</td>\n",
       "      <td>0</td>\n",
       "      <td>0</td>\n",
       "      <td>1</td>\n",
       "      <td>0</td>\n",
       "      <td>0</td>\n",
       "      <td>0</td>\n",
       "      <td>1</td>\n",
       "      <td>0</td>\n",
       "      <td>0</td>\n",
       "      <td>1</td>\n",
       "    </tr>\n",
       "  </tbody>\n",
       "</table>\n",
       "</div>"
      ],
      "text/plain": [
       "vocabulary --->  acrow  allcrows  areblack  birdin  birdis  cageis  crowsare  \\\n",
       "doc 1 vector         0         1         1       0       0       0         1   \n",
       "doc 2 vector         0         0         0       1       0       1         0   \n",
       "doc 3 vector         1         0         0       0       1       0         0   \n",
       "\n",
       "vocabulary --->  inmy  isa  isblack  mycage  thebird  \n",
       "doc 1 vector        0    0        0       0        0  \n",
       "doc 2 vector        1    0        1       1        1  \n",
       "doc 3 vector        0    1        0       0        1  "
      ]
     },
     "execution_count": 124,
     "metadata": {},
     "output_type": "execute_result"
    }
   ],
   "source": [
    "vectorizer = CountVectorizer()\n",
    "X = vectorizer.fit_transform(bigram_corpus)\n",
    "\n",
    "df = pd.DataFrame()\n",
    "df['vocabulary --->'] = vectorizer.get_feature_names()\n",
    "df['doc 1 vector'] = X.toarray()[0]\n",
    "df['doc 2 vector'] = X.toarray()[1]\n",
    "df['doc 3 vector'] = X.toarray()[2]\n",
    "df.set_index('vocabulary --->', inplace=True)\n",
    "df.T"
   ]
  },
  {
   "cell_type": "markdown",
   "metadata": {},
   "source": [
    "**TF-IDF** \n",
    "\n",
    "OVERVIEW\n",
    "\n",
    "Perhaps the most famous and useful text vectorization method is Term Frequency - Inverse Document Frequency. At a high level, TF IDF takes into account the importance of a term in a document and weighs it against its importance in the entire corpus.\n",
    "\n",
    "Here is the example with unigrams (TF-IDF could receive ngrams as inputs), compared to the BoW vectorizer:"
   ]
  },
  {
   "cell_type": "code",
   "execution_count": 126,
   "metadata": {},
   "outputs": [
    {
     "data": {
      "text/html": [
       "<div>\n",
       "<style scoped>\n",
       "    .dataframe tbody tr th:only-of-type {\n",
       "        vertical-align: middle;\n",
       "    }\n",
       "\n",
       "    .dataframe tbody tr th {\n",
       "        vertical-align: top;\n",
       "    }\n",
       "\n",
       "    .dataframe thead th {\n",
       "        text-align: right;\n",
       "    }\n",
       "</style>\n",
       "<table border=\"1\" class=\"dataframe\">\n",
       "  <thead>\n",
       "    <tr style=\"text-align: right;\">\n",
       "      <th>vocabulary ---&gt;</th>\n",
       "      <th>all</th>\n",
       "      <th>are</th>\n",
       "      <th>bird</th>\n",
       "      <th>black</th>\n",
       "      <th>cage</th>\n",
       "      <th>crow</th>\n",
       "      <th>crows</th>\n",
       "      <th>in</th>\n",
       "      <th>is</th>\n",
       "      <th>my</th>\n",
       "      <th>the</th>\n",
       "    </tr>\n",
       "  </thead>\n",
       "  <tbody>\n",
       "    <tr>\n",
       "      <th>doc 1 bow</th>\n",
       "      <td>1.000000</td>\n",
       "      <td>1.000000</td>\n",
       "      <td>0.000000</td>\n",
       "      <td>1.000000</td>\n",
       "      <td>0.000000</td>\n",
       "      <td>0.000000</td>\n",
       "      <td>1.000000</td>\n",
       "      <td>0.000000</td>\n",
       "      <td>0.000000</td>\n",
       "      <td>0.000000</td>\n",
       "      <td>0.000000</td>\n",
       "    </tr>\n",
       "    <tr>\n",
       "      <th>doc 2 bow</th>\n",
       "      <td>0.000000</td>\n",
       "      <td>0.000000</td>\n",
       "      <td>1.000000</td>\n",
       "      <td>1.000000</td>\n",
       "      <td>1.000000</td>\n",
       "      <td>0.000000</td>\n",
       "      <td>0.000000</td>\n",
       "      <td>1.000000</td>\n",
       "      <td>1.000000</td>\n",
       "      <td>1.000000</td>\n",
       "      <td>1.000000</td>\n",
       "    </tr>\n",
       "    <tr>\n",
       "      <th>doc 3 bow</th>\n",
       "      <td>0.000000</td>\n",
       "      <td>0.000000</td>\n",
       "      <td>1.000000</td>\n",
       "      <td>0.000000</td>\n",
       "      <td>0.000000</td>\n",
       "      <td>1.000000</td>\n",
       "      <td>0.000000</td>\n",
       "      <td>0.000000</td>\n",
       "      <td>1.000000</td>\n",
       "      <td>0.000000</td>\n",
       "      <td>1.000000</td>\n",
       "    </tr>\n",
       "    <tr>\n",
       "      <th>doc 1 tfidf</th>\n",
       "      <td>0.528635</td>\n",
       "      <td>0.528635</td>\n",
       "      <td>0.000000</td>\n",
       "      <td>0.402040</td>\n",
       "      <td>0.000000</td>\n",
       "      <td>0.000000</td>\n",
       "      <td>0.528635</td>\n",
       "      <td>0.000000</td>\n",
       "      <td>0.000000</td>\n",
       "      <td>0.000000</td>\n",
       "      <td>0.000000</td>\n",
       "    </tr>\n",
       "    <tr>\n",
       "      <th>doc 2 tfidf</th>\n",
       "      <td>0.000000</td>\n",
       "      <td>0.000000</td>\n",
       "      <td>0.329928</td>\n",
       "      <td>0.329928</td>\n",
       "      <td>0.433816</td>\n",
       "      <td>0.000000</td>\n",
       "      <td>0.000000</td>\n",
       "      <td>0.433816</td>\n",
       "      <td>0.329928</td>\n",
       "      <td>0.433816</td>\n",
       "      <td>0.329928</td>\n",
       "    </tr>\n",
       "    <tr>\n",
       "      <th>doc 3 tfidf</th>\n",
       "      <td>0.000000</td>\n",
       "      <td>0.000000</td>\n",
       "      <td>0.459854</td>\n",
       "      <td>0.000000</td>\n",
       "      <td>0.000000</td>\n",
       "      <td>0.604652</td>\n",
       "      <td>0.000000</td>\n",
       "      <td>0.000000</td>\n",
       "      <td>0.459854</td>\n",
       "      <td>0.000000</td>\n",
       "      <td>0.459854</td>\n",
       "    </tr>\n",
       "  </tbody>\n",
       "</table>\n",
       "</div>"
      ],
      "text/plain": [
       "vocabulary --->       all       are      bird     black      cage      crow  \\\n",
       "doc 1 bow        1.000000  1.000000  0.000000  1.000000  0.000000  0.000000   \n",
       "doc 2 bow        0.000000  0.000000  1.000000  1.000000  1.000000  0.000000   \n",
       "doc 3 bow        0.000000  0.000000  1.000000  0.000000  0.000000  1.000000   \n",
       "doc 1 tfidf      0.528635  0.528635  0.000000  0.402040  0.000000  0.000000   \n",
       "doc 2 tfidf      0.000000  0.000000  0.329928  0.329928  0.433816  0.000000   \n",
       "doc 3 tfidf      0.000000  0.000000  0.459854  0.000000  0.000000  0.604652   \n",
       "\n",
       "vocabulary --->     crows        in        is        my       the  \n",
       "doc 1 bow        1.000000  0.000000  0.000000  0.000000  0.000000  \n",
       "doc 2 bow        0.000000  1.000000  1.000000  1.000000  1.000000  \n",
       "doc 3 bow        0.000000  0.000000  1.000000  0.000000  1.000000  \n",
       "doc 1 tfidf      0.528635  0.000000  0.000000  0.000000  0.000000  \n",
       "doc 2 tfidf      0.000000  0.433816  0.329928  0.433816  0.329928  \n",
       "doc 3 tfidf      0.000000  0.000000  0.459854  0.000000  0.459854  "
      ]
     },
     "execution_count": 126,
     "metadata": {},
     "output_type": "execute_result"
    }
   ],
   "source": [
    "from sklearn.feature_extraction.text import TfidfVectorizer\n",
    "\n",
    "bow_vectorizer = CountVectorizer()\n",
    "tfidf_vectorizer = TfidfVectorizer()\n",
    "\n",
    "bow_vec = bow_vectorizer.fit_transform(corpus)\n",
    "tfidf_vec = tfidf_vectorizer.fit_transform(corpus)\n",
    "\n",
    "df = pd.DataFrame()\n",
    "df['vocabulary --->'] = bow_vectorizer.get_feature_names()\n",
    "df['doc 1 bow'] = bow_vec.toarray()[0]\n",
    "df['doc 2 bow'] = bow_vec.toarray()[1]\n",
    "df['doc 3 bow'] = bow_vec.toarray()[2]\n",
    "df['doc 1 tfidf'] = tfidf_vec.toarray()[0]\n",
    "df['doc 2 tfidf'] = tfidf_vec.toarray()[1]\n",
    "df['doc 3 tfidf'] = tfidf_vec.toarray()[2]\n",
    "df.set_index('vocabulary --->', inplace=True)\n",
    "df.T"
   ]
  },
  {
   "cell_type": "markdown",
   "metadata": {},
   "source": [
    "DETAILS\n",
    "\n",
    "When the `fit()` method is called, it creates a dictionary that stores each term in the corpus and its assigned feature index. This dictionary is the vectorizer's `.vocabulary_`.\n",
    "\n"
   ]
  },
  {
   "cell_type": "code",
   "execution_count": 127,
   "metadata": {},
   "outputs": [
    {
     "data": {
      "text/plain": [
       "{'all': 0,\n",
       " 'crows': 6,\n",
       " 'are': 1,\n",
       " 'black': 3,\n",
       " 'the': 10,\n",
       " 'bird': 2,\n",
       " 'in': 7,\n",
       " 'my': 9,\n",
       " 'cage': 4,\n",
       " 'is': 8,\n",
       " 'crow': 5}"
      ]
     },
     "execution_count": 127,
     "metadata": {},
     "output_type": "execute_result"
    }
   ],
   "source": [
    "vectorizer.vocabulary_"
   ]
  },
  {
   "cell_type": "markdown",
   "metadata": {},
   "source": [
    "As opposed to `Countvectorizer`, `TfidfVectorizer` doesn't simply one-hot encode each of these terms as features in a sparse matrix; rather, it assigns **weights** based on a simple multiplication: $TF * IDF$, which balances the trade-off between the document-wide and corpus-wide representations of terms. \n",
    "\n",
    "**Term Frequency (TF)**\n",
    "\n",
    "The count of a term in a document.\n",
    "\n",
    "If the word is common (like \"the\") it appears with high frequency. From [Zipf's law](https://en.wikipedia.org/wiki/Zipf's_law) we learn that very frequent terms are uninformative in linguistics, these so-called \"stop words\" are often filtered out. Ideally, we'd like to decrease the weight assigned to these frequent terms.\n",
    "\n",
    "One problem with implementing TF alone is that rare words in a document may be uninformative in the context of entire corpus, so we want to balance the weight assigned to them in a document with another weight assigned via their frequency in all the documents (the corpus).\n",
    "\n",
    "\n",
    "**Inverse Document Frequency (IDF)**\n",
    "\n",
    "The IDF term is calculated thus:\n",
    "\n",
    "- use math notation for: log of {number of docs in your corpus divided by the number of docs in which this term appears}."
   ]
  },
  {
   "cell_type": "code",
   "execution_count": null,
   "metadata": {},
   "outputs": [],
   "source": []
  },
  {
   "cell_type": "code",
   "execution_count": null,
   "metadata": {},
   "outputs": [],
   "source": []
  },
  {
   "cell_type": "code",
   "execution_count": null,
   "metadata": {},
   "outputs": [],
   "source": []
  },
  {
   "cell_type": "code",
   "execution_count": null,
   "metadata": {},
   "outputs": [],
   "source": []
  },
  {
   "cell_type": "code",
   "execution_count": null,
   "metadata": {},
   "outputs": [],
   "source": []
  },
  {
   "cell_type": "code",
   "execution_count": null,
   "metadata": {},
   "outputs": [],
   "source": []
  },
  {
   "cell_type": "code",
   "execution_count": null,
   "metadata": {},
   "outputs": [],
   "source": []
  },
  {
   "cell_type": "code",
   "execution_count": 128,
   "metadata": {},
   "outputs": [],
   "source": [
    "## Maybe use below for something else?"
   ]
  },
  {
   "cell_type": "markdown",
   "metadata": {},
   "source": [
    "#### Random Sample\n",
    "\n",
    "For the tutorial we'll use a random sample the 1.6M dataset."
   ]
  },
  {
   "cell_type": "code",
   "execution_count": 81,
   "metadata": {},
   "outputs": [],
   "source": [
    "def random_sample(df):\n",
    "    \"\"\"\n",
    "    Sample 1% without replacement.\n",
    "    \"\"\"\n",
    "    ix = random.sample_without_replacement(n_population=len(df),\n",
    "                                           n_samples=round(len(df)/100),\n",
    "                                           random_state=42)\n",
    "    out = df.loc[ix, ]\n",
    "    return out"
   ]
  },
  {
   "cell_type": "code",
   "execution_count": 126,
   "metadata": {},
   "outputs": [
    {
     "data": {
      "text/html": [
       "<div>\n",
       "<style scoped>\n",
       "    .dataframe tbody tr th:only-of-type {\n",
       "        vertical-align: middle;\n",
       "    }\n",
       "\n",
       "    .dataframe tbody tr th {\n",
       "        vertical-align: top;\n",
       "    }\n",
       "\n",
       "    .dataframe thead th {\n",
       "        text-align: right;\n",
       "    }\n",
       "</style>\n",
       "<table border=\"1\" class=\"dataframe\">\n",
       "  <thead>\n",
       "    <tr style=\"text-align: right;\">\n",
       "      <th></th>\n",
       "      <th>text</th>\n",
       "    </tr>\n",
       "    <tr>\n",
       "      <th>target</th>\n",
       "      <th></th>\n",
       "    </tr>\n",
       "  </thead>\n",
       "  <tbody>\n",
       "    <tr>\n",
       "      <th>0</th>\n",
       "      <td>7983</td>\n",
       "    </tr>\n",
       "    <tr>\n",
       "      <th>1</th>\n",
       "      <td>7979</td>\n",
       "    </tr>\n",
       "  </tbody>\n",
       "</table>\n",
       "</div>"
      ],
      "text/plain": [
       "        text\n",
       "target      \n",
       "0       7983\n",
       "1       7979"
      ]
     },
     "execution_count": 126,
     "metadata": {},
     "output_type": "execute_result"
    }
   ],
   "source": [
    "# ensure equal amounts\n",
    "\n",
    "# divide into negatives and positives\n",
    "df0 = dfm[dfm['target'] == 0].copy()\n",
    "df1 = dfm[dfm['target'] == 1].copy()\n",
    "df1.index = range(0, len(df1))\n",
    "\n",
    "# sample 1% from each and concatenate\n",
    "df0_sample = random_sample(df0)\n",
    "df1_sample = random_sample(df1)\n",
    "df_sample = pd.concat([df0_sample, df1_sample])\n",
    "df_sample.index = range(0, len(df_sample))\n",
    "\n",
    "# counts grouped by target\n",
    "df_sample.loc[:, ('target','text')].groupby(['target']).count()"
   ]
  },
  {
   "cell_type": "markdown",
   "metadata": {},
   "source": [
    "#### TF IDF vector"
   ]
  },
  {
   "cell_type": "code",
   "execution_count": 140,
   "metadata": {},
   "outputs": [],
   "source": [
    "# instantiate TF IDF vectorizer\n",
    "vectorizer = TfidfVectorizer(sublinear_tf=True)"
   ]
  },
  {
   "cell_type": "markdown",
   "metadata": {},
   "source": [
    "y is just an array with the target variable"
   ]
  },
  {
   "cell_type": "code",
   "execution_count": 127,
   "metadata": {},
   "outputs": [
    {
     "data": {
      "text/plain": [
       "array([0, 0, 0, ..., 1, 1, 1], dtype=int64)"
      ]
     },
     "execution_count": 127,
     "metadata": {},
     "output_type": "execute_result"
    }
   ],
   "source": [
    "y = np.array(df_sample.iloc[:, 0]).ravel()\n",
    "y"
   ]
  },
  {
   "cell_type": "code",
   "execution_count": 89,
   "metadata": {},
   "outputs": [],
   "source": [
    "# using tokenized feature \n",
    "X = vectorizer.fit_transform(np.array(df_sample.iloc[:, 2]).ravel())"
   ]
  },
  {
   "cell_type": "code",
   "execution_count": 128,
   "metadata": {},
   "outputs": [
    {
     "data": {
      "text/plain": [
       "(15962, 19580)"
      ]
     },
     "execution_count": 128,
     "metadata": {},
     "output_type": "execute_result"
    }
   ],
   "source": [
    "# converting to dense format so we can visualize data\n",
    "col = [i for i in vectorizer.get_feature_names()] \n",
    "temp = pd.DataFrame(X.todense(), columns=col) \n",
    "temp.shape"
   ]
  },
  {
   "cell_type": "code",
   "execution_count": null,
   "metadata": {},
   "outputs": [],
   "source": []
  },
  {
   "cell_type": "code",
   "execution_count": null,
   "metadata": {},
   "outputs": [],
   "source": []
  },
  {
   "cell_type": "code",
   "execution_count": null,
   "metadata": {},
   "outputs": [],
   "source": []
  },
  {
   "cell_type": "code",
   "execution_count": null,
   "metadata": {},
   "outputs": [],
   "source": []
  }
 ],
 "metadata": {
  "kernelspec": {
   "display_name": "Python 3",
   "language": "python",
   "name": "python3"
  },
  "language_info": {
   "codemirror_mode": {
    "name": "ipython",
    "version": 3
   },
   "file_extension": ".py",
   "mimetype": "text/x-python",
   "name": "python",
   "nbconvert_exporter": "python",
   "pygments_lexer": "ipython3",
   "version": "3.7.3"
  }
 },
 "nbformat": 4,
 "nbformat_minor": 4
}
