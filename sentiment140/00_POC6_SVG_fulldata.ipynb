{
 "cells": [
  {
   "cell_type": "markdown",
   "metadata": {},
   "source": [
    "# Twitter Sentiment Analysis - POC\n",
    "---\n",
    "\n",
    "## 7. SVG full dataset\n",
    "\n",
    "Explain..."
   ]
  },
  {
   "cell_type": "code",
   "execution_count": 1,
   "metadata": {},
   "outputs": [],
   "source": [
    "import re\n",
    "import os\n",
    "import time\n",
    "import json\n",
    "\n",
    "import numpy as np\n",
    "import pandas as pd\n",
    "import scipy.sparse as sp\n",
    "\n",
    "import cleanup_module_POC as Cmod\n",
    "\n",
    "from sklearn.pipeline import Pipeline\n",
    "from sklearn.pipeline import make_pipeline\n",
    "from sklearn.preprocessing import StandardScaler \n",
    "from sklearn.linear_model import SGDClassifier\n",
    "from sklearn.model_selection import cross_val_score\n",
    "from sklearn.model_selection import train_test_split"
   ]
  },
  {
   "cell_type": "code",
   "execution_count": 2,
   "metadata": {},
   "outputs": [],
   "source": [
    "# time notebook\n",
    "start_notebook = time.time()\n",
    "\n",
    "# load minimally prepared X, y train subsets\n",
    "raw_path = os.path.join(\"..\",\"data\",\"1_raw\",\"sentiment140\")\n",
    "X_train = pd.read_csv(os.path.join(raw_path, \"X_train.csv\"))\n",
    "y_train = pd.read_csv(os.path.join(raw_path, \"y_train.csv\"))"
   ]
  },
  {
   "cell_type": "code",
   "execution_count": 4,
   "metadata": {},
   "outputs": [],
   "source": [
    "# transform into arrays\n",
    "X_array = np.array(X_train.iloc[:, 2]).ravel()\n",
    "y_array = y_train.iloc[:,0].ravel()\n",
    "\n",
    "# save y array\n",
    "# processed dir\n",
    "proc_dir = os.path.join(\"..\",\"data\",\"3_processed\",\"sentiment140\")\n",
    "\n",
    "with open(os.path.join(proc_dir, \"y_array.npy\"), 'wb') as f:\n",
    "    np.save(f, y_array)"
   ]
  },
  {
   "cell_type": "code",
   "execution_count": 6,
   "metadata": {},
   "outputs": [
    {
     "data": {
      "text/plain": [
       "1197471"
      ]
     },
     "execution_count": 6,
     "metadata": {},
     "output_type": "execute_result"
    }
   ],
   "source": [
    "len(X_array)"
   ]
  },
  {
   "cell_type": "code",
   "execution_count": 7,
   "metadata": {},
   "outputs": [
    {
     "name": "stdout",
     "output_type": "stream",
     "text": [
      "Preprocessing X_array as BoW...\n",
      "Preprocessing time: 6 minute(s) and 17 second(s).\n"
     ]
    }
   ],
   "source": [
    "try:\n",
    "    # load X_train_transformed \n",
    "    X_train_transformed = sp.load_npz(os.path.join(proc_dir, \"X_train_transformed_BoW_1200k_50k.npz\"))\n",
    "    print('Loading X_train_transformed...')\n",
    "except:\n",
    "    print('Preprocessing X_array as BoW...')\n",
    "    preprocess_pipeline = Pipeline([\n",
    "        (\"document_to_wordcount\", Cmod.DocumentToWordCounterTransformer()),\n",
    "        (\"wordcount_to_vector\", Cmod.WordCounterToVectorTransformer(vocabulary_size=50000)), \n",
    "    ])\n",
    "    start_pipeline = time.time()\n",
    "    X_train_transformed = preprocess_pipeline.fit_transform(X_array)\n",
    "    # save preprocessed data\n",
    "    sp.save_npz(os.path.join(proc_dir, 'X_train_transformed_BoW_1200k_50k.npz'), X_train_transformed)\n",
    "    # print processing time\n",
    "    mins, secs = divmod(time.time() - start_pipeline, 60)\n",
    "    print(f'Preprocessing time: {mins:0.0f} minute(s) and {secs:0.0f} second(s).')\n",
    "    # Preprocessing time: 2 minute(s) and 42 second(s)."
   ]
  },
  {
   "cell_type": "code",
   "execution_count": 9,
   "metadata": {},
   "outputs": [
    {
     "data": {
      "text/plain": [
       "<1197471x50001 sparse matrix of type '<class 'numpy.int32'>'\n",
       "\twith 12223801 stored elements in Compressed Sparse Row format>"
      ]
     },
     "execution_count": 9,
     "metadata": {},
     "output_type": "execute_result"
    }
   ],
   "source": [
    "X_train_transformed"
   ]
  },
  {
   "cell_type": "code",
   "execution_count": 10,
   "metadata": {},
   "outputs": [],
   "source": [
    "SGD_clf_log = make_pipeline(\n",
    "                            StandardScaler(with_mean=False),\n",
    "                            SGDClassifier(max_iter=5000, # increased just in case\n",
    "                                          tol=1e-3, \n",
    "                                          loss='log', # Logistic Regression\n",
    "                                          warm_start=True,\n",
    "                                          random_state=42, \n",
    "                                          n_jobs=-1)\n",
    "                           )"
   ]
  },
  {
   "cell_type": "code",
   "execution_count": 12,
   "metadata": {},
   "outputs": [
    {
     "name": "stderr",
     "output_type": "stream",
     "text": [
      "[Parallel(n_jobs=1)]: Using backend SequentialBackend with 1 concurrent workers.\n"
     ]
    },
    {
     "name": "stdout",
     "output_type": "stream",
     "text": [
      "[CV]  ................................................................\n",
      "[CV] .................................... , score=0.772, total= 1.4min\n",
      "[CV]  ................................................................\n"
     ]
    },
    {
     "name": "stderr",
     "output_type": "stream",
     "text": [
      "[Parallel(n_jobs=1)]: Done   1 out of   1 | elapsed:  1.4min remaining:    0.0s\n"
     ]
    },
    {
     "name": "stdout",
     "output_type": "stream",
     "text": [
      "[CV] .................................... , score=0.772, total= 1.3min\n",
      "[CV]  ................................................................\n"
     ]
    },
    {
     "name": "stderr",
     "output_type": "stream",
     "text": [
      "[Parallel(n_jobs=1)]: Done   2 out of   2 | elapsed:  2.7min remaining:    0.0s\n"
     ]
    },
    {
     "name": "stdout",
     "output_type": "stream",
     "text": [
      "[CV] .................................... , score=0.774, total= 1.4min\n",
      "[CV]  ................................................................\n"
     ]
    },
    {
     "name": "stderr",
     "output_type": "stream",
     "text": [
      "[Parallel(n_jobs=1)]: Done   3 out of   3 | elapsed:  4.1min remaining:    0.0s\n"
     ]
    },
    {
     "name": "stdout",
     "output_type": "stream",
     "text": [
      "[CV] .................................... , score=0.769, total= 1.1min\n",
      "[CV]  ................................................................\n",
      "[CV] .................................... , score=0.769, total= 1.2min\n",
      "Mean accuracy: 0.770935579573944\n"
     ]
    },
    {
     "name": "stderr",
     "output_type": "stream",
     "text": [
      "[Parallel(n_jobs=1)]: Done   5 out of   5 | elapsed:  6.4min finished\n"
     ]
    }
   ],
   "source": [
    "score = cross_val_score(SGD_clf_log, X_train_transformed, y_array, cv=5, verbose=4, scoring='accuracy')\n",
    "print('Mean accuracy: ' + str(score.mean()))"
   ]
  },
  {
   "cell_type": "code",
   "execution_count": null,
   "metadata": {},
   "outputs": [],
   "source": []
  },
  {
   "cell_type": "code",
   "execution_count": null,
   "metadata": {},
   "outputs": [],
   "source": []
  },
  {
   "cell_type": "code",
   "execution_count": null,
   "metadata": {},
   "outputs": [],
   "source": []
  },
  {
   "cell_type": "code",
   "execution_count": 13,
   "metadata": {},
   "outputs": [],
   "source": [
    "from sklearn.metrics import accuracy_score\n",
    "import matplotlib.pyplot as plt\n",
    "\n",
    "def plot_learning_curves_feed_m(model, X, y, Xname):\n",
    "    \"\"\"Plot the learning curves for train and validation sets\n",
    "       , by adding more rows (m) and keeping the number of \n",
    "       features (n) constant.\n",
    "       Args:\n",
    "           model: a classifier\n",
    "           X: sparce matrix of features\n",
    "           y: target vector\n",
    "           Xname: vectorization method\n",
    "       Evaluates accuracy (TODO: implement other metrics)\n",
    "    \"\"\"\n",
    "    X_train, X_valid, y_train, y_valid = train_test_split(X, y, \n",
    "                                                          test_size=0.2, \n",
    "                                                          random_state=42)\n",
    "    # train\n",
    "    # change data granularity (denominator) for more data points\n",
    "    data_granularity = int(X_train.shape[0]/10)\n",
    "    \n",
    "    xs, train_acc, valid_acc = [], [], []\n",
    "\n",
    "    for m in range(10, X_train.shape[0], data_granularity):       \n",
    "        model.fit(X_train[:m], y_train[:m])\n",
    "        y_train_predict = model.predict(X_train[:m])\n",
    "        y_valid_predict = model.predict(X_valid)\n",
    "        train_acc.append(accuracy_score(y_train[:m], y_train_predict))\n",
    "        valid_acc.append(accuracy_score(y_valid, y_valid_predict))\n",
    "        xs.append(str(m-1))\n",
    "\n",
    "    fig = plt.figure(figsize=(12, 6))\n",
    "    ax = fig.add_axes([0.0, \n",
    "                       # dynamically calculate number of x ticks\n",
    "                       round(X_train.shape[0]/data_granularity, 0), \n",
    "                       0.4, 0.8])\n",
    "    plt.plot(xs, np.sqrt(train_acc), 'r--', linewidth=.8, \n",
    "             label=\"train accuracy\")\n",
    "    plt.plot(xs, np.sqrt(valid_acc), 'b--', linewidth=.8, \n",
    "             label=\"validation accuracy\")\n",
    "    plt.xticks(rotation=45)\n",
    "    plt.title(''.join([\"Learning Rates for Training and Validation - \", \n",
    "                       Xname]), \n",
    "              fontsize=16)\n",
    "    plt.legend(loc=\"lower right\", fontsize=14)\n",
    "    plt.xlabel(\"Training Set Size\", fontsize=14)\n",
    "    plt.ylabel(\"Accuracy\", fontsize=14)\n",
    "    plt.show()"
   ]
  },
  {
   "cell_type": "code",
   "execution_count": 14,
   "metadata": {},
   "outputs": [
    {
     "data": {
      "image/png": "[encoded data removed]",
      "text/plain": [
       "<Figure size 864x432 with 1 Axes>"
      ]
     },
     "metadata": {
      "needs_background": "light"
     },
     "output_type": "display_data"
    }
   ],
   "source": [
    "plot_learning_curves_feed_m(SGD_clf_log, X_train_transformed, y_array, \n",
    "                           'SGD_log, BoW, m=1.2M')"
   ]
  },
  {
   "cell_type": "markdown",
   "metadata": {},
   "source": [
    "Interesting, as opposed to the simpler models, SGD actually seems to be on a path to improving classification and we should actually train it on the full $1.2M$ training dataset to see how far we can take this unigram BoW representation."
   ]
  },
  {
   "cell_type": "code",
   "execution_count": null,
   "metadata": {},
   "outputs": [],
   "source": []
  },
  {
   "cell_type": "code",
   "execution_count": null,
   "metadata": {},
   "outputs": [],
   "source": []
  },
  {
   "cell_type": "code",
   "execution_count": null,
   "metadata": {},
   "outputs": [],
   "source": []
  },
  {
   "cell_type": "code",
   "execution_count": null,
   "metadata": {},
   "outputs": [],
   "source": []
  },
  {
   "cell_type": "code",
   "execution_count": null,
   "metadata": {},
   "outputs": [],
   "source": []
  },
  {
   "cell_type": "code",
   "execution_count": null,
   "metadata": {},
   "outputs": [],
   "source": []
  },
  {
   "cell_type": "markdown",
   "metadata": {},
   "source": [
    "### Cross Validation "
   ]
  },
  {
   "cell_type": "code",
   "execution_count": 8,
   "metadata": {},
   "outputs": [],
   "source": [
    "#score = cross_val_score(NB_clf, X_train_transformed, y_array, cv=5, verbose=3, scoring='accuracy')\n",
    "#print('Mean accuracy: ' + str(score.mean()))"
   ]
  },
  {
   "cell_type": "markdown",
   "metadata": {},
   "source": [
    "### Peek at some predictions"
   ]
  },
  {
   "cell_type": "code",
   "execution_count": 12,
   "metadata": {},
   "outputs": [],
   "source": [
    "#NB_clf.fit(X_train_transformed, y_array)"
   ]
  },
  {
   "cell_type": "markdown",
   "metadata": {},
   "source": [
    "**Misclassified**"
   ]
  },
  {
   "cell_type": "code",
   "execution_count": 9,
   "metadata": {},
   "outputs": [],
   "source": [
    "# print misclassifications in first 100 \n",
    "# y_actual, y_pred, tweet\n",
    "#misclassified = []\n",
    "#for i,v in enumerate(NB_clf.predict(X_train_transformed[:100])):\n",
    "#    if v != y_array[:100][i]:\n",
    "#        print(y_array[:100][i], v, X_array[:100][i])\n",
    "#        misclassified.append(i)"
   ]
  },
  {
   "cell_type": "code",
   "execution_count": 10,
   "metadata": {},
   "outputs": [],
   "source": [
    "#accuracy = 1 - len(misclassified)/100\n",
    "#print(f'Accuracy in first 100 rows = {accuracy}')"
   ]
  },
  {
   "cell_type": "markdown",
   "metadata": {},
   "source": [
    "These do seem ambiguous at times, looking at some correctly classified examples.\n",
    "\n",
    "**Correctly classified**"
   ]
  },
  {
   "cell_type": "code",
   "execution_count": 11,
   "metadata": {},
   "outputs": [],
   "source": [
    "#for i,v in enumerate(NB_clf.predict(X_train_transformed[:100])):\n",
    "#    if v == y_array[:100][i] and i < 20:\n",
    "#        print(y_array[:100][i], v, X_array[:100][i])"
   ]
  },
  {
   "cell_type": "markdown",
   "metadata": {},
   "source": [
    "And those do seem like more clearcut cases."
   ]
  },
  {
   "cell_type": "code",
   "execution_count": 24,
   "metadata": {},
   "outputs": [
    {
     "name": "stdout",
     "output_type": "stream",
     "text": [
      "Total running time: 2 minute(s) and 16 second(s).\n"
     ]
    }
   ],
   "source": [
    "# time notebook\n",
    "mins, secs = divmod(time.time() - start_notebook, 60)\n",
    "print(f'Total running time: {mins:0.0f} minute(s) and {secs:0.0f} second(s).')"
   ]
  },
  {
   "cell_type": "markdown",
   "metadata": {},
   "source": [
    "---"
   ]
  }
 ],
 "metadata": {
  "kernelspec": {
   "display_name": "Python 3",
   "language": "python",
   "name": "python3"
  },
  "language_info": {
   "codemirror_mode": {
    "name": "ipython",
    "version": 3
   },
   "file_extension": ".py",
   "mimetype": "text/x-python",
   "name": "python",
   "nbconvert_exporter": "python",
   "pygments_lexer": "ipython3",
   "version": "3.7.3"
  }
 },
 "nbformat": 4,
 "nbformat_minor": 4
}
