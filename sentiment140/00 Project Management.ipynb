{
 "cells": [
  {
   "cell_type": "markdown",
   "metadata": {},
   "source": [
    "## Determining Next Steps\n",
    "\n",
    "Current POC\n",
    "\n",
    "- TextBlob: revealed issues with predictions, they are less accurate for the sentiment140 data, however, testing some very clear new cases showed TextBlob to be a lot more stable and reliable than the classifiers trained with the data. \n",
    "- Test the POC process so far with the twitterbot data\n",
    "\n",
    "Next POCs\n",
    "\n",
    "- Bag-of-Ngrams\n",
    "- LSA+SVD\n",
    "- redo some of the best models so far\n",
    "- try boosting, SVC, and ensembles\n",
    "- in parallel: verify accuracy and MCC are similar eval metrics\n",
    "- do feature engineering and selection\n",
    "- rerun best models and stop\n",
    "- run with full data\n",
    "- run with twitterbot data\n",
    "\n",
    "\n",
    "Feature Engineering\n",
    "\n",
    "- TextLength, etc\n",
    "- CosineSimilarity \n",
    "- count of: punctuations, ascii chars, USERNAMEs, EMOJIs, URLs\n",
    "- tweet starts with USERNAME, or EMOJI, or URL, etc.\n",
    "- count of swear words, or negative words, or positive words, etc. (need lists)\n",
    "- semantic analysis research\n",
    "\n",
    "Feature Selection\n",
    "\n",
    "- Random Forest + VarImp plot \n",
    "- LASSO\n",
    "\n",
    "Direction\n",
    "\n",
    "- define goal and purpose.. what's the use case? App idea?\n",
    "- POC to full-blown: do not use full dataset unless it is warranted (learning curves)\n",
    "- multi-processing cleanup effort: verify whether developing a reproducible async method for cleanup is warranted; might be worth if iterating on representations and also for new twitterbot data\n",
    "- define evaluation metric better? If the goal is overall performance, the MCC (from sklearn.metrics import matthews_corrcoef) is probably preferred as it takes into account the entirety of the confusion matrix"
   ]
  },
  {
   "cell_type": "markdown",
   "metadata": {},
   "source": [
    "---"
   ]
  }
 ],
 "metadata": {
  "kernelspec": {
   "display_name": "Python 3",
   "language": "python",
   "name": "python3"
  },
  "language_info": {
   "codemirror_mode": {
    "name": "ipython",
    "version": 3
   },
   "file_extension": ".py",
   "mimetype": "text/x-python",
   "name": "python",
   "nbconvert_exporter": "python",
   "pygments_lexer": "ipython3",
   "version": "3.7.3"
  }
 },
 "nbformat": 4,
 "nbformat_minor": 4
}
