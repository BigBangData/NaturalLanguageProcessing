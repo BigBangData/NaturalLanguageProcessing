{
 "cells": [
  {
   "cell_type": "markdown",
   "metadata": {},
   "source": [
    "## Determining Next Steps\n",
    "\n",
    "#### Previous Status\n",
    "\n",
    "- TextBlob revealed issues with predictions:\n",
    "    * they are less accurate for the sentiment140 data\n",
    "    * testing some very clear new cases showed TextBlob to be a lot more stable\n",
    "    * *why are predictions unstable with the classifiers (NB, LR)?*\n",
    "        - hypothesis: too many variables\n",
    "        \n",
    "- Tested the POC process so far with the twitterbot data:\n",
    "    * so far accuracies are lowe\n",
    "    * this just introduces more complexity - stop\n",
    "    \n",
    "- Restructured sentiment140 to simplify process\n",
    "\n",
    "#### Current Status\n",
    "\n",
    "- Added bigrams:\n",
    "    * 80% accuracy: m=120k, n=50k, Tfidf, LR, 18s train time\n",
    "\n",
    "#### Next Steps\n",
    "\n",
    "- Perform LSA: 06_Cleanup_LSA_dev\n",
    "- Feature Engineering: add textlength, counts, consine similarity\n",
    "- Finalize cleanup pipeline, dev version and implementation\n",
    "- Start modeling again\n",
    "\n",
    "#### Possible Steps\n",
    "\n",
    "- Bag-of-Ngrams\n",
    "- LSA+SVD\n",
    "- Boosting\n",
    "- SVC\n",
    "- Ensembles\n",
    "- Use MCC, look at confusion matrix\n",
    "- feature engineering and selection\n",
    "\n",
    "\n",
    "#### Feature Engineering\n",
    "\n",
    "- TextLength, etc\n",
    "- CosineSimilarity \n",
    "- count of: punctuations, ascii chars, USERNAMEs, EMOJIs, URLs\n",
    "- tweet starts with USERNAME, or EMOJI, or URL, etc.\n",
    "- count of swear words, or negative words, or positive words, etc. (need lists)\n",
    "- semantic analysis research\n",
    "\n",
    "#### Feature Selection\n",
    "\n",
    "- Random Forest + VarImp plot \n",
    "- LASSO\n",
    "\n",
    "#### Thoughts\n",
    "\n",
    "- run with full data only as last resort\n",
    "- run with better data, whether curated dataset or other data\n",
    "\n",
    "#### Goal\n",
    "\n",
    "- what's the use case?\n",
    "    * Ex. app idea where user inputs text to get polarity, but TextBlob does that well already"
   ]
  },
  {
   "cell_type": "markdown",
   "metadata": {},
   "source": [
    "---"
   ]
  }
 ],
 "metadata": {
  "kernelspec": {
   "display_name": "Python 3",
   "language": "python",
   "name": "python3"
  },
  "language_info": {
   "codemirror_mode": {
    "name": "ipython",
    "version": 3
   },
   "file_extension": ".py",
   "mimetype": "text/x-python",
   "name": "python",
   "nbconvert_exporter": "python",
   "pygments_lexer": "ipython3",
   "version": "3.7.3"
  }
 },
 "nbformat": 4,
 "nbformat_minor": 4
}
