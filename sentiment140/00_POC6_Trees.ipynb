{
 "cells": [
  {
   "cell_type": "markdown",
   "metadata": {},
   "source": [
    "# Twitter Sentiment Analysis - POC\n",
    "---\n",
    "\n",
    "## 7. Quickly train various models\n",
    "\n",
    "**Current State**: I've trained three baseline models without much tweaking on BoW matrices and using cross validation got the following accuracy scores:\n",
    "\n",
    "- Logistic Regression: $78.8\\%$\n",
    "- Naive Bayes: $77.6\\%$ \n",
    "- SGD (log loss): $77.1\\%$ \n",
    "\n",
    "**Next Steps**: Train Single Decision Trees.\n"
   ]
  },
  {
   "cell_type": "code",
   "execution_count": 1,
   "metadata": {},
   "outputs": [],
   "source": [
    "import re\n",
    "import os\n",
    "import time\n",
    "import json\n",
    "\n",
    "import numpy as np\n",
    "import pandas as pd\n",
    "import scipy.sparse as sp\n",
    "\n",
    "from sklearn.tree import DecisionTreeClassifier \n",
    "from sklearn.model_selection import cross_val_score\n",
    "from sklearn.model_selection import train_test_split\n",
    "from sklearn.metrics import accuracy_score"
   ]
  },
  {
   "cell_type": "markdown",
   "metadata": {},
   "source": [
    "### Load $m\\approx250k$, $n=50k$ training subset"
   ]
  },
  {
   "cell_type": "code",
   "execution_count": 2,
   "metadata": {},
   "outputs": [],
   "source": [
    "# time notebook\n",
    "start_notebook = time.time()\n",
    "\n",
    "# processed dir\n",
    "proc_dir = os.path.join(\"..\",\"data\",\"3_processed\",\"sentiment140\")\n",
    "X_train_transformed = sp.load_npz(os.path.join(proc_dir, \"X_train_transformed_BoW_250k_50k.npz\"))\n",
    "with open(os.path.join(proc_dir, \"y_array_250k.npy\"), 'rb') as f:\n",
    "    y_array = np.load(f)"
   ]
  },
  {
   "cell_type": "code",
   "execution_count": 3,
   "metadata": {},
   "outputs": [
    {
     "data": {
      "text/plain": [
       "(<251468x50001 sparse matrix of type '<class 'numpy.int32'>'\n",
       " \twith 2569112 stored elements in Compressed Sparse Row format>,\n",
       " 251468)"
      ]
     },
     "execution_count": 3,
     "metadata": {},
     "output_type": "execute_result"
    }
   ],
   "source": [
    "# sanity check\n",
    "X_train_transformed, len(y_array)"
   ]
  },
  {
   "cell_type": "markdown",
   "metadata": {},
   "source": [
    "### Decision Trees\n"
   ]
  },
  {
   "cell_type": "code",
   "execution_count": 4,
   "metadata": {},
   "outputs": [],
   "source": [
    "X_train, X_test, y_train, y_test = train_test_split(X_train_transformed, \n",
    "                                                    y_array, \n",
    "                                                    test_size=0.25, \n",
    "                                                    random_state=2)"
   ]
  },
  {
   "cell_type": "code",
   "execution_count": 5,
   "metadata": {},
   "outputs": [],
   "source": [
    "clf = DecisionTreeClassifier(criterion=\"gini\", max_depth=5, random_state=42)"
   ]
  },
  {
   "cell_type": "code",
   "execution_count": 6,
   "metadata": {},
   "outputs": [
    {
     "name": "stdout",
     "output_type": "stream",
     "text": [
      "Time: 0 mins and 14 secs\n"
     ]
    }
   ],
   "source": [
    "start_time = time.time()\n",
    "clf.fit(X_train, y_train)\n",
    "mins, secs = divmod(time.time() - start_time, 60)\n",
    "print(f'Time: {mins:0.0f} mins and {secs:0.0f} secs')"
   ]
  },
  {
   "cell_type": "code",
   "execution_count": 7,
   "metadata": {},
   "outputs": [],
   "source": [
    "y_pred = clf.predict(X_test)"
   ]
  },
  {
   "cell_type": "code",
   "execution_count": 8,
   "metadata": {},
   "outputs": [
    {
     "name": "stdout",
     "output_type": "stream",
     "text": [
      "Accuracy: 0.632\n"
     ]
    }
   ],
   "source": [
    "print(\"Accuracy:\", round(accuracy_score(y_test, y_pred), 4))"
   ]
  },
  {
   "cell_type": "code",
   "execution_count": 9,
   "metadata": {},
   "outputs": [
    {
     "name": "stdout",
     "output_type": "stream",
     "text": [
      "[CV]  ................................................................\n"
     ]
    },
    {
     "name": "stderr",
     "output_type": "stream",
     "text": [
      "[Parallel(n_jobs=1)]: Using backend SequentialBackend with 1 concurrent workers.\n"
     ]
    },
    {
     "name": "stdout",
     "output_type": "stream",
     "text": [
      "[CV] .................................... , score=0.631, total=   5.0s\n",
      "[CV]  ................................................................\n"
     ]
    },
    {
     "name": "stderr",
     "output_type": "stream",
     "text": [
      "[Parallel(n_jobs=1)]: Done   1 out of   1 | elapsed:    5.0s remaining:    0.0s\n"
     ]
    },
    {
     "name": "stdout",
     "output_type": "stream",
     "text": [
      "[CV] .................................... , score=0.633, total=   7.2s\n",
      "[CV]  ................................................................\n"
     ]
    },
    {
     "name": "stderr",
     "output_type": "stream",
     "text": [
      "[Parallel(n_jobs=1)]: Done   2 out of   2 | elapsed:   12.1s remaining:    0.0s\n"
     ]
    },
    {
     "name": "stdout",
     "output_type": "stream",
     "text": [
      "[CV] .................................... , score=0.632, total=   8.6s\n",
      "[CV]  ................................................................\n",
      "[CV] .................................... , score=0.632, total=   9.1s\n",
      "[CV]  ................................................................\n",
      "[CV] .................................... , score=0.629, total=   8.9s\n",
      "Accuracy: 0.63 (+/- 0.00)\n"
     ]
    },
    {
     "name": "stderr",
     "output_type": "stream",
     "text": [
      "[Parallel(n_jobs=1)]: Done   5 out of   5 | elapsed:   38.8s finished\n"
     ]
    }
   ],
   "source": [
    "# Cross validate with entire 250k rows\n",
    "scores = cross_val_score(clf, X_train_transformed, y_array, cv=5, verbose=3, scoring='accuracy')\n",
    "print(\"Accuracy: %0.2f (+/- %0.2f)\" % (scores.mean(), scores.std() * 2))"
   ]
  },
  {
   "cell_type": "markdown",
   "metadata": {},
   "source": [
    "### GridSearch\n",
    "\n",
    "This is just a tiny grid search for decision trees with a few different values for max depth."
   ]
  },
  {
   "cell_type": "code",
   "execution_count": 10,
   "metadata": {},
   "outputs": [
    {
     "name": "stdout",
     "output_type": "stream",
     "text": [
      "Gridsearch total time: 5 mins and 60 secs\n"
     ]
    }
   ],
   "source": [
    "start_time = time.time()\n",
    "\n",
    "depth, runtime, accuracy = [], [], []\n",
    "for i in range(10, 290, 40):\n",
    "    clf = DecisionTreeClassifier(criterion=\"gini\", max_depth=i, random_state=42)\n",
    "    depth.append(i)\n",
    "    \n",
    "    start_gridsearch = time.time()\n",
    "    clf.fit(X_train, y_train)\n",
    "    runtime.append(round(time.time() - start_time, 1))\n",
    "    \n",
    "    y_pred = clf.predict(X_test)\n",
    "    accuracy.append(round(accuracy_score(y_test, y_pred), 4))\n",
    "    \n",
    "mins, secs = divmod(time.time() - start_gridsearch, 60)\n",
    "print(f'Gridsearch total time: {mins:0.0f} mins and {secs:0.0f} secs')"
   ]
  },
  {
   "cell_type": "code",
   "execution_count": 11,
   "metadata": {},
   "outputs": [
    {
     "data": {
      "text/html": [
       "<div>\n",
       "<style scoped>\n",
       "    .dataframe tbody tr th:only-of-type {\n",
       "        vertical-align: middle;\n",
       "    }\n",
       "\n",
       "    .dataframe tbody tr th {\n",
       "        vertical-align: top;\n",
       "    }\n",
       "\n",
       "    .dataframe thead th {\n",
       "        text-align: right;\n",
       "    }\n",
       "</style>\n",
       "<table border=\"1\" class=\"dataframe\">\n",
       "  <thead>\n",
       "    <tr style=\"text-align: right;\">\n",
       "      <th></th>\n",
       "      <th>depth</th>\n",
       "      <th>runtime</th>\n",
       "      <th>accuracy</th>\n",
       "    </tr>\n",
       "  </thead>\n",
       "  <tbody>\n",
       "    <tr>\n",
       "      <th>0</th>\n",
       "      <td>10</td>\n",
       "      <td>18.1</td>\n",
       "      <td>0.6545</td>\n",
       "    </tr>\n",
       "    <tr>\n",
       "      <th>1</th>\n",
       "      <td>50</td>\n",
       "      <td>137.0</td>\n",
       "      <td>0.7018</td>\n",
       "    </tr>\n",
       "    <tr>\n",
       "      <th>2</th>\n",
       "      <td>90</td>\n",
       "      <td>336.8</td>\n",
       "      <td>0.7128</td>\n",
       "    </tr>\n",
       "    <tr>\n",
       "      <th>3</th>\n",
       "      <td>130</td>\n",
       "      <td>585.8</td>\n",
       "      <td>0.7158</td>\n",
       "    </tr>\n",
       "    <tr>\n",
       "      <th>4</th>\n",
       "      <td>170</td>\n",
       "      <td>862.5</td>\n",
       "      <td>0.7150</td>\n",
       "    </tr>\n",
       "    <tr>\n",
       "      <th>5</th>\n",
       "      <td>210</td>\n",
       "      <td>1204.3</td>\n",
       "      <td>0.7160</td>\n",
       "    </tr>\n",
       "    <tr>\n",
       "      <th>6</th>\n",
       "      <td>250</td>\n",
       "      <td>1564.0</td>\n",
       "      <td>0.7144</td>\n",
       "    </tr>\n",
       "  </tbody>\n",
       "</table>\n",
       "</div>"
      ],
      "text/plain": [
       "   depth  runtime  accuracy\n",
       "0     10     18.1    0.6545\n",
       "1     50    137.0    0.7018\n",
       "2     90    336.8    0.7128\n",
       "3    130    585.8    0.7158\n",
       "4    170    862.5    0.7150\n",
       "5    210   1204.3    0.7160\n",
       "6    250   1564.0    0.7144"
      ]
     },
     "execution_count": 11,
     "metadata": {},
     "output_type": "execute_result"
    }
   ],
   "source": [
    "df = pd.DataFrame(\n",
    "    {'depth': depth,\n",
    "     'runtime': runtime,\n",
    "     'accuracy': accuracy\n",
    "    })\n",
    "df"
   ]
  },
  {
   "cell_type": "code",
   "execution_count": 12,
   "metadata": {},
   "outputs": [],
   "source": [
    "from sklearn.metrics import accuracy_score\n",
    "import matplotlib.pyplot as plt\n",
    "\n",
    "def plot_learning_curves_feed_m(model, X, y, Xname):\n",
    "    \"\"\"Plot the learning curves for train and validation sets\n",
    "       , by adding more rows (m) and keeping the number of \n",
    "       features (n) constant.\n",
    "       Args:\n",
    "           model: a classifier\n",
    "           X: sparce matrix of features\n",
    "           y: target vector\n",
    "           Xname: vectorization method\n",
    "       Evaluates accuracy (TODO: implement other metrics)\n",
    "    \"\"\"\n",
    "    X_train, X_valid, y_train, y_valid = train_test_split(X, y, \n",
    "                                                          test_size=0.2, \n",
    "                                                          random_state=42)\n",
    "    # train\n",
    "    # change data granularity (denominator) for more/less data points\n",
    "    data_granularity = int(X_train.shape[0]/8)\n",
    "    xs, train_acc, valid_acc = [], [], []\n",
    "    for m in range(10, X_train.shape[0], data_granularity):       \n",
    "        model.fit(X_train[:m], y_train[:m])\n",
    "        y_train_predict = model.predict(X_train[:m])\n",
    "        y_valid_predict = model.predict(X_valid)\n",
    "        train_acc.append(accuracy_score(y_train[:m], y_train_predict))\n",
    "        valid_acc.append(accuracy_score(y_valid, y_valid_predict))\n",
    "        xs.append(str(m-1))\n",
    "\n",
    "    fig = plt.figure(figsize=(12, 6))\n",
    "    ax = fig.add_axes([0.0, \n",
    "                       # dynamically calculate number of x ticks\n",
    "                       round(X_train.shape[0]/data_granularity, 0), \n",
    "                       0.4, 0.8])\n",
    "    plt.plot(xs, np.sqrt(train_acc), 'r--', linewidth=.8, \n",
    "             label=\"train accuracy\")\n",
    "    plt.plot(xs, np.sqrt(valid_acc), 'b--', linewidth=.8, \n",
    "             label=\"validation accuracy\")\n",
    "    plt.xticks(rotation=45)\n",
    "    plt.title(''.join([\"Learning Rates for Training and Validation - \", \n",
    "                       Xname]), \n",
    "              fontsize=16)\n",
    "    plt.legend(loc=\"lower right\", fontsize=14)\n",
    "    plt.xlabel(\"Training Set Size\", fontsize=14)\n",
    "    plt.ylabel(\"Accuracy\", fontsize=14)\n",
    "    plt.show()"
   ]
  },
  {
   "cell_type": "code",
   "execution_count": 13,
   "metadata": {},
   "outputs": [
    {
     "data": {
      "image/png": "[encoded data removed]",
      "text/plain": [
       "<Figure size 864x432 with 1 Axes>"
      ]
     },
     "metadata": {
      "needs_background": "light"
     },
     "output_type": "display_data"
    }
   ],
   "source": [
    "tree_clf = DecisionTreeClassifier(criterion=\"gini\", max_depth=100, random_state=42)\n",
    "\n",
    "plot_learning_curves_feed_m(tree_clf, X_train_transformed, y_array, \n",
    "                           'Decision Tree, BoW, m,n=250k,50k depth=100')"
   ]
  },
  {
   "cell_type": "markdown",
   "metadata": {},
   "source": [
    "The model is overfitting the train set quite a lot, given the huge gap. A ton of data might help but the validation accuracy isn't necessarily increasing a lot.\n",
    "\n",
    "Another parameter we might consider tweaking a bit is `max_features`, since default is **None**, or `n_features`.\n",
    "\n",
    "[(source)](https://github.com/scikit-learn/scikit-learn/blob/0fb307bf3/sklearn/tree/_classes.py#L597)\n",
    "\n",
    "```\n",
    "class sklearn.tree.DecisionTreeClassifier(*, criterion='gini', splitter='best', max_depth=None, min_samples_split=2, min_samples_leaf=1, min_weight_fraction_leaf=0.0, max_features=None, random_state=None, max_leaf_nodes=None, min_impurity_decrease=0.0, min_impurity_split=None, class_weight=None, presort='deprecated', ccp_alpha=0.0\n",
    "\n",
    "    max_features : int, float or {\"auto\", \"sqrt\", \"log2\"}, default=None\n",
    "        The number of features to consider when looking for the best split:\n",
    "            - If int, then consider `max_features` features at each split.\n",
    "            - If float, then `max_features` is a fraction and\n",
    "              `int(max_features * n_features)` features are considered at each\n",
    "              split.\n",
    "            - If \"auto\", then `max_features=sqrt(n_features)`.\n",
    "            - If \"sqrt\", then `max_features=sqrt(n_features)`.\n",
    "            - If \"log2\", then `max_features=log2(n_features)`.\n",
    "            - If None, then `max_features=n_features`.\n",
    "\n",
    "```"
   ]
  },
  {
   "cell_type": "code",
   "execution_count": 14,
   "metadata": {},
   "outputs": [
    {
     "name": "stderr",
     "output_type": "stream",
     "text": [
      "[Parallel(n_jobs=1)]: Using backend SequentialBackend with 1 concurrent workers.\n"
     ]
    },
    {
     "name": "stdout",
     "output_type": "stream",
     "text": [
      "[CV]  ................................................................\n",
      "[CV] .................................... , score=0.697, total=  30.5s\n",
      "[CV]  ................................................................\n"
     ]
    },
    {
     "name": "stderr",
     "output_type": "stream",
     "text": [
      "[Parallel(n_jobs=1)]: Done   1 out of   1 | elapsed:   30.5s remaining:    0.0s\n"
     ]
    },
    {
     "name": "stdout",
     "output_type": "stream",
     "text": [
      "[CV] .................................... , score=0.701, total=  33.1s\n",
      "[CV]  ................................................................\n"
     ]
    },
    {
     "name": "stderr",
     "output_type": "stream",
     "text": [
      "[Parallel(n_jobs=1)]: Done   2 out of   2 | elapsed:  1.1min remaining:    0.0s\n"
     ]
    },
    {
     "name": "stdout",
     "output_type": "stream",
     "text": [
      "[CV] .................................... , score=0.687, total=  35.0s\n",
      "[CV]  ................................................................\n",
      "[CV] .................................... , score=0.693, total=  34.3s\n",
      "[CV]  ................................................................\n",
      "[CV] .................................... , score=0.696, total=  34.4s\n",
      "Accuracy: 0.69 (+/- 0.01)\n"
     ]
    },
    {
     "name": "stderr",
     "output_type": "stream",
     "text": [
      "[Parallel(n_jobs=1)]: Done   5 out of   5 | elapsed:  2.8min finished\n"
     ]
    }
   ],
   "source": [
    "# Cross validate with max features 1000\n",
    "tree_clf = DecisionTreeClassifier(criterion=\"gini\", max_depth=100, random_state=42, max_features=1000)\n",
    "\n",
    "scores = cross_val_score(tree_clf, X_train_transformed, y_array, cv=5, verbose=3, scoring='accuracy')\n",
    "print(\"Accuracy: %0.2f (+/- %0.2f)\" % (scores.mean(), scores.std() * 2))"
   ]
  },
  {
   "cell_type": "code",
   "execution_count": 15,
   "metadata": {},
   "outputs": [
    {
     "name": "stdout",
     "output_type": "stream",
     "text": [
      "[CV]  ................................................................\n"
     ]
    },
    {
     "name": "stderr",
     "output_type": "stream",
     "text": [
      "[Parallel(n_jobs=1)]: Using backend SequentialBackend with 1 concurrent workers.\n"
     ]
    },
    {
     "name": "stdout",
     "output_type": "stream",
     "text": [
      "[CV] .................................... , score=0.715, total= 7.6min\n",
      "[CV]  ................................................................\n"
     ]
    },
    {
     "name": "stderr",
     "output_type": "stream",
     "text": [
      "[Parallel(n_jobs=1)]: Done   1 out of   1 | elapsed:  7.6min remaining:    0.0s\n"
     ]
    },
    {
     "name": "stdout",
     "output_type": "stream",
     "text": [
      "[CV] .................................... , score=0.714, total= 6.7min\n",
      "[CV]  ................................................................\n"
     ]
    },
    {
     "name": "stderr",
     "output_type": "stream",
     "text": [
      "[Parallel(n_jobs=1)]: Done   2 out of   2 | elapsed: 14.4min remaining:    0.0s\n"
     ]
    },
    {
     "name": "stdout",
     "output_type": "stream",
     "text": [
      "[CV] .................................... , score=0.715, total= 7.4min\n",
      "[CV]  ................................................................\n",
      "[CV] .................................... , score=0.717, total= 7.7min\n",
      "[CV]  ................................................................\n",
      "[CV] .................................... , score=0.712, total= 7.2min\n",
      "Accuracy: 0.71 (+/- 0.00)\n"
     ]
    },
    {
     "name": "stderr",
     "output_type": "stream",
     "text": [
      "[Parallel(n_jobs=1)]: Done   5 out of   5 | elapsed: 36.7min finished\n"
     ]
    }
   ],
   "source": [
    "# Cross validate deep trees\n",
    "tree_clf = DecisionTreeClassifier(criterion=\"gini\", max_depth=1000, random_state=42)\n",
    "\n",
    "scores = cross_val_score(tree_clf, X_train_transformed, y_array, cv=5, verbose=3, scoring='accuracy')\n",
    "print(\"Accuracy: %0.2f (+/- %0.2f)\" % (scores.mean(), scores.std() * 2))"
   ]
  },
  {
   "cell_type": "code",
   "execution_count": 16,
   "metadata": {},
   "outputs": [
    {
     "data": {
      "image/png": "[encoded data removed]",
      "text/plain": [
       "<Figure size 864x432 with 1 Axes>"
      ]
     },
     "metadata": {
      "needs_background": "light"
     },
     "output_type": "display_data"
    }
   ],
   "source": [
    "tree_clf = DecisionTreeClassifier(criterion=\"gini\", max_depth=1000, max_features=5000, random_state=42)\n",
    "\n",
    "plot_learning_curves_feed_m(tree_clf, X_train_transformed, y_array,\n",
    "                           'Decision Tree, BoW, m,n=250k,50k depth=1000')"
   ]
  },
  {
   "cell_type": "markdown",
   "metadata": {},
   "source": [
    "This tree appears to not be learning. "
   ]
  },
  {
   "cell_type": "code",
   "execution_count": 17,
   "metadata": {},
   "outputs": [
    {
     "name": "stdout",
     "output_type": "stream",
     "text": [
      "Total running time: 83 minute(s) and 53 second(s).\n"
     ]
    }
   ],
   "source": [
    "# time notebook\n",
    "mins, secs = divmod(time.time() - start_notebook, 60)\n",
    "print(f'Total running time: {mins:0.0f} minute(s) and {secs:0.0f} second(s).')"
   ]
  },
  {
   "cell_type": "markdown",
   "metadata": {},
   "source": [
    "---"
   ]
  }
 ],
 "metadata": {
  "kernelspec": {
   "display_name": "Python 3",
   "language": "python",
   "name": "python3"
  },
  "language_info": {
   "codemirror_mode": {
    "name": "ipython",
    "version": 3
   },
   "file_extension": ".py",
   "mimetype": "text/x-python",
   "name": "python",
   "nbconvert_exporter": "python",
   "pygments_lexer": "ipython3",
   "version": "3.7.3"
  }
 },
 "nbformat": 4,
 "nbformat_minor": 4
}
