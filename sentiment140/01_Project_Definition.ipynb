{
 "cells": [
  {
   "cell_type": "markdown",
   "metadata": {},
   "source": [
    "# Twitter Sentiment Analysis\n",
    "\n",
    "\n",
    "## Project Structure\n",
    "\n",
    "1. set expectations and define the problem, including evaluation criteria\n",
    "2. preliminary and minimal EDA and pre-splitting cleanup\n",
    "3. split dataset into trainining and test subsets; set the test subset aside\n",
    "4. create a cleanup pipeline for the training data that can be re-applied to the test data\n",
    "    * a POC is done by sampling down the sentiment140 dataset\n",
    "5. create an ML pre-processing pipeline that can be re-applied as well\n",
    "6. train a couple baseline models to ensure process is smooth and pre-processing is dialed in\n",
    "7. using cross-validation, evaluate a variety models without hyperparameter tuning to establish some baselines\n",
    "8. short-list promising models for further hyperparemeter tuning\n",
    "9. iterate on any phase of the project as needed\n",
    "10. consider feature selection and feature engineering\n",
    "11. decide on a final cleanup and processing pipeline\n",
    "    * apply to the entire training subset\n",
    "12. settle on a final model\n",
    "    * cross-validate results using the entire training subset\n",
    "13. re-apply all cleanup and processing steps to the test set and evaluate final model - once\n",
    "14. create a final presentation of the solution for technical and non-technical audiences\n",
    "---"
   ]
  },
  {
   "cell_type": "markdown",
   "metadata": {},
   "source": [
    "## Project Definition"
   ]
  },
  {
   "cell_type": "markdown",
   "metadata": {},
   "source": [
    "First Goal:\n",
    "\n",
    "- learn NLP and machine learning\n",
    "- train classifiers to predict positive/negative sentiment of a Tweet using the sentiment140 data\n",
    "- compare with TextBlob sentiment polarity\n",
    "- evaluate models based on accuracy at first, then precision-recall, or MCC\n",
    "\n",
    "The application or an \"app idea\" is beyond the scope of the project - this could be any app that uses short text input from users and needs to, as part of its process, evaluate the \"sentiment\" of the text. An example would be Twitter users who download their Tweets for the last year and want to know how positive or negative their posts were, in a timeline for example, or as aggregate in comparison with a cohort of friends. Another example would be an app that tracks positive/negative sentiments around a topic, by using hashtags and whatnot, in conjunction with this sentiment evaluation.\n",
    "\n",
    "The scope of this project is to provide a model that most accurately predicts the sentiment of a Tweet - whether negative or positive, and does so within a reasonable amount of time, but not as fast as possible (not real time). The evaluation criteria of what constitutes \"success\" and \"most accurate prediction\" is TBD. I might use ROC/AUC curves and whatnot. Accuracy alone isn't enough without considering recall.\n",
    "\n",
    "---\n"
   ]
  }
 ],
 "metadata": {
  "kernelspec": {
   "display_name": "Python 3",
   "language": "python",
   "name": "python3"
  },
  "language_info": {
   "codemirror_mode": {
    "name": "ipython",
    "version": 3
   },
   "file_extension": ".py",
   "mimetype": "text/x-python",
   "name": "python",
   "nbconvert_exporter": "python",
   "pygments_lexer": "ipython3",
   "version": "3.7.3"
  }
 },
 "nbformat": 4,
 "nbformat_minor": 4
}
