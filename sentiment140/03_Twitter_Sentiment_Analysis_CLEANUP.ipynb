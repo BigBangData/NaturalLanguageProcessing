{
 "cells": [
  {
   "cell_type": "markdown",
   "metadata": {},
   "source": [
    "## Twitter Sentiment Analysis \n",
    "\n",
    "\n",
    "The data comes from Marios Michailidis' dataset hosted in [this Kaggle repository.](https://www.kaggle.com/kazanova/sentiment140/)\n",
    "It consists of 1.6 M rows evenly split into negative and positive Tweets. The labels were created automatically using emoticons - the specific steps of how this was accomplished have not been disclosed.\n",
    "For more information on *sentiment140* see their [API.](http://help.sentiment140.com/api)"
   ]
  },
  {
   "cell_type": "markdown",
   "metadata": {},
   "source": [
    "### Load data"
   ]
  },
  {
   "cell_type": "code",
   "execution_count": 1,
   "metadata": {},
   "outputs": [],
   "source": [
    "import os \n",
    "import numpy as np\n",
    "import pandas as pd \n",
    "\n",
    "# load raw dataset\n",
    "dir_path = os.path.join(\"..\",\"data\",\"1_raw\",\"sentiment140\")\n",
    "filename = \"training.1600000.processed.noemoticon.csv\"\n",
    "filepath = os.path.join(dir_path, filename)\n",
    "\n",
    "raw = pd.read_csv(filepath, encoding='latin-1', usecols=[0,1,4,5])\n",
    "raw.columns = [\"Polarity\",\"ID\",\"Username\",\"Text\"]"
   ]
  },
  {
   "cell_type": "markdown",
   "metadata": {},
   "source": [
    "### Preview data"
   ]
  },
  {
   "cell_type": "code",
   "execution_count": 2,
   "metadata": {},
   "outputs": [
    {
     "data": {
      "text/plain": [
       "(1599999, 4)"
      ]
     },
     "execution_count": 2,
     "metadata": {},
     "output_type": "execute_result"
    }
   ],
   "source": [
    "raw.shape"
   ]
  },
  {
   "cell_type": "code",
   "execution_count": 3,
   "metadata": {},
   "outputs": [
    {
     "data": {
      "text/html": [
       "<div>\n",
       "<style scoped>\n",
       "    .dataframe tbody tr th:only-of-type {\n",
       "        vertical-align: middle;\n",
       "    }\n",
       "\n",
       "    .dataframe tbody tr th {\n",
       "        vertical-align: top;\n",
       "    }\n",
       "\n",
       "    .dataframe thead th {\n",
       "        text-align: right;\n",
       "    }\n",
       "</style>\n",
       "<table border=\"1\" class=\"dataframe\">\n",
       "  <thead>\n",
       "    <tr style=\"text-align: right;\">\n",
       "      <th></th>\n",
       "      <th>Polarity</th>\n",
       "      <th>ID</th>\n",
       "      <th>Username</th>\n",
       "      <th>Text</th>\n",
       "    </tr>\n",
       "  </thead>\n",
       "  <tbody>\n",
       "    <tr>\n",
       "      <th>0</th>\n",
       "      <td>0</td>\n",
       "      <td>1467810672</td>\n",
       "      <td>scotthamilton</td>\n",
       "      <td>is upset that he can't update his Facebook by ...</td>\n",
       "    </tr>\n",
       "    <tr>\n",
       "      <th>1</th>\n",
       "      <td>0</td>\n",
       "      <td>1467810917</td>\n",
       "      <td>mattycus</td>\n",
       "      <td>@Kenichan I dived many times for the ball. Man...</td>\n",
       "    </tr>\n",
       "    <tr>\n",
       "      <th>2</th>\n",
       "      <td>0</td>\n",
       "      <td>1467811184</td>\n",
       "      <td>ElleCTF</td>\n",
       "      <td>my whole body feels itchy and like its on fire</td>\n",
       "    </tr>\n",
       "    <tr>\n",
       "      <th>3</th>\n",
       "      <td>0</td>\n",
       "      <td>1467811193</td>\n",
       "      <td>Karoli</td>\n",
       "      <td>@nationwideclass no, it's not behaving at all....</td>\n",
       "    </tr>\n",
       "    <tr>\n",
       "      <th>4</th>\n",
       "      <td>0</td>\n",
       "      <td>1467811372</td>\n",
       "      <td>joy_wolf</td>\n",
       "      <td>@Kwesidei not the whole crew</td>\n",
       "    </tr>\n",
       "  </tbody>\n",
       "</table>\n",
       "</div>"
      ],
      "text/plain": [
       "   Polarity          ID       Username  \\\n",
       "0         0  1467810672  scotthamilton   \n",
       "1         0  1467810917       mattycus   \n",
       "2         0  1467811184        ElleCTF   \n",
       "3         0  1467811193         Karoli   \n",
       "4         0  1467811372       joy_wolf   \n",
       "\n",
       "                                                Text  \n",
       "0  is upset that he can't update his Facebook by ...  \n",
       "1  @Kenichan I dived many times for the ball. Man...  \n",
       "2    my whole body feels itchy and like its on fire   \n",
       "3  @nationwideclass no, it's not behaving at all....  \n",
       "4                      @Kwesidei not the whole crew   "
      ]
     },
     "execution_count": 3,
     "metadata": {},
     "output_type": "execute_result"
    }
   ],
   "source": [
    "raw.head()"
   ]
  },
  {
   "cell_type": "code",
   "execution_count": 4,
   "metadata": {},
   "outputs": [],
   "source": [
    "X = raw.iloc[:, 1:4]\n",
    "y = raw.iloc[:, 0]"
   ]
  },
  {
   "cell_type": "code",
   "execution_count": 5,
   "metadata": {},
   "outputs": [
    {
     "data": {
      "text/html": [
       "<div>\n",
       "<style scoped>\n",
       "    .dataframe tbody tr th:only-of-type {\n",
       "        vertical-align: middle;\n",
       "    }\n",
       "\n",
       "    .dataframe tbody tr th {\n",
       "        vertical-align: top;\n",
       "    }\n",
       "\n",
       "    .dataframe thead th {\n",
       "        text-align: right;\n",
       "    }\n",
       "</style>\n",
       "<table border=\"1\" class=\"dataframe\">\n",
       "  <thead>\n",
       "    <tr style=\"text-align: right;\">\n",
       "      <th></th>\n",
       "      <th>ID</th>\n",
       "      <th>Username</th>\n",
       "      <th>Text</th>\n",
       "    </tr>\n",
       "  </thead>\n",
       "  <tbody>\n",
       "    <tr>\n",
       "      <th>0</th>\n",
       "      <td>1467810672</td>\n",
       "      <td>scotthamilton</td>\n",
       "      <td>is upset that he can't update his Facebook by ...</td>\n",
       "    </tr>\n",
       "    <tr>\n",
       "      <th>1</th>\n",
       "      <td>1467810917</td>\n",
       "      <td>mattycus</td>\n",
       "      <td>@Kenichan I dived many times for the ball. Man...</td>\n",
       "    </tr>\n",
       "    <tr>\n",
       "      <th>2</th>\n",
       "      <td>1467811184</td>\n",
       "      <td>ElleCTF</td>\n",
       "      <td>my whole body feels itchy and like its on fire</td>\n",
       "    </tr>\n",
       "    <tr>\n",
       "      <th>3</th>\n",
       "      <td>1467811193</td>\n",
       "      <td>Karoli</td>\n",
       "      <td>@nationwideclass no, it's not behaving at all....</td>\n",
       "    </tr>\n",
       "    <tr>\n",
       "      <th>4</th>\n",
       "      <td>1467811372</td>\n",
       "      <td>joy_wolf</td>\n",
       "      <td>@Kwesidei not the whole crew</td>\n",
       "    </tr>\n",
       "  </tbody>\n",
       "</table>\n",
       "</div>"
      ],
      "text/plain": [
       "           ID       Username  \\\n",
       "0  1467810672  scotthamilton   \n",
       "1  1467810917       mattycus   \n",
       "2  1467811184        ElleCTF   \n",
       "3  1467811193         Karoli   \n",
       "4  1467811372       joy_wolf   \n",
       "\n",
       "                                                Text  \n",
       "0  is upset that he can't update his Facebook by ...  \n",
       "1  @Kenichan I dived many times for the ball. Man...  \n",
       "2    my whole body feels itchy and like its on fire   \n",
       "3  @nationwideclass no, it's not behaving at all....  \n",
       "4                      @Kwesidei not the whole crew   "
      ]
     },
     "execution_count": 5,
     "metadata": {},
     "output_type": "execute_result"
    }
   ],
   "source": [
    "X.head()"
   ]
  },
  {
   "cell_type": "code",
   "execution_count": 6,
   "metadata": {},
   "outputs": [
    {
     "data": {
      "text/html": [
       "<div>\n",
       "<style scoped>\n",
       "    .dataframe tbody tr th:only-of-type {\n",
       "        vertical-align: middle;\n",
       "    }\n",
       "\n",
       "    .dataframe tbody tr th {\n",
       "        vertical-align: top;\n",
       "    }\n",
       "\n",
       "    .dataframe thead th {\n",
       "        text-align: right;\n",
       "    }\n",
       "</style>\n",
       "<table border=\"1\" class=\"dataframe\">\n",
       "  <thead>\n",
       "    <tr style=\"text-align: right;\">\n",
       "      <th></th>\n",
       "      <th>target</th>\n",
       "    </tr>\n",
       "  </thead>\n",
       "  <tbody>\n",
       "    <tr>\n",
       "      <th>1599994</th>\n",
       "      <td>1</td>\n",
       "    </tr>\n",
       "    <tr>\n",
       "      <th>1599995</th>\n",
       "      <td>1</td>\n",
       "    </tr>\n",
       "    <tr>\n",
       "      <th>1599996</th>\n",
       "      <td>1</td>\n",
       "    </tr>\n",
       "    <tr>\n",
       "      <th>1599997</th>\n",
       "      <td>1</td>\n",
       "    </tr>\n",
       "    <tr>\n",
       "      <th>1599998</th>\n",
       "      <td>1</td>\n",
       "    </tr>\n",
       "  </tbody>\n",
       "</table>\n",
       "</div>"
      ],
      "text/plain": [
       "         target\n",
       "1599994       1\n",
       "1599995       1\n",
       "1599996       1\n",
       "1599997       1\n",
       "1599998       1"
      ]
     },
     "execution_count": 6,
     "metadata": {},
     "output_type": "execute_result"
    }
   ],
   "source": [
    "y_df = pd.DataFrame({'target':y}) \n",
    "y_df[y_df[\"target\"]==4] = 1\n",
    "y_df.tail()"
   ]
  },
  {
   "cell_type": "markdown",
   "metadata": {},
   "source": [
    "### Split into Train, Test sets"
   ]
  },
  {
   "cell_type": "code",
   "execution_count": 7,
   "metadata": {},
   "outputs": [],
   "source": [
    "import numpy as np\n",
    "from sklearn.model_selection import train_test_split\n",
    "\n",
    "X_train, X_test, y_train, y_test = train_test_split(X, y_df, test_size=0.25, random_state=42)"
   ]
  },
  {
   "cell_type": "markdown",
   "metadata": {},
   "source": [
    "### Set Test set aside"
   ]
  },
  {
   "cell_type": "code",
   "execution_count": 17,
   "metadata": {},
   "outputs": [],
   "source": [
    "#X_train.loc[:, \"index\"] = np.array(X_train.index).copy()\n",
    "# how to avoid the SettingWithCopyWarning? is this even making any sense?"
   ]
  },
  {
   "cell_type": "code",
   "execution_count": 9,
   "metadata": {},
   "outputs": [],
   "source": [
    "X_train.to_csv(os.path.join(dir_path, \"X_train.csv\"), index=False) "
   ]
  },
  {
   "cell_type": "code",
   "execution_count": 10,
   "metadata": {},
   "outputs": [
    {
     "data": {
      "text/html": [
       "<div>\n",
       "<style scoped>\n",
       "    .dataframe tbody tr th:only-of-type {\n",
       "        vertical-align: middle;\n",
       "    }\n",
       "\n",
       "    .dataframe tbody tr th {\n",
       "        vertical-align: top;\n",
       "    }\n",
       "\n",
       "    .dataframe thead th {\n",
       "        text-align: right;\n",
       "    }\n",
       "</style>\n",
       "<table border=\"1\" class=\"dataframe\">\n",
       "  <thead>\n",
       "    <tr style=\"text-align: right;\">\n",
       "      <th></th>\n",
       "      <th>ID</th>\n",
       "      <th>Username</th>\n",
       "      <th>Text</th>\n",
       "      <th>index</th>\n",
       "    </tr>\n",
       "  </thead>\n",
       "  <tbody>\n",
       "    <tr>\n",
       "      <th>66270</th>\n",
       "      <td>1691417640</td>\n",
       "      <td>goatkinghoang</td>\n",
       "      <td>working madly</td>\n",
       "      <td>66270</td>\n",
       "    </tr>\n",
       "    <tr>\n",
       "      <th>428045</th>\n",
       "      <td>2063856213</td>\n",
       "      <td>Emma_Keenan</td>\n",
       "      <td>How can it be this cold! It's June!!! Sheesh</td>\n",
       "      <td>428045</td>\n",
       "    </tr>\n",
       "    <tr>\n",
       "      <th>1307927</th>\n",
       "      <td>2012574359</td>\n",
       "      <td>shellywellyx1</td>\n",
       "      <td>@jojoalexander ight i let they lil white boy k...</td>\n",
       "      <td>1307927</td>\n",
       "    </tr>\n",
       "    <tr>\n",
       "      <th>1112400</th>\n",
       "      <td>1972402571</td>\n",
       "      <td>FreagleDiva</td>\n",
       "      <td>Tweetlater Pro is the way to go for those who ...</td>\n",
       "      <td>1112400</td>\n",
       "    </tr>\n",
       "    <tr>\n",
       "      <th>840793</th>\n",
       "      <td>1559873939</td>\n",
       "      <td>bumgirl</td>\n",
       "      <td>&amp;quot;I wanna wake up where you are&amp;quot; I lo...</td>\n",
       "      <td>840793</td>\n",
       "    </tr>\n",
       "  </tbody>\n",
       "</table>\n",
       "</div>"
      ],
      "text/plain": [
       "                 ID       Username  \\\n",
       "66270    1691417640  goatkinghoang   \n",
       "428045   2063856213    Emma_Keenan   \n",
       "1307927  2012574359  shellywellyx1   \n",
       "1112400  1972402571    FreagleDiva   \n",
       "840793   1559873939        bumgirl   \n",
       "\n",
       "                                                      Text    index  \n",
       "66270                                       working madly     66270  \n",
       "428045       How can it be this cold! It's June!!! Sheesh    428045  \n",
       "1307927  @jojoalexander ight i let they lil white boy k...  1307927  \n",
       "1112400  Tweetlater Pro is the way to go for those who ...  1112400  \n",
       "840793   &quot;I wanna wake up where you are&quot; I lo...   840793  "
      ]
     },
     "execution_count": 10,
     "metadata": {},
     "output_type": "execute_result"
    }
   ],
   "source": [
    "X_train.head()"
   ]
  },
  {
   "cell_type": "code",
   "execution_count": 11,
   "metadata": {},
   "outputs": [],
   "source": [
    "# Save train and test sets with original indices\n",
    "#X_train.to_csv(os.path.join(dir_path, \"X_train.csv\"), index=False) \n",
    "#X_test.to_csv(os.path.join(dir_path, \"X_test.csv\"), index=True)\n",
    "#y_train.to_csv(os.path.join(dir_path, \"y_train.csv\"), index=True)\n",
    "#y_test.to_csv(os.path.join(dir_path, \"y_test.csv\"), index=True)"
   ]
  },
  {
   "cell_type": "markdown",
   "metadata": {},
   "source": [
    "### Cleanup Process"
   ]
  },
  {
   "cell_type": "markdown",
   "metadata": {},
   "source": [
    "All details of cleanup steps can be found in the custom script: `cleanup_module.py`\n",
    "\n",
    "Since my cleanup function entails heavy CPU-bound processes I use multiprocessing, splitting the data into 50k-row chunks which are processed 8 at a time (my laptop has 8 logical processors). The order of processing is asynchronous."
   ]
  },
  {
   "cell_type": "code",
   "execution_count": 12,
   "metadata": {
    "scrolled": true
   },
   "outputs": [
    {
     "name": "stdout",
     "output_type": "stream",
     "text": [
      "Saving cleaned up train dataset: 3\n",
      "Saving cleaned up train dataset: 1\n",
      "Saving cleaned up train dataset: 4\n",
      "Saving cleaned up train dataset: 2\n",
      "Saving cleaned up train dataset: 6\n",
      "Saving cleaned up train dataset: 5\n",
      "Finished in 34.73 second(s)\n"
     ]
    }
   ],
   "source": [
    "cmd = 'python cleanup_module.py X_train.csv'\n",
    "!{cmd}"
   ]
  },
  {
   "cell_type": "markdown",
   "metadata": {},
   "source": [
    "### X_train $\\Rightarrow$ Raw $\\Rightarrow$ X_clean"
   ]
  },
  {
   "cell_type": "markdown",
   "metadata": {},
   "source": [
    "We can trace the path backward to the `raw` data and forward to the `clean` data via the **X_train** indices:\n",
    "\n",
    "- Ex. the parameters list passed to the multiprocessing executor; i.e. - this sixth set of parameters indicates that the cleaned data subset 6 contains the range from 250000 to 300000:\n",
    "\n",
    "```\n",
    "(X_name, range( 250000,  300001),  6)\n",
    "```"
   ]
  },
  {
   "cell_type": "code",
   "execution_count": 13,
   "metadata": {},
   "outputs": [
    {
     "data": {
      "text/html": [
       "<div>\n",
       "<style scoped>\n",
       "    .dataframe tbody tr th:only-of-type {\n",
       "        vertical-align: middle;\n",
       "    }\n",
       "\n",
       "    .dataframe tbody tr th {\n",
       "        vertical-align: top;\n",
       "    }\n",
       "\n",
       "    .dataframe thead th {\n",
       "        text-align: right;\n",
       "    }\n",
       "</style>\n",
       "<table border=\"1\" class=\"dataframe\">\n",
       "  <thead>\n",
       "    <tr style=\"text-align: right;\">\n",
       "      <th></th>\n",
       "      <th>ID</th>\n",
       "      <th>Username</th>\n",
       "      <th>Text</th>\n",
       "      <th>index</th>\n",
       "    </tr>\n",
       "  </thead>\n",
       "  <tbody>\n",
       "    <tr>\n",
       "      <th>127175</th>\n",
       "      <td>1834669916</td>\n",
       "      <td>willysandi</td>\n",
       "      <td>i am so sleepy but there's still lots of assig...</td>\n",
       "      <td>127175</td>\n",
       "    </tr>\n",
       "    <tr>\n",
       "      <th>1521865</th>\n",
       "      <td>2176374015</td>\n",
       "      <td>brandyf82</td>\n",
       "      <td>thinks its great how one person can make you f...</td>\n",
       "      <td>1521865</td>\n",
       "    </tr>\n",
       "    <tr>\n",
       "      <th>1028707</th>\n",
       "      <td>1932667098</td>\n",
       "      <td>warfoot</td>\n",
       "      <td>Got the BrainBone daily question right!  - htt...</td>\n",
       "      <td>1028707</td>\n",
       "    </tr>\n",
       "    <tr>\n",
       "      <th>327835</th>\n",
       "      <td>2010059197</td>\n",
       "      <td>sydeshow</td>\n",
       "      <td>@tinayayo Girl, I get out a lot but you put me...</td>\n",
       "      <td>327835</td>\n",
       "    </tr>\n",
       "    <tr>\n",
       "      <th>865153</th>\n",
       "      <td>1677410625</td>\n",
       "      <td>__JANEDOE</td>\n",
       "      <td>sitting at my desk... doing nothing. i look ar...</td>\n",
       "      <td>865153</td>\n",
       "    </tr>\n",
       "  </tbody>\n",
       "</table>\n",
       "</div>"
      ],
      "text/plain": [
       "                 ID    Username  \\\n",
       "127175   1834669916  willysandi   \n",
       "1521865  2176374015   brandyf82   \n",
       "1028707  1932667098     warfoot   \n",
       "327835   2010059197    sydeshow   \n",
       "865153   1677410625   __JANEDOE   \n",
       "\n",
       "                                                      Text    index  \n",
       "127175   i am so sleepy but there's still lots of assig...   127175  \n",
       "1521865  thinks its great how one person can make you f...  1521865  \n",
       "1028707  Got the BrainBone daily question right!  - htt...  1028707  \n",
       "327835   @tinayayo Girl, I get out a lot but you put me...   327835  \n",
       "865153   sitting at my desk... doing nothing. i look ar...   865153  "
      ]
     },
     "execution_count": 13,
     "metadata": {},
     "output_type": "execute_result"
    }
   ],
   "source": [
    "X_train.iloc[250000:250005, ]"
   ]
  },
  {
   "cell_type": "code",
   "execution_count": 14,
   "metadata": {},
   "outputs": [
    {
     "data": {
      "text/html": [
       "<div>\n",
       "<style scoped>\n",
       "    .dataframe tbody tr th:only-of-type {\n",
       "        vertical-align: middle;\n",
       "    }\n",
       "\n",
       "    .dataframe tbody tr th {\n",
       "        vertical-align: top;\n",
       "    }\n",
       "\n",
       "    .dataframe thead th {\n",
       "        text-align: right;\n",
       "    }\n",
       "</style>\n",
       "<table border=\"1\" class=\"dataframe\">\n",
       "  <thead>\n",
       "    <tr style=\"text-align: right;\">\n",
       "      <th></th>\n",
       "      <th>Polarity</th>\n",
       "      <th>ID</th>\n",
       "      <th>Username</th>\n",
       "      <th>Text</th>\n",
       "    </tr>\n",
       "  </thead>\n",
       "  <tbody>\n",
       "    <tr>\n",
       "      <th>127175</th>\n",
       "      <td>0</td>\n",
       "      <td>1834669916</td>\n",
       "      <td>willysandi</td>\n",
       "      <td>i am so sleepy but there's still lots of assig...</td>\n",
       "    </tr>\n",
       "    <tr>\n",
       "      <th>1521865</th>\n",
       "      <td>4</td>\n",
       "      <td>2176374015</td>\n",
       "      <td>brandyf82</td>\n",
       "      <td>thinks its great how one person can make you f...</td>\n",
       "    </tr>\n",
       "    <tr>\n",
       "      <th>1028707</th>\n",
       "      <td>4</td>\n",
       "      <td>1932667098</td>\n",
       "      <td>warfoot</td>\n",
       "      <td>Got the BrainBone daily question right!  - htt...</td>\n",
       "    </tr>\n",
       "    <tr>\n",
       "      <th>327835</th>\n",
       "      <td>0</td>\n",
       "      <td>2010059197</td>\n",
       "      <td>sydeshow</td>\n",
       "      <td>@tinayayo Girl, I get out a lot but you put me...</td>\n",
       "    </tr>\n",
       "    <tr>\n",
       "      <th>865153</th>\n",
       "      <td>4</td>\n",
       "      <td>1677410625</td>\n",
       "      <td>__JANEDOE</td>\n",
       "      <td>sitting at my desk... doing nothing. i look ar...</td>\n",
       "    </tr>\n",
       "  </tbody>\n",
       "</table>\n",
       "</div>"
      ],
      "text/plain": [
       "         Polarity          ID    Username  \\\n",
       "127175          0  1834669916  willysandi   \n",
       "1521865         4  2176374015   brandyf82   \n",
       "1028707         4  1932667098     warfoot   \n",
       "327835          0  2010059197    sydeshow   \n",
       "865153          4  1677410625   __JANEDOE   \n",
       "\n",
       "                                                      Text  \n",
       "127175   i am so sleepy but there's still lots of assig...  \n",
       "1521865  thinks its great how one person can make you f...  \n",
       "1028707  Got the BrainBone daily question right!  - htt...  \n",
       "327835   @tinayayo Girl, I get out a lot but you put me...  \n",
       "865153   sitting at my desk... doing nothing. i look ar...  "
      ]
     },
     "execution_count": 14,
     "metadata": {},
     "output_type": "execute_result"
    }
   ],
   "source": [
    "raw.iloc[list(X_train.iloc[250000:250005, ].index), ]"
   ]
  },
  {
   "cell_type": "code",
   "execution_count": 15,
   "metadata": {},
   "outputs": [],
   "source": [
    "dirpath = os.path.join(\"..\",\"data\",\"2_clean\",\"sentiment140\")\n",
    "filename = \"train_6.csv\"\n",
    "filepath = os.path.join(dirpath, filename)\n",
    "\n",
    "X_clean =  pd.read_csv(filepath)"
   ]
  },
  {
   "cell_type": "code",
   "execution_count": 16,
   "metadata": {},
   "outputs": [
    {
     "data": {
      "text/html": [
       "<div>\n",
       "<style scoped>\n",
       "    .dataframe tbody tr th:only-of-type {\n",
       "        vertical-align: middle;\n",
       "    }\n",
       "\n",
       "    .dataframe tbody tr th {\n",
       "        vertical-align: top;\n",
       "    }\n",
       "\n",
       "    .dataframe thead th {\n",
       "        text-align: right;\n",
       "    }\n",
       "</style>\n",
       "<table border=\"1\" class=\"dataframe\">\n",
       "  <thead>\n",
       "    <tr style=\"text-align: right;\">\n",
       "      <th></th>\n",
       "      <th>username</th>\n",
       "      <th>text</th>\n",
       "      <th>index</th>\n",
       "      <th>lemmatized</th>\n",
       "    </tr>\n",
       "  </thead>\n",
       "  <tbody>\n",
       "    <tr>\n",
       "      <th>0</th>\n",
       "      <td>willysandi</td>\n",
       "      <td>i am so sleepy but there's still lots of assig...</td>\n",
       "      <td>127175</td>\n",
       "      <td>i am so sleepy but there still lot assignment ...</td>\n",
       "    </tr>\n",
       "    <tr>\n",
       "      <th>1</th>\n",
       "      <td>brandyf82</td>\n",
       "      <td>thinks its great how one person can make you f...</td>\n",
       "      <td>1521865</td>\n",
       "      <td>think great how one person can make you feel w...</td>\n",
       "    </tr>\n",
       "    <tr>\n",
       "      <th>2</th>\n",
       "      <td>warfoot</td>\n",
       "      <td>Got the BrainBone daily question right!  - htt...</td>\n",
       "      <td>1028707</td>\n",
       "      <td>got brainbone daily question right</td>\n",
       "    </tr>\n",
       "    <tr>\n",
       "      <th>3</th>\n",
       "      <td>sydeshow</td>\n",
       "      <td>@tinayayo Girl, I get out a lot but you put me...</td>\n",
       "      <td>327835</td>\n",
       "      <td>tinayayo girl i get out lot but you put me my ...</td>\n",
       "    </tr>\n",
       "    <tr>\n",
       "      <th>4</th>\n",
       "      <td>__JANEDOE</td>\n",
       "      <td>sitting at my desk... doing nothing. i look ar...</td>\n",
       "      <td>865153</td>\n",
       "      <td>sitting my desk doing nothing i look around al...</td>\n",
       "    </tr>\n",
       "  </tbody>\n",
       "</table>\n",
       "</div>"
      ],
      "text/plain": [
       "     username                                               text    index  \\\n",
       "0  willysandi  i am so sleepy but there's still lots of assig...   127175   \n",
       "1   brandyf82  thinks its great how one person can make you f...  1521865   \n",
       "2     warfoot  Got the BrainBone daily question right!  - htt...  1028707   \n",
       "3    sydeshow  @tinayayo Girl, I get out a lot but you put me...   327835   \n",
       "4   __JANEDOE  sitting at my desk... doing nothing. i look ar...   865153   \n",
       "\n",
       "                                          lemmatized  \n",
       "0  i am so sleepy but there still lot assignment ...  \n",
       "1  think great how one person can make you feel w...  \n",
       "2                 got brainbone daily question right  \n",
       "3  tinayayo girl i get out lot but you put me my ...  \n",
       "4  sitting my desk doing nothing i look around al...  "
      ]
     },
     "execution_count": 16,
     "metadata": {},
     "output_type": "execute_result"
    }
   ],
   "source": [
    "X_clean.head()"
   ]
  },
  {
   "cell_type": "markdown",
   "metadata": {},
   "source": [
    "---"
   ]
  }
 ],
 "metadata": {
  "kernelspec": {
   "display_name": "Python 3",
   "language": "python",
   "name": "python3"
  },
  "language_info": {
   "codemirror_mode": {
    "name": "ipython",
    "version": 3
   },
   "file_extension": ".py",
   "mimetype": "text/x-python",
   "name": "python",
   "nbconvert_exporter": "python",
   "pygments_lexer": "ipython3",
   "version": "3.7.3"
  }
 },
 "nbformat": 4,
 "nbformat_minor": 4
}
