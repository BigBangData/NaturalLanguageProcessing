{
 "cells": [
  {
   "cell_type": "markdown",
   "metadata": {},
   "source": [
    "## Twitter Sentiment Analysis \n",
    "\n",
    "\n",
    "The data comes from Marios Michailidis' dataset hosted in [this Kaggle repository.](https://www.kaggle.com/kazanova/sentiment140/)\n",
    "It consists of 1.6 M rows evenly split into negative and positive Tweets. The labels were created automatically using emoticons - the specific steps of how this was accomplished have not been disclosed.\n",
    "For more information on *sentiment140* see their [API.](http://help.sentiment140.com/api)"
   ]
  },
  {
   "cell_type": "markdown",
   "metadata": {},
   "source": [
    "### Load data"
   ]
  },
  {
   "cell_type": "code",
   "execution_count": 17,
   "metadata": {},
   "outputs": [],
   "source": [
    "import os \n",
    "import numpy as np\n",
    "import pandas as pd \n",
    "\n",
    "# load raw dataset\n",
    "dir_path = os.path.join(\"..\",\"data\",\"1_raw\",\"sentiment140\")\n",
    "filename = \"training.1600000.processed.noemoticon.csv\"\n",
    "filepath = os.path.join(dir_path, filename)\n",
    "\n",
    "raw = pd.read_csv(filepath, encoding='latin-1', usecols=[0,1,4,5])\n",
    "raw.columns = [\"Polarity\",\"ID\",\"Username\",\"Text\"]"
   ]
  },
  {
   "cell_type": "markdown",
   "metadata": {},
   "source": [
    "### Preview data"
   ]
  },
  {
   "cell_type": "code",
   "execution_count": 18,
   "metadata": {},
   "outputs": [
    {
     "data": {
      "text/plain": [
       "(1599999, 4)"
      ]
     },
     "execution_count": 18,
     "metadata": {},
     "output_type": "execute_result"
    }
   ],
   "source": [
    "raw.shape"
   ]
  },
  {
   "cell_type": "code",
   "execution_count": 19,
   "metadata": {},
   "outputs": [
    {
     "data": {
      "text/html": [
       "<div>\n",
       "<style scoped>\n",
       "    .dataframe tbody tr th:only-of-type {\n",
       "        vertical-align: middle;\n",
       "    }\n",
       "\n",
       "    .dataframe tbody tr th {\n",
       "        vertical-align: top;\n",
       "    }\n",
       "\n",
       "    .dataframe thead th {\n",
       "        text-align: right;\n",
       "    }\n",
       "</style>\n",
       "<table border=\"1\" class=\"dataframe\">\n",
       "  <thead>\n",
       "    <tr style=\"text-align: right;\">\n",
       "      <th></th>\n",
       "      <th>Polarity</th>\n",
       "      <th>ID</th>\n",
       "      <th>Username</th>\n",
       "      <th>Text</th>\n",
       "    </tr>\n",
       "  </thead>\n",
       "  <tbody>\n",
       "    <tr>\n",
       "      <th>0</th>\n",
       "      <td>0</td>\n",
       "      <td>1467810672</td>\n",
       "      <td>scotthamilton</td>\n",
       "      <td>is upset that he can't update his Facebook by ...</td>\n",
       "    </tr>\n",
       "    <tr>\n",
       "      <th>1</th>\n",
       "      <td>0</td>\n",
       "      <td>1467810917</td>\n",
       "      <td>mattycus</td>\n",
       "      <td>@Kenichan I dived many times for the ball. Man...</td>\n",
       "    </tr>\n",
       "    <tr>\n",
       "      <th>2</th>\n",
       "      <td>0</td>\n",
       "      <td>1467811184</td>\n",
       "      <td>ElleCTF</td>\n",
       "      <td>my whole body feels itchy and like its on fire</td>\n",
       "    </tr>\n",
       "    <tr>\n",
       "      <th>3</th>\n",
       "      <td>0</td>\n",
       "      <td>1467811193</td>\n",
       "      <td>Karoli</td>\n",
       "      <td>@nationwideclass no, it's not behaving at all....</td>\n",
       "    </tr>\n",
       "    <tr>\n",
       "      <th>4</th>\n",
       "      <td>0</td>\n",
       "      <td>1467811372</td>\n",
       "      <td>joy_wolf</td>\n",
       "      <td>@Kwesidei not the whole crew</td>\n",
       "    </tr>\n",
       "  </tbody>\n",
       "</table>\n",
       "</div>"
      ],
      "text/plain": [
       "   Polarity          ID       Username  \\\n",
       "0         0  1467810672  scotthamilton   \n",
       "1         0  1467810917       mattycus   \n",
       "2         0  1467811184        ElleCTF   \n",
       "3         0  1467811193         Karoli   \n",
       "4         0  1467811372       joy_wolf   \n",
       "\n",
       "                                                Text  \n",
       "0  is upset that he can't update his Facebook by ...  \n",
       "1  @Kenichan I dived many times for the ball. Man...  \n",
       "2    my whole body feels itchy and like its on fire   \n",
       "3  @nationwideclass no, it's not behaving at all....  \n",
       "4                      @Kwesidei not the whole crew   "
      ]
     },
     "execution_count": 19,
     "metadata": {},
     "output_type": "execute_result"
    }
   ],
   "source": [
    "raw.head()"
   ]
  },
  {
   "cell_type": "code",
   "execution_count": 51,
   "metadata": {},
   "outputs": [],
   "source": [
    "X = raw.iloc[:, 1:4]\n",
    "\n",
    "y = raw.loc[:, \"Polarity\"]"
   ]
  },
  {
   "cell_type": "code",
   "execution_count": 52,
   "metadata": {},
   "outputs": [
    {
     "data": {
      "text/html": [
       "<div>\n",
       "<style scoped>\n",
       "    .dataframe tbody tr th:only-of-type {\n",
       "        vertical-align: middle;\n",
       "    }\n",
       "\n",
       "    .dataframe tbody tr th {\n",
       "        vertical-align: top;\n",
       "    }\n",
       "\n",
       "    .dataframe thead th {\n",
       "        text-align: right;\n",
       "    }\n",
       "</style>\n",
       "<table border=\"1\" class=\"dataframe\">\n",
       "  <thead>\n",
       "    <tr style=\"text-align: right;\">\n",
       "      <th></th>\n",
       "      <th>ID</th>\n",
       "      <th>Username</th>\n",
       "      <th>Text</th>\n",
       "    </tr>\n",
       "  </thead>\n",
       "  <tbody>\n",
       "    <tr>\n",
       "      <th>0</th>\n",
       "      <td>1467810672</td>\n",
       "      <td>scotthamilton</td>\n",
       "      <td>is upset that he can't update his Facebook by ...</td>\n",
       "    </tr>\n",
       "    <tr>\n",
       "      <th>1</th>\n",
       "      <td>1467810917</td>\n",
       "      <td>mattycus</td>\n",
       "      <td>@Kenichan I dived many times for the ball. Man...</td>\n",
       "    </tr>\n",
       "    <tr>\n",
       "      <th>2</th>\n",
       "      <td>1467811184</td>\n",
       "      <td>ElleCTF</td>\n",
       "      <td>my whole body feels itchy and like its on fire</td>\n",
       "    </tr>\n",
       "    <tr>\n",
       "      <th>3</th>\n",
       "      <td>1467811193</td>\n",
       "      <td>Karoli</td>\n",
       "      <td>@nationwideclass no, it's not behaving at all....</td>\n",
       "    </tr>\n",
       "    <tr>\n",
       "      <th>4</th>\n",
       "      <td>1467811372</td>\n",
       "      <td>joy_wolf</td>\n",
       "      <td>@Kwesidei not the whole crew</td>\n",
       "    </tr>\n",
       "  </tbody>\n",
       "</table>\n",
       "</div>"
      ],
      "text/plain": [
       "           ID       Username  \\\n",
       "0  1467810672  scotthamilton   \n",
       "1  1467810917       mattycus   \n",
       "2  1467811184        ElleCTF   \n",
       "3  1467811193         Karoli   \n",
       "4  1467811372       joy_wolf   \n",
       "\n",
       "                                                Text  \n",
       "0  is upset that he can't update his Facebook by ...  \n",
       "1  @Kenichan I dived many times for the ball. Man...  \n",
       "2    my whole body feels itchy and like its on fire   \n",
       "3  @nationwideclass no, it's not behaving at all....  \n",
       "4                      @Kwesidei not the whole crew   "
      ]
     },
     "execution_count": 52,
     "metadata": {},
     "output_type": "execute_result"
    }
   ],
   "source": [
    "X.head()"
   ]
  },
  {
   "cell_type": "code",
   "execution_count": 55,
   "metadata": {},
   "outputs": [
    {
     "data": {
      "text/plain": [
       "0    0\n",
       "1    0\n",
       "2    0\n",
       "3    0\n",
       "4    0\n",
       "Name: Polarity, dtype: int64"
      ]
     },
     "execution_count": 55,
     "metadata": {},
     "output_type": "execute_result"
    }
   ],
   "source": [
    "y.head() # create df and change 4 to 1"
   ]
  },
  {
   "cell_type": "markdown",
   "metadata": {},
   "source": [
    "### Split into Train, Test sets"
   ]
  },
  {
   "cell_type": "code",
   "execution_count": 23,
   "metadata": {},
   "outputs": [],
   "source": [
    "import numpy as np\n",
    "from sklearn.model_selection import train_test_split\n",
    "\n",
    "X_train, X_test, y_train, y_test = train_test_split(X, y, test_size=0.25, random_state=42)"
   ]
  },
  {
   "cell_type": "markdown",
   "metadata": {},
   "source": [
    "### Set Test set aside"
   ]
  },
  {
   "cell_type": "code",
   "execution_count": 42,
   "metadata": {},
   "outputs": [],
   "source": [
    "# Save train and test sets with original indices\n",
    "X_train.to_csv(os.path.join(dir_path, \"X_train.csv\"), index=True) \n",
    "X_test.to_csv(os.path.join(dir_path, \"X_test.csv\"), index=True)\n",
    "#y_train.to_csv(os.path.join(dir_path, \"y_train.csv\"), index=True) # issues.... maybe use .ravel() ? Needs a header too.\n",
    "#y_test.to_csv(os.path.join(dir_path, \"y_test.csv\"), index=True)"
   ]
  },
  {
   "cell_type": "markdown",
   "metadata": {},
   "source": [
    "### Cleanup Process"
   ]
  },
  {
   "cell_type": "markdown",
   "metadata": {},
   "source": [
    "All details of cleanup steps can be found in the custom python script `cleanup_module.py`.\n",
    "\n",
    "Since my cleanup function entails heavy CPU-bound processes I use multiprocessing, splitting the data into 50k-row chunks which are processed 8 at a time (my laptop has 8 logical processors). The order of processing is asynchronous."
   ]
  },
  {
   "cell_type": "code",
   "execution_count": 63,
   "metadata": {
    "scrolled": true
   },
   "outputs": [
    {
     "name": "stdout",
     "output_type": "stream",
     "text": [
      "Saving cleaned up train dataset: 1\n",
      "Saving cleaned up train dataset: 4\n",
      "Saving cleaned up train dataset: 7\n",
      "Saving cleaned up train dataset: 3\n",
      "Saving cleaned up train dataset: 5\n",
      "Saving cleaned up train dataset: 2\n",
      "Saving cleaned up train dataset: 6\n",
      "Saving cleaned up train dataset: 8\n",
      "Saving cleaned up train dataset: 11\n",
      "Saving cleaned up train dataset: 10\n",
      "Saving cleaned up train dataset: 9\n",
      "Saving cleaned up train dataset: 14\n",
      "Saving cleaned up train dataset: 13\n",
      "Saving cleaned up train dataset: 15\n",
      "Saving cleaned up train dataset: 12\n",
      "Saving cleaned up train dataset: 16\n",
      "Saving cleaned up train dataset: 18\n",
      "Saving cleaned up train dataset: 17\n",
      "Saving cleaned up train dataset: 19\n",
      "Saving cleaned up train dataset: 23\n",
      "Saving cleaned up train dataset: 20\n",
      "Saving cleaned up train dataset: 24\n",
      "Saving cleaned up train dataset: 22\n",
      "Saving cleaned up train dataset: 21\n",
      "Finished in 143.59 second(s)\n"
     ]
    }
   ],
   "source": [
    "cmd = 'python cleanup_module.py X_train.csv'\n",
    "!{cmd}"
   ]
  },
  {
   "cell_type": "code",
   "execution_count": null,
   "metadata": {},
   "outputs": [],
   "source": []
  },
  {
   "cell_type": "code",
   "execution_count": null,
   "metadata": {},
   "outputs": [],
   "source": []
  },
  {
   "cell_type": "code",
   "execution_count": null,
   "metadata": {},
   "outputs": [],
   "source": []
  },
  {
   "cell_type": "markdown",
   "metadata": {},
   "source": [
    "Reverting back to the original data (which includes Tweet IDs, etc.) from the cleaned data:\n",
    "\n",
    "- the key is the list of parameters passed to the multiprocessing executor; i.e. - this last set of parameters indicates that the cleaned dataset 32 contains the range from 1550000 to 1600000:\n",
    "\n",
    "```\n",
    "(range(1550000, 1600001), 32)\n",
    "```\n"
   ]
  },
  {
   "cell_type": "code",
   "execution_count": 3,
   "metadata": {},
   "outputs": [],
   "source": [
    "import os\n",
    "import pandas as pd\n",
    "\n",
    "dirpath = os.path.join(\"..\",\"data\",\"1_raw\",\"sentiment140\")\n",
    "filename = \"training.1600000.processed.noemoticon.csv\"\n",
    "filepath = os.path.join(dirpath, filename)\n",
    "\n",
    "df = pd.read_csv(filepath,\n",
    "                 encoding='latin-1',\n",
    "                 usecols=[0,5])\n",
    "\n",
    "df.columns = ['target','text']\n",
    "              \n",
    "dirpath = os.path.join(\"..\",\"data\",\"2_clean\",\"sentiment140\")\n",
    "filename = \"train_32.csv\"\n",
    "filepath = os.path.join(dirpath, filename)\n",
    "\n",
    "df_clean =  pd.read_csv(filepath)"
   ]
  },
  {
   "cell_type": "code",
   "execution_count": 4,
   "metadata": {},
   "outputs": [
    {
     "data": {
      "text/html": [
       "<div>\n",
       "<style scoped>\n",
       "    .dataframe tbody tr th:only-of-type {\n",
       "        vertical-align: middle;\n",
       "    }\n",
       "\n",
       "    .dataframe tbody tr th {\n",
       "        vertical-align: top;\n",
       "    }\n",
       "\n",
       "    .dataframe thead th {\n",
       "        text-align: right;\n",
       "    }\n",
       "</style>\n",
       "<table border=\"1\" class=\"dataframe\">\n",
       "  <thead>\n",
       "    <tr style=\"text-align: right;\">\n",
       "      <th></th>\n",
       "      <th>target</th>\n",
       "      <th>text</th>\n",
       "    </tr>\n",
       "  </thead>\n",
       "  <tbody>\n",
       "    <tr>\n",
       "      <th>1550401</th>\n",
       "      <td>4</td>\n",
       "      <td>Going to see Ghosts of Girlfriends Past with @...</td>\n",
       "    </tr>\n",
       "    <tr>\n",
       "      <th>1550402</th>\n",
       "      <td>4</td>\n",
       "      <td>@sarah_cawood can't wait to see the movie, it ...</td>\n",
       "    </tr>\n",
       "    <tr>\n",
       "      <th>1550403</th>\n",
       "      <td>4</td>\n",
       "      <td>@ScottHuska rock the boat</td>\n",
       "    </tr>\n",
       "    <tr>\n",
       "      <th>1550404</th>\n",
       "      <td>4</td>\n",
       "      <td>@DooneyStudio me and the remaining web develop...</td>\n",
       "    </tr>\n",
       "    <tr>\n",
       "      <th>1550405</th>\n",
       "      <td>4</td>\n",
       "      <td>Wooh powergun Haha washing away</td>\n",
       "    </tr>\n",
       "    <tr>\n",
       "      <th>1550406</th>\n",
       "      <td>4</td>\n",
       "      <td>@mileycyrus NO MILEY IM NOT VOTING FOR YOU &amp;gt...</td>\n",
       "    </tr>\n",
       "  </tbody>\n",
       "</table>\n",
       "</div>"
      ],
      "text/plain": [
       "         target                                               text\n",
       "1550401       4  Going to see Ghosts of Girlfriends Past with @...\n",
       "1550402       4  @sarah_cawood can't wait to see the movie, it ...\n",
       "1550403       4                         @ScottHuska rock the boat \n",
       "1550404       4  @DooneyStudio me and the remaining web develop...\n",
       "1550405       4                   Wooh powergun Haha washing away \n",
       "1550406       4  @mileycyrus NO MILEY IM NOT VOTING FOR YOU &gt..."
      ]
     },
     "execution_count": 4,
     "metadata": {},
     "output_type": "execute_result"
    }
   ],
   "source": [
    "df.loc[1550401:1550406,]"
   ]
  },
  {
   "cell_type": "code",
   "execution_count": 5,
   "metadata": {},
   "outputs": [
    {
     "data": {
      "text/html": [
       "<div>\n",
       "<style scoped>\n",
       "    .dataframe tbody tr th:only-of-type {\n",
       "        vertical-align: middle;\n",
       "    }\n",
       "\n",
       "    .dataframe tbody tr th {\n",
       "        vertical-align: top;\n",
       "    }\n",
       "\n",
       "    .dataframe thead th {\n",
       "        text-align: right;\n",
       "    }\n",
       "</style>\n",
       "<table border=\"1\" class=\"dataframe\">\n",
       "  <thead>\n",
       "    <tr style=\"text-align: right;\">\n",
       "      <th></th>\n",
       "      <th>target</th>\n",
       "      <th>text</th>\n",
       "      <th>tokenized</th>\n",
       "      <th>filtered</th>\n",
       "      <th>stemmed</th>\n",
       "      <th>lemmatized</th>\n",
       "    </tr>\n",
       "  </thead>\n",
       "  <tbody>\n",
       "    <tr>\n",
       "      <th>401</th>\n",
       "      <td>1</td>\n",
       "      <td>Going to see Ghosts of Girlfriends Past with @...</td>\n",
       "      <td>going to see ghosts of girlfriends past with d...</td>\n",
       "      <td>going see ghosts girlfriends past danii245</td>\n",
       "      <td>go see ghost girlfriend past danii245</td>\n",
       "      <td>going see ghost girlfriend past danii245</td>\n",
       "    </tr>\n",
       "    <tr>\n",
       "      <th>402</th>\n",
       "      <td>1</td>\n",
       "      <td>@sarah_cawood can't wait to see the movie, it ...</td>\n",
       "      <td>sarahcawood cant wait to see the movie it look...</td>\n",
       "      <td>sarahcawood cant wait see movie looks so good</td>\n",
       "      <td>sarahcawood cant wait see movi look so good</td>\n",
       "      <td>sarahcawood cant wait see movie look so good</td>\n",
       "    </tr>\n",
       "    <tr>\n",
       "      <th>403</th>\n",
       "      <td>1</td>\n",
       "      <td>@ScottHuska rock the boat</td>\n",
       "      <td>scotthuska rock the boat</td>\n",
       "      <td>scotthuska rock boat</td>\n",
       "      <td>scotthuska rock boat</td>\n",
       "      <td>scotthuska rock boat</td>\n",
       "    </tr>\n",
       "    <tr>\n",
       "      <th>404</th>\n",
       "      <td>1</td>\n",
       "      <td>@DooneyStudio me and the remaining web develop...</td>\n",
       "      <td>dooneystudio me and the remaining web develope...</td>\n",
       "      <td>dooneystudio me remaining web developer have p...</td>\n",
       "      <td>dooneystudio me remain web develop have plan k...</td>\n",
       "      <td>dooneystudio me remaining web developer have p...</td>\n",
       "    </tr>\n",
       "    <tr>\n",
       "      <th>405</th>\n",
       "      <td>1</td>\n",
       "      <td>Wooh powergun Haha washing away</td>\n",
       "      <td>wooh powergun haha washing away</td>\n",
       "      <td>wooh powergun haha washing away</td>\n",
       "      <td>wooh powergun haha wash away</td>\n",
       "      <td>wooh powergun haha washing away</td>\n",
       "    </tr>\n",
       "    <tr>\n",
       "      <th>406</th>\n",
       "      <td>1</td>\n",
       "      <td>@mileycyrus NO MILEY IM NOT VOTING FOR YOU &amp;gt...</td>\n",
       "      <td>mileycyrus no miley im not voting for you hhah...</td>\n",
       "      <td>mileycyrus no miley im not voting you hhahahah...</td>\n",
       "      <td>mileycyru no miley im not vote you hhahahah jo...</td>\n",
       "      <td>mileycyrus no miley im not voting you hhahahah...</td>\n",
       "    </tr>\n",
       "  </tbody>\n",
       "</table>\n",
       "</div>"
      ],
      "text/plain": [
       "     target                                               text  \\\n",
       "401       1  Going to see Ghosts of Girlfriends Past with @...   \n",
       "402       1  @sarah_cawood can't wait to see the movie, it ...   \n",
       "403       1                         @ScottHuska rock the boat    \n",
       "404       1  @DooneyStudio me and the remaining web develop...   \n",
       "405       1                   Wooh powergun Haha washing away    \n",
       "406       1  @mileycyrus NO MILEY IM NOT VOTING FOR YOU &gt...   \n",
       "\n",
       "                                             tokenized  \\\n",
       "401  going to see ghosts of girlfriends past with d...   \n",
       "402  sarahcawood cant wait to see the movie it look...   \n",
       "403                           scotthuska rock the boat   \n",
       "404  dooneystudio me and the remaining web develope...   \n",
       "405                    wooh powergun haha washing away   \n",
       "406  mileycyrus no miley im not voting for you hhah...   \n",
       "\n",
       "                                              filtered  \\\n",
       "401         going see ghosts girlfriends past danii245   \n",
       "402      sarahcawood cant wait see movie looks so good   \n",
       "403                               scotthuska rock boat   \n",
       "404  dooneystudio me remaining web developer have p...   \n",
       "405                    wooh powergun haha washing away   \n",
       "406  mileycyrus no miley im not voting you hhahahah...   \n",
       "\n",
       "                                               stemmed  \\\n",
       "401              go see ghost girlfriend past danii245   \n",
       "402        sarahcawood cant wait see movi look so good   \n",
       "403                               scotthuska rock boat   \n",
       "404  dooneystudio me remain web develop have plan k...   \n",
       "405                       wooh powergun haha wash away   \n",
       "406  mileycyru no miley im not vote you hhahahah jo...   \n",
       "\n",
       "                                            lemmatized  \n",
       "401           going see ghost girlfriend past danii245  \n",
       "402       sarahcawood cant wait see movie look so good  \n",
       "403                               scotthuska rock boat  \n",
       "404  dooneystudio me remaining web developer have p...  \n",
       "405                    wooh powergun haha washing away  \n",
       "406  mileycyrus no miley im not voting you hhahahah...  "
      ]
     },
     "execution_count": 5,
     "metadata": {},
     "output_type": "execute_result"
    }
   ],
   "source": [
    "df_clean.loc[401:406,]"
   ]
  },
  {
   "cell_type": "markdown",
   "metadata": {},
   "source": [
    "---"
   ]
  }
 ],
 "metadata": {
  "kernelspec": {
   "display_name": "Python 3",
   "language": "python",
   "name": "python3"
  },
  "language_info": {
   "codemirror_mode": {
    "name": "ipython",
    "version": 3
   },
   "file_extension": ".py",
   "mimetype": "text/x-python",
   "name": "python",
   "nbconvert_exporter": "python",
   "pygments_lexer": "ipython3",
   "version": "3.7.3"
  }
 },
 "nbformat": 4,
 "nbformat_minor": 4
}
