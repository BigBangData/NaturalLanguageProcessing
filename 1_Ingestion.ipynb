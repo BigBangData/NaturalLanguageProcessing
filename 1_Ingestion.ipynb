{
 "cells": [
  {
   "cell_type": "markdown",
   "metadata": {},
   "source": [
    "## Raw Tweet Ingestion"
   ]
  },
  {
   "cell_type": "code",
   "execution_count": 5,
   "metadata": {},
   "outputs": [],
   "source": [
    "import os\n",
    "import json\n",
    "import time\n",
    "import tweepy\n",
    "import datetime\n",
    "import pandas as pd"
   ]
  },
  {
   "cell_type": "code",
   "execution_count": 6,
   "metadata": {},
   "outputs": [],
   "source": [
    "def initiate_api():\n",
    "    \n",
    "    with open('./.conf/config.json', 'r') as f:\n",
    "        config = json.load(f)\n",
    "        \n",
    "    auth = tweepy.OAuthHandler(config[\"CONSUMER_KEY\"], config[\"CONSUMER_SECRET\"])\n",
    "    auth.set_access_token(config[\"ACCESS_KEY\"], config[\"ACCESS_SECRET\"])\n",
    "    api = tweepy.API(auth, wait_on_rate_limit=True)\n",
    "    \n",
    "    return api"
   ]
  },
  {
   "cell_type": "code",
   "execution_count": 7,
   "metadata": {},
   "outputs": [],
   "source": [
    "def collect_tweets(api, N):\n",
    "    \n",
    "    neg_query = '(🤬 OR 🤮 OR 😡 OR 😤 OR 🥺 OR 🤢 OR 😣 OR \\\n",
    "                  😟 OR 😣 OR 🤔 OR 🤥 OR 😫 OR 🤮 OR 🥵 OR \\\n",
    "                  😨 OR 😰 OR 😭 OR 😥 OR 🙁 OR 😩) \\\n",
    "            AND \\\n",
    "                -(😃 OR 😄 OR 😁 OR 🥰 OR 😊 OR ❤️ OR 💋 OR \\\n",
    "                  😍 OR 😂 OR 😎 OR 🤣 OR 😘 OR 😇 OR 🙃 OR \\\n",
    "                  😉 OR 😇 OR 🤩 OR 😃 OR 😄 OR 🙂) \\\n",
    "            AND \\\n",
    "                -(😭)' # unclear polarity\n",
    "\n",
    "    pos_query = '(😃 OR 😄 OR 😁 OR 🥰 OR 😊 OR ❤️ OR 💋 OR \\\n",
    "                  😍 OR 😂 OR 😎 OR 🤣 OR 😘 OR 😇 OR 🙃 OR \\\n",
    "                  😉 OR 😇 OR 🤩 OR 😃 OR 😄 OR 🙂) \\\n",
    "            AND \\\n",
    "                -(🤬 OR 🤮 OR 😡 OR 😤 OR 🥺 OR 🤢 OR 😣 OR \\\n",
    "                  😟 OR 😣 OR 🤔 OR 🤥 OR 😫 OR 🤮 OR 🥵 OR \\\n",
    "                  😨 OR 😰 OR 😭 OR 😥 OR 🙁 OR 😩) \\\n",
    "            AND \\\n",
    "                -(😭)' # unclear polarity                  \n",
    "    \n",
    "    tweets = []\n",
    "    for status in tweepy.Cursor(api.search,\n",
    "                                q=neg_query,\n",
    "                                include_entities=True,\n",
    "                                monitor_rate_limit=True, \n",
    "                                wait_on_rate_limit=True,\n",
    "                                lang=\"en\").items(N/2):\n",
    "\n",
    "        tweets.append([status.id_str,\n",
    "                       status.created_at, \n",
    "                       status.user.screen_name, \n",
    "                       status.text,\n",
    "                       -1])\n",
    "        \n",
    "    for status in tweepy.Cursor(api.search,\n",
    "                                q=pos_query,\n",
    "                                include_entities=True,\n",
    "                                monitor_rate_limit=True, \n",
    "                                wait_on_rate_limit=True,\n",
    "                                lang=\"en\").items(N/2):\n",
    "\n",
    "        tweets.append([status.id_str,\n",
    "                       status.created_at, \n",
    "                       status.user.screen_name, \n",
    "                       status.text,\n",
    "                       1])     \n",
    "        \n",
    "    return tweets"
   ]
  },
  {
   "cell_type": "code",
   "execution_count": 8,
   "metadata": {},
   "outputs": [],
   "source": [
    "def save_raw_tweets(tweets):\n",
    "\n",
    "    tweets_df = pd.DataFrame(tweets, \n",
    "                             columns=[\"ID\", \"Timestamp\", \"User\", \"Text\", \"Polarity\"])\n",
    "    \n",
    "    now_prefix = datetime.datetime.now().strftime(\"%Y%m%d_%H%M%S\")\n",
    "    filepath = os.path.join(\"data\",\"raw\",\"tweets\")\n",
    "    \n",
    "    if not os.path.exists(filepath):\n",
    "        os.makedirs(filepath)\n",
    "        \n",
    "    filename = ''.join([now_prefix, \"_tweets.csv\"])\n",
    "    \n",
    "    tweets_df.to_csv(os.path.join(filepath, filename), index=False)"
   ]
  },
  {
   "cell_type": "code",
   "execution_count": 9,
   "metadata": {},
   "outputs": [],
   "source": [
    "def twitter_bot(api, N):\n",
    "    \n",
    "    tweets = collect_tweets(api, N)  \n",
    "    save_raw_tweets(tweets)\n",
    "    \n",
    "    t = datetime.datetime.now().strftime(\"%H:%M:%S\")\n",
    "    print('tweet file saved at: ', str(t))"
   ]
  },
  {
   "cell_type": "code",
   "execution_count": 10,
   "metadata": {},
   "outputs": [],
   "source": [
    "def main(X, N):\n",
    "\n",
    "    # debug \n",
    "    t1 = datetime.datetime.now().strftime(\"%H:%M:%S\")\n",
    "    print('api started at: ', str(t1))\n",
    "    \n",
    "    # start API\n",
    "    api = initiate_api()\n",
    "    \n",
    "    for i in range(X):\n",
    "        \n",
    "        # debug\n",
    "        print('Run No.', str(i+1))\n",
    "        t2 = datetime.datetime.now().strftime(\"%H:%M:%S\")\n",
    "        print('twitter bot run at: ', str(t2))\n",
    "        \n",
    "        # run bot\n",
    "        twitter_bot(api, N)\n",
    "  \n",
    "        # wait 15 min if not last iteration\n",
    "        if i < X-1:\n",
    "            print('waiting 15 mins...')\n",
    "            time.sleep(915)"
   ]
  },
  {
   "cell_type": "code",
   "execution_count": 12,
   "metadata": {},
   "outputs": [
    {
     "name": "stdout",
     "output_type": "stream",
     "text": [
      "api started at:  17:21:06\n",
      "Run No. 1\n",
      "twitter bot run at:  17:21:06\n",
      "tweet file saved at:  17:21:15\n",
      "waiting 15 mins...\n",
      "Run No. 2\n",
      "twitter bot run at:  17:36:30\n",
      "tweet file saved at:  17:36:40\n",
      "waiting 15 mins...\n",
      "Run No. 3\n",
      "twitter bot run at:  17:51:55\n",
      "tweet file saved at:  17:52:05\n",
      "waiting 15 mins...\n",
      "Run No. 4\n",
      "twitter bot run at:  18:07:20\n",
      "tweet file saved at:  18:07:33\n",
      "waiting 15 mins...\n",
      "Run No. 5\n",
      "twitter bot run at:  18:22:48\n",
      "tweet file saved at:  18:22:58\n",
      "waiting 15 mins...\n",
      "Run No. 6\n",
      "twitter bot run at:  18:38:13\n",
      "tweet file saved at:  18:38:22\n"
     ]
    }
   ],
   "source": [
    "# collect X amt of times, N tweets\n",
    "\n",
    "main(X=6, N=200)"
   ]
  },
  {
   "cell_type": "code",
   "execution_count": 13,
   "metadata": {},
   "outputs": [],
   "source": [
    "## increase rate, check docs"
   ]
  }
 ],
 "metadata": {
  "kernelspec": {
   "display_name": "Python 3",
   "language": "python",
   "name": "python3"
  },
  "language_info": {
   "codemirror_mode": {
    "name": "ipython",
    "version": 3
   },
   "file_extension": ".py",
   "mimetype": "text/x-python",
   "name": "python",
   "nbconvert_exporter": "python",
   "pygments_lexer": "ipython3",
   "version": "3.7.3"
  }
 },
 "nbformat": 4,
 "nbformat_minor": 4
}
