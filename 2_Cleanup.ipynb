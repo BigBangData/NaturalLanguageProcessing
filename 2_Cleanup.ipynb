{
 "cells": [
  {
   "cell_type": "code",
   "execution_count": 14,
   "metadata": {},
   "outputs": [],
   "source": [
    "import re\n",
    "import os\n",
    "import json\n",
    "import time\n",
    "\n",
    "import string\n",
    "import datetime\n",
    "import urlextract\n",
    "import pandas as pd\n",
    "\n",
    "from html import unescape\n",
    "from nltk.corpus import stopwords\n",
    "from nltk.tokenize import word_tokenize\n",
    "from nltk.stem import PorterStemmer"
   ]
  },
  {
   "cell_type": "markdown",
   "metadata": {},
   "source": [
    "TODO:\n",
    "\n",
    "- check for dupes, include deduping in ingestion\n",
    "- cleanup tweet text\n",
    "- create feature that identifies a retweet (RT)\n",
    "- use textBlob as yet another way to perform basic sentiment analysis\n"
   ]
  },
  {
   "cell_type": "code",
   "execution_count": 3,
   "metadata": {},
   "outputs": [],
   "source": [
    "# load data\n",
    "filepath = os.path.join(\"data\",\"raw\",\"tweets\") \n",
    "\n",
    "dfm = []\n",
    "for f in os.listdir(filepath):\n",
    "    dfm.append(pd.read_csv(os.path.join(filepath,f)))"
   ]
  },
  {
   "cell_type": "code",
   "execution_count": 4,
   "metadata": {},
   "outputs": [],
   "source": [
    "df = pd.concat(dfm)\n",
    "df = df.reset_index(drop=True)"
   ]
  },
  {
   "cell_type": "code",
   "execution_count": 5,
   "metadata": {},
   "outputs": [
    {
     "data": {
      "text/html": [
       "<div>\n",
       "<style scoped>\n",
       "    .dataframe tbody tr th:only-of-type {\n",
       "        vertical-align: middle;\n",
       "    }\n",
       "\n",
       "    .dataframe tbody tr th {\n",
       "        vertical-align: top;\n",
       "    }\n",
       "\n",
       "    .dataframe thead th {\n",
       "        text-align: right;\n",
       "    }\n",
       "</style>\n",
       "<table border=\"1\" class=\"dataframe\">\n",
       "  <thead>\n",
       "    <tr style=\"text-align: right;\">\n",
       "      <th></th>\n",
       "      <th>ID</th>\n",
       "      <th>Timestamp</th>\n",
       "      <th>User</th>\n",
       "      <th>Text</th>\n",
       "      <th>Polarity</th>\n",
       "    </tr>\n",
       "  </thead>\n",
       "  <tbody>\n",
       "    <tr>\n",
       "      <th>0</th>\n",
       "      <td>1302406168791470081</td>\n",
       "      <td>2020-09-06 00:40:02</td>\n",
       "      <td>asarinanamis</td>\n",
       "      <td>RT @Ayshiun: Totally inspired by@/kianamaiart'...</td>\n",
       "      <td>-1</td>\n",
       "    </tr>\n",
       "    <tr>\n",
       "      <th>1</th>\n",
       "      <td>1302406168766078976</td>\n",
       "      <td>2020-09-06 00:40:02</td>\n",
       "      <td>xleave_thecity</td>\n",
       "      <td>@thiinkinaboutit thank you 🥺</td>\n",
       "      <td>-1</td>\n",
       "    </tr>\n",
       "    <tr>\n",
       "      <th>2</th>\n",
       "      <td>1302406168170696706</td>\n",
       "      <td>2020-09-06 00:40:02</td>\n",
       "      <td>MsTam_Tam</td>\n",
       "      <td>some of yall retweets really be having me look...</td>\n",
       "      <td>-1</td>\n",
       "    </tr>\n",
       "    <tr>\n",
       "      <th>3</th>\n",
       "      <td>1302406168120365056</td>\n",
       "      <td>2020-09-06 00:40:02</td>\n",
       "      <td>_thebdawkk</td>\n",
       "      <td>@jeenbeen__ Thank you Jen 🥺 just miss the old ...</td>\n",
       "      <td>-1</td>\n",
       "    </tr>\n",
       "    <tr>\n",
       "      <th>4</th>\n",
       "      <td>1302406167956602880</td>\n",
       "      <td>2020-09-06 00:40:02</td>\n",
       "      <td>4ranghae1015</td>\n",
       "      <td>@SJofficial My favorite part is the BAD boy, g...</td>\n",
       "      <td>-1</td>\n",
       "    </tr>\n",
       "  </tbody>\n",
       "</table>\n",
       "</div>"
      ],
      "text/plain": [
       "                    ID            Timestamp            User  \\\n",
       "0  1302406168791470081  2020-09-06 00:40:02    asarinanamis   \n",
       "1  1302406168766078976  2020-09-06 00:40:02  xleave_thecity   \n",
       "2  1302406168170696706  2020-09-06 00:40:02       MsTam_Tam   \n",
       "3  1302406168120365056  2020-09-06 00:40:02      _thebdawkk   \n",
       "4  1302406167956602880  2020-09-06 00:40:02    4ranghae1015   \n",
       "\n",
       "                                                Text  Polarity  \n",
       "0  RT @Ayshiun: Totally inspired by@/kianamaiart'...        -1  \n",
       "1                       @thiinkinaboutit thank you 🥺        -1  \n",
       "2  some of yall retweets really be having me look...        -1  \n",
       "3  @jeenbeen__ Thank you Jen 🥺 just miss the old ...        -1  \n",
       "4  @SJofficial My favorite part is the BAD boy, g...        -1  "
      ]
     },
     "execution_count": 5,
     "metadata": {},
     "output_type": "execute_result"
    }
   ],
   "source": [
    "df.head()"
   ]
  },
  {
   "cell_type": "code",
   "execution_count": 6,
   "metadata": {},
   "outputs": [
    {
     "data": {
      "text/html": [
       "<div>\n",
       "<style scoped>\n",
       "    .dataframe tbody tr th:only-of-type {\n",
       "        vertical-align: middle;\n",
       "    }\n",
       "\n",
       "    .dataframe tbody tr th {\n",
       "        vertical-align: top;\n",
       "    }\n",
       "\n",
       "    .dataframe thead th {\n",
       "        text-align: right;\n",
       "    }\n",
       "</style>\n",
       "<table border=\"1\" class=\"dataframe\">\n",
       "  <thead>\n",
       "    <tr style=\"text-align: right;\">\n",
       "      <th></th>\n",
       "      <th>ID</th>\n",
       "      <th>Timestamp</th>\n",
       "      <th>User</th>\n",
       "      <th>Text</th>\n",
       "      <th>Polarity</th>\n",
       "    </tr>\n",
       "  </thead>\n",
       "  <tbody>\n",
       "    <tr>\n",
       "      <th>3995</th>\n",
       "      <td>1303190740311461891</td>\n",
       "      <td>2020-09-08 04:37:39</td>\n",
       "      <td>bokedone</td>\n",
       "      <td>@ClausPelz eant him full naked 1🥰😘😍🤩🤩🤩🤩🤩🤩🤩pls 🍆🍆🍑</td>\n",
       "      <td>1</td>\n",
       "    </tr>\n",
       "    <tr>\n",
       "      <th>3996</th>\n",
       "      <td>1303190740185550848</td>\n",
       "      <td>2020-09-08 04:37:39</td>\n",
       "      <td>joealexpitt</td>\n",
       "      <td>RT @onhi: Happy Tuesday! 😊\\n\\n https://t.co/u0...</td>\n",
       "      <td>1</td>\n",
       "    </tr>\n",
       "    <tr>\n",
       "      <th>3997</th>\n",
       "      <td>1303190740164644864</td>\n",
       "      <td>2020-09-08 04:37:39</td>\n",
       "      <td>TeresaASchmidt1</td>\n",
       "      <td>@tyler_hynes prime example of ur incredible ta...</td>\n",
       "      <td>1</td>\n",
       "    </tr>\n",
       "    <tr>\n",
       "      <th>3998</th>\n",
       "      <td>1303190740130869248</td>\n",
       "      <td>2020-09-08 04:37:39</td>\n",
       "      <td>jeonginsmilkbag</td>\n",
       "      <td>tw sexual assault.       pls if you are not de...</td>\n",
       "      <td>1</td>\n",
       "    </tr>\n",
       "    <tr>\n",
       "      <th>3999</th>\n",
       "      <td>1303190740009279488</td>\n",
       "      <td>2020-09-08 04:37:39</td>\n",
       "      <td>artidesai555</td>\n",
       "      <td>@ramesh_ydp Good morning 😊</td>\n",
       "      <td>1</td>\n",
       "    </tr>\n",
       "  </tbody>\n",
       "</table>\n",
       "</div>"
      ],
      "text/plain": [
       "                       ID            Timestamp             User  \\\n",
       "3995  1303190740311461891  2020-09-08 04:37:39         bokedone   \n",
       "3996  1303190740185550848  2020-09-08 04:37:39      joealexpitt   \n",
       "3997  1303190740164644864  2020-09-08 04:37:39  TeresaASchmidt1   \n",
       "3998  1303190740130869248  2020-09-08 04:37:39  jeonginsmilkbag   \n",
       "3999  1303190740009279488  2020-09-08 04:37:39     artidesai555   \n",
       "\n",
       "                                                   Text  Polarity  \n",
       "3995  @ClausPelz eant him full naked 1🥰😘😍🤩🤩🤩🤩🤩🤩🤩pls 🍆🍆🍑         1  \n",
       "3996  RT @onhi: Happy Tuesday! 😊\\n\\n https://t.co/u0...         1  \n",
       "3997  @tyler_hynes prime example of ur incredible ta...         1  \n",
       "3998  tw sexual assault.       pls if you are not de...         1  \n",
       "3999                         @ramesh_ydp Good morning 😊         1  "
      ]
     },
     "execution_count": 6,
     "metadata": {},
     "output_type": "execute_result"
    }
   ],
   "source": [
    "df.tail()"
   ]
  },
  {
   "cell_type": "code",
   "execution_count": 7,
   "metadata": {},
   "outputs": [
    {
     "data": {
      "text/html": [
       "<div>\n",
       "<style scoped>\n",
       "    .dataframe tbody tr th:only-of-type {\n",
       "        vertical-align: middle;\n",
       "    }\n",
       "\n",
       "    .dataframe tbody tr th {\n",
       "        vertical-align: top;\n",
       "    }\n",
       "\n",
       "    .dataframe thead th {\n",
       "        text-align: right;\n",
       "    }\n",
       "</style>\n",
       "<table border=\"1\" class=\"dataframe\">\n",
       "  <thead>\n",
       "    <tr style=\"text-align: right;\">\n",
       "      <th></th>\n",
       "      <th>ID</th>\n",
       "      <th>Timestamp</th>\n",
       "      <th>User</th>\n",
       "      <th>Text</th>\n",
       "      <th>Polarity</th>\n",
       "    </tr>\n",
       "  </thead>\n",
       "  <tbody>\n",
       "  </tbody>\n",
       "</table>\n",
       "</div>"
      ],
      "text/plain": [
       "Empty DataFrame\n",
       "Columns: [ID, Timestamp, User, Text, Polarity]\n",
       "Index: []"
      ]
     },
     "execution_count": 7,
     "metadata": {},
     "output_type": "execute_result"
    }
   ],
   "source": [
    "ids = df[\"ID\"]\n",
    "df[ids.isin(ids[ids.duplicated()])]"
   ]
  },
  {
   "cell_type": "code",
   "execution_count": 8,
   "metadata": {},
   "outputs": [
    {
     "data": {
      "text/html": [
       "<div>\n",
       "<style scoped>\n",
       "    .dataframe tbody tr th:only-of-type {\n",
       "        vertical-align: middle;\n",
       "    }\n",
       "\n",
       "    .dataframe tbody tr th {\n",
       "        vertical-align: top;\n",
       "    }\n",
       "\n",
       "    .dataframe thead th {\n",
       "        text-align: right;\n",
       "    }\n",
       "</style>\n",
       "<table border=\"1\" class=\"dataframe\">\n",
       "  <thead>\n",
       "    <tr style=\"text-align: right;\">\n",
       "      <th></th>\n",
       "      <th>ID</th>\n",
       "      <th>Timestamp</th>\n",
       "      <th>User</th>\n",
       "      <th>Text</th>\n",
       "      <th>Polarity</th>\n",
       "    </tr>\n",
       "  </thead>\n",
       "  <tbody>\n",
       "  </tbody>\n",
       "</table>\n",
       "</div>"
      ],
      "text/plain": [
       "Empty DataFrame\n",
       "Columns: [ID, Timestamp, User, Text, Polarity]\n",
       "Index: []"
      ]
     },
     "execution_count": 8,
     "metadata": {},
     "output_type": "execute_result"
    }
   ],
   "source": [
    "df[df.duplicated(keep=False)]"
   ]
  },
  {
   "cell_type": "markdown",
   "metadata": {},
   "source": [
    "No dupes? Just collect more then. Implement deduplication as needed."
   ]
  },
  {
   "cell_type": "markdown",
   "metadata": {},
   "source": [
    "## Cleanup"
   ]
  },
  {
   "cell_type": "code",
   "execution_count": 9,
   "metadata": {},
   "outputs": [],
   "source": [
    "# modified and improved version\n",
    "def cleanup_tweet(tweet):\n",
    "\n",
    "    # make all lower case\n",
    "    tweet = tweet.lower()\n",
    "\n",
    "    # remove URLs\n",
    "    # URL_pattern = r'\\w+:\\/{2}[\\d\\w-]+(\\.[\\d\\w-]+)*(?:(?:\\/[^\\s/]*))*'\n",
    "    # tweet = re.sub(URL_pattern, '', tweet, flags=re.MULTILINE)\n",
    "    # better, albeit slower, version\n",
    "    urls = list(set(url_extractor.find_urls(tweet)))\n",
    "    if len(urls) > 0:\n",
    "        for url in urls:\n",
    "            tweet = tweet.replace(url, \"\")\n",
    "\n",
    "    # unescape HTML entities like &quot\n",
    "    tweet = unescape(tweet)\n",
    "    \n",
    "    # remove user references (including username) or hashtags, etc.     \n",
    "    pattern = r'\\@\\w+|\\#|\\¥|\\â|\\«|\\»|\\Ñ|\\Ð|\\¼|\\½|\\¾|\\!|\\?|\\¿\\\n",
    "                |\\x82|\\x83|\\x84|\\x85|\\x86|\\x87|\\x88|\\x89|\\\n",
    "                |\\x8a|\\x8b|\\x8c|\\x8d|\\x8e|\\°|\\µ|\\´|\\º|\\¹|\\³'\n",
    "    \n",
    "    tweet = re.sub(pattern, '', tweet)\n",
    "\n",
    "    # remove punctuations\n",
    "    tweet = tweet.translate(str.maketrans('', '', string.punctuation))\n",
    "    \n",
    "    # remove emojis\n",
    "    tweet = re.sub(r'[^\\x00-\\x7F]+', '', tweet).strip()\n",
    "    \n",
    "    # final test, if after utf-8 encoding it's not ascii decodable, discard\n",
    "    def is_ascii(text):\n",
    "        try:\n",
    "            text.encode(encoding='utf-8').decode('ascii')\n",
    "        except UnicodeDecodeError:\n",
    "            return False\n",
    "        else:\n",
    "            return True\n",
    "    \n",
    "    if is_ascii(tweet) == False:\n",
    "        return \" \"\n",
    "    else:\n",
    "        pass\n",
    "    \n",
    "    # remove stopwords\n",
    "    # NLTK's set(stopwords.words('english')) removes too many words\n",
    "    # using list of 25 semantically non-selective words (Reuters-RCV1 dataset)\n",
    "    stop_words = ['a','an','and','are','as','at','be','by','for','from',\n",
    "                  'has','he','in','is','it','its','of','on','that','the',\n",
    "                  'to','was','were','will','with','rt'] # plus rt for retweet\n",
    "\n",
    "    tweet_tokens = word_tokenize(tweet)\n",
    "    filtered_words = [w for w in tweet_tokens if not w in stop_words]\n",
    "\n",
    "    ps = PorterStemmer()\n",
    "    stemmed_words = [ps.stem(w) for w in filtered_words]\n",
    "\n",
    "    return \" \".join(stemmed_words)"
   ]
  },
  {
   "cell_type": "code",
   "execution_count": null,
   "metadata": {},
   "outputs": [],
   "source": [
    "df"
   ]
  },
  {
   "cell_type": "code",
   "execution_count": 19,
   "metadata": {},
   "outputs": [],
   "source": [
    "tweets_text = df.loc[3995:3999,'Text']"
   ]
  },
  {
   "cell_type": "code",
   "execution_count": 23,
   "metadata": {},
   "outputs": [
    {
     "data": {
      "text/plain": [
       "3995    @ClausPelz eant him full naked 1🥰😘😍🤩🤩🤩🤩🤩🤩🤩pls 🍆🍆🍑\n",
       "3996    RT @onhi: Happy Tuesday! 😊\\n\\n https://t.co/u0...\n",
       "3997    @tyler_hynes prime example of ur incredible ta...\n",
       "3998    tw sexual assault.       pls if you are not de...\n",
       "3999                           @ramesh_ydp Good morning 😊\n",
       "Name: Text, dtype: object"
      ]
     },
     "execution_count": 23,
     "metadata": {},
     "output_type": "execute_result"
    }
   ],
   "source": [
    "tweets_text"
   ]
  },
  {
   "cell_type": "code",
   "execution_count": 21,
   "metadata": {},
   "outputs": [
    {
     "data": {
      "text/plain": [
       "['eant him full nake 1pl',\n",
       " 'happi tuesday',\n",
       " 'prime exampl ur incred talentcreepi bad curnow hotwiredinsurburbia luvurtal',\n",
       " 'tw sexual assault pl if you not deal thi okay then take break ili all i off w',\n",
       " 'good morn']"
      ]
     },
     "execution_count": 21,
     "metadata": {},
     "output_type": "execute_result"
    }
   ],
   "source": [
    "url_extractor = urlextract.URLExtract()\n",
    "cleaned_tweets_text = [cleanup_tweet(tweet) for tweet in tweets_text]\n",
    "cleaned_tweets_text"
   ]
  },
  {
   "cell_type": "code",
   "execution_count": null,
   "metadata": {},
   "outputs": [],
   "source": []
  }
 ],
 "metadata": {
  "kernelspec": {
   "display_name": "Python 3",
   "language": "python",
   "name": "python3"
  },
  "language_info": {
   "codemirror_mode": {
    "name": "ipython",
    "version": 3
   },
   "file_extension": ".py",
   "mimetype": "text/x-python",
   "name": "python",
   "nbconvert_exporter": "python",
   "pygments_lexer": "ipython3",
   "version": "3.7.3"
  }
 },
 "nbformat": 4,
 "nbformat_minor": 4
}
