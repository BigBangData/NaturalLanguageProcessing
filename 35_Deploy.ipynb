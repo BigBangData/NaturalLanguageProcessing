{
 "cells": [
  {
   "cell_type": "markdown",
   "metadata": {},
   "source": [
    "# Model Deployment\n",
    "\n",
    "---\n",
    "\n",
    "We finally arrive at some way to deploy our model. \n",
    "\n",
    "Tutorial on [Towards Data Science](https://towardsdatascience.com/build-deploy-a-spam-classifier-app-on-heroku-cloud-in-10-minutes-f9347b27ff72) by [Chayan Kathuria](https://medium.com/@chayankathuria).\n"
   ]
  },
  {
   "cell_type": "markdown",
   "metadata": {},
   "source": [
    "## Setup"
   ]
  },
  {
   "cell_type": "code",
   "execution_count": 3,
   "metadata": {},
   "outputs": [],
   "source": [
    "import os\n",
    "import time\n",
    "import joblib \n",
    "import numpy as np\n",
    "\n",
    "import custom.deploy_models as dp"
   ]
  },
  {
   "cell_type": "code",
   "execution_count": 4,
   "metadata": {},
   "outputs": [],
   "source": [
    "#user_input = \"You've earned 10 FREE badges - redeem coupon and subscribe NOW!\"\n",
    "#new_data = np.array([user_input])"
   ]
  },
  {
   "cell_type": "code",
   "execution_count": 5,
   "metadata": {},
   "outputs": [],
   "source": [
    "from flask import Flask, render_template, request\n",
    "\n",
    "app = Flask(__name__) \n",
    "\n",
    "# routes app to task below when URL is called\n",
    "@app.route('/')\n",
    "def home():\n",
    "    # simply return the rendered homepage\n",
    "    return render_template('home.html')"
   ]
  },
  {
   "cell_type": "code",
   "execution_count": null,
   "metadata": {},
   "outputs": [],
   "source": [
    "@app.route('/predict',methods=['POST'])\n",
    "def predict_newdata(): \n",
    "\n",
    "    XGboost_mod1_PATH = os.path.join(\"data\", \n",
    "                                     \"5_deployment\", \n",
    "                                     \"XGboost_mod1.joblib\")\n",
    "    \n",
    "    with open(XGboost_mod1_PATH, 'rb') as f:\n",
    "        XGboost_mod1 = joblib.load(f)\n",
    "\n",
    "    if request.method == 'POST': \n",
    "\n",
    "        message = request.form['message'] \n",
    "        new_data = np.array([message])\n",
    "    \n",
    "        X_test_processed = dp.transform_newdata(new_data)\n",
    "        \n",
    "        y_pred = XGboost_mod1.predict(X_test_processed) \n",
    "\n",
    "    return render_template('result.html',\n",
    "                           prediction = y_pred)   "
   ]
  },
  {
   "cell_type": "code",
   "execution_count": 8,
   "metadata": {},
   "outputs": [],
   "source": [
    "#if __name__ == '__main__':\n",
    "#    app.run(debug=True)"
   ]
  },
  {
   "cell_type": "markdown",
   "metadata": {},
   "source": [
    "---"
   ]
  }
 ],
 "metadata": {
  "kernelspec": {
   "display_name": "Python 3",
   "language": "python",
   "name": "python3"
  },
  "language_info": {
   "codemirror_mode": {
    "name": "ipython",
    "version": 3
   },
   "file_extension": ".py",
   "mimetype": "text/x-python",
   "name": "python",
   "nbconvert_exporter": "python",
   "pygments_lexer": "ipython3",
   "version": "3.9.1"
  }
 },
 "nbformat": 4,
 "nbformat_minor": 4
}
