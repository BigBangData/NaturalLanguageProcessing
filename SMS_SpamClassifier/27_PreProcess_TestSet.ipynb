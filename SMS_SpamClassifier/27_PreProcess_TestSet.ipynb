{
 "cells": [
  {
   "cell_type": "markdown",
   "metadata": {},
   "source": [
    "# Pre-process Test Set 2\n",
    "\n",
    "---\n",
    "\n",
    "\n",
    "Pre-processing the test set in an NLP project is not trivial. We cannot use the same pipeline for the training and test sets. Rather, at each step, we need to be mindful about each of the following steps:\n",
    "\n",
    "1. N-gram vocabulary\n",
    "2. Tfidf representation\n",
    "3. SVD projection\n",
    "4. Cosine Similarities\n",
    "\n",
    "__N-gram vocabulary__\n",
    "\n",
    "While pre-processing the training set we created an N-gram vocabulary, which in essence our feature space. If we apply the same pipeline to the test set we'll be training a completely new set of features - yet we need the same features, in the same order, else our model will not understand what to do and predictions will be all over the place.\n",
    "\n",
    "In other words, we keep the overlapping vocabulary between traiing and test sets, and discard any new vocabulary. Also, we keep the training vocabulary not present in the test set, just as empty features, so that we can keep the same structure. \n",
    "\n",
    "One ramification of all this is that it makes sense why NLP projects benefit from tons of data: the greater the training and test sets, the greater the overlap in tokens.\n",
    "\n",
    "__Tfidf Representation__\n",
    "\n",
    "We also created a tfidf representation, where idf stands for the 'inverse document frequency'... *in the training corpus*. The idf of the test corpus is not used. In a way, it's as if the learning process starts during pre-processing and before what's commonly referred to as the modeling phase, by learning the vocabulary and idf of a training corpus.\n",
    "\n",
    "\n",
    "__SVD projection__\n",
    "\n",
    "We also need to project each test document $d$ (or rather, the entire matrix of documents $D$) into the same latent semantic space as the training data. For a projected document $\\hat{d}$, this is accomplished by using the singular values $\\Sigma$ and the $U$ matrix learned during training, and applying the following formula: $\\hat{d}=\\Sigma^{-1}U^Td$. \n",
    "\n",
    "Note how the same formula can be applied for the training data - demonstrated below.\n",
    "\n",
    "__Cosine Similarities__\n",
    "\n",
    "In a previous attempt I made a simple yet consequential mistake - I forgot this project is a simulation of reality in which I happened to have the test labels... in essence, we cannot calculate spam similarities using test data because we do not know which SMS messages are spam: *that's what we're trying to predict!*\n",
    "\n",
    "The fix is below: to add the training svd to the test svd, but only the spam indices, and calculate the square matrix of all similarities based on both, then use the spam columns to calculate mean spam similarities."
   ]
  },
  {
   "cell_type": "markdown",
   "metadata": {},
   "source": [
    "### Setup"
   ]
  },
  {
   "cell_type": "code",
   "execution_count": 1,
   "metadata": {},
   "outputs": [
    {
     "name": "stdout",
     "output_type": "stream",
     "text": [
      "Revised on: 2021-02-20\n"
     ]
    }
   ],
   "source": [
    "import os\n",
    "import sys\n",
    "import time\n",
    "import json\n",
    "\n",
    "import numpy as np\n",
    "import pandas as pd\n",
    "\n",
    "from datetime import datetime\n",
    "\n",
    "np.set_printoptions(threshold=sys.maxsize)\n",
    "\n",
    "start_ = time.time()\n",
    "dt_object = datetime.fromtimestamp(start_)\n",
    "day, T = str(dt_object).split('.')[0].split(' ')\n",
    "print('Revised on: ' + day)"
   ]
  },
  {
   "cell_type": "markdown",
   "metadata": {},
   "source": [
    "### Load Data"
   ]
  },
  {
   "cell_type": "code",
   "execution_count": 2,
   "metadata": {},
   "outputs": [],
   "source": [
    "import urlextract\n",
    "from nltk.stem import WordNetLemmatizer\n",
    "\n",
    "def load_data(data):\n",
    "    raw_path = os.path.join(\"data\",\"1_raw\")\n",
    "    filename = ''.join([data, \".csv\"])\n",
    "    out_dfm = pd.read_csv(os.path.join(raw_path, filename))\n",
    "    out_arr = np.array(out_dfm.iloc[:,0].ravel())\n",
    "    return out_arr\n",
    "\n",
    "X_train = load_data(\"X_train\") \n",
    "y_train = load_data(\"y_train\") \n",
    "X_test = load_data(\"X_test\") \n",
    "y_test = load_data(\"y_test\") "
   ]
  },
  {
   "cell_type": "code",
   "execution_count": 3,
   "metadata": {},
   "outputs": [],
   "source": [
    "def make_int(y_array):\n",
    "    y = y_array.copy()\n",
    "    y[y=='ham'] = 0\n",
    "    y[y=='spam'] = 1\n",
    "    y = y.astype('int')\n",
    "    return y\n",
    "\n",
    "y_test_int = make_int(y_test)\n",
    "y_train_int = make_int(y_train)\n",
    "\n",
    "# load contractions map for custom cleanup\n",
    "with open(\"contractions_map.json\") as f:\n",
    "    contractions_map = json.load(f)"
   ]
  },
  {
   "cell_type": "markdown",
   "metadata": {},
   "source": [
    "###  Define Pipeline"
   ]
  },
  {
   "cell_type": "code",
   "execution_count": 4,
   "metadata": {},
   "outputs": [],
   "source": [
    "import custom.clean_preprocess as cp\n",
    "from sklearn.pipeline import Pipeline\n",
    "from sklearn.feature_extraction.text import TfidfTransformer\n",
    "\n",
    "pipe = Pipeline([('counter', cp.DocumentToNgramCounterTransformer(n_grams=3)),\n",
    "                 ('bot', cp.WordCounterToVectorTransformer(vocabulary_size=2000)), # careful\n",
    "                 ('tfidf', TfidfTransformer(sublinear_tf=True))]) # careful"
   ]
  },
  {
   "cell_type": "markdown",
   "metadata": {},
   "source": [
    "### Counters & Transformer\n",
    "\n",
    "I create train and test counters but only need to fit the transformer on the training corpus to get the same 2,000 features in both data sets:"
   ]
  },
  {
   "cell_type": "code",
   "execution_count": 5,
   "metadata": {},
   "outputs": [],
   "source": [
    "# counters\n",
    "X_train_counter = pipe['counter'].fit_transform(X_train) \n",
    "X_test_counter = pipe['counter'].fit_transform(X_test) \n",
    "\n",
    "X_train_transformer = pipe['bot'].fit(X_train_counter) # only on the training counter"
   ]
  },
  {
   "cell_type": "markdown",
   "metadata": {},
   "source": [
    "Here are the first 11 words in the vocabulary:"
   ]
  },
  {
   "cell_type": "code",
   "execution_count": 6,
   "metadata": {},
   "outputs": [
    {
     "name": "stdout",
     "output_type": "stream",
     "text": [
      "['NUM', 'i', 'you', 'u', 'me', 'not', 'my', 'your', 'am', 'have', 'call']\n"
     ]
    }
   ],
   "source": [
    "first_11_vocab = [w for (ct, w) in enumerate(X_train_transformer.vocabulary_) if ct < 11]\n",
    "print(first_11_vocab)"
   ]
  },
  {
   "cell_type": "markdown",
   "metadata": {},
   "source": [
    "### Bag-of-upto-Trigrams"
   ]
  },
  {
   "cell_type": "code",
   "execution_count": 7,
   "metadata": {},
   "outputs": [],
   "source": [
    "# BoTs\n",
    "X_train_bot = X_train_transformer.transform(X_train_counter)\n",
    "X_test_bot = X_train_transformer.transform(X_test_counter) # same transformer"
   ]
  },
  {
   "cell_type": "code",
   "execution_count": 8,
   "metadata": {},
   "outputs": [
    {
     "data": {
      "text/plain": [
       "(<3900x2001 sparse matrix of type '<class 'numpy.intc'>'\n",
       " \twith 59102 stored elements in Compressed Sparse Row format>,\n",
       " <1672x2001 sparse matrix of type '<class 'numpy.intc'>'\n",
       " \twith 24657 stored elements in Compressed Sparse Row format>)"
      ]
     },
     "execution_count": 8,
     "metadata": {},
     "output_type": "execute_result"
    }
   ],
   "source": [
    "# sanity checks\n",
    "X_train_bot, X_test_bot"
   ]
  },
  {
   "cell_type": "markdown",
   "metadata": {},
   "source": [
    "Both Bag of Trigrams have the same vocabulary.\n",
    "\n",
    "__Train BoT__"
   ]
  },
  {
   "cell_type": "code",
   "execution_count": 9,
   "metadata": {},
   "outputs": [
    {
     "data": {
      "text/html": [
       "<div>\n",
       "<style scoped>\n",
       "    .dataframe tbody tr th:only-of-type {\n",
       "        vertical-align: middle;\n",
       "    }\n",
       "\n",
       "    .dataframe tbody tr th {\n",
       "        vertical-align: top;\n",
       "    }\n",
       "\n",
       "    .dataframe thead th {\n",
       "        text-align: right;\n",
       "    }\n",
       "</style>\n",
       "<table border=\"1\" class=\"dataframe\">\n",
       "  <thead>\n",
       "    <tr style=\"text-align: right;\">\n",
       "      <th></th>\n",
       "      <th>unknown</th>\n",
       "      <th>NUM</th>\n",
       "      <th>i</th>\n",
       "      <th>you</th>\n",
       "      <th>u</th>\n",
       "      <th>me</th>\n",
       "      <th>not</th>\n",
       "      <th>my</th>\n",
       "      <th>your</th>\n",
       "      <th>am</th>\n",
       "      <th>have</th>\n",
       "      <th>call</th>\n",
       "    </tr>\n",
       "  </thead>\n",
       "  <tbody>\n",
       "    <tr>\n",
       "      <th>0</th>\n",
       "      <td>16</td>\n",
       "      <td>0</td>\n",
       "      <td>0</td>\n",
       "      <td>0</td>\n",
       "      <td>0</td>\n",
       "      <td>0</td>\n",
       "      <td>0</td>\n",
       "      <td>0</td>\n",
       "      <td>0</td>\n",
       "      <td>0</td>\n",
       "      <td>0</td>\n",
       "      <td>0</td>\n",
       "    </tr>\n",
       "    <tr>\n",
       "      <th>1</th>\n",
       "      <td>60</td>\n",
       "      <td>7</td>\n",
       "      <td>0</td>\n",
       "      <td>0</td>\n",
       "      <td>1</td>\n",
       "      <td>1</td>\n",
       "      <td>1</td>\n",
       "      <td>0</td>\n",
       "      <td>0</td>\n",
       "      <td>0</td>\n",
       "      <td>0</td>\n",
       "      <td>1</td>\n",
       "    </tr>\n",
       "    <tr>\n",
       "      <th>2</th>\n",
       "      <td>24</td>\n",
       "      <td>0</td>\n",
       "      <td>0</td>\n",
       "      <td>1</td>\n",
       "      <td>0</td>\n",
       "      <td>0</td>\n",
       "      <td>0</td>\n",
       "      <td>0</td>\n",
       "      <td>1</td>\n",
       "      <td>0</td>\n",
       "      <td>0</td>\n",
       "      <td>0</td>\n",
       "    </tr>\n",
       "    <tr>\n",
       "      <th>3</th>\n",
       "      <td>13</td>\n",
       "      <td>0</td>\n",
       "      <td>0</td>\n",
       "      <td>0</td>\n",
       "      <td>0</td>\n",
       "      <td>0</td>\n",
       "      <td>0</td>\n",
       "      <td>0</td>\n",
       "      <td>0</td>\n",
       "      <td>0</td>\n",
       "      <td>0</td>\n",
       "      <td>0</td>\n",
       "    </tr>\n",
       "    <tr>\n",
       "      <th>4</th>\n",
       "      <td>21</td>\n",
       "      <td>1</td>\n",
       "      <td>0</td>\n",
       "      <td>0</td>\n",
       "      <td>0</td>\n",
       "      <td>0</td>\n",
       "      <td>0</td>\n",
       "      <td>0</td>\n",
       "      <td>0</td>\n",
       "      <td>0</td>\n",
       "      <td>0</td>\n",
       "      <td>0</td>\n",
       "    </tr>\n",
       "    <tr>\n",
       "      <th>5</th>\n",
       "      <td>23</td>\n",
       "      <td>0</td>\n",
       "      <td>0</td>\n",
       "      <td>0</td>\n",
       "      <td>0</td>\n",
       "      <td>0</td>\n",
       "      <td>0</td>\n",
       "      <td>1</td>\n",
       "      <td>1</td>\n",
       "      <td>0</td>\n",
       "      <td>0</td>\n",
       "      <td>0</td>\n",
       "    </tr>\n",
       "  </tbody>\n",
       "</table>\n",
       "</div>"
      ],
      "text/plain": [
       "   unknown  NUM  i  you  u  me  not  my  your  am  have  call\n",
       "0       16    0  0    0  0   0    0   0     0   0     0     0\n",
       "1       60    7  0    0  1   1    1   0     0   0     0     1\n",
       "2       24    0  0    1  0   0    0   0     1   0     0     0\n",
       "3       13    0  0    0  0   0    0   0     0   0     0     0\n",
       "4       21    1  0    0  0   0    0   0     0   0     0     0\n",
       "5       23    0  0    0  0   0    0   1     1   0     0     0"
      ]
     },
     "execution_count": 9,
     "metadata": {},
     "output_type": "execute_result"
    }
   ],
   "source": [
    "# train BoT\n",
    "pd.DataFrame(X_train_bot[0:6, 0:12].toarray() \n",
    "            , columns=['unknown'] + first_11_vocab)"
   ]
  },
  {
   "cell_type": "code",
   "execution_count": 10,
   "metadata": {},
   "outputs": [
    {
     "name": "stdout",
     "output_type": "stream",
     "text": [
      "Single line with a big meaning::::: \\Miss anything 4 ur \\\"Best Life\\\" but\n"
     ]
    }
   ],
   "source": [
    "print(X_train[4])"
   ]
  },
  {
   "cell_type": "code",
   "execution_count": 11,
   "metadata": {},
   "outputs": [
    {
     "name": "stdout",
     "output_type": "stream",
     "text": [
      "Counter({'single': 1, 'line': 1, 'big': 1, 'meaning': 1, 'miss': 1, 'anything': 1, 'NUM': 1, 'ur': 1, 'best': 1, 'life': 1, 'but': 1, 'single_line': 1, 'line_with': 1, 'with_a': 1, 'a_big': 1, 'big_meaning': 1, 'meaning_miss': 1, 'miss_anything': 1, 'anything_NUM': 1, 'NUM_ur': 1, 'ur_best': 1, 'best_life': 1, 'life_but': 1, 'single_line_with': 1, 'line_with_a': 1, 'with_a_big': 1, 'a_big_meaning': 1, 'big_meaning_miss': 1, 'meaning_miss_anything': 1, 'miss_anything_NUM': 1, 'anything_NUM_ur': 1, 'NUM_ur_best': 1, 'ur_best_life': 1, 'best_life_but': 1})\n"
     ]
    }
   ],
   "source": [
    "print(X_train_counter[4])"
   ]
  },
  {
   "cell_type": "markdown",
   "metadata": {},
   "source": [
    "__Test BoT__"
   ]
  },
  {
   "cell_type": "code",
   "execution_count": 12,
   "metadata": {},
   "outputs": [
    {
     "data": {
      "text/html": [
       "<div>\n",
       "<style scoped>\n",
       "    .dataframe tbody tr th:only-of-type {\n",
       "        vertical-align: middle;\n",
       "    }\n",
       "\n",
       "    .dataframe tbody tr th {\n",
       "        vertical-align: top;\n",
       "    }\n",
       "\n",
       "    .dataframe thead th {\n",
       "        text-align: right;\n",
       "    }\n",
       "</style>\n",
       "<table border=\"1\" class=\"dataframe\">\n",
       "  <thead>\n",
       "    <tr style=\"text-align: right;\">\n",
       "      <th></th>\n",
       "      <th>unknown</th>\n",
       "      <th>NUM</th>\n",
       "      <th>i</th>\n",
       "      <th>you</th>\n",
       "      <th>u</th>\n",
       "      <th>me</th>\n",
       "      <th>not</th>\n",
       "      <th>my</th>\n",
       "      <th>your</th>\n",
       "      <th>am</th>\n",
       "      <th>have</th>\n",
       "      <th>call</th>\n",
       "    </tr>\n",
       "  </thead>\n",
       "  <tbody>\n",
       "    <tr>\n",
       "      <th>0</th>\n",
       "      <td>30</td>\n",
       "      <td>0</td>\n",
       "      <td>1</td>\n",
       "      <td>2</td>\n",
       "      <td>0</td>\n",
       "      <td>0</td>\n",
       "      <td>0</td>\n",
       "      <td>1</td>\n",
       "      <td>0</td>\n",
       "      <td>0</td>\n",
       "      <td>0</td>\n",
       "      <td>0</td>\n",
       "    </tr>\n",
       "    <tr>\n",
       "      <th>1</th>\n",
       "      <td>26</td>\n",
       "      <td>0</td>\n",
       "      <td>1</td>\n",
       "      <td>1</td>\n",
       "      <td>0</td>\n",
       "      <td>0</td>\n",
       "      <td>0</td>\n",
       "      <td>0</td>\n",
       "      <td>0</td>\n",
       "      <td>0</td>\n",
       "      <td>0</td>\n",
       "      <td>0</td>\n",
       "    </tr>\n",
       "    <tr>\n",
       "      <th>2</th>\n",
       "      <td>15</td>\n",
       "      <td>0</td>\n",
       "      <td>0</td>\n",
       "      <td>0</td>\n",
       "      <td>0</td>\n",
       "      <td>0</td>\n",
       "      <td>0</td>\n",
       "      <td>0</td>\n",
       "      <td>0</td>\n",
       "      <td>0</td>\n",
       "      <td>0</td>\n",
       "      <td>0</td>\n",
       "    </tr>\n",
       "    <tr>\n",
       "      <th>3</th>\n",
       "      <td>83</td>\n",
       "      <td>0</td>\n",
       "      <td>1</td>\n",
       "      <td>3</td>\n",
       "      <td>0</td>\n",
       "      <td>2</td>\n",
       "      <td>2</td>\n",
       "      <td>2</td>\n",
       "      <td>2</td>\n",
       "      <td>0</td>\n",
       "      <td>1</td>\n",
       "      <td>0</td>\n",
       "    </tr>\n",
       "    <tr>\n",
       "      <th>4</th>\n",
       "      <td>6</td>\n",
       "      <td>0</td>\n",
       "      <td>0</td>\n",
       "      <td>0</td>\n",
       "      <td>0</td>\n",
       "      <td>0</td>\n",
       "      <td>0</td>\n",
       "      <td>0</td>\n",
       "      <td>0</td>\n",
       "      <td>0</td>\n",
       "      <td>0</td>\n",
       "      <td>0</td>\n",
       "    </tr>\n",
       "    <tr>\n",
       "      <th>5</th>\n",
       "      <td>8</td>\n",
       "      <td>0</td>\n",
       "      <td>0</td>\n",
       "      <td>0</td>\n",
       "      <td>0</td>\n",
       "      <td>0</td>\n",
       "      <td>0</td>\n",
       "      <td>0</td>\n",
       "      <td>0</td>\n",
       "      <td>0</td>\n",
       "      <td>0</td>\n",
       "      <td>0</td>\n",
       "    </tr>\n",
       "  </tbody>\n",
       "</table>\n",
       "</div>"
      ],
      "text/plain": [
       "   unknown  NUM  i  you  u  me  not  my  your  am  have  call\n",
       "0       30    0  1    2  0   0    0   1     0   0     0     0\n",
       "1       26    0  1    1  0   0    0   0     0   0     0     0\n",
       "2       15    0  0    0  0   0    0   0     0   0     0     0\n",
       "3       83    0  1    3  0   2    2   2     2   0     1     0\n",
       "4        6    0  0    0  0   0    0   0     0   0     0     0\n",
       "5        8    0  0    0  0   0    0   0     0   0     0     0"
      ]
     },
     "execution_count": 12,
     "metadata": {},
     "output_type": "execute_result"
    }
   ],
   "source": [
    "# test BoT\n",
    "pd.DataFrame(X_test_bot[0:6, 0:12].toarray() \n",
    "            , columns=['unknown'] + first_11_vocab)"
   ]
  },
  {
   "cell_type": "code",
   "execution_count": 13,
   "metadata": {},
   "outputs": [
    {
     "name": "stdout",
     "output_type": "stream",
     "text": [
      "Any chance you might have had with me evaporated as soon as you violated my privacy by stealing my phone number from your employer's paperwork. Not cool at all. Please do not contact me again or I will report you to your supervisor.\n"
     ]
    }
   ],
   "source": [
    "print(X_test[3])"
   ]
  },
  {
   "cell_type": "code",
   "execution_count": 14,
   "metadata": {},
   "outputs": [
    {
     "name": "stdout",
     "output_type": "stream",
     "text": [
      "Counter({'you': 3, 'me': 2, 'my': 2, 'your': 2, 'not': 2, 'any': 1, 'chance': 1, 'might': 1, 'have': 1, 'had': 1, 'evaporated': 1, 'soon': 1, 'violated': 1, 'privacy': 1, 'stealing': 1, 'phone': 1, 'number': 1, 'employer': 1, 'paperwork': 1, 'cool': 1, 'all': 1, 'please': 1, 'do': 1, 'contact': 1, 'again': 1, 'or': 1, 'i': 1, 'report': 1, 'supervisor': 1, 'any_chance': 1, 'chance_you': 1, 'you_might': 1, 'might_have': 1, 'have_had': 1, 'had_with': 1, 'with_me': 1, 'me_evaporated': 1, 'evaporated_as': 1, 'as_soon': 1, 'soon_as': 1, 'as_you': 1, 'you_violated': 1, 'violated_my': 1, 'my_privacy': 1, 'privacy_by': 1, 'by_stealing': 1, 'stealing_my': 1, 'my_phone': 1, 'phone_number': 1, 'number_from': 1, 'from_your': 1, 'your_employers': 1, 'employers_paperwork': 1, 'paperwork_not': 1, 'not_cool': 1, 'cool_at': 1, 'at_all': 1, 'all_please': 1, 'please_do': 1, 'do_not': 1, 'not_contact': 1, 'contact_me': 1, 'me_again': 1, 'again_or': 1, 'or_i': 1, 'i_will': 1, 'will_report': 1, 'report_you': 1, 'you_to': 1, 'to_your': 1, 'your_supervisor': 1, 'any_chance_you': 1, 'chance_you_might': 1, 'you_might_have': 1, 'might_have_had': 1, 'have_had_with': 1, 'had_with_me': 1, 'with_me_evaporated': 1, 'me_evaporated_as': 1, 'evaporated_as_soon': 1, 'as_soon_as': 1, 'soon_as_you': 1, 'as_you_violated': 1, 'you_violated_my': 1, 'violated_my_privacy': 1, 'my_privacy_by': 1, 'privacy_by_stealing': 1, 'by_stealing_my': 1, 'stealing_my_phone': 1, 'my_phone_number': 1, 'phone_number_from': 1, 'number_from_your': 1, 'from_your_employers': 1, 'your_employers_paperwork': 1, 'employers_paperwork_not': 1, 'paperwork_not_cool': 1, 'not_cool_at': 1, 'cool_at_all': 1, 'at_all_please': 1, 'all_please_do': 1, 'please_do_not': 1, 'do_not_contact': 1, 'not_contact_me': 1, 'contact_me_again': 1, 'me_again_or': 1, 'again_or_i': 1, 'or_i_will': 1, 'i_will_report': 1, 'will_report_you': 1, 'report_you_to': 1, 'you_to_your': 1, 'to_your_supervisor': 1})\n"
     ]
    }
   ],
   "source": [
    "print(X_test_counter[3])"
   ]
  },
  {
   "cell_type": "markdown",
   "metadata": {},
   "source": [
    "### Tfidf Representation\n",
    "\n",
    "The `fit` method of Scikit-Learn's **TfidfTransformer** learns the idf vector, from the [source](https://github.com/scikit-learn/scikit-learn/blob/95119c13a/sklearn/feature_extraction/text.py#L1314):\n",
    "\n",
    "```\n",
    "1429  def fit(self, X, y=None):\n",
    "1430       \"\"\"Learn the idf vector (global term weights).\n",
    "```\n",
    "\n",
    "We need to learn the same corpus, thus use only the training set to learn the idf vector of \"inverse document frequencies\" for that corpus. In short, we cannot use `fit_transform` but need to separate `fit` and `transform` so that we can fit on the training BoT and transform each BoT in turn:"
   ]
  },
  {
   "cell_type": "code",
   "execution_count": 15,
   "metadata": {},
   "outputs": [],
   "source": [
    "# fit\n",
    "X_train_fit = pipe['tfidf'].fit(X_train_bot)"
   ]
  },
  {
   "cell_type": "code",
   "execution_count": 16,
   "metadata": {},
   "outputs": [
    {
     "name": "stdout",
     "output_type": "stream",
     "text": [
      "[1.01576056 2.34733003 1.98691455 2.27505523 2.83444169 3.09728761\n",
      " 3.1844888  3.24796486 3.23350678 3.22161603]\n"
     ]
    }
   ],
   "source": [
    "# vector of idfs\n",
    "print(X_train_fit.idf_[:10])"
   ]
  },
  {
   "cell_type": "code",
   "execution_count": 17,
   "metadata": {},
   "outputs": [],
   "source": [
    "# transform\n",
    "X_train_tfidf = X_train_fit.transform(X_train_bot)\n",
    "X_test_tfidf = X_train_fit.transform(X_test_bot)"
   ]
  },
  {
   "cell_type": "code",
   "execution_count": 18,
   "metadata": {},
   "outputs": [
    {
     "data": {
      "text/plain": [
       "(<3900x2001 sparse matrix of type '<class 'numpy.float64'>'\n",
       " \twith 59102 stored elements in Compressed Sparse Row format>,\n",
       " <1672x2001 sparse matrix of type '<class 'numpy.float64'>'\n",
       " \twith 24657 stored elements in Compressed Sparse Row format>)"
      ]
     },
     "execution_count": 18,
     "metadata": {},
     "output_type": "execute_result"
    }
   ],
   "source": [
    "# sanity checks\n",
    "X_train_tfidf, X_test_tfidf"
   ]
  },
  {
   "cell_type": "markdown",
   "metadata": {},
   "source": [
    "We expect the tfidf values to be different, of course, and a higher proportion of unkonwn tokens overall - this is the first column:"
   ]
  },
  {
   "cell_type": "code",
   "execution_count": 19,
   "metadata": {},
   "outputs": [
    {
     "name": "stdout",
     "output_type": "stream",
     "text": [
      "[[0.26829044 0.         0.         0.         0.        ]\n",
      " [0.15615824 0.20867906 0.         0.         0.08553675]\n",
      " [0.20873123 0.         0.         0.11189586 0.        ]\n",
      " [0.27765099 0.         0.         0.         0.        ]\n",
      " [0.20303381 0.11600693 0.         0.         0.        ]]\n"
     ]
    }
   ],
   "source": [
    "print(X_train_tfidf[:5,:5].toarray())"
   ]
  },
  {
   "cell_type": "code",
   "execution_count": 20,
   "metadata": {},
   "outputs": [
    {
     "name": "stdout",
     "output_type": "stream",
     "text": [
      "[[0.2312656  0.         0.1027846  0.19926706 0.        ]\n",
      " [0.25345525 0.         0.11643234 0.13331726 0.        ]\n",
      " [0.66482534 0.         0.         0.         0.        ]\n",
      " [0.19054668 0.         0.06878327 0.16528286 0.        ]\n",
      " [0.35660928 0.         0.         0.         0.        ]]\n"
     ]
    }
   ],
   "source": [
    "print(X_test_tfidf[:5,:5].toarray())"
   ]
  },
  {
   "cell_type": "code",
   "execution_count": 21,
   "metadata": {},
   "outputs": [
    {
     "name": "stdout",
     "output_type": "stream",
     "text": [
      "0.2254668870816081\n",
      "0.23216159731868138\n"
     ]
    }
   ],
   "source": [
    "print(np.mean(X_train_tfidf[:,0:1].toarray()))\n",
    "print(np.mean(X_test_tfidf[:,0:1].toarray()))"
   ]
  },
  {
   "cell_type": "markdown",
   "metadata": {},
   "source": [
    "### SVD Projection\n",
    "\n",
    "I couldn't find an out-of-the-box transformer for this NLP process in Scikit-Learn - the `TruncatedSVD` seems to be focused on a dimensionality reduction represented by $U * \\Sigma$ and not by the eigenvectors or right singular values $V$. This transformer also does not return $U$ directly, so I repurposed the important bits from this class and rolled out a version that does what I want. I also ignore the random algorithm (and other arguments, like tolerance) since the arpack is more than sufficient and seemed faster anyway."
   ]
  },
  {
   "cell_type": "code",
   "execution_count": 22,
   "metadata": {},
   "outputs": [],
   "source": [
    "import numpy as np\n",
    "import scipy.sparse as sp\n",
    "from scipy.sparse.linalg import svds\n",
    "\n",
    "from sklearn.base import BaseEstimator, TransformerMixin\n",
    "from sklearn.utils import check_array\n",
    "from sklearn.utils.extmath import safe_sparse_dot, svd_flip\n",
    "from sklearn.utils.sparsefuncs import mean_variance_axis\n",
    "from sklearn.utils.validation import check_is_fitted\n",
    "\n",
    "class TruncatedSVD(TransformerMixin, BaseEstimator):\n",
    "    \"\"\"Dimensionality reduction using truncated SVD (aka LSA).\n",
    "\n",
    "    This transformer performs linear dimensionality reduction by means of\n",
    "    truncated singular value decomposition (SVD). Contrary to PCA, this\n",
    "    estimator does not center the data before computing the singular value\n",
    "    decomposition. This means it can work with sparse matrices\n",
    "    efficiently.\n",
    "    \n",
    "    Parameters\n",
    "    ----------\n",
    "    n_components : int, default=800\n",
    "        Desired dimensionality of output data.\n",
    "        Must be strictly less than the number of features.\n",
    "\n",
    "    Attributes\n",
    "    ----------\n",
    "    U_ : the eigenvectors of the term correlations\n",
    "    V_ : the eigenvalues of the document correlations\n",
    "    sigma_ : the singular values of the factorization\n",
    "    \n",
    "    explained_variance_ : \n",
    "        The variance of the training samples transformed by a projection to\n",
    "        each component.\n",
    "\n",
    "    explained_variance_ratio_ : \n",
    "        Percentage of variance explained by each of the selected components.\n",
    "    \"\"\"\n",
    "    def __init__(self, n_components=800):\n",
    "        self.n_components = n_components\n",
    "\n",
    "    def fit(self, X, y=None):\n",
    "        self.fit_transform(X)\n",
    "        return self\n",
    "\n",
    "    def fit_transform(self, X, y=None):\n",
    "        X = self._validate_data(X, accept_sparse=['csr', 'csc'],\n",
    "                                ensure_min_features=2)\n",
    "        # \"arpack\" algo\n",
    "        U, Sigma, VT = svds(X, k=self.n_components)\n",
    "        # svds doesn't abide by scipy.linalg.svd/randomized_svd\n",
    "        # conventions, so reverse its outputs.\n",
    "        Sigma = Sigma[::-1]\n",
    "        U, VT = svd_flip(U[:, ::-1], VT[::-1])\n",
    "        \n",
    "        # Store:\n",
    "        # eigenvalues (left singular values): terms\n",
    "        self.U_ = U \n",
    "        # eigenvectors (right singular values): documents\n",
    "        self.V_ = VT.T \n",
    "        # singular values\n",
    "        self.sigma_ = Sigma\n",
    "        \n",
    "        # Calculate explained variance & explained variance ratio\n",
    "        X_transformed = U * Sigma\n",
    "        self.explained_variance_ = exp_var = np.var(X_transformed, axis=0)\n",
    "        if sp.issparse(X):\n",
    "            _, full_var = mean_variance_axis(X, axis=0)\n",
    "            full_var = full_var.sum()\n",
    "        else:\n",
    "            full_var = np.var(X, axis=0).sum()\n",
    "        self.explained_variance_ratio_ = exp_var / full_var\n",
    "\n",
    "        return X_transformed"
   ]
  },
  {
   "cell_type": "code",
   "execution_count": 23,
   "metadata": {},
   "outputs": [],
   "source": [
    "# instantiate transformer\n",
    "X_train_svd_transformer = TruncatedSVD()"
   ]
  },
  {
   "cell_type": "markdown",
   "metadata": {},
   "source": [
    "Traditionally, we pass a long (skinny) term-document matrix of tfidf values: the transpose of the document-term matrix. Since I've already cut my feature space to only 2,000 terms, this will be a rather unusually fat $X$ matrix to be passed... but it'll still work.\n",
    "\n",
    "Also, we only need to fit the transformer, since all we need ($U$, $\\Sigma$, $V$) is stored already."
   ]
  },
  {
   "cell_type": "code",
   "execution_count": 24,
   "metadata": {},
   "outputs": [
    {
     "data": {
      "text/plain": [
       "TruncatedSVD()"
      ]
     },
     "execution_count": 24,
     "metadata": {},
     "output_type": "execute_result"
    }
   ],
   "source": [
    "# fit transformer\n",
    "X_train_svd_transformer.fit(X_train_tfidf.T) "
   ]
  },
  {
   "cell_type": "markdown",
   "metadata": {},
   "source": [
    "The actual $U$ matrix would be square, $n x n$ in size, but since we performed __Truncated SVD__ we get the __rank r__ $\\tilde{U}$ matrix instead (see [Eckard-Young-Minsky Theorem](https://en.wikipedia.org/wiki/Low-rank_approximation)) with size 2001 x 800 in our case. The $\\tilde{\\Sigma}$ matrix is a diagonal matrix of singular values and in our case the usually smaller $V$ matrix of right singular values is actually bigger at 3900 x 800 - `this is our SVD projection` - transposed from the SVD back to a document-term matrix."
   ]
  },
  {
   "cell_type": "code",
   "execution_count": 25,
   "metadata": {},
   "outputs": [
    {
     "name": "stdout",
     "output_type": "stream",
     "text": [
      "U_tilde: (2001, 800)\n",
      "Sig_tilde: (800,)\n",
      "V: (3900, 800)\n"
     ]
    }
   ],
   "source": [
    "# dimensions\n",
    "print(f'U_tilde: {X_train_svd_transformer.U_.shape}')\n",
    "print(f'Sig_tilde: {X_train_svd_transformer.sigma_.shape}')\n",
    "print(f'V: {X_train_svd_transformer.V_.shape}')"
   ]
  },
  {
   "cell_type": "markdown",
   "metadata": {},
   "source": [
    "### Projecting a document into the same Latent Semantic Space\n",
    "\n",
    "Remembering our formula: $\\hat{d}=\\Sigma^{-1}U^Td$ where $d$ is a document."
   ]
  },
  {
   "cell_type": "code",
   "execution_count": 26,
   "metadata": {},
   "outputs": [
    {
     "data": {
      "text/plain": [
       "((800,), (800, 2001))"
      ]
     },
     "execution_count": 26,
     "metadata": {},
     "output_type": "execute_result"
    }
   ],
   "source": [
    "sigma_inverse = 1 / X_train_svd_transformer.sigma_\n",
    "U_transpose = X_train_svd_transformer.U_.T\n",
    "\n",
    "sigma_inverse.shape, U_transpose.shape"
   ]
  },
  {
   "cell_type": "markdown",
   "metadata": {},
   "source": [
    "We can take now a document from the training set, say, the second document (which has more values upfront for checking):"
   ]
  },
  {
   "cell_type": "code",
   "execution_count": 27,
   "metadata": {},
   "outputs": [
    {
     "data": {
      "text/plain": [
       "(1, 2001)"
      ]
     },
     "execution_count": 27,
     "metadata": {},
     "output_type": "execute_result"
    }
   ],
   "source": [
    "X_train_tfidf[1,:].shape"
   ]
  },
  {
   "cell_type": "code",
   "execution_count": 28,
   "metadata": {},
   "outputs": [],
   "source": [
    "document = X_train_tfidf[1,:].toarray() "
   ]
  },
  {
   "cell_type": "markdown",
   "metadata": {},
   "source": [
    "The shape has to be of a vector however, not a 1D matrix:"
   ]
  },
  {
   "cell_type": "code",
   "execution_count": 29,
   "metadata": {},
   "outputs": [
    {
     "data": {
      "text/plain": [
       "((1, 2001), (2001,))"
      ]
     },
     "execution_count": 29,
     "metadata": {},
     "output_type": "execute_result"
    }
   ],
   "source": [
    "document.shape, document[0].shape # needs to be a vector"
   ]
  },
  {
   "cell_type": "code",
   "execution_count": 30,
   "metadata": {},
   "outputs": [
    {
     "data": {
      "text/plain": [
       "((800,), (800, 2001), (2001,))"
      ]
     },
     "execution_count": 30,
     "metadata": {},
     "output_type": "execute_result"
    }
   ],
   "source": [
    "# then we can do matrix multiplication of U.T and the document\n",
    "# and then multiply the two resulting vectors to arrive at d_hat\n",
    "sigma_inverse.shape, U_transpose.shape, document[0].shape"
   ]
  },
  {
   "cell_type": "code",
   "execution_count": 31,
   "metadata": {},
   "outputs": [],
   "source": [
    "document_hat = sigma_inverse * (U_transpose @ document[0])"
   ]
  },
  {
   "cell_type": "code",
   "execution_count": 32,
   "metadata": {},
   "outputs": [
    {
     "data": {
      "text/plain": [
       "(800,)"
      ]
     },
     "execution_count": 32,
     "metadata": {},
     "output_type": "execute_result"
    }
   ],
   "source": [
    "# projected document\n",
    "document_hat.shape"
   ]
  },
  {
   "cell_type": "markdown",
   "metadata": {},
   "source": [
    "Checking results, we see that document_hat is indeed the same as the second row of the $V$ matrix:"
   ]
  },
  {
   "cell_type": "code",
   "execution_count": 33,
   "metadata": {},
   "outputs": [
    {
     "name": "stdout",
     "output_type": "stream",
     "text": [
      "[ 0.01338424  0.03943141  0.01187748 -0.00135375  0.00052396 -0.00064846\n",
      "  0.02120684 -0.01007577  0.00536028 -0.01175093]\n"
     ]
    }
   ],
   "source": [
    "print(X_train_svd_transformer.V_[1,:10]) "
   ]
  },
  {
   "cell_type": "code",
   "execution_count": 34,
   "metadata": {},
   "outputs": [
    {
     "name": "stdout",
     "output_type": "stream",
     "text": [
      "[ 0.01338424  0.03943141  0.01187748 -0.00135375  0.00052396 -0.00064846\n",
      "  0.02120684 -0.01007577  0.00536028 -0.01175093]\n"
     ]
    }
   ],
   "source": [
    "print(document_hat[:10])"
   ]
  },
  {
   "cell_type": "code",
   "execution_count": 35,
   "metadata": {},
   "outputs": [
    {
     "data": {
      "image/png": "[encoded data removed]",
      "text/plain": [
       "<Figure size 432x288 with 1 Axes>"
      ]
     },
     "metadata": {
      "needs_background": "light"
     },
     "output_type": "display_data"
    }
   ],
   "source": [
    "import matplotlib.pyplot as plt\n",
    "\n",
    "plt.plot(X_train_svd_transformer.V_[1, :])\n",
    "plt.show()"
   ]
  },
  {
   "cell_type": "code",
   "execution_count": 36,
   "metadata": {},
   "outputs": [
    {
     "data": {
      "image/png": "[encoded data removed]",
      "text/plain": [
       "<Figure size 432x288 with 1 Axes>"
      ]
     },
     "metadata": {
      "needs_background": "light"
     },
     "output_type": "display_data"
    }
   ],
   "source": [
    "plt.plot(document_hat)\n",
    "plt.show()"
   ]
  },
  {
   "cell_type": "code",
   "execution_count": 37,
   "metadata": {},
   "outputs": [],
   "source": [
    "# train SVD\n",
    "X_train_svd = X_train_svd_transformer.V_"
   ]
  },
  {
   "cell_type": "code",
   "execution_count": 38,
   "metadata": {},
   "outputs": [
    {
     "data": {
      "text/plain": [
       "<1672x2001 sparse matrix of type '<class 'numpy.float64'>'\n",
       "\twith 24657 stored elements in Compressed Sparse Row format>"
      ]
     },
     "execution_count": 38,
     "metadata": {},
     "output_type": "execute_result"
    }
   ],
   "source": [
    "X_test_tfidf"
   ]
  },
  {
   "cell_type": "code",
   "execution_count": 39,
   "metadata": {},
   "outputs": [
    {
     "name": "stdout",
     "output_type": "stream",
     "text": [
      "Sigma inverse reshaped: (800, 1)\n",
      "U transpose: (800, 2001)\n",
      "X_test Tfidf transpose: (2001, 1672)\n"
     ]
    }
   ],
   "source": [
    "print(f'Sigma inverse reshaped: {sigma_inverse.reshape(-1,1).shape}')\n",
    "print(f'U transpose: {U_transpose.shape}')\n",
    "print(f'X_test Tfidf transpose: {X_test_tfidf.T.shape}')\n",
    "# In R:\n",
    "# test.svd.raw <- t(sigma.inverse * u.transpose %*% t(test.tokens.tfidf))\n",
    "# (1671, 300) =  T of (300, ) * (300, 29241) %*% (29241, 1671) # R dims\n",
    "# (1672, 800) =  T of (800, ) * (800, 2001)  %*%  (2001, 1672) # Python dims"
   ]
  },
  {
   "cell_type": "code",
   "execution_count": 40,
   "metadata": {},
   "outputs": [
    {
     "data": {
      "text/plain": [
       "(800, 1672)"
      ]
     },
     "execution_count": 40,
     "metadata": {},
     "output_type": "execute_result"
    }
   ],
   "source": [
    "UT_TestTfidfT = (U_transpose @ X_test_tfidf.T)\n",
    "UT_TestTfidfT.shape"
   ]
  },
  {
   "cell_type": "code",
   "execution_count": 41,
   "metadata": {},
   "outputs": [],
   "source": [
    "X_test_svd = (sigma_inverse.reshape(-1,1) * UT_TestTfidfT).T"
   ]
  },
  {
   "cell_type": "code",
   "execution_count": 42,
   "metadata": {},
   "outputs": [
    {
     "data": {
      "text/plain": [
       "(1672, 800)"
      ]
     },
     "execution_count": 42,
     "metadata": {},
     "output_type": "execute_result"
    }
   ],
   "source": [
    "X_test_svd.shape"
   ]
  },
  {
   "cell_type": "markdown",
   "metadata": {},
   "source": [
    "## Cosine Similarities"
   ]
  },
  {
   "cell_type": "code",
   "execution_count": 43,
   "metadata": {},
   "outputs": [],
   "source": [
    "import scipy.sparse as sp\n",
    "from scipy.sparse import csr_matrix\n",
    "from sklearn.metrics.pairwise import cosine_similarity"
   ]
  },
  {
   "cell_type": "markdown",
   "metadata": {},
   "source": [
    "__Training Set__"
   ]
  },
  {
   "cell_type": "code",
   "execution_count": 44,
   "metadata": {},
   "outputs": [],
   "source": [
    "# all similarities\n",
    "train_similarities = cosine_similarity(X_train_svd)\n",
    "\n",
    "# spam similarities\n",
    "train_df = pd.DataFrame({'sms':X_train, 'target':y_train}) \n",
    "train_spam_ix = train_df.loc[train_df['target']=='spam'].index\n",
    "\n",
    "# mean spam sims\n",
    "train_mean_spam_sims = []\n",
    "for ix in range(train_similarities.shape[0]):\n",
    "    mean_spam_sim = np.mean(train_similarities[ix, train_spam_ix])\n",
    "    train_mean_spam_sims.append(mean_spam_sim)\n",
    "\n",
    "# stack onto svd\n",
    "X_train_processed = sp.hstack((csr_matrix(train_mean_spam_sims).T, \n",
    "                               X_train_svd))"
   ]
  },
  {
   "cell_type": "markdown",
   "metadata": {},
   "source": [
    "__Test Set__"
   ]
  },
  {
   "cell_type": "code",
   "execution_count": 45,
   "metadata": {},
   "outputs": [],
   "source": [
    "# add train spam SVD to test SVD and calculate all similarities\n",
    "# we don't know which target are spam in the test set, of course!\n",
    "test_similarities = cosine_similarity(sp.vstack((X_test_svd, \n",
    "                                                 X_train_svd[train_spam_ix])))\n",
    "\n",
    "# get spam cols for spam similarities\n",
    "spam_cols = range(X_test_svd.shape[0], test_similarities.shape[0])\n",
    "\n",
    "# mean spam sims\n",
    "test_mean_spam_sims = []\n",
    "for ix in range(X_test_svd.shape[0]):\n",
    "    mean_spam_sim = np.mean(test_similarities[ix, spam_cols])\n",
    "    test_mean_spam_sims.append(mean_spam_sim)\n",
    "\n",
    "# stack onto svd\n",
    "X_test_processed = sp.hstack((csr_matrix(test_mean_spam_sims).T, \n",
    "                             X_test_svd))"
   ]
  },
  {
   "cell_type": "markdown",
   "metadata": {},
   "source": [
    "## Persist\n"
   ]
  },
  {
   "cell_type": "code",
   "execution_count": 46,
   "metadata": {},
   "outputs": [],
   "source": [
    "def persist(X, filename):\n",
    "    proc_dir = os.path.join(\"data\", \"2_processed\")\n",
    "    filename = ''.join([filename, '.npz'])\n",
    "    sp.save_npz(os.path.join(proc_dir, filename), X)"
   ]
  },
  {
   "cell_type": "code",
   "execution_count": 47,
   "metadata": {},
   "outputs": [],
   "source": [
    "persist(X_test_processed, 'X_test_processed')"
   ]
  },
  {
   "cell_type": "code",
   "execution_count": 48,
   "metadata": {},
   "outputs": [
    {
     "name": "stdout",
     "output_type": "stream",
     "text": [
      "Elapsed: 0 m 41 s\n"
     ]
    }
   ],
   "source": [
    "m, s = divmod(time.time() - start_, 60)\n",
    "print(f'Elapsed: {m:0.0f} m {s:0.0f} s')"
   ]
  },
  {
   "cell_type": "markdown",
   "metadata": {},
   "source": [
    "---"
   ]
  }
 ],
 "metadata": {
  "kernelspec": {
   "display_name": "Python 3",
   "language": "python",
   "name": "python3"
  },
  "language_info": {
   "codemirror_mode": {
    "name": "ipython",
    "version": 3
   },
   "file_extension": ".py",
   "mimetype": "text/x-python",
   "name": "python",
   "nbconvert_exporter": "python",
   "pygments_lexer": "ipython3",
   "version": "3.9.1"
  }
 },
 "nbformat": 4,
 "nbformat_minor": 4
}
