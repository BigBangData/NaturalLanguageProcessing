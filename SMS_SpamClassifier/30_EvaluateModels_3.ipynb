{
 "cells": [
  {
   "cell_type": "markdown",
   "metadata": {},
   "source": [
    "# Model Evaluation 1\n",
    "\n",
    "---\n",
    "\n",
    "__This Notebook__\n",
    "\n",
    "Looks at what kinds of text messages trip up the classifiers in the training and test sets and comparing them might help understand whay needed to be done - this should've been done during training and modeling but I just thought about it.\n"
   ]
  },
  {
   "cell_type": "markdown",
   "metadata": {},
   "source": [
    "## Setup"
   ]
  },
  {
   "cell_type": "code",
   "execution_count": 1,
   "metadata": {},
   "outputs": [
    {
     "name": "stdout",
     "output_type": "stream",
     "text": [
      "Revised on: 2021-02-23\n"
     ]
    }
   ],
   "source": [
    "import re\n",
    "import os\n",
    "import sys\n",
    "import time\n",
    "import joblib \n",
    "\n",
    "import numpy as np\n",
    "import pandas as pd\n",
    "import scipy.sparse as sp\n",
    "import matplotlib.pyplot as plt\n",
    "\n",
    "from datetime import datetime\n",
    "\n",
    "from sklearn.ensemble import AdaBoostClassifier, \\\n",
    "    RandomForestClassifier, GradientBoostingClassifier\n",
    "\n",
    "import custom.evaluate_models as E\n",
    "\n",
    "# set print options, print revision date\n",
    "np.set_printoptions(threshold=sys.maxsize)\n",
    "pd.options.display.max_colwidth = 999\n",
    "dt_object = datetime.fromtimestamp(time.time())\n",
    "day, T = str(dt_object).split('.')[0].split(' ')\n",
    "print('Revised on: ' + day)"
   ]
  },
  {
   "cell_type": "markdown",
   "metadata": {},
   "source": [
    "## Load Raw Data"
   ]
  },
  {
   "cell_type": "code",
   "execution_count": 2,
   "metadata": {},
   "outputs": [],
   "source": [
    "def load_raw(data):\n",
    "    raw_path = os.path.join(\"data\",\"1_raw\")\n",
    "    filename = ''.join([data, \".csv\"])\n",
    "    out_dfm = pd.read_csv(os.path.join(raw_path, filename))\n",
    "    out_arr = np.array(out_dfm.iloc[:,0].ravel())\n",
    "    return out_arr\n",
    "\n",
    "X_train_raw = load_raw(\"X_train\")\n",
    "X_test_raw = load_raw(\"X_test\")\n",
    "y_train_array = load_raw(\"y_train\")\n",
    "y_test_array = load_raw(\"y_test\") \n",
    "\n",
    "def make_int(y_array):\n",
    "    y = y_array.copy()\n",
    "    y[y=='ham'] = 0\n",
    "    y[y=='spam'] = 1\n",
    "    y = y.astype('int')\n",
    "    return y\n",
    "\n",
    "y_train = make_int(y_train_array)\n",
    "y_test = make_int(y_test_array)"
   ]
  },
  {
   "cell_type": "markdown",
   "metadata": {},
   "source": [
    "## Load Preprocessed Data"
   ]
  },
  {
   "cell_type": "code",
   "execution_count": 3,
   "metadata": {},
   "outputs": [],
   "source": [
    "def load_X(filename):\n",
    "    proc_dir = os.path.join(\"data\", \"2_processed\")\n",
    "    filename = ''.join([filename, '.npz'])\n",
    "    X = sp.load_npz(os.path.join(proc_dir, filename))\n",
    "    return X\n",
    "\n",
    "X_train_processed = load_X('X_train_processed')\n",
    "X_test_processed = load_X('X_test_processed')"
   ]
  },
  {
   "cell_type": "markdown",
   "metadata": {},
   "source": [
    "## Instantiate Candidate Models"
   ]
  },
  {
   "cell_type": "code",
   "execution_count": 4,
   "metadata": {},
   "outputs": [],
   "source": [
    "# remember to use warm_start=True for learning curves\n",
    "rnd_clf1 = RandomForestClassifier(\n",
    "    random_state=42, n_estimators=100, max_features=150, \n",
    "    max_depth=8, min_samples_split=3, n_jobs=1) \n",
    "\n",
    "rnd_clf2 = RandomForestClassifier(\n",
    "    random_state=42, n_estimators=100, max_features=300, \n",
    "    max_depth=8, min_samples_split=3, n_jobs=1)\n",
    "    \n",
    "ada_clf =  AdaBoostClassifier(\n",
    "    random_state=42 , n_estimators=10, \n",
    "    learning_rate=0.001)\n",
    "\n",
    "gbc1a = GradientBoostingClassifier(\n",
    "    random_state=42, n_estimators=50, max_features=None, \n",
    "    max_depth=1, min_samples_split=2)\n",
    "\n",
    "gbc2a = GradientBoostingClassifier(\n",
    "    random_state=42, n_estimators=100, max_features=300, \n",
    "    max_depth=8, min_samples_split=5)\n",
    "\n",
    "gbc2c = GradientBoostingClassifier(\n",
    "    random_state=42, n_estimators=50, max_features=300, \n",
    "    max_depth=3, min_samples_split=5)"
   ]
  },
  {
   "cell_type": "markdown",
   "metadata": {},
   "source": [
    "## AdaBoost"
   ]
  },
  {
   "cell_type": "code",
   "execution_count": 5,
   "metadata": {},
   "outputs": [
    {
     "name": "stdout",
     "output_type": "stream",
     "text": [
      "Elapsed: 0m 4s\n",
      "          pred_neg  pred_pos\n",
      "cond_neg      1432        10\n",
      "cond_pos         8       222\n",
      "acc: 0.9892\n",
      "tpr: 0.9652\n",
      "tnr: 0.9931\n"
     ]
    }
   ],
   "source": [
    "# ada\n",
    "E.fit_clf(ada_clf, X_train_processed, y_train)\n",
    "y_pred = ada_clf.predict(X_test_processed)\n",
    "E.eval_clf(y_test, y_pred)"
   ]
  },
  {
   "cell_type": "code",
   "execution_count": 6,
   "metadata": {},
   "outputs": [
    {
     "data": {
      "text/html": [
       "<div>\n",
       "<style scoped>\n",
       "    .dataframe tbody tr th:only-of-type {\n",
       "        vertical-align: middle;\n",
       "    }\n",
       "\n",
       "    .dataframe tbody tr th {\n",
       "        vertical-align: top;\n",
       "    }\n",
       "\n",
       "    .dataframe thead th {\n",
       "        text-align: right;\n",
       "    }\n",
       "</style>\n",
       "<table border=\"1\" class=\"dataframe\">\n",
       "  <thead>\n",
       "    <tr style=\"text-align: right;\">\n",
       "      <th></th>\n",
       "      <th>y_pred</th>\n",
       "      <th>X_raw</th>\n",
       "    </tr>\n",
       "  </thead>\n",
       "  <tbody>\n",
       "    <tr>\n",
       "      <th>2</th>\n",
       "      <td>1</td>\n",
       "      <td>Funny fact Nobody teaches volcanoes 2 erupt, tsunamis 2 arise, hurricanes 2 sway aroundn no 1 teaches hw 2 choose a wife Natural disasters just happens</td>\n",
       "    </tr>\n",
       "    <tr>\n",
       "      <th>3</th>\n",
       "      <td>1</td>\n",
       "      <td>4 tacos + 1 rajas burrito, right?</td>\n",
       "    </tr>\n",
       "    <tr>\n",
       "      <th>4</th>\n",
       "      <td>1</td>\n",
       "      <td>Your daily text from me ‰ÛÒ a favour this time</td>\n",
       "    </tr>\n",
       "    <tr>\n",
       "      <th>5</th>\n",
       "      <td>1</td>\n",
       "      <td>I (Career Tel) have added u as a contact on INDYAROCKS.COM to send FREE SMS. To remove from phonebook - sms NO to  &amp;lt;#&amp;gt;</td>\n",
       "    </tr>\n",
       "    <tr>\n",
       "      <th>6</th>\n",
       "      <td>1</td>\n",
       "      <td>645</td>\n",
       "    </tr>\n",
       "    <tr>\n",
       "      <th>7</th>\n",
       "      <td>1</td>\n",
       "      <td>Sometimes we put walls around our hearts,not just to be safe from getting hurt.. But to find out who cares enough to break the walls &amp;amp; get closer.. GOODNOON:)</td>\n",
       "    </tr>\n",
       "    <tr>\n",
       "      <th>8</th>\n",
       "      <td>1</td>\n",
       "      <td>Ok... Ur typical reply...</td>\n",
       "    </tr>\n",
       "    <tr>\n",
       "      <th>10</th>\n",
       "      <td>1</td>\n",
       "      <td>Your bill at 3 is å£33.65 so thats not bad!</td>\n",
       "    </tr>\n",
       "    <tr>\n",
       "      <th>11</th>\n",
       "      <td>1</td>\n",
       "      <td>2marrow only. Wed at  &amp;lt;#&amp;gt;  to 2 aha.</td>\n",
       "    </tr>\n",
       "    <tr>\n",
       "      <th>17</th>\n",
       "      <td>1</td>\n",
       "      <td>Hi, Mobile no.  &amp;lt;#&amp;gt;  has added you in their contact list on www.fullonsms.com It s a great place to send free sms to people For more visit fullonsms.com</td>\n",
       "    </tr>\n",
       "  </tbody>\n",
       "</table>\n",
       "</div>"
      ],
      "text/plain": [
       "    y_pred  \\\n",
       "2        1   \n",
       "3        1   \n",
       "4        1   \n",
       "5        1   \n",
       "6        1   \n",
       "7        1   \n",
       "8        1   \n",
       "10       1   \n",
       "11       1   \n",
       "17       1   \n",
       "\n",
       "                                                                                                                                                                 X_raw  \n",
       "2              Funny fact Nobody teaches volcanoes 2 erupt, tsunamis 2 arise, hurricanes 2 sway aroundn no 1 teaches hw 2 choose a wife Natural disasters just happens  \n",
       "3                                                                                                                                    4 tacos + 1 rajas burrito, right?  \n",
       "4                                                                                                                       Your daily text from me ‰ÛÒ a favour this time  \n",
       "5                                         I (Career Tel) have added u as a contact on INDYAROCKS.COM to send FREE SMS. To remove from phonebook - sms NO to  &lt;#&gt;  \n",
       "6                                                                                                                                                                  645  \n",
       "7   Sometimes we put walls around our hearts,not just to be safe from getting hurt.. But to find out who cares enough to break the walls &amp; get closer.. GOODNOON:)  \n",
       "8                                                                                                                                            Ok... Ur typical reply...  \n",
       "10                                                                                                                         Your bill at 3 is å£33.65 so thats not bad!  \n",
       "11                                                                                                                          2marrow only. Wed at  &lt;#&gt;  to 2 aha.  \n",
       "17      Hi, Mobile no.  &lt;#&gt;  has added you in their contact list on www.fullonsms.com It s a great place to send free sms to people For more visit fullonsms.com  "
      ]
     },
     "execution_count": 6,
     "metadata": {},
     "output_type": "execute_result"
    }
   ],
   "source": [
    "# assumes y_pred, y_test, X_test_raw\n",
    "def get_mistakes():\n",
    "    indices = []\n",
    "    for ix, pred in enumerate(y_pred): \n",
    "        if pred != y_test[ix]:\n",
    "            indices.append(ix)\n",
    "    X_errors = X_test_raw[indices]\n",
    "    data = {'y_pred': y_pred[indices], \n",
    "            'X_raw':X_errors}\n",
    "    df = pd.DataFrame(data)\n",
    "    return df\n",
    "\n",
    "df = get_mistakes()\n",
    "\n",
    "# predicted spam but was legit\n",
    "df[df['y_pred'] == 1]"
   ]
  },
  {
   "cell_type": "code",
   "execution_count": 7,
   "metadata": {},
   "outputs": [
    {
     "data": {
      "text/html": [
       "<div>\n",
       "<style scoped>\n",
       "    .dataframe tbody tr th:only-of-type {\n",
       "        vertical-align: middle;\n",
       "    }\n",
       "\n",
       "    .dataframe tbody tr th {\n",
       "        vertical-align: top;\n",
       "    }\n",
       "\n",
       "    .dataframe thead th {\n",
       "        text-align: right;\n",
       "    }\n",
       "</style>\n",
       "<table border=\"1\" class=\"dataframe\">\n",
       "  <thead>\n",
       "    <tr style=\"text-align: right;\">\n",
       "      <th></th>\n",
       "      <th>y_pred</th>\n",
       "      <th>X_raw</th>\n",
       "    </tr>\n",
       "  </thead>\n",
       "  <tbody>\n",
       "    <tr>\n",
       "      <th>0</th>\n",
       "      <td>0</td>\n",
       "      <td>Hi this is Amy, we will be sending you a free phone number in a couple of days, which will give you an access to all the adult parties...</td>\n",
       "    </tr>\n",
       "    <tr>\n",
       "      <th>1</th>\n",
       "      <td>0</td>\n",
       "      <td>Goal! Arsenal 4 (Henry, 7 v Liverpool 2 Henry scores with a simple shot from 6 yards from a pass by Bergkamp to give Arsenal a 2 goal margin after 78 mins.</td>\n",
       "    </tr>\n",
       "    <tr>\n",
       "      <th>9</th>\n",
       "      <td>0</td>\n",
       "      <td>Latest News! Police station toilet stolen, cops have nothing to go on!</td>\n",
       "    </tr>\n",
       "    <tr>\n",
       "      <th>12</th>\n",
       "      <td>0</td>\n",
       "      <td>Xmas &amp; New Years Eve tickets are now on sale from the club, during the day from 10am till 8pm, and on Thurs, Fri &amp; Sat night this week. They're selling fast!</td>\n",
       "    </tr>\n",
       "    <tr>\n",
       "      <th>13</th>\n",
       "      <td>0</td>\n",
       "      <td>Hello darling how are you today? I would love to have a chat, why dont you tell me what you look like and what you are in to sexy?</td>\n",
       "    </tr>\n",
       "    <tr>\n",
       "      <th>14</th>\n",
       "      <td>0</td>\n",
       "      <td>TBS/PERSOLVO. been chasing us since Sept forå£38 definitely not paying now thanks to your information. We will ignore them. Kath. Manchester.</td>\n",
       "    </tr>\n",
       "    <tr>\n",
       "      <th>15</th>\n",
       "      <td>0</td>\n",
       "      <td>Money i have won wining number 946 wot do i do next</td>\n",
       "    </tr>\n",
       "    <tr>\n",
       "      <th>16</th>\n",
       "      <td>0</td>\n",
       "      <td>For sale - arsenal dartboard. Good condition but no doubles or trebles!</td>\n",
       "    </tr>\n",
       "  </tbody>\n",
       "</table>\n",
       "</div>"
      ],
      "text/plain": [
       "    y_pred  \\\n",
       "0        0   \n",
       "1        0   \n",
       "9        0   \n",
       "12       0   \n",
       "13       0   \n",
       "14       0   \n",
       "15       0   \n",
       "16       0   \n",
       "\n",
       "                                                                                                                                                            X_raw  \n",
       "0                       Hi this is Amy, we will be sending you a free phone number in a couple of days, which will give you an access to all the adult parties...  \n",
       "1     Goal! Arsenal 4 (Henry, 7 v Liverpool 2 Henry scores with a simple shot from 6 yards from a pass by Bergkamp to give Arsenal a 2 goal margin after 78 mins.  \n",
       "9                                                                                          Latest News! Police station toilet stolen, cops have nothing to go on!  \n",
       "12  Xmas & New Years Eve tickets are now on sale from the club, during the day from 10am till 8pm, and on Thurs, Fri & Sat night this week. They're selling fast!  \n",
       "13                             Hello darling how are you today? I would love to have a chat, why dont you tell me what you look like and what you are in to sexy?  \n",
       "14                  TBS/PERSOLVO. been chasing us since Sept forå£38 definitely not paying now thanks to your information. We will ignore them. Kath. Manchester.  \n",
       "15                                                                                                            Money i have won wining number 946 wot do i do next  \n",
       "16                                                                                        For sale - arsenal dartboard. Good condition but no doubles or trebles!  "
      ]
     },
     "execution_count": 7,
     "metadata": {},
     "output_type": "execute_result"
    }
   ],
   "source": [
    "# predicted ham but was spam\n",
    "df[df['y_pred'] == 0]"
   ]
  },
  {
   "cell_type": "markdown",
   "metadata": {},
   "source": [
    "## Random Forest 1"
   ]
  },
  {
   "cell_type": "code",
   "execution_count": 8,
   "metadata": {},
   "outputs": [
    {
     "name": "stdout",
     "output_type": "stream",
     "text": [
      "Elapsed: 1m 1s\n",
      "          pred_neg  pred_pos\n",
      "cond_neg      1433         9\n",
      "cond_pos         7       223\n",
      "acc: 0.9904\n",
      "tpr: 0.9696\n",
      "tnr: 0.9938\n"
     ]
    }
   ],
   "source": [
    "E.fit_clf(rnd_clf1, X_train_processed, y_train)\n",
    "y_pred = rnd_clf1.predict(X_test_processed)\n",
    "E.eval_clf(y_test, y_pred)"
   ]
  },
  {
   "cell_type": "code",
   "execution_count": 9,
   "metadata": {},
   "outputs": [
    {
     "data": {
      "text/html": [
       "<div>\n",
       "<style scoped>\n",
       "    .dataframe tbody tr th:only-of-type {\n",
       "        vertical-align: middle;\n",
       "    }\n",
       "\n",
       "    .dataframe tbody tr th {\n",
       "        vertical-align: top;\n",
       "    }\n",
       "\n",
       "    .dataframe thead th {\n",
       "        text-align: right;\n",
       "    }\n",
       "</style>\n",
       "<table border=\"1\" class=\"dataframe\">\n",
       "  <thead>\n",
       "    <tr style=\"text-align: right;\">\n",
       "      <th></th>\n",
       "      <th>y_pred</th>\n",
       "      <th>X_raw</th>\n",
       "    </tr>\n",
       "  </thead>\n",
       "  <tbody>\n",
       "    <tr>\n",
       "      <th>2</th>\n",
       "      <td>1</td>\n",
       "      <td>Funny fact Nobody teaches volcanoes 2 erupt, tsunamis 2 arise, hurricanes 2 sway aroundn no 1 teaches hw 2 choose a wife Natural disasters just happens</td>\n",
       "    </tr>\n",
       "    <tr>\n",
       "      <th>3</th>\n",
       "      <td>1</td>\n",
       "      <td>4 tacos + 1 rajas burrito, right?</td>\n",
       "    </tr>\n",
       "    <tr>\n",
       "      <th>4</th>\n",
       "      <td>1</td>\n",
       "      <td>Your daily text from me ‰ÛÒ a favour this time</td>\n",
       "    </tr>\n",
       "    <tr>\n",
       "      <th>5</th>\n",
       "      <td>1</td>\n",
       "      <td>I (Career Tel) have added u as a contact on INDYAROCKS.COM to send FREE SMS. To remove from phonebook - sms NO to  &amp;lt;#&amp;gt;</td>\n",
       "    </tr>\n",
       "    <tr>\n",
       "      <th>6</th>\n",
       "      <td>1</td>\n",
       "      <td>645</td>\n",
       "    </tr>\n",
       "    <tr>\n",
       "      <th>7</th>\n",
       "      <td>1</td>\n",
       "      <td>Sometimes we put walls around our hearts,not just to be safe from getting hurt.. But to find out who cares enough to break the walls &amp;amp; get closer.. GOODNOON:)</td>\n",
       "    </tr>\n",
       "    <tr>\n",
       "      <th>8</th>\n",
       "      <td>1</td>\n",
       "      <td>Ok... Ur typical reply...</td>\n",
       "    </tr>\n",
       "    <tr>\n",
       "      <th>10</th>\n",
       "      <td>1</td>\n",
       "      <td>Your bill at 3 is å£33.65 so thats not bad!</td>\n",
       "    </tr>\n",
       "    <tr>\n",
       "      <th>11</th>\n",
       "      <td>1</td>\n",
       "      <td>2marrow only. Wed at  &amp;lt;#&amp;gt;  to 2 aha.</td>\n",
       "    </tr>\n",
       "  </tbody>\n",
       "</table>\n",
       "</div>"
      ],
      "text/plain": [
       "    y_pred  \\\n",
       "2        1   \n",
       "3        1   \n",
       "4        1   \n",
       "5        1   \n",
       "6        1   \n",
       "7        1   \n",
       "8        1   \n",
       "10       1   \n",
       "11       1   \n",
       "\n",
       "                                                                                                                                                                 X_raw  \n",
       "2              Funny fact Nobody teaches volcanoes 2 erupt, tsunamis 2 arise, hurricanes 2 sway aroundn no 1 teaches hw 2 choose a wife Natural disasters just happens  \n",
       "3                                                                                                                                    4 tacos + 1 rajas burrito, right?  \n",
       "4                                                                                                                       Your daily text from me ‰ÛÒ a favour this time  \n",
       "5                                         I (Career Tel) have added u as a contact on INDYAROCKS.COM to send FREE SMS. To remove from phonebook - sms NO to  &lt;#&gt;  \n",
       "6                                                                                                                                                                  645  \n",
       "7   Sometimes we put walls around our hearts,not just to be safe from getting hurt.. But to find out who cares enough to break the walls &amp; get closer.. GOODNOON:)  \n",
       "8                                                                                                                                            Ok... Ur typical reply...  \n",
       "10                                                                                                                         Your bill at 3 is å£33.65 so thats not bad!  \n",
       "11                                                                                                                          2marrow only. Wed at  &lt;#&gt;  to 2 aha.  "
      ]
     },
     "execution_count": 9,
     "metadata": {},
     "output_type": "execute_result"
    }
   ],
   "source": [
    "df = get_mistakes()\n",
    "\n",
    "# predicted spam but was legit\n",
    "df[df['y_pred'] == 1]"
   ]
  },
  {
   "cell_type": "code",
   "execution_count": 10,
   "metadata": {},
   "outputs": [
    {
     "data": {
      "text/html": [
       "<div>\n",
       "<style scoped>\n",
       "    .dataframe tbody tr th:only-of-type {\n",
       "        vertical-align: middle;\n",
       "    }\n",
       "\n",
       "    .dataframe tbody tr th {\n",
       "        vertical-align: top;\n",
       "    }\n",
       "\n",
       "    .dataframe thead th {\n",
       "        text-align: right;\n",
       "    }\n",
       "</style>\n",
       "<table border=\"1\" class=\"dataframe\">\n",
       "  <thead>\n",
       "    <tr style=\"text-align: right;\">\n",
       "      <th></th>\n",
       "      <th>y_pred</th>\n",
       "      <th>X_raw</th>\n",
       "    </tr>\n",
       "  </thead>\n",
       "  <tbody>\n",
       "    <tr>\n",
       "      <th>0</th>\n",
       "      <td>0</td>\n",
       "      <td>Hi this is Amy, we will be sending you a free phone number in a couple of days, which will give you an access to all the adult parties...</td>\n",
       "    </tr>\n",
       "    <tr>\n",
       "      <th>1</th>\n",
       "      <td>0</td>\n",
       "      <td>Goal! Arsenal 4 (Henry, 7 v Liverpool 2 Henry scores with a simple shot from 6 yards from a pass by Bergkamp to give Arsenal a 2 goal margin after 78 mins.</td>\n",
       "    </tr>\n",
       "    <tr>\n",
       "      <th>9</th>\n",
       "      <td>0</td>\n",
       "      <td>Latest News! Police station toilet stolen, cops have nothing to go on!</td>\n",
       "    </tr>\n",
       "    <tr>\n",
       "      <th>12</th>\n",
       "      <td>0</td>\n",
       "      <td>Xmas &amp; New Years Eve tickets are now on sale from the club, during the day from 10am till 8pm, and on Thurs, Fri &amp; Sat night this week. They're selling fast!</td>\n",
       "    </tr>\n",
       "    <tr>\n",
       "      <th>13</th>\n",
       "      <td>0</td>\n",
       "      <td>Hello darling how are you today? I would love to have a chat, why dont you tell me what you look like and what you are in to sexy?</td>\n",
       "    </tr>\n",
       "    <tr>\n",
       "      <th>14</th>\n",
       "      <td>0</td>\n",
       "      <td>Money i have won wining number 946 wot do i do next</td>\n",
       "    </tr>\n",
       "    <tr>\n",
       "      <th>15</th>\n",
       "      <td>0</td>\n",
       "      <td>For sale - arsenal dartboard. Good condition but no doubles or trebles!</td>\n",
       "    </tr>\n",
       "  </tbody>\n",
       "</table>\n",
       "</div>"
      ],
      "text/plain": [
       "    y_pred  \\\n",
       "0        0   \n",
       "1        0   \n",
       "9        0   \n",
       "12       0   \n",
       "13       0   \n",
       "14       0   \n",
       "15       0   \n",
       "\n",
       "                                                                                                                                                            X_raw  \n",
       "0                       Hi this is Amy, we will be sending you a free phone number in a couple of days, which will give you an access to all the adult parties...  \n",
       "1     Goal! Arsenal 4 (Henry, 7 v Liverpool 2 Henry scores with a simple shot from 6 yards from a pass by Bergkamp to give Arsenal a 2 goal margin after 78 mins.  \n",
       "9                                                                                          Latest News! Police station toilet stolen, cops have nothing to go on!  \n",
       "12  Xmas & New Years Eve tickets are now on sale from the club, during the day from 10am till 8pm, and on Thurs, Fri & Sat night this week. They're selling fast!  \n",
       "13                             Hello darling how are you today? I would love to have a chat, why dont you tell me what you look like and what you are in to sexy?  \n",
       "14                                                                                                            Money i have won wining number 946 wot do i do next  \n",
       "15                                                                                        For sale - arsenal dartboard. Good condition but no doubles or trebles!  "
      ]
     },
     "execution_count": 10,
     "metadata": {},
     "output_type": "execute_result"
    }
   ],
   "source": [
    "# predicted ham but was spam\n",
    "df[df['y_pred'] == 0]"
   ]
  },
  {
   "cell_type": "code",
   "execution_count": 11,
   "metadata": {},
   "outputs": [],
   "source": [
    "import custom.clean_preprocess as cp\n",
    "from sklearn.pipeline import Pipeline\n",
    "from sklearn.feature_extraction.text import TfidfTransformer\n",
    "\n",
    "pipe = Pipeline([('counter', cp.DocumentToNgramCounterTransformer(n_grams=3)),\n",
    "                 ('bot', cp.WordCounterToVectorTransformer(vocabulary_size=2000)), # careful\n",
    "                 ('tfidf', TfidfTransformer(sublinear_tf=True))]) # careful"
   ]
  },
  {
   "cell_type": "code",
   "execution_count": 12,
   "metadata": {},
   "outputs": [],
   "source": [
    "# counter\n",
    "X_test_counter = pipe['counter'].fit_transform(X_test_raw)"
   ]
  },
  {
   "cell_type": "code",
   "execution_count": 14,
   "metadata": {},
   "outputs": [
    {
     "name": "stdout",
     "output_type": "stream",
     "text": [
      "Counter({'you': 2, 'hi': 1, 'this': 1, 'amy': 1, 'we': 1, 'sending': 1, 'free': 1, 'phone': 1, 'number': 1, 'couple': 1, 'day': 1, 'which': 1, 'give': 1, 'access': 1, 'all': 1, 'adult': 1, 'party': 1, 'hi_this': 1, 'this_is': 1, 'is_amy': 1, 'amy_we': 1, 'we_will': 1, 'will_be': 1, 'be_sending': 1, 'sending_you': 1, 'you_a': 1, 'a_free': 1, 'free_phone': 1, 'phone_number': 1, 'number_in': 1, 'in_a': 1, 'a_couple': 1, 'couple_of': 1, 'of_days': 1, 'days_which': 1, 'which_will': 1, 'will_give': 1, 'give_you': 1, 'you_an': 1, 'an_access': 1, 'access_to': 1, 'to_all': 1, 'all_the': 1, 'the_adult': 1, 'adult_parties': 1, 'hi_this_is': 1, 'this_is_amy': 1, 'is_amy_we': 1, 'amy_we_will': 1, 'we_will_be': 1, 'will_be_sending': 1, 'be_sending_you': 1, 'sending_you_a': 1, 'you_a_free': 1, 'a_free_phone': 1, 'free_phone_number': 1, 'phone_number_in': 1, 'number_in_a': 1, 'in_a_couple': 1, 'a_couple_of': 1, 'couple_of_days': 1, 'of_days_which': 1, 'days_which_will': 1, 'which_will_give': 1, 'will_give_you': 1, 'give_you_an': 1, 'you_an_access': 1, 'an_access_to': 1, 'access_to_all': 1, 'to_all_the': 1, 'all_the_adult': 1, 'the_adult_parties': 1})\n"
     ]
    }
   ],
   "source": [
    "indices = []\n",
    "for ix, pred in enumerate(y_pred): \n",
    "    if pred != y_test[ix]:\n",
    "        indices.append(ix)\n",
    "print(X_test_counter[indices][0])"
   ]
  },
  {
   "cell_type": "code",
   "execution_count": 15,
   "metadata": {},
   "outputs": [
    {
     "data": {
      "text/plain": [
       "'Your bill at 3 is å£33.65 so thats not bad!'"
      ]
     },
     "execution_count": 15,
     "metadata": {},
     "output_type": "execute_result"
    }
   ],
   "source": [
    "X_test_raw[668]"
   ]
  },
  {
   "cell_type": "code",
   "execution_count": 16,
   "metadata": {},
   "outputs": [
    {
     "name": "stdout",
     "output_type": "stream",
     "text": [
      "Counter({'NUM': 3, 'your': 1, 'bill': 1, 'EMOJI': 1, 'so': 1, 'thats': 1, 'not': 1, 'bad': 1, 'your_bill': 1, 'bill_at': 1, 'at_NUM': 1, 'NUM_is': 1, 'is_EMOJI': 1, 'EMOJI_NUM': 1, 'NUM_NUM': 1, 'NUM_so': 1, 'so_thats': 1, 'thats_not': 1, 'not_bad': 1, 'your_bill_at': 1, 'bill_at_NUM': 1, 'at_NUM_is': 1, 'NUM_is_EMOJI': 1, 'is_EMOJI_NUM': 1, 'EMOJI_NUM_NUM': 1, 'NUM_NUM_so': 1, 'NUM_so_thats': 1, 'so_thats_not': 1, 'thats_not_bad': 1})\n"
     ]
    }
   ],
   "source": [
    "print(X_test_counter[indices][10])"
   ]
  },
  {
   "cell_type": "markdown",
   "metadata": {},
   "source": [
    "---"
   ]
  }
 ],
 "metadata": {
  "kernelspec": {
   "display_name": "Python 3",
   "language": "python",
   "name": "python3"
  },
  "language_info": {
   "codemirror_mode": {
    "name": "ipython",
    "version": 3
   },
   "file_extension": ".py",
   "mimetype": "text/x-python",
   "name": "python",
   "nbconvert_exporter": "python",
   "pygments_lexer": "ipython3",
   "version": "3.9.1"
  }
 },
 "nbformat": 4,
 "nbformat_minor": 4
}
