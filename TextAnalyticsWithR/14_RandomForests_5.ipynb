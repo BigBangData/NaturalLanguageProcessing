{
 "cells": [
  {
   "cell_type": "markdown",
   "metadata": {},
   "source": [
    "# Random Forests 5\n",
    "\n",
    "---\n",
    "\n",
    "__This Notebook__\n",
    "\n",
    "\n",
    "\n",
    "__Results__ \n",
    "\n"
   ]
  },
  {
   "cell_type": "markdown",
   "metadata": {},
   "source": [
    "---"
   ]
  },
  {
   "cell_type": "markdown",
   "metadata": {},
   "source": [
    "## Setup & Load\n",
    "\n",
    "The are the results of the grid searches in the previous 3 notebooks (__12_RandomForests3.1__, __3.2__, and __3.3__)."
   ]
  },
  {
   "cell_type": "code",
   "execution_count": 1,
   "metadata": {},
   "outputs": [
    {
     "name": "stdout",
     "output_type": "stream",
     "text": [
      "Revised on: 2021-01-09\n"
     ]
    }
   ],
   "source": [
    "import re\n",
    "import os\n",
    "import time\n",
    "import joblib \n",
    "\n",
    "import numpy as np\n",
    "import pandas as pd\n",
    "\n",
    "from datetime import datetime\n",
    "\n",
    "dt_object = datetime.fromtimestamp(time.time())\n",
    "day, T = str(dt_object).split('.')[0].split(' ')\n",
    "print('Revised on: ' + day)"
   ]
  },
  {
   "cell_type": "code",
   "execution_count": 2,
   "metadata": {},
   "outputs": [],
   "source": [
    "# load grid searches\n",
    "mod_path = os.path.join(\"data\",\"3_modeling\")\n",
    "filename = '01092021_rf_gridsearches.joblib'\n",
    "                \n",
    "gridsearches = joblib.load(os.path.join(mod_path, filename))"
   ]
  },
  {
   "cell_type": "code",
   "execution_count": 3,
   "metadata": {},
   "outputs": [
    {
     "data": {
      "text/html": [
       "<div>\n",
       "<style scoped>\n",
       "    .dataframe tbody tr th:only-of-type {\n",
       "        vertical-align: middle;\n",
       "    }\n",
       "\n",
       "    .dataframe tbody tr th {\n",
       "        vertical-align: top;\n",
       "    }\n",
       "\n",
       "    .dataframe thead th {\n",
       "        text-align: right;\n",
       "    }\n",
       "</style>\n",
       "<table border=\"1\" class=\"dataframe\">\n",
       "  <thead>\n",
       "    <tr style=\"text-align: right;\">\n",
       "      <th></th>\n",
       "      <th>representation</th>\n",
       "      <th>max_depth</th>\n",
       "      <th>max_features</th>\n",
       "      <th>min_samples_split</th>\n",
       "      <th>n_estimators</th>\n",
       "      <th>mean_val_acc</th>\n",
       "      <th>mean_val_tpr</th>\n",
       "      <th>mean_val_tnr</th>\n",
       "    </tr>\n",
       "  </thead>\n",
       "  <tbody>\n",
       "    <tr>\n",
       "      <th>67</th>\n",
       "      <td>X_bot_cossim_bot</td>\n",
       "      <td>20</td>\n",
       "      <td>500</td>\n",
       "      <td>5</td>\n",
       "      <td>200</td>\n",
       "      <td>0.991110</td>\n",
       "      <td>0.943320</td>\n",
       "      <td>0.998421</td>\n",
       "    </tr>\n",
       "    <tr>\n",
       "      <th>23</th>\n",
       "      <td>X_bot_cossim_bot</td>\n",
       "      <td>5</td>\n",
       "      <td>500</td>\n",
       "      <td>15</td>\n",
       "      <td>200</td>\n",
       "      <td>0.990766</td>\n",
       "      <td>0.943252</td>\n",
       "      <td>0.998027</td>\n",
       "    </tr>\n",
       "    <tr>\n",
       "      <th>21</th>\n",
       "      <td>X_bot_cossim_bot</td>\n",
       "      <td>5</td>\n",
       "      <td>500</td>\n",
       "      <td>10</td>\n",
       "      <td>200</td>\n",
       "      <td>0.990766</td>\n",
       "      <td>0.943252</td>\n",
       "      <td>0.998027</td>\n",
       "    </tr>\n",
       "    <tr>\n",
       "      <th>66</th>\n",
       "      <td>X_bot_cossim_bot</td>\n",
       "      <td>20</td>\n",
       "      <td>500</td>\n",
       "      <td>5</td>\n",
       "      <td>100</td>\n",
       "      <td>0.990767</td>\n",
       "      <td>0.940688</td>\n",
       "      <td>0.998421</td>\n",
       "    </tr>\n",
       "  </tbody>\n",
       "</table>\n",
       "</div>"
      ],
      "text/plain": [
       "      representation  max_depth  max_features  min_samples_split  \\\n",
       "67  X_bot_cossim_bot         20           500                  5   \n",
       "23  X_bot_cossim_bot          5           500                 15   \n",
       "21  X_bot_cossim_bot          5           500                 10   \n",
       "66  X_bot_cossim_bot         20           500                  5   \n",
       "\n",
       "    n_estimators  mean_val_acc  mean_val_tpr  mean_val_tnr  \n",
       "67           200      0.991110      0.943320      0.998421  \n",
       "23           200      0.990766      0.943252      0.998027  \n",
       "21           200      0.990766      0.943252      0.998027  \n",
       "66           100      0.990767      0.940688      0.998421  "
      ]
     },
     "execution_count": 3,
     "metadata": {},
     "output_type": "execute_result"
    }
   ],
   "source": [
    "def extract_df(dic):\n",
    "    df = pd.concat([\n",
    "                    pd.DataFrame({'representation':[dic['representation']] \\\n",
    "                                * len(dic['gridsearch_res'].cv_results_[\"params\"])}),\n",
    "                    pd.DataFrame(dic['gridsearch_res'].cv_results_[\"params\"]),\n",
    "                    pd.DataFrame(dic['gridsearch_res'].cv_results_[\"mean_test_acc\"], \n",
    "                                 columns=[\"mean_val_acc\"]),\n",
    "                    pd.DataFrame(dic['gridsearch_res'].cv_results_[\"mean_test_tpr\"], \n",
    "                                 columns=[\"mean_val_tpr\"]),\n",
    "                    pd.DataFrame(dic['gridsearch_res'].cv_results_[\"mean_test_tnr\"], \n",
    "                                 columns=[\"mean_val_tnr\"])\n",
    "                    ], axis=1)\n",
    "    return df\n",
    "\n",
    "# create list of dfs\n",
    "df_list = []\n",
    "for ix, dic in enumerate(gridsearches):\n",
    "    df_list.append(extract_df(dic))\n",
    "\n",
    "# flatten and reindex\n",
    "dfm = pd.concat(df_list)\n",
    "dfm.index = range(len(dfm))\n",
    "\n",
    "# sort by top mean validation sensitivity\n",
    "top_tpr = dfm.sort_values(by=['mean_val_tpr'], ascending=False).iloc[:4,:].copy()\n",
    "top_tpr"
   ]
  },
  {
   "cell_type": "code",
   "execution_count": 4,
   "metadata": {},
   "outputs": [
    {
     "data": {
      "text/html": [
       "<div>\n",
       "<style scoped>\n",
       "    .dataframe tbody tr th:only-of-type {\n",
       "        vertical-align: middle;\n",
       "    }\n",
       "\n",
       "    .dataframe tbody tr th {\n",
       "        vertical-align: top;\n",
       "    }\n",
       "\n",
       "    .dataframe thead th {\n",
       "        text-align: right;\n",
       "    }\n",
       "</style>\n",
       "<table border=\"1\" class=\"dataframe\">\n",
       "  <thead>\n",
       "    <tr style=\"text-align: right;\">\n",
       "      <th></th>\n",
       "      <th>representation</th>\n",
       "      <th>max_depth</th>\n",
       "      <th>max_features</th>\n",
       "      <th>min_samples_split</th>\n",
       "      <th>n_estimators</th>\n",
       "      <th>mean_val_acc</th>\n",
       "      <th>mean_val_tpr</th>\n",
       "      <th>mean_val_tnr</th>\n",
       "    </tr>\n",
       "  </thead>\n",
       "  <tbody>\n",
       "    <tr>\n",
       "      <th>135</th>\n",
       "      <td>X_tfidf_cossim_tfidf</td>\n",
       "      <td>20</td>\n",
       "      <td>250</td>\n",
       "      <td>10</td>\n",
       "      <td>200</td>\n",
       "      <td>0.986319</td>\n",
       "      <td>0.919973</td>\n",
       "      <td>0.99645</td>\n",
       "    </tr>\n",
       "    <tr>\n",
       "      <th>143</th>\n",
       "      <td>X_tfidf_cossim_tfidf</td>\n",
       "      <td>20</td>\n",
       "      <td>500</td>\n",
       "      <td>15</td>\n",
       "      <td>200</td>\n",
       "      <td>0.985976</td>\n",
       "      <td>0.917409</td>\n",
       "      <td>0.99645</td>\n",
       "    </tr>\n",
       "    <tr>\n",
       "      <th>90</th>\n",
       "      <td>X_tfidf_cossim_tfidf</td>\n",
       "      <td>5</td>\n",
       "      <td>500</td>\n",
       "      <td>5</td>\n",
       "      <td>100</td>\n",
       "      <td>0.985976</td>\n",
       "      <td>0.917409</td>\n",
       "      <td>0.99645</td>\n",
       "    </tr>\n",
       "    <tr>\n",
       "      <th>112</th>\n",
       "      <td>X_tfidf_cossim_tfidf</td>\n",
       "      <td>10</td>\n",
       "      <td>250</td>\n",
       "      <td>15</td>\n",
       "      <td>100</td>\n",
       "      <td>0.985976</td>\n",
       "      <td>0.917409</td>\n",
       "      <td>0.99645</td>\n",
       "    </tr>\n",
       "  </tbody>\n",
       "</table>\n",
       "</div>"
      ],
      "text/plain": [
       "           representation  max_depth  max_features  min_samples_split  \\\n",
       "135  X_tfidf_cossim_tfidf         20           250                 10   \n",
       "143  X_tfidf_cossim_tfidf         20           500                 15   \n",
       "90   X_tfidf_cossim_tfidf          5           500                  5   \n",
       "112  X_tfidf_cossim_tfidf         10           250                 15   \n",
       "\n",
       "     n_estimators  mean_val_acc  mean_val_tpr  mean_val_tnr  \n",
       "135           200      0.986319      0.919973       0.99645  \n",
       "143           200      0.985976      0.917409       0.99645  \n",
       "90            100      0.985976      0.917409       0.99645  \n",
       "112           100      0.985976      0.917409       0.99645  "
      ]
     },
     "execution_count": 4,
     "metadata": {},
     "output_type": "execute_result"
    }
   ],
   "source": [
    "dfm[dfm['representation']=='X_tfidf_cossim_tfidf'].sort_values(by=['mean_val_tpr'], ascending=False).iloc[:4,:]"
   ]
  },
  {
   "cell_type": "code",
   "execution_count": null,
   "metadata": {},
   "outputs": [],
   "source": []
  },
  {
   "cell_type": "code",
   "execution_count": 5,
   "metadata": {},
   "outputs": [],
   "source": [
    "import custom.old_gridsearch as og\n",
    "import scipy.sparse as sp\n",
    "\n",
    "# load target\n",
    "raw_path = os.path.join(\"data\",\"1_raw\")\n",
    "filename = \"y_train.csv\"\n",
    "y = pd.read_csv(os.path.join(raw_path, filename))\n",
    "y = np.array(y.iloc[:,0].ravel())\n",
    "y[y=='ham'] = 0\n",
    "y[y=='spam'] = 1\n",
    "y = y.astype('int')\n",
    "\n",
    "# load 12 matrices\n",
    "proc_dir = os.path.join(\"data\",\"2_processed\")\n",
    "Xnames = ['X_bot_svd_cos.npz', 'X_bot_tfidf_svd_cos.npz']\n",
    "Xs = []\n",
    "for ix, X in enumerate(Xnames):\n",
    "    path_ = os.path.join(proc_dir, Xnames[ix])\n",
    "    Xs.append(sp.load_npz(path_))"
   ]
  },
  {
   "cell_type": "code",
   "execution_count": 6,
   "metadata": {},
   "outputs": [],
   "source": [
    "import custom.new_gridsearch as ng\n",
    "\n",
    "param_grid = {\n",
    "    'min_samples_split': [3, 5, 8],\n",
    "    'n_estimators' : [300, 500],\n",
    "    'max_depth': [20, 40],\n",
    "    'max_features': [250, 500]\n",
    "}"
   ]
  },
  {
   "cell_type": "code",
   "execution_count": null,
   "metadata": {},
   "outputs": [
    {
     "name": "stdout",
     "output_type": "stream",
     "text": [
      "\n",
      "Training 1: X_bot_svd_cos...\n"
     ]
    }
   ],
   "source": [
    "grid_search_clf = ng.gridsearch_wrapper(\n",
    "    Xs, Xnames, y, param_grid\n",
    ")"
   ]
  },
  {
   "cell_type": "code",
   "execution_count": null,
   "metadata": {},
   "outputs": [],
   "source": []
  }
 ],
 "metadata": {
  "kernelspec": {
   "display_name": "Python 3",
   "language": "python",
   "name": "python3"
  },
  "language_info": {
   "codemirror_mode": {
    "name": "ipython",
    "version": 3
   },
   "file_extension": ".py",
   "mimetype": "text/x-python",
   "name": "python",
   "nbconvert_exporter": "python",
   "pygments_lexer": "ipython3",
   "version": "3.7.3"
  }
 },
 "nbformat": 4,
 "nbformat_minor": 4
}
