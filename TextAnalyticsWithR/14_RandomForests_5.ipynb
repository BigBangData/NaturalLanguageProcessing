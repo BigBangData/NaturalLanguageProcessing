{
 "cells": [
  {
   "cell_type": "markdown",
   "metadata": {},
   "source": [
    "# Random Forests 5\n",
    "\n",
    "---\n",
    "\n",
    "__This Notebook__\n",
    "\n",
    "Evaluates the results of the previous notebook's grid search and conducts another grid search with slightly deeper parameters.\n",
    "\n",
    "\n",
    "__Results__ \n",
    "\n",
    "The two best representations are very similar, the variance in models make the top one switch back and forth depending on the run. Curiously, the deeper parameters aren't necessarily yielding much better results, which means we're probably arriving at our top mean validation sensitivity around 94%. \n",
    "\n",
    "__Next Notebook__\n",
    "\n",
    "It'd be interesting to look at grid search results insofar as training times and variance of the models, and then pick one to move the decision threshold so as to yield the most appropriate balance between sensitivity and specificity, given that we believe sensitivity to be more desirable.\n"
   ]
  },
  {
   "cell_type": "markdown",
   "metadata": {},
   "source": [
    "---"
   ]
  },
  {
   "cell_type": "markdown",
   "metadata": {},
   "source": [
    "## Setup & Load Results\n",
    "\n",
    "The are the results of the grid searches in the previous 3 notebooks (__12_RandomForests3.1__, __3.2__, and __3.3__)."
   ]
  },
  {
   "cell_type": "code",
   "execution_count": 1,
   "metadata": {},
   "outputs": [
    {
     "name": "stdout",
     "output_type": "stream",
     "text": [
      "Revised on: 2021-01-12\n"
     ]
    }
   ],
   "source": [
    "import re\n",
    "import os\n",
    "import time\n",
    "import joblib \n",
    "\n",
    "import numpy as np\n",
    "import pandas as pd\n",
    "import scipy.sparse as sp\n",
    "\n",
    "import custom.new_gridsearch as ng\n",
    "\n",
    "from datetime import datetime\n",
    "\n",
    "dt_object = datetime.fromtimestamp(time.time())\n",
    "day, T = str(dt_object).split('.')[0].split(' ')\n",
    "print('Revised on: ' + day)"
   ]
  },
  {
   "cell_type": "code",
   "execution_count": 2,
   "metadata": {},
   "outputs": [],
   "source": [
    "# load grid searches\n",
    "mod_path = os.path.join(\"data\",\"3_modeling\")\n",
    "filename = '01092021_rf_gridsearches.joblib'\n",
    "                \n",
    "gridsearches = joblib.load(os.path.join(mod_path, filename))"
   ]
  },
  {
   "cell_type": "code",
   "execution_count": 3,
   "metadata": {},
   "outputs": [
    {
     "data": {
      "text/html": [
       "<div>\n",
       "<style scoped>\n",
       "    .dataframe tbody tr th:only-of-type {\n",
       "        vertical-align: middle;\n",
       "    }\n",
       "\n",
       "    .dataframe tbody tr th {\n",
       "        vertical-align: top;\n",
       "    }\n",
       "\n",
       "    .dataframe thead th {\n",
       "        text-align: right;\n",
       "    }\n",
       "</style>\n",
       "<table border=\"1\" class=\"dataframe\">\n",
       "  <thead>\n",
       "    <tr style=\"text-align: right;\">\n",
       "      <th></th>\n",
       "      <th>representation</th>\n",
       "      <th>max_depth</th>\n",
       "      <th>max_features</th>\n",
       "      <th>min_samples_split</th>\n",
       "      <th>n_estimators</th>\n",
       "      <th>mean_val_acc</th>\n",
       "      <th>mean_val_tpr</th>\n",
       "      <th>mean_val_tnr</th>\n",
       "    </tr>\n",
       "  </thead>\n",
       "  <tbody>\n",
       "    <tr>\n",
       "      <th>67</th>\n",
       "      <td>X_bot_cossim_bot</td>\n",
       "      <td>20</td>\n",
       "      <td>500</td>\n",
       "      <td>5</td>\n",
       "      <td>200</td>\n",
       "      <td>0.991110</td>\n",
       "      <td>0.943320</td>\n",
       "      <td>0.998421</td>\n",
       "    </tr>\n",
       "    <tr>\n",
       "      <th>23</th>\n",
       "      <td>X_bot_cossim_bot</td>\n",
       "      <td>5</td>\n",
       "      <td>500</td>\n",
       "      <td>15</td>\n",
       "      <td>200</td>\n",
       "      <td>0.990766</td>\n",
       "      <td>0.943252</td>\n",
       "      <td>0.998027</td>\n",
       "    </tr>\n",
       "    <tr>\n",
       "      <th>21</th>\n",
       "      <td>X_bot_cossim_bot</td>\n",
       "      <td>5</td>\n",
       "      <td>500</td>\n",
       "      <td>10</td>\n",
       "      <td>200</td>\n",
       "      <td>0.990766</td>\n",
       "      <td>0.943252</td>\n",
       "      <td>0.998027</td>\n",
       "    </tr>\n",
       "    <tr>\n",
       "      <th>66</th>\n",
       "      <td>X_bot_cossim_bot</td>\n",
       "      <td>20</td>\n",
       "      <td>500</td>\n",
       "      <td>5</td>\n",
       "      <td>100</td>\n",
       "      <td>0.990767</td>\n",
       "      <td>0.940688</td>\n",
       "      <td>0.998421</td>\n",
       "    </tr>\n",
       "  </tbody>\n",
       "</table>\n",
       "</div>"
      ],
      "text/plain": [
       "      representation  max_depth  max_features  min_samples_split  \\\n",
       "67  X_bot_cossim_bot         20           500                  5   \n",
       "23  X_bot_cossim_bot          5           500                 15   \n",
       "21  X_bot_cossim_bot          5           500                 10   \n",
       "66  X_bot_cossim_bot         20           500                  5   \n",
       "\n",
       "    n_estimators  mean_val_acc  mean_val_tpr  mean_val_tnr  \n",
       "67           200      0.991110      0.943320      0.998421  \n",
       "23           200      0.990766      0.943252      0.998027  \n",
       "21           200      0.990766      0.943252      0.998027  \n",
       "66           100      0.990767      0.940688      0.998421  "
      ]
     },
     "execution_count": 3,
     "metadata": {},
     "output_type": "execute_result"
    }
   ],
   "source": [
    "def extract_df(dic):\n",
    "    df = pd.concat([\n",
    "                    pd.DataFrame({'representation':[dic['representation']] \\\n",
    "                                * len(dic['gridsearch_res'].cv_results_[\"params\"])}),\n",
    "                    pd.DataFrame(dic['gridsearch_res'].cv_results_[\"params\"]),\n",
    "                    pd.DataFrame(dic['gridsearch_res'].cv_results_[\"mean_test_acc\"], \n",
    "                                 columns=[\"mean_val_acc\"]),\n",
    "                    pd.DataFrame(dic['gridsearch_res'].cv_results_[\"mean_test_tpr\"], \n",
    "                                 columns=[\"mean_val_tpr\"]),\n",
    "                    pd.DataFrame(dic['gridsearch_res'].cv_results_[\"mean_test_tnr\"], \n",
    "                                 columns=[\"mean_val_tnr\"])\n",
    "                    ], axis=1)\n",
    "    return df\n",
    "\n",
    "# create list of dfs\n",
    "df_list = []\n",
    "for ix, dic in enumerate(gridsearches):\n",
    "    df_list.append(extract_df(dic))\n",
    "\n",
    "# flatten and reindex\n",
    "dfm = pd.concat(df_list)\n",
    "dfm.index = range(len(dfm))\n",
    "\n",
    "# sort by top mean validation sensitivity\n",
    "top_tpr = dfm.sort_values(by=['mean_val_tpr'], ascending=False).iloc[:4,:].copy()\n",
    "top_tpr"
   ]
  },
  {
   "cell_type": "code",
   "execution_count": 4,
   "metadata": {},
   "outputs": [
    {
     "data": {
      "text/html": [
       "<div>\n",
       "<style scoped>\n",
       "    .dataframe tbody tr th:only-of-type {\n",
       "        vertical-align: middle;\n",
       "    }\n",
       "\n",
       "    .dataframe tbody tr th {\n",
       "        vertical-align: top;\n",
       "    }\n",
       "\n",
       "    .dataframe thead th {\n",
       "        text-align: right;\n",
       "    }\n",
       "</style>\n",
       "<table border=\"1\" class=\"dataframe\">\n",
       "  <thead>\n",
       "    <tr style=\"text-align: right;\">\n",
       "      <th></th>\n",
       "      <th>representation</th>\n",
       "      <th>max_depth</th>\n",
       "      <th>max_features</th>\n",
       "      <th>min_samples_split</th>\n",
       "      <th>n_estimators</th>\n",
       "      <th>mean_val_acc</th>\n",
       "      <th>mean_val_tpr</th>\n",
       "      <th>mean_val_tnr</th>\n",
       "    </tr>\n",
       "  </thead>\n",
       "  <tbody>\n",
       "    <tr>\n",
       "      <th>135</th>\n",
       "      <td>X_tfidf_cossim_tfidf</td>\n",
       "      <td>20</td>\n",
       "      <td>250</td>\n",
       "      <td>10</td>\n",
       "      <td>200</td>\n",
       "      <td>0.986319</td>\n",
       "      <td>0.919973</td>\n",
       "      <td>0.99645</td>\n",
       "    </tr>\n",
       "    <tr>\n",
       "      <th>143</th>\n",
       "      <td>X_tfidf_cossim_tfidf</td>\n",
       "      <td>20</td>\n",
       "      <td>500</td>\n",
       "      <td>15</td>\n",
       "      <td>200</td>\n",
       "      <td>0.985976</td>\n",
       "      <td>0.917409</td>\n",
       "      <td>0.99645</td>\n",
       "    </tr>\n",
       "    <tr>\n",
       "      <th>90</th>\n",
       "      <td>X_tfidf_cossim_tfidf</td>\n",
       "      <td>5</td>\n",
       "      <td>500</td>\n",
       "      <td>5</td>\n",
       "      <td>100</td>\n",
       "      <td>0.985976</td>\n",
       "      <td>0.917409</td>\n",
       "      <td>0.99645</td>\n",
       "    </tr>\n",
       "    <tr>\n",
       "      <th>112</th>\n",
       "      <td>X_tfidf_cossim_tfidf</td>\n",
       "      <td>10</td>\n",
       "      <td>250</td>\n",
       "      <td>15</td>\n",
       "      <td>100</td>\n",
       "      <td>0.985976</td>\n",
       "      <td>0.917409</td>\n",
       "      <td>0.99645</td>\n",
       "    </tr>\n",
       "  </tbody>\n",
       "</table>\n",
       "</div>"
      ],
      "text/plain": [
       "           representation  max_depth  max_features  min_samples_split  \\\n",
       "135  X_tfidf_cossim_tfidf         20           250                 10   \n",
       "143  X_tfidf_cossim_tfidf         20           500                 15   \n",
       "90   X_tfidf_cossim_tfidf          5           500                  5   \n",
       "112  X_tfidf_cossim_tfidf         10           250                 15   \n",
       "\n",
       "     n_estimators  mean_val_acc  mean_val_tpr  mean_val_tnr  \n",
       "135           200      0.986319      0.919973       0.99645  \n",
       "143           200      0.985976      0.917409       0.99645  \n",
       "90            100      0.985976      0.917409       0.99645  \n",
       "112           100      0.985976      0.917409       0.99645  "
      ]
     },
     "execution_count": 4,
     "metadata": {},
     "output_type": "execute_result"
    }
   ],
   "source": [
    "dfm[dfm['representation']=='X_tfidf_cossim_tfidf'].sort_values(by=['mean_val_tpr'], ascending=False).iloc[:4,:]"
   ]
  },
  {
   "cell_type": "markdown",
   "metadata": {},
   "source": [
    "Curiously, the 10-fold cross validation mean sensitivity is lower for the tfidf than for the bot, which is the opposite of what I expected after running the single confusion matrices in the previous notebook. This reversal might be due to the variance in the model, something to be tested. \n",
    "\n",
    "First, I run a slightly more involved grid search with these models using more trees and greater depth."
   ]
  },
  {
   "cell_type": "code",
   "execution_count": 5,
   "metadata": {},
   "outputs": [],
   "source": [
    "import json\n",
    "import urlextract\n",
    "from nltk.stem import WordNetLemmatizer\n",
    "\n",
    "def load_data(data):\n",
    "    raw_path = os.path.join(\"data\",\"1_raw\")\n",
    "    filename = ''.join([data, \".csv\"])\n",
    "    out_dfm = pd.read_csv(os.path.join(raw_path, filename))\n",
    "    out_arr = np.array(out_dfm.iloc[:,0].ravel())\n",
    "    return out_arr\n",
    "\n",
    "X_train = load_data(\"X_train\")\n",
    "y_train = load_data(\"y_train\")\n",
    "\n",
    "y = y_train.copy()\n",
    "\n",
    "# transform y_array into int type\n",
    "y[y=='ham'] = 0\n",
    "y[y=='spam'] = 1\n",
    "y = y.astype('int')\n",
    "\n",
    "# load contractions map for custom cleanup\n",
    "with open(\"contractions_map.json\") as f:\n",
    "    contractions_map = json.load(f)"
   ]
  },
  {
   "cell_type": "code",
   "execution_count": 6,
   "metadata": {},
   "outputs": [],
   "source": [
    "import custom.clean_preprocess as cp\n",
    "\n",
    "from sklearn.pipeline import Pipeline\n",
    "from sklearn.feature_extraction.text import TfidfTransformer\n",
    "\n",
    "pipe = Pipeline([('counter', cp.DocumentToNgramCounterTransformer(n_grams=3)),\n",
    "                 ('bot', cp.WordCounterToVectorTransformer(vocabulary_size=2000)),\n",
    "                 ('tfidf', TfidfTransformer(sublinear_tf=True))\n",
    "                ])\n",
    "\n",
    "X_counter = pipe['counter'].fit_transform(X_train)\n",
    "X_bot = pipe['bot'].fit_transform(X_counter)\n",
    "X_tfidf = pipe.fit_transform(X_train)"
   ]
  },
  {
   "cell_type": "code",
   "execution_count": 7,
   "metadata": {},
   "outputs": [],
   "source": [
    "from scipy.sparse.linalg import svds\n",
    "from sklearn.utils.extmath import svd_flip\n",
    "\n",
    "def perform_SVD(X, n_components=300):\n",
    "    \n",
    "    X_array = X.asfptype()\n",
    "    U, Sigma, VT = svds(X_array.T, # term-document matrix\n",
    "                        k=n_components)\n",
    "    # reverse outputs\n",
    "    Sigma = Sigma[::-1]\n",
    "    U, VT = svd_flip(U[:, ::-1], VT[::-1])\n",
    "    \n",
    "    # return V \n",
    "    V = VT.T\n",
    "    return V # do not scale for random forests!\n",
    "\n",
    "X_svd_bot = perform_SVD(X_bot)\n",
    "X_svd_tfidf = perform_SVD(X_tfidf)"
   ]
  },
  {
   "cell_type": "code",
   "execution_count": 8,
   "metadata": {},
   "outputs": [],
   "source": [
    "from scipy.sparse import csr_matrix\n",
    "from sklearn.metrics.pairwise import cosine_similarity\n",
    "\n",
    "X_cossim_svd_bot = cosine_similarity(X_svd_bot)\n",
    "X_cossim_svd_tfidf = cosine_similarity(X_svd_tfidf)\n",
    "\n",
    "train_df = pd.DataFrame({'sms':X_train, 'target':y_train})\n",
    "\n",
    "# get spam indexes\n",
    "spam_ix = train_df.loc[train_df['target']=='spam'].index\n",
    "\n",
    "# calculate average spam similarity on SVD\n",
    "mean_spam_sims_bot, mean_spam_sims_tfidf = [], []\n",
    "\n",
    "for ix in range(X_cossim_svd_bot.shape[0]):\n",
    "    mean_spam_sims_bot.append(np.mean(X_cossim_svd_bot[ix, spam_ix]))\n",
    "    mean_spam_sims_tfidf.append(np.mean(X_cossim_svd_tfidf[ix, spam_ix]))\n",
    "\n",
    "X_bot_cossim_bot = sp.hstack((csr_matrix(mean_spam_sims_bot).T, X_bot))\n",
    "X_tfidf_cossim_tfidf = sp.hstack((csr_matrix(mean_spam_sims_tfidf).T, X_tfidf)) "
   ]
  },
  {
   "cell_type": "code",
   "execution_count": 9,
   "metadata": {},
   "outputs": [],
   "source": [
    "Xs = [X_bot_cossim_bot, X_tfidf_cossim_tfidf]\n",
    "Xnames = ['X_bot_cossim_bot', 'X_tfidf_cossim_tfidf']"
   ]
  },
  {
   "cell_type": "code",
   "execution_count": 10,
   "metadata": {},
   "outputs": [],
   "source": [
    "param_grid = {\n",
    "    \n",
    "    'min_samples_split': [5, 10],\n",
    "    'n_estimators' : [200, 500],\n",
    "    'max_depth': [20, 30],\n",
    "    'max_features': [200, 500]\n",
    "}"
   ]
  },
  {
   "cell_type": "code",
   "execution_count": 11,
   "metadata": {},
   "outputs": [
    {
     "name": "stdout",
     "output_type": "stream",
     "text": [
      "\n",
      "Training 1: X_bot_cossim_bot...\n",
      "Elapsed: 1364 s\n",
      "Best params: {'max_depth': 20, 'max_features': 500, 'min_samples_split': 10, 'n_estimators': 500}\n",
      "Confusion matrix on validation set:\n",
      "     pred_neg  pred_pos\n",
      "neg       843         3\n",
      "pos         5       124\n",
      "Evaluation metrics:\n",
      "accuracy: 0.9918\n",
      "sensitivity: 0.9612\n",
      "specificity: 0.9965\n",
      "\n",
      "Training 2: X_tfidf_cossim_tfidf...\n",
      "Elapsed: 1322 s\n",
      "Best params: {'max_depth': 20, 'max_features': 200, 'min_samples_split': 5, 'n_estimators': 200}\n",
      "Confusion matrix on validation set:\n",
      "     pred_neg  pred_pos\n",
      "neg       842         4\n",
      "pos         7       122\n",
      "Evaluation metrics:\n",
      "accuracy: 0.9887\n",
      "sensitivity: 0.9457\n",
      "specificity: 0.9953\n",
      "\n",
      "Elapsed: 44 m 46 s\n"
     ]
    }
   ],
   "source": [
    "# default n_jobs made explicit, slowing things down for performance reasons\n",
    "grid_search_clf = ng.gridsearch_wrapper(Xs, Xnames, y, param_grid, n_jobs=6) "
   ]
  },
  {
   "cell_type": "markdown",
   "metadata": {},
   "source": [
    "Now we see again that the bot has slightly better sensitivity compared to the tfidf, with the single evaluation with the confusion matrix. \n",
    "\n",
    "However, as we see below, the tfidf-ed version has better mean validation sensitivity after 10-fold cross validation."
   ]
  },
  {
   "cell_type": "code",
   "execution_count": 12,
   "metadata": {},
   "outputs": [
    {
     "data": {
      "text/plain": [
       "'data\\\\3_modeling\\\\01112021_rf_gridsearches.joblib'"
      ]
     },
     "execution_count": 12,
     "metadata": {},
     "output_type": "execute_result"
    }
   ],
   "source": [
    "# check save path\n",
    "save_path = os.path.join(mod_path, \"\".join([\"01112021\", \"_rf_gridsearches.joblib\"]))\n",
    "save_path"
   ]
  },
  {
   "cell_type": "code",
   "execution_count": 14,
   "metadata": {},
   "outputs": [
    {
     "data": {
      "text/plain": [
       "['data\\\\3_modeling\\\\01112021_rf_gridsearches.joblib']"
      ]
     },
     "execution_count": 14,
     "metadata": {},
     "output_type": "execute_result"
    }
   ],
   "source": [
    "# persist gridsearches\n",
    "joblib.dump(grid_search_clf, save_path)"
   ]
  },
  {
   "cell_type": "code",
   "execution_count": 31,
   "metadata": {},
   "outputs": [
    {
     "data": {
      "text/html": [
       "<div>\n",
       "<style scoped>\n",
       "    .dataframe tbody tr th:only-of-type {\n",
       "        vertical-align: middle;\n",
       "    }\n",
       "\n",
       "    .dataframe tbody tr th {\n",
       "        vertical-align: top;\n",
       "    }\n",
       "\n",
       "    .dataframe thead th {\n",
       "        text-align: right;\n",
       "    }\n",
       "</style>\n",
       "<table border=\"1\" class=\"dataframe\">\n",
       "  <thead>\n",
       "    <tr style=\"text-align: right;\">\n",
       "      <th></th>\n",
       "      <th>representation</th>\n",
       "      <th>max_depth</th>\n",
       "      <th>max_features</th>\n",
       "      <th>min_samples_split</th>\n",
       "      <th>n_estimators</th>\n",
       "      <th>mean_val_acc</th>\n",
       "      <th>mean_val_tpr</th>\n",
       "      <th>mean_val_tnr</th>\n",
       "    </tr>\n",
       "  </thead>\n",
       "  <tbody>\n",
       "    <tr>\n",
       "      <th>16</th>\n",
       "      <td>X_tfidf_cossim_tfidf</td>\n",
       "      <td>20</td>\n",
       "      <td>200</td>\n",
       "      <td>5</td>\n",
       "      <td>200</td>\n",
       "      <td>0.987692</td>\n",
       "      <td>0.938259</td>\n",
       "      <td>0.995266</td>\n",
       "    </tr>\n",
       "    <tr>\n",
       "      <th>24</th>\n",
       "      <td>X_tfidf_cossim_tfidf</td>\n",
       "      <td>30</td>\n",
       "      <td>200</td>\n",
       "      <td>5</td>\n",
       "      <td>200</td>\n",
       "      <td>0.987692</td>\n",
       "      <td>0.938259</td>\n",
       "      <td>0.995266</td>\n",
       "    </tr>\n",
       "    <tr>\n",
       "      <th>17</th>\n",
       "      <td>X_tfidf_cossim_tfidf</td>\n",
       "      <td>20</td>\n",
       "      <td>200</td>\n",
       "      <td>5</td>\n",
       "      <td>500</td>\n",
       "      <td>0.987693</td>\n",
       "      <td>0.935695</td>\n",
       "      <td>0.995660</td>\n",
       "    </tr>\n",
       "    <tr>\n",
       "      <th>30</th>\n",
       "      <td>X_tfidf_cossim_tfidf</td>\n",
       "      <td>30</td>\n",
       "      <td>500</td>\n",
       "      <td>10</td>\n",
       "      <td>200</td>\n",
       "      <td>0.987352</td>\n",
       "      <td>0.935695</td>\n",
       "      <td>0.995266</td>\n",
       "    </tr>\n",
       "    <tr>\n",
       "      <th>28</th>\n",
       "      <td>X_tfidf_cossim_tfidf</td>\n",
       "      <td>30</td>\n",
       "      <td>500</td>\n",
       "      <td>5</td>\n",
       "      <td>200</td>\n",
       "      <td>0.987352</td>\n",
       "      <td>0.935695</td>\n",
       "      <td>0.995266</td>\n",
       "    </tr>\n",
       "    <tr>\n",
       "      <th>25</th>\n",
       "      <td>X_tfidf_cossim_tfidf</td>\n",
       "      <td>30</td>\n",
       "      <td>200</td>\n",
       "      <td>5</td>\n",
       "      <td>500</td>\n",
       "      <td>0.987693</td>\n",
       "      <td>0.935695</td>\n",
       "      <td>0.995660</td>\n",
       "    </tr>\n",
       "  </tbody>\n",
       "</table>\n",
       "</div>"
      ],
      "text/plain": [
       "          representation  max_depth  max_features  min_samples_split  \\\n",
       "16  X_tfidf_cossim_tfidf         20           200                  5   \n",
       "24  X_tfidf_cossim_tfidf         30           200                  5   \n",
       "17  X_tfidf_cossim_tfidf         20           200                  5   \n",
       "30  X_tfidf_cossim_tfidf         30           500                 10   \n",
       "28  X_tfidf_cossim_tfidf         30           500                  5   \n",
       "25  X_tfidf_cossim_tfidf         30           200                  5   \n",
       "\n",
       "    n_estimators  mean_val_acc  mean_val_tpr  mean_val_tnr  \n",
       "16           200      0.987692      0.938259      0.995266  \n",
       "24           200      0.987692      0.938259      0.995266  \n",
       "17           500      0.987693      0.935695      0.995660  \n",
       "30           200      0.987352      0.935695      0.995266  \n",
       "28           200      0.987352      0.935695      0.995266  \n",
       "25           500      0.987693      0.935695      0.995660  "
      ]
     },
     "execution_count": 31,
     "metadata": {},
     "output_type": "execute_result"
    }
   ],
   "source": [
    "# create list of dfs\n",
    "df_list = []\n",
    "for ix, dic in enumerate(grid_search_clf):\n",
    "    df_list.append(extract_df(dic))\n",
    "\n",
    "# flatten and reindex\n",
    "dfm = pd.concat(df_list)\n",
    "dfm.index = range(len(dfm))\n",
    "\n",
    "# sort by top mean validation sensitivity\n",
    "top_tpr = dfm.sort_values(by=['mean_val_tpr'], ascending=False).copy()\n",
    "top_tpr.iloc[:6,:]"
   ]
  },
  {
   "cell_type": "markdown",
   "metadata": {},
   "source": [
    "Curiously, best mean validation RP rates are not necessarily maxing out the number of trees, their depth, nor the number of estimators. Differences are very slight however."
   ]
  },
  {
   "cell_type": "markdown",
   "metadata": {},
   "source": [
    "## Visualize results"
   ]
  },
  {
   "cell_type": "code",
   "execution_count": 38,
   "metadata": {},
   "outputs": [],
   "source": [
    "# concatenate representation and n_estimators for plt.xlabel\n",
    "top_tpr['xticks'] = top_tpr.agg(lambda x: f\"{x['representation']}-{x['max_depth']}-\\\n",
    "{x['max_features']}-{x['min_samples_split']}-{x['n_estimators']}\", axis=1)\n",
    "\n",
    "import matplotlib.pyplot as plt\n",
    "\n",
    "def plot_topscores(X):\n",
    "    plt.figure(figsize=(14, 8))\n",
    "    plt.plot(np.array(X['mean_val_acc']), label=\"mean validation accuracy\")\n",
    "    plt.plot(np.array(X['mean_val_tpr']), label=\"mean validation sensitivity\")\n",
    "    plt.plot(np.array(X['mean_val_tnr']), label=\"mean validation specificiy\")\n",
    "    plt.title('Evaluating top mean validation sensitivity representations')\n",
    "    plt.xticks(np.arange(21), tuple(X['xticks']))\n",
    "    plt.legend(loc=\"lower right\")\n",
    "    plt.axis([0, 20, 0.9, 1.01])\n",
    "    plt.xticks(rotation=90)\n",
    "    plt.show()"
   ]
  },
  {
   "cell_type": "code",
   "execution_count": 39,
   "metadata": {},
   "outputs": [
    {
     "data": {
      "image/png": "[encoded data removed]",
      "text/plain": [
       "<Figure size 1008x576 with 1 Axes>"
      ]
     },
     "metadata": {
      "needs_background": "light"
     },
     "output_type": "display_data"
    }
   ],
   "source": [
    "plot_topscores(top_tpr)"
   ]
  },
  {
   "cell_type": "markdown",
   "metadata": {},
   "source": [
    "---"
   ]
  }
 ],
 "metadata": {
  "kernelspec": {
   "display_name": "Python 3",
   "language": "python",
   "name": "python3"
  },
  "language_info": {
   "codemirror_mode": {
    "name": "ipython",
    "version": 3
   },
   "file_extension": ".py",
   "mimetype": "text/x-python",
   "name": "python",
   "nbconvert_exporter": "python",
   "pygments_lexer": "ipython3",
   "version": "3.9.1"
  }
 },
 "nbformat": 4,
 "nbformat_minor": 4
}
