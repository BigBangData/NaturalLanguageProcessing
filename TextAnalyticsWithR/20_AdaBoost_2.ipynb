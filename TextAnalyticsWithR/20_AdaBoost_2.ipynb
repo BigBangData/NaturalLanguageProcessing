{
 "cells": [
  {
   "cell_type": "markdown",
   "metadata": {},
   "source": [
    "# AdaBoost\n",
    "---\n",
    "\n",
    "__This Notebook__\n",
    "\n",
    "- implements AdaBoost with full params\n",
    "\n",
    "__Results__ \n",
    "\n",
    "- to beat...\n",
    "\n",
    "```\n",
    "acc: 0.9908\n",
    "tpr: 0.9845\n",
    "tnr: 0.9917\n",
    "```\n"
   ]
  },
  {
   "cell_type": "markdown",
   "metadata": {},
   "source": [
    "## Setup"
   ]
  },
  {
   "cell_type": "code",
   "execution_count": 1,
   "metadata": {},
   "outputs": [
    {
     "name": "stdout",
     "output_type": "stream",
     "text": [
      "Revised on: 2021-02-06\n"
     ]
    }
   ],
   "source": [
    "import re\n",
    "import os\n",
    "import time\n",
    "import joblib \n",
    "\n",
    "import numpy as np\n",
    "import pandas as pd\n",
    "import scipy.sparse as sp\n",
    "import matplotlib.pyplot as plt\n",
    "\n",
    "from datetime import datetime\n",
    "from sklearn.metrics import confusion_matrix\n",
    "\n",
    "dt_object = datetime.fromtimestamp(time.time())\n",
    "day, T = str(dt_object).split('.')[0].split(' ')\n",
    "print('Revised on: ' + day)"
   ]
  },
  {
   "cell_type": "markdown",
   "metadata": {},
   "source": [
    "## Load"
   ]
  },
  {
   "cell_type": "code",
   "execution_count": 2,
   "metadata": {},
   "outputs": [],
   "source": [
    "# load target vector\n",
    "raw_path = os.path.join(\"data\",\"1_raw\")\n",
    "y_df = pd.read_csv(os.path.join(raw_path, 'y_train.csv'))\n",
    "y_array = np.array(y_df.iloc[:,0].ravel())\n",
    "\n",
    "y = y_array.copy()\n",
    "\n",
    "# transform y_array into int type\n",
    "y[y=='ham'] = 0\n",
    "y[y=='spam'] = 1\n",
    "y = y.astype('int')\n",
    "\n",
    "# load matrix\n",
    "proc_dir = os.path.join(\"data\", \"2_processed\")\n",
    "X_tfidf_svd800_spamcos = sp.load_npz(os.path.join(proc_dir, 'X_tfidf_svd800_spamcos.npz'))"
   ]
  },
  {
   "cell_type": "markdown",
   "metadata": {},
   "source": [
    "## Helpful Functions\n"
   ]
  },
  {
   "cell_type": "code",
   "execution_count": 3,
   "metadata": {},
   "outputs": [],
   "source": [
    "# train classifier and time it\n",
    "def time_deco(func):\n",
    "    def wrapper(clf):\n",
    "        start = time.time()\n",
    "        func(clf)\n",
    "        m,s = divmod(time.time() - start, 60)\n",
    "        print(f'Elapsed: {m:0.0f}m {s:0.0f}s')\n",
    "    return wrapper\n",
    "\n",
    "@time_deco\n",
    "def fit_clf(clf):\n",
    "    clf.fit(X_train, y_train)\n",
    "    \n",
    "# evaluate classifier\n",
    "def eval_clf(y_val, y_pred):\n",
    "    tn, fp, fn, tp = confusion_matrix(y_val, \n",
    "                                      y_pred).ravel()\n",
    "    confmat_df = pd.DataFrame(\n",
    "        np.array(([tn, fp], [fn, tp])),\n",
    "        columns=['pred_neg', 'pred_pos'], \n",
    "        index=['cond_neg', 'cond_pos']\n",
    "    )\n",
    "    # unpack metrics\n",
    "    acc = (tp + tn) / (tp + tn + fp + fn)\n",
    "    tpr = tp / (tp + fn)\n",
    "    tnr = tn / (tn + fp)\n",
    "    # print results\n",
    "    print(confmat_df)\n",
    "    print(f'acc: {acc:0.4f}')\n",
    "    print(f'tpr: {tpr:0.4f}')\n",
    "    print(f'tnr: {tnr:0.4f}')"
   ]
  },
  {
   "cell_type": "markdown",
   "metadata": {},
   "source": [
    "### Train Test Split"
   ]
  },
  {
   "cell_type": "code",
   "execution_count": 4,
   "metadata": {},
   "outputs": [],
   "source": [
    "from sklearn.model_selection import train_test_split\n",
    "from sklearn.svm import SVC\n",
    "\n",
    "X_train, X_val, y_train, y_val = train_test_split(X_tfidf_svd800_spamcos,\n",
    "                                                  y, \n",
    "                                                  stratify=y,\n",
    "                                                  random_state=42)"
   ]
  },
  {
   "cell_type": "markdown",
   "metadata": {},
   "source": [
    "##  AdaBoost (Adaptive Boosting) \n",
    "\n",
    "\n",
    "The first successful boosting algorithm for binary classification. Many current boosting methods build on it.\n",
    "\n",
    "Scikit-Learn implements [SAMME](https://web.stanford.edu/~hastie/Papers/samme.pdf): *Stagewise Additive Modeling using a Multiclass Esponential loss function.* With two classes, SAMME works just as AdaBoost would. If predictions can estimate class probabilities, Scikit-Learn uses a variant of SAMME called *SAMME.R* (R=Real).\n",
    "\n",
    "```\n",
    "class AdaBoostClassifier(ClassifierMixin, BaseWeightBoosting):\n",
    "    \"\"\"An AdaBoost classifier.\n",
    "    An AdaBoost [1] classifier is a meta-estimator that begins by fitting a\n",
    "    classifier on the original dataset and then fits additional copies of the\n",
    "    classifier on the same dataset but where the weights of incorrectly\n",
    "    classified instances are adjusted such that subsequent classifiers focus\n",
    "    more on difficult cases.\n",
    "    \n",
    "    This class implements the algorithm known as AdaBoost-SAMME [2].\n",
    "\n",
    "```\n",
    "\n",
    "See [docs](https://scikit-learn.org/stable/modules/generated/sklearn.ensemble.AdaBoostClassifier.html), [code](https://github.com/scikit-learn/scikit-learn/blob/95119c13a/sklearn/ensemble/_weight_boosting.py#L285)\n",
    "\n",
    "\n",
    "__Some defaults:__\n",
    "\n",
    "- `base_estimator`: the default (None) is a DecisionTreeClassifier initialized with max_depth=1\n",
    "- `n_estimators`: default=50\n",
    "- `learning_rate`: default=1, shrinks contribution of each classifier; there's a trade-off with n_estimators\n",
    "- `algorithm{‘SAMME’, ‘SAMME.R’}`: default=’SAMME.R’\n",
    "- `random_state`: default=None\n",
    "\n",
    "__Some methods:__\n",
    "\n",
    "- `.get_params`: returns the parameters\n",
    "- `.decision_function`: evaluates the decision function for the samples in X, if binary from -1 to 1\n",
    "- `.predict`: performs the classification, equivalent to decision_function with a 0 threshold\n",
    "- `.predict_proba`: predict class probabilities for X. \n"
   ]
  },
  {
   "cell_type": "code",
   "execution_count": 5,
   "metadata": {},
   "outputs": [],
   "source": [
    "from sklearn.ensemble import AdaBoostClassifier\n",
    "from sklearn.tree import DecisionTreeClassifier\n",
    "\n",
    "# instantiate with defaults\n",
    "ada_clf =  AdaBoostClassifier(\n",
    "    base_estimator=DecisionTreeClassifier(max_depth=1)\n",
    "    , n_estimators=50\n",
    "    , algorithm='SAMME.R'\n",
    "    , learning_rate=1.0\n",
    "    , random_state=42)"
   ]
  },
  {
   "cell_type": "code",
   "execution_count": 6,
   "metadata": {},
   "outputs": [
    {
     "name": "stdout",
     "output_type": "stream",
     "text": [
      "Elapsed: 0m 14s\n"
     ]
    }
   ],
   "source": [
    "# train\n",
    "fit_clf(ada_clf)"
   ]
  },
  {
   "cell_type": "code",
   "execution_count": 7,
   "metadata": {},
   "outputs": [
    {
     "data": {
      "image/png": "[encoded data removed]",
      "text/plain": [
       "<Figure size 432x288 with 1 Axes>"
      ]
     },
     "metadata": {
      "needs_background": "light"
     },
     "output_type": "display_data"
    }
   ],
   "source": [
    "# evaluate using decision function\n",
    "y_score = ada_clf.decision_function(X_val)\n",
    "plt.plot(sorted(y_score))\n",
    "plt.show()"
   ]
  },
  {
   "cell_type": "markdown",
   "metadata": {},
   "source": [
    "Predicting with `threshold=0` is equivalent to using the `.predict` method"
   ]
  },
  {
   "cell_type": "code",
   "execution_count": 8,
   "metadata": {},
   "outputs": [
    {
     "name": "stdout",
     "output_type": "stream",
     "text": [
      "          pred_neg  pred_pos\n",
      "cond_neg       842         4\n",
      "cond_pos         5       124\n",
      "acc: 0.9908\n",
      "tpr: 0.9612\n",
      "tnr: 0.9953\n"
     ]
    }
   ],
   "source": [
    "# default threshold\n",
    "thresh = 0\n",
    "y_pred = np.where(y_score > thresh, 1, 0)\n",
    "eval_clf(y_val, y_pred)"
   ]
  },
  {
   "cell_type": "code",
   "execution_count": 9,
   "metadata": {},
   "outputs": [
    {
     "data": {
      "image/png": "[encoded data removed]",
      "text/plain": [
       "<Figure size 432x288 with 1 Axes>"
      ]
     },
     "metadata": {
      "needs_background": "light"
     },
     "output_type": "display_data"
    }
   ],
   "source": [
    "y_pred = ada_clf.predict(X_val)\n",
    "plt.plot(sorted(y_pred))\n",
    "plt.show()"
   ]
  },
  {
   "cell_type": "code",
   "execution_count": 10,
   "metadata": {},
   "outputs": [
    {
     "name": "stdout",
     "output_type": "stream",
     "text": [
      "          pred_neg  pred_pos\n",
      "cond_neg       842         4\n",
      "cond_pos         5       124\n",
      "acc: 0.9908\n",
      "tpr: 0.9612\n",
      "tnr: 0.9953\n"
     ]
    }
   ],
   "source": [
    "eval_clf(y_val, y_pred)"
   ]
  },
  {
   "cell_type": "markdown",
   "metadata": {},
   "source": [
    "## GridSearchCV"
   ]
  },
  {
   "cell_type": "code",
   "execution_count": 11,
   "metadata": {},
   "outputs": [],
   "source": [
    "from sklearn.model_selection import StratifiedKFold\n",
    "from sklearn.model_selection import GridSearchCV\n",
    "from sklearn.metrics import make_scorer, accuracy_score, recall_score\n",
    "\n",
    "def gridsearch_wrapper(X, y, param_grid, k=5, n_jobs=6):\n",
    "    \"\"\"\n",
    "    Performs a grid search with\n",
    "    Args:\n",
    "        X: numeric matrix\n",
    "        y: target variable\n",
    "        k: number of CV folds\n",
    "        n_jobs: number of logical cores\n",
    "    \"\"\"\n",
    "    start_time = time.time()\n",
    "\n",
    "    # split into training and validation sets\n",
    "    X_train, X_val, y_train, y_val = train_test_split(X, \n",
    "                                                      y, \n",
    "                                                      stratify=y,\n",
    "                                                      random_state=42)\n",
    "\n",
    "    # setup scorers\n",
    "    scorers = {\n",
    "        'acc': make_scorer(accuracy_score),\n",
    "        'tpr': make_scorer(recall_score, pos_label=1), # sensitivity, recall\n",
    "        'tnr': make_scorer(recall_score, pos_label=0) # specificity, selectivity\n",
    "    }\n",
    "\n",
    "    # instantiate estimator\n",
    "    clf =  AdaBoostClassifier(random_state=42)\n",
    "\n",
    "    # instantiate k-fold gridsearch\n",
    "    cv_folds = StratifiedKFold(n_splits=k)\n",
    "    \n",
    "    grid_search_clf = GridSearchCV(clf, \n",
    "                                   param_grid,\n",
    "                                   scoring=scorers, \n",
    "                                   refit='tpr', \n",
    "                                   cv=cv_folds, \n",
    "                                   return_train_score=True, \n",
    "                                   n_jobs=n_jobs,\n",
    "                                   verbose=1)\n",
    "    \n",
    "    # train models\n",
    "    grid_search_clf.fit(X_train, y_train)\n",
    "\n",
    "    # predict\n",
    "    y_pred = grid_search_clf.predict(X_val)\n",
    "    print(f'Best params: {grid_search_clf.best_params_}')\n",
    "\n",
    "    # eval metrics\n",
    "    print('Evaluation metrics:')\n",
    "    eval_clf(y_val, y_pred)\n",
    "    \n",
    "    return grid_search_clf"
   ]
  },
  {
   "cell_type": "code",
   "execution_count": 14,
   "metadata": {},
   "outputs": [],
   "source": [
    "test_params = {\n",
    "    'n_estimators': [10, 25, 50, 100],\n",
    "    'learning_rate': [.01, .1, 1]  \n",
    "}\n",
    "\n",
    "full_params = {\n",
    "    'n_estimators': [10, 25, 50, 100, 250, 500],\n",
    "    'learning_rate': [.001, .01, .1, 10, 100]\n",
    "}"
   ]
  },
  {
   "cell_type": "code",
   "execution_count": 15,
   "metadata": {},
   "outputs": [
    {
     "name": "stdout",
     "output_type": "stream",
     "text": [
      "Fitting 5 folds for each of 12 candidates, totalling 60 fits\n"
     ]
    },
    {
     "name": "stderr",
     "output_type": "stream",
     "text": [
      "[Parallel(n_jobs=-1)]: Using backend LokyBackend with 8 concurrent workers.\n",
      "[Parallel(n_jobs=-1)]: Done  34 tasks      | elapsed:  1.9min\n",
      "[Parallel(n_jobs=-1)]: Done  60 out of  60 | elapsed:  3.6min finished\n"
     ]
    },
    {
     "name": "stdout",
     "output_type": "stream",
     "text": [
      "Best params: {'learning_rate': 0.1, 'n_estimators': 10}\n",
      "Evaluation metrics:\n",
      "          pred_neg  pred_pos\n",
      "cond_neg       839         7\n",
      "cond_pos         2       127\n",
      "acc: 0.9908\n",
      "tpr: 0.9845\n",
      "tnr: 0.9917\n"
     ]
    }
   ],
   "source": [
    "grid_search_clf = gridsearch_wrapper(X_tfidf_svd800_spamcos, \n",
    "                                     y, \n",
    "                                     full_params, # only change in this notebook\n",
    "                                     k=5, \n",
    "                                     n_jobs=-1)"
   ]
  },
  {
   "cell_type": "code",
   "execution_count": 16,
   "metadata": {},
   "outputs": [
    {
     "data": {
      "text/plain": [
       "['data\\\\3_modeling\\\\02062021_ada_gridsearch.joblib']"
      ]
     },
     "execution_count": 16,
     "metadata": {},
     "output_type": "execute_result"
    }
   ],
   "source": [
    "# persist\n",
    "save_path = os.path.join(\"data\", \"3_modeling\", \"02062021_ada_gridsearch.joblib\")\n",
    "joblib.dump(grid_search_clf, save_path)"
   ]
  },
  {
   "cell_type": "markdown",
   "metadata": {},
   "source": [
    "### Results"
   ]
  },
  {
   "cell_type": "code",
   "execution_count": 17,
   "metadata": {},
   "outputs": [],
   "source": [
    "def extract_df(gd):\n",
    "    gd_res = gd.cv_results_\n",
    "    df = pd.concat([\n",
    "                    pd.DataFrame(gd_res[\"params\"]),\n",
    "                    pd.DataFrame(gd_res[\"mean_test_acc\"], columns=[\"mean_val_acc\"]),\n",
    "                    pd.DataFrame(gd_res[\"mean_test_tpr\"], columns=[\"mean_val_tpr\"]),\n",
    "                    pd.DataFrame(gd_res[\"mean_test_tnr\"], columns=[\"mean_val_tnr\"]),\n",
    "                    pd.DataFrame(gd_res[\"mean_fit_time\"], columns=[\"mean_fit_time\"]),\n",
    "                    pd.DataFrame(gd_res[\"std_test_acc\"], columns=[\"std_val_acc\"]),\n",
    "                    pd.DataFrame(gd_res[\"std_test_tpr\"], columns=[\"std_val_tpr\"]),\n",
    "                    pd.DataFrame(gd_res[\"std_test_tnr\"], columns=[\"std_val_tnr\"]),\n",
    "                   ]\n",
    "                   , axis=1)\n",
    "    return df"
   ]
  },
  {
   "cell_type": "code",
   "execution_count": 18,
   "metadata": {},
   "outputs": [
    {
     "data": {
      "text/html": [
       "<div>\n",
       "<style scoped>\n",
       "    .dataframe tbody tr th:only-of-type {\n",
       "        vertical-align: middle;\n",
       "    }\n",
       "\n",
       "    .dataframe tbody tr th {\n",
       "        vertical-align: top;\n",
       "    }\n",
       "\n",
       "    .dataframe thead th {\n",
       "        text-align: right;\n",
       "    }\n",
       "</style>\n",
       "<table border=\"1\" class=\"dataframe\">\n",
       "  <thead>\n",
       "    <tr style=\"text-align: right;\">\n",
       "      <th></th>\n",
       "      <th>learning_rate</th>\n",
       "      <th>n_estimators</th>\n",
       "      <th>mean_val_acc</th>\n",
       "      <th>mean_val_tpr</th>\n",
       "      <th>mean_val_tnr</th>\n",
       "      <th>mean_fit_time</th>\n",
       "      <th>std_val_acc</th>\n",
       "      <th>std_val_tpr</th>\n",
       "      <th>std_val_tnr</th>\n",
       "    </tr>\n",
       "  </thead>\n",
       "  <tbody>\n",
       "    <tr>\n",
       "      <th>4</th>\n",
       "      <td>0.10</td>\n",
       "      <td>10</td>\n",
       "      <td>0.993846</td>\n",
       "      <td>0.971695</td>\n",
       "      <td>0.997239</td>\n",
       "      <td>6.175387</td>\n",
       "      <td>0.003170</td>\n",
       "      <td>0.020480</td>\n",
       "      <td>0.002676</td>\n",
       "    </tr>\n",
       "    <tr>\n",
       "      <th>0</th>\n",
       "      <td>0.01</td>\n",
       "      <td>10</td>\n",
       "      <td>0.993504</td>\n",
       "      <td>0.969131</td>\n",
       "      <td>0.997239</td>\n",
       "      <td>5.137226</td>\n",
       "      <td>0.003315</td>\n",
       "      <td>0.023739</td>\n",
       "      <td>0.002676</td>\n",
       "    </tr>\n",
       "    <tr>\n",
       "      <th>1</th>\n",
       "      <td>0.01</td>\n",
       "      <td>25</td>\n",
       "      <td>0.993504</td>\n",
       "      <td>0.969131</td>\n",
       "      <td>0.997239</td>\n",
       "      <td>13.225633</td>\n",
       "      <td>0.003315</td>\n",
       "      <td>0.023739</td>\n",
       "      <td>0.002676</td>\n",
       "    </tr>\n",
       "    <tr>\n",
       "      <th>2</th>\n",
       "      <td>0.01</td>\n",
       "      <td>50</td>\n",
       "      <td>0.993504</td>\n",
       "      <td>0.969131</td>\n",
       "      <td>0.997239</td>\n",
       "      <td>26.128389</td>\n",
       "      <td>0.003315</td>\n",
       "      <td>0.023739</td>\n",
       "      <td>0.002676</td>\n",
       "    </tr>\n",
       "    <tr>\n",
       "      <th>3</th>\n",
       "      <td>0.01</td>\n",
       "      <td>100</td>\n",
       "      <td>0.993504</td>\n",
       "      <td>0.969131</td>\n",
       "      <td>0.997239</td>\n",
       "      <td>57.950689</td>\n",
       "      <td>0.003315</td>\n",
       "      <td>0.023739</td>\n",
       "      <td>0.002676</td>\n",
       "    </tr>\n",
       "    <tr>\n",
       "      <th>6</th>\n",
       "      <td>0.10</td>\n",
       "      <td>50</td>\n",
       "      <td>0.993846</td>\n",
       "      <td>0.969098</td>\n",
       "      <td>0.997633</td>\n",
       "      <td>28.148705</td>\n",
       "      <td>0.003170</td>\n",
       "      <td>0.019153</td>\n",
       "      <td>0.002899</td>\n",
       "    </tr>\n",
       "    <tr>\n",
       "      <th>11</th>\n",
       "      <td>1.00</td>\n",
       "      <td>100</td>\n",
       "      <td>0.994188</td>\n",
       "      <td>0.969098</td>\n",
       "      <td>0.998028</td>\n",
       "      <td>45.337569</td>\n",
       "      <td>0.002319</td>\n",
       "      <td>0.020799</td>\n",
       "      <td>0.001764</td>\n",
       "    </tr>\n",
       "    <tr>\n",
       "      <th>5</th>\n",
       "      <td>0.10</td>\n",
       "      <td>25</td>\n",
       "      <td>0.993846</td>\n",
       "      <td>0.966533</td>\n",
       "      <td>0.998028</td>\n",
       "      <td>15.871818</td>\n",
       "      <td>0.003520</td>\n",
       "      <td>0.022308</td>\n",
       "      <td>0.002495</td>\n",
       "    </tr>\n",
       "    <tr>\n",
       "      <th>7</th>\n",
       "      <td>0.10</td>\n",
       "      <td>100</td>\n",
       "      <td>0.993504</td>\n",
       "      <td>0.966533</td>\n",
       "      <td>0.997633</td>\n",
       "      <td>53.769126</td>\n",
       "      <td>0.003315</td>\n",
       "      <td>0.022308</td>\n",
       "      <td>0.002899</td>\n",
       "    </tr>\n",
       "    <tr>\n",
       "      <th>9</th>\n",
       "      <td>1.00</td>\n",
       "      <td>25</td>\n",
       "      <td>0.992821</td>\n",
       "      <td>0.963969</td>\n",
       "      <td>0.997240</td>\n",
       "      <td>13.054196</td>\n",
       "      <td>0.002268</td>\n",
       "      <td>0.014860</td>\n",
       "      <td>0.002951</td>\n",
       "    </tr>\n",
       "    <tr>\n",
       "      <th>10</th>\n",
       "      <td>1.00</td>\n",
       "      <td>50</td>\n",
       "      <td>0.993504</td>\n",
       "      <td>0.963936</td>\n",
       "      <td>0.998028</td>\n",
       "      <td>26.094637</td>\n",
       "      <td>0.001993</td>\n",
       "      <td>0.016985</td>\n",
       "      <td>0.001764</td>\n",
       "    </tr>\n",
       "    <tr>\n",
       "      <th>8</th>\n",
       "      <td>1.00</td>\n",
       "      <td>10</td>\n",
       "      <td>0.991111</td>\n",
       "      <td>0.961372</td>\n",
       "      <td>0.995662</td>\n",
       "      <td>5.372866</td>\n",
       "      <td>0.003315</td>\n",
       "      <td>0.018085</td>\n",
       "      <td>0.002302</td>\n",
       "    </tr>\n",
       "  </tbody>\n",
       "</table>\n",
       "</div>"
      ],
      "text/plain": [
       "    learning_rate  n_estimators  mean_val_acc  mean_val_tpr  mean_val_tnr  \\\n",
       "4            0.10            10      0.993846      0.971695      0.997239   \n",
       "0            0.01            10      0.993504      0.969131      0.997239   \n",
       "1            0.01            25      0.993504      0.969131      0.997239   \n",
       "2            0.01            50      0.993504      0.969131      0.997239   \n",
       "3            0.01           100      0.993504      0.969131      0.997239   \n",
       "6            0.10            50      0.993846      0.969098      0.997633   \n",
       "11           1.00           100      0.994188      0.969098      0.998028   \n",
       "5            0.10            25      0.993846      0.966533      0.998028   \n",
       "7            0.10           100      0.993504      0.966533      0.997633   \n",
       "9            1.00            25      0.992821      0.963969      0.997240   \n",
       "10           1.00            50      0.993504      0.963936      0.998028   \n",
       "8            1.00            10      0.991111      0.961372      0.995662   \n",
       "\n",
       "    mean_fit_time  std_val_acc  std_val_tpr  std_val_tnr  \n",
       "4        6.175387     0.003170     0.020480     0.002676  \n",
       "0        5.137226     0.003315     0.023739     0.002676  \n",
       "1       13.225633     0.003315     0.023739     0.002676  \n",
       "2       26.128389     0.003315     0.023739     0.002676  \n",
       "3       57.950689     0.003315     0.023739     0.002676  \n",
       "6       28.148705     0.003170     0.019153     0.002899  \n",
       "11      45.337569     0.002319     0.020799     0.001764  \n",
       "5       15.871818     0.003520     0.022308     0.002495  \n",
       "7       53.769126     0.003315     0.022308     0.002899  \n",
       "9       13.054196     0.002268     0.014860     0.002951  \n",
       "10      26.094637     0.001993     0.016985     0.001764  \n",
       "8        5.372866     0.003315     0.018085     0.002302  "
      ]
     },
     "execution_count": 18,
     "metadata": {},
     "output_type": "execute_result"
    }
   ],
   "source": [
    "df = extract_df(grid_search_clf)\n",
    "df.sort_values(by=['mean_val_tpr'], ascending=False)"
   ]
  },
  {
   "cell_type": "code",
   "execution_count": 19,
   "metadata": {},
   "outputs": [],
   "source": [
    "#from sklearn.ensemble import RandomForestClassifier, VotingClassifier\n",
    "#\n",
    "#rnd_clf = RandomForestClassifier(\n",
    "#    n_jobs=-1\n",
    "#    , random_state=42\n",
    "#    , max_depth=8\n",
    "#    , max_features=150\n",
    "#    , min_samples_split=3\n",
    "#    , n_estimators=100)\n",
    "#\n",
    "#ada_clf =  AdaBoostClassifier(\n",
    "#    base_estimator=DecisionTreeClassifier()\n",
    "#    , algorithm='SAMME.R'\n",
    "#    , n_estimators=10\n",
    "#    , learning_rate=0.1\n",
    "#    , random_state=42)\n",
    "#\n",
    "#vot_clf_soft = VotingClassifier(\n",
    "#    estimators=[('rnd', rnd_clf), ('ada', ada_clf)]\n",
    "#    , voting='soft'\n",
    "#)"
   ]
  },
  {
   "cell_type": "code",
   "execution_count": 20,
   "metadata": {},
   "outputs": [],
   "source": [
    "#def quick_eval(classifiers):\n",
    "#    for clf in classifiers:\n",
    "#        T1 = time.time()\n",
    "#        clf.fit(X_train, y_train)\n",
    "#        y_pred = clf.predict(X_val)\n",
    "#        mins, secs = divmod(time.time() - T1, 60)\n",
    "#        print(clf.__class__, 'acc', round(accuracy_score(y_val, y_pred), 4))\n",
    "#        print(clf.__class__, 'tpr', round(recall_score(y_val, y_pred, pos_label=1) , 4))\n",
    "#        print(clf.__class__, 'tnr', round(recall_score(y_val, y_pred, pos_label=0), 4))\n",
    "#        print(f'{clf.__class__} - train time: {mins:0.0f}m {secs:0.0f}s')"
   ]
  },
  {
   "cell_type": "code",
   "execution_count": 21,
   "metadata": {},
   "outputs": [
    {
     "name": "stdout",
     "output_type": "stream",
     "text": [
      "<class 'sklearn.ensemble._forest.RandomForestClassifier'> acc 0.9928\n",
      "<class 'sklearn.ensemble._forest.RandomForestClassifier'> tpr 0.969\n",
      "<class 'sklearn.ensemble._forest.RandomForestClassifier'> tnr 0.9965\n",
      "<class 'sklearn.ensemble._forest.RandomForestClassifier'> - train time: 0m 5s\n",
      "<class 'sklearn.ensemble._weight_boosting.AdaBoostClassifier'> acc 0.9897\n",
      "<class 'sklearn.ensemble._weight_boosting.AdaBoostClassifier'> tpr 0.9767\n",
      "<class 'sklearn.ensemble._weight_boosting.AdaBoostClassifier'> tnr 0.9917\n",
      "<class 'sklearn.ensemble._weight_boosting.AdaBoostClassifier'> - train time: 0m 1s\n",
      "<class 'sklearn.ensemble._voting.VotingClassifier'> acc 0.9897\n",
      "<class 'sklearn.ensemble._voting.VotingClassifier'> tpr 0.9767\n",
      "<class 'sklearn.ensemble._voting.VotingClassifier'> tnr 0.9917\n",
      "<class 'sklearn.ensemble._voting.VotingClassifier'> - train time: 0m 10s\n"
     ]
    }
   ],
   "source": [
    "#quick_eval([rnd_clf, ada_clf, vot_clf_soft])"
   ]
  },
  {
   "cell_type": "markdown",
   "metadata": {},
   "source": [
    "Voting doesn't appear to improve AdaBoost just compare it against RandomForest... and takes 10x longer."
   ]
  },
  {
   "cell_type": "markdown",
   "metadata": {},
   "source": [
    "---"
   ]
  }
 ],
 "metadata": {
  "kernelspec": {
   "display_name": "Python 3",
   "language": "python",
   "name": "python3"
  },
  "language_info": {
   "codemirror_mode": {
    "name": "ipython",
    "version": 3
   },
   "file_extension": ".py",
   "mimetype": "text/x-python",
   "name": "python",
   "nbconvert_exporter": "python",
   "pygments_lexer": "ipython3",
   "version": "3.9.1"
  }
 },
 "nbformat": 4,
 "nbformat_minor": 4
}
