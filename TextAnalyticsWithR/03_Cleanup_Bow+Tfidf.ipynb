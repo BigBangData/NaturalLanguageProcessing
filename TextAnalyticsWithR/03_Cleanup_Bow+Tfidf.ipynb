{
 "cells": [
  {
   "cell_type": "markdown",
   "metadata": {},
   "source": [
    "# Clean & Preprocess - BoW + Tfidf\n",
    "\n",
    "---\n",
    "\n",
    "This is where the project departs from the Introduction to Analytics With R tutorial; yet still follows the broad steps.\n",
    "\n",
    "*Features*\n",
    "\n",
    "- A custom cleaning and preprocessing module is imported containing a repurposed version of Aurélien Geron's **EmailToWordCounterTransformer** class and his **WordCounterToVectorTransformer** class from his famous [Classification Notebook](https://github.com/ageron/handson-ml/blob/master/03_classification.ipynb).\n",
    "\n",
    "\n",
    "- A hybrid pipeline that includes sklearn's **TfidfVectorizer** class [(see Docs.)](https://scikit-learn.org/stable/modules/generated/sklearn.feature_extraction.text.TfidfVectorizer.html) is created to enrich the text representation from a simple bag-of-words to a Tfidf matrix. (Text to document-frequency matrices representations are further explored in the [Document Term Matrices Notebook.](Extra_Document_Term_Matrices.ipynb))\n",
    "\n",
    "\n",
    "- A quick grid search for different vocabulary sizes is performed using a baseline logistic classifier to get a first estimate of best vocabulary sizes for BoW models, given our data. A more thorough grid search including Ngrams and comparing BoW and Tfidf representations is performed in the next Notebook. \n",
    "\n",
    "\n",
    "- $97.5\\%$ accuracy achieved with a Tfidf matrix of 450 unigram terms on sklearn's baseline logistic classifier.\n"
   ]
  },
  {
   "cell_type": "markdown",
   "metadata": {},
   "source": [
    "### Setup"
   ]
  },
  {
   "cell_type": "code",
   "execution_count": 1,
   "metadata": {},
   "outputs": [
    {
     "name": "stdout",
     "output_type": "stream",
     "text": [
      "Revised on: 2020-12-19\n"
     ]
    }
   ],
   "source": [
    "import re\n",
    "import os\n",
    "import time\n",
    "import json\n",
    "\n",
    "import numpy as np\n",
    "import pandas as pd\n",
    "\n",
    "from datetime import datetime\n",
    "\n",
    "start_time = time.time()\n",
    "dt_object = datetime.fromtimestamp(time.time())\n",
    "day, T = str(dt_object).split('.')[0].split(' ')\n",
    "print('Revised on: ' + day)"
   ]
  },
  {
   "cell_type": "markdown",
   "metadata": {},
   "source": [
    "### Load Data"
   ]
  },
  {
   "cell_type": "code",
   "execution_count": 2,
   "metadata": {},
   "outputs": [],
   "source": [
    "def load_data(data):\n",
    "    raw_path = os.path.join(\"data\",\"1_raw\")\n",
    "    filename = ''.join([data, \".csv\"])\n",
    "    out_dfm = pd.read_csv(os.path.join(raw_path, filename))\n",
    "    out_arr = np.array(out_dfm.iloc[:,0].ravel())\n",
    "    return out_arr\n",
    "\n",
    "X_train = load_data(\"X_train\")\n",
    "y_train = load_data(\"y_train\")"
   ]
  },
  {
   "cell_type": "markdown",
   "metadata": {},
   "source": [
    "### Cleanup & Preprocess"
   ]
  },
  {
   "cell_type": "code",
   "execution_count": 3,
   "metadata": {},
   "outputs": [],
   "source": [
    "import urlextract\n",
    "from nltk.stem import WordNetLemmatizer\n",
    "\n",
    "with open(\"contractions_map.json\") as f:\n",
    "    contractions_map = json.load(f)\n",
    "\n",
    "url_extractor = urlextract.URLExtract()\n",
    "lemmatizer = WordNetLemmatizer()"
   ]
  },
  {
   "cell_type": "code",
   "execution_count": 4,
   "metadata": {},
   "outputs": [],
   "source": [
    "import custom.clean_preprocess as cp\n",
    "\n",
    "from sklearn.pipeline import Pipeline\n",
    "from sklearn.feature_extraction.text import TfidfTransformer\n",
    "\n",
    "pipe = Pipeline([('counter', cp.DocumentToWordCounterTransformer()),\n",
    "                 ('bow', cp.WordCounterToVectorTransformer(vocabulary_size=100)),\n",
    "                 ('tfidf', TfidfTransformer())])"
   ]
  },
  {
   "cell_type": "code",
   "execution_count": 5,
   "metadata": {},
   "outputs": [],
   "source": [
    "pipe_counter = pipe['counter'].fit_transform(X_train)\n",
    "pipe_bow = pipe['bow'].fit(pipe_counter)"
   ]
  },
  {
   "cell_type": "code",
   "execution_count": 6,
   "metadata": {},
   "outputs": [
    {
     "name": "stdout",
     "output_type": "stream",
     "text": [
      "{'NUM': 1, 'i': 2, 'you': 3, 'u': 4, 'me': 5, 'not': 6, 'my': 7, 'your': 8, 'am': 9, 'have': 10, 'call': 11, 'EMOJI': 12, 'do': 13, 'now': 14, 'but': 15, 'so': 16, 'can': 17, 'or': 18, 'get': 19, 'we': 20, 'no': 21, 'if': 22, 'just': 23, 'ur': 24, 'this': 25, 'go': 26, 'how': 27, 'when': 28, 'up': 29, 'free': 30, 'what': 31, 'ok': 32, 'day': 33, 'out': 34, 'all': 35, 'come': 36, 'time': 37, 'know': 38, 'got': 39, 'good': 40, 'there': 41, 'like': 42, 'then': 43, 'only': 44, 'text': 45, 'want': 46, 'love': 47, 'need': 48, 'going': 49, 'p': 50, 'send': 51, 'one': 52, 'URL': 53, 'txt': 54, 'r': 55, 'mobile': 56, 'n': 57, 'today': 58, 'c': 59, 'sorry': 60, 'still': 61, 'home': 62, 'did': 63, 'about': 64, 'stop': 65, 'k': 66, 'back': 67, 'lor': 68, 'see': 69, 'reply': 70, 'she': 71, 'take': 72, 'week': 73, 'msg': 74, 'our': 75, 'phone': 76, 'tell': 77, 'da': 78, 'think': 79, 'any': 80, 'dont': 81, 'they': 82, 'new': 83, 'been': 84, '_': 85, 'thing': 86, 'hi': 87, 'some': 88, 'min': 89, 'night': 90, 'great': 91, 'pls': 92, 'later': 93, 'where': 94, 'd': 95, 'well': 96, 't': 97, 'dear': 98, 'make': 99, 'hey': 100}\n"
     ]
    }
   ],
   "source": [
    "print(pipe_bow.vocabulary_)"
   ]
  },
  {
   "cell_type": "code",
   "execution_count": 7,
   "metadata": {},
   "outputs": [],
   "source": [
    "bow = pipe_bow.transform(pipe_counter)"
   ]
  },
  {
   "cell_type": "code",
   "execution_count": 8,
   "metadata": {},
   "outputs": [
    {
     "data": {
      "text/plain": [
       "array([[ 4,  0,  0, ...,  0,  1,  0],\n",
       "       [15,  7,  0, ...,  0,  0,  0],\n",
       "       [ 8,  0,  0, ...,  0,  0,  0],\n",
       "       ...,\n",
       "       [ 2,  0,  0, ...,  0,  0,  0],\n",
       "       [19,  0,  0, ...,  0,  0,  0],\n",
       "       [ 2,  0,  1, ...,  0,  0,  0]], dtype=int32)"
      ]
     },
     "execution_count": 8,
     "metadata": {},
     "output_type": "execute_result"
    }
   ],
   "source": [
    "bow.toarray() # first column is \"words missing from vocab\""
   ]
  },
  {
   "cell_type": "code",
   "execution_count": 9,
   "metadata": {},
   "outputs": [
    {
     "data": {
      "text/plain": [
       "[1.019, 2.347, 1.987, 2.275, 2.834, 3.097, 3.184, 3.248, 3.234, 3.222]"
      ]
     },
     "execution_count": 9,
     "metadata": {},
     "output_type": "execute_result"
    }
   ],
   "source": [
    " # IDF for the pipe_bow.vocabulary_ (first 10 vals)\n",
    "[np.around(x,3) for x in pipe['tfidf'].fit(bow).idf_[:10]]"
   ]
  },
  {
   "cell_type": "code",
   "execution_count": 10,
   "metadata": {},
   "outputs": [],
   "source": [
    "tfidf = pipe['tfidf'].fit_transform(bow)"
   ]
  },
  {
   "cell_type": "code",
   "execution_count": 11,
   "metadata": {},
   "outputs": [
    {
     "data": {
      "text/plain": [
       "[array([0.473, 0.   , 0.   , 0.   , 0.   , 0.   , 0.   , 0.   , 0.   ,\n",
       "        0.   , 0.   , 0.   , 0.   , 0.   , 0.   , 0.   , 0.   , 0.   ,\n",
       "        0.   , 0.   , 0.   , 0.   , 0.   , 0.   , 0.   , 0.   , 0.   ,\n",
       "        0.   , 0.   , 0.   , 0.   , 0.   , 0.   , 0.   , 0.   , 0.473,\n",
       "        0.   , 0.   , 0.   , 0.   , 0.485, 0.   , 0.   , 0.   , 0.   ,\n",
       "        0.   , 0.   , 0.   , 0.   , 0.   , 0.   , 0.   , 0.   , 0.   ,\n",
       "        0.   , 0.   , 0.   , 0.   , 0.   , 0.   , 0.   , 0.   , 0.   ,\n",
       "        0.   , 0.   , 0.   , 0.   , 0.   , 0.   , 0.   , 0.   , 0.   ,\n",
       "        0.   , 0.   , 0.   , 0.   , 0.   , 0.   , 0.   , 0.   , 0.   ,\n",
       "        0.   , 0.   , 0.   , 0.   , 0.   , 0.   , 0.   , 0.   , 0.   ,\n",
       "        0.   , 0.   , 0.   , 0.   , 0.   , 0.   , 0.   , 0.   , 0.   ,\n",
       "        0.564, 0.   ])]"
      ]
     },
     "execution_count": 11,
     "metadata": {},
     "output_type": "execute_result"
    }
   ],
   "source": [
    "[np.around(x,3) for x in tfidf[:1].toarray()]"
   ]
  },
  {
   "cell_type": "code",
   "execution_count": 12,
   "metadata": {},
   "outputs": [
    {
     "data": {
      "text/plain": [
       "[array([0.473, 0.   , 0.   , 0.   , 0.   , 0.   , 0.   , 0.   , 0.   ,\n",
       "        0.   , 0.   , 0.   , 0.   , 0.   , 0.   , 0.   , 0.   , 0.   ,\n",
       "        0.   , 0.   , 0.   , 0.   , 0.   , 0.   , 0.   , 0.   , 0.   ,\n",
       "        0.   , 0.   , 0.   , 0.   , 0.   , 0.   , 0.   , 0.   , 0.473,\n",
       "        0.   , 0.   , 0.   , 0.   , 0.485, 0.   , 0.   , 0.   , 0.   ,\n",
       "        0.   , 0.   , 0.   , 0.   , 0.   , 0.   , 0.   , 0.   , 0.   ,\n",
       "        0.   , 0.   , 0.   , 0.   , 0.   , 0.   , 0.   , 0.   , 0.   ,\n",
       "        0.   , 0.   , 0.   , 0.   , 0.   , 0.   , 0.   , 0.   , 0.   ,\n",
       "        0.   , 0.   , 0.   , 0.   , 0.   , 0.   , 0.   , 0.   , 0.   ,\n",
       "        0.   , 0.   , 0.   , 0.   , 0.   , 0.   , 0.   , 0.   , 0.   ,\n",
       "        0.   , 0.   , 0.   , 0.   , 0.   , 0.   , 0.   , 0.   , 0.   ,\n",
       "        0.564, 0.   ])]"
      ]
     },
     "execution_count": 12,
     "metadata": {},
     "output_type": "execute_result"
    }
   ],
   "source": [
    "# entire pipeline produces same result but does't save IDF or vocab\n",
    "# we'll need the IDF vector fit from our training data\n",
    "end_res = pipe.fit_transform(X_train)\n",
    "[np.around(x,3) for x in end_res[:1].toarray()]"
   ]
  },
  {
   "cell_type": "markdown",
   "metadata": {},
   "source": [
    "### Logistic Regression with 450 vocab size gets 97.5% accuracy"
   ]
  },
  {
   "cell_type": "code",
   "execution_count": 13,
   "metadata": {},
   "outputs": [],
   "source": [
    "from sklearn.linear_model import LogisticRegression\n",
    "from sklearn.model_selection import cross_val_score\n",
    "\n",
    "def grid_search_vocabsize(X, y):\n",
    "    means = []\n",
    "    for v_size in range(300, 900, 30):\n",
    "        pipe = Pipeline([('counter', cp.DocumentToWordCounterTransformer()),\n",
    "                         ('bow', cp.WordCounterToVectorTransformer(vocabulary_size=v_size)), \n",
    "                         ('tfidf', TfidfTransformer())])\n",
    "        X_transformed = pipe.fit_transform(X)\n",
    "        log_clf = LogisticRegression(solver=\"liblinear\", random_state=42)\n",
    "        score = cross_val_score(log_clf, X_transformed, y, cv=5, verbose=0, scoring='accuracy', n_jobs=-1)\n",
    "        means.append(round(score.mean(), 4))\n",
    "    return means"
   ]
  },
  {
   "cell_type": "code",
   "execution_count": 14,
   "metadata": {},
   "outputs": [
    {
     "name": "stdout",
     "output_type": "stream",
     "text": [
      "Elapsed: 0 m 58 s\n"
     ]
    }
   ],
   "source": [
    "t1 = time.time()\n",
    "results = grid_search_vocabsize(X_train, y_train)\n",
    "m,s = divmod(time.time() - t1,60)\n",
    "print(f'Elapsed: {m:0.0f} m {s:0.0f} s')"
   ]
  },
  {
   "cell_type": "code",
   "execution_count": 15,
   "metadata": {},
   "outputs": [
    {
     "data": {
      "text/html": [
       "<div>\n",
       "<style scoped>\n",
       "    .dataframe tbody tr th:only-of-type {\n",
       "        vertical-align: middle;\n",
       "    }\n",
       "\n",
       "    .dataframe tbody tr th {\n",
       "        vertical-align: top;\n",
       "    }\n",
       "\n",
       "    .dataframe thead th {\n",
       "        text-align: right;\n",
       "    }\n",
       "</style>\n",
       "<table border=\"1\" class=\"dataframe\">\n",
       "  <thead>\n",
       "    <tr style=\"text-align: right;\">\n",
       "      <th></th>\n",
       "      <th>means</th>\n",
       "      <th>vocab_size</th>\n",
       "    </tr>\n",
       "  </thead>\n",
       "  <tbody>\n",
       "    <tr>\n",
       "      <th>5</th>\n",
       "      <td>0.9751</td>\n",
       "      <td>450</td>\n",
       "    </tr>\n",
       "  </tbody>\n",
       "</table>\n",
       "</div>"
      ],
      "text/plain": [
       "    means  vocab_size\n",
       "5  0.9751         450"
      ]
     },
     "execution_count": 15,
     "metadata": {},
     "output_type": "execute_result"
    }
   ],
   "source": [
    "data={'means':results, 'vocab_size':list(range(300,900,30))}\n",
    "df=pd.DataFrame(data=data)\n",
    "df[df[\"means\"]==max(df[\"means\"])]"
   ]
  },
  {
   "cell_type": "code",
   "execution_count": 16,
   "metadata": {},
   "outputs": [
    {
     "data": {
      "image/png": "[encoded data removed]",
      "text/plain": [
       "<Figure size 864x360 with 1 Axes>"
      ]
     },
     "metadata": {
      "needs_background": "light"
     },
     "output_type": "display_data"
    }
   ],
   "source": [
    "import matplotlib.pyplot as plt\n",
    "%matplotlib inline\n",
    "\n",
    "plt.figure(figsize=(12, 5)) \n",
    "plt.plot(df[\"means\"])\n",
    "plt.title('Grid Search Results On Logistic Classifier With Tfidf')\n",
    "plt.ylabel('Mean 5-fold CV Accuracy')\n",
    "plt.xlabel('Vocabulary Size')\n",
    "plt.xticks(np.arange(20), tuple(df[\"vocab_size\"]))\n",
    "plt.vlines(np.arange(20), .97, .976, colors='k', linestyles='solid', alpha=.8, linewidth=.2)\n",
    "plt.show()"
   ]
  },
  {
   "cell_type": "code",
   "execution_count": 17,
   "metadata": {},
   "outputs": [
    {
     "name": "stdout",
     "output_type": "stream",
     "text": [
      "Time elapsed: 1 m 9 s\n"
     ]
    }
   ],
   "source": [
    "mins, secs = divmod(time.time() - start_time, 60)\n",
    "print(f'Time elapsed: {mins:0.0f} m {secs:0.0f} s')"
   ]
  },
  {
   "cell_type": "markdown",
   "metadata": {},
   "source": [
    "---"
   ]
  }
 ],
 "metadata": {
  "kernelspec": {
   "display_name": "Python 3",
   "language": "python",
   "name": "python3"
  },
  "language_info": {
   "codemirror_mode": {
    "name": "ipython",
    "version": 3
   },
   "file_extension": ".py",
   "mimetype": "text/x-python",
   "name": "python",
   "nbconvert_exporter": "python",
   "pygments_lexer": "ipython3",
   "version": "3.7.3"
  }
 },
 "nbformat": 4,
 "nbformat_minor": 4
}
