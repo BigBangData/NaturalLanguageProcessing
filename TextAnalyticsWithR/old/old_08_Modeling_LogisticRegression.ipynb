{
 "cells": [
  {
   "cell_type": "markdown",
   "metadata": {},
   "source": [
    "# Twitter Sentiment Analysis - POC\n",
    "---\n",
    "\n",
    "## 6. Train a couple baseline models\n",
    "\n",
    "Before throwing a bunch of models at the data, I first retrain the Naive Bayes and Logistic Regression models from the last notebook with learning curves to test whether more data improves them. The hypothesis is that they're too simple for data volume to improve accuracy. Instead of using the entire $1.2M$ dataset, I use a subset of approximately $250k$ rows randomly sampled from the training data."
   ]
  },
  {
   "cell_type": "code",
   "execution_count": 1,
   "metadata": {},
   "outputs": [],
   "source": [
    "import re\n",
    "import os\n",
    "import time\n",
    "import json\n",
    "\n",
    "import numpy as np\n",
    "import pandas as pd\n",
    "import scipy.sparse as sp\n",
    "\n",
    "import cleanup_module_POC as Cmod\n",
    "\n",
    "from sklearn.pipeline import Pipeline\n",
    "from sklearn.naive_bayes import MultinomialNB\n",
    "from sklearn.linear_model import LogisticRegression\n",
    "from sklearn.model_selection import cross_val_score\n",
    "from sklearn.model_selection import train_test_split"
   ]
  },
  {
   "cell_type": "code",
   "execution_count": 2,
   "metadata": {},
   "outputs": [],
   "source": [
    "# time notebook\n",
    "start_notebook = time.time()\n",
    "\n",
    "# load minimally prepared X, y train subsets\n",
    "raw_path = os.path.join(\"..\",\"data\",\"1_raw\",\"sentiment140\")\n",
    "X_train = pd.read_csv(os.path.join(raw_path, \"X_train.csv\"))\n",
    "y_train = pd.read_csv(os.path.join(raw_path, \"y_train.csv\"))"
   ]
  },
  {
   "cell_type": "markdown",
   "metadata": {},
   "source": [
    "### Sample down to $m\\approx250k$"
   ]
  },
  {
   "cell_type": "code",
   "execution_count": 3,
   "metadata": {},
   "outputs": [],
   "source": [
    "X, X_rest, y, y_rest = train_test_split(X_train, y_train, test_size=0.79, random_state=42)"
   ]
  },
  {
   "cell_type": "code",
   "execution_count": 4,
   "metadata": {},
   "outputs": [
    {
     "name": "stdout",
     "output_type": "stream",
     "text": [
      "Dataset size: 251468\n",
      "Target distribution: 0.500\n"
     ]
    }
   ],
   "source": [
    "# check\n",
    "print(f'Dataset size: {len(X):0.0f}')\n",
    "print(f'Target distribution: {sum(y[\"target\"])/len(y):0.3f}')"
   ]
  },
  {
   "cell_type": "code",
   "execution_count": 5,
   "metadata": {},
   "outputs": [],
   "source": [
    "# transform into arrays\n",
    "X_array = np.array(X.iloc[:, 2]).ravel()\n",
    "y_array = y.iloc[:,0].ravel()\n",
    "\n",
    "# save y array\n",
    "# processed dir\n",
    "proc_dir = os.path.join(\"..\",\"data\",\"3_processed\",\"sentiment140\")\n",
    "\n",
    "with open(os.path.join(proc_dir, \"y_array_250k.npy\"), 'wb') as f:\n",
    "    np.save(f, y_array)"
   ]
  },
  {
   "cell_type": "markdown",
   "metadata": {},
   "source": [
    "### Pre-process subset with 1,000 features\n",
    "\n",
    "Since pre-processing with a larger feature space takes time, I'll establish a naming convention for saving pre-processed data which includes the following scheme: \n",
    "- X train or test\n",
    "- transformed (for clarification)\n",
    "- representation (BoW, Tfidf, etc.)\n",
    "- m: in 1000s (k)\n",
    "- n: in 1000s (k)\n"
   ]
  },
  {
   "cell_type": "code",
   "execution_count": 6,
   "metadata": {},
   "outputs": [
    {
     "name": "stdout",
     "output_type": "stream",
     "text": [
      "Loading X_train_transformed...\n"
     ]
    }
   ],
   "source": [
    "try:\n",
    "    # load X_train_transformed \n",
    "    X_train_transformed = sp.load_npz(os.path.join(proc_dir, \"X_train_transformed_BoW_250k_1k.npz\"))\n",
    "    print('Loading X_train_transformed...')\n",
    "except:\n",
    "    print('Preprocessing X_array as BoW with m=250k, n=1k...')\n",
    "    preprocess_pipeline = Pipeline([\n",
    "        (\"document_to_wordcount\", Cmod.DocumentToWordCounterTransformer()),\n",
    "        (\"wordcount_to_vector\", Cmod.WordCounterToVectorTransformer()), # default is n=1k\n",
    "    ])\n",
    "    start_pipeline = time.time()\n",
    "    X_train_transformed = preprocess_pipeline.fit_transform(X_array) # currently 250k\n",
    "    # save preprocessed data\n",
    "    sp.save_npz(os.path.join(proc_dir, 'X_train_transformed_BoW_250k_1k.npz'), X_train_transformed)\n",
    "    # print processing time\n",
    "    mins, secs = divmod(time.time() - start_pipeline, 60)\n",
    "    print(f'Preprocessing time: {mins:0.0f} minute(s) and {secs:0.0f} second(s).')\n",
    "    # Preprocessing time: 2 minute(s) and 42 second(s)."
   ]
  },
  {
   "cell_type": "code",
   "execution_count": 7,
   "metadata": {},
   "outputs": [
    {
     "data": {
      "text/plain": [
       "<251468x1001 sparse matrix of type '<class 'numpy.int32'>'\n",
       "\twith 2206395 stored elements in Compressed Sparse Row format>"
      ]
     },
     "execution_count": 7,
     "metadata": {},
     "output_type": "execute_result"
    }
   ],
   "source": [
    "X_train_transformed"
   ]
  },
  {
   "cell_type": "markdown",
   "metadata": {},
   "source": [
    "### Train subset on previous POC models \n",
    "\n",
    "Get accuracy with the $250k$ subset on the previous NB and LR baseline models."
   ]
  },
  {
   "cell_type": "code",
   "execution_count": 8,
   "metadata": {},
   "outputs": [
    {
     "name": "stdout",
     "output_type": "stream",
     "text": [
      "[CV]  ................................................................\n"
     ]
    },
    {
     "name": "stderr",
     "output_type": "stream",
     "text": [
      "[Parallel(n_jobs=1)]: Using backend SequentialBackend with 1 concurrent workers.\n",
      "[Parallel(n_jobs=1)]: Done   1 out of   1 | elapsed:    0.1s remaining:    0.0s\n"
     ]
    },
    {
     "name": "stdout",
     "output_type": "stream",
     "text": [
      "[CV] ................................................. , total=   0.1s\n",
      "[CV]  ................................................................\n",
      "[CV] ................................................. , total=   0.1s\n",
      "[CV]  ................................................................\n",
      "[CV] ................................................. , total=   0.1s\n",
      "[CV]  ................................................................\n",
      "[CV] ................................................. , total=   0.1s\n",
      "[CV]  ................................................................\n",
      "[CV] ................................................. , total=   0.1s\n",
      "Mean accuracy: 0.7557462583295372\n"
     ]
    },
    {
     "name": "stderr",
     "output_type": "stream",
     "text": [
      "[Parallel(n_jobs=1)]: Done   5 out of   5 | elapsed:    0.6s finished\n"
     ]
    }
   ],
   "source": [
    "NB_clf = MultinomialNB()\n",
    "score = cross_val_score(NB_clf, X_train_transformed, y_array, cv=5, verbose=2, scoring='accuracy')\n",
    "print('Mean accuracy: ' + str(score.mean()))"
   ]
  },
  {
   "cell_type": "code",
   "execution_count": 9,
   "metadata": {},
   "outputs": [
    {
     "name": "stdout",
     "output_type": "stream",
     "text": [
      "[CV]  ................................................................\n"
     ]
    },
    {
     "name": "stderr",
     "output_type": "stream",
     "text": [
      "[Parallel(n_jobs=1)]: Using backend SequentialBackend with 1 concurrent workers.\n"
     ]
    },
    {
     "name": "stdout",
     "output_type": "stream",
     "text": [
      "[CV] ................................................. , total=   1.8s\n",
      "[CV]  ................................................................\n"
     ]
    },
    {
     "name": "stderr",
     "output_type": "stream",
     "text": [
      "[Parallel(n_jobs=1)]: Done   1 out of   1 | elapsed:    1.7s remaining:    0.0s\n"
     ]
    },
    {
     "name": "stdout",
     "output_type": "stream",
     "text": [
      "[CV] ................................................. , total=   1.7s\n",
      "[CV]  ................................................................\n",
      "[CV] ................................................. , total=   1.7s\n",
      "[CV]  ................................................................\n",
      "[CV] ................................................. , total=   1.6s\n",
      "[CV]  ................................................................\n",
      "[CV] ................................................. , total=   1.6s\n",
      "Mean accuracy: 0.7680659264494687\n"
     ]
    },
    {
     "name": "stderr",
     "output_type": "stream",
     "text": [
      "[Parallel(n_jobs=1)]: Done   5 out of   5 | elapsed:    8.5s finished\n"
     ]
    }
   ],
   "source": [
    "log_clf = LogisticRegression(solver=\"liblinear\", random_state=42)\n",
    "score = cross_val_score(log_clf, X_train_transformed, y_array, cv=5, verbose=2, scoring='accuracy')\n",
    "print('Mean accuracy: ' + str(score.mean()))"
   ]
  },
  {
   "cell_type": "markdown",
   "metadata": {},
   "source": [
    "Accuracy improved a bit with more data, and Logistic Regression perhaps started to overcome Naive Bayes. \n",
    "\n",
    "Questions remain:\n",
    "\n",
    "- how are these models learning? \n",
    "- is all that data necessary for this accuracy score? \n",
    "- what about increasing the number of features?\n",
    "\n",
    "I attempt to answer these questions by plotting learning curves:\n",
    "1. with a fixed number of features ($n=1,000$) and feeding rows $m$\n",
    "2. with a fixed number of rows ($m\\approx500,000$) and feeding features $n$.\n",
    "\n",
    "---\n",
    "\n",
    "## Plot Learning Curves\n",
    "\n",
    "### Fixed $n=1,000$; feed rows $m$"
   ]
  },
  {
   "cell_type": "code",
   "execution_count": 10,
   "metadata": {},
   "outputs": [],
   "source": [
    "from sklearn.metrics import accuracy_score\n",
    "import matplotlib.pyplot as plt\n",
    "\n",
    "def plot_learning_curves_feed_m(model, X, y, Xname):\n",
    "    \"\"\"Plot the learning curves for train and validation sets\n",
    "       , by adding more rows (m) and keeping the number of \n",
    "       features (n) constant.\n",
    "       Args:\n",
    "           model: a classifier\n",
    "           X: sparce matrix of features\n",
    "           y: target vector\n",
    "           Xname: vectorization method\n",
    "       Evaluates accuracy (TODO: implement other metrics)\n",
    "    \"\"\"\n",
    "    X_train, X_valid, y_train, y_valid = train_test_split(X, y, \n",
    "                                                          test_size=0.2, \n",
    "                                                          random_state=42)\n",
    "    # train\n",
    "    # change data granularity (denominator) for more data points\n",
    "    data_granularity = int(X_train.shape[0]/10)\n",
    "    \n",
    "    xs, train_acc, valid_acc = [], [], []\n",
    "\n",
    "    for m in range(10, X_train.shape[0], data_granularity):       \n",
    "        model.fit(X_train[:m], y_train[:m])\n",
    "        y_train_predict = model.predict(X_train[:m])\n",
    "        y_valid_predict = model.predict(X_valid)\n",
    "        train_acc.append(accuracy_score(y_train[:m], y_train_predict))\n",
    "        valid_acc.append(accuracy_score(y_valid, y_valid_predict))\n",
    "        xs.append(str(m-1))\n",
    "\n",
    "    fig = plt.figure(figsize=(12, 6))\n",
    "    ax = fig.add_axes([0.0, \n",
    "                       # dynamically calculate number of x ticks\n",
    "                       round(X_train.shape[0]/data_granularity, 0), \n",
    "                       0.4, 0.8])\n",
    "    plt.plot(xs, np.sqrt(train_acc), 'r--', linewidth=.8, \n",
    "             label=\"train accuracy\")\n",
    "    plt.plot(xs, np.sqrt(valid_acc), 'b--', linewidth=.8, \n",
    "             label=\"validation accuracy\")\n",
    "    plt.xticks(rotation=45)\n",
    "    plt.title(''.join([\"Learning Rates for Training and Validation - \", \n",
    "                       Xname]), \n",
    "              fontsize=16)\n",
    "    plt.legend(loc=\"lower right\", fontsize=14)\n",
    "    plt.xlabel(\"Training Set Size\", fontsize=14)\n",
    "    plt.ylabel(\"Accuracy\", fontsize=14)\n",
    "    plt.show()"
   ]
  },
  {
   "cell_type": "code",
   "execution_count": 11,
   "metadata": {},
   "outputs": [
    {
     "data": {
      "image/png": "[encoded data removed]",
      "text/plain": [
       "<Figure size 864x432 with 1 Axes>"
      ]
     },
     "metadata": {
      "needs_background": "light"
     },
     "output_type": "display_data"
    }
   ],
   "source": [
    "plot_learning_curves_feed_m(NB_clf, X_train_transformed, y_array, \n",
    "                           'Naive Bayes, BoW, n=1000')"
   ]
  },
  {
   "cell_type": "code",
   "execution_count": 12,
   "metadata": {},
   "outputs": [
    {
     "data": {
      "image/png": "[encoded data removed]",
      "text/plain": [
       "<Figure size 864x432 with 1 Axes>"
      ]
     },
     "metadata": {
      "needs_background": "light"
     },
     "output_type": "display_data"
    }
   ],
   "source": [
    "plot_learning_curves_feed_m(log_clf, X_train_transformed, y_array, \n",
    "                            'Logistic Regression (liblinear), BoW, n=1000')"
   ]
  },
  {
   "cell_type": "markdown",
   "metadata": {},
   "source": [
    "As suspected, feeding rows to these simple models with a limited number of features does not improve accuracy."
   ]
  },
  {
   "cell_type": "markdown",
   "metadata": {},
   "source": [
    "### Fixed $m\\approx250,000$; feed features $n$"
   ]
  },
  {
   "cell_type": "markdown",
   "metadata": {},
   "source": [
    "To feed an increasing number of features, instead of recreating a learning curve that pre-processes an increasing number of features at every iteration, which would take a humongous amount of time, I pre-process this larger subset and feed increasing portions of it. \n",
    "\n",
    "### Pre-process subset with 50,000 features"
   ]
  },
  {
   "cell_type": "code",
   "execution_count": 13,
   "metadata": {},
   "outputs": [
    {
     "name": "stdout",
     "output_type": "stream",
     "text": [
      "Loading X_train_transformed...\n"
     ]
    }
   ],
   "source": [
    "try:\n",
    "    # load X_train_transformed \n",
    "    X_train_transformed = sp.load_npz(os.path.join(proc_dir, \"X_train_transformed_BoW_250k_50k.npz\"))\n",
    "    print('Loading X_train_transformed...')\n",
    "except:\n",
    "    print('Preprocessing X_array as BoW with m=250k, n=1k...')\n",
    "    preprocess_pipeline = Pipeline([\n",
    "        (\"document_to_wordcount\", Cmod.DocumentToWordCounterTransformer()),\n",
    "        (\"wordcount_to_vector\", Cmod.WordCounterToVectorTransformer(vocabulary_size=50000)), # n=50k\n",
    "    ])\n",
    "    start_pipeline = time.time()\n",
    "    X_train_transformed = preprocess_pipeline.fit_transform(X_array) # currently 250k\n",
    "    # save preprocessed data\n",
    "    sp.save_npz(os.path.join(proc_dir, 'X_train_transformed_BoW_250k_50k.npz'), X_train_transformed)\n",
    "    # print processing time\n",
    "    mins, secs = divmod(time.time() - start_pipeline, 60)\n",
    "    print(f'Preprocessing time: {mins:0.0f} minute(s) and {secs:0.0f} second(s).')\n",
    "    # Preprocessing time: 2 minute(s) and 41 second(s)."
   ]
  },
  {
   "cell_type": "code",
   "execution_count": 14,
   "metadata": {},
   "outputs": [
    {
     "data": {
      "text/plain": [
       "<251468x50001 sparse matrix of type '<class 'numpy.int32'>'\n",
       "\twith 2569112 stored elements in Compressed Sparse Row format>"
      ]
     },
     "execution_count": 14,
     "metadata": {},
     "output_type": "execute_result"
    }
   ],
   "source": [
    "X_train_transformed"
   ]
  },
  {
   "cell_type": "code",
   "execution_count": 15,
   "metadata": {},
   "outputs": [],
   "source": [
    "def plot_learning_curves_feed_n(model, X, y, Xname):\n",
    "    \"\"\"Plot the learning curves for train and validation sets,\n",
    "       by adding more features (n) and keeping the number of \n",
    "       rows (m) constant.\n",
    "       Args:\n",
    "           model: a classifier\n",
    "           X: sparce matrix of features\n",
    "           y: target vector\n",
    "           Xname: vectorization method\n",
    "       Evaluates accuracy (TODO: implement other metrics)\n",
    "    \"\"\"\n",
    "    X_train, X_valid, y_train, y_valid = train_test_split(X, y, \n",
    "                                                          test_size=0.2, \n",
    "                                                          random_state=42)\n",
    "    xs, train_acc, valid_acc = [], [], []\n",
    "\n",
    "    # executive decision here, feeding 12 m data points\n",
    "    for n in range(500, 50001, 4500):\n",
    "        model.fit(X_train[:X.shape[0],:n], y_train)\n",
    "        y_train_predict = model.predict(X_train[:X.shape[0],:n])\n",
    "        y_valid_predict = model.predict(X_valid[:X.shape[0],:n])\n",
    "        train_acc.append(accuracy_score(y_train, y_train_predict))\n",
    "        valid_acc.append(accuracy_score(y_valid, y_valid_predict))\n",
    "        xs.append(str(n-1))\n",
    "\n",
    "    fig = plt.figure(figsize=(16, 6))\n",
    "    ax = fig.add_axes([0.0, \n",
    "                       # dynamic x ticks would be len(range(x,y,z))\n",
    "                       12, \n",
    "                       0.4, 0.8])\n",
    "    plt.plot(xs, np.sqrt(train_acc), 'r--', linewidth=.8, \n",
    "             label=\"train accuracy\")\n",
    "    plt.plot(xs, np.sqrt(valid_acc), 'b--', linewidth=.8, \n",
    "             label=\"validation accuracy\")\n",
    "    plt.xticks(rotation=45)\n",
    "    plt.title(''.join([\"Learning Rates for Training and Validation - \", \n",
    "                       Xname]), \n",
    "              fontsize=16)\n",
    "    plt.legend(loc=\"lower right\", fontsize=14)\n",
    "    plt.xlabel(\"Numer of Features\", fontsize=14)\n",
    "    plt.ylabel(\"Accuracy\", fontsize=14)\n",
    "    plt.show()"
   ]
  },
  {
   "cell_type": "code",
   "execution_count": 16,
   "metadata": {},
   "outputs": [
    {
     "data": {
      "image/png": "[encoded data removed]",
      "text/plain": [
       "<Figure size 1152x432 with 1 Axes>"
      ]
     },
     "metadata": {
      "needs_background": "light"
     },
     "output_type": "display_data"
    }
   ],
   "source": [
    "plot_learning_curves_feed_n(NB_clf, X_train_transformed, y_array, \n",
    "                            'Naive Bayes, BoW, m=250k')"
   ]
  },
  {
   "cell_type": "markdown",
   "metadata": {},
   "source": [
    "Again, the Naive Bayes model is too simple to learn even with more features, it ends up just overfitting the training set. The validation accuracy is a bit higher than the model trained on 1,000 features, but I'll test the generalization with cross validation to gain a more realistic assessement."
   ]
  },
  {
   "cell_type": "code",
   "execution_count": 17,
   "metadata": {},
   "outputs": [
    {
     "data": {
      "image/png": "[encoded data removed]",
      "text/plain": [
       "<Figure size 1152x432 with 1 Axes>"
      ]
     },
     "metadata": {
      "needs_background": "light"
     },
     "output_type": "display_data"
    },
    {
     "name": "stdout",
     "output_type": "stream",
     "text": [
      "LR plot time: 1 minute(s) and 10 second(s).\n"
     ]
    }
   ],
   "source": [
    "start_plot = time.time()\n",
    "plot_learning_curves_feed_n(log_clf, X_train_transformed, y_array, \n",
    "                            'Logistic Regression, BoW, m=250k')\n",
    "mins, secs = divmod(time.time() - start_plot, 60)\n",
    "print(f'LR plot time: {mins:0.0f} minute(s) and {secs:0.0f} second(s).')"
   ]
  },
  {
   "cell_type": "markdown",
   "metadata": {},
   "source": [
    "The learning curve is similar, and we gain about half a percentage in accuracy.\n",
    "\n",
    "Let's use cross validation to gain insight into the generalization of these models."
   ]
  },
  {
   "cell_type": "markdown",
   "metadata": {},
   "source": [
    "### Cross Validation "
   ]
  },
  {
   "cell_type": "code",
   "execution_count": 18,
   "metadata": {},
   "outputs": [
    {
     "name": "stdout",
     "output_type": "stream",
     "text": [
      "[CV]  ................................................................\n",
      "[CV] .................................... , score=0.776, total=   0.1s\n",
      "[CV]  ................................................................"
     ]
    },
    {
     "name": "stderr",
     "output_type": "stream",
     "text": [
      "[Parallel(n_jobs=1)]: Using backend SequentialBackend with 1 concurrent workers.\n",
      "[Parallel(n_jobs=1)]: Done   1 out of   1 | elapsed:    0.0s remaining:    0.0s\n"
     ]
    },
    {
     "name": "stdout",
     "output_type": "stream",
     "text": [
      "\n",
      "[CV] .................................... , score=0.772, total=   0.1s\n",
      "[CV]  ................................................................\n",
      "[CV] .................................... , score=0.778, total=   0.1s\n",
      "[CV]  ................................................................\n"
     ]
    },
    {
     "name": "stderr",
     "output_type": "stream",
     "text": [
      "[Parallel(n_jobs=1)]: Done   2 out of   2 | elapsed:    0.1s remaining:    0.0s\n"
     ]
    },
    {
     "name": "stdout",
     "output_type": "stream",
     "text": [
      "[CV] .................................... , score=0.778, total=   0.1s\n",
      "[CV]  ................................................................\n",
      "[CV] .................................... , score=0.773, total=   0.1s\n",
      "Mean accuracy: 0.7756414350309383\n"
     ]
    },
    {
     "name": "stderr",
     "output_type": "stream",
     "text": [
      "[Parallel(n_jobs=1)]: Done   5 out of   5 | elapsed:    0.4s finished\n"
     ]
    }
   ],
   "source": [
    "score = cross_val_score(NB_clf, X_train_transformed, y_array, cv=5, verbose=3, scoring='accuracy')\n",
    "print('Mean accuracy: ' + str(score.mean()))"
   ]
  },
  {
   "cell_type": "code",
   "execution_count": 19,
   "metadata": {},
   "outputs": [
    {
     "name": "stdout",
     "output_type": "stream",
     "text": [
      "[CV]  ................................................................\n"
     ]
    },
    {
     "name": "stderr",
     "output_type": "stream",
     "text": [
      "[Parallel(n_jobs=1)]: Using backend SequentialBackend with 1 concurrent workers.\n"
     ]
    },
    {
     "name": "stdout",
     "output_type": "stream",
     "text": [
      "[CV] .................................... , score=0.789, total=  10.2s\n",
      "[CV]  ................................................................\n"
     ]
    },
    {
     "name": "stderr",
     "output_type": "stream",
     "text": [
      "[Parallel(n_jobs=1)]: Done   1 out of   1 | elapsed:   10.1s remaining:    0.0s\n"
     ]
    },
    {
     "name": "stdout",
     "output_type": "stream",
     "text": [
      "[CV] .................................... , score=0.785, total=   7.9s\n",
      "[CV]  ................................................................\n"
     ]
    },
    {
     "name": "stderr",
     "output_type": "stream",
     "text": [
      "[Parallel(n_jobs=1)]: Done   2 out of   2 | elapsed:   18.0s remaining:    0.0s\n"
     ]
    },
    {
     "name": "stdout",
     "output_type": "stream",
     "text": [
      "[CV] .................................... , score=0.789, total=   6.4s\n",
      "[CV]  ................................................................\n",
      "[CV] .................................... , score=0.791, total=   8.7s\n",
      "[CV]  ................................................................\n",
      "[CV] .................................... , score=0.786, total=   7.1s\n",
      "Mean accuracy: 0.7879849566093533\n"
     ]
    },
    {
     "name": "stderr",
     "output_type": "stream",
     "text": [
      "[Parallel(n_jobs=1)]: Done   5 out of   5 | elapsed:   40.2s finished\n"
     ]
    }
   ],
   "source": [
    "score = cross_val_score(log_clf, X_train_transformed, y_array, cv=5, verbose=3, scoring='accuracy')\n",
    "print('Mean accuracy: ' + str(score.mean()))"
   ]
  },
  {
   "cell_type": "markdown",
   "metadata": {},
   "source": [
    "Logistic Regression seems to be doing a little better than Naive Bayes at $78.8\\%$ accuracy vs $77.6\\%$ - but it takes 10x longer at $40s$ vs $0.4s$ for Naive Bayes."
   ]
  },
  {
   "cell_type": "markdown",
   "metadata": {},
   "source": [
    "### Peek at some predictions"
   ]
  },
  {
   "cell_type": "code",
   "execution_count": 20,
   "metadata": {},
   "outputs": [
    {
     "data": {
      "text/plain": [
       "MultinomialNB()"
      ]
     },
     "execution_count": 20,
     "metadata": {},
     "output_type": "execute_result"
    }
   ],
   "source": [
    "NB_clf.fit(X_train_transformed, y_array)"
   ]
  },
  {
   "cell_type": "markdown",
   "metadata": {},
   "source": [
    "**Misclassified**"
   ]
  },
  {
   "cell_type": "code",
   "execution_count": 21,
   "metadata": {},
   "outputs": [
    {
     "name": "stdout",
     "output_type": "stream",
     "text": [
      "0 1 jumping on to twitter in apparently the first time in 20 days \n",
      "1 0 Getting all organized before work starts again tomorrow. I think it's a good sign that I'm not dreading my alarm going off at 6am. \n",
      "0 1 @ShizukaWright i slept thru most of it.  how was yours?\n",
      "1 0 @lotusheartbreak Yeah, I'll probably 'stop' when ALL of my stories are completely finished. That won't be for a while though. Wide awake. \n",
      "0 1 &quot;It's amazing what you can hide...Just by putting on a smile...&quot; \n",
      "0 1 @BigCinemaRon  EEEEP. fine darling. but now would be cool.....\n",
      "1 0 @voipusers haha of course, didn't even really think of that \n",
      "0 1 The sun is teasing! It's popping up and then hiding!! \n",
      "1 0 LMAO!!! @damonDCclark eww! I hate Grits... I just eat lots of Frijoles @JessiDavis_ that works for me! \n",
      "0 1 attn dallas visitors: there are more things to do here than shop! jk I &lt;3 u seester. but not shopping marathons... \n",
      "0 1 The sun only always shines on TV, actually \n",
      "0 1 Happy birthday to me... Turned 23 yesterday - hangover \n",
      "0 1 http://twitpic.com/7s96p - good times....good times... i miss this \n",
      "1 0 I'm wonderng why I thought I was tired...cuz now that I see this &quot;Mantis&quot; infomercial...I can't sleep.  Sheesh!!  \n",
      "0 1 off to drama filled work...great \n",
      "1 0 @stephshock They will bff, don't worry. I'm hungry. haha. Random I know. T's still asleep. I want some biscuits and gravy! Bring me some! \n",
      "0 1 @iamlittleboots it's always behind the clouds! \n",
      "0 1 @PeakedMtFarm I'll gladly trade you weather in the 90's for your cool rainy weather. My plants are drooping \n",
      "0 1 Sods Law. Looks like the wind is getting up, makes for interesting times on the course \n",
      "0 1 Editing a project I simply can't wait to get off my plate \n",
      "0 1 @RachelLock22 :O @jessicaveronica TWITTERED U :o jealous  haha\n",
      "1 0 @DHughesy not me ..... tweetdeck is awesome though \n",
      "1 0 @msgigglebox asked what rating 'Flash Gordon' was...i said its not R...and she said its rated OMG \n",
      "0 1 @z53 You were suppose to be with me!! \n"
     ]
    }
   ],
   "source": [
    "# print misclassifications in first 100 \n",
    "# y_actual, y_pred, tweet\n",
    "misclassified = []\n",
    "for i,v in enumerate(NB_clf.predict(X_train_transformed[:100])):\n",
    "    if v != y_array[:100][i]:\n",
    "        print(y_array[:100][i], v, X_array[:100][i])\n",
    "        misclassified.append(i)"
   ]
  },
  {
   "cell_type": "code",
   "execution_count": 22,
   "metadata": {},
   "outputs": [
    {
     "name": "stdout",
     "output_type": "stream",
     "text": [
      "Accuracy in first 100 rows = 0.76\n"
     ]
    }
   ],
   "source": [
    "accuracy = 1 - len(misclassified)/100\n",
    "print(f'Accuracy in first 100 rows = {accuracy}')"
   ]
  },
  {
   "cell_type": "markdown",
   "metadata": {},
   "source": [
    "These do seem ambiguous at times, looking at some correctly classified examples.\n",
    "\n",
    "**Correctly classified**"
   ]
  },
  {
   "cell_type": "code",
   "execution_count": 23,
   "metadata": {},
   "outputs": [
    {
     "name": "stdout",
     "output_type": "stream",
     "text": [
      "1 1 happy mothers day to all those special moms out there.... i luv u mommy!! \n",
      "1 1 Thank you to all our new followers.  If you haven't checked out the video for our upcoming single, please do: http://bit.ly/17OclK  \n",
      "0 0 Ouch, arms are sunburned.  I didn't feel like I was spending too much time in the sun and silly me didn't put on sunscreen. \n",
      "1 1 &quot;You Really Got a Hold on Me&quot; by Zooey Deschanel @ZooeyDe &amp; M. Ward a.k.a. She &amp; Him. My new favorite song of all time. \n",
      "0 0 My stickers are fading... \n",
      "0 0 Hate it when you forget to lower your ISO after being inside and get grainy shots in perfect light outside...when in Paris \n",
      "1 1 @kathtrinder I had them for lunch  ooooh, green &amp; blacks  yay! lol. Friday and saturday are gonna be awesome!!\n",
      "0 0 @ronilicious - SOUP is exactly what I'm in the mood for tonight. No Panera close to me though \n",
      "1 1 @MariahCarey So you don't know the song &quot;chihuaha&quot; from our SWISS singer DJ BOBO ? Haha !! It was a hit in 2003 here. But I understand  \n",
      "1 1 Does someone have to follow you in order to see your comments to them?? Someone let me know puhleaassee \n",
      "1 1 @aherne148 do you need to add milk? Lol \n",
      "0 0 Change me plans were not gonna see up \n",
      "0 0 SAD story on @GMA about moms not taking maternity leave. Another casuality of the recession  THANK GOD I was able to stay with Zoe\n"
     ]
    }
   ],
   "source": [
    "for i,v in enumerate(NB_clf.predict(X_train_transformed[:100])):\n",
    "    if v == y_array[:100][i] and i < 20:\n",
    "        print(y_array[:100][i], v, X_array[:100][i])"
   ]
  },
  {
   "cell_type": "markdown",
   "metadata": {},
   "source": [
    "And those do seem like more clearcut cases."
   ]
  },
  {
   "cell_type": "code",
   "execution_count": 24,
   "metadata": {},
   "outputs": [
    {
     "name": "stdout",
     "output_type": "stream",
     "text": [
      "Total running time: 2 minute(s) and 16 second(s).\n"
     ]
    }
   ],
   "source": [
    "# time notebook\n",
    "mins, secs = divmod(time.time() - start_notebook, 60)\n",
    "print(f'Total running time: {mins:0.0f} minute(s) and {secs:0.0f} second(s).')"
   ]
  },
  {
   "cell_type": "markdown",
   "metadata": {},
   "source": [
    "---"
   ]
  }
 ],
 "metadata": {
  "kernelspec": {
   "display_name": "Python 3",
   "language": "python",
   "name": "python3"
  },
  "language_info": {
   "codemirror_mode": {
    "name": "ipython",
    "version": 3
   },
   "file_extension": ".py",
   "mimetype": "text/x-python",
   "name": "python",
   "nbconvert_exporter": "python",
   "pygments_lexer": "ipython3",
   "version": "3.7.3"
  }
 },
 "nbformat": 4,
 "nbformat_minor": 4
}
