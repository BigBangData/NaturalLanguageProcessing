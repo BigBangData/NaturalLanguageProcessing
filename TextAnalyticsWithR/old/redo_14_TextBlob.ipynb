{
 "cells": [
  {
   "cell_type": "markdown",
   "metadata": {},
   "source": [
    "# Twitter Sentiment Analysis - POC\n",
    "---\n",
    "\n",
    "## TextBlob\n",
    "\n",
    "Using TextBlob as a classifier. Questions remain:\n",
    "\n",
    "- why are predictions unstable with Logistic Regression and stable with TextBlob?\n",
    "- why is TextBlob's accuracy lower then - could it be that we're not training positive/negative but training to recognize whatever set of emoji's were used to create the sentiment140 dataset?"
   ]
  },
  {
   "cell_type": "code",
   "execution_count": 2,
   "metadata": {},
   "outputs": [],
   "source": [
    "import re\n",
    "import os\n",
    "import time\n",
    "import json\n",
    "\n",
    "import numpy as np\n",
    "import pandas as pd\n",
    "import scipy.sparse as sp\n",
    "\n",
    "import cleanup_module_POC as Cmod\n",
    "\n",
    "from textblob import TextBlob\n",
    "from sklearn.pipeline import Pipeline\n",
    "from sklearn.naive_bayes import MultinomialNB\n",
    "from sklearn.linear_model import LogisticRegression\n",
    "from sklearn.model_selection import cross_val_score\n",
    "from sklearn.model_selection import train_test_split"
   ]
  },
  {
   "cell_type": "code",
   "execution_count": 3,
   "metadata": {},
   "outputs": [],
   "source": [
    "# time notebook\n",
    "start_notebook = time.time()\n",
    "\n",
    "# load minimally prepared X, y train subsets\n",
    "raw_path = os.path.join(\"..\",\"data\",\"1_raw\",\"sentiment140\")\n",
    "X_train = pd.read_csv(os.path.join(raw_path, \"X_train.csv\"))\n",
    "y_train = pd.read_csv(os.path.join(raw_path, \"y_train.csv\"))"
   ]
  },
  {
   "cell_type": "markdown",
   "metadata": {},
   "source": [
    "### Sample down to $m\\approx120k$"
   ]
  },
  {
   "cell_type": "code",
   "execution_count": 4,
   "metadata": {},
   "outputs": [],
   "source": [
    "X, X_rest, y, y_rest = train_test_split(X_train, y_train, test_size=0.9, random_state=42)"
   ]
  },
  {
   "cell_type": "code",
   "execution_count": 5,
   "metadata": {},
   "outputs": [
    {
     "name": "stdout",
     "output_type": "stream",
     "text": [
      "Dataset size: 119747\n",
      "Target distribution: 0.498\n"
     ]
    }
   ],
   "source": [
    "# check\n",
    "print(f'Dataset size: {len(X):0.0f}')\n",
    "print(f'Target distribution: {sum(y[\"target\"])/len(y):0.3f}')"
   ]
  },
  {
   "cell_type": "code",
   "execution_count": 6,
   "metadata": {},
   "outputs": [],
   "source": [
    "# transform into arrays\n",
    "X_array = np.array(X.iloc[:, 2]).ravel()\n",
    "y_array = y.iloc[:,0].ravel()"
   ]
  },
  {
   "cell_type": "code",
   "execution_count": 7,
   "metadata": {},
   "outputs": [],
   "source": [
    "preprocess_pipeline = Pipeline([\n",
    "    (\"document_to_wordcount\", Cmod.DocumentToWordCounterTransformer()),\n",
    "    (\"wordcount_to_vector\", Cmod.WordCounterToVectorTransformer(vocabulary_size=30000)),\n",
    "])"
   ]
  },
  {
   "cell_type": "code",
   "execution_count": 8,
   "metadata": {},
   "outputs": [
    {
     "name": "stdout",
     "output_type": "stream",
     "text": [
      "Loading X_train_transformed...\n"
     ]
    }
   ],
   "source": [
    "proc_dir = os.path.join(\"..\",\"data\",\"3_processed\",\"sentiment140\")\n",
    "\n",
    "try:\n",
    "    # load X_train_transformed \n",
    "    X_train_transformed = sp.load_npz(os.path.join(proc_dir, \"X_train_transformed_BoW_120k_30k.npz\"))\n",
    "    print('Loading X_train_transformed...')\n",
    "except:\n",
    "    print('Preprocessing X_array...')\n",
    "    start_pipeline = time.time()\n",
    "    X_train_transformed = preprocess_pipeline.fit_transform(X_array) \n",
    "    # save preprocessed data\n",
    "    sp.save_npz(os.path.join(proc_dir, 'X_train_transformed_BoW_120k_30k.npz'), X_train_transformed)\n",
    "    # print processing time\n",
    "    mins, secs = divmod(time.time() - start_pipeline, 60)\n",
    "    print(f'Preprocessing time: {mins:0.0f} minute(s) and {secs:0.0f} second(s).')\n",
    "    # Preprocessing time: 2 minute(s) and 41 second(s)."
   ]
  },
  {
   "cell_type": "code",
   "execution_count": 9,
   "metadata": {},
   "outputs": [
    {
     "data": {
      "text/plain": [
       "<119747x30001 sparse matrix of type '<class 'numpy.int32'>'\n",
       "\twith 1220493 stored elements in Compressed Sparse Row format>"
      ]
     },
     "execution_count": 9,
     "metadata": {},
     "output_type": "execute_result"
    }
   ],
   "source": [
    "X_train_transformed"
   ]
  },
  {
   "cell_type": "markdown",
   "metadata": {},
   "source": [
    "### Get TextBlob.sentiment.polarity"
   ]
  },
  {
   "cell_type": "code",
   "execution_count": 10,
   "metadata": {},
   "outputs": [],
   "source": [
    "def make_binary(val):\n",
    "    if val <= 0: # better accuracy than val < 0\n",
    "        return 0\n",
    "    else:\n",
    "        return 1\n",
    "        \n",
    "def extract_polarity(array):\n",
    "    bin_vals = []\n",
    "    for entry in array:\n",
    "        blob = TextBlob(entry)\n",
    "        polarity = blob.sentiment.polarity\n",
    "        bin_vals.append(make_binary(polarity))\n",
    "    return bin_vals"
   ]
  },
  {
   "cell_type": "code",
   "execution_count": 11,
   "metadata": {},
   "outputs": [],
   "source": [
    "y_preds = extract_polarity(X_array)"
   ]
  },
  {
   "cell_type": "code",
   "execution_count": 12,
   "metadata": {},
   "outputs": [
    {
     "name": "stdout",
     "output_type": "stream",
     "text": [
      "TexBlob's accuracy: 0.6233\n"
     ]
    }
   ],
   "source": [
    "from sklearn.metrics import accuracy_score\n",
    "print(f'TexBlob\\'s accuracy: {accuracy_score(y_array, y_preds):0.4f}')"
   ]
  },
  {
   "cell_type": "code",
   "execution_count": 13,
   "metadata": {},
   "outputs": [],
   "source": [
    "def calc_accuracy(y_true, y_pred):\n",
    "    sum_ones = []\n",
    "    for yt, yp in zip(y_array, y_pred):\n",
    "        if yt == yp:\n",
    "            sum_ones.append(1)\n",
    "        else:\n",
    "            sum_ones.append(0)\n",
    "    return sum(sum_ones)/len(sum_ones)"
   ]
  },
  {
   "cell_type": "code",
   "execution_count": 14,
   "metadata": {},
   "outputs": [
    {
     "name": "stdout",
     "output_type": "stream",
     "text": [
      "TexBlob's accuracy: 0.6233\n"
     ]
    }
   ],
   "source": [
    "print(f'TexBlob\\'s accuracy: {calc_accuracy(y_array, y_preds):0.4f}') "
   ]
  },
  {
   "cell_type": "markdown",
   "metadata": {},
   "source": [
    "That's quite good without any preprocessing..."
   ]
  },
  {
   "cell_type": "markdown",
   "metadata": {},
   "source": [
    "### Naive Bayes and LR for comparison"
   ]
  },
  {
   "cell_type": "code",
   "execution_count": 15,
   "metadata": {},
   "outputs": [],
   "source": [
    "NB_clf = MultinomialNB()\n",
    "log_clf = LogisticRegression(solver=\"liblinear\", random_state=42)"
   ]
  },
  {
   "cell_type": "code",
   "execution_count": 16,
   "metadata": {},
   "outputs": [
    {
     "name": "stdout",
     "output_type": "stream",
     "text": [
      "Accuracy: 0.7702 (+/- 0.0014)\n"
     ]
    }
   ],
   "source": [
    "score = cross_val_score(NB_clf, X_train_transformed, y_array, cv=5, verbose=0, scoring='accuracy')\n",
    "print(f'Accuracy: {round(score.mean(),4):0.4f} (+/- {np.std(score):0.4f})')"
   ]
  },
  {
   "cell_type": "code",
   "execution_count": 17,
   "metadata": {},
   "outputs": [
    {
     "name": "stdout",
     "output_type": "stream",
     "text": [
      "Accuracy: 0.7819 (+/- 0.0016)\n"
     ]
    }
   ],
   "source": [
    "score = cross_val_score(log_clf, X_train_transformed, y_array, cv=5, verbose=0, scoring='accuracy')\n",
    "print(f'Accuracy: {round(score.mean(),4):0.4f} (+/- {np.std(score):0.4f})')"
   ]
  },
  {
   "cell_type": "markdown",
   "metadata": {},
   "source": [
    "### Peek at some predictions"
   ]
  },
  {
   "cell_type": "code",
   "execution_count": 18,
   "metadata": {},
   "outputs": [],
   "source": [
    "Xtr, Xts, ytr, yts = train_test_split(X_train_transformed, y_array, test_size=0.25, random_state=42)"
   ]
  },
  {
   "cell_type": "code",
   "execution_count": 19,
   "metadata": {},
   "outputs": [],
   "source": [
    "new_array = np.array([\n",
    "                      \"loving this feeling amazing happy\",\n",
    "                      \"yay we're going bowling - so excited\",\n",
    "                      \"what a wonderful day!\",\n",
    "                      \"they can go to hell, idiots\",\n",
    "                      \"I hate you and I hate everyone\",\n",
    "                      \"what a poor excuse - sorry but they're terrible liars\"\n",
    "                      ])"
   ]
  },
  {
   "cell_type": "code",
   "execution_count": 20,
   "metadata": {},
   "outputs": [],
   "source": [
    "new_array_transformed = preprocess_pipeline.fit_transform(new_array)"
   ]
  },
  {
   "cell_type": "code",
   "execution_count": 21,
   "metadata": {},
   "outputs": [
    {
     "data": {
      "text/plain": [
       "LogisticRegression(random_state=42, solver='liblinear')"
      ]
     },
     "execution_count": 21,
     "metadata": {},
     "output_type": "execute_result"
    }
   ],
   "source": [
    "log_clf = LogisticRegression(solver=\"liblinear\", random_state=42)\n",
    "log_clf.fit(Xtr, ytr)"
   ]
  },
  {
   "cell_type": "code",
   "execution_count": 22,
   "metadata": {},
   "outputs": [
    {
     "data": {
      "text/plain": [
       "0.7780338711293717"
      ]
     },
     "execution_count": 22,
     "metadata": {},
     "output_type": "execute_result"
    }
   ],
   "source": [
    "y_pred = log_clf.predict(Xts)\n",
    "accuracy_score(yts, y_pred)"
   ]
  },
  {
   "cell_type": "code",
   "execution_count": 24,
   "metadata": {},
   "outputs": [],
   "source": [
    "new_yts = np.hstack([yts, np.array([1,1,1,0,0,0])])"
   ]
  },
  {
   "cell_type": "code",
   "execution_count": 25,
   "metadata": {},
   "outputs": [],
   "source": [
    "from scipy.sparse import vstack\n",
    "new_Xts = vstack((Xts, new_array_transformed))"
   ]
  },
  {
   "cell_type": "code",
   "execution_count": 26,
   "metadata": {},
   "outputs": [],
   "source": [
    "y_pred = log_clf.predict(new_Xts)"
   ]
  },
  {
   "cell_type": "code",
   "execution_count": 27,
   "metadata": {},
   "outputs": [
    {
     "data": {
      "text/plain": [
       "0.7779"
      ]
     },
     "execution_count": 27,
     "metadata": {},
     "output_type": "execute_result"
    }
   ],
   "source": [
    "round(accuracy_score(y_pred, new_yts), 4)"
   ]
  },
  {
   "cell_type": "code",
   "execution_count": 28,
   "metadata": {},
   "outputs": [
    {
     "name": "stdout",
     "output_type": "stream",
     "text": [
      "29937 0\n",
      "29938 1\n",
      "29939 0\n",
      "29940 1\n",
      "29941 1\n",
      "29942 0\n"
     ]
    }
   ],
   "source": [
    "for ix, val in enumerate(y_pred):\n",
    "    if ix > 29936:\n",
    "        print(ix, val)"
   ]
  },
  {
   "cell_type": "code",
   "execution_count": 29,
   "metadata": {},
   "outputs": [
    {
     "data": {
      "text/plain": [
       "array([0, 1, 0, 1, 1, 0], dtype=int64)"
      ]
     },
     "execution_count": 29,
     "metadata": {},
     "output_type": "execute_result"
    }
   ],
   "source": [
    "log_clf.predict(new_array_transformed)"
   ]
  },
  {
   "cell_type": "code",
   "execution_count": 30,
   "metadata": {},
   "outputs": [
    {
     "name": "stdout",
     "output_type": "stream",
     "text": [
      "loving this feeling amazing happy 0.667\n",
      "yay we're going bowling - so excited 0.375\n",
      "what a wonderful day! 1.000\n",
      "they can go to hell, idiots -0.800\n",
      "I hate you and I hate everyone -0.800\n",
      "what a poor excuse - sorry but they're terrible liars -0.487\n"
     ]
    }
   ],
   "source": [
    "for string in new_array:\n",
    "    blob = TextBlob(string)\n",
    "    print(string + f' {blob.sentiment.polarity:0.3f}')"
   ]
  },
  {
   "cell_type": "code",
   "execution_count": 31,
   "metadata": {},
   "outputs": [
    {
     "data": {
      "text/plain": [
       "array([[0.72122637, 0.27877363],\n",
       "       [0.4937703 , 0.5062297 ],\n",
       "       [0.52578153, 0.47421847],\n",
       "       [0.23334983, 0.76665017],\n",
       "       [0.43009253, 0.56990747],\n",
       "       [0.61629388, 0.38370612]])"
      ]
     },
     "execution_count": 31,
     "metadata": {},
     "output_type": "execute_result"
    }
   ],
   "source": [
    "log_clf.predict_proba(new_array_transformed)"
   ]
  },
  {
   "cell_type": "markdown",
   "metadata": {},
   "source": [
    "---"
   ]
  }
 ],
 "metadata": {
  "kernelspec": {
   "display_name": "Python 3",
   "language": "python",
   "name": "python3"
  },
  "language_info": {
   "codemirror_mode": {
    "name": "ipython",
    "version": 3
   },
   "file_extension": ".py",
   "mimetype": "text/x-python",
   "name": "python",
   "nbconvert_exporter": "python",
   "pygments_lexer": "ipython3",
   "version": "3.7.3"
  }
 },
 "nbformat": 4,
 "nbformat_minor": 4
}
