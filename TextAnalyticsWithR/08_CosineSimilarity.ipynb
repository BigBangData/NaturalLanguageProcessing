{
 "cells": [
  {
   "cell_type": "markdown",
   "metadata": {},
   "source": [
    "# Cosine Similarity\n",
    "\n",
    "---\n",
    "\n",
    "*Features*\n",
    "\n",
    "- Calculates cosine similarity on both BoT and Tfidf \n",
    "- Visualizes results; at first they appear promising\n",
    "\n",
    "*Results*\n",
    "\n",
    "With the baseline logistic regression model...\n",
    "\n",
    "- Adding cosine similarity to BoT or Tfidf representations does not improve them\n",
    "- This needs to be tested with more complex models and in conjunction with new features"
   ]
  },
  {
   "cell_type": "markdown",
   "metadata": {},
   "source": [
    "### Setup"
   ]
  },
  {
   "cell_type": "code",
   "execution_count": 1,
   "metadata": {},
   "outputs": [
    {
     "name": "stdout",
     "output_type": "stream",
     "text": [
      "Revised on: 2020-12-28\n"
     ]
    }
   ],
   "source": [
    "import os\n",
    "import time\n",
    "\n",
    "import numpy as np\n",
    "import pandas as pd\n",
    "\n",
    "from datetime import datetime\n",
    "\n",
    "start_time = time.time()\n",
    "dt_object = datetime.fromtimestamp(time.time())\n",
    "day, T = str(dt_object).split('.')[0].split(' ')\n",
    "print('Revised on: ' + day)"
   ]
  },
  {
   "cell_type": "markdown",
   "metadata": {},
   "source": [
    "### Load Data"
   ]
  },
  {
   "cell_type": "code",
   "execution_count": 2,
   "metadata": {},
   "outputs": [],
   "source": [
    "import json\n",
    "import urlextract\n",
    "from nltk.stem import WordNetLemmatizer\n",
    "\n",
    "def load_data(data):\n",
    "    raw_path = os.path.join(\"..\",\"data\",\"1_raw\")\n",
    "    filename = ''.join([data, \".csv\"])\n",
    "    out_dfm = pd.read_csv(os.path.join(raw_path, filename))\n",
    "    out_arr = np.array(out_dfm.iloc[:,0].ravel())\n",
    "    return out_arr\n",
    "\n",
    "X_train = load_data(\"X_train\")\n",
    "y_train = load_data(\"y_train\")\n",
    "\n",
    "# load contractions map for custom cleanup\n",
    "with open(\"contractions_map.json\") as f:\n",
    "    contractions_map = json.load(f)"
   ]
  },
  {
   "cell_type": "markdown",
   "metadata": {},
   "source": [
    "### BoT & Tfidf"
   ]
  },
  {
   "cell_type": "code",
   "execution_count": 3,
   "metadata": {},
   "outputs": [],
   "source": [
    "import custom.clean_preprocess as cp\n",
    "from sklearn.pipeline import Pipeline\n",
    "from sklearn.feature_extraction.text import TfidfTransformer\n",
    "\n",
    "pipe = Pipeline([('counter', cp.DocumentToNgramCounterTransformer(n_grams=3)),\n",
    "                 ('bot', cp.WordCounterToVectorTransformer(vocabulary_size=2000)),\n",
    "                 ('tfidf', TfidfTransformer(sublinear_tf=True))\n",
    "                ])\n",
    "\n",
    "X_counter = pipe['counter'].fit_transform(X_train)\n",
    "X_bot = pipe['bot'].fit_transform(X_counter)\n",
    "\n",
    "X_tfidf = pipe.fit_transform(X_train)"
   ]
  },
  {
   "cell_type": "markdown",
   "metadata": {},
   "source": [
    "### SVD "
   ]
  },
  {
   "cell_type": "code",
   "execution_count": 4,
   "metadata": {},
   "outputs": [],
   "source": [
    "import scipy.sparse as sp\n",
    "from scipy.sparse.linalg import svds\n",
    "from sklearn.utils.extmath import svd_flip\n",
    "\n",
    "def perform_SVD(X, n_components=300):\n",
    "    X_array = X.asfptype()\n",
    "    U, Sigma, VT = svds(X_array.T, k=n_components)\n",
    "    # reverse outputs\n",
    "    Sigma = Sigma[::-1]\n",
    "    U, VT = svd_flip(U[:, ::-1], VT[::-1])\n",
    "    # return V \n",
    "    V = VT.T\n",
    "    return V\n",
    "\n",
    "X_svd_bot = perform_SVD(X_bot)\n",
    "X_svd_tfidf = perform_SVD(X_tfidf)"
   ]
  },
  {
   "cell_type": "markdown",
   "metadata": {},
   "source": [
    "### Calculate Spam Cosine Similarity"
   ]
  },
  {
   "cell_type": "code",
   "execution_count": 5,
   "metadata": {},
   "outputs": [
    {
     "data": {
      "text/plain": [
       "((3900, 3900), (3900, 3900))"
      ]
     },
     "execution_count": 5,
     "metadata": {},
     "output_type": "execute_result"
    }
   ],
   "source": [
    "from sklearn.metrics.pairwise import cosine_similarity\n",
    "\n",
    "# no need to transpose as in R\n",
    "X_cossim_svd_bot = cosine_similarity(X_svd_bot)\n",
    "X_cossim_svd_tfidf = cosine_similarity(X_svd_tfidf)\n",
    "\n",
    "# check that it is the 3,900 documents that are being compared, not 300 or 2,000 features\n",
    "X_cossim_svd_bot.shape, X_cossim_svd_tfidf.shape"
   ]
  },
  {
   "cell_type": "code",
   "execution_count": 6,
   "metadata": {},
   "outputs": [
    {
     "data": {
      "text/html": [
       "<div>\n",
       "<style scoped>\n",
       "    .dataframe tbody tr th:only-of-type {\n",
       "        vertical-align: middle;\n",
       "    }\n",
       "\n",
       "    .dataframe tbody tr th {\n",
       "        vertical-align: top;\n",
       "    }\n",
       "\n",
       "    .dataframe thead th {\n",
       "        text-align: right;\n",
       "    }\n",
       "</style>\n",
       "<table border=\"1\" class=\"dataframe\">\n",
       "  <thead>\n",
       "    <tr style=\"text-align: right;\">\n",
       "      <th></th>\n",
       "      <th>sms</th>\n",
       "      <th>target</th>\n",
       "      <th>mean_spam_cossim_bot</th>\n",
       "      <th>mean_spam_cossim_tfidf</th>\n",
       "    </tr>\n",
       "  </thead>\n",
       "  <tbody>\n",
       "    <tr>\n",
       "      <th>0</th>\n",
       "      <td>All sounds good. Fingers . Makes it difficult ...</td>\n",
       "      <td>ham</td>\n",
       "      <td>0.001262</td>\n",
       "      <td>-0.000206</td>\n",
       "    </tr>\n",
       "    <tr>\n",
       "      <th>1</th>\n",
       "      <td>Not heard from U4 a while. Call 4 rude chat pr...</td>\n",
       "      <td>spam</td>\n",
       "      <td>0.012506</td>\n",
       "      <td>0.025532</td>\n",
       "    </tr>\n",
       "    <tr>\n",
       "      <th>2</th>\n",
       "      <td>Wishing you and your family Merry \\X\\\" mas and...</td>\n",
       "      <td>ham</td>\n",
       "      <td>0.003326</td>\n",
       "      <td>-0.000497</td>\n",
       "    </tr>\n",
       "    <tr>\n",
       "      <th>3</th>\n",
       "      <td>Yo we are watching a movie on netflix</td>\n",
       "      <td>ham</td>\n",
       "      <td>0.000698</td>\n",
       "      <td>-0.000089</td>\n",
       "    </tr>\n",
       "    <tr>\n",
       "      <th>4</th>\n",
       "      <td>Single line with a big meaning::::: \\Miss anyt...</td>\n",
       "      <td>ham</td>\n",
       "      <td>0.000740</td>\n",
       "      <td>0.003547</td>\n",
       "    </tr>\n",
       "    <tr>\n",
       "      <th>5</th>\n",
       "      <td>Genius what's up. How your brother. Pls send h...</td>\n",
       "      <td>ham</td>\n",
       "      <td>-0.002060</td>\n",
       "      <td>-0.000314</td>\n",
       "    </tr>\n",
       "    <tr>\n",
       "      <th>6</th>\n",
       "      <td>Jordan got voted out last nite!</td>\n",
       "      <td>ham</td>\n",
       "      <td>-0.000129</td>\n",
       "      <td>-0.000200</td>\n",
       "    </tr>\n",
       "    <tr>\n",
       "      <th>7</th>\n",
       "      <td>Lol yeah at this point I guess not</td>\n",
       "      <td>ham</td>\n",
       "      <td>0.000319</td>\n",
       "      <td>0.000010</td>\n",
       "    </tr>\n",
       "    <tr>\n",
       "      <th>8</th>\n",
       "      <td>No..few hours before.went to hair cut .</td>\n",
       "      <td>ham</td>\n",
       "      <td>-0.001041</td>\n",
       "      <td>-0.001098</td>\n",
       "    </tr>\n",
       "    <tr>\n",
       "      <th>9</th>\n",
       "      <td>Ok.ok ok..then..whats ur todays plan</td>\n",
       "      <td>ham</td>\n",
       "      <td>-0.000727</td>\n",
       "      <td>-0.001034</td>\n",
       "    </tr>\n",
       "  </tbody>\n",
       "</table>\n",
       "</div>"
      ],
      "text/plain": [
       "                                                 sms target  \\\n",
       "0  All sounds good. Fingers . Makes it difficult ...    ham   \n",
       "1  Not heard from U4 a while. Call 4 rude chat pr...   spam   \n",
       "2  Wishing you and your family Merry \\X\\\" mas and...    ham   \n",
       "3              Yo we are watching a movie on netflix    ham   \n",
       "4  Single line with a big meaning::::: \\Miss anyt...    ham   \n",
       "5  Genius what's up. How your brother. Pls send h...    ham   \n",
       "6                    Jordan got voted out last nite!    ham   \n",
       "7                 Lol yeah at this point I guess not    ham   \n",
       "8            No..few hours before.went to hair cut .    ham   \n",
       "9               Ok.ok ok..then..whats ur todays plan    ham   \n",
       "\n",
       "   mean_spam_cossim_bot  mean_spam_cossim_tfidf  \n",
       "0              0.001262               -0.000206  \n",
       "1              0.012506                0.025532  \n",
       "2              0.003326               -0.000497  \n",
       "3              0.000698               -0.000089  \n",
       "4              0.000740                0.003547  \n",
       "5             -0.002060               -0.000314  \n",
       "6             -0.000129               -0.000200  \n",
       "7              0.000319                0.000010  \n",
       "8             -0.001041               -0.001098  \n",
       "9             -0.000727               -0.001034  "
      ]
     },
     "execution_count": 6,
     "metadata": {},
     "output_type": "execute_result"
    }
   ],
   "source": [
    "data = {'sms':X_train, 'target':y_train}\n",
    "train_df = pd.DataFrame(data)\n",
    "\n",
    "# get spam indexes\n",
    "spam_ix = train_df.loc[train_df['target']=='spam'].index\n",
    "\n",
    "# calculate average spam similarity on SVD\n",
    "mean_spam_sims_bot, mean_spam_sims_tfidf = [], []\n",
    "for ix in range(X_cossim_svd_bot.shape[0]):\n",
    "    mean_spam_sims_bot.append(np.mean(X_cossim_svd_bot[ix, spam_ix]))\n",
    "    mean_spam_sims_tfidf.append(np.mean(X_cossim_svd_tfidf[ix, spam_ix]))\n",
    "\n",
    "train_df['mean_spam_cossim_bot'] = mean_spam_sims_bot\n",
    "train_df['mean_spam_cossim_tfidf'] = mean_spam_sims_tfidf\n",
    "\n",
    "train_df.head(10)"
   ]
  },
  {
   "cell_type": "markdown",
   "metadata": {},
   "source": [
    "### Visualize "
   ]
  },
  {
   "cell_type": "code",
   "execution_count": 7,
   "metadata": {},
   "outputs": [],
   "source": [
    "# create a dataframe for plotting\n",
    "data = {'sims_bot':mean_spam_sims_bot, \n",
    "        'sims_tfidf':mean_spam_sims_tfidf, \n",
    "        'target':y_train}\n",
    "\n",
    "spam_sim_df = pd.DataFrame(data)\n",
    "\n",
    "spam_hist_bot = spam_sim_df.loc[spam_sim_df['target']=='spam']['sims_bot']\n",
    "ham_hist_bot = spam_sim_df.loc[spam_sim_df['target']=='ham']['sims_bot']\n",
    "spam_hist_tfidf = spam_sim_df.loc[spam_sim_df['target']=='spam']['sims_tfidf']\n",
    "ham_hist_tfidf = spam_sim_df.loc[spam_sim_df['target']=='ham']['sims_tfidf']"
   ]
  },
  {
   "cell_type": "code",
   "execution_count": 8,
   "metadata": {},
   "outputs": [
    {
     "data": {
      "image/png": "[encoded data removed]",
      "text/plain": [
       "<Figure size 1008x720 with 2 Axes>"
      ]
     },
     "metadata": {
      "needs_background": "light"
     },
     "output_type": "display_data"
    }
   ],
   "source": [
    "import matplotlib.pyplot as plt \n",
    "\n",
    "fig, axs = plt.subplots(2, figsize=(14, 10))\n",
    "\n",
    "axs[0].hist(spam_hist_bot, alpha=0.5, label='spam')\n",
    "axs[0].hist(ham_hist_bot, alpha=0.5, label='ham')\n",
    "axs[1].hist(spam_hist_tfidf, alpha=0.5, label='spam')\n",
    "axs[1].hist(ham_hist_tfidf, alpha=0.5, label='ham')\n",
    "\n",
    "fig.suptitle('Distribution of Ham vs Spam using Spam Cosine Similarity', size=18)\n",
    "axs[0].set_title('Using SVD of Bag-of-Trigrams', size=14)\n",
    "axs[1].set_title('Using SVD of Tfidf', size=14)\n",
    "for ax in axs.flat:\n",
    "    ax.set(xlabel='', ylabel='Message Count')\n",
    "    ax.legend()\n",
    "    \n",
    "plt.xlabel('Mean Spam Cosine Similarity')    \n",
    "plt.show()"
   ]
  },
  {
   "cell_type": "markdown",
   "metadata": {},
   "source": [
    "### Original Tutorial\n",
    "\n",
    "In [Introduction to Text Analytis With R Part 10](https://www.youtube.com/watch?v=7cwBhWYHgsA&list=PLTJTBoU5HOCR5Vkah2Z-AU76ZYsZjGFK6&index=10), David Langer explains how This looks like a promising feature because average spam cosine similarities seem to separate the target well. Yet we can't rely on visualization alone, we need to run the data through a model to test it out.\n",
    "\n",
    "The original process was to perform 10-fold CV, repeat 3x, build a random forest model with 500 trees each time, test 7 different values for **mtry**: the number of random variables each tree uses to build itself. \n",
    "\n",
    "The best **mtry** value was 52. The accuracy achieved was 97.9%, with a sensitivity (TPR, recall, TP over condition P or $\\frac{3365}{(3365+69)}$ below) of 97.99% and specificity (TNR, selectivity, or TN over condition N, or $\\frac{454}{(454+13)}$ below) of 97.22%.\n",
    "\n",
    "```\n",
    "Confusion Matrix\n",
    "\n",
    "                Actual\n",
    "                ham  spam\n",
    "Predicted ham  3365    13\n",
    "          spam   69   454\n",
    "```\n",
    "\n",
    "This was an improvement on a previous model because the sensitivity was not as high, meaning, customers would be getting more of their legitimate messages sent to the spam folder, and we can assume customers would be more forgiving of the occasional spam not being filtered (lower specificity) rather than losing legitimate messages (lower sensitivity)."
   ]
  },
  {
   "cell_type": "markdown",
   "metadata": {},
   "source": [
    "### Quick Model"
   ]
  },
  {
   "cell_type": "code",
   "execution_count": 9,
   "metadata": {},
   "outputs": [],
   "source": [
    "# transform y_array into int type\n",
    "y_train[y_train=='ham'] = 0\n",
    "y_train[y_train=='spam'] = 1\n",
    "y = y_train.astype('int')"
   ]
  },
  {
   "cell_type": "code",
   "execution_count": 10,
   "metadata": {},
   "outputs": [],
   "source": [
    "from scipy.sparse import csr_matrix\n",
    "\n",
    "X_bot_cossim_bot = sp.hstack((csr_matrix(mean_spam_sims_bot).T, X_bot))\n",
    "X_bot_cossim_tfidf = sp.hstack((csr_matrix(mean_spam_sims_tfidf).T, X_bot))\n",
    "X_tfidf_cossim_bot = sp.hstack((csr_matrix(mean_spam_sims_bot).T, X_tfidf))\n",
    "X_tfidf_cossim_tfidf = sp.hstack((csr_matrix(mean_spam_sims_tfidf).T, X_tfidf))"
   ]
  },
  {
   "cell_type": "code",
   "execution_count": 11,
   "metadata": {},
   "outputs": [],
   "source": [
    "from sklearn.model_selection import cross_val_score\n",
    "from sklearn.metrics import make_scorer, accuracy_score, recall_score\n",
    "\n",
    "def scikitlearn_cv(clf, X, y, seed_, cv=10, test_size=.25):\n",
    "    scorer_ = {\n",
    "        'acc': make_scorer(accuracy_score),\n",
    "        'tpr': make_scorer(recall_score, pos_label=1),\n",
    "        'tnr': make_scorer(recall_score, pos_label=0)\n",
    "    }\n",
    "    acc = cross_val_score(clf, X, y, cv=cv, verbose=0, scoring=scorer_['acc'], n_jobs=-1)\n",
    "    tpr = cross_val_score(clf, X, y, cv=cv, verbose=0, scoring=scorer_['tpr'], n_jobs=-1)\n",
    "    tnr = cross_val_score(clf, X, y, cv=cv, verbose=0, scoring=scorer_['tnr'], n_jobs=-1)\n",
    "    \n",
    "    return acc.mean(), tpr.mean(), tnr.mean()"
   ]
  },
  {
   "cell_type": "code",
   "execution_count": 12,
   "metadata": {},
   "outputs": [],
   "source": [
    "def collect_cvs(clf, Xs, Xnames, y, seed_, cv=10, test_size=.25):\n",
    "\n",
    "    accs, tprs, tnrs = [], [], []\n",
    "    for X in Xs:\n",
    "        acc, tpr, tnr = scikitlearn_cv(clf, X, y, seed_=seed_, \n",
    "                                       cv=cv, test_size=test_size)\n",
    "        accs.append(round(acc, 4))\n",
    "        tprs.append(round(tpr, 4))\n",
    "        tnrs.append(round(tnr, 4))\n",
    "\n",
    "    data = {'Representation': Xnames,\n",
    "            'mean_accuracy': accs,\n",
    "            'mean_sensitivity': tprs, \n",
    "            'mean_specificity': tnrs}\n",
    "    \n",
    "    return data"
   ]
  },
  {
   "cell_type": "code",
   "execution_count": 13,
   "metadata": {},
   "outputs": [],
   "source": [
    "from sklearn.linear_model import LogisticRegression\n",
    "\n",
    "log_clf = LogisticRegression(solver=\"liblinear\", random_state=42)\n",
    "\n",
    "Xs = [X_bot, X_tfidf, X_bot_cossim_bot, X_bot_cossim_tfidf, X_tfidf_cossim_bot, X_tfidf_cossim_tfidf]\n",
    "Xnames = ['BoT', 'Tfidf', 'BoT + BoTsims', 'BoT + Tfidfsims', 'Tfidf + BoTsims', 'Tfidf + Tfidfsims']\n",
    "\n",
    "data = collect_cvs(log_clf, Xs, Xnames, y, seed_=1209)"
   ]
  },
  {
   "cell_type": "code",
   "execution_count": 14,
   "metadata": {},
   "outputs": [
    {
     "data": {
      "text/html": [
       "<div>\n",
       "<style scoped>\n",
       "    .dataframe tbody tr th:only-of-type {\n",
       "        vertical-align: middle;\n",
       "    }\n",
       "\n",
       "    .dataframe tbody tr th {\n",
       "        vertical-align: top;\n",
       "    }\n",
       "\n",
       "    .dataframe thead th {\n",
       "        text-align: right;\n",
       "    }\n",
       "</style>\n",
       "<table border=\"1\" class=\"dataframe\">\n",
       "  <thead>\n",
       "    <tr style=\"text-align: right;\">\n",
       "      <th></th>\n",
       "      <th>Representation</th>\n",
       "      <th>mean_accuracy</th>\n",
       "      <th>mean_sensitivity</th>\n",
       "      <th>mean_specificity</th>\n",
       "    </tr>\n",
       "  </thead>\n",
       "  <tbody>\n",
       "    <tr>\n",
       "      <th>0</th>\n",
       "      <td>BoT</td>\n",
       "      <td>0.9859</td>\n",
       "      <td>0.9069</td>\n",
       "      <td>0.9979</td>\n",
       "    </tr>\n",
       "    <tr>\n",
       "      <th>1</th>\n",
       "      <td>Tfidf</td>\n",
       "      <td>0.9779</td>\n",
       "      <td>0.8450</td>\n",
       "      <td>0.9982</td>\n",
       "    </tr>\n",
       "    <tr>\n",
       "      <th>2</th>\n",
       "      <td>BoT + BoTsims</td>\n",
       "      <td>0.9859</td>\n",
       "      <td>0.9069</td>\n",
       "      <td>0.9979</td>\n",
       "    </tr>\n",
       "    <tr>\n",
       "      <th>3</th>\n",
       "      <td>BoT + Tfidfsims</td>\n",
       "      <td>0.9859</td>\n",
       "      <td>0.9069</td>\n",
       "      <td>0.9979</td>\n",
       "    </tr>\n",
       "    <tr>\n",
       "      <th>4</th>\n",
       "      <td>Tfidf + BoTsims</td>\n",
       "      <td>0.9782</td>\n",
       "      <td>0.8470</td>\n",
       "      <td>0.9982</td>\n",
       "    </tr>\n",
       "    <tr>\n",
       "      <th>5</th>\n",
       "      <td>Tfidf + Tfidfsims</td>\n",
       "      <td>0.9782</td>\n",
       "      <td>0.8470</td>\n",
       "      <td>0.9982</td>\n",
       "    </tr>\n",
       "  </tbody>\n",
       "</table>\n",
       "</div>"
      ],
      "text/plain": [
       "      Representation  mean_accuracy  mean_sensitivity  mean_specificity\n",
       "0                BoT         0.9859            0.9069            0.9979\n",
       "1              Tfidf         0.9779            0.8450            0.9982\n",
       "2      BoT + BoTsims         0.9859            0.9069            0.9979\n",
       "3    BoT + Tfidfsims         0.9859            0.9069            0.9979\n",
       "4    Tfidf + BoTsims         0.9782            0.8470            0.9982\n",
       "5  Tfidf + Tfidfsims         0.9782            0.8470            0.9982"
      ]
     },
     "execution_count": 14,
     "metadata": {},
     "output_type": "execute_result"
    }
   ],
   "source": [
    "pd.DataFrame(data)"
   ]
  },
  {
   "cell_type": "code",
   "execution_count": 15,
   "metadata": {},
   "outputs": [
    {
     "name": "stdout",
     "output_type": "stream",
     "text": [
      "Accuracy: 0.8674 | Sensitivity: 0.0000 | Specificity: 1.0000\n"
     ]
    }
   ],
   "source": [
    "acc, tpr, tnr = scikitlearn_cv(log_clf,\n",
    "                               csr_matrix(mean_spam_sims_tfidf).T,  # mean spam cosine similarity on tfidf\n",
    "                               y,\n",
    "                               seed_=8492)\n",
    "print(f'Accuracy: {acc:0.4f} | Sensitivity: {tpr:0.4f} | Specificity: {tnr:0.4f}')"
   ]
  },
  {
   "cell_type": "code",
   "execution_count": 16,
   "metadata": {},
   "outputs": [
    {
     "name": "stdout",
     "output_type": "stream",
     "text": [
      "Accuracy: 0.8674 | Sensitivity: 0.0000 | Specificity: 1.0000\n"
     ]
    }
   ],
   "source": [
    "acc, tpr, tnr = scikitlearn_cv(log_clf,\n",
    "                               csr_matrix(mean_spam_sims_bot).T,  # mean spam cosine similarity on bot\n",
    "                               y,\n",
    "                               seed_=8492) \n",
    "\n",
    "print(f'Accuracy: {acc:0.4f} | Sensitivity: {tpr:0.4f} | Specificity: {tnr:0.4f}')"
   ]
  },
  {
   "cell_type": "code",
   "execution_count": 17,
   "metadata": {},
   "outputs": [
    {
     "data": {
      "text/plain": [
       "array([[1106,    0],\n",
       "       [ 181,    0]], dtype=int64)"
      ]
     },
     "execution_count": 17,
     "metadata": {},
     "output_type": "execute_result"
    }
   ],
   "source": [
    "from sklearn.model_selection import train_test_split\n",
    "from sklearn.metrics import confusion_matrix\n",
    "\n",
    "log_clf = LogisticRegression(solver=\"liblinear\", random_state=2345)\n",
    "Xtr, Xte, ytr, yte = train_test_split(csr_matrix(mean_spam_sims_tfidf).T, \n",
    "                                      y, test_size=0.33, random_state=20398)\n",
    "\n",
    "# confusion matrix\n",
    "log_clf.fit(Xtr, ytr)\n",
    "ypred = log_clf.predict(Xte)\n",
    "confusion_matrix(yte, ypred)"
   ]
  },
  {
   "cell_type": "markdown",
   "metadata": {},
   "source": [
    "We see that the cosine similarities, whether on BoT or Tfidf, are just predicting the ham base rate, so they are not improving the model."
   ]
  },
  {
   "cell_type": "code",
   "execution_count": 18,
   "metadata": {},
   "outputs": [
    {
     "name": "stdout",
     "output_type": "stream",
     "text": [
      "Time elapsed: 0 m 30 s\n"
     ]
    }
   ],
   "source": [
    "mins, secs = divmod(time.time() - start_time, 60)\n",
    "print(f'Time elapsed: {mins:0.0f} m {secs:0.0f} s')"
   ]
  },
  {
   "cell_type": "markdown",
   "metadata": {},
   "source": [
    "---"
   ]
  }
 ],
 "metadata": {
  "kernelspec": {
   "display_name": "Python 3",
   "language": "python",
   "name": "python3"
  },
  "language_info": {
   "codemirror_mode": {
    "name": "ipython",
    "version": 3
   },
   "file_extension": ".py",
   "mimetype": "text/x-python",
   "name": "python",
   "nbconvert_exporter": "python",
   "pygments_lexer": "ipython3",
   "version": "3.7.3"
  }
 },
 "nbformat": 4,
 "nbformat_minor": 4
}
