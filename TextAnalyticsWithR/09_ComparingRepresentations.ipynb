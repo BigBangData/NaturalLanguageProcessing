{
 "cells": [
  {
   "cell_type": "markdown",
   "metadata": {},
   "source": [
    "# Comparing Representations\n",
    "\n",
    "---\n",
    "\n",
    "__PROBLEM SPACE__\n",
    "\n",
    "Many choices were made:\n",
    "\n",
    "- during cleanup (using stop words, lemmatizing, etc.)\n",
    "- during preprocessing (using a bag-of-upto-trigrams with 2,000 words, performing SVD with 300 components)\n",
    "\n",
    "Yet, there are still a number of possible stacking of the five main representations (BoT, Tfidf, SVD, new features, spam cosine similarity). The problem space is $2^5 = 32$ stackings out of which only 12 make sense:"
   ]
  },
  {
   "cell_type": "code",
   "execution_count": 1,
   "metadata": {},
   "outputs": [
    {
     "data": {
      "image/png": "[encoded data removed]",
      "text/plain": [
       "<IPython.core.display.Image object>"
      ]
     },
     "execution_count": 1,
     "metadata": {
      "image/png": {
       "width": 600
      }
     },
     "output_type": "execute_result"
    }
   ],
   "source": [
    "import os\n",
    "from IPython.display import Image\n",
    "proc_dir = os.path.join(\"data\",\"2_processed\")\n",
    "file_path = os.path.join(proc_dir, \"possible_representations.PNG\")\n",
    "Image(filename = file_path, width=600)"
   ]
  },
  {
   "cell_type": "markdown",
   "metadata": {},
   "source": [
    "\n",
    "__RESULTS__\n",
    "\n",
    "After the preliminary modeling phase with a baseline logistic classifier:\n",
    "\n",
    "- Overall accuracy and specificity are high enough, sensitivity is the metric that needs improvement\n",
    "- BoT alone seems to perform quite well, but SVD without Tfidf degrades it\n",
    "- The more features we add to Tfidf the better it gets, perhaps with the exception of cosine similarities\n",
    "- Performance with more complex models may vary; further testing is warranted"
   ]
  },
  {
   "cell_type": "markdown",
   "metadata": {},
   "source": [
    "## Setup"
   ]
  },
  {
   "cell_type": "code",
   "execution_count": 2,
   "metadata": {},
   "outputs": [
    {
     "name": "stdout",
     "output_type": "stream",
     "text": [
      "Revised on: 2020-12-31\n"
     ]
    }
   ],
   "source": [
    "import time\n",
    "\n",
    "import numpy as np\n",
    "import pandas as pd\n",
    "\n",
    "from datetime import datetime\n",
    "\n",
    "start_time = time.time()\n",
    "dt_object = datetime.fromtimestamp(time.time())\n",
    "day, T = str(dt_object).split('.')[0].split(' ')\n",
    "print('Revised on: ' + day)"
   ]
  },
  {
   "cell_type": "markdown",
   "metadata": {},
   "source": [
    "## Load Data"
   ]
  },
  {
   "cell_type": "code",
   "execution_count": 3,
   "metadata": {},
   "outputs": [],
   "source": [
    "import json\n",
    "import urlextract\n",
    "from nltk.stem import WordNetLemmatizer\n",
    "\n",
    "def load_data(data):\n",
    "    raw_path = os.path.join(\"data\",\"1_raw\")\n",
    "    filename = ''.join([data, \".csv\"])\n",
    "    out_dfm = pd.read_csv(os.path.join(raw_path, filename))\n",
    "    out_arr = np.array(out_dfm.iloc[:,0].ravel())\n",
    "    return out_arr\n",
    "\n",
    "X_train = load_data(\"X_train\")\n",
    "y_train = load_data(\"y_train\")\n",
    "\n",
    "# load contractions map for custom cleanup\n",
    "with open(\"contractions_map.json\") as f:\n",
    "    contractions_map = json.load(f)"
   ]
  },
  {
   "cell_type": "markdown",
   "metadata": {},
   "source": [
    "## Feature Engineering"
   ]
  },
  {
   "cell_type": "code",
   "execution_count": 4,
   "metadata": {},
   "outputs": [],
   "source": [
    "%%capture output\n",
    "\n",
    "# custom feature engineering module\n",
    "import custom.feature_engineering as Fe\n",
    "\n",
    "try:                   \n",
    "    clean_train_docs, X_feat = Fe.DocumentToFeaturesCounterTransformer().fit_transform(X_train)\n",
    "except Warning as e:\n",
    "    pass\n",
    "\n",
    "# impute with zeros\n",
    "X_feat[np.isnan(X_feat)] = 0\n",
    "\n",
    "# create array without RSR\n",
    "X_feat = np.array(X_feat[:,0:6])"
   ]
  },
  {
   "cell_type": "markdown",
   "metadata": {},
   "source": [
    "## 12 Representations"
   ]
  },
  {
   "cell_type": "markdown",
   "metadata": {},
   "source": [
    "### 1. BoT & 7. BoT+Tfidf"
   ]
  },
  {
   "cell_type": "code",
   "execution_count": 5,
   "metadata": {},
   "outputs": [],
   "source": [
    "import custom.clean_preprocess as cp\n",
    "\n",
    "from sklearn.pipeline import Pipeline\n",
    "from sklearn.feature_extraction.text import TfidfTransformer\n",
    "\n",
    "pipe = Pipeline([('counter', cp.DocumentToNgramCounterTransformer(n_grams=3)),\n",
    "                 ('bot', cp.WordCounterToVectorTransformer(vocabulary_size=2000)),\n",
    "                 ('tfidf', TfidfTransformer(sublinear_tf=True))                  \n",
    "                ])\n",
    "\n",
    "X_counter = pipe['counter'].fit_transform(X_train)\n",
    "X_bot = pipe['bot'].fit_transform(X_counter)\n",
    "X_bot_tfidf = pipe.fit_transform(X_train)"
   ]
  },
  {
   "cell_type": "markdown",
   "metadata": {},
   "source": [
    "### 2. BoT+Feat & 8. BoT + Tfidf + Feat"
   ]
  },
  {
   "cell_type": "code",
   "execution_count": 6,
   "metadata": {},
   "outputs": [],
   "source": [
    "import scipy.sparse as sp\n",
    "\n",
    "X_bot_feat = sp.hstack((X_bot, X_feat))\n",
    "X_bot_tfidf_feat = sp.hstack((X_bot_tfidf, X_feat))"
   ]
  },
  {
   "cell_type": "markdown",
   "metadata": {},
   "source": [
    "### 3. BoT + SVD & 9. BoT + Tfidf + SVD"
   ]
  },
  {
   "cell_type": "code",
   "execution_count": 7,
   "metadata": {},
   "outputs": [],
   "source": [
    "from scipy.sparse import csr_matrix\n",
    "from scipy.sparse.linalg import svds\n",
    "from sklearn.utils.extmath import svd_flip\n",
    "from sklearn.preprocessing import MinMaxScaler\n",
    "\n",
    "def perform_SVD(X, k=300):\n",
    "    U, Sigma, VT = svds(X.T, # transposed to a term-document matrix\n",
    "                        k=k) # k = number of components\n",
    "    # reverse outputs\n",
    "    Sigma = Sigma[::-1]\n",
    "    U, VT = svd_flip(U[:, ::-1], VT[::-1])\n",
    "    \n",
    "    # return V matrix\n",
    "    V = VT.T\n",
    "    \n",
    "    # scale: this was a mistake, only meant for logistic regression\n",
    "    # scaling makes random forests extremely slow\n",
    "    scaler = MinMaxScaler()\n",
    "    X_scaled = scaler.fit_transform(V)\n",
    "    \n",
    "    return X_scaled\n",
    "\n",
    "X_bot_svd = perform_SVD(X_bot.asfptype())\n",
    "X_bot_svd = csr_matrix(X_bot_svd)\n",
    "X_bot_tfidf_svd = perform_SVD(X_bot_tfidf)\n",
    "X_bot_tfidf_svd = csr_matrix(X_bot_tfidf_svd)"
   ]
  },
  {
   "cell_type": "markdown",
   "metadata": {},
   "source": [
    "### 4. BoT + SVD + Cos & 10. BoT + Tfidf + SVD + Cos"
   ]
  },
  {
   "cell_type": "code",
   "execution_count": 8,
   "metadata": {},
   "outputs": [],
   "source": [
    "from sklearn.metrics.pairwise import cosine_similarity\n",
    "\n",
    "# get all cosine similarities\n",
    "X_bot_svd_allcos = cosine_similarity(X_bot_svd)\n",
    "X_bot_tfidf_svd_allcos = cosine_similarity(X_bot_tfidf_svd)\n",
    "\n",
    "# create dataframe \n",
    "data = {'sms':X_train, 'target':y_train}\n",
    "train_df = pd.DataFrame(data)\n",
    "\n",
    "# get spam indexes\n",
    "spam_ix = train_df.loc[train_df['target']=='spam'].index\n",
    "\n",
    "# calculate average spam similarity on SVDs\n",
    "mean_spam_sims_bot, mean_spam_sims_tfidf = [], []\n",
    "for ix in range(X_bot_svd_allcos.shape[0]):\n",
    "    mean_spam_sims_bot.append(np.mean(X_bot_svd_allcos[ix, spam_ix]))\n",
    "    mean_spam_sims_tfidf.append(np.mean(X_bot_tfidf_svd_allcos[ix, spam_ix]))\n",
    "\n",
    "# stack onto previous SVDs\n",
    "X_bot_svd_cos = sp.hstack((csr_matrix(mean_spam_sims_bot).T, X_bot_svd))\n",
    "X_bot_tfidf_svd_cos = sp.hstack((csr_matrix(mean_spam_sims_tfidf).T, X_bot_tfidf_svd))"
   ]
  },
  {
   "cell_type": "markdown",
   "metadata": {},
   "source": [
    "### 5. BoT + SVD + Feat & 11. BoT + Tfidf + SVD + Feat"
   ]
  },
  {
   "cell_type": "code",
   "execution_count": 9,
   "metadata": {},
   "outputs": [],
   "source": [
    "X_bot_svd_feat = sp.hstack((X_bot_svd, csr_matrix(X_feat)))\n",
    "X_bot_tfidf_svd_feat = sp.hstack((X_bot_tfidf_svd, csr_matrix(X_feat)))"
   ]
  },
  {
   "cell_type": "markdown",
   "metadata": {},
   "source": [
    "### 6. BoT + SVD + Feat + Cos & 12. BoT + Tfidf + SVD + Feat + Cos"
   ]
  },
  {
   "cell_type": "code",
   "execution_count": 10,
   "metadata": {},
   "outputs": [],
   "source": [
    "X_bot_svd_feat_cos = sp.hstack((X_bot_svd, \n",
    "                                csr_matrix(X_feat),\n",
    "                                csr_matrix(mean_spam_sims_bot).T))\n",
    "\n",
    "X_bot_tfidf_svd_feat_cos = sp.hstack((X_bot_tfidf_svd, \n",
    "                                     csr_matrix(X_feat),\n",
    "                                     csr_matrix(mean_spam_sims_tfidf).T))"
   ]
  },
  {
   "cell_type": "markdown",
   "metadata": {},
   "source": [
    "## Evaluate Performance on Baseline Logistic Regression"
   ]
  },
  {
   "cell_type": "code",
   "execution_count": 11,
   "metadata": {},
   "outputs": [],
   "source": [
    "# transform y_array into int type\n",
    "y_train[y_train=='ham'] = 0\n",
    "y_train[y_train=='spam'] = 1\n",
    "y_train = y_train.astype('int')"
   ]
  },
  {
   "cell_type": "code",
   "execution_count": 12,
   "metadata": {},
   "outputs": [],
   "source": [
    "from sklearn.linear_model import LogisticRegression\n",
    "from sklearn.model_selection import cross_val_score\n",
    "from sklearn.metrics import make_scorer, accuracy_score, recall_score\n",
    "\n",
    "log_clf = LogisticRegression(solver=\"liblinear\", random_state=42)\n",
    "\n",
    "scorer_ = {\n",
    "    'acc': make_scorer(accuracy_score),\n",
    "    'tpr': make_scorer(recall_score, pos_label=1),\n",
    "    'tnr': make_scorer(recall_score, pos_label=0)\n",
    "}"
   ]
  },
  {
   "cell_type": "code",
   "execution_count": 13,
   "metadata": {},
   "outputs": [],
   "source": [
    "# list of representations\n",
    "Xs = [\n",
    "     X_bot\n",
    "    ,X_bot_feat\n",
    "    ,X_bot_svd\n",
    "    ,X_bot_svd_cos\n",
    "    ,X_bot_svd_feat\n",
    "    ,X_bot_svd_feat_cos\n",
    "    ,X_bot_tfidf\n",
    "    ,X_bot_tfidf_feat\n",
    "    ,X_bot_tfidf_svd\n",
    "    ,X_bot_tfidf_svd_cos\n",
    "    ,X_bot_tfidf_svd_feat\n",
    "    ,X_bot_tfidf_svd_feat_cos\n",
    "]\n",
    "\n",
    "# list of  names\n",
    "Xnames = [\n",
    "     'X_bot'\n",
    "    ,'X_bot_feat'\n",
    "    ,'X_bot_svd'\n",
    "    ,'X_bot_svd_cos'\n",
    "    ,'X_bot_svd_feat'\n",
    "    ,'X_bot_svd_feat_cos'\n",
    "    ,'X_bot_tfidf'\n",
    "    ,'X_bot_tfidf_feat'\n",
    "    ,'X_bot_tfidf_svd'\n",
    "    ,'X_bot_tfidf_svd_cos'\n",
    "    ,'X_bot_tfidf_svd_feat'\n",
    "    ,'X_bot_tfidf_svd_feat_cos'\n",
    "]"
   ]
  },
  {
   "cell_type": "code",
   "execution_count": 14,
   "metadata": {},
   "outputs": [],
   "source": [
    "accs, tprs, tnrs = [], [], []\n",
    "for X_ in Xs:\n",
    "    acc = cross_val_score(log_clf, X_, y_train, cv=10, verbose=0, scoring=scorer_['acc'], n_jobs=-1)\n",
    "    tpr = cross_val_score(log_clf, X_, y_train, cv=10, verbose=0, scoring=scorer_['tpr'], n_jobs=-1)\n",
    "    tnr = cross_val_score(log_clf, X_, y_train, cv=10, verbose=0, scoring=scorer_['tnr'], n_jobs=-1)\n",
    "    accs.append(round(acc.mean(),4))\n",
    "    tprs.append(round(tpr.mean(),4))\n",
    "    tnrs.append(round(tnr.mean(),4))"
   ]
  },
  {
   "cell_type": "code",
   "execution_count": 15,
   "metadata": {},
   "outputs": [
    {
     "data": {
      "text/html": [
       "<div>\n",
       "<style scoped>\n",
       "    .dataframe tbody tr th:only-of-type {\n",
       "        vertical-align: middle;\n",
       "    }\n",
       "\n",
       "    .dataframe tbody tr th {\n",
       "        vertical-align: top;\n",
       "    }\n",
       "\n",
       "    .dataframe thead th {\n",
       "        text-align: right;\n",
       "    }\n",
       "</style>\n",
       "<table border=\"1\" class=\"dataframe\">\n",
       "  <thead>\n",
       "    <tr style=\"text-align: right;\">\n",
       "      <th></th>\n",
       "      <th>representation</th>\n",
       "      <th>accuracy</th>\n",
       "      <th>sensitivity</th>\n",
       "      <th>specificity</th>\n",
       "    </tr>\n",
       "  </thead>\n",
       "  <tbody>\n",
       "    <tr>\n",
       "      <th>0</th>\n",
       "      <td>X_bot</td>\n",
       "      <td>0.9859</td>\n",
       "      <td>0.9069</td>\n",
       "      <td>0.9979</td>\n",
       "    </tr>\n",
       "    <tr>\n",
       "      <th>1</th>\n",
       "      <td>X_bot_feat</td>\n",
       "      <td>0.9849</td>\n",
       "      <td>0.9031</td>\n",
       "      <td>0.9973</td>\n",
       "    </tr>\n",
       "    <tr>\n",
       "      <th>2</th>\n",
       "      <td>X_bot_svd</td>\n",
       "      <td>0.9662</td>\n",
       "      <td>0.7602</td>\n",
       "      <td>0.9976</td>\n",
       "    </tr>\n",
       "    <tr>\n",
       "      <th>3</th>\n",
       "      <td>X_bot_svd_cos</td>\n",
       "      <td>0.9662</td>\n",
       "      <td>0.7602</td>\n",
       "      <td>0.9976</td>\n",
       "    </tr>\n",
       "    <tr>\n",
       "      <th>4</th>\n",
       "      <td>X_bot_svd_feat</td>\n",
       "      <td>0.9646</td>\n",
       "      <td>0.8027</td>\n",
       "      <td>0.9894</td>\n",
       "    </tr>\n",
       "    <tr>\n",
       "      <th>5</th>\n",
       "      <td>X_bot_svd_feat_cos</td>\n",
       "      <td>0.9649</td>\n",
       "      <td>0.8046</td>\n",
       "      <td>0.9894</td>\n",
       "    </tr>\n",
       "    <tr>\n",
       "      <th>6</th>\n",
       "      <td>X_bot_tfidf</td>\n",
       "      <td>0.9779</td>\n",
       "      <td>0.8450</td>\n",
       "      <td>0.9982</td>\n",
       "    </tr>\n",
       "    <tr>\n",
       "      <th>7</th>\n",
       "      <td>X_bot_tfidf_feat</td>\n",
       "      <td>0.9762</td>\n",
       "      <td>0.8604</td>\n",
       "      <td>0.9938</td>\n",
       "    </tr>\n",
       "    <tr>\n",
       "      <th>8</th>\n",
       "      <td>X_bot_tfidf_svd</td>\n",
       "      <td>0.9836</td>\n",
       "      <td>0.8857</td>\n",
       "      <td>0.9985</td>\n",
       "    </tr>\n",
       "    <tr>\n",
       "      <th>9</th>\n",
       "      <td>X_bot_tfidf_svd_cos</td>\n",
       "      <td>0.9836</td>\n",
       "      <td>0.8857</td>\n",
       "      <td>0.9985</td>\n",
       "    </tr>\n",
       "    <tr>\n",
       "      <th>10</th>\n",
       "      <td>X_bot_tfidf_svd_feat</td>\n",
       "      <td>0.9828</td>\n",
       "      <td>0.8973</td>\n",
       "      <td>0.9959</td>\n",
       "    </tr>\n",
       "    <tr>\n",
       "      <th>11</th>\n",
       "      <td>X_bot_tfidf_svd_feat_cos</td>\n",
       "      <td>0.9828</td>\n",
       "      <td>0.8973</td>\n",
       "      <td>0.9959</td>\n",
       "    </tr>\n",
       "  </tbody>\n",
       "</table>\n",
       "</div>"
      ],
      "text/plain": [
       "              representation  accuracy  sensitivity  specificity\n",
       "0                      X_bot    0.9859       0.9069       0.9979\n",
       "1                 X_bot_feat    0.9849       0.9031       0.9973\n",
       "2                  X_bot_svd    0.9662       0.7602       0.9976\n",
       "3              X_bot_svd_cos    0.9662       0.7602       0.9976\n",
       "4             X_bot_svd_feat    0.9646       0.8027       0.9894\n",
       "5         X_bot_svd_feat_cos    0.9649       0.8046       0.9894\n",
       "6                X_bot_tfidf    0.9779       0.8450       0.9982\n",
       "7           X_bot_tfidf_feat    0.9762       0.8604       0.9938\n",
       "8            X_bot_tfidf_svd    0.9836       0.8857       0.9985\n",
       "9        X_bot_tfidf_svd_cos    0.9836       0.8857       0.9985\n",
       "10      X_bot_tfidf_svd_feat    0.9828       0.8973       0.9959\n",
       "11  X_bot_tfidf_svd_feat_cos    0.9828       0.8973       0.9959"
      ]
     },
     "execution_count": 15,
     "metadata": {},
     "output_type": "execute_result"
    }
   ],
   "source": [
    "data = {'representation':Xnames,\n",
    "        'accuracy':accs,\n",
    "        'sensitivity':tprs,\n",
    "        'specificity':tnrs}\n",
    "\n",
    "df = pd.DataFrame(data)\n",
    "df"
   ]
  },
  {
   "cell_type": "markdown",
   "metadata": {},
   "source": [
    "### Visualize"
   ]
  },
  {
   "cell_type": "code",
   "execution_count": 16,
   "metadata": {},
   "outputs": [],
   "source": [
    "# get vectors for plotting\n",
    "mean_accs  = [x for x in df.loc[:,\"accuracy\"]]\n",
    "mean_sens = [x for x in df.loc[:,\"sensitivity\"]]\n",
    "mean_spec  =  [x for x in df.loc[:,\"specificity\"]]"
   ]
  },
  {
   "cell_type": "code",
   "execution_count": 17,
   "metadata": {},
   "outputs": [
    {
     "data": {
      "image/png": "[encoded data removed]",
      "text/plain": [
       "<Figure size 1008x576 with 1 Axes>"
      ]
     },
     "metadata": {
      "needs_background": "light"
     },
     "output_type": "display_data"
    }
   ],
   "source": [
    "import matplotlib.pyplot as plt \n",
    "\n",
    "plt.figure(figsize=(14, 8)) \n",
    "plt.plot(mean_accs, label=\"accuracy\")\n",
    "plt.plot(mean_sens, label=\"sensitivity\")\n",
    "plt.plot(mean_spec, label=\"specificiy\")\n",
    "plt.title('Evaluating 6 representations with baseline logistic classifier', fontsize=14)\n",
    "plt.ylabel('Score')\n",
    "plt.xticks(np.arange(12), tuple(Xnames))\n",
    "plt.vlines(np.arange(12), ymin=.75, ymax=1.01, linestyle='dashed', colors='b', alpha=.5, linewidth=.7)\n",
    "plt.legend(loc=\"lower right\")\n",
    "plt.axis([0, 11, 0.75, 1.01])\n",
    "plt.xticks(rotation=45, ha='right')\n",
    "plt.show()"
   ]
  },
  {
   "cell_type": "markdown",
   "metadata": {},
   "source": [
    "- Overall accuracy and specificity are high enough, sensitivity is the metric that needs improvement\n",
    "- BoT alone seems to perform quite well, but SVD without Tfidf degrades it\n",
    "- The more features we add to Tfidf the better it gets, perhaps with the exception of cosine similarities"
   ]
  },
  {
   "cell_type": "markdown",
   "metadata": {},
   "source": [
    "## Save 12 representations"
   ]
  },
  {
   "cell_type": "code",
   "execution_count": 18,
   "metadata": {},
   "outputs": [],
   "source": [
    "for X_, Xname_ in zip(Xs, Xnames):\n",
    "    filename = ''.join([Xname_, '.npz'])\n",
    "    file_path = os.path.join(proc_dir, filename)\n",
    "    sp.save_npz(file_path, X_)    "
   ]
  },
  {
   "cell_type": "code",
   "execution_count": 19,
   "metadata": {},
   "outputs": [
    {
     "name": "stdout",
     "output_type": "stream",
     "text": [
      "Time elapsed: 1 m 5 s\n"
     ]
    }
   ],
   "source": [
    "mins, secs = divmod(time.time() - start_time, 60)\n",
    "print(f'Time elapsed: {mins:0.0f} m {secs:0.0f} s')"
   ]
  },
  {
   "cell_type": "markdown",
   "metadata": {},
   "source": [
    "---"
   ]
  }
 ],
 "metadata": {
  "kernelspec": {
   "display_name": "Python 3",
   "language": "python",
   "name": "python3"
  },
  "language_info": {
   "codemirror_mode": {
    "name": "ipython",
    "version": 3
   },
   "file_extension": ".py",
   "mimetype": "text/x-python",
   "name": "python",
   "nbconvert_exporter": "python",
   "pygments_lexer": "ipython3",
   "version": "3.9.1"
  }
 },
 "nbformat": 4,
 "nbformat_minor": 4
}
