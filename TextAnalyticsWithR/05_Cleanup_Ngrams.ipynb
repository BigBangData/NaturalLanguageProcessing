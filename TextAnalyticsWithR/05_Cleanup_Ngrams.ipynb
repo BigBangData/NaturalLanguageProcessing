{
 "cells": [
  {
   "cell_type": "markdown",
   "metadata": {},
   "source": [
    "# Cleanup & Preprocess - Ngrams\n",
    "\n",
    "---\n",
    "\n",
    "*Purpose*\n",
    "\n",
    "- The **DocumentToBigramCounterTransformer** class is generalized into a **DocumentToNgramCounterTransformer** class. \n",
    "\n",
    "\n",
    "- More comprehensive grid searches are performed for different n-gram values, varying vocabulary sizes, on baseline Naive Bayes and Logistic Regression classifiers.\n",
    "\n",
    "*Results*\n",
    "\n",
    "- Tfidf representations do not do as well as BoW representations.\n",
    "\n",
    "\n",
    "- A bag-of-upto-quadrigrams with 2,000 terms reaches a plateau of $98.5\\%$ mean accuracy in 5-fold cross-validation for a baseline logistic classifier.\n",
    "\n",
    "\n",
    "### Setup"
   ]
  },
  {
   "cell_type": "code",
   "execution_count": 1,
   "metadata": {},
   "outputs": [
    {
     "name": "stdout",
     "output_type": "stream",
     "text": [
      "Revised on: 2020-12-06\n"
     ]
    }
   ],
   "source": [
    "import os\n",
    "import time\n",
    "\n",
    "import numpy as np\n",
    "import pandas as pd\n",
    "\n",
    "from datetime import datetime\n",
    "\n",
    "start_time = time.time()\n",
    "dt_object = datetime.fromtimestamp(time.time())\n",
    "day, T = str(dt_object).split('.')[0].split(' ')\n",
    "print('Revised on: ' + day)"
   ]
  },
  {
   "cell_type": "markdown",
   "metadata": {},
   "source": [
    "### Load Data"
   ]
  },
  {
   "cell_type": "code",
   "execution_count": 2,
   "metadata": {},
   "outputs": [],
   "source": [
    "import json\n",
    "import urlextract\n",
    "from nltk.stem import WordNetLemmatizer\n",
    "\n",
    "with open(\"contractions_map.json\") as f:\n",
    "    contractions_map = json.load(f)\n",
    "\n",
    "url_extractor = urlextract.URLExtract()\n",
    "lemmatizer = WordNetLemmatizer()\n",
    "\n",
    "# load X, y train subsets\n",
    "raw_path = os.path.join(\"..\",\"data\",\"1_raw\")\n",
    "X_train = pd.read_csv(os.path.join(raw_path, \"X_train.csv\"))\n",
    "y_train = pd.read_csv(os.path.join(raw_path, \"y_train.csv\"))\n",
    "\n",
    "# create arrays\n",
    "X_array = np.array(X_train.iloc[:,0]).ravel()\n",
    "y_array = np.array(y_train.iloc[:,0]).ravel()"
   ]
  },
  {
   "cell_type": "markdown",
   "metadata": {},
   "source": [
    "### Cleanup $\\longrightarrow$ Preprocessing $\\longrightarrow$ Baseline Models"
   ]
  },
  {
   "cell_type": "code",
   "execution_count": 3,
   "metadata": {},
   "outputs": [],
   "source": [
    "import cleanup_module as Cmod # custom module\n",
    "from sklearn.pipeline import Pipeline\n",
    "from sklearn.feature_extraction.text import TfidfTransformer\n",
    "from sklearn.naive_bayes import MultinomialNB\n",
    "from sklearn.linear_model import LogisticRegression\n",
    "from sklearn.model_selection import cross_val_score\n",
    "\n",
    "def gridsearch_ngrams(X_array, y_array, n_grams, vocab_sizes):\n",
    "    \"\"\"Grid searches for a given n_gram value, varying vocab_sizes \n",
    "       Using BoW and Tf-Idf representations\n",
    "       Naive Bayes and Logistic Regression baseline models \n",
    "       Performs 5-fold cross validation\n",
    "       Returns dataframe with mean accuracies, fit and modeling times\n",
    "    \"\"\"\n",
    "    T1 = time.time()\n",
    "    \n",
    "    # instantiate lists\n",
    "    bow_fit_times, tfidf_fit_times, bow_mod_times, tfidf_mod_times = [], [], [], []\n",
    "    NB_bow, LR_bow, NB_tfidf, LR_tfidf = [], [], [], []\n",
    "    \n",
    "    for vocab_size in vocab_sizes:\n",
    "        pipe = Pipeline([('counter', Cmod.DocumentToNgramCounterTransformer(n_grams=n_grams)),\n",
    "                         ('bow', Cmod.WordCounterToVectorTransformer(vocabulary_size=vocab_size)),\n",
    "                         ('tfidf', TfidfTransformer())])  \n",
    "        # BoW fit\n",
    "        bow_fit_start = time.time()\n",
    "        X_counter = pipe['counter'].fit_transform(X_array)\n",
    "        X_bow = pipe['bow'].fit_transform(X_counter)\n",
    "        bow_fit_times.append(round(time.time() - bow_fit_start, 1))\n",
    "        \n",
    "        # Tfidf fit\n",
    "        tfidf_fit_start = time.time()\n",
    "        X_tfidf = pipe['tfidf'].fit_transform(X_bow)\n",
    "        tfidf_fit_times.append(round(time.time() - tfidf_fit_start, 1))\n",
    "        \n",
    "        # instantiate models\n",
    "        NB_clf = MultinomialNB()\n",
    "        log_clf = LogisticRegression(solver=\"liblinear\", random_state=42) \n",
    "        \n",
    "        # BoW modeling\n",
    "        bow_mod_start = time.time()\n",
    "        bow_NBscores = cross_val_score(NB_clf, X_bow, y_array, cv=5, verbose=0, scoring='accuracy', n_jobs=-1)\n",
    "        bow_LRscores = cross_val_score(log_clf, X_bow, y_array, cv=5, verbose=0, scoring='accuracy', n_jobs=-1)     \n",
    "        NB_bow.append(round(bow_NBscores.mean(), 4))\n",
    "        LR_bow.append(round(bow_LRscores.mean(), 4))\n",
    "        bow_mod_times.append(round(time.time() - bow_mod_start, 1))\n",
    "        \n",
    "        # Tfidf modeling\n",
    "        tfidf_mod_start = time.time()\n",
    "        tfidf_NBscores = cross_val_score(NB_clf, X_tfidf, y_array, cv=5, verbose=0, scoring='accuracy', n_jobs=-1)\n",
    "        tfidf_LRscores = cross_val_score(log_clf, X_tfidf, y_array, cv=5, verbose=0, scoring='accuracy', n_jobs=-1)     \n",
    "        NB_tfidf.append(round(tfidf_NBscores.mean(), 4))\n",
    "        LR_tfidf.append(round(tfidf_LRscores.mean(), 4))\n",
    "        tfidf_mod_times.append(round(time.time() - tfidf_mod_start, 1))\n",
    "             \n",
    "    df = pd.DataFrame({\"ngram\":n_grams,\n",
    "                       \"vocab_size\":vocab_sizes,\n",
    "                       \"bow_fit_time\":bow_fit_times,\n",
    "                       \"tfidf_fit_time\":tfidf_fit_times,\n",
    "                       \"bow_mod_time\":bow_mod_times,\n",
    "                       \"tfidf_mod_time\":tfidf_mod_times,\n",
    "                       \"NB_bow\":NB_bow,\n",
    "                       \"LR_bow\":LR_bow,\n",
    "                       \"NB_tfidf\":NB_tfidf,\n",
    "                       \"LR_tfidf\":LR_tfidf\n",
    "                      })\n",
    "    \n",
    "    mins, secs = divmod(time.time() - T1, 60)\n",
    "    print(f'Elapsed: {mins:0.0f} m {secs:0.0f} s')\n",
    "    return df"
   ]
  },
  {
   "cell_type": "code",
   "execution_count": 4,
   "metadata": {},
   "outputs": [
    {
     "name": "stdout",
     "output_type": "stream",
     "text": [
      "Elapsed: 2 m 33 s\n"
     ]
    }
   ],
   "source": [
    "vocab_sizes = list(range(100, 5100, 100))\n",
    "\n",
    "unigram_df = gridsearch_ngrams(X_array, y_array, n_grams=1, \n",
    "                               vocab_sizes=vocab_sizes)"
   ]
  },
  {
   "cell_type": "code",
   "execution_count": 5,
   "metadata": {},
   "outputs": [
    {
     "name": "stdout",
     "output_type": "stream",
     "text": [
      "Elapsed: 3 m 42 s\n"
     ]
    }
   ],
   "source": [
    "bigram_df = gridsearch_ngrams(X_array, y_array, n_grams=2, \n",
    "                              vocab_sizes=vocab_sizes)"
   ]
  },
  {
   "cell_type": "code",
   "execution_count": 6,
   "metadata": {},
   "outputs": [
    {
     "name": "stdout",
     "output_type": "stream",
     "text": [
      "Elapsed: 4 m 48 s\n"
     ]
    }
   ],
   "source": [
    "trigram_df = gridsearch_ngrams(X_array, y_array, n_grams=3, \n",
    "                               vocab_sizes=vocab_sizes)"
   ]
  },
  {
   "cell_type": "code",
   "execution_count": 7,
   "metadata": {},
   "outputs": [
    {
     "name": "stdout",
     "output_type": "stream",
     "text": [
      "Elapsed: 5 m 55 s\n"
     ]
    }
   ],
   "source": [
    "quadrigram_df = gridsearch_ngrams(X_array, y_array, n_grams=4, \n",
    "                                  vocab_sizes=vocab_sizes)"
   ]
  },
  {
   "cell_type": "code",
   "execution_count": 8,
   "metadata": {},
   "outputs": [
    {
     "data": {
      "text/html": [
       "<div>\n",
       "<style scoped>\n",
       "    .dataframe tbody tr th:only-of-type {\n",
       "        vertical-align: middle;\n",
       "    }\n",
       "\n",
       "    .dataframe tbody tr th {\n",
       "        vertical-align: top;\n",
       "    }\n",
       "\n",
       "    .dataframe thead th {\n",
       "        text-align: right;\n",
       "    }\n",
       "</style>\n",
       "<table border=\"1\" class=\"dataframe\">\n",
       "  <thead>\n",
       "    <tr style=\"text-align: right;\">\n",
       "      <th></th>\n",
       "      <th>ngram</th>\n",
       "      <th>vocab_size</th>\n",
       "      <th>bow_fit_time</th>\n",
       "      <th>tfidf_fit_time</th>\n",
       "      <th>bow_mod_time</th>\n",
       "      <th>tfidf_mod_time</th>\n",
       "      <th>NB_bow</th>\n",
       "      <th>LR_bow</th>\n",
       "      <th>NB_tfidf</th>\n",
       "      <th>LR_tfidf</th>\n",
       "    </tr>\n",
       "  </thead>\n",
       "  <tbody>\n",
       "    <tr>\n",
       "      <th>0</th>\n",
       "      <td>1</td>\n",
       "      <td>100</td>\n",
       "      <td>5.7</td>\n",
       "      <td>0.0</td>\n",
       "      <td>3.2</td>\n",
       "      <td>0.2</td>\n",
       "      <td>0.9679</td>\n",
       "      <td>0.9738</td>\n",
       "      <td>0.9508</td>\n",
       "      <td>0.9695</td>\n",
       "    </tr>\n",
       "    <tr>\n",
       "      <th>1</th>\n",
       "      <td>1</td>\n",
       "      <td>200</td>\n",
       "      <td>2.7</td>\n",
       "      <td>0.0</td>\n",
       "      <td>0.2</td>\n",
       "      <td>0.1</td>\n",
       "      <td>0.9721</td>\n",
       "      <td>0.9782</td>\n",
       "      <td>0.9679</td>\n",
       "      <td>0.9733</td>\n",
       "    </tr>\n",
       "    <tr>\n",
       "      <th>2</th>\n",
       "      <td>1</td>\n",
       "      <td>300</td>\n",
       "      <td>2.6</td>\n",
       "      <td>0.0</td>\n",
       "      <td>0.1</td>\n",
       "      <td>0.1</td>\n",
       "      <td>0.9726</td>\n",
       "      <td>0.9779</td>\n",
       "      <td>0.9718</td>\n",
       "      <td>0.9736</td>\n",
       "    </tr>\n",
       "    <tr>\n",
       "      <th>3</th>\n",
       "      <td>1</td>\n",
       "      <td>400</td>\n",
       "      <td>2.6</td>\n",
       "      <td>0.0</td>\n",
       "      <td>0.1</td>\n",
       "      <td>0.1</td>\n",
       "      <td>0.9767</td>\n",
       "      <td>0.9810</td>\n",
       "      <td>0.9769</td>\n",
       "      <td>0.9751</td>\n",
       "    </tr>\n",
       "    <tr>\n",
       "      <th>4</th>\n",
       "      <td>1</td>\n",
       "      <td>500</td>\n",
       "      <td>2.7</td>\n",
       "      <td>0.0</td>\n",
       "      <td>0.2</td>\n",
       "      <td>0.1</td>\n",
       "      <td>0.9779</td>\n",
       "      <td>0.9813</td>\n",
       "      <td>0.9754</td>\n",
       "      <td>0.9741</td>\n",
       "    </tr>\n",
       "  </tbody>\n",
       "</table>\n",
       "</div>"
      ],
      "text/plain": [
       "   ngram  vocab_size  bow_fit_time  tfidf_fit_time  bow_mod_time  \\\n",
       "0      1         100           5.7             0.0           3.2   \n",
       "1      1         200           2.7             0.0           0.2   \n",
       "2      1         300           2.6             0.0           0.1   \n",
       "3      1         400           2.6             0.0           0.1   \n",
       "4      1         500           2.7             0.0           0.2   \n",
       "\n",
       "   tfidf_mod_time  NB_bow  LR_bow  NB_tfidf  LR_tfidf  \n",
       "0             0.2  0.9679  0.9738    0.9508    0.9695  \n",
       "1             0.1  0.9721  0.9782    0.9679    0.9733  \n",
       "2             0.1  0.9726  0.9779    0.9718    0.9736  \n",
       "3             0.1  0.9767  0.9810    0.9769    0.9751  \n",
       "4             0.1  0.9779  0.9813    0.9754    0.9741  "
      ]
     },
     "execution_count": 8,
     "metadata": {},
     "output_type": "execute_result"
    }
   ],
   "source": [
    "master_df = pd.concat([unigram_df, \n",
    "                       bigram_df, \n",
    "                       trigram_df, \n",
    "                       quadrigram_df])\n",
    "\n",
    "master_df.index = range(len(master_df))\n",
    "master_df.head()"
   ]
  },
  {
   "cell_type": "markdown",
   "metadata": {},
   "source": [
    "The data still needs to be reshaped into a long-skinny dataset as per the tidy data principles so we have one target variable which is accuracy. "
   ]
  },
  {
   "cell_type": "code",
   "execution_count": 9,
   "metadata": {},
   "outputs": [
    {
     "data": {
      "text/html": [
       "<div>\n",
       "<style scoped>\n",
       "    .dataframe tbody tr th:only-of-type {\n",
       "        vertical-align: middle;\n",
       "    }\n",
       "\n",
       "    .dataframe tbody tr th {\n",
       "        vertical-align: top;\n",
       "    }\n",
       "\n",
       "    .dataframe thead th {\n",
       "        text-align: right;\n",
       "    }\n",
       "</style>\n",
       "<table border=\"1\" class=\"dataframe\">\n",
       "  <thead>\n",
       "    <tr style=\"text-align: right;\">\n",
       "      <th></th>\n",
       "      <th>representation</th>\n",
       "      <th>ngram</th>\n",
       "      <th>vocab_size</th>\n",
       "      <th>mean_accuracy</th>\n",
       "    </tr>\n",
       "  </thead>\n",
       "  <tbody>\n",
       "    <tr>\n",
       "      <th>0</th>\n",
       "      <td>LR_bow</td>\n",
       "      <td>1</td>\n",
       "      <td>100</td>\n",
       "      <td>0.9738</td>\n",
       "    </tr>\n",
       "    <tr>\n",
       "      <th>1</th>\n",
       "      <td>LR_bow</td>\n",
       "      <td>1</td>\n",
       "      <td>200</td>\n",
       "      <td>0.9782</td>\n",
       "    </tr>\n",
       "    <tr>\n",
       "      <th>2</th>\n",
       "      <td>LR_bow</td>\n",
       "      <td>1</td>\n",
       "      <td>300</td>\n",
       "      <td>0.9779</td>\n",
       "    </tr>\n",
       "    <tr>\n",
       "      <th>3</th>\n",
       "      <td>LR_bow</td>\n",
       "      <td>1</td>\n",
       "      <td>400</td>\n",
       "      <td>0.9810</td>\n",
       "    </tr>\n",
       "    <tr>\n",
       "      <th>4</th>\n",
       "      <td>LR_bow</td>\n",
       "      <td>1</td>\n",
       "      <td>500</td>\n",
       "      <td>0.9813</td>\n",
       "    </tr>\n",
       "    <tr>\n",
       "      <th>5</th>\n",
       "      <td>LR_bow</td>\n",
       "      <td>1</td>\n",
       "      <td>600</td>\n",
       "      <td>0.9821</td>\n",
       "    </tr>\n",
       "    <tr>\n",
       "      <th>6</th>\n",
       "      <td>LR_bow</td>\n",
       "      <td>1</td>\n",
       "      <td>700</td>\n",
       "      <td>0.9818</td>\n",
       "    </tr>\n",
       "    <tr>\n",
       "      <th>7</th>\n",
       "      <td>LR_bow</td>\n",
       "      <td>1</td>\n",
       "      <td>800</td>\n",
       "      <td>0.9821</td>\n",
       "    </tr>\n",
       "    <tr>\n",
       "      <th>8</th>\n",
       "      <td>LR_bow</td>\n",
       "      <td>1</td>\n",
       "      <td>900</td>\n",
       "      <td>0.9831</td>\n",
       "    </tr>\n",
       "    <tr>\n",
       "      <th>9</th>\n",
       "      <td>LR_bow</td>\n",
       "      <td>1</td>\n",
       "      <td>1000</td>\n",
       "      <td>0.9833</td>\n",
       "    </tr>\n",
       "    <tr>\n",
       "      <th>10</th>\n",
       "      <td>LR_bow</td>\n",
       "      <td>1</td>\n",
       "      <td>1100</td>\n",
       "      <td>0.9836</td>\n",
       "    </tr>\n",
       "    <tr>\n",
       "      <th>11</th>\n",
       "      <td>LR_bow</td>\n",
       "      <td>1</td>\n",
       "      <td>1200</td>\n",
       "      <td>0.9836</td>\n",
       "    </tr>\n",
       "    <tr>\n",
       "      <th>12</th>\n",
       "      <td>LR_bow</td>\n",
       "      <td>1</td>\n",
       "      <td>1300</td>\n",
       "      <td>0.9836</td>\n",
       "    </tr>\n",
       "    <tr>\n",
       "      <th>13</th>\n",
       "      <td>LR_bow</td>\n",
       "      <td>1</td>\n",
       "      <td>1400</td>\n",
       "      <td>0.9838</td>\n",
       "    </tr>\n",
       "    <tr>\n",
       "      <th>14</th>\n",
       "      <td>LR_bow</td>\n",
       "      <td>1</td>\n",
       "      <td>1500</td>\n",
       "      <td>0.9846</td>\n",
       "    </tr>\n",
       "    <tr>\n",
       "      <th>15</th>\n",
       "      <td>LR_bow</td>\n",
       "      <td>1</td>\n",
       "      <td>1600</td>\n",
       "      <td>0.9846</td>\n",
       "    </tr>\n",
       "    <tr>\n",
       "      <th>16</th>\n",
       "      <td>LR_bow</td>\n",
       "      <td>1</td>\n",
       "      <td>1700</td>\n",
       "      <td>0.9844</td>\n",
       "    </tr>\n",
       "    <tr>\n",
       "      <th>17</th>\n",
       "      <td>LR_bow</td>\n",
       "      <td>1</td>\n",
       "      <td>1800</td>\n",
       "      <td>0.9846</td>\n",
       "    </tr>\n",
       "    <tr>\n",
       "      <th>18</th>\n",
       "      <td>LR_bow</td>\n",
       "      <td>1</td>\n",
       "      <td>1900</td>\n",
       "      <td>0.9844</td>\n",
       "    </tr>\n",
       "    <tr>\n",
       "      <th>19</th>\n",
       "      <td>LR_bow</td>\n",
       "      <td>1</td>\n",
       "      <td>2000</td>\n",
       "      <td>0.9846</td>\n",
       "    </tr>\n",
       "  </tbody>\n",
       "</table>\n",
       "</div>"
      ],
      "text/plain": [
       "   representation  ngram  vocab_size  mean_accuracy\n",
       "0          LR_bow      1         100         0.9738\n",
       "1          LR_bow      1         200         0.9782\n",
       "2          LR_bow      1         300         0.9779\n",
       "3          LR_bow      1         400         0.9810\n",
       "4          LR_bow      1         500         0.9813\n",
       "5          LR_bow      1         600         0.9821\n",
       "6          LR_bow      1         700         0.9818\n",
       "7          LR_bow      1         800         0.9821\n",
       "8          LR_bow      1         900         0.9831\n",
       "9          LR_bow      1        1000         0.9833\n",
       "10         LR_bow      1        1100         0.9836\n",
       "11         LR_bow      1        1200         0.9836\n",
       "12         LR_bow      1        1300         0.9836\n",
       "13         LR_bow      1        1400         0.9838\n",
       "14         LR_bow      1        1500         0.9846\n",
       "15         LR_bow      1        1600         0.9846\n",
       "16         LR_bow      1        1700         0.9844\n",
       "17         LR_bow      1        1800         0.9846\n",
       "18         LR_bow      1        1900         0.9844\n",
       "19         LR_bow      1        2000         0.9846"
      ]
     },
     "execution_count": 9,
     "metadata": {},
     "output_type": "execute_result"
    }
   ],
   "source": [
    "wide_df = master_df.loc[:, ('ngram', 'vocab_size','NB_bow','LR_bow','NB_tfidf','LR_tfidf')]\n",
    "\n",
    "# melt into tidy format\n",
    "tidy_df = pd.melt(wide_df, \n",
    "                  id_vars=['ngram', 'vocab_size'], \n",
    "                  value_vars=['NB_bow','LR_bow','NB_tfidf','LR_tfidf'], \n",
    "                  var_name='representation', \n",
    "                  value_name='mean_accuracy')\n",
    "\n",
    "# sort by level of granularity\n",
    "tidy_df = tidy_df.sort_values(by=['representation', 'ngram', 'vocab_size'])\n",
    "\n",
    "# reorder (ibid.)\n",
    "tidy_df = tidy_df[['representation', 'ngram', 'vocab_size', 'mean_accuracy']]\n",
    "\n",
    "# reindex\n",
    "tidy_df.index = range(len(tidy_df))\n",
    "\n",
    "# preview\n",
    "tidy_df.head(20)"
   ]
  },
  {
   "cell_type": "markdown",
   "metadata": {},
   "source": [
    "### Visualize results"
   ]
  },
  {
   "cell_type": "code",
   "execution_count": 10,
   "metadata": {},
   "outputs": [
    {
     "data": {
      "image/png": "[encoded data removed]",
      "text/plain": [
       "<Figure size 1152x576 with 1 Axes>"
      ]
     },
     "metadata": {
      "needs_background": "light"
     },
     "output_type": "display_data"
    }
   ],
   "source": [
    "import matplotlib.pyplot as plt\n",
    "%matplotlib inline\n",
    "\n",
    "plt.figure(figsize=(16, 8))\n",
    "plt.plot(tidy_df['mean_accuracy'])\n",
    "plt.title('Evaluation of Text Representations and Baseline Models')\n",
    "plt.ylabel('Mean Accuracy')\n",
    "plt.xlabel('Representations')\n",
    "plt.vlines(x=[200,400,600], ymin=.86, ymax=.99, colors='k', linewidth=.8, linestyle='dashed', alpha=.7)\n",
    "plt.xticks(np.arange(100, 900, 200), list(np.unique(tidy_df['representation'])))\n",
    "plt.show()"
   ]
  },
  {
   "cell_type": "code",
   "execution_count": 11,
   "metadata": {},
   "outputs": [
    {
     "data": {
      "image/png": "[encoded data removed]",
      "text/plain": [
       "<Figure size 1152x576 with 1 Axes>"
      ]
     },
     "metadata": {
      "needs_background": "light"
     },
     "output_type": "display_data"
    }
   ],
   "source": [
    "# subset to Logistic Regression on Bag-of-Nwords\n",
    "LR_bow = tidy_df[tidy_df['representation']==\"LR_bow\"].copy()\n",
    "\n",
    "plt.figure(figsize=(16, 8))\n",
    "plt.plot(LR_bow['mean_accuracy'])\n",
    "plt.title('Evaluation of Vocabulary Sizes and Ngrams for a Baseline Logistic Classifier')\n",
    "plt.ylabel('Mean Accuracy')\n",
    "plt.xlabel('Ngrams')\n",
    "plt.vlines(x=[50,100,150], ymin=.973, ymax=.987, colors='k', linewidth=.8, linestyle='dashed', alpha=.7)\n",
    "plt.hlines(y=np.unique(LR_bow['mean_accuracy'][LR_bow['mean_accuracy']==max(LR_bow['mean_accuracy'])])[0],\n",
    "           xmin=0, xmax=199, colors='r', linewidth=.7, linestyle='solid', alpha=.7)\n",
    "plt.xticks([25,75,125,175], ['unigram','bigram','trigram','quadrigram'])\n",
    "plt.show()"
   ]
  },
  {
   "cell_type": "code",
   "execution_count": 12,
   "metadata": {},
   "outputs": [
    {
     "data": {
      "text/html": [
       "<div>\n",
       "<style scoped>\n",
       "    .dataframe tbody tr th:only-of-type {\n",
       "        vertical-align: middle;\n",
       "    }\n",
       "\n",
       "    .dataframe tbody tr th {\n",
       "        vertical-align: top;\n",
       "    }\n",
       "\n",
       "    .dataframe thead th {\n",
       "        text-align: right;\n",
       "    }\n",
       "</style>\n",
       "<table border=\"1\" class=\"dataframe\">\n",
       "  <thead>\n",
       "    <tr style=\"text-align: right;\">\n",
       "      <th></th>\n",
       "      <th>representation</th>\n",
       "      <th>ngram</th>\n",
       "      <th>vocab_size</th>\n",
       "      <th>mean_accuracy</th>\n",
       "    </tr>\n",
       "  </thead>\n",
       "  <tbody>\n",
       "    <tr>\n",
       "      <th>166</th>\n",
       "      <td>LR_bow</td>\n",
       "      <td>4</td>\n",
       "      <td>1700</td>\n",
       "      <td>0.9854</td>\n",
       "    </tr>\n",
       "    <tr>\n",
       "      <th>167</th>\n",
       "      <td>LR_bow</td>\n",
       "      <td>4</td>\n",
       "      <td>1800</td>\n",
       "      <td>0.9854</td>\n",
       "    </tr>\n",
       "    <tr>\n",
       "      <th>170</th>\n",
       "      <td>LR_bow</td>\n",
       "      <td>4</td>\n",
       "      <td>2100</td>\n",
       "      <td>0.9854</td>\n",
       "    </tr>\n",
       "    <tr>\n",
       "      <th>171</th>\n",
       "      <td>LR_bow</td>\n",
       "      <td>4</td>\n",
       "      <td>2200</td>\n",
       "      <td>0.9854</td>\n",
       "    </tr>\n",
       "    <tr>\n",
       "      <th>172</th>\n",
       "      <td>LR_bow</td>\n",
       "      <td>4</td>\n",
       "      <td>2300</td>\n",
       "      <td>0.9854</td>\n",
       "    </tr>\n",
       "    <tr>\n",
       "      <th>173</th>\n",
       "      <td>LR_bow</td>\n",
       "      <td>4</td>\n",
       "      <td>2400</td>\n",
       "      <td>0.9854</td>\n",
       "    </tr>\n",
       "  </tbody>\n",
       "</table>\n",
       "</div>"
      ],
      "text/plain": [
       "    representation  ngram  vocab_size  mean_accuracy\n",
       "166         LR_bow      4        1700         0.9854\n",
       "167         LR_bow      4        1800         0.9854\n",
       "170         LR_bow      4        2100         0.9854\n",
       "171         LR_bow      4        2200         0.9854\n",
       "172         LR_bow      4        2300         0.9854\n",
       "173         LR_bow      4        2400         0.9854"
      ]
     },
     "execution_count": 12,
     "metadata": {},
     "output_type": "execute_result"
    }
   ],
   "source": [
    "# max mean accuracy plateau\n",
    "LR_bow[LR_bow['mean_accuracy']==max(LR_bow['mean_accuracy'])]"
   ]
  },
  {
   "cell_type": "markdown",
   "metadata": {},
   "source": [
    "Are quadrigam's slight gain in accuracy worth the extra time it probably takes to fit them? What are the fitting times?"
   ]
  },
  {
   "cell_type": "code",
   "execution_count": 68,
   "metadata": {},
   "outputs": [],
   "source": [
    "%%capture output\n",
    "top_2gram = master_df[master_df['ngram']==2][master_df['vocab_size']==2000]\n",
    "top_4gram = master_df[master_df['ngram']==4][master_df['vocab_size']==1700]"
   ]
  },
  {
   "cell_type": "code",
   "execution_count": 69,
   "metadata": {},
   "outputs": [
    {
     "data": {
      "text/html": [
       "<div>\n",
       "<style scoped>\n",
       "    .dataframe tbody tr th:only-of-type {\n",
       "        vertical-align: middle;\n",
       "    }\n",
       "\n",
       "    .dataframe tbody tr th {\n",
       "        vertical-align: top;\n",
       "    }\n",
       "\n",
       "    .dataframe thead th {\n",
       "        text-align: right;\n",
       "    }\n",
       "</style>\n",
       "<table border=\"1\" class=\"dataframe\">\n",
       "  <thead>\n",
       "    <tr style=\"text-align: right;\">\n",
       "      <th></th>\n",
       "      <th>ngram</th>\n",
       "      <th>vocab_size</th>\n",
       "      <th>bow_fit_time</th>\n",
       "      <th>tfidf_fit_time</th>\n",
       "      <th>bow_mod_time</th>\n",
       "      <th>tfidf_mod_time</th>\n",
       "      <th>NB_bow</th>\n",
       "      <th>LR_bow</th>\n",
       "      <th>NB_tfidf</th>\n",
       "      <th>LR_tfidf</th>\n",
       "    </tr>\n",
       "  </thead>\n",
       "  <tbody>\n",
       "    <tr>\n",
       "      <th>69</th>\n",
       "      <td>2</td>\n",
       "      <td>2000</td>\n",
       "      <td>4.2</td>\n",
       "      <td>0.0</td>\n",
       "      <td>0.2</td>\n",
       "      <td>0.1</td>\n",
       "      <td>0.9790</td>\n",
       "      <td>0.9851</td>\n",
       "      <td>0.9723</td>\n",
       "      <td>0.9672</td>\n",
       "    </tr>\n",
       "    <tr>\n",
       "      <th>166</th>\n",
       "      <td>4</td>\n",
       "      <td>1700</td>\n",
       "      <td>6.8</td>\n",
       "      <td>0.0</td>\n",
       "      <td>0.2</td>\n",
       "      <td>0.1</td>\n",
       "      <td>0.9779</td>\n",
       "      <td>0.9854</td>\n",
       "      <td>0.9185</td>\n",
       "      <td>0.9428</td>\n",
       "    </tr>\n",
       "  </tbody>\n",
       "</table>\n",
       "</div>"
      ],
      "text/plain": [
       "     ngram  vocab_size  bow_fit_time  tfidf_fit_time  bow_mod_time  \\\n",
       "69       2        2000           4.2             0.0           0.2   \n",
       "166      4        1700           6.8             0.0           0.2   \n",
       "\n",
       "     tfidf_mod_time  NB_bow  LR_bow  NB_tfidf  LR_tfidf  \n",
       "69              0.1  0.9790  0.9851    0.9723    0.9672  \n",
       "166             0.1  0.9779  0.9854    0.9185    0.9428  "
      ]
     },
     "execution_count": 69,
     "metadata": {},
     "output_type": "execute_result"
    }
   ],
   "source": [
    "pd.concat([top_2gram, top_4gram])"
   ]
  },
  {
   "cell_type": "markdown",
   "metadata": {},
   "source": [
    "It probably doesn't matter, it'd seem simpler to just proceed with bigrams as they are faster and perform better with other representations."
   ]
  },
  {
   "cell_type": "code",
   "execution_count": 13,
   "metadata": {},
   "outputs": [
    {
     "name": "stdout",
     "output_type": "stream",
     "text": [
      "Time elapsed: 17 m 2 s\n"
     ]
    }
   ],
   "source": [
    "mins, secs = divmod(time.time() - start_time, 60)\n",
    "print(f'Time elapsed: {mins:0.0f} m {secs:0.0f} s')"
   ]
  },
  {
   "cell_type": "markdown",
   "metadata": {},
   "source": [
    "---"
   ]
  }
 ],
 "metadata": {
  "kernelspec": {
   "display_name": "Python 3",
   "language": "python",
   "name": "python3"
  },
  "language_info": {
   "codemirror_mode": {
    "name": "ipython",
    "version": 3
   },
   "file_extension": ".py",
   "mimetype": "text/x-python",
   "name": "python",
   "nbconvert_exporter": "python",
   "pygments_lexer": "ipython3",
   "version": "3.7.3"
  }
 },
 "nbformat": 4,
 "nbformat_minor": 4
}
