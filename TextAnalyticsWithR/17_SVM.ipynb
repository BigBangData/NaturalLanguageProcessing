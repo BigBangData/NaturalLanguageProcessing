{
 "cells": [
  {
   "cell_type": "markdown",
   "metadata": {},
   "source": [
    "# Support Vector Machines\n",
    "---\n",
    "\n",
    "__This Notebook__\n",
    "\n",
    "- I learn about the various hyperparameters of the `sklearn.svm.SVC` class for C-Support Vector Classification. \n",
    "- I did not implement a robust cross-validation and grid search scheme since there are too many parameters to learn\n",
    "- I did play a bit with thresholds to learn how the predict methods work\n",
    "\n",
    "__Results__ \n",
    "\n",
    "- In retrospect, I should've read the docs first (big surprise) and implemented __GridSearchCV__ with `C` and `gamma` spaced exponentially far apart to choose good values"
   ]
  },
  {
   "cell_type": "markdown",
   "metadata": {},
   "source": [
    "## Setup"
   ]
  },
  {
   "cell_type": "code",
   "execution_count": 86,
   "metadata": {},
   "outputs": [
    {
     "name": "stdout",
     "output_type": "stream",
     "text": [
      "Revised on: 2021-01-23\n"
     ]
    }
   ],
   "source": [
    "import re\n",
    "import os\n",
    "import time\n",
    "import joblib \n",
    "\n",
    "import numpy as np\n",
    "import pandas as pd\n",
    "import scipy.sparse as sp\n",
    "import matplotlib.pyplot as plt\n",
    "\n",
    "from datetime import datetime\n",
    "from sklearn.metrics import confusion_matrix\n",
    "\n",
    "\n",
    "dt_object = datetime.fromtimestamp(time.time())\n",
    "day, T = str(dt_object).split('.')[0].split(' ')\n",
    "print('Revised on: ' + day)"
   ]
  },
  {
   "cell_type": "markdown",
   "metadata": {},
   "source": [
    "## Load"
   ]
  },
  {
   "cell_type": "code",
   "execution_count": 87,
   "metadata": {},
   "outputs": [],
   "source": [
    "# load target vector\n",
    "raw_path = os.path.join(\"data\",\"1_raw\")\n",
    "y_df = pd.read_csv(os.path.join(raw_path, 'y_train.csv'))\n",
    "y_array = np.array(y_df.iloc[:,0].ravel())\n",
    "\n",
    "y = y_array.copy()\n",
    "\n",
    "# transform y_array into int type\n",
    "y[y=='ham'] = 0\n",
    "y[y=='spam'] = 1\n",
    "y = y.astype('int')"
   ]
  },
  {
   "cell_type": "code",
   "execution_count": 88,
   "metadata": {},
   "outputs": [],
   "source": [
    "# load matrices\n",
    "proc_dir = os.path.join(\"data\", \"2_processed\")\n",
    "X_tfidf_svd800_spamcos = sp.load_npz(os.path.join(proc_dir, 'X_tfidf_svd800_spamcos.npz'))\n",
    "X_tfidf_svd800_spamcos_scaled = sp.load_npz(os.path.join(proc_dir, 'X_tfidf_svd800_spamcos_scaled.npz'))"
   ]
  },
  {
   "cell_type": "markdown",
   "metadata": {},
   "source": [
    "__Ranges__\n",
    "\n",
    "We see that the unscaled is actually more compact around 0, whereas the scaled has a nice -1 to 1 range."
   ]
  },
  {
   "cell_type": "code",
   "execution_count": 89,
   "metadata": {},
   "outputs": [
    {
     "data": {
      "text/plain": [
       "(-0.13501015228690652, 0.15613997096670862)"
      ]
     },
     "execution_count": 89,
     "metadata": {},
     "output_type": "execute_result"
    }
   ],
   "source": [
    "X = X_tfidf_svd800_spamcos.todense()\n",
    "np.amin(X), np.amax(X)"
   ]
  },
  {
   "cell_type": "code",
   "execution_count": 90,
   "metadata": {},
   "outputs": [
    {
     "data": {
      "text/plain": [
       "(-1.0, 1.0)"
      ]
     },
     "execution_count": 90,
     "metadata": {},
     "output_type": "execute_result"
    }
   ],
   "source": [
    "X = X_tfidf_svd800_spamcos_scaled.todense()\n",
    "np.amin(X), np.amax(X)"
   ]
  },
  {
   "cell_type": "markdown",
   "metadata": {},
   "source": [
    "## Helpful Functions\n"
   ]
  },
  {
   "cell_type": "code",
   "execution_count": 91,
   "metadata": {},
   "outputs": [],
   "source": [
    "# train classifier and time it\n",
    "def time_deco(func):\n",
    "    def wrapper(clf):\n",
    "        start = time.time()\n",
    "        func(clf)\n",
    "        m,s = divmod(time.time() - start, 60)\n",
    "        print(f'Elapsed: {m:0.0f}m {s:0.0f}s')\n",
    "    return wrapper\n",
    "\n",
    "@time_deco\n",
    "def fit_clf(clf):\n",
    "    clf.fit(X_train, y_train)\n",
    "    \n",
    "# evaluate classifier\n",
    "def eval_clf(y_val, y_pred):\n",
    "    tn, fp, fn, tp = confusion_matrix(y_val, \n",
    "                                      y_pred).ravel()\n",
    "    confmat_df = pd.DataFrame(\n",
    "        np.array(([tn, fp], [fn, tp])),\n",
    "        columns=['pred_neg', 'pred_pos'], \n",
    "        index=['cond_neg', 'cond_pos']\n",
    "    )\n",
    "    # unpack metrics\n",
    "    acc = (tp + tn) / (tp + tn + fp + fn)\n",
    "    tpr = tp / (tp + fn)\n",
    "    tnr = tn / (tn + fp)\n",
    "    # print results\n",
    "    print(confmat_df)\n",
    "    print(f'acc: {acc:0.4f}')\n",
    "    print(f'tpr: {tpr:0.4f}')\n",
    "    print(f'tnr: {tnr:0.4f}')"
   ]
  },
  {
   "cell_type": "markdown",
   "metadata": {},
   "source": [
    "## Unscaled\n",
    "\n",
    "### Train Test Split"
   ]
  },
  {
   "cell_type": "code",
   "execution_count": 92,
   "metadata": {},
   "outputs": [],
   "source": [
    "from sklearn.model_selection import train_test_split\n",
    "from sklearn.svm import SVC\n",
    "\n",
    "X_train, X_val, y_train, y_val = train_test_split(X_tfidf_svd800_spamcos,\n",
    "                                                  y, \n",
    "                                                  stratify=y,\n",
    "                                                  random_state=42)"
   ]
  },
  {
   "cell_type": "markdown",
   "metadata": {},
   "source": [
    "##  SVC (Support Vector Classifier) \n",
    "\n",
    "[See docs](https://scikit-learn.org/stable/modules/generated/sklearn.svm.SVC.html)\n",
    "\n",
    "__Some defaults:__\n",
    "- `C=1.0`: no regularization\n",
    "- `kernel='rbf'`: radial basis function kernel\n",
    "- `degree=3`: polynomial degree, ignored for kernels other than `poly`; also try `sigmoid` or `precomputed`?\n",
    "- `gamma='scale'`: coefficient for `rbf`, `poly` and `sigmoid`\n",
    "- `coef0=0.0`: independent term in kernel function. It is only significant in `poly` and `sigmoid`\n",
    "- `shrinking=True`: whether to use the shrinking heuristic. \n",
    "- `probability=False`: whether to enable probability estimates. This must be enabled prior to calling fit, will slow down that method as it internally uses 5-fold cross-validation, and `predict_proba` may be inconsistent with `predict`\n",
    "- `class_weight=None`: pass a dict or 'balanced' \n",
    "\n",
    "__Some methods:__\n",
    "\n",
    "- `.get_params`: returns the parameters\n",
    "- `.decision_function`: evaluates the decision function for the samples in X, if binary from -1 to 1\n",
    "- `.predict`: performs the classification, equivalent to decision_function with a 0 threshold\n",
    "- `.predict_proba`: compute probabilities of possible outcomes for samples in X. The model need to have probability information computed at training time (i.e., fit with `probability=True`)\n"
   ]
  },
  {
   "cell_type": "markdown",
   "metadata": {},
   "source": [
    "### RBF kernel `C` and `gamma`:\n",
    "\n",
    "[See Docs](https://scikit-learn.org/stable/modules/svm.html#svm-kernels)\n",
    "\n",
    "When training an SVM with the Radial Basis Function (RBF) kernel, two parameters must be considered: $C$ and $\\gamma$. \n",
    "\n",
    "$C$: common to all SVM kernels, trades off misclassification of training examples against simplicity of the decision surface. A low $C$ makes the decision surface smooth, while a high $C$ aims at classifying all training examples correctly. \n",
    "\n",
    "$\\gamma$: defines how much influence a single training example has. The larger $\\gamma$ is, the closer other examples must be to be affected."
   ]
  },
  {
   "cell_type": "code",
   "execution_count": 93,
   "metadata": {},
   "outputs": [],
   "source": [
    "# instantiate\n",
    "svm_clf = SVC(random_state=42)"
   ]
  },
  {
   "cell_type": "code",
   "execution_count": 94,
   "metadata": {},
   "outputs": [
    {
     "name": "stdout",
     "output_type": "stream",
     "text": [
      "Elapsed: 0m 19s\n"
     ]
    }
   ],
   "source": [
    "# train\n",
    "fit_clf(svm_clf)"
   ]
  },
  {
   "cell_type": "code",
   "execution_count": 97,
   "metadata": {},
   "outputs": [
    {
     "data": {
      "image/png": "[encoded data removed]",
      "text/plain": [
       "<Figure size 432x288 with 1 Axes>"
      ]
     },
     "metadata": {
      "needs_background": "light"
     },
     "output_type": "display_data"
    }
   ],
   "source": [
    "# evaluate using decision function\n",
    "y_score = svm_clf.decision_function(X_val)\n",
    "plt.plot(sorted(y_score))\n",
    "plt.show()"
   ]
  },
  {
   "cell_type": "markdown",
   "metadata": {},
   "source": [
    "Predicting with `threshold=0` is equivalent to using the `.predict` method"
   ]
  },
  {
   "cell_type": "code",
   "execution_count": 98,
   "metadata": {},
   "outputs": [
    {
     "name": "stdout",
     "output_type": "stream",
     "text": [
      "          pred_neg  pred_pos\n",
      "cond_neg       846         0\n",
      "cond_pos        41        88\n",
      "acc: 0.9579\n",
      "tpr: 0.6822\n",
      "tnr: 1.0000\n"
     ]
    }
   ],
   "source": [
    "# default threshold\n",
    "thresh = 0\n",
    "y_pred = np.where(y_score > thresh, 1, 0)\n",
    "eval_clf(y_val, y_pred)"
   ]
  },
  {
   "cell_type": "code",
   "execution_count": 99,
   "metadata": {},
   "outputs": [
    {
     "data": {
      "image/png": "[encoded data removed]",
      "text/plain": [
       "<Figure size 432x288 with 1 Axes>"
      ]
     },
     "metadata": {
      "needs_background": "light"
     },
     "output_type": "display_data"
    }
   ],
   "source": [
    "y_pred = svm_clf.predict(X_val)\n",
    "plt.plot(sorted(y_pred))\n",
    "plt.show()"
   ]
  },
  {
   "cell_type": "code",
   "execution_count": 100,
   "metadata": {},
   "outputs": [
    {
     "name": "stdout",
     "output_type": "stream",
     "text": [
      "          pred_neg  pred_pos\n",
      "cond_neg       846         0\n",
      "cond_pos        41        88\n",
      "acc: 0.9579\n",
      "tpr: 0.6822\n",
      "tnr: 1.0000\n"
     ]
    }
   ],
   "source": [
    "eval_clf(y_val, y_pred)"
   ]
  },
  {
   "cell_type": "markdown",
   "metadata": {},
   "source": [
    "Lowering the threshold increases sensitivity - as expected since we get more positives in the mix."
   ]
  },
  {
   "cell_type": "code",
   "execution_count": 105,
   "metadata": {},
   "outputs": [
    {
     "name": "stdout",
     "output_type": "stream",
     "text": [
      "          pred_neg  pred_pos\n",
      "cond_neg       842         4\n",
      "cond_pos        18       111\n",
      "acc: 0.9774\n",
      "tpr: 0.8605\n",
      "tnr: 0.9953\n"
     ]
    }
   ],
   "source": [
    "# lower threshold\n",
    "thresh = -.5\n",
    "y_pred = np.where(y_score > thresh, 1, 0)\n",
    "eval_clf(y_val, y_pred)"
   ]
  },
  {
   "cell_type": "code",
   "execution_count": 111,
   "metadata": {},
   "outputs": [
    {
     "data": {
      "image/png": "[encoded data removed]",
      "text/plain": [
       "<Figure size 432x288 with 1 Axes>"
      ]
     },
     "metadata": {
      "needs_background": "light"
     },
     "output_type": "display_data"
    }
   ],
   "source": [
    "plt.plot(sorted(y_score))\n",
    "plt.hlines(thresh, 0, 1000, colors='r', linestyles='dashed')\n",
    "plt.show()"
   ]
  },
  {
   "cell_type": "code",
   "execution_count": 113,
   "metadata": {},
   "outputs": [
    {
     "name": "stdout",
     "output_type": "stream",
     "text": [
      "          pred_neg  pred_pos\n",
      "cond_neg       821        25\n",
      "cond_pos         8       121\n",
      "acc: 0.9662\n",
      "tpr: 0.9380\n",
      "tnr: 0.9704\n"
     ]
    }
   ],
   "source": [
    "# even lower threshold\n",
    "thresh = -.7\n",
    "y_pred = np.where(y_score > thresh, 1, 0)\n",
    "eval_clf(y_val, y_pred)"
   ]
  },
  {
   "cell_type": "code",
   "execution_count": 114,
   "metadata": {},
   "outputs": [
    {
     "data": {
      "image/png": "[encoded data removed]",
      "text/plain": [
       "<Figure size 432x288 with 1 Axes>"
      ]
     },
     "metadata": {
      "needs_background": "light"
     },
     "output_type": "display_data"
    }
   ],
   "source": [
    "plt.plot(sorted(y_score))\n",
    "plt.hlines(thresh, 0, 1000, colors='r', linestyles='dashed')\n",
    "plt.show()"
   ]
  },
  {
   "cell_type": "markdown",
   "metadata": {},
   "source": [
    "The `.predict_proba` method doesn't work, as expected:"
   ]
  },
  {
   "cell_type": "code",
   "execution_count": 115,
   "metadata": {},
   "outputs": [
    {
     "name": "stdout",
     "output_type": "stream",
     "text": [
      "predict_proba is not available when  probability=False\n"
     ]
    }
   ],
   "source": [
    "try:\n",
    "    y_pred = svm_clf.predict_proba(X_val)\n",
    "except AttributeError as e:\n",
    "    print(e)"
   ]
  },
  {
   "cell_type": "markdown",
   "metadata": {},
   "source": [
    "### `Probability=True`"
   ]
  },
  {
   "cell_type": "code",
   "execution_count": 117,
   "metadata": {},
   "outputs": [],
   "source": [
    "# instantiate\n",
    "svm_clf_prob = SVC(random_state=42, probability=True)"
   ]
  },
  {
   "cell_type": "code",
   "execution_count": 118,
   "metadata": {},
   "outputs": [
    {
     "name": "stdout",
     "output_type": "stream",
     "text": [
      "Elapsed: 1m 36s\n"
     ]
    }
   ],
   "source": [
    "# training takes longer because of 5-fold CV\n",
    "fit_clf(svm_clf_prob)"
   ]
  },
  {
   "cell_type": "markdown",
   "metadata": {},
   "source": [
    "-  `.decision_function` or `.predict` yield same results as `probability=False` so the benefit lies in using the probabilities"
   ]
  },
  {
   "cell_type": "code",
   "execution_count": 119,
   "metadata": {},
   "outputs": [],
   "source": [
    "y_prob = svm_clf_prob.predict_proba(X_val)\n",
    "y_pred = svm_clf_prob.predict(X_val)"
   ]
  },
  {
   "cell_type": "code",
   "execution_count": 120,
   "metadata": {},
   "outputs": [
    {
     "data": {
      "text/plain": [
       "(array([[0.991, 0.009],\n",
       "        [0.988, 0.012],\n",
       "        [0.996, 0.004],\n",
       "        [0.   , 1.   ],\n",
       "        [0.992, 0.008],\n",
       "        [0.989, 0.011],\n",
       "        [0.   , 1.   ],\n",
       "        [0.989, 0.011],\n",
       "        [0.993, 0.007],\n",
       "        [0.   , 1.   ]]),\n",
       " array([0, 0, 0, 1, 0, 0, 1, 0, 0, 1]))"
      ]
     },
     "execution_count": 120,
     "metadata": {},
     "output_type": "execute_result"
    }
   ],
   "source": [
    "np.set_printoptions(precision=3, suppress=True) \n",
    "\n",
    "# i.e. first ten predictions\n",
    "y_prob[:10], y_pred[:10]"
   ]
  },
  {
   "cell_type": "code",
   "execution_count": 121,
   "metadata": {},
   "outputs": [
    {
     "data": {
      "image/png": "[encoded data removed]",
      "text/plain": [
       "<Figure size 432x288 with 1 Axes>"
      ]
     },
     "metadata": {
      "needs_background": "light"
     },
     "output_type": "display_data"
    }
   ],
   "source": [
    "plt.plot(y_prob[40:70,0]) # blue, zeroes (ham)\n",
    "plt.plot(y_prob[40:70,1]) # orange, ones (spam)\n",
    "plt.show()"
   ]
  },
  {
   "cell_type": "markdown",
   "metadata": {},
   "source": [
    "Probabilities are often extreme, either way they are complementary.\n",
    "\n",
    "This plot is slightly confusing in that 0/1 = low/high probs for either ham or spam, blue is ham, orange is spam."
   ]
  },
  {
   "cell_type": "code",
   "execution_count": 140,
   "metadata": {},
   "outputs": [
    {
     "name": "stdout",
     "output_type": "stream",
     "text": [
      "          pred_neg  pred_pos\n",
      "cond_neg       842         4\n",
      "cond_pos        18       111\n",
      "acc: 0.9774\n",
      "tpr: 0.8605\n",
      "tnr: 0.9953\n"
     ]
    }
   ],
   "source": [
    "# default threshold (,1 = spam)\n",
    "thresh = .5\n",
    "y_pred = np.where(y_prob[:,1] > thresh, 1, 0)\n",
    "print_metrics(y_val, y_pred)"
   ]
  },
  {
   "cell_type": "code",
   "execution_count": 141,
   "metadata": {},
   "outputs": [
    {
     "data": {
      "image/png": "[encoded data removed]",
      "text/plain": [
       "<Figure size 432x288 with 1 Axes>"
      ]
     },
     "metadata": {
      "needs_background": "light"
     },
     "output_type": "display_data"
    }
   ],
   "source": [
    "plt.plot(sorted(y_prob[:,1])) # spam\n",
    "plt.hlines(thresh, 0, 1000, colors='r', linestyles='dashed')\n",
    "plt.show()"
   ]
  },
  {
   "cell_type": "code",
   "execution_count": 149,
   "metadata": {},
   "outputs": [
    {
     "name": "stdout",
     "output_type": "stream",
     "text": [
      "          pred_neg  pred_pos\n",
      "cond_neg       827        19\n",
      "cond_pos         9       120\n",
      "acc: 0.9713\n",
      "tpr: 0.9302\n",
      "tnr: 0.9775\n"
     ]
    }
   ],
   "source": [
    "# lower threshold to detect spam\n",
    "thresh = 0.1\n",
    "y_pred = np.where(y_prob[:,1] > thresh, 1, 0)\n",
    "print_metrics(y_val, y_pred)"
   ]
  },
  {
   "cell_type": "code",
   "execution_count": 150,
   "metadata": {},
   "outputs": [
    {
     "data": {
      "image/png": "[encoded data removed]",
      "text/plain": [
       "<Figure size 432x288 with 1 Axes>"
      ]
     },
     "metadata": {
      "needs_background": "light"
     },
     "output_type": "display_data"
    }
   ],
   "source": [
    "plt.plot(sorted(y_prob[:,1])) # spam\n",
    "plt.hlines(thresh, 0, 1000, colors='r', linestyles='dashed')\n",
    "plt.show()"
   ]
  },
  {
   "cell_type": "markdown",
   "metadata": {},
   "source": [
    "## Scaled\n",
    "\n",
    "### Train Test Split"
   ]
  },
  {
   "cell_type": "code",
   "execution_count": 152,
   "metadata": {},
   "outputs": [],
   "source": [
    "X_train, X_val, y_train, y_val = train_test_split(X_tfidf_svd800_spamcos_scaled,\n",
    "                                                  y, \n",
    "                                                  stratify=y,\n",
    "                                                  random_state=42)"
   ]
  },
  {
   "cell_type": "code",
   "execution_count": 153,
   "metadata": {},
   "outputs": [],
   "source": [
    "# instantiate\n",
    "svm_clf = SVC(random_state=42)"
   ]
  },
  {
   "cell_type": "code",
   "execution_count": 154,
   "metadata": {},
   "outputs": [
    {
     "name": "stdout",
     "output_type": "stream",
     "text": [
      "Elapsed: 0m 19s\n"
     ]
    }
   ],
   "source": [
    "# train\n",
    "fit_clf(svm_clf)"
   ]
  },
  {
   "cell_type": "code",
   "execution_count": 155,
   "metadata": {},
   "outputs": [
    {
     "data": {
      "image/png": "[encoded data removed]",
      "text/plain": [
       "<Figure size 432x288 with 1 Axes>"
      ]
     },
     "metadata": {
      "needs_background": "light"
     },
     "output_type": "display_data"
    }
   ],
   "source": [
    "# evaluate using decision function\n",
    "y_score = svm_clf.decision_function(X_val)\n",
    "plt.plot(sorted(y_score))\n",
    "plt.show()"
   ]
  },
  {
   "cell_type": "code",
   "execution_count": 156,
   "metadata": {},
   "outputs": [
    {
     "name": "stdout",
     "output_type": "stream",
     "text": [
      "          pred_neg  pred_pos\n",
      "cond_neg       846         0\n",
      "cond_pos        40        89\n",
      "acc: 0.9590\n",
      "tpr: 0.6899\n",
      "tnr: 1.0000\n"
     ]
    }
   ],
   "source": [
    "# default threshold\n",
    "# results are very similar to unscaled, one more TN\n",
    "thresh = 0\n",
    "y_pred = np.where(y_score > thresh, 1, 0)\n",
    "eval_clf(y_val, y_pred)"
   ]
  },
  {
   "cell_type": "code",
   "execution_count": 157,
   "metadata": {},
   "outputs": [
    {
     "name": "stdout",
     "output_type": "stream",
     "text": [
      "          pred_neg  pred_pos\n",
      "cond_neg       818        28\n",
      "cond_pos         8       121\n",
      "acc: 0.9631\n",
      "tpr: 0.9380\n",
      "tnr: 0.9669\n"
     ]
    }
   ],
   "source": [
    "# even lower threshold\n",
    "# also very similar, three more TP\n",
    "thresh = -.7\n",
    "y_pred = np.where(y_score > thresh, 1, 0)\n",
    "eval_clf(y_val, y_pred)"
   ]
  },
  {
   "cell_type": "code",
   "execution_count": 158,
   "metadata": {},
   "outputs": [
    {
     "data": {
      "image/png": "[encoded data removed]",
      "text/plain": [
       "<Figure size 432x288 with 1 Axes>"
      ]
     },
     "metadata": {
      "needs_background": "light"
     },
     "output_type": "display_data"
    }
   ],
   "source": [
    "plt.plot(sorted(y_score))\n",
    "plt.hlines(thresh, 0, 1000, colors='r', linestyles='dashed')\n",
    "plt.show()"
   ]
  },
  {
   "cell_type": "markdown",
   "metadata": {},
   "source": [
    "### `Probability=True`"
   ]
  },
  {
   "cell_type": "code",
   "execution_count": 159,
   "metadata": {},
   "outputs": [],
   "source": [
    "# instantiate\n",
    "svm_clf_prob = SVC(random_state=42, probability=True)"
   ]
  },
  {
   "cell_type": "code",
   "execution_count": 160,
   "metadata": {},
   "outputs": [
    {
     "name": "stdout",
     "output_type": "stream",
     "text": [
      "Elapsed: 1m 34s\n"
     ]
    }
   ],
   "source": [
    "fit_clf(svm_clf_prob)"
   ]
  },
  {
   "cell_type": "code",
   "execution_count": 161,
   "metadata": {},
   "outputs": [],
   "source": [
    "y_prob = svm_clf_prob.predict_proba(X_val)"
   ]
  },
  {
   "cell_type": "code",
   "execution_count": 162,
   "metadata": {},
   "outputs": [
    {
     "name": "stdout",
     "output_type": "stream",
     "text": [
      "          pred_neg  pred_pos\n",
      "cond_neg       841         5\n",
      "cond_pos        17       112\n",
      "acc: 0.9774\n",
      "tpr: 0.8682\n",
      "tnr: 0.9941\n"
     ]
    }
   ],
   "source": [
    "# default\n",
    "thresh = .5\n",
    "y_pred = np.where(y_prob[:,1] > thresh, 1, 0)\n",
    "print_metrics(y_val, y_pred)"
   ]
  },
  {
   "cell_type": "code",
   "execution_count": 163,
   "metadata": {},
   "outputs": [
    {
     "name": "stdout",
     "output_type": "stream",
     "text": [
      "          pred_neg  pred_pos\n",
      "cond_neg       827        19\n",
      "cond_pos         8       121\n",
      "acc: 0.9723\n",
      "tpr: 0.9380\n",
      "tnr: 0.9775\n"
     ]
    }
   ],
   "source": [
    "# lower threshold to detect spam\n",
    "thresh = 0.1\n",
    "y_pred = np.where(y_prob[:,1] > thresh, 1, 0)\n",
    "print_metrics(y_val, y_pred)"
   ]
  },
  {
   "cell_type": "code",
   "execution_count": 164,
   "metadata": {},
   "outputs": [
    {
     "data": {
      "image/png": "[encoded data removed]",
      "text/plain": [
       "<Figure size 432x288 with 1 Axes>"
      ]
     },
     "metadata": {
      "needs_background": "light"
     },
     "output_type": "display_data"
    }
   ],
   "source": [
    "plt.plot(sorted(y_prob[:,1])) # spam\n",
    "plt.hlines(thresh, 0, 1000, colors='r', linestyles='dashed')\n",
    "plt.show()"
   ]
  },
  {
   "cell_type": "markdown",
   "metadata": {},
   "source": [
    "Results are very similar but the scaled version does seem to perform a tad better."
   ]
  },
  {
   "cell_type": "markdown",
   "metadata": {},
   "source": [
    "### Adjusting the class weight according to the data\n",
    "\n",
    "- Alternatively, we could pass `class_weight={0:1, 1:7}` to balance out the classes"
   ]
  },
  {
   "cell_type": "code",
   "execution_count": 165,
   "metadata": {},
   "outputs": [],
   "source": [
    "svm_clf_prob_bal = SVC(\n",
    "    random_state=42\n",
    "    , probability=True\n",
    "    , class_weight='balanced'\n",
    ")"
   ]
  },
  {
   "cell_type": "code",
   "execution_count": 166,
   "metadata": {},
   "outputs": [
    {
     "name": "stdout",
     "output_type": "stream",
     "text": [
      "Elapsed: 1m 33s\n"
     ]
    }
   ],
   "source": [
    "fit_clf(svm_clf_prob_bal)"
   ]
  },
  {
   "cell_type": "code",
   "execution_count": 167,
   "metadata": {},
   "outputs": [],
   "source": [
    "y_prob = svm_clf_prob_bal.predict_proba(X_val)"
   ]
  },
  {
   "cell_type": "code",
   "execution_count": 168,
   "metadata": {},
   "outputs": [
    {
     "name": "stdout",
     "output_type": "stream",
     "text": [
      "          pred_neg  pred_pos\n",
      "cond_neg       841         5\n",
      "cond_pos        17       112\n",
      "acc: 0.9774\n",
      "tpr: 0.8682\n",
      "tnr: 0.9941\n"
     ]
    }
   ],
   "source": [
    "# default\n",
    "thresh = .5\n",
    "y_pred = np.where(y_prob[:,1] > thresh, 1, 0)\n",
    "print_metrics(y_val, y_pred)"
   ]
  },
  {
   "cell_type": "code",
   "execution_count": 171,
   "metadata": {},
   "outputs": [
    {
     "name": "stdout",
     "output_type": "stream",
     "text": [
      "          pred_neg  pred_pos\n",
      "cond_neg       822        24\n",
      "cond_pos        10       119\n",
      "acc: 0.9651\n",
      "tpr: 0.9225\n",
      "tnr: 0.9716\n"
     ]
    }
   ],
   "source": [
    "# lower\n",
    "thresh = .1\n",
    "y_pred = np.where(y_prob[:,1] > thresh, 1, 0)\n",
    "print_metrics(y_val, y_pred)"
   ]
  },
  {
   "cell_type": "code",
   "execution_count": 172,
   "metadata": {},
   "outputs": [],
   "source": [
    "svm_clf_prob_bal = SVC(\n",
    "    random_state=42\n",
    "    , probability=True\n",
    "    , class_weight={0:1, \n",
    "                    1:7} # seven times more spam to balance out\n",
    ")"
   ]
  },
  {
   "cell_type": "code",
   "execution_count": 173,
   "metadata": {},
   "outputs": [
    {
     "name": "stdout",
     "output_type": "stream",
     "text": [
      "Elapsed: 1m 35s\n"
     ]
    }
   ],
   "source": [
    "fit_clf(svm_clf_prob_bal)"
   ]
  },
  {
   "cell_type": "code",
   "execution_count": 174,
   "metadata": {},
   "outputs": [],
   "source": [
    "y_prob = svm_clf_prob_bal.predict_proba(X_val)"
   ]
  },
  {
   "cell_type": "code",
   "execution_count": 175,
   "metadata": {},
   "outputs": [
    {
     "name": "stdout",
     "output_type": "stream",
     "text": [
      "          pred_neg  pred_pos\n",
      "cond_neg       842         4\n",
      "cond_pos        17       112\n",
      "acc: 0.9785\n",
      "tpr: 0.8682\n",
      "tnr: 0.9953\n"
     ]
    }
   ],
   "source": [
    "# default\n",
    "thresh = .5\n",
    "y_pred = np.where(y_prob[:,1] > thresh, 1, 0)\n",
    "print_metrics(y_val, y_pred)"
   ]
  },
  {
   "cell_type": "code",
   "execution_count": 176,
   "metadata": {},
   "outputs": [
    {
     "name": "stdout",
     "output_type": "stream",
     "text": [
      "          pred_neg  pred_pos\n",
      "cond_neg       825        21\n",
      "cond_pos        10       119\n",
      "acc: 0.9682\n",
      "tpr: 0.9225\n",
      "tnr: 0.9752\n"
     ]
    }
   ],
   "source": [
    "# lower\n",
    "thresh = .1\n",
    "y_pred = np.where(y_prob[:,1] > thresh, 1, 0)\n",
    "print_metrics(y_val, y_pred)"
   ]
  },
  {
   "cell_type": "markdown",
   "metadata": {},
   "source": [
    "### Regularization"
   ]
  },
  {
   "cell_type": "markdown",
   "metadata": {},
   "source": [
    "\n",
    "__Setting C__: \n",
    "\n",
    "> *`C=1.0`. If you have a lot of noisy observations you should decrease it: decreasing C corresponds to more regularization.*\n"
   ]
  },
  {
   "cell_type": "code",
   "execution_count": 177,
   "metadata": {},
   "outputs": [],
   "source": [
    "svm_clf_prob_reg = SVC(\n",
    "    random_state=42\n",
    "    , probability=True\n",
    "    , class_weight='balanced'\n",
    "    , C=.3\n",
    ")"
   ]
  },
  {
   "cell_type": "code",
   "execution_count": 178,
   "metadata": {},
   "outputs": [
    {
     "name": "stdout",
     "output_type": "stream",
     "text": [
      "Elapsed: 1m 36s\n"
     ]
    }
   ],
   "source": [
    "fit_clf(svm_clf_prob_reg)"
   ]
  },
  {
   "cell_type": "code",
   "execution_count": 179,
   "metadata": {},
   "outputs": [],
   "source": [
    "y_prob = svm_clf_prob_reg.predict_proba(X_val)"
   ]
  },
  {
   "cell_type": "code",
   "execution_count": 180,
   "metadata": {},
   "outputs": [
    {
     "name": "stdout",
     "output_type": "stream",
     "text": [
      "          pred_neg  pred_pos\n",
      "cond_neg       841         5\n",
      "cond_pos        18       111\n",
      "acc: 0.9764\n",
      "tpr: 0.8605\n",
      "tnr: 0.9941\n"
     ]
    }
   ],
   "source": [
    "# default\n",
    "thresh = .5\n",
    "y_pred = np.where(y_prob[:,1] > thresh, 1, 0)\n",
    "print_metrics(y_val, y_pred)"
   ]
  },
  {
   "cell_type": "code",
   "execution_count": 181,
   "metadata": {},
   "outputs": [
    {
     "name": "stdout",
     "output_type": "stream",
     "text": [
      "          pred_neg  pred_pos\n",
      "cond_neg       819        27\n",
      "cond_pos         8       121\n",
      "acc: 0.9641\n",
      "tpr: 0.9380\n",
      "tnr: 0.9681\n"
     ]
    }
   ],
   "source": [
    "# lower\n",
    "thresh = .1\n",
    "y_pred = np.where(y_prob[:,1] > thresh, 1, 0)\n",
    "print_metrics(y_val, y_pred)"
   ]
  },
  {
   "cell_type": "markdown",
   "metadata": {},
   "source": [
    "### Gamma\n",
    "\n",
    "A very low $\\gamma$ with no regularization predicts the ham base rate."
   ]
  },
  {
   "cell_type": "code",
   "execution_count": 203,
   "metadata": {},
   "outputs": [],
   "source": [
    "svm_clf_prob_reg = SVC(\n",
    "    random_state=42\n",
    "    , probability=True\n",
    "    , C=1\n",
    "    , gamma=1e-09\n",
    ")"
   ]
  },
  {
   "cell_type": "code",
   "execution_count": 204,
   "metadata": {},
   "outputs": [
    {
     "name": "stdout",
     "output_type": "stream",
     "text": [
      "Elapsed: 0m 28s\n"
     ]
    }
   ],
   "source": [
    "fit_clf(svm_clf_prob_reg)"
   ]
  },
  {
   "cell_type": "code",
   "execution_count": 205,
   "metadata": {},
   "outputs": [],
   "source": [
    "y_prob = svm_clf_prob_reg.predict_proba(X_val)"
   ]
  },
  {
   "cell_type": "code",
   "execution_count": 206,
   "metadata": {},
   "outputs": [
    {
     "name": "stdout",
     "output_type": "stream",
     "text": [
      "          pred_neg  pred_pos\n",
      "cond_neg       846         0\n",
      "cond_pos       129         0\n",
      "acc: 0.8677\n",
      "tpr: 0.0000\n",
      "tnr: 1.0000\n"
     ]
    }
   ],
   "source": [
    "# default\n",
    "thresh = .5\n",
    "y_pred = np.where(y_prob[:,1] > thresh, 1, 0)\n",
    "print_metrics(y_val, y_pred)"
   ]
  },
  {
   "cell_type": "code",
   "execution_count": 207,
   "metadata": {},
   "outputs": [
    {
     "name": "stdout",
     "output_type": "stream",
     "text": [
      "          pred_neg  pred_pos\n",
      "cond_neg         0       846\n",
      "cond_pos         0       129\n",
      "acc: 0.1323\n",
      "tpr: 1.0000\n",
      "tnr: 0.0000\n"
     ]
    }
   ],
   "source": [
    "# lowering the threshold is a bad, bad idea\n",
    "thresh = .1\n",
    "y_pred = np.where(y_prob[:,1] > thresh, 1, 0)\n",
    "print_metrics(y_val, y_pred)"
   ]
  },
  {
   "cell_type": "code",
   "execution_count": 210,
   "metadata": {},
   "outputs": [
    {
     "data": {
      "image/png": "[encoded data removed]",
      "text/plain": [
       "<Figure size 432x288 with 1 Axes>"
      ]
     },
     "metadata": {
      "needs_background": "light"
     },
     "output_type": "display_data"
    }
   ],
   "source": [
    "plt.plot(sorted(y_prob[:,1])) # spam\n",
    "plt.hlines(.5, 0, 1000, colors='r', linestyles='dashed')\n",
    "plt.hlines(.1, 0, 1000, colors='r', linestyles='dashed')\n",
    "plt.show()"
   ]
  },
  {
   "cell_type": "markdown",
   "metadata": {},
   "source": [
    "Testing a mid-point for $C$ and $\\gamma$:"
   ]
  },
  {
   "cell_type": "code",
   "execution_count": 213,
   "metadata": {},
   "outputs": [],
   "source": [
    "svm_clf_prob_reg = SVC(\n",
    "    random_state=42\n",
    "    , probability=True\n",
    "    , C=5e01\n",
    "    , gamma=5e-01\n",
    ")"
   ]
  },
  {
   "cell_type": "code",
   "execution_count": 214,
   "metadata": {},
   "outputs": [
    {
     "name": "stdout",
     "output_type": "stream",
     "text": [
      "Elapsed: 1m 39s\n"
     ]
    }
   ],
   "source": [
    "fit_clf(svm_clf_prob_reg)"
   ]
  },
  {
   "cell_type": "code",
   "execution_count": 215,
   "metadata": {},
   "outputs": [],
   "source": [
    "y_prob = svm_clf_prob_reg.predict_proba(X_val)"
   ]
  },
  {
   "cell_type": "code",
   "execution_count": 216,
   "metadata": {},
   "outputs": [
    {
     "name": "stdout",
     "output_type": "stream",
     "text": [
      "          pred_neg  pred_pos\n",
      "cond_neg       846         0\n",
      "cond_pos        81        48\n",
      "acc: 0.9169\n",
      "tpr: 0.3721\n",
      "tnr: 1.0000\n"
     ]
    }
   ],
   "source": [
    "# default\n",
    "thresh = .5\n",
    "y_pred = np.where(y_prob[:,1] > thresh, 1, 0)\n",
    "print_metrics(y_val, y_pred)"
   ]
  },
  {
   "cell_type": "code",
   "execution_count": 223,
   "metadata": {},
   "outputs": [
    {
     "name": "stdout",
     "output_type": "stream",
     "text": [
      "          pred_neg  pred_pos\n",
      "cond_neg       846         0\n",
      "cond_pos        70        59\n",
      "acc: 0.9282\n",
      "tpr: 0.4574\n",
      "tnr: 1.0000\n"
     ]
    }
   ],
   "source": [
    "# low\n",
    "thresh = .1\n",
    "y_pred = np.where(y_prob[:,1] > thresh, 1, 0)\n",
    "print_metrics(y_val, y_pred)"
   ]
  },
  {
   "cell_type": "code",
   "execution_count": 224,
   "metadata": {},
   "outputs": [
    {
     "data": {
      "image/png": "[encoded data removed]",
      "text/plain": [
       "<Figure size 432x288 with 1 Axes>"
      ]
     },
     "metadata": {
      "needs_background": "light"
     },
     "output_type": "display_data"
    }
   ],
   "source": [
    "plt.plot(sorted(y_prob[:,1])) # spam\n",
    "plt.hlines(.5, 0, 1000, colors='r', linestyles='dashed')\n",
    "plt.hlines(.1, 0, 1000, colors='r', linestyles='dashed')\n",
    "plt.show()"
   ]
  },
  {
   "cell_type": "code",
   "execution_count": 238,
   "metadata": {},
   "outputs": [
    {
     "data": {
      "text/plain": [
       "0.007769843438828635"
      ]
     },
     "execution_count": 238,
     "metadata": {},
     "output_type": "execute_result"
    }
   ],
   "source": [
    "# gamma=scale (default) means...\n",
    "n_features = X_train.shape[0]\n",
    "X_var = np.var(X_train.toarray())\n",
    "gamma = 1 / (n_features * X_var)\n",
    "gamma"
   ]
  },
  {
   "cell_type": "code",
   "execution_count": 239,
   "metadata": {},
   "outputs": [],
   "source": [
    "svm_clf_prob_reg = SVC(\n",
    "    random_state=42\n",
    "    , probability=True\n",
    "    , C=0.7\n",
    "    , gamma=0.0005\n",
    ")"
   ]
  },
  {
   "cell_type": "code",
   "execution_count": 240,
   "metadata": {},
   "outputs": [
    {
     "name": "stdout",
     "output_type": "stream",
     "text": [
      "Elapsed: 0m 48s\n"
     ]
    }
   ],
   "source": [
    "fit_clf(svm_clf_prob_reg)"
   ]
  },
  {
   "cell_type": "code",
   "execution_count": 241,
   "metadata": {},
   "outputs": [],
   "source": [
    "y_prob = svm_clf_prob_reg.predict_proba(X_val)"
   ]
  },
  {
   "cell_type": "code",
   "execution_count": 244,
   "metadata": {},
   "outputs": [
    {
     "name": "stdout",
     "output_type": "stream",
     "text": [
      "          pred_neg  pred_pos\n",
      "cond_neg       822        24\n",
      "cond_pos        10       119\n",
      "acc: 0.9651\n",
      "tpr: 0.9225\n",
      "tnr: 0.9716\n"
     ]
    }
   ],
   "source": [
    "# default\n",
    "thresh = .1\n",
    "y_pred = np.where(y_prob[:,1] > thresh, 1, 0)\n",
    "print_metrics(y_val, y_pred)"
   ]
  },
  {
   "cell_type": "code",
   "execution_count": 245,
   "metadata": {},
   "outputs": [
    {
     "data": {
      "image/png": "[encoded data removed]",
      "text/plain": [
       "<Figure size 432x288 with 1 Axes>"
      ]
     },
     "metadata": {
      "needs_background": "light"
     },
     "output_type": "display_data"
    }
   ],
   "source": [
    "plt.plot(sorted(y_prob[:,1])) # spam\n",
    "plt.hlines(.1, 0, 1000, colors='r', linestyles='dashed')\n",
    "plt.show()"
   ]
  },
  {
   "cell_type": "markdown",
   "metadata": {},
   "source": [
    "---"
   ]
  }
 ],
 "metadata": {
  "kernelspec": {
   "display_name": "Python 3",
   "language": "python",
   "name": "python3"
  },
  "language_info": {
   "codemirror_mode": {
    "name": "ipython",
    "version": 3
   },
   "file_extension": ".py",
   "mimetype": "text/x-python",
   "name": "python",
   "nbconvert_exporter": "python",
   "pygments_lexer": "ipython3",
   "version": "3.9.1"
  }
 },
 "nbformat": 4,
 "nbformat_minor": 4
}
