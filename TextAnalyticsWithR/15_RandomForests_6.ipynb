{
 "cells": [
  {
   "cell_type": "markdown",
   "metadata": {},
   "source": [
    "## Setup & Load Results"
   ]
  },
  {
   "cell_type": "code",
   "execution_count": 1,
   "metadata": {},
   "outputs": [
    {
     "name": "stdout",
     "output_type": "stream",
     "text": [
      "Revised on: 2021-01-17\n"
     ]
    }
   ],
   "source": [
    "import re\n",
    "import os\n",
    "import time\n",
    "import joblib \n",
    "\n",
    "import numpy as np\n",
    "import pandas as pd\n",
    "import scipy.sparse as sp\n",
    "\n",
    "import custom.new_gridsearch as ng\n",
    "\n",
    "from datetime import datetime\n",
    "\n",
    "dt_object = datetime.fromtimestamp(time.time())\n",
    "day, T = str(dt_object).split('.')[0].split(' ')\n",
    "print('Revised on: ' + day)"
   ]
  },
  {
   "cell_type": "code",
   "execution_count": 4,
   "metadata": {},
   "outputs": [],
   "source": [
    "%%capture\n",
    "\n",
    "# load grid searches\n",
    "mod_path = os.path.join(\"data\",\"3_modeling\")\n",
    "filename = '01112021_rf_gridsearches.joblib'\n",
    "                \n",
    "gridsearches = joblib.load(os.path.join(mod_path, filename))"
   ]
  },
  {
   "cell_type": "code",
   "execution_count": null,
   "metadata": {},
   "outputs": [],
   "source": [
    "def extract_df(dic):\n",
    "    gd_X = dic['representation']\n",
    "    gd_res = dic['gridsearch_res'].cv_results_\n",
    "    df = pd.concat([\n",
    "                    pd.DataFrame({'representation':[gd_X] * len(gd_res[\"params\"])}),\n",
    "                    pd.DataFrame(gd_res[\"params\"]),\n",
    "                    pd.DataFrame(gd_res[\"mean_test_acc\"], columns=[\"mean_val_acc\"]),\n",
    "                    pd.DataFrame(gd_res[\"mean_test_tpr\"], columns=[\"mean_val_tpr\"]),\n",
    "                    pd.DataFrame(gd_res[\"mean_test_tnr\"], columns=[\"mean_val_tnr\"]),\n",
    "                    pd.DataFrame(gd_res[\"mean_fit_time\"], columns=[\"mean_fit_time\"])\n",
    "                   ]\n",
    "                   , axis=1)\n",
    "    return df\n",
    "\n",
    "# create list of dfs\n",
    "df_list = []\n",
    "for ix, dic in enumerate(gridsearches):\n",
    "    df_list.append(extract_df(dic))\n",
    "\n",
    "# flatten and reindex\n",
    "dfm = pd.concat(df_list)\n",
    "dfm.index = range(len(dfm))"
   ]
  },
  {
   "cell_type": "code",
   "execution_count": 18,
   "metadata": {},
   "outputs": [
    {
     "data": {
      "text/html": [
       "<div>\n",
       "<style scoped>\n",
       "    .dataframe tbody tr th:only-of-type {\n",
       "        vertical-align: middle;\n",
       "    }\n",
       "\n",
       "    .dataframe tbody tr th {\n",
       "        vertical-align: top;\n",
       "    }\n",
       "\n",
       "    .dataframe thead th {\n",
       "        text-align: right;\n",
       "    }\n",
       "</style>\n",
       "<table border=\"1\" class=\"dataframe\">\n",
       "  <thead>\n",
       "    <tr style=\"text-align: right;\">\n",
       "      <th></th>\n",
       "      <th>representation</th>\n",
       "      <th>max_depth</th>\n",
       "      <th>max_features</th>\n",
       "      <th>min_samples_split</th>\n",
       "      <th>n_estimators</th>\n",
       "      <th>mean_val_acc</th>\n",
       "      <th>mean_val_tpr</th>\n",
       "      <th>mean_val_tnr</th>\n",
       "      <th>mean_fit_time</th>\n",
       "    </tr>\n",
       "  </thead>\n",
       "  <tbody>\n",
       "    <tr>\n",
       "      <th>13</th>\n",
       "      <td>X_bot_cossim_bot</td>\n",
       "      <td>30</td>\n",
       "      <td>500</td>\n",
       "      <td>5</td>\n",
       "      <td>500</td>\n",
       "      <td>0.986329</td>\n",
       "      <td>0.930567</td>\n",
       "      <td>0.994879</td>\n",
       "      <td>85.328248</td>\n",
       "    </tr>\n",
       "    <tr>\n",
       "      <th>5</th>\n",
       "      <td>X_bot_cossim_bot</td>\n",
       "      <td>20</td>\n",
       "      <td>500</td>\n",
       "      <td>5</td>\n",
       "      <td>500</td>\n",
       "      <td>0.986329</td>\n",
       "      <td>0.930567</td>\n",
       "      <td>0.994879</td>\n",
       "      <td>85.167853</td>\n",
       "    </tr>\n",
       "    <tr>\n",
       "      <th>7</th>\n",
       "      <td>X_bot_cossim_bot</td>\n",
       "      <td>20</td>\n",
       "      <td>500</td>\n",
       "      <td>10</td>\n",
       "      <td>500</td>\n",
       "      <td>0.986672</td>\n",
       "      <td>0.933131</td>\n",
       "      <td>0.994879</td>\n",
       "      <td>84.324610</td>\n",
       "    </tr>\n",
       "    <tr>\n",
       "      <th>29</th>\n",
       "      <td>X_tfidf_cossim_tfidf</td>\n",
       "      <td>30</td>\n",
       "      <td>500</td>\n",
       "      <td>5</td>\n",
       "      <td>500</td>\n",
       "      <td>0.987010</td>\n",
       "      <td>0.933131</td>\n",
       "      <td>0.995266</td>\n",
       "      <td>83.614118</td>\n",
       "    </tr>\n",
       "    <tr>\n",
       "      <th>23</th>\n",
       "      <td>X_tfidf_cossim_tfidf</td>\n",
       "      <td>20</td>\n",
       "      <td>500</td>\n",
       "      <td>10</td>\n",
       "      <td>500</td>\n",
       "      <td>0.987352</td>\n",
       "      <td>0.935695</td>\n",
       "      <td>0.995266</td>\n",
       "      <td>83.417150</td>\n",
       "    </tr>\n",
       "    <tr>\n",
       "      <th>21</th>\n",
       "      <td>X_tfidf_cossim_tfidf</td>\n",
       "      <td>20</td>\n",
       "      <td>500</td>\n",
       "      <td>5</td>\n",
       "      <td>500</td>\n",
       "      <td>0.987010</td>\n",
       "      <td>0.933131</td>\n",
       "      <td>0.995266</td>\n",
       "      <td>83.219947</td>\n",
       "    </tr>\n",
       "  </tbody>\n",
       "</table>\n",
       "</div>"
      ],
      "text/plain": [
       "          representation  max_depth  max_features  min_samples_split  \\\n",
       "13      X_bot_cossim_bot         30           500                  5   \n",
       "5       X_bot_cossim_bot         20           500                  5   \n",
       "7       X_bot_cossim_bot         20           500                 10   \n",
       "29  X_tfidf_cossim_tfidf         30           500                  5   \n",
       "23  X_tfidf_cossim_tfidf         20           500                 10   \n",
       "21  X_tfidf_cossim_tfidf         20           500                  5   \n",
       "\n",
       "    n_estimators  mean_val_acc  mean_val_tpr  mean_val_tnr  mean_fit_time  \n",
       "13           500      0.986329      0.930567      0.994879      85.328248  \n",
       "5            500      0.986329      0.930567      0.994879      85.167853  \n",
       "7            500      0.986672      0.933131      0.994879      84.324610  \n",
       "29           500      0.987010      0.933131      0.995266      83.614118  \n",
       "23           500      0.987352      0.935695      0.995266      83.417150  \n",
       "21           500      0.987010      0.933131      0.995266      83.219947  "
      ]
     },
     "execution_count": 18,
     "metadata": {},
     "output_type": "execute_result"
    }
   ],
   "source": [
    "# top 6 by mean fit time (descending so, worst offenders)\n",
    "dfm.sort_values(by=['mean_fit_time'], ascending=False).iloc[:6,:]"
   ]
  },
  {
   "cell_type": "code",
   "execution_count": 19,
   "metadata": {},
   "outputs": [
    {
     "data": {
      "text/html": [
       "<div>\n",
       "<style scoped>\n",
       "    .dataframe tbody tr th:only-of-type {\n",
       "        vertical-align: middle;\n",
       "    }\n",
       "\n",
       "    .dataframe tbody tr th {\n",
       "        vertical-align: top;\n",
       "    }\n",
       "\n",
       "    .dataframe thead th {\n",
       "        text-align: right;\n",
       "    }\n",
       "</style>\n",
       "<table border=\"1\" class=\"dataframe\">\n",
       "  <thead>\n",
       "    <tr style=\"text-align: right;\">\n",
       "      <th></th>\n",
       "      <th>representation</th>\n",
       "      <th>max_depth</th>\n",
       "      <th>max_features</th>\n",
       "      <th>min_samples_split</th>\n",
       "      <th>n_estimators</th>\n",
       "      <th>mean_val_acc</th>\n",
       "      <th>mean_val_tpr</th>\n",
       "      <th>mean_val_tnr</th>\n",
       "      <th>mean_fit_time</th>\n",
       "    </tr>\n",
       "  </thead>\n",
       "  <tbody>\n",
       "    <tr>\n",
       "      <th>16</th>\n",
       "      <td>X_tfidf_cossim_tfidf</td>\n",
       "      <td>20</td>\n",
       "      <td>200</td>\n",
       "      <td>5</td>\n",
       "      <td>200</td>\n",
       "      <td>0.987692</td>\n",
       "      <td>0.938259</td>\n",
       "      <td>0.995266</td>\n",
       "      <td>18.358610</td>\n",
       "    </tr>\n",
       "    <tr>\n",
       "      <th>24</th>\n",
       "      <td>X_tfidf_cossim_tfidf</td>\n",
       "      <td>30</td>\n",
       "      <td>200</td>\n",
       "      <td>5</td>\n",
       "      <td>200</td>\n",
       "      <td>0.987692</td>\n",
       "      <td>0.938259</td>\n",
       "      <td>0.995266</td>\n",
       "      <td>21.409068</td>\n",
       "    </tr>\n",
       "    <tr>\n",
       "      <th>17</th>\n",
       "      <td>X_tfidf_cossim_tfidf</td>\n",
       "      <td>20</td>\n",
       "      <td>200</td>\n",
       "      <td>5</td>\n",
       "      <td>500</td>\n",
       "      <td>0.987693</td>\n",
       "      <td>0.935695</td>\n",
       "      <td>0.995660</td>\n",
       "      <td>43.773937</td>\n",
       "    </tr>\n",
       "    <tr>\n",
       "      <th>30</th>\n",
       "      <td>X_tfidf_cossim_tfidf</td>\n",
       "      <td>30</td>\n",
       "      <td>500</td>\n",
       "      <td>10</td>\n",
       "      <td>200</td>\n",
       "      <td>0.987352</td>\n",
       "      <td>0.935695</td>\n",
       "      <td>0.995266</td>\n",
       "      <td>32.677336</td>\n",
       "    </tr>\n",
       "    <tr>\n",
       "      <th>28</th>\n",
       "      <td>X_tfidf_cossim_tfidf</td>\n",
       "      <td>30</td>\n",
       "      <td>500</td>\n",
       "      <td>5</td>\n",
       "      <td>200</td>\n",
       "      <td>0.987352</td>\n",
       "      <td>0.935695</td>\n",
       "      <td>0.995266</td>\n",
       "      <td>34.877201</td>\n",
       "    </tr>\n",
       "    <tr>\n",
       "      <th>25</th>\n",
       "      <td>X_tfidf_cossim_tfidf</td>\n",
       "      <td>30</td>\n",
       "      <td>200</td>\n",
       "      <td>5</td>\n",
       "      <td>500</td>\n",
       "      <td>0.987693</td>\n",
       "      <td>0.935695</td>\n",
       "      <td>0.995660</td>\n",
       "      <td>48.788397</td>\n",
       "    </tr>\n",
       "  </tbody>\n",
       "</table>\n",
       "</div>"
      ],
      "text/plain": [
       "          representation  max_depth  max_features  min_samples_split  \\\n",
       "16  X_tfidf_cossim_tfidf         20           200                  5   \n",
       "24  X_tfidf_cossim_tfidf         30           200                  5   \n",
       "17  X_tfidf_cossim_tfidf         20           200                  5   \n",
       "30  X_tfidf_cossim_tfidf         30           500                 10   \n",
       "28  X_tfidf_cossim_tfidf         30           500                  5   \n",
       "25  X_tfidf_cossim_tfidf         30           200                  5   \n",
       "\n",
       "    n_estimators  mean_val_acc  mean_val_tpr  mean_val_tnr  mean_fit_time  \n",
       "16           200      0.987692      0.938259      0.995266      18.358610  \n",
       "24           200      0.987692      0.938259      0.995266      21.409068  \n",
       "17           500      0.987693      0.935695      0.995660      43.773937  \n",
       "30           200      0.987352      0.935695      0.995266      32.677336  \n",
       "28           200      0.987352      0.935695      0.995266      34.877201  \n",
       "25           500      0.987693      0.935695      0.995660      48.788397  "
      ]
     },
     "execution_count": 19,
     "metadata": {},
     "output_type": "execute_result"
    }
   ],
   "source": [
    "# top 6 by sensitivity \n",
    "dfm.sort_values(by=['mean_val_tpr'], ascending=False).iloc[:6,:]"
   ]
  },
  {
   "cell_type": "code",
   "execution_count": 25,
   "metadata": {},
   "outputs": [],
   "source": [
    "# concatenate representation and n_estimators for plt.xlabel\n",
    "dfm['xticks'] = dfm.agg(lambda x: f\"{x['representation']}-{x['max_depth']}-\\\n",
    "{x['max_features']}-{x['min_samples_split']}-{x['n_estimators']}\", axis=1)"
   ]
  },
  {
   "cell_type": "code",
   "execution_count": 73,
   "metadata": {},
   "outputs": [],
   "source": [
    "from sklearn.preprocessing import minmax_scale\n",
    "\n",
    "dfm['mean_fit_time_scaled'] = minmax_scale(dfm['mean_fit_time'], feature_range=(0.92, .99), axis=0, copy=True)"
   ]
  },
  {
   "cell_type": "code",
   "execution_count": 74,
   "metadata": {},
   "outputs": [],
   "source": [
    "import matplotlib.pyplot as plt\n",
    "\n",
    "def plot_topscores(X):\n",
    "    X = X.sort_values(by=['mean_val_tpr'], ascending=False)\n",
    "    plt.figure(figsize=(16, 8))\n",
    "    plt.plot(np.array(X['mean_val_acc']), label=\"mean validation accuracy\")\n",
    "    plt.plot(np.array(X['mean_val_tpr']), label=\"mean validation sensitivity\", color='red')\n",
    "    plt.plot(np.array(X['mean_val_tnr']), label=\"mean validation specificiy\")\n",
    "    plt.plot(np.array(X['mean_fit_time_scaled']), label=\"mean fit time, scaled\", ls='--', lw=1, color='black')\n",
    "    plt.title('Evaluating Representations - Sorted By Mean Validation Sensitivity', fontsize=14)\n",
    "    plt.xticks(np.arange(len(X)), tuple(X['xticks']))\n",
    "    plt.legend(loc=\"lower left\", fontsize=12)\n",
    "    plt.axis([0, len(X), 0.9, 1.01])\n",
    "    plt.xticks(rotation=90)\n",
    "    plt.show()"
   ]
  },
  {
   "cell_type": "code",
   "execution_count": 75,
   "metadata": {},
   "outputs": [
    {
     "data": {
      "image/png": "[encoded data removed]",
      "text/plain": [
       "<Figure size 1152x576 with 1 Axes>"
      ]
     },
     "metadata": {
      "needs_background": "light"
     },
     "output_type": "display_data"
    }
   ],
   "source": [
    "plot_topscores(dfm)"
   ]
  },
  {
   "cell_type": "markdown",
   "metadata": {},
   "source": [
    "Fortunately, the top model is actually quite fast, so we can just go with that."
   ]
  },
  {
   "cell_type": "markdown",
   "metadata": {},
   "source": [
    "## Picking a Decision Threshold\n",
    "\n",
    "Rerunning entire pipeline for this one model.\n",
    "\n",
    "Save IDF, etc., reproducible for TEST SET!"
   ]
  },
  {
   "cell_type": "code",
   "execution_count": 76,
   "metadata": {},
   "outputs": [],
   "source": [
    "import json\n",
    "import urlextract\n",
    "from nltk.stem import WordNetLemmatizer\n",
    "\n",
    "def load_data(data):\n",
    "    raw_path = os.path.join(\"data\",\"1_raw\")\n",
    "    filename = ''.join([data, \".csv\"])\n",
    "    out_dfm = pd.read_csv(os.path.join(raw_path, filename))\n",
    "    out_arr = np.array(out_dfm.iloc[:,0].ravel())\n",
    "    return out_arr\n",
    "\n",
    "X_train = load_data(\"X_train\")\n",
    "y_train = load_data(\"y_train\")\n",
    "\n",
    "y = y_train.copy()\n",
    "\n",
    "# transform y_array into int type\n",
    "y[y=='ham'] = 0\n",
    "y[y=='spam'] = 1\n",
    "y = y.astype('int')\n",
    "\n",
    "# load contractions map for custom cleanup\n",
    "with open(\"contractions_map.json\") as f:\n",
    "    contractions_map = json.load(f)"
   ]
  },
  {
   "cell_type": "code",
   "execution_count": 77,
   "metadata": {},
   "outputs": [],
   "source": [
    "import custom.clean_preprocess as cp\n",
    "from sklearn.pipeline import Pipeline\n",
    "from sklearn.feature_extraction.text import TfidfTransformer\n",
    "\n",
    "pipe = Pipeline([('counter', cp.DocumentToNgramCounterTransformer(n_grams=3)),\n",
    "                 ('bot', cp.WordCounterToVectorTransformer(vocabulary_size=2000)),\n",
    "                 ('tfidf', TfidfTransformer(sublinear_tf=True))])\n",
    "\n",
    "X_tfidf = pipe.fit_transform(X_train)"
   ]
  },
  {
   "cell_type": "code",
   "execution_count": 78,
   "metadata": {},
   "outputs": [],
   "source": [
    "from scipy.sparse.linalg import svds\n",
    "from sklearn.utils.extmath import svd_flip\n",
    "\n",
    "def perform_SVD(X, n_components=300): # vary this next?\n",
    "    \n",
    "    X_array = X.asfptype()\n",
    "    U, Sigma, VT = svds(X_array.T, # term-document matrix\n",
    "                        k=n_components)\n",
    "    # reverse outputs\n",
    "    Sigma = Sigma[::-1]\n",
    "    U, VT = svd_flip(U[:, ::-1], VT[::-1])\n",
    "    \n",
    "    # return V \n",
    "    V = VT.T\n",
    "    return V # no need to scale for random forests\n",
    "\n",
    "X_svd_tfidf = perform_SVD(X_tfidf)"
   ]
  },
  {
   "cell_type": "code",
   "execution_count": 80,
   "metadata": {},
   "outputs": [],
   "source": [
    "from scipy.sparse import csr_matrix\n",
    "from sklearn.metrics.pairwise import cosine_similarity\n",
    "\n",
    "X_cossim_svd_tfidf = cosine_similarity(X_svd_tfidf)\n",
    "\n",
    "train_df = pd.DataFrame({'sms':X_train, 'target':y_train})\n",
    "\n",
    "# get spam indexes\n",
    "spam_ix = train_df.loc[train_df['target']=='spam'].index\n",
    "\n",
    "# calculate average spam similarity on SVD\n",
    "mean_spam_sims_tfidf = []\n",
    "\n",
    "for ix in range(X_cossim_svd_tfidf.shape[0]):\n",
    "    mean_spam_sims_tfidf.append(np.mean(X_cossim_svd_tfidf[ix, spam_ix]))\n",
    "\n",
    "X_tfidf_cossim_tfidf = sp.hstack((csr_matrix(mean_spam_sims_tfidf).T, X_svd_tfidf))  # noticed mistake, rerunning nbks 13,14"
   ]
  },
  {
   "cell_type": "code",
   "execution_count": null,
   "metadata": {},
   "outputs": [],
   "source": []
  },
  {
   "cell_type": "code",
   "execution_count": null,
   "metadata": {},
   "outputs": [],
   "source": []
  },
  {
   "cell_type": "code",
   "execution_count": null,
   "metadata": {},
   "outputs": [],
   "source": []
  },
  {
   "cell_type": "code",
   "execution_count": null,
   "metadata": {},
   "outputs": [],
   "source": []
  },
  {
   "cell_type": "code",
   "execution_count": null,
   "metadata": {},
   "outputs": [],
   "source": []
  },
  {
   "cell_type": "code",
   "execution_count": null,
   "metadata": {},
   "outputs": [],
   "source": []
  },
  {
   "cell_type": "code",
   "execution_count": null,
   "metadata": {},
   "outputs": [],
   "source": []
  },
  {
   "cell_type": "code",
   "execution_count": null,
   "metadata": {},
   "outputs": [],
   "source": []
  },
  {
   "cell_type": "code",
   "execution_count": null,
   "metadata": {},
   "outputs": [],
   "source": []
  },
  {
   "cell_type": "code",
   "execution_count": null,
   "metadata": {},
   "outputs": [],
   "source": []
  }
 ],
 "metadata": {
  "kernelspec": {
   "display_name": "Python 3",
   "language": "python",
   "name": "python3"
  },
  "language_info": {
   "codemirror_mode": {
    "name": "ipython",
    "version": 3
   },
   "file_extension": ".py",
   "mimetype": "text/x-python",
   "name": "python",
   "nbconvert_exporter": "python",
   "pygments_lexer": "ipython3",
   "version": "3.9.1"
  }
 },
 "nbformat": 4,
 "nbformat_minor": 4
}
