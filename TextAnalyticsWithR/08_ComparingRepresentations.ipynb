{
 "cells": [
  {
   "cell_type": "markdown",
   "metadata": {},
   "source": [
    "# Comparing Representations"
   ]
  },
  {
   "cell_type": "markdown",
   "metadata": {},
   "source": [
    "### Setup"
   ]
  },
  {
   "cell_type": "code",
   "execution_count": 1,
   "metadata": {},
   "outputs": [
    {
     "name": "stdout",
     "output_type": "stream",
     "text": [
      "Revised on: 2020-12-06\n"
     ]
    }
   ],
   "source": [
    "import os\n",
    "import time\n",
    "import json\n",
    "\n",
    "import numpy as np\n",
    "import pandas as pd\n",
    "\n",
    "import urlextract\n",
    "from datetime import datetime\n",
    "from nltk.stem import WordNetLemmatizer\n",
    "\n",
    "start_time = time.time()\n",
    "dt_object = datetime.fromtimestamp(time.time())\n",
    "day, T = str(dt_object).split('.')[0].split(' ')\n",
    "print('Revised on: ' + day)"
   ]
  },
  {
   "cell_type": "markdown",
   "metadata": {},
   "source": [
    "### Load Data"
   ]
  },
  {
   "cell_type": "code",
   "execution_count": 2,
   "metadata": {},
   "outputs": [],
   "source": [
    "def load_data(data):\n",
    "    raw_path = os.path.join(\"..\",\"data\",\"1_raw\")\n",
    "    filename = ''.join([data, \".csv\"])\n",
    "    out_dfm = pd.read_csv(os.path.join(raw_path, filename))\n",
    "    out_arr = np.array(out_dfm.iloc[:,0].ravel())\n",
    "    return out_arr\n",
    "\n",
    "X_train = load_data(\"X_train\")\n",
    "y_train = load_data(\"y_train\")\n",
    "\n",
    "# load contractions map for custom cleanup\n",
    "with open(\"contractions_map.json\") as f:\n",
    "    contractions_map = json.load(f)"
   ]
  },
  {
   "cell_type": "markdown",
   "metadata": {},
   "source": [
    "### 1. New Features"
   ]
  },
  {
   "cell_type": "code",
   "execution_count": 3,
   "metadata": {},
   "outputs": [],
   "source": [
    "%%capture output\n",
    "\n",
    "# custom feature engineering module\n",
    "import feature_engineering as Fe\n",
    "\n",
    "try:                   \n",
    "    clean_train_docs, X_train_feat = Fe.DocumentToFeaturesCounterTransformer().fit_transform(X_train)\n",
    "except Warning as e:\n",
    "    pass\n",
    "\n",
    "# impute with zeros\n",
    "X_train_feat[np.isnan(X_train_feat)] = 0"
   ]
  },
  {
   "cell_type": "markdown",
   "metadata": {},
   "source": [
    "### 2. BoW\n",
    "\n",
    "More precisely, a bag-of-upto-bigrams with a vocabulary size of 2,000 terms."
   ]
  },
  {
   "cell_type": "code",
   "execution_count": 4,
   "metadata": {},
   "outputs": [],
   "source": [
    "import cleanup_module as Cmod\n",
    "from sklearn.pipeline import Pipeline\n",
    "from sklearn.feature_extraction.text import TfidfTransformer\n",
    "\n",
    "dtm_pipe = Pipeline([('counter', Cmod.DocumentToNgramCounterTransformer(n_grams=2)),\n",
    "                     ('bow', Cmod.WordCounterToVectorTransformer(vocabulary_size=2000))\n",
    "                    ])\n",
    "\n",
    "X_train_bow = dtm_pipe.fit_transform(X_train)"
   ]
  },
  {
   "cell_type": "markdown",
   "metadata": {},
   "source": [
    "### 3. BoW + Features"
   ]
  },
  {
   "cell_type": "code",
   "execution_count": 14,
   "metadata": {},
   "outputs": [],
   "source": [
    "import scipy.sparse as sp\n",
    "\n",
    "X_train_bow_feat = sp.hstack((X_train_feat, X_train_bow))"
   ]
  },
  {
   "cell_type": "markdown",
   "metadata": {},
   "source": [
    "### 4. BoW + Doc Length"
   ]
  },
  {
   "cell_type": "code",
   "execution_count": 15,
   "metadata": {},
   "outputs": [],
   "source": [
    "X_train_bow_doclen = sp.hstack((X_train_feat[:, 0:1], X_train_bow))"
   ]
  },
  {
   "cell_type": "markdown",
   "metadata": {},
   "source": [
    "### 5. SVD on BoW"
   ]
  },
  {
   "cell_type": "code",
   "execution_count": 16,
   "metadata": {},
   "outputs": [],
   "source": [
    "from scipy.sparse.linalg import svds\n",
    "from sklearn.utils.extmath import svd_flip\n",
    "from sklearn.preprocessing import MinMaxScaler\n",
    "\n",
    "def perform_SVD(X, n_topics=300):\n",
    "    X_array = X.asfptype()\n",
    "    U, Sigma, VT = svds(X_array.T, k=n_topics)\n",
    "    # reverse outputs\n",
    "    Sigma = Sigma[::-1]\n",
    "    U, VT = svd_flip(U[:, ::-1], VT[::-1])\n",
    "    # return V (for now)\n",
    "    V = VT.T\n",
    "    return V\n",
    "\n",
    "X_train_svd = perform_SVD(X_train_bow)\n",
    "\n",
    "# scale for precision/recall calcs\n",
    "scaler = MinMaxScaler()\n",
    "X_train_svd_scaled = scaler.fit_transform(X_train_svd)\n",
    "\n",
    "# make sparse for stacking\n",
    "X_train_svd_scaled = sp.csr_matrix(X_train_svd_scaled)"
   ]
  },
  {
   "cell_type": "markdown",
   "metadata": {},
   "source": [
    "### 6. SVD-on-BoW + Features"
   ]
  },
  {
   "cell_type": "code",
   "execution_count": 17,
   "metadata": {},
   "outputs": [],
   "source": [
    "X_train_svd_feat = sp.hstack((X_train_svd_scaled, X_train_feat))"
   ]
  },
  {
   "cell_type": "markdown",
   "metadata": {},
   "source": [
    "### 7. SVD-on-BoW + DocLen"
   ]
  },
  {
   "cell_type": "code",
   "execution_count": 25,
   "metadata": {},
   "outputs": [],
   "source": [
    "X_train_svd_doclen = sp.hstack((X_train_svd_scaled, X_train_bow_doclen))"
   ]
  },
  {
   "cell_type": "markdown",
   "metadata": {},
   "source": [
    "## Logistic Regression\n",
    "\n",
    "A quick modeling phase with a baseline classifier to compare our 5 candidate representations:\n",
    "\n",
    "1. **X_train_feat:** new features\n",
    "2. **X_train_bow:** bag-of-(upto)-bigrams \n",
    "3. **X_train_bow_feat:** bow + (all) features\n",
    "4. **X_train_bow_doclen:** bow + document lengths (first and best feature)\n",
    "5. **X_train_svd_scaled:** svd (min max scaled) on the bow\n",
    "6. **X_train_svd_feat:** svd on the bow + all features\n",
    "7. **X_train_svd_doclen:** svd on the bow + document lengths"
   ]
  },
  {
   "cell_type": "code",
   "execution_count": 26,
   "metadata": {},
   "outputs": [],
   "source": [
    "from sklearn.model_selection import cross_val_score\n",
    "from sklearn.linear_model import LogisticRegression\n",
    "\n",
    "def get_modeling_stats(Xs, Xnames, y, cv=10):\n",
    "\n",
    "    accs_, pres_, recs_ = [], [], []\n",
    "    \n",
    "    for X in Xs:\n",
    "        log_clf = LogisticRegression(solver=\"liblinear\", random_state=42)\n",
    "        accs = cross_val_score(log_clf, X, y, cv=cv, verbose=0, scoring='accuracy')\n",
    "        pres = cross_val_score(log_clf, X, y, cv=cv, verbose=0, scoring='precision')\n",
    "        recs = cross_val_score(log_clf, X, y, cv=cv, verbose=0, scoring='recall')\n",
    "        accs_.append(np.round(accs, 4))\n",
    "        pres_.append(np.round(pres, 4))\n",
    "        recs_.append(np.round(recs, 4))\n",
    "    \n",
    "    data = {'representations':Xnames,\n",
    "            'accuracies':accs_,\n",
    "            'precisions':pres_,\n",
    "            'recalls':recs_}\n",
    "    \n",
    "    return pd.DataFrame(data)"
   ]
  },
  {
   "cell_type": "code",
   "execution_count": 27,
   "metadata": {},
   "outputs": [
    {
     "name": "stderr",
     "output_type": "stream",
     "text": [
      "c:\\users\\sanch\\appdata\\local\\programs\\python\\python37\\lib\\site-packages\\ipykernel_launcher.py:2: FutureWarning: elementwise comparison failed; returning scalar instead, but in the future will perform elementwise comparison\n",
      "  \n",
      "c:\\users\\sanch\\appdata\\local\\programs\\python\\python37\\lib\\site-packages\\ipykernel_launcher.py:3: FutureWarning: elementwise comparison failed; returning scalar instead, but in the future will perform elementwise comparison\n",
      "  This is separate from the ipykernel package so we can avoid doing imports until\n"
     ]
    }
   ],
   "source": [
    "# transform y_array into int type\n",
    "y_train[y_train=='ham'] = 0\n",
    "y_train[y_train=='spam'] = 1\n",
    "y_train = y_train.astype('int')"
   ]
  },
  {
   "cell_type": "code",
   "execution_count": 24,
   "metadata": {},
   "outputs": [
    {
     "ename": "NameError",
     "evalue": "name 'X_train_svd_doclen' is not defined",
     "output_type": "error",
     "traceback": [
      "\u001b[1;31m---------------------------------------------------------------------------\u001b[0m",
      "\u001b[1;31mNameError\u001b[0m                                 Traceback (most recent call last)",
      "\u001b[1;32m<ipython-input-24-2109766dcb6d>\u001b[0m in \u001b[0;36m<module>\u001b[1;34m\u001b[0m\n\u001b[0;32m      6\u001b[0m       \u001b[0mX_train_svd_scaled\u001b[0m\u001b[1;33m,\u001b[0m\u001b[1;33m\u001b[0m\u001b[1;33m\u001b[0m\u001b[0m\n\u001b[0;32m      7\u001b[0m       \u001b[0mX_train_svd_feat\u001b[0m\u001b[1;33m,\u001b[0m\u001b[1;33m\u001b[0m\u001b[1;33m\u001b[0m\u001b[0m\n\u001b[1;32m----> 8\u001b[1;33m       \u001b[0mX_train_svd_doclen\u001b[0m\u001b[1;33m\u001b[0m\u001b[1;33m\u001b[0m\u001b[0m\n\u001b[0m\u001b[0;32m      9\u001b[0m      ]\n\u001b[0;32m     10\u001b[0m \u001b[1;33m\u001b[0m\u001b[0m\n",
      "\u001b[1;31mNameError\u001b[0m: name 'X_train_svd_doclen' is not defined"
     ]
    }
   ],
   "source": [
    "Xs = [\n",
    "      X_train_feat, \n",
    "      X_train_bow, \n",
    "      X_train_bow_feat, \n",
    "      X_train_bow_doclen,\n",
    "      X_train_svd_scaled,\n",
    "      X_train_svd_feat,\n",
    "      X_train_svd_doclen\n",
    "     ]\n",
    "\n",
    "Xnames = [\n",
    "          'X_train_feat',       # 1. new feat\n",
    "          'X_train_bow',        # 2. bigrams\n",
    "          'X_train_bow_feat',   # 3. bigrams + new feats\n",
    "          'X_train_bow_doclen', # 4. bigrams + doc lens\n",
    "          'X_train_svd_scaled', # 5. svd\n",
    "          'X_train_svd_feat',   # 6. svd + new feats\n",
    "          'X_train_svd_doclen'  # 7. svd + doc lens\n",
    "         ]\n",
    "\n",
    "df = get_modeling_stats(Xs, Xnames, y_train)"
   ]
  },
  {
   "cell_type": "code",
   "execution_count": 11,
   "metadata": {},
   "outputs": [
    {
     "data": {
      "text/html": [
       "<div>\n",
       "<style scoped>\n",
       "    .dataframe tbody tr th:only-of-type {\n",
       "        vertical-align: middle;\n",
       "    }\n",
       "\n",
       "    .dataframe tbody tr th {\n",
       "        vertical-align: top;\n",
       "    }\n",
       "\n",
       "    .dataframe thead th {\n",
       "        text-align: right;\n",
       "    }\n",
       "</style>\n",
       "<table border=\"1\" class=\"dataframe\">\n",
       "  <thead>\n",
       "    <tr style=\"text-align: right;\">\n",
       "      <th></th>\n",
       "      <th>representations</th>\n",
       "      <th>accuracies</th>\n",
       "      <th>precisions</th>\n",
       "      <th>recalls</th>\n",
       "    </tr>\n",
       "  </thead>\n",
       "  <tbody>\n",
       "    <tr>\n",
       "      <th>0</th>\n",
       "      <td>X_train_feat</td>\n",
       "      <td>[0.8974, 0.8795, 0.8769, 0.8769, 0.8897, 0.866...</td>\n",
       "      <td>[0.6667, 0.5625, 0.5714, 0.5714, 0.6452, 0.5, ...</td>\n",
       "      <td>[0.4314, 0.3529, 0.2353, 0.3077, 0.3846, 0.307...</td>\n",
       "    </tr>\n",
       "    <tr>\n",
       "      <th>1</th>\n",
       "      <td>X_train_bow</td>\n",
       "      <td>[0.9769, 0.9872, 0.9744, 0.9897, 0.9872, 0.979...</td>\n",
       "      <td>[0.9375, 0.9792, 1.0, 1.0, 0.9796, 0.9783, 1.0...</td>\n",
       "      <td>[0.8824, 0.9216, 0.8039, 0.9231, 0.9231, 0.865...</td>\n",
       "    </tr>\n",
       "    <tr>\n",
       "      <th>2</th>\n",
       "      <td>X_train_bow_feat</td>\n",
       "      <td>[0.9795, 0.9795, 0.9718, 0.9872, 0.9872, 0.979...</td>\n",
       "      <td>[0.9574, 0.9388, 1.0, 1.0, 0.9796, 0.9583, 1.0...</td>\n",
       "      <td>[0.8824, 0.902, 0.7843, 0.9038, 0.9231, 0.8846...</td>\n",
       "    </tr>\n",
       "    <tr>\n",
       "      <th>3</th>\n",
       "      <td>X_train_svd_scaled</td>\n",
       "      <td>[0.959, 0.9718, 0.9564, 0.9641, 0.9641, 0.9718...</td>\n",
       "      <td>[0.9487, 0.9762, 1.0, 1.0, 0.975, 1.0, 1.0, 0....</td>\n",
       "      <td>[0.7255, 0.8039, 0.6667, 0.7308, 0.75, 0.7885,...</td>\n",
       "    </tr>\n",
       "    <tr>\n",
       "      <th>4</th>\n",
       "      <td>X_train_svd_feat</td>\n",
       "      <td>[0.9641, 0.9718, 0.959, 0.9718, 0.9744, 0.9538...</td>\n",
       "      <td>[0.8936, 0.9167, 0.973, 0.9767, 0.9565, 0.8696...</td>\n",
       "      <td>[0.8235, 0.8627, 0.7059, 0.8077, 0.8462, 0.769...</td>\n",
       "    </tr>\n",
       "  </tbody>\n",
       "</table>\n",
       "</div>"
      ],
      "text/plain": [
       "      representations                                         accuracies  \\\n",
       "0        X_train_feat  [0.8974, 0.8795, 0.8769, 0.8769, 0.8897, 0.866...   \n",
       "1         X_train_bow  [0.9769, 0.9872, 0.9744, 0.9897, 0.9872, 0.979...   \n",
       "2    X_train_bow_feat  [0.9795, 0.9795, 0.9718, 0.9872, 0.9872, 0.979...   \n",
       "3  X_train_svd_scaled  [0.959, 0.9718, 0.9564, 0.9641, 0.9641, 0.9718...   \n",
       "4    X_train_svd_feat  [0.9641, 0.9718, 0.959, 0.9718, 0.9744, 0.9538...   \n",
       "\n",
       "                                          precisions  \\\n",
       "0  [0.6667, 0.5625, 0.5714, 0.5714, 0.6452, 0.5, ...   \n",
       "1  [0.9375, 0.9792, 1.0, 1.0, 0.9796, 0.9783, 1.0...   \n",
       "2  [0.9574, 0.9388, 1.0, 1.0, 0.9796, 0.9583, 1.0...   \n",
       "3  [0.9487, 0.9762, 1.0, 1.0, 0.975, 1.0, 1.0, 0....   \n",
       "4  [0.8936, 0.9167, 0.973, 0.9767, 0.9565, 0.8696...   \n",
       "\n",
       "                                             recalls  \n",
       "0  [0.4314, 0.3529, 0.2353, 0.3077, 0.3846, 0.307...  \n",
       "1  [0.8824, 0.9216, 0.8039, 0.9231, 0.9231, 0.865...  \n",
       "2  [0.8824, 0.902, 0.7843, 0.9038, 0.9231, 0.8846...  \n",
       "3  [0.7255, 0.8039, 0.6667, 0.7308, 0.75, 0.7885,...  \n",
       "4  [0.8235, 0.8627, 0.7059, 0.8077, 0.8462, 0.769...  "
      ]
     },
     "execution_count": 11,
     "metadata": {},
     "output_type": "execute_result"
    }
   ],
   "source": [
    "df"
   ]
  },
  {
   "cell_type": "code",
   "execution_count": 12,
   "metadata": {},
   "outputs": [],
   "source": [
    "# calc means for plotting\n",
    "mean_accs  = [round(np.mean(x),4) for x in df.loc[:,\"accuracies\"]]\n",
    "mean_precs = [round(np.mean(x),4) for x in df.loc[:,\"precisions\"]]\n",
    "mean_recs  =  [round(np.mean(x),4) for x in df.loc[:,\"recalls\"]]"
   ]
  },
  {
   "cell_type": "code",
   "execution_count": 13,
   "metadata": {},
   "outputs": [
    {
     "data": {
      "image/png": "[encoded data removed]",
      "text/plain": [
       "<Figure size 864x432 with 1 Axes>"
      ]
     },
     "metadata": {
      "needs_background": "light"
     },
     "output_type": "display_data"
    }
   ],
   "source": [
    "import matplotlib.pyplot as plt \n",
    "\n",
    "plt.figure(figsize=(12, 6)) \n",
    "plt.plot(mean_accs, label=\"accuracy\")\n",
    "plt.plot(mean_precs, label=\"precision\")\n",
    "plt.plot(mean_recs, label=\"recall\")\n",
    "plt.title('Evaluating 5 representations with baseline logistic classifier')\n",
    "plt.xticks(np.arange(5), ('new feat', 'bigrams', 'bigrams+feat', 'svd', 'svd+feat'))\n",
    "plt.legend(loc=\"lower right\")\n",
    "plt.axis([0, 4, 0.6, 1.05])\n",
    "plt.show()"
   ]
  },
  {
   "cell_type": "markdown",
   "metadata": {},
   "source": [
    "As expected, the new features alone aren't too useful. The bag-of-bigrams perform about the same with the new features added; it is the svd that improves recall and possibly accuracy with the new features a bit. This might be a greater benefit with a more complex model like random forests. Precision-recall curves confirm this."
   ]
  },
  {
   "cell_type": "markdown",
   "metadata": {},
   "source": [
    "\n",
    "### Precision-Recall Curves"
   ]
  },
  {
   "cell_type": "code",
   "execution_count": 14,
   "metadata": {},
   "outputs": [],
   "source": [
    "from sklearn.metrics import precision_recall_curve\n",
    "from sklearn.metrics import plot_precision_recall_curve\n",
    "from sklearn.model_selection import train_test_split\n",
    "\n",
    "def plot_PR(X, y):\n",
    "    X_train, X_test, y_train, y_test = train_test_split(X, y, test_size=.2, random_state=42)\n",
    "    log_clf = LogisticRegression(solver=\"liblinear\", random_state=42)\n",
    "    log_clf.fit(X_train, y_train)\n",
    "    p = plot_precision_recall_curve(log_clf, X_test, y_test)"
   ]
  },
  {
   "cell_type": "code",
   "execution_count": 15,
   "metadata": {},
   "outputs": [
    {
     "data": {
      "image/png": "[encoded data removed]",
      "text/plain": [
       "<Figure size 432x288 with 1 Axes>"
      ]
     },
     "metadata": {
      "needs_background": "light"
     },
     "output_type": "display_data"
    }
   ],
   "source": [
    "plot_PR(X_train_feat, y_train)"
   ]
  },
  {
   "cell_type": "code",
   "execution_count": 16,
   "metadata": {},
   "outputs": [
    {
     "data": {
      "image/png": "[encoded data removed]",
      "text/plain": [
       "<Figure size 432x288 with 1 Axes>"
      ]
     },
     "metadata": {
      "needs_background": "light"
     },
     "output_type": "display_data"
    }
   ],
   "source": [
    "plot_PR(X_train_bow, y_train)"
   ]
  },
  {
   "cell_type": "code",
   "execution_count": 17,
   "metadata": {},
   "outputs": [
    {
     "data": {
      "image/png": "[encoded data removed]",
      "text/plain": [
       "<Figure size 432x288 with 1 Axes>"
      ]
     },
     "metadata": {
      "needs_background": "light"
     },
     "output_type": "display_data"
    }
   ],
   "source": [
    "plot_PR(X_train_bow_feat, y_train)"
   ]
  },
  {
   "cell_type": "code",
   "execution_count": 18,
   "metadata": {},
   "outputs": [
    {
     "data": {
      "image/png": "[encoded data removed]",
      "text/plain": [
       "<Figure size 432x288 with 1 Axes>"
      ]
     },
     "metadata": {
      "needs_background": "light"
     },
     "output_type": "display_data"
    }
   ],
   "source": [
    "plot_PR(X_train_svd_scaled, y_train)"
   ]
  },
  {
   "cell_type": "code",
   "execution_count": 19,
   "metadata": {},
   "outputs": [
    {
     "data": {
      "image/png": "[encoded data removed]",
      "text/plain": [
       "<Figure size 432x288 with 1 Axes>"
      ]
     },
     "metadata": {
      "needs_background": "light"
     },
     "output_type": "display_data"
    }
   ],
   "source": [
    "plot_PR(X_train_svd_feat, y_train)"
   ]
  },
  {
   "cell_type": "code",
   "execution_count": 20,
   "metadata": {},
   "outputs": [
    {
     "name": "stdout",
     "output_type": "stream",
     "text": [
      "Time elapsed: 0 m 21 s\n"
     ]
    }
   ],
   "source": [
    "mins, secs = divmod(time.time() - start_time, 60)\n",
    "print(f'Time elapsed: {mins:0.0f} m {secs:0.0f} s')"
   ]
  },
  {
   "cell_type": "markdown",
   "metadata": {},
   "source": [
    "---"
   ]
  }
 ],
 "metadata": {
  "kernelspec": {
   "display_name": "Python 3",
   "language": "python",
   "name": "python3"
  },
  "language_info": {
   "codemirror_mode": {
    "name": "ipython",
    "version": 3
   },
   "file_extension": ".py",
   "mimetype": "text/x-python",
   "name": "python",
   "nbconvert_exporter": "python",
   "pygments_lexer": "ipython3",
   "version": "3.7.3"
  }
 },
 "nbformat": 4,
 "nbformat_minor": 4
}
