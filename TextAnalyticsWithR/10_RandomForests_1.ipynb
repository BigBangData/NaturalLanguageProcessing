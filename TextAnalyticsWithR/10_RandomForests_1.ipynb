{
 "cells": [
  {
   "cell_type": "markdown",
   "metadata": {},
   "source": [
    "# Random Forests 1\n",
    "\n",
    "---\n",
    "\n",
    "__While the goals are to__:\n",
    "\n",
    "- Improve sensitivity\n",
    "- Consider the 12 possible representations\n",
    "- Build random forest models\n",
    "- Tune hyperparameters by conducting a grid search using cross validation\n",
    "- Save results for later evaluation\n",
    "\n",
    "__After some experimentation building random forests I found that__:\n",
    "\n",
    "- The goals above are too lofty\n",
    "- It takes too long to build random forests to test them on all 12 representations\n",
    "- There are too many hyperparameters to tune: one needs a decision process to home in on the most promising ones\n",
    "- Building simpler (shallower) forests yields lower scores: do params in shallower forests predict best params in deeper ones?\n",
    "\n",
    "__This notebook simply serves as a POC for methods to optimize for sensitivity__:\n",
    "\n",
    "I struggled with [Scikit-Learn's GridSearchCV](https://github.com/scikit-learn/scikit-learn/blob/0fb307bf3/sklearn/ensemble/_forest.py#L883) and my own DIY grid searches trying to optimize for sensitivity until I stumbled upon Kevin Arvai's great tutorial [Fine tuning a classifier in scikit-learn](https://towardsdatascience.com/fine-tuning-a-classifier-in-scikit-learn-66e048c21e65).\n",
    "\n",
    "- Kevin Arvai introduces two strategies:\n",
    "    1. GridSearchCV using the scoring argument\n",
    "    2. Adjust the decision threshold to identify the operating point\n",
    "\n",
    "\n",
    "- I'm conducting a POC of sorts by adapting Mr. Arvai's code here. Two changes so far:\n",
    "    1. Because I've already set aside the holdout test set to avoid data leakage, any references to \"test\" below actually mean \"validation\" (set, error, etc.)\n",
    "    2. In the first strategy, there's no need for the gridsearch wrapper: instead of running gridsearch all over again, we can just analyze the cv results and fit the model as desired.\n",
    "    \n",
    "__Performance Questions__:\n",
    "\n",
    "- is running gridsearch on random forests in *Jupyter Notebooks* just a bad idea?\n",
    "    - running .py scripts from the command line did not improve fit times\n",
    "- do fit times improve if we substitute *sparse matrices* for *numpy arrays*? Can we?\n",
    "    - we cannot;  TypeError: A sparse matrix was passed, but dense data is required\n",
    "- is `GridSearchCV` just a slow way to perform gridsearch, would a simpler DIY search without so many params be faster?\n"
   ]
  },
  {
   "cell_type": "markdown",
   "metadata": {},
   "source": [
    "## Setup"
   ]
  },
  {
   "cell_type": "code",
   "execution_count": 1,
   "metadata": {},
   "outputs": [
    {
     "name": "stdout",
     "output_type": "stream",
     "text": [
      "Revised on: 2021-01-02\n"
     ]
    }
   ],
   "source": [
    "import os\n",
    "import re\n",
    "import time\n",
    "import numpy as np\n",
    "import pandas as pd\n",
    "import scipy.sparse as sp\n",
    "import matplotlib.pyplot as plt \n",
    "plt.style.use(\"ggplot\")\n",
    "\n",
    "from datetime import datetime\n",
    "from scipy.sparse import csr_matrix\n",
    "from sklearn.model_selection import train_test_split, GridSearchCV, StratifiedKFold\n",
    "from sklearn.metrics import roc_curve, precision_recall_curve, auc, make_scorer\n",
    "from sklearn.metrics import recall_score, accuracy_score, precision_score, confusion_matrix\n",
    "from sklearn.ensemble import RandomForestClassifier\n",
    "\n",
    "dt_object = datetime.fromtimestamp(time.time())\n",
    "day, T = str(dt_object).split('.')[0].split(' ')\n",
    "print('Revised on: ' + day)"
   ]
  },
  {
   "cell_type": "markdown",
   "metadata": {},
   "source": [
    "## Load Data"
   ]
  },
  {
   "cell_type": "code",
   "execution_count": 2,
   "metadata": {},
   "outputs": [],
   "source": [
    "# load target\n",
    "raw_path = os.path.join(\"data\",\"1_raw\")\n",
    "filename = \"y_train.csv\"\n",
    "y = pd.read_csv(os.path.join(raw_path, filename))\n",
    "y = np.array(y.iloc[:,0].ravel())\n",
    "y[y=='ham'] = 0\n",
    "y[y=='spam'] = 1\n",
    "y = y.astype('int')\n",
    "\n",
    "# load 12 matrices\n",
    "proc_dir = os.path.join(\"data\",\"2_processed\")\n",
    "Xnames = [x for x in os.listdir(proc_dir) if re.search('.npz', x)]\n",
    "Xs = []\n",
    "for i, X in enumerate(Xnames):\n",
    "    path_ = os.path.join(proc_dir, Xnames[i])\n",
    "    Xs.append(sp.load_npz(path_))"
   ]
  },
  {
   "cell_type": "markdown",
   "metadata": {},
   "source": [
    "## Grid search random forest models optimizing sensitivity\n",
    "\n",
    "\n",
    "## Strategy 1: GridSearchCV\n",
    "\n",
    "Using the Bag-of-Trigrams only. Remembering it had 98.59% accuracy, 90.69% sensitivity (the best), and 99.79% specificity with the logistic classifier, which ran fast and used all data. "
   ]
  },
  {
   "cell_type": "code",
   "execution_count": 3,
   "metadata": {},
   "outputs": [
    {
     "data": {
      "text/plain": [
       "{'train_pos': 0.133, 'val_pos': 0.132, 'train_neg': 0.867, 'val_neg': 0.867}"
      ]
     },
     "execution_count": 3,
     "metadata": {},
     "output_type": "execute_result"
    }
   ],
   "source": [
    "# Bag-of-upto-Trigrams (2,000 terms)\n",
    "X_bot = Xs[0].toarray()\n",
    "\n",
    "# Split into training and validation sets\n",
    "X_train, X_val, y_train, y_val = train_test_split(X_bot, y, stratify=y)\n",
    "\n",
    "def check_target_distro(y_train, y_test):\n",
    "    train_pos = y_train.sum() / len(y_train)\n",
    "    val_pos = y_val.sum() / len(y_val)\n",
    "    train_neg = 1 - train_pos\n",
    "    val_neg = 1 - train_pos\n",
    "    return {'train_pos':train_pos.round(3),\n",
    "            'val_pos':val_pos.round(3),\n",
    "            'train_neg':train_neg.round(3),\n",
    "            'val_neg':val_neg.round(3)}\n",
    "\n",
    "# check distribution of target \n",
    "check_target_distro(y_train, y_val)"
   ]
  },
  {
   "cell_type": "markdown",
   "metadata": {},
   "source": [
    "__Main RandomForestClassifier Hyperparameters__:\n",
    "\n",
    "- *min_samples_split*: mininum number of samples required to split an internal node \n",
    "- *min_samples_leaf*: minimum number of samples required at a leaf node\n",
    "- *n_estimators*: number of trees\n",
    "- *max_depth*: maximum depth of trees\n",
    "- *max_features*: maximum number of features in a tree, known as `mtry` in the literature and in R\n",
    "- *criterion*: the information gain criterion, gini or entropy\n",
    "\n",
    "There are many others, [see sklearn.ensemble.RandomForestClassifier docs.](https://scikit-learn.org/stable/modules/generated/sklearn.ensemble.RandomForestClassifier.html)"
   ]
  },
  {
   "cell_type": "code",
   "execution_count": 8,
   "metadata": {},
   "outputs": [],
   "source": [
    "# instantiate estimator, set seed for reproducibility\n",
    "clf = RandomForestClassifier(n_jobs=-1, random_state=42)\n",
    "\n",
    "# setup shallow grid of params\n",
    "param_grid_shallow = {\n",
    "    'min_samples_split': [10, 20], #40],\n",
    "    'n_estimators' : [100, 250, 500],\n",
    "    'max_depth': [5, 10, 25],\n",
    "    'max_features': [100, 250] #, 500]\n",
    "}\n",
    "\n",
    "# setup scorers\n",
    "scorers = {\n",
    "    'acc': make_scorer(accuracy_score),\n",
    "    'tpr': make_scorer(recall_score, pos_label=1), # sensitivity, recall\n",
    "    'tnr': make_scorer(recall_score, pos_label=0) # specificity, selectivity\n",
    "}"
   ]
  },
  {
   "cell_type": "markdown",
   "metadata": {},
   "source": [
    "### 5-fold CV optimizing sensitivity with `refit`"
   ]
  },
  {
   "cell_type": "code",
   "execution_count": 9,
   "metadata": {},
   "outputs": [],
   "source": [
    "cv_folds = StratifiedKFold(n_splits=5)\n",
    "grid_search_clf = GridSearchCV(clf, param_grid_shallow, scoring=scorers, refit='tpr', \n",
    "                               cv=cv_folds, return_train_score=True, n_jobs=-1)"
   ]
  },
  {
   "cell_type": "code",
   "execution_count": 10,
   "metadata": {},
   "outputs": [
    {
     "name": "stdout",
     "output_type": "stream",
     "text": [
      "\n",
      "Elapsed: 12 m 54 s\n"
     ]
    }
   ],
   "source": [
    "start_gs = time.time()\n",
    "\n",
    "grid_search_clf.fit(X_train, y_train)\n",
    "\n",
    "mins, secs = divmod(time.time() - start_gs, 60)\n",
    "print(f'\\nElapsed: {mins:0.0f} m {secs:0.0f} s')"
   ]
  },
  {
   "cell_type": "code",
   "execution_count": 11,
   "metadata": {},
   "outputs": [
    {
     "data": {
      "text/plain": [
       "{'max_depth': 25,\n",
       " 'max_features': 250,\n",
       " 'min_samples_split': 10,\n",
       " 'n_estimators': 500}"
      ]
     },
     "execution_count": 11,
     "metadata": {},
     "output_type": "execute_result"
    }
   ],
   "source": [
    "# predict\n",
    "y_pred = grid_search_clf.predict(X_val)\n",
    "grid_search_clf.best_params_"
   ]
  },
  {
   "cell_type": "code",
   "execution_count": 12,
   "metadata": {},
   "outputs": [
    {
     "name": "stdout",
     "output_type": "stream",
     "text": [
      "     pred_neg  pred_pos\n",
      "neg       845         1\n",
      "pos        10       119\n"
     ]
    }
   ],
   "source": [
    "# confusion matrix on validation set\n",
    "print(pd.DataFrame(confusion_matrix(y_val, y_pred),\n",
    "                   columns=['pred_neg', 'pred_pos'],\n",
    "                   index=['neg', 'pos']))"
   ]
  },
  {
   "cell_type": "code",
   "execution_count": 13,
   "metadata": {},
   "outputs": [
    {
     "name": "stdout",
     "output_type": "stream",
     "text": [
      "accuracy: 0.9887\n",
      "sensitivity: 0.9225\n",
      "specificity: 0.9988\n"
     ]
    }
   ],
   "source": [
    "def print_eval_metrics(y_val, y_pred):\n",
    "    tn, fp, fn, tp = confusion_matrix(y_val, y_pred).ravel()\n",
    "    acc = (tp + tn) / (tp + tn + fp + fn)\n",
    "    tpr = tp / (tp + fn)\n",
    "    tnr = tn / (tn + fp)\n",
    "    print(f'accuracy: {acc:0.4f}')\n",
    "    print(f'sensitivity: {tpr:0.4f}')\n",
    "    print(f'specificity: {tnr:0.4f}')\n",
    "\n",
    "print_eval_metrics(y_val, y_pred)"
   ]
  },
  {
   "cell_type": "code",
   "execution_count": 14,
   "metadata": {},
   "outputs": [
    {
     "data": {
      "text/html": [
       "<div>\n",
       "<style scoped>\n",
       "    .dataframe tbody tr th:only-of-type {\n",
       "        vertical-align: middle;\n",
       "    }\n",
       "\n",
       "    .dataframe tbody tr th {\n",
       "        vertical-align: top;\n",
       "    }\n",
       "\n",
       "    .dataframe thead th {\n",
       "        text-align: right;\n",
       "    }\n",
       "</style>\n",
       "<table border=\"1\" class=\"dataframe\">\n",
       "  <thead>\n",
       "    <tr style=\"text-align: right;\">\n",
       "      <th></th>\n",
       "      <th>mean_val_acc</th>\n",
       "      <th>mean_val_tpr</th>\n",
       "      <th>mean_val_tnr</th>\n",
       "      <th>max_depth</th>\n",
       "      <th>max_features</th>\n",
       "      <th>min_samples_split</th>\n",
       "      <th>n_estimators</th>\n",
       "    </tr>\n",
       "  </thead>\n",
       "  <tbody>\n",
       "    <tr>\n",
       "      <th>32</th>\n",
       "      <td>0.981</td>\n",
       "      <td>0.871</td>\n",
       "      <td>0.998</td>\n",
       "      <td>25</td>\n",
       "      <td>250</td>\n",
       "      <td>10</td>\n",
       "      <td>500</td>\n",
       "    </tr>\n",
       "    <tr>\n",
       "      <th>31</th>\n",
       "      <td>0.981</td>\n",
       "      <td>0.868</td>\n",
       "      <td>0.998</td>\n",
       "      <td>25</td>\n",
       "      <td>250</td>\n",
       "      <td>10</td>\n",
       "      <td>250</td>\n",
       "    </tr>\n",
       "    <tr>\n",
       "      <th>30</th>\n",
       "      <td>0.980</td>\n",
       "      <td>0.868</td>\n",
       "      <td>0.997</td>\n",
       "      <td>25</td>\n",
       "      <td>250</td>\n",
       "      <td>10</td>\n",
       "      <td>100</td>\n",
       "    </tr>\n",
       "    <tr>\n",
       "      <th>27</th>\n",
       "      <td>0.981</td>\n",
       "      <td>0.866</td>\n",
       "      <td>0.998</td>\n",
       "      <td>25</td>\n",
       "      <td>100</td>\n",
       "      <td>20</td>\n",
       "      <td>100</td>\n",
       "    </tr>\n",
       "    <tr>\n",
       "      <th>24</th>\n",
       "      <td>0.981</td>\n",
       "      <td>0.866</td>\n",
       "      <td>0.999</td>\n",
       "      <td>25</td>\n",
       "      <td>100</td>\n",
       "      <td>10</td>\n",
       "      <td>100</td>\n",
       "    </tr>\n",
       "  </tbody>\n",
       "</table>\n",
       "</div>"
      ],
      "text/plain": [
       "    mean_val_acc  mean_val_tpr  mean_val_tnr max_depth max_features  \\\n",
       "32         0.981         0.871         0.998        25          250   \n",
       "31         0.981         0.868         0.998        25          250   \n",
       "30         0.980         0.868         0.997        25          250   \n",
       "27         0.981         0.866         0.998        25          100   \n",
       "24         0.981         0.866         0.999        25          100   \n",
       "\n",
       "   min_samples_split n_estimators  \n",
       "32                10          500  \n",
       "31                10          250  \n",
       "30                10          100  \n",
       "27                20          100  \n",
       "24                10          100  "
      ]
     },
     "execution_count": 14,
     "metadata": {},
     "output_type": "execute_result"
    }
   ],
   "source": [
    "def format_results(gridsearch, sort_by):\n",
    "    res_df = pd.DataFrame(gridsearch.cv_results_)\n",
    "    res_df = res_df[['mean_test_acc', 'mean_test_tpr', 'mean_test_tnr', \n",
    "                     'param_max_depth', 'param_max_features', \n",
    "                     'param_min_samples_split', 'param_n_estimators'\n",
    "                    ]]\n",
    "    res_df = res_df.sort_values(by=sort_by, ascending=False).round(3).head()\n",
    "    res_df = res_df.rename(\n",
    "        columns={\"mean_test_acc\": \"mean_val_acc\", \"mean_test_tpr\": \"mean_val_tpr\", \n",
    "                 \"mean_test_tnr\":\"mean_val_tnr\", \"param_max_depth\":\"max_depth\", \n",
    "                 \"param_max_features\":\"max_features\", \"param_min_samples_split\":\"min_samples_split\", \n",
    "                 \"param_n_estimators\":\"n_estimators\"\n",
    "                })\n",
    "    return res_df\n",
    "\n",
    "# top  results by mean validation sensitivity (desc)\n",
    "format_results(grid_search_clf, 'mean_test_tpr')"
   ]
  },
  {
   "cell_type": "markdown",
   "metadata": {},
   "source": [
    "\n",
    "## Strategy 2: Adjust the decision threshold to identify the operating point\n",
    "\n",
    "From Mr. Arvai's tutorial (my bold):\n",
    "\n",
    ">The `precision_recall_curve` and `roc_curve` are useful tools to visualize the __sensitivity-specificty tradeoff__ in the classifier. They help inform a data scientist where to set the __decision threshold__ of the model to maximize either sensitivity or specificity. This is called the __“operating point”__ of the model.\n",
    "\n",
    ">The key to understanding how to fine tune classifiers in scikit-learn is to understand the methods `.predict_proba()` and `.decision_function()`. These return the __raw probability__ that a sample is predicted to be in a class. This is an important distinction from the __absolute class predictions__ returned by calling the `.predict()` method.\n",
    "\n",
    "We start by creating an array of possible class scores."
   ]
  },
  {
   "cell_type": "code",
   "execution_count": 15,
   "metadata": {},
   "outputs": [],
   "source": [
    "# possible scores\n",
    "# certain classifiers, like SVC, user the .decision_function() method\n",
    "y_scores = grid_search_clf.predict_proba(X_val)[:, 1] # second col = prob of pos"
   ]
  },
  {
   "cell_type": "code",
   "execution_count": 16,
   "metadata": {},
   "outputs": [],
   "source": [
    "# generate precision-recall curve\n",
    "p, r, thresholds = precision_recall_curve(y_val, y_scores)"
   ]
  },
  {
   "cell_type": "code",
   "execution_count": 17,
   "metadata": {},
   "outputs": [],
   "source": [
    "def adjusted_classes(y_scores, t):\n",
    "    \"\"\"\n",
    "    This function adjusts class predictions based on the prediction threshold (t).\n",
    "    Will only work for binary classification problems.\n",
    "    \"\"\"\n",
    "    return [1 if y >= t else 0 for y in y_scores]\n",
    "\n",
    "def precision_recall_threshold(p, r, thresholds, t=0.5):\n",
    "    \"\"\"\n",
    "    plots the precision recall curve and shows the current value for each\n",
    "    by identifying the classifier's threshold (t).\n",
    "    \"\"\"\n",
    "    # generate new class predictions based on the adjusted_classes\n",
    "    # function above and view the resulting confusion matrix\n",
    "    y_pred_adj = adjusted_classes(y_scores, t)\n",
    "    \n",
    "    # print confusion matrix\n",
    "    print('Confusion Matrix:')\n",
    "    print(pd.DataFrame(confusion_matrix(y_val, y_pred_adj),\n",
    "                       columns=['pred_neg', 'pred_pos'], index=['neg', 'pos'])) \n",
    "    \n",
    "    # print eval metrics\n",
    "    print('\\nEvaluation metrics:')\n",
    "    print_eval_metrics(y_val, y_pred_adj)\n",
    "    \n",
    "    # plot the curve\n",
    "    plt.figure(figsize=(5, 5))\n",
    "    plt.title(\"Precision and Recall curve ^ = current threshold\")\n",
    "    plt.step(r, p, color='r', alpha=0.8, where='post')\n",
    "    plt.fill_between(r, p, step='post', alpha=0.1, color='b')\n",
    "    plt.ylim([0.5, 1.01]);\n",
    "    plt.xlim([0.5, 1.01]);\n",
    "    plt.xlabel('Recall');\n",
    "    plt.ylabel('Precision');\n",
    "    \n",
    "    # plot the current threshold on the line\n",
    "    close_default_clf = np.argmin(np.abs(thresholds - t))\n",
    "    plt.plot(r[close_default_clf], p[close_default_clf], '^', c='k', markersize=12)"
   ]
  },
  {
   "cell_type": "markdown",
   "metadata": {},
   "source": [
    "Re-execute the `precision_recall_threshold` function for several iterations, changing `t` each time, to tune the threshold until there's an acceptable number of false negatives."
   ]
  },
  {
   "cell_type": "code",
   "execution_count": 18,
   "metadata": {},
   "outputs": [
    {
     "name": "stdout",
     "output_type": "stream",
     "text": [
      "Confusion Matrix:\n",
      "     pred_neg  pred_pos\n",
      "neg       845         1\n",
      "pos        10       119\n",
      "\n",
      "Evaluation metrics:\n",
      "accuracy: 0.9887\n",
      "sensitivity: 0.9225\n",
      "specificity: 0.9988\n"
     ]
    },
    {
     "data": {
      "image/png": "[encoded data removed]",
      "text/plain": [
       "<Figure size 360x360 with 1 Axes>"
      ]
     },
     "metadata": {},
     "output_type": "display_data"
    }
   ],
   "source": [
    "precision_recall_threshold(p, r, thresholds, 0.50)"
   ]
  },
  {
   "cell_type": "code",
   "execution_count": 19,
   "metadata": {},
   "outputs": [
    {
     "name": "stdout",
     "output_type": "stream",
     "text": [
      "Confusion Matrix:\n",
      "     pred_neg  pred_pos\n",
      "neg       844         2\n",
      "pos         7       122\n",
      "\n",
      "Evaluation metrics:\n",
      "accuracy: 0.9908\n",
      "sensitivity: 0.9457\n",
      "specificity: 0.9976\n"
     ]
    },
    {
     "data": {
      "image/png": "[encoded data removed]",
      "text/plain": [
       "<Figure size 360x360 with 1 Axes>"
      ]
     },
     "metadata": {},
     "output_type": "display_data"
    }
   ],
   "source": [
    "precision_recall_threshold(p, r, thresholds, 0.40)"
   ]
  },
  {
   "cell_type": "code",
   "execution_count": 20,
   "metadata": {},
   "outputs": [
    {
     "name": "stdout",
     "output_type": "stream",
     "text": [
      "Confusion Matrix:\n",
      "     pred_neg  pred_pos\n",
      "neg       839         7\n",
      "pos         7       122\n",
      "\n",
      "Evaluation metrics:\n",
      "accuracy: 0.9856\n",
      "sensitivity: 0.9457\n",
      "specificity: 0.9917\n"
     ]
    },
    {
     "data": {
      "image/png": "[encoded data removed]",
      "text/plain": [
       "<Figure size 360x360 with 1 Axes>"
      ]
     },
     "metadata": {},
     "output_type": "display_data"
    }
   ],
   "source": [
    "precision_recall_threshold(p, r, thresholds, 0.30)"
   ]
  },
  {
   "cell_type": "code",
   "execution_count": 21,
   "metadata": {},
   "outputs": [
    {
     "name": "stdout",
     "output_type": "stream",
     "text": [
      "Confusion Matrix:\n",
      "     pred_neg  pred_pos\n",
      "neg       828        18\n",
      "pos         3       126\n",
      "\n",
      "Evaluation metrics:\n",
      "accuracy: 0.9785\n",
      "sensitivity: 0.9767\n",
      "specificity: 0.9787\n"
     ]
    },
    {
     "data": {
      "image/png": "[encoded data removed]",
      "text/plain": [
       "<Figure size 360x360 with 1 Axes>"
      ]
     },
     "metadata": {},
     "output_type": "display_data"
    }
   ],
   "source": [
    "precision_recall_threshold(p, r, thresholds, 0.20)"
   ]
  },
  {
   "cell_type": "code",
   "execution_count": 22,
   "metadata": {},
   "outputs": [
    {
     "name": "stdout",
     "output_type": "stream",
     "text": [
      "Confusion Matrix:\n",
      "     pred_neg  pred_pos\n",
      "neg       805        41\n",
      "pos         2       127\n",
      "\n",
      "Evaluation metrics:\n",
      "accuracy: 0.9559\n",
      "sensitivity: 0.9845\n",
      "specificity: 0.9515\n"
     ]
    },
    {
     "data": {
      "image/png": "[encoded data removed]",
      "text/plain": [
       "<Figure size 360x360 with 1 Axes>"
      ]
     },
     "metadata": {},
     "output_type": "display_data"
    }
   ],
   "source": [
    "precision_recall_threshold(p, r, thresholds, 0.10)"
   ]
  },
  {
   "cell_type": "markdown",
   "metadata": {},
   "source": [
    "---"
   ]
  }
 ],
 "metadata": {
  "kernelspec": {
   "display_name": "Python 3",
   "language": "python",
   "name": "python3"
  },
  "language_info": {
   "codemirror_mode": {
    "name": "ipython",
    "version": 3
   },
   "file_extension": ".py",
   "mimetype": "text/x-python",
   "name": "python",
   "nbconvert_exporter": "python",
   "pygments_lexer": "ipython3",
   "version": "3.7.3"
  }
 },
 "nbformat": 4,
 "nbformat_minor": 4
}
