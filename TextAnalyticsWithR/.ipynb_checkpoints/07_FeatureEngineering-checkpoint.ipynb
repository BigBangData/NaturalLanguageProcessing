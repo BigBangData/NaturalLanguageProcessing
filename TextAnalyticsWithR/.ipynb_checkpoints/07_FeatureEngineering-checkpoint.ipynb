{
 "cells": [
  {
   "cell_type": "markdown",
   "metadata": {},
   "source": [
    "# Feature Engineering\n",
    "\n",
    "---\n",
    "\n",
    "*Features*\n",
    "\n",
    "- 7 new featurs are created:\n",
    "    * document length, raw\n",
    "    * document length, clean\n",
    "    * token, number of\n",
    "    * token length, max\n",
    "    * token length, mean\n",
    "    * token length, std\n",
    "    * right-side ratio (rsr)\n",
    "        - see details about this curious metric in [this notebook](./Extra_The_QWERTY_Effect.ipynb)\n",
    "    \n",
    "*Results*\n",
    "\n",
    "- After some visualizations, the first feature (raw document length) appears to be the most useful in separating the target\n",
    "- The last feature (rsr) appears to be the least useful\n",
    "- These features will be evaluated in combination with Bag-of-Bigrams and SVD representations in the next notebook\n",
    " "
   ]
  },
  {
   "cell_type": "markdown",
   "metadata": {},
   "source": [
    "### Setup"
   ]
  },
  {
   "cell_type": "code",
   "execution_count": 1,
   "metadata": {},
   "outputs": [
    {
     "name": "stdout",
     "output_type": "stream",
     "text": [
      "Revised on: 2020-12-07\n"
     ]
    }
   ],
   "source": [
    "import os\n",
    "import time\n",
    "\n",
    "import numpy as np\n",
    "import pandas as pd\n",
    "\n",
    "from datetime import datetime\n",
    "\n",
    "start_time = time.time()\n",
    "dt_object = datetime.fromtimestamp(time.time())\n",
    "day, T = str(dt_object).split('.')[0].split(' ')\n",
    "print('Revised on: ' + day)"
   ]
  },
  {
   "cell_type": "markdown",
   "metadata": {},
   "source": [
    "### Load Data"
   ]
  },
  {
   "cell_type": "code",
   "execution_count": 2,
   "metadata": {},
   "outputs": [],
   "source": [
    "import json\n",
    "import urlextract\n",
    "from nltk.stem import WordNetLemmatizer\n",
    "\n",
    "def load_data(data):\n",
    "    raw_path = os.path.join(\"..\",\"data\",\"1_raw\")\n",
    "    filename = ''.join([data, \".csv\"])\n",
    "    out_dfm = pd.read_csv(os.path.join(raw_path, filename))\n",
    "    out_arr = np.array(out_dfm.iloc[:,0].ravel())\n",
    "    return out_arr\n",
    "\n",
    "X_train = load_data(\"X_train\")\n",
    "y_train = load_data(\"y_train\")\n",
    "\n",
    "# load contractions map for custom cleanup\n",
    "with open(\"contractions_map.json\") as f:\n",
    "    contractions_map = json.load(f)"
   ]
  },
  {
   "cell_type": "markdown",
   "metadata": {},
   "source": [
    "### New Features"
   ]
  },
  {
   "cell_type": "code",
   "execution_count": 3,
   "metadata": {},
   "outputs": [],
   "source": [
    "%%capture output\n",
    "\n",
    "# custom feature engineering module\n",
    "import feature_engineering as Fe\n",
    "\n",
    "try:\n",
    "    clean_train_docs, X_train_feat = Fe.DocumentToFeaturesCounterTransformer().fit_transform(X_train)\n",
    "except Warning as e:\n",
    "    pass # avoids RuntimeErrors because of divisions by zero in calculating means/stds"
   ]
  },
  {
   "cell_type": "markdown",
   "metadata": {},
   "source": [
    "### Impute `nan` with $0$"
   ]
  },
  {
   "cell_type": "code",
   "execution_count": 4,
   "metadata": {},
   "outputs": [
    {
     "data": {
      "text/plain": [
       "[(0, \"K come to nordstrom when you're done\"),\n",
       " (1, ':-) :-)'),\n",
       " (2, 'Okay... I booked all already... Including the one at bugis.')]"
      ]
     },
     "execution_count": 4,
     "metadata": {},
     "output_type": "execute_result"
    }
   ],
   "source": [
    "[(ix, val) for ix, val in enumerate(X_train[12:15])]"
   ]
  },
  {
   "cell_type": "code",
   "execution_count": 5,
   "metadata": {},
   "outputs": [
    {
     "data": {
      "text/plain": [
       "[(0, 'k come to nordstrom when you are done'),\n",
       " (1, ''),\n",
       " (2, 'okay i booked all already including the one at bugis')]"
      ]
     },
     "execution_count": 5,
     "metadata": {},
     "output_type": "execute_result"
    }
   ],
   "source": [
    "[(ix, val) for ix, val in enumerate(clean_train_docs[12:15])]"
   ]
  },
  {
   "cell_type": "markdown",
   "metadata": {},
   "source": [
    "In the new feature space - columns:\n",
    "1. Document length, raw\n",
    "2. Document length, clean\n",
    "3. Number of tokens\n",
    "4. Token length, max\n",
    "5. Token length, mean\n",
    "6. Token length, std\n",
    "7. Right-side ratio"
   ]
  },
  {
   "cell_type": "code",
   "execution_count": 6,
   "metadata": {},
   "outputs": [
    {
     "name": "stdout",
     "output_type": "stream",
     "text": [
      "[[36.     37.      8.      9.      3.75    2.222   0.5   ]\n",
      " [ 7.      0.      0.      0.         nan     nan  0.    ]\n",
      " [59.     52.     10.      9.      4.3     2.3259  0.5116]]\n"
     ]
    }
   ],
   "source": [
    "print(X_train_feat[12:15])"
   ]
  },
  {
   "cell_type": "code",
   "execution_count": 7,
   "metadata": {},
   "outputs": [
    {
     "name": "stdout",
     "output_type": "stream",
     "text": [
      "[[36.     37.      8.      9.      3.75    2.222   0.5   ]\n",
      " [ 7.      0.      0.      0.      0.      0.      0.    ]\n",
      " [59.     52.     10.      9.      4.3     2.3259  0.5116]]\n"
     ]
    }
   ],
   "source": [
    "# impute with zeros\n",
    "X_train_feat[np.isnan(X_train_feat)] = 0\n",
    "print(X_train_feat[12:15])"
   ]
  },
  {
   "cell_type": "markdown",
   "metadata": {},
   "source": [
    "### Visualising new features"
   ]
  },
  {
   "cell_type": "code",
   "execution_count": 8,
   "metadata": {},
   "outputs": [],
   "source": [
    "viz = pd.DataFrame(X_train_feat,\n",
    "                   columns=[\"doclen_raw\",\"doclen_cln\",\n",
    "                             \"n_tokens\",\"token_maxlen\",\n",
    "                             \"token_meanlen\",\"token_stdlen\",\"rsr\"])\n",
    "# reload labels\n",
    "y_train_str = load_data(\"y_train\")\n",
    "viz[\"target\"] = y_train_str"
   ]
  },
  {
   "cell_type": "code",
   "execution_count": 9,
   "metadata": {},
   "outputs": [
    {
     "data": {
      "text/html": [
       "<div>\n",
       "<style scoped>\n",
       "    .dataframe tbody tr th:only-of-type {\n",
       "        vertical-align: middle;\n",
       "    }\n",
       "\n",
       "    .dataframe tbody tr th {\n",
       "        vertical-align: top;\n",
       "    }\n",
       "\n",
       "    .dataframe thead th {\n",
       "        text-align: right;\n",
       "    }\n",
       "</style>\n",
       "<table border=\"1\" class=\"dataframe\">\n",
       "  <thead>\n",
       "    <tr style=\"text-align: right;\">\n",
       "      <th></th>\n",
       "      <th>doclen_raw</th>\n",
       "      <th>doclen_cln</th>\n",
       "      <th>n_tokens</th>\n",
       "      <th>token_maxlen</th>\n",
       "      <th>token_meanlen</th>\n",
       "      <th>token_stdlen</th>\n",
       "      <th>rsr</th>\n",
       "      <th>target</th>\n",
       "    </tr>\n",
       "  </thead>\n",
       "  <tbody>\n",
       "    <tr>\n",
       "      <th>0</th>\n",
       "      <td>53.0</td>\n",
       "      <td>50.0</td>\n",
       "      <td>9.0</td>\n",
       "      <td>9.0</td>\n",
       "      <td>4.6667</td>\n",
       "      <td>2.2111</td>\n",
       "      <td>0.4524</td>\n",
       "      <td>ham</td>\n",
       "    </tr>\n",
       "    <tr>\n",
       "      <th>1</th>\n",
       "      <td>160.0</td>\n",
       "      <td>155.0</td>\n",
       "      <td>33.0</td>\n",
       "      <td>7.0</td>\n",
       "      <td>3.7273</td>\n",
       "      <td>1.3545</td>\n",
       "      <td>0.4309</td>\n",
       "      <td>spam</td>\n",
       "    </tr>\n",
       "    <tr>\n",
       "      <th>2</th>\n",
       "      <td>75.0</td>\n",
       "      <td>69.0</td>\n",
       "      <td>14.0</td>\n",
       "      <td>7.0</td>\n",
       "      <td>4.0000</td>\n",
       "      <td>1.7321</td>\n",
       "      <td>0.5000</td>\n",
       "      <td>ham</td>\n",
       "    </tr>\n",
       "    <tr>\n",
       "      <th>3</th>\n",
       "      <td>37.0</td>\n",
       "      <td>37.0</td>\n",
       "      <td>8.0</td>\n",
       "      <td>8.0</td>\n",
       "      <td>3.7500</td>\n",
       "      <td>2.4367</td>\n",
       "      <td>0.4333</td>\n",
       "      <td>ham</td>\n",
       "    </tr>\n",
       "    <tr>\n",
       "      <th>4</th>\n",
       "      <td>73.0</td>\n",
       "      <td>65.0</td>\n",
       "      <td>13.0</td>\n",
       "      <td>8.0</td>\n",
       "      <td>4.0769</td>\n",
       "      <td>1.8589</td>\n",
       "      <td>0.4906</td>\n",
       "      <td>ham</td>\n",
       "    </tr>\n",
       "  </tbody>\n",
       "</table>\n",
       "</div>"
      ],
      "text/plain": [
       "   doclen_raw  doclen_cln  n_tokens  token_maxlen  token_meanlen  \\\n",
       "0        53.0        50.0       9.0           9.0         4.6667   \n",
       "1       160.0       155.0      33.0           7.0         3.7273   \n",
       "2        75.0        69.0      14.0           7.0         4.0000   \n",
       "3        37.0        37.0       8.0           8.0         3.7500   \n",
       "4        73.0        65.0      13.0           8.0         4.0769   \n",
       "\n",
       "   token_stdlen     rsr target  \n",
       "0        2.2111  0.4524    ham  \n",
       "1        1.3545  0.4309   spam  \n",
       "2        1.7321  0.5000    ham  \n",
       "3        2.4367  0.4333    ham  \n",
       "4        1.8589  0.4906    ham  "
      ]
     },
     "execution_count": 9,
     "metadata": {},
     "output_type": "execute_result"
    }
   ],
   "source": [
    "viz.head()"
   ]
  },
  {
   "cell_type": "code",
   "execution_count": 10,
   "metadata": {},
   "outputs": [
    {
     "data": {
      "text/html": [
       "<div>\n",
       "<style scoped>\n",
       "    .dataframe tbody tr th:only-of-type {\n",
       "        vertical-align: middle;\n",
       "    }\n",
       "\n",
       "    .dataframe tbody tr th {\n",
       "        vertical-align: top;\n",
       "    }\n",
       "\n",
       "    .dataframe thead th {\n",
       "        text-align: right;\n",
       "    }\n",
       "</style>\n",
       "<table border=\"1\" class=\"dataframe\">\n",
       "  <thead>\n",
       "    <tr style=\"text-align: right;\">\n",
       "      <th></th>\n",
       "      <th>doclen_raw</th>\n",
       "      <th>doclen_cln</th>\n",
       "      <th>n_tokens</th>\n",
       "      <th>token_maxlen</th>\n",
       "      <th>token_meanlen</th>\n",
       "      <th>token_stdlen</th>\n",
       "      <th>rsr</th>\n",
       "    </tr>\n",
       "  </thead>\n",
       "  <tbody>\n",
       "    <tr>\n",
       "      <th>count</th>\n",
       "      <td>3900.000000</td>\n",
       "      <td>3900.000000</td>\n",
       "      <td>3900.000000</td>\n",
       "      <td>3900.000000</td>\n",
       "      <td>3900.000000</td>\n",
       "      <td>3900.000000</td>\n",
       "      <td>3900.000000</td>\n",
       "    </tr>\n",
       "    <tr>\n",
       "      <th>mean</th>\n",
       "      <td>79.714359</td>\n",
       "      <td>75.913333</td>\n",
       "      <td>15.860000</td>\n",
       "      <td>7.736667</td>\n",
       "      <td>3.834410</td>\n",
       "      <td>1.791610</td>\n",
       "      <td>0.475802</td>\n",
       "    </tr>\n",
       "    <tr>\n",
       "      <th>std</th>\n",
       "      <td>58.108675</td>\n",
       "      <td>55.704255</td>\n",
       "      <td>11.300593</td>\n",
       "      <td>2.620698</td>\n",
       "      <td>0.690138</td>\n",
       "      <td>0.616968</td>\n",
       "      <td>0.087486</td>\n",
       "    </tr>\n",
       "    <tr>\n",
       "      <th>min</th>\n",
       "      <td>2.000000</td>\n",
       "      <td>0.000000</td>\n",
       "      <td>0.000000</td>\n",
       "      <td>0.000000</td>\n",
       "      <td>0.000000</td>\n",
       "      <td>0.000000</td>\n",
       "      <td>0.000000</td>\n",
       "    </tr>\n",
       "    <tr>\n",
       "      <th>25%</th>\n",
       "      <td>35.000000</td>\n",
       "      <td>33.750000</td>\n",
       "      <td>7.000000</td>\n",
       "      <td>6.000000</td>\n",
       "      <td>3.400000</td>\n",
       "      <td>1.414200</td>\n",
       "      <td>0.424575</td>\n",
       "    </tr>\n",
       "    <tr>\n",
       "      <th>50%</th>\n",
       "      <td>61.000000</td>\n",
       "      <td>57.000000</td>\n",
       "      <td>12.000000</td>\n",
       "      <td>7.000000</td>\n",
       "      <td>3.777800</td>\n",
       "      <td>1.758200</td>\n",
       "      <td>0.471400</td>\n",
       "    </tr>\n",
       "    <tr>\n",
       "      <th>75%</th>\n",
       "      <td>121.000000</td>\n",
       "      <td>114.000000</td>\n",
       "      <td>23.000000</td>\n",
       "      <td>9.000000</td>\n",
       "      <td>4.200000</td>\n",
       "      <td>2.103400</td>\n",
       "      <td>0.520100</td>\n",
       "    </tr>\n",
       "    <tr>\n",
       "      <th>max</th>\n",
       "      <td>790.000000</td>\n",
       "      <td>781.000000</td>\n",
       "      <td>172.000000</td>\n",
       "      <td>37.000000</td>\n",
       "      <td>10.500000</td>\n",
       "      <td>6.676200</td>\n",
       "      <td>1.000000</td>\n",
       "    </tr>\n",
       "  </tbody>\n",
       "</table>\n",
       "</div>"
      ],
      "text/plain": [
       "        doclen_raw   doclen_cln     n_tokens  token_maxlen  token_meanlen  \\\n",
       "count  3900.000000  3900.000000  3900.000000   3900.000000    3900.000000   \n",
       "mean     79.714359    75.913333    15.860000      7.736667       3.834410   \n",
       "std      58.108675    55.704255    11.300593      2.620698       0.690138   \n",
       "min       2.000000     0.000000     0.000000      0.000000       0.000000   \n",
       "25%      35.000000    33.750000     7.000000      6.000000       3.400000   \n",
       "50%      61.000000    57.000000    12.000000      7.000000       3.777800   \n",
       "75%     121.000000   114.000000    23.000000      9.000000       4.200000   \n",
       "max     790.000000   781.000000   172.000000     37.000000      10.500000   \n",
       "\n",
       "       token_stdlen          rsr  \n",
       "count   3900.000000  3900.000000  \n",
       "mean       1.791610     0.475802  \n",
       "std        0.616968     0.087486  \n",
       "min        0.000000     0.000000  \n",
       "25%        1.414200     0.424575  \n",
       "50%        1.758200     0.471400  \n",
       "75%        2.103400     0.520100  \n",
       "max        6.676200     1.000000  "
      ]
     },
     "execution_count": 10,
     "metadata": {},
     "output_type": "execute_result"
    }
   ],
   "source": [
    "viz.describe()"
   ]
  },
  {
   "cell_type": "code",
   "execution_count": 11,
   "metadata": {},
   "outputs": [],
   "source": [
    "# separate out positives and negatives for plotting\n",
    "X_pos = viz[viz.target == \"spam\"]\n",
    "X_neg = viz[viz.target == \"ham\"]"
   ]
  },
  {
   "cell_type": "code",
   "execution_count": 12,
   "metadata": {},
   "outputs": [],
   "source": [
    "import matplotlib.pyplot as plt\n",
    "%matplotlib inline\n",
    "\n",
    "def plot_target_hist(X_pos, X_neg, feat_name, bins=100, log_=False):\n",
    "    \n",
    "    if log_:\n",
    "        pos_ = np.log(X_pos[feat_name])\n",
    "        neg_ = np.log(X_neg[feat_name])\n",
    "        xlab = ' '.join([\"Log\", feat_name])\n",
    "    else:\n",
    "        pos_ = X_pos[feat_name]\n",
    "        neg_ = X_neg[feat_name]\n",
    "        xlab = feat_name\n",
    "        \n",
    "    plt.figure(figsize=(12, 6))    \n",
    "    plt.hist(pos_, bins=bins, alpha=0.5, label=\"spam\")\n",
    "    plt.hist(neg_, bins=bins, alpha=0.5, label=\"ham\")\n",
    "    plt.xlabel(xlab, size=14)\n",
    "    plt.ylabel(\"Count\", size=14)\n",
    "    plt.legend(loc='upper right')\n",
    "    plt.show()"
   ]
  },
  {
   "cell_type": "code",
   "execution_count": 13,
   "metadata": {},
   "outputs": [
    {
     "data": {
      "image/png": "[encoded data removed]",
      "text/plain": [
       "<Figure size 864x432 with 1 Axes>"
      ]
     },
     "metadata": {
      "needs_background": "light"
     },
     "output_type": "display_data"
    }
   ],
   "source": [
    "plot_target_hist(X_pos, X_neg, \"doclen_raw\")"
   ]
  },
  {
   "cell_type": "code",
   "execution_count": 14,
   "metadata": {},
   "outputs": [
    {
     "data": {
      "image/png": "[encoded data removed]",
      "text/plain": [
       "<Figure size 864x432 with 1 Axes>"
      ]
     },
     "metadata": {
      "needs_background": "light"
     },
     "output_type": "display_data"
    }
   ],
   "source": [
    "plot_target_hist(X_pos, X_neg, \"doclen_raw\", log_=True)"
   ]
  },
  {
   "cell_type": "code",
   "execution_count": 15,
   "metadata": {},
   "outputs": [
    {
     "data": {
      "image/png": "[encoded data removed]",
      "text/plain": [
       "<Figure size 864x432 with 1 Axes>"
      ]
     },
     "metadata": {
      "needs_background": "light"
     },
     "output_type": "display_data"
    }
   ],
   "source": [
    "plot_target_hist(X_pos, X_neg, \"doclen_cln\")"
   ]
  },
  {
   "cell_type": "code",
   "execution_count": 16,
   "metadata": {},
   "outputs": [
    {
     "data": {
      "image/png": "[encoded data removed]",
      "text/plain": [
       "<Figure size 864x432 with 1 Axes>"
      ]
     },
     "metadata": {
      "needs_background": "light"
     },
     "output_type": "display_data"
    }
   ],
   "source": [
    "plot_target_hist(X_pos, X_neg, \"n_tokens\")"
   ]
  },
  {
   "cell_type": "code",
   "execution_count": 17,
   "metadata": {},
   "outputs": [
    {
     "data": {
      "image/png": "[encoded data removed]",
      "text/plain": [
       "<Figure size 864x432 with 1 Axes>"
      ]
     },
     "metadata": {
      "needs_background": "light"
     },
     "output_type": "display_data"
    }
   ],
   "source": [
    "plot_target_hist(X_pos, X_neg, \"token_maxlen\")"
   ]
  },
  {
   "cell_type": "code",
   "execution_count": 18,
   "metadata": {},
   "outputs": [
    {
     "data": {
      "image/png": "[encoded data removed]",
      "text/plain": [
       "<Figure size 864x432 with 1 Axes>"
      ]
     },
     "metadata": {
      "needs_background": "light"
     },
     "output_type": "display_data"
    }
   ],
   "source": [
    "plot_target_hist(X_pos, X_neg, \"token_meanlen\")"
   ]
  },
  {
   "cell_type": "code",
   "execution_count": 19,
   "metadata": {},
   "outputs": [
    {
     "data": {
      "image/png": "[encoded data removed]",
      "text/plain": [
       "<Figure size 864x432 with 1 Axes>"
      ]
     },
     "metadata": {
      "needs_background": "light"
     },
     "output_type": "display_data"
    }
   ],
   "source": [
    "plot_target_hist(X_pos, X_neg, \"token_stdlen\")"
   ]
  },
  {
   "cell_type": "code",
   "execution_count": 20,
   "metadata": {},
   "outputs": [
    {
     "data": {
      "image/png": "[encoded data removed]",
      "text/plain": [
       "<Figure size 864x432 with 1 Axes>"
      ]
     },
     "metadata": {
      "needs_background": "light"
     },
     "output_type": "display_data"
    }
   ],
   "source": [
    "plot_target_hist(X_pos, X_neg, \"rsr\")"
   ]
  },
  {
   "cell_type": "markdown",
   "metadata": {},
   "source": [
    "It's clear that some of the new features are more useful than others. The right-side ratio is probably the least informative with regards to the target, and the most informative is probably just the raw document length."
   ]
  },
  {
   "cell_type": "markdown",
   "metadata": {},
   "source": [
    "---"
   ]
  },
  {
   "cell_type": "code",
   "execution_count": 21,
   "metadata": {},
   "outputs": [
    {
     "name": "stdout",
     "output_type": "stream",
     "text": [
      "Time elapsed: 0 m 17 s\n"
     ]
    }
   ],
   "source": [
    "mins, secs = divmod(time.time() - start_time, 60)\n",
    "print(f'Time elapsed: {mins:0.0f} m {secs:0.0f} s')"
   ]
  }
 ],
 "metadata": {
  "kernelspec": {
   "display_name": "Python 3",
   "language": "python",
   "name": "python3"
  },
  "language_info": {
   "codemirror_mode": {
    "name": "ipython",
    "version": 3
   },
   "file_extension": ".py",
   "mimetype": "text/x-python",
   "name": "python",
   "nbconvert_exporter": "python",
   "pygments_lexer": "ipython3",
   "version": "3.7.3"
  }
 },
 "nbformat": 4,
 "nbformat_minor": 4
}
