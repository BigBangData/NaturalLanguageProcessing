{
 "cells": [
  {
   "cell_type": "markdown",
   "metadata": {},
   "source": [
    "# Cleanup & Preprocess with Ngrams\n",
    "\n",
    "\n",
    "*Purpose*\n",
    "- generalize the **DocumentToBigramCounterTransformer** class to a **DocumentToNgramCounterTransformer** class. \n",
    "\n",
    "*Concerns*\n",
    "- has same issues as Bigram class (stop words in Ngrams, no Ngram-only option)\n",
    "- also noticed other transformations might not have worked, like expand_contractions (Ex. \"havent_done\"); why?\n",
    "- potentially slower because of the for loop in `self.n_grams`\n",
    "\n",
    "*Results*\n",
    "\n",
    "---"
   ]
  },
  {
   "cell_type": "code",
   "execution_count": 1,
   "metadata": {},
   "outputs": [],
   "source": [
    "import re\n",
    "import os\n",
    "import time\n",
    "import json\n",
    "\n",
    "import numpy as np\n",
    "import pandas as pd\n",
    "\n",
    "import urlextract\n",
    "from html import unescape\n",
    "\n",
    "from nltk import ngrams\n",
    "from nltk.corpus import stopwords\n",
    "from nltk.tokenize import word_tokenize\n",
    "from nltk.stem import WordNetLemmatizer\n",
    "\n",
    "import cleanup_module as Cmod\n",
    "\n",
    "from scipy.sparse import csr_matrix\n",
    "from collections import Counter\n",
    "\n",
    "from sklearn.pipeline import Pipeline\n",
    "from sklearn.base import BaseEstimator, TransformerMixin\n",
    "from sklearn.feature_extraction.text import TfidfTransformer"
   ]
  },
  {
   "cell_type": "markdown",
   "metadata": {},
   "source": [
    "---"
   ]
  },
  {
   "cell_type": "markdown",
   "metadata": {},
   "source": [
    "### Load Data"
   ]
  },
  {
   "cell_type": "code",
   "execution_count": 2,
   "metadata": {},
   "outputs": [],
   "source": [
    "with open(\"contractions_map.json\") as f:\n",
    "    contractions_map = json.load(f)\n",
    "\n",
    "url_extractor = urlextract.URLExtract()\n",
    "lemmatizer = WordNetLemmatizer()"
   ]
  },
  {
   "cell_type": "code",
   "execution_count": 3,
   "metadata": {},
   "outputs": [],
   "source": [
    "# load X, y train subsets\n",
    "raw_path = os.path.join(\"..\",\"data\",\"1_raw\")\n",
    "X_train = pd.read_csv(os.path.join(raw_path, \"X_train.csv\"))\n",
    "y_train = pd.read_csv(os.path.join(raw_path, \"y_train.csv\"))\n",
    "\n",
    "# create arrays\n",
    "X_array = np.array(X_train.iloc[:,0]).ravel()\n",
    "y_array = np.array(y_train.iloc[:,0]).ravel()"
   ]
  },
  {
   "cell_type": "markdown",
   "metadata": {},
   "source": [
    "### N-grams"
   ]
  },
  {
   "cell_type": "code",
   "execution_count": 4,
   "metadata": {},
   "outputs": [],
   "source": [
    "from sklearn.naive_bayes import MultinomialNB\n",
    "from sklearn.linear_model import LogisticRegression\n",
    "from sklearn.model_selection import cross_val_score"
   ]
  },
  {
   "cell_type": "code",
   "execution_count": 14,
   "metadata": {},
   "outputs": [],
   "source": [
    "def gridsearch_ngrams(X_array, y_array, n_grams, vocab_sizes):\n",
    "    \"\"\"Grid searches for a given n_gram value, varying vocab_sizes \n",
    "       Using BoW and Tf-Idf representations\n",
    "       Naive Bayes and Logistic Regression baseline models \n",
    "       Performs 5-fold cross validation\n",
    "       Returns dataframe with mean accuracies, fit and modeling times\n",
    "    \"\"\"\n",
    "    T1 = time.time()\n",
    "    \n",
    "    # instantiate lists\n",
    "    bow_fit_times, tfidf_fit_times, bow_mod_times, tfidf_mod_times = [], [], [], []\n",
    "    NB_bow, LR_bow, NB_tfidf, LR_tfidf = [], [], [], []\n",
    "    \n",
    "    for vocab_size in vocab_sizes:\n",
    "        pipe = Pipeline([('counter', Cmod.DocumentToNgramCounterTransformer(n_grams=n_grams)),\n",
    "                         ('bow', Cmod.WordCounterToVectorTransformer(vocabulary_size=vocab_size)),\n",
    "                         ('tfidf', TfidfTransformer())])  \n",
    "        # BoW fit\n",
    "        bow_fit_start = time.time()\n",
    "        X_counter = pipe['counter'].fit_transform(X_array)\n",
    "        X_bow = pipe['bow'].fit_transform(X_counter)\n",
    "        bow_fit_times.append(round(time.time() - bow_fit_start, 1))\n",
    "        \n",
    "        # Tfidf fit\n",
    "        tfidf_fit_start = time.time()\n",
    "        X_tfidf = pipe['tfidf'].fit_transform(X_bow)\n",
    "        tfidf_fit_times.append(round(time.time() - tfidf_fit_start, 1))\n",
    "        \n",
    "        # instantiate models\n",
    "        NB_clf = MultinomialNB()\n",
    "        log_clf = LogisticRegression(solver=\"liblinear\", random_state=42) \n",
    "        \n",
    "        # BoW modeling\n",
    "        bow_mod_start = time.time()\n",
    "        bow_NBscores = cross_val_score(NB_clf, X_bow, y_array, cv=5, verbose=0, scoring='accuracy', n_jobs=-1)\n",
    "        bow_LRscores = cross_val_score(log_clf, X_bow, y_array, cv=5, verbose=0, scoring='accuracy', n_jobs=-1)     \n",
    "        NB_bow.append(round(bow_NBscores.mean(), 4))\n",
    "        LR_bow.append(round(bow_LRscores.mean(), 4))\n",
    "        bow_mod_times.append(round(time.time() - bow_mod_start, 1))\n",
    "        \n",
    "        # Tfidf modeling\n",
    "        tfidf_mod_start = time.time()\n",
    "        tfidf_NBscores = cross_val_score(NB_clf, X_tfidf, y_array, cv=5, verbose=0, scoring='accuracy', n_jobs=-1)\n",
    "        tfidf_LRscores = cross_val_score(log_clf, X_tfidf, y_array, cv=5, verbose=0, scoring='accuracy', n_jobs=-1)     \n",
    "        NB_tfidf.append(round(tfidf_NBscores.mean(), 4))\n",
    "        LR_tfidf.append(round(tfidf_LRscores.mean(), 4))\n",
    "        tfidf_mod_times.append(round(time.time() - tfidf_mod_start, 1))\n",
    "             \n",
    "    df = pd.DataFrame({\"ngram\":n_grams,\n",
    "                       \"vocab_size\":vocab_sizes,\n",
    "                       \"bow_fit_time\":bow_fit_times,\n",
    "                       \"tfidf_fit_time\":tfidf_fit_times,\n",
    "                       \"bow_mod_time\":bow_mod_times,\n",
    "                       \"tfidf_mod_time\":tfidf_mod_times,\n",
    "                       \"NB_bow\":NB_bow,\n",
    "                       \"LR_bow\":LR_bow,\n",
    "                       \"NB_tfidf\":NB_tfidf,\n",
    "                       \"LR_tfidf\":LR_tfidf\n",
    "                      })\n",
    "    \n",
    "    mins, secs = divmod(time.time() - T1, 60)\n",
    "    print(f'Elapsed: {mins:0.0f} m {secs:0.0f} s')\n",
    "    return df"
   ]
  },
  {
   "cell_type": "code",
   "execution_count": 25,
   "metadata": {},
   "outputs": [],
   "source": [
    "vocab_sizes = list(range(100, 5100, 100))"
   ]
  },
  {
   "cell_type": "code",
   "execution_count": 26,
   "metadata": {},
   "outputs": [
    {
     "name": "stderr",
     "output_type": "stream",
     "text": [
      "ERROR:root:Internal Python error in the inspect module.\n",
      "Below is the traceback from this internal error.\n",
      "\n"
     ]
    },
    {
     "name": "stdout",
     "output_type": "stream",
     "text": [
      "Traceback (most recent call last):\n",
      "  File \"c:\\users\\sanch\\appdata\\local\\programs\\python\\python37\\lib\\site-packages\\IPython\\core\\interactiveshell.py\", line 3331, in run_code\n",
      "    exec(code_obj, self.user_global_ns, self.user_ns)\n",
      "  File \"<ipython-input-26-a9984a738e89>\", line 1, in <module>\n",
      "    bigram_df = gridsearch_ngrams(X_array, y_array, n_grams=2, vocab_sizes=vocab_sizes)\n",
      "  File \"<ipython-input-14-42e649cf327a>\", line 21, in gridsearch_ngrams\n",
      "    X_bow = pipe['bow'].fit_transform(X_counter)\n",
      "  File \"c:\\users\\sanch\\appdata\\local\\programs\\python\\python37\\lib\\site-packages\\sklearn\\base.py\", line 690, in fit_transform\n",
      "    return self.fit(X, **fit_params).transform(X)\n",
      "  File \"C:\\Users\\sanch\\Documents\\GitHub\\NaturalLanguageProcessing\\TextAnalyticsWithR\\cleanup_module.py\", line 294, in transform\n",
      "    for word, count in word_count.items():\n",
      "KeyboardInterrupt\n",
      "\n",
      "During handling of the above exception, another exception occurred:\n",
      "\n",
      "Traceback (most recent call last):\n",
      "  File \"c:\\users\\sanch\\appdata\\local\\programs\\python\\python37\\lib\\site-packages\\IPython\\core\\interactiveshell.py\", line 2044, in showtraceback\n",
      "    stb = value._render_traceback_()\n",
      "AttributeError: 'KeyboardInterrupt' object has no attribute '_render_traceback_'\n",
      "\n",
      "During handling of the above exception, another exception occurred:\n",
      "\n",
      "Traceback (most recent call last):\n",
      "  File \"c:\\users\\sanch\\appdata\\local\\programs\\python\\python37\\lib\\site-packages\\IPython\\core\\ultratb.py\", line 1148, in get_records\n",
      "    return _fixed_getinnerframes(etb, number_of_lines_of_context, tb_offset)\n",
      "  File \"c:\\users\\sanch\\appdata\\local\\programs\\python\\python37\\lib\\site-packages\\IPython\\core\\ultratb.py\", line 316, in wrapped\n",
      "    return f(*args, **kwargs)\n",
      "  File \"c:\\users\\sanch\\appdata\\local\\programs\\python\\python37\\lib\\site-packages\\IPython\\core\\ultratb.py\", line 350, in _fixed_getinnerframes\n",
      "    records = fix_frame_records_filenames(inspect.getinnerframes(etb, context))\n",
      "  File \"c:\\users\\sanch\\appdata\\local\\programs\\python\\python37\\lib\\inspect.py\", line 1502, in getinnerframes\n",
      "    frameinfo = (tb.tb_frame,) + getframeinfo(tb, context)\n",
      "  File \"c:\\users\\sanch\\appdata\\local\\programs\\python\\python37\\lib\\inspect.py\", line 1460, in getframeinfo\n",
      "    filename = getsourcefile(frame) or getfile(frame)\n",
      "  File \"c:\\users\\sanch\\appdata\\local\\programs\\python\\python37\\lib\\inspect.py\", line 696, in getsourcefile\n",
      "    if getattr(getmodule(object, filename), '__loader__', None) is not None:\n",
      "  File \"c:\\users\\sanch\\appdata\\local\\programs\\python\\python37\\lib\\inspect.py\", line 733, in getmodule\n",
      "    if ismodule(module) and hasattr(module, '__file__'):\n",
      "  File \"c:\\users\\sanch\\appdata\\local\\programs\\python\\python37\\lib\\site-packages\\py\\_vendored_packages\\apipkg.py\", line 195, in __getattribute__\n",
      "    return getattr(getmod(), name)\n",
      "  File \"c:\\users\\sanch\\appdata\\local\\programs\\python\\python37\\lib\\site-packages\\py\\_vendored_packages\\apipkg.py\", line 179, in getmod\n",
      "    x = importobj(modpath, None)\n",
      "  File \"c:\\users\\sanch\\appdata\\local\\programs\\python\\python37\\lib\\site-packages\\py\\_vendored_packages\\apipkg.py\", line 69, in importobj\n",
      "    module = __import__(modpath, None, None, ['__doc__'])\n",
      "  File \"c:\\users\\sanch\\appdata\\local\\programs\\python\\python37\\lib\\site-packages\\pytest\\__init__.py\", line 5, in <module>\n",
      "    from _pytest.assertion import register_assert_rewrite\n",
      "  File \"c:\\users\\sanch\\appdata\\local\\programs\\python\\python37\\lib\\site-packages\\_pytest\\assertion\\__init__.py\", line 8, in <module>\n",
      "    from _pytest.assertion import rewrite\n",
      "  File \"c:\\users\\sanch\\appdata\\local\\programs\\python\\python37\\lib\\site-packages\\_pytest\\assertion\\rewrite.py\", line 29, in <module>\n",
      "    from _pytest._io.saferepr import saferepr\n",
      "  File \"c:\\users\\sanch\\appdata\\local\\programs\\python\\python37\\lib\\site-packages\\_pytest\\_io\\__init__.py\", line 1, in <module>\n",
      "    from .terminalwriter import get_terminal_width\n",
      "  File \"<frozen importlib._bootstrap>\", line 983, in _find_and_load\n",
      "  File \"<frozen importlib._bootstrap>\", line 967, in _find_and_load_unlocked\n",
      "  File \"<frozen importlib._bootstrap>\", line 677, in _load_unlocked\n",
      "  File \"<frozen importlib._bootstrap_external>\", line 724, in exec_module\n",
      "  File \"<frozen importlib._bootstrap_external>\", line 818, in get_code\n",
      "  File \"<frozen importlib._bootstrap_external>\", line 917, in get_data\n",
      "KeyboardInterrupt\n"
     ]
    },
    {
     "ename": "KeyboardInterrupt",
     "evalue": "",
     "output_type": "error",
     "traceback": [
      "\u001b[1;31m---------------------------------------------------------------------------\u001b[0m"
     ]
    }
   ],
   "source": [
    "bigram_df = gridsearch_ngrams(X_array, y_array, n_grams=2, vocab_sizes=vocab_sizes)"
   ]
  },
  {
   "cell_type": "code",
   "execution_count": null,
   "metadata": {},
   "outputs": [],
   "source": [
    "trigram_df = gridsearch_ngrams(X_array, y_array, n_grams=3, vocab_sizes=vocab_sizes)"
   ]
  },
  {
   "cell_type": "code",
   "execution_count": null,
   "metadata": {},
   "outputs": [],
   "source": [
    "quadrigram_df = gridsearch_ngrams(X_array, y_array, n_grams=4, vocab_sizes=vocab_sizes)"
   ]
  },
  {
   "cell_type": "code",
   "execution_count": 39,
   "metadata": {},
   "outputs": [
    {
     "data": {
      "text/html": [
       "<div>\n",
       "<style scoped>\n",
       "    .dataframe tbody tr th:only-of-type {\n",
       "        vertical-align: middle;\n",
       "    }\n",
       "\n",
       "    .dataframe tbody tr th {\n",
       "        vertical-align: top;\n",
       "    }\n",
       "\n",
       "    .dataframe thead th {\n",
       "        text-align: right;\n",
       "    }\n",
       "</style>\n",
       "<table border=\"1\" class=\"dataframe\">\n",
       "  <thead>\n",
       "    <tr style=\"text-align: right;\">\n",
       "      <th></th>\n",
       "      <th>ngram</th>\n",
       "      <th>vocab_size</th>\n",
       "      <th>fit_time</th>\n",
       "      <th>NB_mean</th>\n",
       "      <th>LR_mean</th>\n",
       "    </tr>\n",
       "  </thead>\n",
       "  <tbody>\n",
       "    <tr>\n",
       "      <th>0</th>\n",
       "      <td>2</td>\n",
       "      <td>100</td>\n",
       "      <td>1.5</td>\n",
       "      <td>0.9167</td>\n",
       "      <td>0.9538</td>\n",
       "    </tr>\n",
       "    <tr>\n",
       "      <th>1</th>\n",
       "      <td>2</td>\n",
       "      <td>250</td>\n",
       "      <td>1.7</td>\n",
       "      <td>0.9523</td>\n",
       "      <td>0.9603</td>\n",
       "    </tr>\n",
       "    <tr>\n",
       "      <th>2</th>\n",
       "      <td>2</td>\n",
       "      <td>400</td>\n",
       "      <td>1.6</td>\n",
       "      <td>0.9631</td>\n",
       "      <td>0.9628</td>\n",
       "    </tr>\n",
       "    <tr>\n",
       "      <th>3</th>\n",
       "      <td>2</td>\n",
       "      <td>550</td>\n",
       "      <td>1.5</td>\n",
       "      <td>0.9682</td>\n",
       "      <td>0.9638</td>\n",
       "    </tr>\n",
       "    <tr>\n",
       "      <th>4</th>\n",
       "      <td>2</td>\n",
       "      <td>700</td>\n",
       "      <td>1.5</td>\n",
       "      <td>0.9674</td>\n",
       "      <td>0.9646</td>\n",
       "    </tr>\n",
       "  </tbody>\n",
       "</table>\n",
       "</div>"
      ],
      "text/plain": [
       "   ngram  vocab_size  fit_time  NB_mean  LR_mean\n",
       "0      2         100       1.5   0.9167   0.9538\n",
       "1      2         250       1.7   0.9523   0.9603\n",
       "2      2         400       1.6   0.9631   0.9628\n",
       "3      2         550       1.5   0.9682   0.9638\n",
       "4      2         700       1.5   0.9674   0.9646"
      ]
     },
     "execution_count": 39,
     "metadata": {},
     "output_type": "execute_result"
    }
   ],
   "source": [
    "master_df = pd.concat([bigram_df, trigram_df, quadrigram_df])\n",
    "master_df.index = range(len(master_df))\n",
    "master_df.head()"
   ]
  },
  {
   "cell_type": "code",
   "execution_count": 40,
   "metadata": {},
   "outputs": [],
   "source": [
    "save_dir = os.path.join(\"..\",\"data\",\"3_processed\")\n",
    "master_df.to_csv(os.path.join(save_dir, \"Ngram_Tfidf_baseline_accuracies.csv\"), index=False)"
   ]
  },
  {
   "cell_type": "code",
   "execution_count": 41,
   "metadata": {},
   "outputs": [
    {
     "data": {
      "image/png": "[encoded data removed]",
      "text/plain": [
       "<IPython.core.display.Image object>"
      ]
     },
     "execution_count": 41,
     "metadata": {},
     "output_type": "execute_result"
    }
   ],
   "source": [
    "from IPython.display import Image\n",
    "Image(os.path.join(save_dir, \"Ngram_Tfidf_baseline_accuracies.PNG\"))"
   ]
  },
  {
   "cell_type": "markdown",
   "metadata": {},
   "source": [
    "A quick Excel analysis with conditional formatting shows how Naive Bayes with Bigrams achieves the best accuracy with around 1750 terms. \n",
    "\n",
    "TODO: Add more terms and BoW to the mix will show a better picture."
   ]
  },
  {
   "cell_type": "markdown",
   "metadata": {},
   "source": [
    "---"
   ]
  }
 ],
 "metadata": {
  "kernelspec": {
   "display_name": "Python 3",
   "language": "python",
   "name": "python3"
  },
  "language_info": {
   "codemirror_mode": {
    "name": "ipython",
    "version": 3
   },
   "file_extension": ".py",
   "mimetype": "text/x-python",
   "name": "python",
   "nbconvert_exporter": "python",
   "pygments_lexer": "ipython3",
   "version": "3.7.3"
  }
 },
 "nbformat": 4,
 "nbformat_minor": 4
}
