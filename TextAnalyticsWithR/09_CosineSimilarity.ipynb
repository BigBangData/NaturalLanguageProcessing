{
 "cells": [
  {
   "cell_type": "markdown",
   "metadata": {},
   "source": [
    "# Cosine Similarity\n",
    "\n",
    "---\n",
    "\n",
    "- Continue revising: modeling section"
   ]
  },
  {
   "cell_type": "markdown",
   "metadata": {},
   "source": [
    "### Setup"
   ]
  },
  {
   "cell_type": "code",
   "execution_count": 1,
   "metadata": {},
   "outputs": [
    {
     "name": "stdout",
     "output_type": "stream",
     "text": [
      "Revised on: 2020-12-27\n"
     ]
    }
   ],
   "source": [
    "import os\n",
    "import time\n",
    "\n",
    "import numpy as np\n",
    "import pandas as pd\n",
    "\n",
    "from datetime import datetime\n",
    "\n",
    "start_time = time.time()\n",
    "dt_object = datetime.fromtimestamp(time.time())\n",
    "day, T = str(dt_object).split('.')[0].split(' ')\n",
    "print('Revised on: ' + day)"
   ]
  },
  {
   "cell_type": "markdown",
   "metadata": {},
   "source": [
    "### Load Data"
   ]
  },
  {
   "cell_type": "code",
   "execution_count": 2,
   "metadata": {},
   "outputs": [],
   "source": [
    "import json\n",
    "import urlextract\n",
    "from nltk.stem import WordNetLemmatizer\n",
    "\n",
    "def load_data(data):\n",
    "    raw_path = os.path.join(\"..\",\"data\",\"1_raw\")\n",
    "    filename = ''.join([data, \".csv\"])\n",
    "    out_dfm = pd.read_csv(os.path.join(raw_path, filename))\n",
    "    out_arr = np.array(out_dfm.iloc[:,0].ravel())\n",
    "    return out_arr\n",
    "\n",
    "X_train = load_data(\"X_train\")\n",
    "y_train = load_data(\"y_train\")\n",
    "\n",
    "# load contractions map for custom cleanup\n",
    "with open(\"contractions_map.json\") as f:\n",
    "    contractions_map = json.load(f)"
   ]
  },
  {
   "cell_type": "markdown",
   "metadata": {},
   "source": [
    "### BoT"
   ]
  },
  {
   "cell_type": "code",
   "execution_count": 7,
   "metadata": {},
   "outputs": [],
   "source": [
    "import custom.clean_preprocess as cp\n",
    "from sklearn.pipeline import Pipeline\n",
    "from sklearn.feature_extraction.text import TfidfTransformer\n",
    "\n",
    "pipe = Pipeline([('counter', cp.DocumentToNgramCounterTransformer(n_grams=3)),\n",
    "                 ('bot', cp.WordCounterToVectorTransformer(vocabulary_size=2000)),\n",
    "                 ('tfidf', TfidfTransformer(sublinear_tf=True))\n",
    "                ])\n",
    "\n",
    "X_counter = pipe['counter'].fit_transform(X_train)\n",
    "X_bot = pipe['bot'].fit_transform(X_counter)\n",
    "\n",
    "X_tfidf = pipe.fit_transform(X_train)"
   ]
  },
  {
   "cell_type": "markdown",
   "metadata": {},
   "source": [
    "### SVD "
   ]
  },
  {
   "cell_type": "code",
   "execution_count": 10,
   "metadata": {},
   "outputs": [],
   "source": [
    "import scipy.sparse as sp\n",
    "from scipy.sparse.linalg import svds\n",
    "from sklearn.utils.extmath import svd_flip\n",
    "\n",
    "def perform_SVD(X, n_components=300):\n",
    "    X_array = X.asfptype()\n",
    "    U, Sigma, VT = svds(X_array.T, k=n_components)\n",
    "    # reverse outputs\n",
    "    Sigma = Sigma[::-1]\n",
    "    U, VT = svd_flip(U[:, ::-1], VT[::-1])\n",
    "    # return V \n",
    "    V = VT.T\n",
    "    return V\n",
    "\n",
    "X_svd_bot = perform_SVD(X_bot)\n",
    "X_svd_tfidf = perform_SVD(X_tfidf)"
   ]
  },
  {
   "cell_type": "markdown",
   "metadata": {},
   "source": [
    "### Calculate Spam Cosine Similarity"
   ]
  },
  {
   "cell_type": "code",
   "execution_count": 12,
   "metadata": {},
   "outputs": [
    {
     "data": {
      "text/plain": [
       "((3900, 3900), (3900, 3900))"
      ]
     },
     "execution_count": 12,
     "metadata": {},
     "output_type": "execute_result"
    }
   ],
   "source": [
    "from sklearn.metrics.pairwise import cosine_similarity\n",
    "\n",
    "# no need to transpose as in R\n",
    "X_cossim_svd_bot = cosine_similarity(X_svd_bot)\n",
    "X_cossim_svd_tfidf = cosine_similarity(X_svd_tfidf)\n",
    "\n",
    "# check that it is the 3,900 documents that are being compared, not 300 or 2,000 features\n",
    "X_cossim_svd_bot.shape, X_cossim_svd_tfidf.shape"
   ]
  },
  {
   "cell_type": "code",
   "execution_count": 14,
   "metadata": {},
   "outputs": [
    {
     "data": {
      "text/html": [
       "<div>\n",
       "<style scoped>\n",
       "    .dataframe tbody tr th:only-of-type {\n",
       "        vertical-align: middle;\n",
       "    }\n",
       "\n",
       "    .dataframe tbody tr th {\n",
       "        vertical-align: top;\n",
       "    }\n",
       "\n",
       "    .dataframe thead th {\n",
       "        text-align: right;\n",
       "    }\n",
       "</style>\n",
       "<table border=\"1\" class=\"dataframe\">\n",
       "  <thead>\n",
       "    <tr style=\"text-align: right;\">\n",
       "      <th></th>\n",
       "      <th>sms</th>\n",
       "      <th>target</th>\n",
       "      <th>mean_spam_cossim_bot</th>\n",
       "      <th>mean_spam_cossim_tfidf</th>\n",
       "    </tr>\n",
       "  </thead>\n",
       "  <tbody>\n",
       "    <tr>\n",
       "      <th>0</th>\n",
       "      <td>All sounds good. Fingers . Makes it difficult ...</td>\n",
       "      <td>ham</td>\n",
       "      <td>0.001262</td>\n",
       "      <td>-0.000206</td>\n",
       "    </tr>\n",
       "    <tr>\n",
       "      <th>1</th>\n",
       "      <td>Not heard from U4 a while. Call 4 rude chat pr...</td>\n",
       "      <td>spam</td>\n",
       "      <td>0.012506</td>\n",
       "      <td>0.025532</td>\n",
       "    </tr>\n",
       "    <tr>\n",
       "      <th>2</th>\n",
       "      <td>Wishing you and your family Merry \\X\\\" mas and...</td>\n",
       "      <td>ham</td>\n",
       "      <td>0.003326</td>\n",
       "      <td>-0.000497</td>\n",
       "    </tr>\n",
       "    <tr>\n",
       "      <th>3</th>\n",
       "      <td>Yo we are watching a movie on netflix</td>\n",
       "      <td>ham</td>\n",
       "      <td>0.000698</td>\n",
       "      <td>-0.000089</td>\n",
       "    </tr>\n",
       "    <tr>\n",
       "      <th>4</th>\n",
       "      <td>Single line with a big meaning::::: \\Miss anyt...</td>\n",
       "      <td>ham</td>\n",
       "      <td>0.000740</td>\n",
       "      <td>0.003547</td>\n",
       "    </tr>\n",
       "    <tr>\n",
       "      <th>5</th>\n",
       "      <td>Genius what's up. How your brother. Pls send h...</td>\n",
       "      <td>ham</td>\n",
       "      <td>-0.002060</td>\n",
       "      <td>-0.000314</td>\n",
       "    </tr>\n",
       "    <tr>\n",
       "      <th>6</th>\n",
       "      <td>Jordan got voted out last nite!</td>\n",
       "      <td>ham</td>\n",
       "      <td>-0.000129</td>\n",
       "      <td>-0.000200</td>\n",
       "    </tr>\n",
       "    <tr>\n",
       "      <th>7</th>\n",
       "      <td>Lol yeah at this point I guess not</td>\n",
       "      <td>ham</td>\n",
       "      <td>0.000319</td>\n",
       "      <td>0.000010</td>\n",
       "    </tr>\n",
       "    <tr>\n",
       "      <th>8</th>\n",
       "      <td>No..few hours before.went to hair cut .</td>\n",
       "      <td>ham</td>\n",
       "      <td>-0.001041</td>\n",
       "      <td>-0.001098</td>\n",
       "    </tr>\n",
       "    <tr>\n",
       "      <th>9</th>\n",
       "      <td>Ok.ok ok..then..whats ur todays plan</td>\n",
       "      <td>ham</td>\n",
       "      <td>-0.000727</td>\n",
       "      <td>-0.001034</td>\n",
       "    </tr>\n",
       "  </tbody>\n",
       "</table>\n",
       "</div>"
      ],
      "text/plain": [
       "                                                 sms target  \\\n",
       "0  All sounds good. Fingers . Makes it difficult ...    ham   \n",
       "1  Not heard from U4 a while. Call 4 rude chat pr...   spam   \n",
       "2  Wishing you and your family Merry \\X\\\" mas and...    ham   \n",
       "3              Yo we are watching a movie on netflix    ham   \n",
       "4  Single line with a big meaning::::: \\Miss anyt...    ham   \n",
       "5  Genius what's up. How your brother. Pls send h...    ham   \n",
       "6                    Jordan got voted out last nite!    ham   \n",
       "7                 Lol yeah at this point I guess not    ham   \n",
       "8            No..few hours before.went to hair cut .    ham   \n",
       "9               Ok.ok ok..then..whats ur todays plan    ham   \n",
       "\n",
       "   mean_spam_cossim_bot  mean_spam_cossim_tfidf  \n",
       "0              0.001262               -0.000206  \n",
       "1              0.012506                0.025532  \n",
       "2              0.003326               -0.000497  \n",
       "3              0.000698               -0.000089  \n",
       "4              0.000740                0.003547  \n",
       "5             -0.002060               -0.000314  \n",
       "6             -0.000129               -0.000200  \n",
       "7              0.000319                0.000010  \n",
       "8             -0.001041               -0.001098  \n",
       "9             -0.000727               -0.001034  "
      ]
     },
     "execution_count": 14,
     "metadata": {},
     "output_type": "execute_result"
    }
   ],
   "source": [
    "data = {'sms':X_train, 'target':y_train}\n",
    "train_df = pd.DataFrame(data)\n",
    "\n",
    "# get spam indexes\n",
    "spam_ix = train_df.loc[train_df['target']=='spam'].index\n",
    "\n",
    "# calculate average spam similarity on SVD\n",
    "mean_spam_sims_bot, mean_spam_sims_tfidf = [], []\n",
    "for ix in range(X_cossim_svd_bot.shape[0]):\n",
    "    mean_spam_sims_bot.append(np.mean(X_cossim_svd_bot[ix, spam_ix]))\n",
    "    mean_spam_sims_tfidf.append(np.mean(X_cossim_svd_tfidf[ix, spam_ix]))\n",
    "\n",
    "train_df['mean_spam_cossim_bot'] = mean_spam_sims_bot\n",
    "train_df['mean_spam_cossim_tfidf'] = mean_spam_sims_tfidf\n",
    "\n",
    "train_df.head(10)"
   ]
  },
  {
   "cell_type": "markdown",
   "metadata": {},
   "source": [
    "### Visualize "
   ]
  },
  {
   "cell_type": "code",
   "execution_count": 27,
   "metadata": {},
   "outputs": [],
   "source": [
    "# create a dataframe for plotting\n",
    "data = {'sims_bot':mean_spam_sims_bot, \n",
    "        'sims_tfidf':mean_spam_sims_tfidf, \n",
    "        'target':y_train}\n",
    "\n",
    "spam_sim_df = pd.DataFrame(data)\n",
    "\n",
    "spam_hist_bot = spam_sim_df.loc[spam_sim_df['target']=='spam']['sims_bot']\n",
    "ham_hist_bot = spam_sim_df.loc[spam_sim_df['target']=='ham']['sims_bot']\n",
    "spam_hist_tfidf = spam_sim_df.loc[spam_sim_df['target']=='spam']['sims_tfidf']\n",
    "ham_hist_tfidf = spam_sim_df.loc[spam_sim_df['target']=='ham']['sims_tfidf']"
   ]
  },
  {
   "cell_type": "code",
   "execution_count": 48,
   "metadata": {},
   "outputs": [
    {
     "data": {
      "image/png": "[encoded data removed]",
      "text/plain": [
       "<Figure size 1008x720 with 2 Axes>"
      ]
     },
     "metadata": {
      "needs_background": "light"
     },
     "output_type": "display_data"
    }
   ],
   "source": [
    "import matplotlib.pyplot as plt \n",
    "\n",
    "fig, axs = plt.subplots(2, figsize=(14, 10))\n",
    "\n",
    "axs[0].hist(spam_hist_bot, alpha=0.5, label='spam')\n",
    "axs[0].hist(ham_hist_bot, alpha=0.5, label='ham')\n",
    "axs[1].hist(spam_hist_tfidf, alpha=0.5, label='spam')\n",
    "axs[1].hist(ham_hist_tfidf, alpha=0.5, label='ham')\n",
    "\n",
    "fig.suptitle('Distribution of Ham vs Spam using Spam Cosine Similarity', size=18)\n",
    "axs[0].set_title('Using SVD of Bag-of-Trigrams', size=14)\n",
    "axs[1].set_title('Using SVD of Tfidf of Bag-of-Trigrams', size=14)\n",
    "for ax in axs.flat:\n",
    "    ax.set(xlabel='', ylabel='Message Count')\n",
    "    ax.legend()\n",
    "    \n",
    "plt.xlabel('Mean Spam Cosine Similarity')    \n",
    "plt.show()"
   ]
  },
  {
   "cell_type": "markdown",
   "metadata": {},
   "source": [
    "### Original Tutorial\n",
    "\n",
    "This looks like a promising feature because average spam cosine similarities seem to separate the target well. Yet we can't rely on visualization alone, we need to run the data through a model to test it out.\n",
    "\n",
    "The original process was to perform 10-fold CV, repeat 3x, build a random forest model with 500 trees each time, test 7 different values for **mtry**: the number of random variables each tree uses to build itself. \n",
    "\n",
    "The best **mtry** value was 52. The accuracy achieved was 97.9%, with a sensitivity (TPR, recall, TP over condition P or $\\frac{3365}{(3365+69)}$ below) of 97.99% and specificity (TNR, selectivity, or TN over condition N, or $\\frac{454}{(454+13)}$ below) of 97.22%.\n",
    "\n",
    "```\n",
    "Confusion Matrix\n",
    "\n",
    "                Actual\n",
    "                ham  spam\n",
    "Predicted ham  3365    13\n",
    "          spam   69   454\n",
    "```\n",
    "\n",
    "This was an improvement on a previous model because the specificity was not as high, meaning, customers would be getting more of their legitimate messages sent to the spam folder, and we can assume that customers more forgiving of the occasional spam not being filtered (lower specificity) rather than losing a legitimate messages (lower specificity)."
   ]
  },
  {
   "cell_type": "markdown",
   "metadata": {},
   "source": [
    "### Quick Model\n",
    "\n",
    "# HERE ---- REVISE"
   ]
  },
  {
   "cell_type": "code",
   "execution_count": 8,
   "metadata": {},
   "outputs": [],
   "source": [
    "# transform y_array into int type\n",
    "y_train[y_train=='ham'] = 0\n",
    "y_train[y_train=='spam'] = 1\n",
    "y = y_train.astype('int')"
   ]
  },
  {
   "cell_type": "code",
   "execution_count": 9,
   "metadata": {},
   "outputs": [
    {
     "data": {
      "text/plain": [
       "<3900x301 sparse matrix of type '<class 'numpy.float64'>'\n",
       "\twith 1173599 stored elements in COOrdinate format>"
      ]
     },
     "execution_count": 9,
     "metadata": {},
     "output_type": "execute_result"
    }
   ],
   "source": [
    "from scipy.sparse import csr_matrix\n",
    "\n",
    "X_stacked = sp.hstack((csr_matrix(mean_spam_sims).T, X_train_svd))\n",
    "X_stacked"
   ]
  },
  {
   "cell_type": "code",
   "execution_count": 10,
   "metadata": {},
   "outputs": [
    {
     "data": {
      "text/plain": [
       "((3900, 301), (3900,))"
      ]
     },
     "execution_count": 10,
     "metadata": {},
     "output_type": "execute_result"
    }
   ],
   "source": [
    "X_stacked.toarray().shape, y.shape"
   ]
  },
  {
   "cell_type": "code",
   "execution_count": 11,
   "metadata": {},
   "outputs": [
    {
     "data": {
      "text/plain": [
       "array([[834,   0],\n",
       "       [ 13, 128]], dtype=int64)"
      ]
     },
     "execution_count": 11,
     "metadata": {},
     "output_type": "execute_result"
    }
   ],
   "source": [
    "from sklearn.model_selection import train_test_split\n",
    "from sklearn.metrics import confusion_matrix\n",
    "from sklearn.linear_model import LogisticRegression\n",
    "\n",
    "log_clf = LogisticRegression(solver=\"liblinear\", random_state=42)\n",
    "Xtr, Xte, ytr, yte = train_test_split(X_train_bot, y, test_size=0.25, random_state=42)\n",
    "\n",
    "log_clf.fit(Xtr, ytr)\n",
    "ypred = log_clf.predict(Xte)\n",
    "confusion_matrix(yte, ypred)"
   ]
  },
  {
   "cell_type": "code",
   "execution_count": 13,
   "metadata": {},
   "outputs": [
    {
     "name": "stderr",
     "output_type": "stream",
     "text": [
      "[Parallel(n_jobs=-1)]: Using backend LokyBackend with 8 concurrent workers.\n",
      "[Parallel(n_jobs=-1)]: Done   2 out of   5 | elapsed:    1.9s remaining:    2.9s\n",
      "[Parallel(n_jobs=-1)]: Done   5 out of   5 | elapsed:    2.0s finished\n"
     ]
    },
    {
     "data": {
      "text/plain": [
       "0.9848717948717948"
      ]
     },
     "execution_count": 13,
     "metadata": {},
     "output_type": "execute_result"
    }
   ],
   "source": [
    "from sklearn.model_selection import cross_val_score\n",
    "\n",
    "cross_val_score(log_clf, X_train_bot, y, cv=5, verbose=1, scoring='accuracy', n_jobs=-1).mean()"
   ]
  },
  {
   "cell_type": "code",
   "execution_count": null,
   "metadata": {},
   "outputs": [],
   "source": []
  },
  {
   "cell_type": "code",
   "execution_count": 19,
   "metadata": {},
   "outputs": [
    {
     "name": "stderr",
     "output_type": "stream",
     "text": [
      "[Parallel(n_jobs=-1)]: Using backend LokyBackend with 8 concurrent workers.\n",
      "[Parallel(n_jobs=-1)]: Done   2 out of   5 | elapsed:    2.0s remaining:    3.1s\n",
      "[Parallel(n_jobs=-1)]: Done   5 out of   5 | elapsed:    2.0s finished\n",
      "[Parallel(n_jobs=-1)]: Using backend LokyBackend with 8 concurrent workers.\n",
      "[Parallel(n_jobs=-1)]: Done   2 out of   5 | elapsed:    0.2s remaining:    0.3s\n",
      "[Parallel(n_jobs=-1)]: Done   5 out of   5 | elapsed:    1.3s finished\n"
     ]
    },
    {
     "name": "stdout",
     "output_type": "stream",
     "text": [
      "accuracy: 0.8674 (+/- 0.0006)\n",
      "sensitivity: 0.0000 (+/- 0.0000)\n"
     ]
    }
   ],
   "source": [
    "log_clf = LogisticRegression(solver=\"liblinear\", random_state=42)\n",
    "acc = cross_val_score(log_clf, X_stacked, y, cv=5, verbose=1, scoring='accuracy', n_jobs=-1)\n",
    "tpr = cross_val_score(log_clf, X_stacked, y, cv=5, verbose=1, scoring='recall', n_jobs=-1)\n",
    "\n",
    "print(f'accuracy: {acc.mean():0.4f} (+/- {np.std(acc):0.4f})')\n",
    "print(f'sensitivity: {tpr.mean():0.4f} (+/- {np.std(tpr):0.4f})')"
   ]
  },
  {
   "cell_type": "code",
   "execution_count": 55,
   "metadata": {},
   "outputs": [
    {
     "name": "stderr",
     "output_type": "stream",
     "text": [
      "[Parallel(n_jobs=-1)]: Using backend LokyBackend with 8 concurrent workers.\n",
      "[Parallel(n_jobs=-1)]: Done   2 out of   5 | elapsed:    0.1s remaining:    0.2s\n"
     ]
    },
    {
     "name": "stdout",
     "output_type": "stream",
     "text": [
      "accuracy: 0.8674 (+/- 0.0006)\n"
     ]
    },
    {
     "name": "stderr",
     "output_type": "stream",
     "text": [
      "[Parallel(n_jobs=-1)]: Done   5 out of   5 | elapsed:    1.2s finished\n"
     ]
    }
   ],
   "source": [
    "log_clf = LogisticRegression(solver=\"liblinear\", random_state=42)\n",
    "score = cross_val_score(log_clf, X_train_svd, y, cv=5, verbose=1, scoring='accuracy', n_jobs=-1)\n",
    "print(f'accuracy: {score.mean():0.4f} (+/- {np.std(score):0.4f})')"
   ]
  },
  {
   "cell_type": "code",
   "execution_count": 58,
   "metadata": {},
   "outputs": [
    {
     "name": "stdout",
     "output_type": "stream",
     "text": [
      "accuracy: 0.8674 (+/- 0.0006)\n"
     ]
    },
    {
     "name": "stderr",
     "output_type": "stream",
     "text": [
      "[Parallel(n_jobs=-1)]: Using backend LokyBackend with 8 concurrent workers.\n",
      "[Parallel(n_jobs=-1)]: Done   2 out of   5 | elapsed:    0.0s remaining:    0.0s\n",
      "[Parallel(n_jobs=-1)]: Done   5 out of   5 | elapsed:    0.0s finished\n"
     ]
    }
   ],
   "source": [
    "log_clf = LogisticRegression(solver=\"liblinear\", random_state=42)\n",
    "score = cross_val_score(log_clf, csr_matrix(mean_spam_sims).T, y, cv=5, verbose=1, scoring='accuracy', n_jobs=-1)\n",
    "print(f'accuracy: {score.mean():0.4f} (+/- {np.std(score):0.4f})')"
   ]
  },
  {
   "cell_type": "code",
   "execution_count": 59,
   "metadata": {},
   "outputs": [
    {
     "name": "stdout",
     "output_type": "stream",
     "text": [
      "Time elapsed: 13 m 2 s\n"
     ]
    }
   ],
   "source": [
    "mins, secs = divmod(time.time() - start_time, 60)\n",
    "print(f'Time elapsed: {mins:0.0f} m {secs:0.0f} s')"
   ]
  },
  {
   "cell_type": "markdown",
   "metadata": {},
   "source": [
    "---"
   ]
  }
 ],
 "metadata": {
  "kernelspec": {
   "display_name": "Python 3",
   "language": "python",
   "name": "python3"
  },
  "language_info": {
   "codemirror_mode": {
    "name": "ipython",
    "version": 3
   },
   "file_extension": ".py",
   "mimetype": "text/x-python",
   "name": "python",
   "nbconvert_exporter": "python",
   "pygments_lexer": "ipython3",
   "version": "3.7.3"
  }
 },
 "nbformat": 4,
 "nbformat_minor": 4
}
