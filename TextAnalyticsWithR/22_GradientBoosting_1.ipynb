{
 "cells": [
  {
   "cell_type": "markdown",
   "metadata": {},
   "source": [
    "# Gradient Boosting Classifier\n",
    "\n",
    "---\n",
    "\n",
    "__This Notebook__\n",
    "\n",
    "- implement sklearn.ensemble.GradientBoostingClassifier\n",
    "\n",
    "__Results__ \n",
    "\n",
    "- \n",
    "\n"
   ]
  },
  {
   "cell_type": "markdown",
   "metadata": {},
   "source": [
    "## Setup"
   ]
  },
  {
   "cell_type": "code",
   "execution_count": 1,
   "metadata": {},
   "outputs": [
    {
     "name": "stdout",
     "output_type": "stream",
     "text": [
      "Revised on: 2021-02-09\n"
     ]
    }
   ],
   "source": [
    "import re\n",
    "import os\n",
    "import time\n",
    "import joblib \n",
    "\n",
    "import numpy as np\n",
    "import pandas as pd\n",
    "import scipy.sparse as sp\n",
    "import matplotlib.pyplot as plt\n",
    "\n",
    "from datetime import datetime\n",
    "from sklearn.metrics import confusion_matrix\n",
    "\n",
    "dt_object = datetime.fromtimestamp(time.time())\n",
    "day, T = str(dt_object).split('.')[0].split(' ')\n",
    "print('Revised on: ' + day)"
   ]
  },
  {
   "cell_type": "markdown",
   "metadata": {},
   "source": [
    "## Load"
   ]
  },
  {
   "cell_type": "code",
   "execution_count": 2,
   "metadata": {},
   "outputs": [],
   "source": [
    "# load target vector\n",
    "raw_path = os.path.join(\"data\",\"1_raw\")\n",
    "y_df = pd.read_csv(os.path.join(raw_path, 'y_train.csv'))\n",
    "y_array = np.array(y_df.iloc[:,0].ravel())\n",
    "\n",
    "y = y_array.copy()\n",
    "\n",
    "# transform y_array into int type\n",
    "y[y=='ham'] = 0\n",
    "y[y=='spam'] = 1\n",
    "y = y.astype('int')\n",
    "\n",
    "# load matrix\n",
    "proc_dir = os.path.join(\"data\", \"2_processed\")\n",
    "X_tfidf_svd800_spamcos = sp.load_npz(os.path.join(proc_dir, 'X_tfidf_svd800_spamcos.npz'))"
   ]
  },
  {
   "cell_type": "markdown",
   "metadata": {},
   "source": [
    "## Helpful Functions\n"
   ]
  },
  {
   "cell_type": "code",
   "execution_count": 3,
   "metadata": {},
   "outputs": [],
   "source": [
    "# train classifier and time it\n",
    "def time_deco(func):\n",
    "    def wrapper(clf):\n",
    "        start = time.time()\n",
    "        func(clf)\n",
    "        m,s = divmod(time.time() - start, 60)\n",
    "        print(f'Elapsed: {m:0.0f}m {s:0.0f}s')\n",
    "    return wrapper\n",
    "\n",
    "@time_deco\n",
    "def fit_clf(clf):\n",
    "    clf.fit(X_train, y_train)\n",
    "    \n",
    "# evaluate classifier\n",
    "def eval_clf(y_val, y_pred):\n",
    "    tn, fp, fn, tp = confusion_matrix(y_val, \n",
    "                                      y_pred).ravel()\n",
    "    confmat_df = pd.DataFrame(\n",
    "        np.array(([tn, fp], [fn, tp])),\n",
    "        columns=['pred_neg', 'pred_pos'], \n",
    "        index=['cond_neg', 'cond_pos']\n",
    "    )\n",
    "    # unpack metrics\n",
    "    acc = (tp + tn) / (tp + tn + fp + fn)\n",
    "    tpr = tp / (tp + fn)\n",
    "    tnr = tn / (tn + fp)\n",
    "    # print results\n",
    "    print(confmat_df)\n",
    "    print(f'acc: {acc:0.4f}')\n",
    "    print(f'tpr: {tpr:0.4f}')\n",
    "    print(f'tnr: {tnr:0.4f}')\n",
    "\n",
    "def extract_df(gd):\n",
    "    gd_res = gd.cv_results_\n",
    "    df = pd.concat([\n",
    "                    pd.DataFrame(gd_res[\"params\"]),\n",
    "                    pd.DataFrame(gd_res[\"mean_train_acc\"], columns=[\"mean_train_acc\"]),\n",
    "                    pd.DataFrame(gd_res[\"mean_train_tpr\"], columns=[\"mean_train_tpr\"]),\n",
    "                    pd.DataFrame(gd_res[\"mean_train_tnr\"], columns=[\"mean_train_tnr\"]),\n",
    "                    pd.DataFrame(gd_res[\"mean_test_acc\"], columns=[\"mean_val_acc\"]),\n",
    "                    pd.DataFrame(gd_res[\"mean_test_tpr\"], columns=[\"mean_val_tpr\"]),\n",
    "                    pd.DataFrame(gd_res[\"mean_test_tnr\"], columns=[\"mean_val_tnr\"]),\n",
    "                    pd.DataFrame(gd_res[\"mean_fit_time\"], columns=[\"mean_fit_time\"])\n",
    "                    #pd.DataFrame(gd_res[\"std_test_acc\"], columns=[\"std_val_acc\"]),\n",
    "                    #pd.DataFrame(gd_res[\"std_test_tpr\"], columns=[\"std_val_tpr\"]),\n",
    "                    #pd.DataFrame(gd_res[\"std_test_tnr\"], columns=[\"std_val_tnr\"]),\n",
    "                   ]\n",
    "                   , axis=1)\n",
    "    return df"
   ]
  },
  {
   "cell_type": "markdown",
   "metadata": {},
   "source": [
    "### Train Test Split"
   ]
  },
  {
   "cell_type": "markdown",
   "metadata": {},
   "source": [
    "##  Gradient Boosting Classifier\n",
    "\n",
    "\n",
    "```\n",
    "class GradientBoostingClassifier(ClassifierMixin, BaseGradientBoosting):\n",
    "    \"\"\"Gradient Boosting for classification.\n",
    "    GB builds an additive model in a\n",
    "    forward stage-wise fashion; it allows for the optimization of\n",
    "    arbitrary differentiable loss functions. In each stage ``n_classes_``\n",
    "    regression trees are fit on the negative gradient of the\n",
    "    binomial or multinomial deviance loss function. Binary classification\n",
    "    is a special case where only a single regression tree is induced.\n",
    "```\n",
    "\n",
    "See [docs](https://scikit-learn.org/stable/modules/generated/sklearn.ensemble.GradientBoostingClassifier.html), [code](https://github.com/scikit-learn/scikit-learn/blob/95119c13a/sklearn/ensemble/_gb.py#L768)"
   ]
  },
  {
   "cell_type": "markdown",
   "metadata": {},
   "source": [
    "__Some defaults:__\n",
    "\n",
    "\n",
    "- `loss='deviance'`\n",
    "- `learning_rate=0.1`\n",
    "- `n_estimators=100`\n",
    "- `subsample=1.0`\n",
    "- `criterion='friedman_mse'`\n",
    "- `min_samples_split=2`\n",
    "- `min_samples_leaf=1`\n",
    "- `min_weight_fraction_leaf=0.0`\n",
    "- `max_depth=3`\n",
    "- `min_impurity_decrease=0.0`\n",
    "- `min_impurity_split=None`\n",
    "- `init=None`\n",
    "- `random_state=None`\n",
    "- `max_features=None`\n",
    "- `verbose=0`\n",
    "- `max_leaf_nodes=None`\n",
    "- `warm_start=False`\n",
    "- `validation_fraction=0.1`\n",
    "- `n_iter_no_change=None`\n",
    "- `tol=0.0001`\n",
    "- `ccp_alpha=0.0`"
   ]
  },
  {
   "cell_type": "code",
   "execution_count": 4,
   "metadata": {},
   "outputs": [],
   "source": [
    "from sklearn.model_selection import train_test_split\n",
    "from sklearn.model_selection import StratifiedKFold\n",
    "from sklearn.model_selection import GridSearchCV\n",
    "from sklearn.metrics import make_scorer, accuracy_score, recall_score\n",
    "from sklearn.ensemble import GradientBoostingClassifier"
   ]
  },
  {
   "cell_type": "code",
   "execution_count": 5,
   "metadata": {},
   "outputs": [],
   "source": [
    "X_train, X_val, y_train, y_val = train_test_split(X_tfidf_svd800_spamcos,\n",
    "                                                  y, \n",
    "                                                  stratify=y,\n",
    "                                                  random_state=42)"
   ]
  },
  {
   "cell_type": "code",
   "execution_count": 6,
   "metadata": {},
   "outputs": [],
   "source": [
    "gb_clf = GradientBoostingClassifier(\n",
    "    random_state=42\n",
    "    , verbose=1\n",
    ")"
   ]
  },
  {
   "cell_type": "code",
   "execution_count": 7,
   "metadata": {},
   "outputs": [
    {
     "name": "stdout",
     "output_type": "stream",
     "text": [
      "      Iter       Train Loss   Remaining Time \n",
      "         1           0.5988            2.47m\n",
      "         2           0.5007            2.40m\n",
      "         3           0.4298            2.37m\n",
      "         4           0.3746            2.35m\n",
      "         5           0.3297            2.32m\n",
      "         6           0.2921            2.29m\n",
      "         7           0.2597            2.26m\n",
      "         8           0.2322            2.24m\n",
      "         9           0.2079            2.21m\n",
      "        10           0.1869            2.19m\n",
      "        20           0.0696            1.94m\n",
      "        30           0.0285            1.71m\n",
      "        40           0.0138            1.46m\n",
      "        50           0.0078            1.21m\n",
      "        60           0.0054           58.15s\n",
      "        70           0.0044           43.73s\n",
      "        80           0.0036           29.05s\n",
      "        90           0.0031           14.48s\n",
      "       100           0.0026            0.00s\n"
     ]
    },
    {
     "data": {
      "text/plain": [
       "GradientBoostingClassifier(random_state=42, verbose=1)"
      ]
     },
     "execution_count": 7,
     "metadata": {},
     "output_type": "execute_result"
    }
   ],
   "source": [
    "gb_clf.fit(X_train, y_train)"
   ]
  },
  {
   "cell_type": "code",
   "execution_count": 8,
   "metadata": {},
   "outputs": [
    {
     "data": {
      "image/png": "[encoded data removed]",
      "text/plain": [
       "<Figure size 432x288 with 1 Axes>"
      ]
     },
     "metadata": {
      "needs_background": "light"
     },
     "output_type": "display_data"
    }
   ],
   "source": [
    "# evaluate using decision function\n",
    "y_score = gb_clf.decision_function(X_val)\n",
    "plt.plot(sorted(y_score))\n",
    "plt.show()"
   ]
  },
  {
   "cell_type": "code",
   "execution_count": 9,
   "metadata": {},
   "outputs": [
    {
     "name": "stdout",
     "output_type": "stream",
     "text": [
      "          pred_neg  pred_pos\n",
      "cond_neg       842         4\n",
      "cond_pos         2       127\n",
      "acc: 0.9938\n",
      "tpr: 0.9845\n",
      "tnr: 0.9953\n"
     ]
    }
   ],
   "source": [
    "# default threshold\n",
    "thresh = 0\n",
    "y_pred = np.where(y_score > thresh, 1, 0)\n",
    "eval_clf(y_val, y_pred)"
   ]
  },
  {
   "cell_type": "code",
   "execution_count": 10,
   "metadata": {},
   "outputs": [
    {
     "data": {
      "image/png": "[encoded data removed]",
      "text/plain": [
       "<Figure size 432x288 with 1 Axes>"
      ]
     },
     "metadata": {
      "needs_background": "light"
     },
     "output_type": "display_data"
    }
   ],
   "source": [
    "y_pred = gb_clf.predict(X_val)\n",
    "plt.plot(sorted(y_pred))\n",
    "plt.show()"
   ]
  },
  {
   "cell_type": "code",
   "execution_count": 11,
   "metadata": {},
   "outputs": [
    {
     "name": "stdout",
     "output_type": "stream",
     "text": [
      "          pred_neg  pred_pos\n",
      "cond_neg       842         4\n",
      "cond_pos         2       127\n",
      "acc: 0.9938\n",
      "tpr: 0.9845\n",
      "tnr: 0.9953\n"
     ]
    }
   ],
   "source": [
    "eval_clf(y_val, y_pred)"
   ]
  },
  {
   "cell_type": "markdown",
   "metadata": {},
   "source": [
    "## GridSearchCV"
   ]
  },
  {
   "cell_type": "code",
   "execution_count": 12,
   "metadata": {},
   "outputs": [],
   "source": [
    "from sklearn.model_selection import train_test_split\n",
    "from sklearn.model_selection import StratifiedKFold\n",
    "from sklearn.model_selection import GridSearchCV\n",
    "from sklearn.metrics import make_scorer, accuracy_score, recall_score\n",
    "from sklearn.ensemble import GradientBoostingClassifier\n",
    "from sklearn.tree import DecisionTreeClassifier\n",
    "\n",
    "def gridsearch_wrapper(X, y, param_grid, k=5, n_jobs=6):\n",
    "    \"\"\"\n",
    "    Performs a grid search with\n",
    "    Args:\n",
    "        X: numeric matrix\n",
    "        y: target variable\n",
    "        param_grid : dict of hyperparameters for search\n",
    "        k: number of CV folds\n",
    "        n_jobs: number of logical cores\n",
    "    \"\"\"\n",
    "    start_time = time.time()\n",
    "\n",
    "    # split into training and validation sets\n",
    "    X_train, X_val, y_train, y_val = train_test_split(X, \n",
    "                                                      y, \n",
    "                                                      stratify=y,\n",
    "                                                      random_state=42)\n",
    "\n",
    "    # setup scorers\n",
    "    scorers = {\n",
    "        'acc': make_scorer(accuracy_score),\n",
    "        'tpr': make_scorer(recall_score, pos_label=1), # sensitivity, recall\n",
    "        'tnr': make_scorer(recall_score, pos_label=0) # specificity, selectivity\n",
    "    }\n",
    "\n",
    "    # instantiate estimator\n",
    "    clf =  GradientBoostingClassifier(\n",
    "        random_state=42\n",
    "    )\n",
    "\n",
    "    # instantiate k-fold gridsearch\n",
    "    cv_folds = StratifiedKFold(n_splits=k)\n",
    "    \n",
    "    grid_search_clf = GridSearchCV(clf, \n",
    "                                   param_grid,\n",
    "                                   scoring=scorers, \n",
    "                                   refit='tpr', \n",
    "                                   cv=cv_folds, \n",
    "                                   return_train_score=True, \n",
    "                                   n_jobs=n_jobs,\n",
    "                                   verbose=1)\n",
    "    \n",
    "    # train models\n",
    "    grid_search_clf.fit(X_train, y_train)\n",
    "\n",
    "    # predict\n",
    "    y_pred = grid_search_clf.predict(X_val)\n",
    "    print(f'Best params: {grid_search_clf.best_params_}')\n",
    "\n",
    "    # eval metrics\n",
    "    print('Evaluation metrics:')\n",
    "    eval_clf(y_val, y_pred)\n",
    "    \n",
    "    return grid_search_clf"
   ]
  },
  {
   "cell_type": "code",
   "execution_count": 16,
   "metadata": {},
   "outputs": [],
   "source": [
    "test_params = {\n",
    "    'n_estimators': [10, 25],\n",
    "    'learning_rate': [.1, 1],\n",
    "    'max_depth': [1, 2, 3]\n",
    "}\n",
    "\n",
    "params = {\n",
    "    'n_estimators': [10, 50, 100],\n",
    "    'learning_rate': [.001, .01, .1, 1],\n",
    "    'max_depth': [1, 2, 3]\n",
    "}"
   ]
  },
  {
   "cell_type": "code",
   "execution_count": 17,
   "metadata": {},
   "outputs": [
    {
     "name": "stdout",
     "output_type": "stream",
     "text": [
      "Fitting 10 folds for each of 12 candidates, totalling 120 fits\n"
     ]
    },
    {
     "name": "stderr",
     "output_type": "stream",
     "text": [
      "[Parallel(n_jobs=-1)]: Using backend LokyBackend with 8 concurrent workers.\n",
      "[Parallel(n_jobs=-1)]: Done  34 tasks      | elapsed:  1.2min\n",
      "[Parallel(n_jobs=-1)]: Done 120 out of 120 | elapsed:  5.9min finished\n"
     ]
    },
    {
     "name": "stdout",
     "output_type": "stream",
     "text": [
      "Best params: {'learning_rate': 0.1, 'max_depth': 1, 'n_estimators': 25}\n",
      "Evaluation metrics:\n",
      "          pred_neg  pred_pos\n",
      "cond_neg       839         7\n",
      "cond_pos         2       127\n",
      "acc: 0.9908\n",
      "tpr: 0.9845\n",
      "tnr: 0.9917\n"
     ]
    }
   ],
   "source": [
    "gridsearch_clf = gridsearch_wrapper(X_tfidf_svd800_spamcos,\n",
    "                                    y, \n",
    "                                    test_params,\n",
    "                                    k=10,                        \n",
    "                                    n_jobs=-1)"
   ]
  },
  {
   "cell_type": "code",
   "execution_count": 18,
   "metadata": {},
   "outputs": [
    {
     "data": {
      "text/html": [
       "<div>\n",
       "<style scoped>\n",
       "    .dataframe tbody tr th:only-of-type {\n",
       "        vertical-align: middle;\n",
       "    }\n",
       "\n",
       "    .dataframe tbody tr th {\n",
       "        vertical-align: top;\n",
       "    }\n",
       "\n",
       "    .dataframe thead th {\n",
       "        text-align: right;\n",
       "    }\n",
       "</style>\n",
       "<table border=\"1\" class=\"dataframe\">\n",
       "  <thead>\n",
       "    <tr style=\"text-align: right;\">\n",
       "      <th></th>\n",
       "      <th>learning_rate</th>\n",
       "      <th>max_depth</th>\n",
       "      <th>n_estimators</th>\n",
       "      <th>mean_train_acc</th>\n",
       "      <th>mean_train_tpr</th>\n",
       "      <th>mean_train_tnr</th>\n",
       "      <th>mean_val_acc</th>\n",
       "      <th>mean_val_tpr</th>\n",
       "      <th>mean_val_tnr</th>\n",
       "      <th>mean_fit_time</th>\n",
       "    </tr>\n",
       "  </thead>\n",
       "  <tbody>\n",
       "    <tr>\n",
       "      <th>1</th>\n",
       "      <td>0.1</td>\n",
       "      <td>1</td>\n",
       "      <td>25</td>\n",
       "      <td>0.994644</td>\n",
       "      <td>0.975659</td>\n",
       "      <td>0.997547</td>\n",
       "      <td>0.993157</td>\n",
       "      <td>0.969096</td>\n",
       "      <td>0.996849</td>\n",
       "      <td>16.131887</td>\n",
       "    </tr>\n",
       "    <tr>\n",
       "      <th>5</th>\n",
       "      <td>0.1</td>\n",
       "      <td>3</td>\n",
       "      <td>25</td>\n",
       "      <td>0.998822</td>\n",
       "      <td>0.991122</td>\n",
       "      <td>1.000000</td>\n",
       "      <td>0.992474</td>\n",
       "      <td>0.969096</td>\n",
       "      <td>0.996060</td>\n",
       "      <td>47.023306</td>\n",
       "    </tr>\n",
       "    <tr>\n",
       "      <th>6</th>\n",
       "      <td>1.0</td>\n",
       "      <td>1</td>\n",
       "      <td>10</td>\n",
       "      <td>0.995214</td>\n",
       "      <td>0.982532</td>\n",
       "      <td>0.997153</td>\n",
       "      <td>0.991449</td>\n",
       "      <td>0.969096</td>\n",
       "      <td>0.994879</td>\n",
       "      <td>6.850760</td>\n",
       "    </tr>\n",
       "    <tr>\n",
       "      <th>7</th>\n",
       "      <td>1.0</td>\n",
       "      <td>1</td>\n",
       "      <td>25</td>\n",
       "      <td>0.995251</td>\n",
       "      <td>0.982532</td>\n",
       "      <td>0.997197</td>\n",
       "      <td>0.991449</td>\n",
       "      <td>0.969096</td>\n",
       "      <td>0.994879</td>\n",
       "      <td>16.830054</td>\n",
       "    </tr>\n",
       "    <tr>\n",
       "      <th>3</th>\n",
       "      <td>0.1</td>\n",
       "      <td>2</td>\n",
       "      <td>25</td>\n",
       "      <td>0.997227</td>\n",
       "      <td>0.979957</td>\n",
       "      <td>0.999869</td>\n",
       "      <td>0.992473</td>\n",
       "      <td>0.966532</td>\n",
       "      <td>0.996454</td>\n",
       "      <td>30.856894</td>\n",
       "    </tr>\n",
       "    <tr>\n",
       "      <th>0</th>\n",
       "      <td>0.1</td>\n",
       "      <td>1</td>\n",
       "      <td>10</td>\n",
       "      <td>0.994606</td>\n",
       "      <td>0.967352</td>\n",
       "      <td>0.998774</td>\n",
       "      <td>0.993499</td>\n",
       "      <td>0.963968</td>\n",
       "      <td>0.998030</td>\n",
       "      <td>6.669920</td>\n",
       "    </tr>\n",
       "    <tr>\n",
       "      <th>4</th>\n",
       "      <td>0.1</td>\n",
       "      <td>3</td>\n",
       "      <td>10</td>\n",
       "      <td>0.997455</td>\n",
       "      <td>0.980814</td>\n",
       "      <td>1.000000</td>\n",
       "      <td>0.993841</td>\n",
       "      <td>0.963968</td>\n",
       "      <td>0.998422</td>\n",
       "      <td>18.596509</td>\n",
       "    </tr>\n",
       "    <tr>\n",
       "      <th>10</th>\n",
       "      <td>1.0</td>\n",
       "      <td>3</td>\n",
       "      <td>10</td>\n",
       "      <td>1.000000</td>\n",
       "      <td>1.000000</td>\n",
       "      <td>1.000000</td>\n",
       "      <td>0.989741</td>\n",
       "      <td>0.963968</td>\n",
       "      <td>0.993693</td>\n",
       "      <td>18.580140</td>\n",
       "    </tr>\n",
       "    <tr>\n",
       "      <th>11</th>\n",
       "      <td>1.0</td>\n",
       "      <td>3</td>\n",
       "      <td>25</td>\n",
       "      <td>1.000000</td>\n",
       "      <td>1.000000</td>\n",
       "      <td>1.000000</td>\n",
       "      <td>0.989741</td>\n",
       "      <td>0.963968</td>\n",
       "      <td>0.993695</td>\n",
       "      <td>44.552344</td>\n",
       "    </tr>\n",
       "    <tr>\n",
       "      <th>8</th>\n",
       "      <td>1.0</td>\n",
       "      <td>2</td>\n",
       "      <td>10</td>\n",
       "      <td>0.998405</td>\n",
       "      <td>0.997421</td>\n",
       "      <td>0.998555</td>\n",
       "      <td>0.985975</td>\n",
       "      <td>0.958772</td>\n",
       "      <td>0.990139</td>\n",
       "      <td>13.032878</td>\n",
       "    </tr>\n",
       "    <tr>\n",
       "      <th>9</th>\n",
       "      <td>1.0</td>\n",
       "      <td>2</td>\n",
       "      <td>25</td>\n",
       "      <td>0.998709</td>\n",
       "      <td>0.999140</td>\n",
       "      <td>0.998643</td>\n",
       "      <td>0.984951</td>\n",
       "      <td>0.958772</td>\n",
       "      <td>0.988958</td>\n",
       "      <td>31.715422</td>\n",
       "    </tr>\n",
       "    <tr>\n",
       "      <th>2</th>\n",
       "      <td>0.1</td>\n",
       "      <td>2</td>\n",
       "      <td>10</td>\n",
       "      <td>0.995745</td>\n",
       "      <td>0.968210</td>\n",
       "      <td>0.999956</td>\n",
       "      <td>0.992474</td>\n",
       "      <td>0.956275</td>\n",
       "      <td>0.998030</td>\n",
       "      <td>12.489986</td>\n",
       "    </tr>\n",
       "  </tbody>\n",
       "</table>\n",
       "</div>"
      ],
      "text/plain": [
       "    learning_rate  max_depth  n_estimators  mean_train_acc  mean_train_tpr  \\\n",
       "1             0.1          1            25        0.994644        0.975659   \n",
       "5             0.1          3            25        0.998822        0.991122   \n",
       "6             1.0          1            10        0.995214        0.982532   \n",
       "7             1.0          1            25        0.995251        0.982532   \n",
       "3             0.1          2            25        0.997227        0.979957   \n",
       "0             0.1          1            10        0.994606        0.967352   \n",
       "4             0.1          3            10        0.997455        0.980814   \n",
       "10            1.0          3            10        1.000000        1.000000   \n",
       "11            1.0          3            25        1.000000        1.000000   \n",
       "8             1.0          2            10        0.998405        0.997421   \n",
       "9             1.0          2            25        0.998709        0.999140   \n",
       "2             0.1          2            10        0.995745        0.968210   \n",
       "\n",
       "    mean_train_tnr  mean_val_acc  mean_val_tpr  mean_val_tnr  mean_fit_time  \n",
       "1         0.997547      0.993157      0.969096      0.996849      16.131887  \n",
       "5         1.000000      0.992474      0.969096      0.996060      47.023306  \n",
       "6         0.997153      0.991449      0.969096      0.994879       6.850760  \n",
       "7         0.997197      0.991449      0.969096      0.994879      16.830054  \n",
       "3         0.999869      0.992473      0.966532      0.996454      30.856894  \n",
       "0         0.998774      0.993499      0.963968      0.998030       6.669920  \n",
       "4         1.000000      0.993841      0.963968      0.998422      18.596509  \n",
       "10        1.000000      0.989741      0.963968      0.993693      18.580140  \n",
       "11        1.000000      0.989741      0.963968      0.993695      44.552344  \n",
       "8         0.998555      0.985975      0.958772      0.990139      13.032878  \n",
       "9         0.998643      0.984951      0.958772      0.988958      31.715422  \n",
       "2         0.999956      0.992474      0.956275      0.998030      12.489986  "
      ]
     },
     "execution_count": 18,
     "metadata": {},
     "output_type": "execute_result"
    }
   ],
   "source": [
    "df = extract_df(gridsearch_clf)\n",
    "df.sort_values(by=['mean_val_tpr'], ascending=False)"
   ]
  },
  {
   "cell_type": "markdown",
   "metadata": {},
   "source": [
    "### Early Stopping\n",
    "\n",
    "`\n",
    "IN PROGRESS....\n",
    "`"
   ]
  },
  {
   "cell_type": "code",
   "execution_count": 19,
   "metadata": {},
   "outputs": [],
   "source": [
    "X_train, X_val, y_train, y_val = train_test_split(X_tfidf_svd800_spamcos, y, stratify=y)\n",
    "gb_clf = GradientBoostingClassifier(max_depth=1)"
   ]
  },
  {
   "cell_type": "code",
   "execution_count": 32,
   "metadata": {},
   "outputs": [
    {
     "name": "stdout",
     "output_type": "stream",
     "text": [
      "n_estimators: 1\n",
      "recall: 0.0000\n",
      "max_val_recall: 1.0000\n",
      "Recall not going up\n",
      "recall_not_going_up: 1.0000\n",
      "\n",
      "n_estimators: 2\n",
      "recall: 0.0000\n",
      "max_val_recall: 0.0000\n",
      "Recall stabilizing\n",
      "recall_not_going_up: 2.0000\n",
      "\n",
      "n_estimators: 3\n",
      "recall: 0.0000\n",
      "max_val_recall: 0.0000\n",
      "Recall stabilizing\n",
      "recall_not_going_up: 3.0000\n",
      "\n",
      "n_estimators: 4\n",
      "recall: 0.0000\n",
      "max_val_recall: 0.0000\n",
      "Recall stabilizing\n",
      "recall_not_going_up: 4.0000\n",
      "\n",
      "n_estimators: 5\n",
      "recall: 0.9457\n",
      "max_val_recall: 0.0000\n",
      "Recall going up\n",
      "recall_not_going_up: 0.0000\n",
      "\n",
      "n_estimators: 6\n",
      "recall: 0.9457\n",
      "max_val_recall: 0.9457\n",
      "Recall stabilizing\n",
      "recall_not_going_up: 1.0000\n",
      "\n",
      "n_estimators: 7\n",
      "recall: 0.9690\n",
      "max_val_recall: 0.9457\n",
      "Recall going up\n",
      "recall_not_going_up: 0.0000\n",
      "\n",
      "n_estimators: 8\n",
      "recall: 0.9690\n",
      "max_val_recall: 0.9690\n",
      "Recall stabilizing\n",
      "recall_not_going_up: 1.0000\n",
      "\n",
      "n_estimators: 9\n",
      "recall: 0.9690\n",
      "max_val_recall: 0.9690\n",
      "Recall stabilizing\n",
      "recall_not_going_up: 2.0000\n",
      "\n",
      "n_estimators: 10\n",
      "recall: 0.9690\n",
      "max_val_recall: 0.9690\n",
      "Recall stabilizing\n",
      "recall_not_going_up: 3.0000\n",
      "\n",
      "n_estimators: 11\n",
      "recall: 0.9690\n",
      "max_val_recall: 0.9690\n",
      "Recall stabilizing\n",
      "recall_not_going_up: 4.0000\n",
      "\n",
      "n_estimators: 12\n",
      "recall: 0.9690\n",
      "max_val_recall: 0.9690\n",
      "Recall stabilizing\n",
      "recall_not_going_up: 5.0000\n",
      "\n",
      "best_n_estimators: 7\n"
     ]
    }
   ],
   "source": [
    "max_val_recall = 1.0\n",
    "recall_not_going_up = 0.0\n",
    "\n",
    "for n_estimators in range(1, 100):\n",
    "    gb_clf.n_estimators = n_estimators\n",
    "    gb_clf.fit(X_train, y_train)\n",
    "    y_pred = gb_clf.predict(X_val)\n",
    "    recall = recall_score(y_val, y_pred)\n",
    "    \n",
    "    print(f'n_estimators: {n_estimators:0.0f}')\n",
    "    print(f'recall: {recall:0.4f}')\n",
    "    print(f'max_val_recall: {max_val_recall:0.4f}')\n",
    "    \n",
    "    if recall < max_val_recall:\n",
    "        print('Recall not going up')\n",
    "        recall_not_going_up += 1\n",
    "        max_val_recall = recall\n",
    "        print(f'recall_not_going_up: {recall_not_going_up:0.4f}\\n')\n",
    "        if recall_not_going_up == 5:\n",
    "            gb_clf.n_estimators_ = n_estimators-5\n",
    "            print(f'best_n_estimators: {n_estimators-5:0.0f}')\n",
    "            break\n",
    "    elif recall == max_val_recall:\n",
    "        print('Recall stabilizing')\n",
    "        recall_not_going_up += 1\n",
    "        max_val_recall = recall\n",
    "        print(f'recall_not_going_up: {recall_not_going_up:0.4f}\\n')\n",
    "        if recall_not_going_up == 5:\n",
    "            gb_clf.n_estimators_ = n_estimators-5\n",
    "            print(f'best_n_estimators: {n_estimators-5:0.0f}')\n",
    "            break\n",
    "    else:\n",
    "        print('Recall going up')\n",
    "        recall_not_going_up = 0\n",
    "        max_val_recall = recall\n",
    "        print(f'recall_not_going_up: {recall_not_going_up:0.4f}\\n')"
   ]
  },
  {
   "cell_type": "code",
   "execution_count": 33,
   "metadata": {},
   "outputs": [
    {
     "data": {
      "text/plain": [
       "7"
      ]
     },
     "execution_count": 33,
     "metadata": {},
     "output_type": "execute_result"
    }
   ],
   "source": [
    "gb_clf.n_estimators_"
   ]
  },
  {
   "cell_type": "code",
   "execution_count": 34,
   "metadata": {},
   "outputs": [
    {
     "name": "stdout",
     "output_type": "stream",
     "text": [
      "          pred_neg  pred_pos\n",
      "cond_neg       846         0\n",
      "cond_pos         4       125\n",
      "acc: 0.9959\n",
      "tpr: 0.9690\n",
      "tnr: 1.0000\n"
     ]
    }
   ],
   "source": [
    "y_pred = gb_clf.predict(X_val)\n",
    "eval_clf(y_val, y_pred)"
   ]
  },
  {
   "cell_type": "markdown",
   "metadata": {},
   "source": [
    "---"
   ]
  }
 ],
 "metadata": {
  "kernelspec": {
   "display_name": "Python 3",
   "language": "python",
   "name": "python3"
  },
  "language_info": {
   "codemirror_mode": {
    "name": "ipython",
    "version": 3
   },
   "file_extension": ".py",
   "mimetype": "text/x-python",
   "name": "python",
   "nbconvert_exporter": "python",
   "pygments_lexer": "ipython3",
   "version": "3.9.1"
  }
 },
 "nbformat": 4,
 "nbformat_minor": 4
}
