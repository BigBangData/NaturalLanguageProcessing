{
 "cells": [
  {
   "cell_type": "code",
   "execution_count": 1,
   "metadata": {},
   "outputs": [],
   "source": [
    "import os\n",
    "import csv\n",
    "import json\n",
    "import time\n",
    "import tweepy\n",
    "import datetime\n",
    "import schedule"
   ]
  },
  {
   "cell_type": "code",
   "execution_count": 2,
   "metadata": {},
   "outputs": [],
   "source": [
    "def initiate_api():\n",
    "    with open('./.conf/config.json', 'r') as f:\n",
    "        config = json.load(f)\n",
    "    auth = tweepy.OAuthHandler(config[\"CONSUMER_KEY\"], config[\"CONSUMER_SECRET\"])\n",
    "    auth.set_access_token(config[\"ACCESS_KEY\"], config[\"ACCESS_SECRET\"])\n",
    "    api = tweepy.API(auth)\n",
    "    return api"
   ]
  },
  {
   "cell_type": "code",
   "execution_count": 3,
   "metadata": {},
   "outputs": [],
   "source": [
    "def get_woeid(api, locations):\n",
    "    twitter_world = api.trends_available()\n",
    "    places = {loc['name'].lower() : loc['woeid'] for loc in twitter_world};\n",
    "    woeids = []\n",
    "    for location in locations:\n",
    "        if location in places:\n",
    "            woeids.append(places[location])\n",
    "        else:\n",
    "            print(\"err: \",location,\" woeid does not exist in trending topics\")\n",
    "    return woeids"
   ]
  },
  {
   "cell_type": "code",
   "execution_count": 4,
   "metadata": {},
   "outputs": [],
   "source": [
    "def isEnglish(text):\n",
    "    try:\n",
    "        text.encode(encoding='utf-8').decode('ascii')\n",
    "    except UnicodeDecodeError:\n",
    "        return False\n",
    "    else:\n",
    "        return True"
   ]
  },
  {
   "cell_type": "code",
   "execution_count": 5,
   "metadata": {},
   "outputs": [],
   "source": [
    "def get_tweets(api, query):\n",
    "    \n",
    "    tweets = []\n",
    "    for status in tweepy.Cursor(api.search,\n",
    "                                q=query,\n",
    "                                count=100,\n",
    "                                result_type='popular',\n",
    "                                include_entities=True,\n",
    "                                monitor_rate_limit=True, \n",
    "                                wait_on_rate_limit=True,\n",
    "                                lang=\"en\").items():\n",
    "     \n",
    "        if isEnglish(status.text) == True:\n",
    "            tweets.append([status.id_str, \n",
    "                           query, \n",
    "                           status.created_at, \n",
    "                           status.user.screen_name, \n",
    "                           status.text])\n",
    "    return tweets"
   ]
  },
  {
   "cell_type": "code",
   "execution_count": 6,
   "metadata": {},
   "outputs": [],
   "source": [
    "def get_trending_hashtags(api, location):\n",
    "    \n",
    "    woeids = get_woeid(api, location)\n",
    "    trending = set()\n",
    "    \n",
    "    for woeid in woeids:\n",
    "        try:\n",
    "            trends = api.trends_place(woeid)\n",
    "        except:\n",
    "            print(\"API limit exceeded. Waiting for next hour\")\n",
    "            time.sleep(3605) # 1-hour + 5 secs \n",
    "            trends = api.trends_place(woeid)\n",
    "        \n",
    "        topics = [trend['name'][1:] for trend in trends[0]['trends'] \\\n",
    "                  if (trend['name'].find('#') == 0 and isEnglish(trend['name']) == True)]\n",
    "        \n",
    "        trending.update(topics)\n",
    "    \n",
    "    return trending"
   ]
  },
  {
   "cell_type": "code",
   "execution_count": 7,
   "metadata": {},
   "outputs": [],
   "source": [
    "def twitter_bot(api, locations):\n",
    "    \n",
    "    today = datetime.datetime.today().strftime('%Y_%m_%d')\n",
    "    \n",
    "    if not os.path.exists(\"trending_tweets\"):\n",
    "        os.makedirs(\"trending_tweets\")\n",
    "        \n",
    "    file_tweets = open(\"trending_tweets/\" + today + \"-tweets.csv\", \"a+\")\n",
    "    file_hashtags = open(\"trending_tweets/\" + today + \"-hashtags.csv\", \"w+\")\n",
    "    writer = csv.writer(file_tweets)\n",
    "    \n",
    "    hashtags = get_trending_hashtags(api, locations)\n",
    "    file_hashtags.write(\"\\n\".join(hashtags))\n",
    "    print(\"Hashtags written to file.\\n\")\n",
    "    file_hashtags.close()\n",
    "    \n",
    "    for hashtag in hashtags:\n",
    "        try:\n",
    "            print(\"Getting Tweets for the hashtag: \", hashtag)\n",
    "            tweets = get_tweets(api, \"#\" + hashtag)\n",
    "        except:\n",
    "            print(\"API limit exceeded. Waiting for next hour\")\n",
    "            time.sleep(3605) # 1-hour + 5 secs\n",
    "            tweets = get_tweets(api, \"#\" + hashtag)\n",
    "        for tweet in tweets:\n",
    "            writer.writerow(tweet)\n",
    "    \n",
    "    file_tweets.close()"
   ]
  },
  {
   "cell_type": "code",
   "execution_count": 8,
   "metadata": {},
   "outputs": [],
   "source": [
    "import schedule\n",
    "import time\n",
    "\n",
    "def main():\n",
    "\n",
    "    #locations = ['new york', 'los angeles', 'philadelphia', 'canada', 'united kingdom', 'india']        \n",
    "    locations = ['new york']\n",
    "    api = initiate_api()\n",
    "    \n",
    "    #schedule.every().day.at(\"00:00\").do(twitter_bot, api, locations)\n",
    "    schedule.every(905).seconds.do(twitter_bot, api, locations) # 15 mins + 5 secs\n",
    "    \n",
    "    while True:\n",
    "        schedule.run_pending()\n",
    "        time.sleep(5)"
   ]
  },
  {
   "cell_type": "code",
   "execution_count": 9,
   "metadata": {},
   "outputs": [
    {
     "name": "stdout",
     "output_type": "stream",
     "text": [
      "Hashtags written to file.\n",
      "\n",
      "Getting Tweets for the hashtag:  GoAvsGo\n",
      "Getting Tweets for the hashtag:  OneMission\n",
      "Getting Tweets for the hashtag:  SexIsGreatButHaveYou\n",
      "Getting Tweets for the hashtag:  OKCvsHOU\n",
      "Getting Tweets for the hashtag:  miavsmil\n",
      "Getting Tweets for the hashtag:  RHOBH\n",
      "Getting Tweets for the hashtag:  AEWDynamite\n",
      "Hashtags written to file.\n",
      "\n",
      "Getting Tweets for the hashtag:  GoAvsGo\n",
      "Getting Tweets for the hashtag:  OneMission\n",
      "Getting Tweets for the hashtag:  NBAPlayoffs\n",
      "Getting Tweets for the hashtag:  SexIsGreatButHaveYou\n",
      "Getting Tweets for the hashtag:  miavsmil\n",
      "Getting Tweets for the hashtag:  RHOBH\n",
      "Getting Tweets for the hashtag:  AEWDynamite\n",
      "Hashtags written to file.\n",
      "\n",
      "Getting Tweets for the hashtag:  OneMission\n",
      "Getting Tweets for the hashtag:  SexIsGreatButHaveYou\n",
      "Getting Tweets for the hashtag:  OKCvsHOU\n",
      "Getting Tweets for the hashtag:  RHOBH\n",
      "Getting Tweets for the hashtag:  twug\n",
      "Getting Tweets for the hashtag:  AEWDynamite\n",
      "Hashtags written to file.\n",
      "\n",
      "Getting Tweets for the hashtag:  OneMission\n",
      "Getting Tweets for the hashtag:  SexIsGreatButHaveYou\n",
      "Getting Tweets for the hashtag:  JusticeForDeon\n",
      "Getting Tweets for the hashtag:  RHOBH\n",
      "Getting Tweets for the hashtag:  twug\n",
      "Getting Tweets for the hashtag:  AEWDynamite\n"
     ]
    },
    {
     "ename": "KeyboardInterrupt",
     "evalue": "",
     "output_type": "error",
     "traceback": [
      "\u001b[1;31m---------------------------------------------------------------------------\u001b[0m",
      "\u001b[1;31mKeyboardInterrupt\u001b[0m                         Traceback (most recent call last)",
      "\u001b[1;32m<ipython-input-9-5b09f8f83b92>\u001b[0m in \u001b[0;36m<module>\u001b[1;34m\u001b[0m\n\u001b[0;32m      1\u001b[0m \u001b[1;31m# run\u001b[0m\u001b[1;33m\u001b[0m\u001b[1;33m\u001b[0m\u001b[1;33m\u001b[0m\u001b[0m\n\u001b[1;32m----> 2\u001b[1;33m \u001b[0mmain\u001b[0m\u001b[1;33m(\u001b[0m\u001b[1;33m)\u001b[0m\u001b[1;33m\u001b[0m\u001b[1;33m\u001b[0m\u001b[0m\n\u001b[0m",
      "\u001b[1;32m<ipython-input-8-ad49a7e78f40>\u001b[0m in \u001b[0;36mmain\u001b[1;34m()\u001b[0m\n\u001b[0;32m     12\u001b[0m     \u001b[1;32mwhile\u001b[0m \u001b[1;32mTrue\u001b[0m\u001b[1;33m:\u001b[0m\u001b[1;33m\u001b[0m\u001b[1;33m\u001b[0m\u001b[0m\n\u001b[0;32m     13\u001b[0m         \u001b[0mschedule\u001b[0m\u001b[1;33m.\u001b[0m\u001b[0mrun_pending\u001b[0m\u001b[1;33m(\u001b[0m\u001b[1;33m)\u001b[0m\u001b[1;33m\u001b[0m\u001b[1;33m\u001b[0m\u001b[0m\n\u001b[1;32m---> 14\u001b[1;33m         \u001b[0mtime\u001b[0m\u001b[1;33m.\u001b[0m\u001b[0msleep\u001b[0m\u001b[1;33m(\u001b[0m\u001b[1;36m5\u001b[0m\u001b[1;33m)\u001b[0m\u001b[1;33m\u001b[0m\u001b[1;33m\u001b[0m\u001b[0m\n\u001b[0m",
      "\u001b[1;31mKeyboardInterrupt\u001b[0m: "
     ]
    }
   ],
   "source": [
    "# run\n",
    "main()"
   ]
  },
  {
   "cell_type": "code",
   "execution_count": null,
   "metadata": {},
   "outputs": [],
   "source": []
  }
 ],
 "metadata": {
  "kernelspec": {
   "display_name": "Python 3",
   "language": "python",
   "name": "python3"
  },
  "language_info": {
   "codemirror_mode": {
    "name": "ipython",
    "version": 3
   },
   "file_extension": ".py",
   "mimetype": "text/x-python",
   "name": "python",
   "nbconvert_exporter": "python",
   "pygments_lexer": "ipython3",
   "version": "3.7.3"
  }
 },
 "nbformat": 4,
 "nbformat_minor": 4
}
