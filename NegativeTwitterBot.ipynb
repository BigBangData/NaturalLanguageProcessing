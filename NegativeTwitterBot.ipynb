{
 "cells": [
  {
   "cell_type": "code",
   "execution_count": 25,
   "metadata": {},
   "outputs": [],
   "source": [
    "import re\n",
    "import os\n",
    "import json\n",
    "import time\n",
    "\n",
    "import tweepy\n",
    "import string\n",
    "import datetime\n",
    "import schedule\n",
    "import urlextract\n",
    "import pandas as pd\n",
    "\n",
    "from html import unescape\n",
    "from nltk.corpus import stopwords\n",
    "from nltk.tokenize import word_tokenize\n",
    "from nltk.stem import PorterStemmer"
   ]
  },
  {
   "cell_type": "code",
   "execution_count": 26,
   "metadata": {},
   "outputs": [],
   "source": [
    "def initiate_api():\n",
    "    with open('./.conf/config.json', 'r') as f:\n",
    "        config = json.load(f)\n",
    "    auth = tweepy.OAuthHandler(config[\"CONSUMER_KEY\"], config[\"CONSUMER_SECRET\"])\n",
    "    auth.set_access_token(config[\"ACCESS_KEY\"], config[\"ACCESS_SECRET\"])\n",
    "    api = tweepy.API(auth, wait_on_rate_limit=True)\n",
    "    return api"
   ]
  },
  {
   "cell_type": "code",
   "execution_count": 27,
   "metadata": {},
   "outputs": [],
   "source": [
    "def collect_negative_tweets(api):\n",
    "    \n",
    "    query = '(🤬 OR 🤮 OR 😡 OR 😤 OR 🥺 OR 🤢 OR 😣 OR \\\n",
    "              😟 OR 😣 OR 🤔 OR 🤥 OR 😫 OR 🤮 OR 🥵 OR \\\n",
    "              😨 OR 😰 OR 😭 OR 😥 OR 🙁) \\\n",
    "        AND \\\n",
    "            -(😃 OR 😄 OR 😁 OR 🥰 OR 😊 OR ❤️ OR 💋 OR \\\n",
    "              😍 OR 😂 OR 😎 OR 🤣 OR 😘 OR 😇 OR 🙃 OR \\\n",
    "              😉 OR 😇 OR 🤩 OR 😃 OR 😄 OR 🙂 OR 😭)'\n",
    "    \n",
    "    tweets = []\n",
    "    for status in tweepy.Cursor(api.search,\n",
    "                           q=query,\n",
    "                            include_entities=True,\n",
    "                            monitor_rate_limit=True, \n",
    "                            wait_on_rate_limit=True,\n",
    "                           lang=\"en\").items(100):\n",
    "\n",
    "        tweets.append([status.id_str, \n",
    "                       status.created_at, \n",
    "                       status.user.screen_name, \n",
    "                       status.text])\n",
    "    return tweets"
   ]
  },
  {
   "cell_type": "code",
   "execution_count": 28,
   "metadata": {},
   "outputs": [],
   "source": [
    "def save_raw_tweets(tweets):\n",
    "\n",
    "    tweets_df = pd.DataFrame(tweets, \n",
    "                             columns=[\"ID\", \"Timestamp\", \"User\", \"Text\"])\n",
    "    \n",
    "    now_prefix = datetime.datetime.now().strftime(\"%Y%m%d_%H%M%S_\")\n",
    "    filepath = os.path.join(\"data\",\"raw\",\"tweets\")\n",
    "    \n",
    "    if not os.path.exists(filepath):\n",
    "        os.makedirs(filepath)\n",
    "        \n",
    "    filename = ''.join([now_prefix, \"negative_tweets.csv\"])\n",
    "    \n",
    "    tweets_df.to_csv(os.path.join(filepath, filename), \n",
    "                     index=False)"
   ]
  },
  {
   "cell_type": "code",
   "execution_count": 29,
   "metadata": {},
   "outputs": [],
   "source": [
    "def negative_twitter_bot(api):\n",
    " \n",
    "    try:\n",
    "        tweets = collect_tweets(api)\n",
    "    except:\n",
    "        print(\"API limit exceeded. Waiting 1 hour.\")\n",
    "        time.sleep(3600)\n",
    "        tweets = collect_tweets(api, query, date_since)\n",
    "   \n",
    "    save_raw_tweets(tweets)"
   ]
  },
  {
   "cell_type": "code",
   "execution_count": 32,
   "metadata": {},
   "outputs": [],
   "source": [
    "def main():\n",
    "\n",
    "    api = initiate_api()\n",
    "\n",
    "    schedule.every(300).seconds.do(negative_twitter_bot, api)\n",
    "    \n",
    "    while True:\n",
    "        schedule.run_pending()\n",
    "        time.sleep(30)"
   ]
  },
  {
   "cell_type": "code",
   "execution_count": null,
   "metadata": {},
   "outputs": [
    {
     "name": "stdout",
     "output_type": "stream",
     "text": [
      "API limit exceeded. Waiting 1 hour.\n"
     ]
    }
   ],
   "source": [
    "main()"
   ]
  },
  {
   "cell_type": "code",
   "execution_count": null,
   "metadata": {},
   "outputs": [],
   "source": []
  }
 ],
 "metadata": {
  "kernelspec": {
   "display_name": "Python 3",
   "language": "python",
   "name": "python3"
  },
  "language_info": {
   "codemirror_mode": {
    "name": "ipython",
    "version": 3
   },
   "file_extension": ".py",
   "mimetype": "text/x-python",
   "name": "python",
   "nbconvert_exporter": "python",
   "pygments_lexer": "ipython3",
   "version": "3.7.3"
  }
 },
 "nbformat": 4,
 "nbformat_minor": 4
}
