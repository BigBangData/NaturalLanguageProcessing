{
 "cells": [
  {
   "cell_type": "code",
   "execution_count": 102,
   "metadata": {},
   "outputs": [],
   "source": [
    "import re\n",
    "import os\n",
    "import json\n",
    "import time\n",
    "\n",
    "import tweepy\n",
    "import string\n",
    "import datetime\n",
    "import schedule\n",
    "import urlextract\n",
    "import pandas as pd\n",
    "\n",
    "from html import unescape\n",
    "from nltk.corpus import stopwords\n",
    "from nltk.tokenize import word_tokenize\n",
    "from nltk.stem import PorterStemmer"
   ]
  },
  {
   "cell_type": "code",
   "execution_count": 14,
   "metadata": {},
   "outputs": [],
   "source": [
    "def initiate_api():\n",
    "    with open('./.conf/config.json', 'r') as f:\n",
    "        config = json.load(f)\n",
    "    auth = tweepy.OAuthHandler(config[\"CONSUMER_KEY\"], config[\"CONSUMER_SECRET\"])\n",
    "    auth.set_access_token(config[\"ACCESS_KEY\"], config[\"ACCESS_SECRET\"])\n",
    "    api = tweepy.API(auth, wait_on_rate_limit=True)\n",
    "    return api"
   ]
  },
  {
   "cell_type": "code",
   "execution_count": 15,
   "metadata": {},
   "outputs": [],
   "source": [
    "api = initiate_api()"
   ]
  },
  {
   "cell_type": "code",
   "execution_count": 16,
   "metadata": {},
   "outputs": [],
   "source": [
    "negative_query = '(🤬 OR 🤮 OR 😡 OR 😤 OR 🥺 OR 🤢 OR 😣 OR 😟 OR 😣 OR 🤔 OR 🤥 OR 😫 OR 🤮 OR 🥵 OR 😨 OR 😰 \\\n",
    "                   OR 😭 OR 😥 OR 🙁) AND -(😃 OR 😄 OR 😁 OR 🥰 OR 😊 OR ❤️ OR 💋 OR 😍 OR 😂 OR 😎 OR 🤣 OR 😘 \\\n",
    "                   OR 😇 OR 🙃 OR 😉 OR 😇 OR 🤩 OR 😃 OR 😄 OR 🙂 OR 😭)'\n",
    "\n",
    "date_since = \"2019-01-01\"\n",
    "\n",
    "# Collect tweets\n",
    "tweets = []\n",
    "for status in tweepy.Cursor(api.search,\n",
    "                       q=negative_query,\n",
    "                        include_entities=True,\n",
    "                        monitor_rate_limit=True, \n",
    "                        wait_on_rate_limit=True,\n",
    "                       lang=\"en\",\n",
    "                       since=date_since).items(10):\n",
    "\n",
    "    tweets.append([status.id_str, \n",
    "                   status.created_at, \n",
    "                   status.user.screen_name, \n",
    "                   status.text])"
   ]
  },
  {
   "cell_type": "code",
   "execution_count": 137,
   "metadata": {},
   "outputs": [],
   "source": [
    "tweets_df = pd.DataFrame(tweets, columns=[\"ID\", \"Timestamp\", \"User\", \"Text\"])\n",
    "\n",
    "# save raw data for processing later\n",
    "\n",
    "now_prefix = datetime.datetime.now().strftime(\"%Y%m%d_%H%M%S_\")\n",
    "\n",
    "filepath = \"./data/tweets/raw\"\n",
    "if not os.path.exists(filepath):\n",
    "    os.makedirs(filepath)\n",
    "\n",
    "tweets_df.to_csv(os.path.join(filepath, ''.join([now_prefix, \"tweets.csv\"])), index=False)"
   ]
  },
  {
   "cell_type": "code",
   "execution_count": 134,
   "metadata": {},
   "outputs": [],
   "source": [
    "# create feature that identifies a retweet (RT)\n",
    "# add a label (-1, maybe use textBlob from python to test their sentiment analysis)\n",
    "# cleanup tweet text"
   ]
  },
  {
   "cell_type": "code",
   "execution_count": 135,
   "metadata": {},
   "outputs": [
    {
     "data": {
      "text/plain": [
       "[['1302377912545370112',\n",
       "  datetime.datetime(2020, 9, 5, 22, 47, 46),\n",
       "  'kimseok1204',\n",
       "  'RT @monipersona: a thread of namjoon; but as you scroll down he gets older 🥺 @BTS_twt https://t.co/2LNRCnfjY7'],\n",
       " ['1302377911962480646',\n",
       "  datetime.datetime(2020, 9, 5, 22, 47, 45),\n",
       "  'Sabel014',\n",
       "  'RT @SB19Official: What\\'s your favorite track in \"Get In The Zone!\"? 🤔\\n\\n#SB191stAlbum #SB19 #SB19_SEJUN #SB19_JUSTIN #SB19_STELL #SB19_JOSH…'],\n",
       " ['1302377911580864513',\n",
       "  datetime.datetime(2020, 9, 5, 22, 47, 45),\n",
       "  'signor_Wilson',\n",
       "  'RT @OlisaOsega: After dancing tonight, tomorrow morning Prince will open his hair dressing and barbing salon. 😭😭😭\\n\\nIf Darling don’t give th…'],\n",
       " ['1302377911521955845',\n",
       "  datetime.datetime(2020, 9, 5, 22, 47, 45),\n",
       "  'MalakiBusta',\n",
       "  '@hoobisboobies 🥺 sending hugs'],\n",
       " ['1302377911387918336',\n",
       "  datetime.datetime(2020, 9, 5, 22, 47, 45),\n",
       "  'ceeitachi',\n",
       "  'RT @rahm3sh: Y’all need to leave the jobs that require you to serve food on roller skates alone ‼️😭 https://t.co/qNo58BAgXL'],\n",
       " ['1302377911291392002',\n",
       "  datetime.datetime(2020, 9, 5, 22, 47, 45),\n",
       "  '_Divergent_00',\n",
       "  'RT @alyssabaptiste_: men love to play the asshole and no feelings role when they have all the feelings in the world 😭'],\n",
       " ['1302377911132053513',\n",
       "  datetime.datetime(2020, 9, 5, 22, 47, 45),\n",
       "  'oyinks434',\n",
       "  'It’s the love emoji for me😭😭 https://t.co/UyA4sefiq3'],\n",
       " ['1302377911001833472',\n",
       "  datetime.datetime(2020, 9, 5, 22, 47, 45),\n",
       "  'bongotttti',\n",
       "  'RT @lilkowch: lmaooo wtf my bro chilling in iraq 😭 https://t.co/Bo41xsTCA2'],\n",
       " ['1302377910888792064',\n",
       "  datetime.datetime(2020, 9, 5, 22, 47, 45),\n",
       "  'vuyiiswaa',\n",
       "  'RT @sibahlesays: 😭😭😭 pls why is this ending me?? https://t.co/iDiBbldP2c'],\n",
       " ['1302377910431440896',\n",
       "  datetime.datetime(2020, 9, 5, 22, 47, 45),\n",
       "  'versacepapij',\n",
       "  'I’m convinced the world ended in 2016 cus ain’t shit been the same since 😭']]"
      ]
     },
     "execution_count": 135,
     "metadata": {},
     "output_type": "execute_result"
    }
   ],
   "source": [
    "tweets"
   ]
  },
  {
   "cell_type": "code",
   "execution_count": 136,
   "metadata": {},
   "outputs": [
    {
     "data": {
      "text/html": [
       "<div>\n",
       "<style scoped>\n",
       "    .dataframe tbody tr th:only-of-type {\n",
       "        vertical-align: middle;\n",
       "    }\n",
       "\n",
       "    .dataframe tbody tr th {\n",
       "        vertical-align: top;\n",
       "    }\n",
       "\n",
       "    .dataframe thead th {\n",
       "        text-align: right;\n",
       "    }\n",
       "</style>\n",
       "<table border=\"1\" class=\"dataframe\">\n",
       "  <thead>\n",
       "    <tr style=\"text-align: right;\">\n",
       "      <th></th>\n",
       "      <th>ID</th>\n",
       "      <th>Timestamp</th>\n",
       "      <th>User</th>\n",
       "      <th>Text</th>\n",
       "    </tr>\n",
       "  </thead>\n",
       "  <tbody>\n",
       "    <tr>\n",
       "      <th>0</th>\n",
       "      <td>1302377912545370112</td>\n",
       "      <td>2020-09-05 22:47:46</td>\n",
       "      <td>kimseok1204</td>\n",
       "      <td>RT @monipersona: a thread of namjoon; but as y...</td>\n",
       "    </tr>\n",
       "    <tr>\n",
       "      <th>1</th>\n",
       "      <td>1302377911962480646</td>\n",
       "      <td>2020-09-05 22:47:45</td>\n",
       "      <td>Sabel014</td>\n",
       "      <td>RT @SB19Official: What's your favorite track i...</td>\n",
       "    </tr>\n",
       "    <tr>\n",
       "      <th>2</th>\n",
       "      <td>1302377911580864513</td>\n",
       "      <td>2020-09-05 22:47:45</td>\n",
       "      <td>signor_Wilson</td>\n",
       "      <td>RT @OlisaOsega: After dancing tonight, tomorro...</td>\n",
       "    </tr>\n",
       "    <tr>\n",
       "      <th>3</th>\n",
       "      <td>1302377911521955845</td>\n",
       "      <td>2020-09-05 22:47:45</td>\n",
       "      <td>MalakiBusta</td>\n",
       "      <td>@hoobisboobies 🥺 sending hugs</td>\n",
       "    </tr>\n",
       "    <tr>\n",
       "      <th>4</th>\n",
       "      <td>1302377911387918336</td>\n",
       "      <td>2020-09-05 22:47:45</td>\n",
       "      <td>ceeitachi</td>\n",
       "      <td>RT @rahm3sh: Y’all need to leave the jobs that...</td>\n",
       "    </tr>\n",
       "    <tr>\n",
       "      <th>5</th>\n",
       "      <td>1302377911291392002</td>\n",
       "      <td>2020-09-05 22:47:45</td>\n",
       "      <td>_Divergent_00</td>\n",
       "      <td>RT @alyssabaptiste_: men love to play the assh...</td>\n",
       "    </tr>\n",
       "    <tr>\n",
       "      <th>6</th>\n",
       "      <td>1302377911132053513</td>\n",
       "      <td>2020-09-05 22:47:45</td>\n",
       "      <td>oyinks434</td>\n",
       "      <td>It’s the love emoji for me😭😭 https://t.co/UyA4...</td>\n",
       "    </tr>\n",
       "    <tr>\n",
       "      <th>7</th>\n",
       "      <td>1302377911001833472</td>\n",
       "      <td>2020-09-05 22:47:45</td>\n",
       "      <td>bongotttti</td>\n",
       "      <td>RT @lilkowch: lmaooo wtf my bro chilling in ir...</td>\n",
       "    </tr>\n",
       "    <tr>\n",
       "      <th>8</th>\n",
       "      <td>1302377910888792064</td>\n",
       "      <td>2020-09-05 22:47:45</td>\n",
       "      <td>vuyiiswaa</td>\n",
       "      <td>RT @sibahlesays: 😭😭😭 pls why is this ending me...</td>\n",
       "    </tr>\n",
       "    <tr>\n",
       "      <th>9</th>\n",
       "      <td>1302377910431440896</td>\n",
       "      <td>2020-09-05 22:47:45</td>\n",
       "      <td>versacepapij</td>\n",
       "      <td>I’m convinced the world ended in 2016 cus ain’...</td>\n",
       "    </tr>\n",
       "  </tbody>\n",
       "</table>\n",
       "</div>"
      ],
      "text/plain": [
       "                    ID           Timestamp           User  \\\n",
       "0  1302377912545370112 2020-09-05 22:47:46    kimseok1204   \n",
       "1  1302377911962480646 2020-09-05 22:47:45       Sabel014   \n",
       "2  1302377911580864513 2020-09-05 22:47:45  signor_Wilson   \n",
       "3  1302377911521955845 2020-09-05 22:47:45    MalakiBusta   \n",
       "4  1302377911387918336 2020-09-05 22:47:45      ceeitachi   \n",
       "5  1302377911291392002 2020-09-05 22:47:45  _Divergent_00   \n",
       "6  1302377911132053513 2020-09-05 22:47:45      oyinks434   \n",
       "7  1302377911001833472 2020-09-05 22:47:45     bongotttti   \n",
       "8  1302377910888792064 2020-09-05 22:47:45      vuyiiswaa   \n",
       "9  1302377910431440896 2020-09-05 22:47:45   versacepapij   \n",
       "\n",
       "                                                Text  \n",
       "0  RT @monipersona: a thread of namjoon; but as y...  \n",
       "1  RT @SB19Official: What's your favorite track i...  \n",
       "2  RT @OlisaOsega: After dancing tonight, tomorro...  \n",
       "3                      @hoobisboobies 🥺 sending hugs  \n",
       "4  RT @rahm3sh: Y’all need to leave the jobs that...  \n",
       "5  RT @alyssabaptiste_: men love to play the assh...  \n",
       "6  It’s the love emoji for me😭😭 https://t.co/UyA4...  \n",
       "7  RT @lilkowch: lmaooo wtf my bro chilling in ir...  \n",
       "8  RT @sibahlesays: 😭😭😭 pls why is this ending me...  \n",
       "9  I’m convinced the world ended in 2016 cus ain’...  "
      ]
     },
     "execution_count": 136,
     "metadata": {},
     "output_type": "execute_result"
    }
   ],
   "source": [
    "tweets_df"
   ]
  },
  {
   "cell_type": "code",
   "execution_count": 94,
   "metadata": {},
   "outputs": [],
   "source": [
    "# modified and improved version\n",
    "def cleanup_tweet(tweet):\n",
    "\n",
    "    # make all lower case\n",
    "    tweet = tweet.lower()\n",
    "\n",
    "    # remove URLs\n",
    "    # URL_pattern = r'\\w+:\\/{2}[\\d\\w-]+(\\.[\\d\\w-]+)*(?:(?:\\/[^\\s/]*))*'\n",
    "    # tweet = re.sub(URL_pattern, '', tweet, flags=re.MULTILINE)\n",
    "    # better, albeit slower, version\n",
    "    urls = list(set(url_extractor.find_urls(tweet)))\n",
    "    if len(urls) > 0:\n",
    "        for url in urls:\n",
    "            tweet = tweet.replace(url, \"\")\n",
    "\n",
    "    # unescape HTML entities like &quot\n",
    "    tweet = unescape(tweet)\n",
    "    \n",
    "    # remove user references (including username) or hashtags, etc.     \n",
    "    pattern = r'\\@\\w+|\\#|\\¥|\\â|\\«|\\»|\\Ñ|\\Ð|\\¼|\\½|\\¾|\\!|\\?|\\¿\\\n",
    "                |\\x82|\\x83|\\x84|\\x85|\\x86|\\x87|\\x88|\\x89|\\\n",
    "                |\\x8a|\\x8b|\\x8c|\\x8d|\\x8e|\\°|\\µ|\\´|\\º|\\¹|\\³'\n",
    "    \n",
    "    tweet = re.sub(pattern, '', tweet)\n",
    "\n",
    "    # remove punctuations\n",
    "    tweet = tweet.translate(str.maketrans('', '', string.punctuation))\n",
    "    \n",
    "    # remove emojis\n",
    "    tweet = re.sub(r'[^\\x00-\\x7F]+', '', tweet).strip()\n",
    "    \n",
    "    # final test, if after utf-8 encoding it's not ascii decodable, discard\n",
    "    def is_ascii(text):\n",
    "        try:\n",
    "            text.encode(encoding='utf-8').decode('ascii')\n",
    "        except UnicodeDecodeError:\n",
    "            return False\n",
    "        else:\n",
    "            return True\n",
    "    \n",
    "    if is_ascii(tweet) == False:\n",
    "        return \" \"\n",
    "    else:\n",
    "        pass\n",
    "    \n",
    "    # remove stopwords\n",
    "    # NLTK's set(stopwords.words('english')) removes too many words\n",
    "    # using list of 25 semantically non-selective words (Reuters-RCV1 dataset)\n",
    "    stop_words = ['a','an','and','are','as','at','be','by','for','from',\n",
    "                  'has','he','in','is','it','its','of','on','that','the',\n",
    "                  'to','was','were','will','with','rt'] # plus rt for retweet\n",
    "\n",
    "    tweet_tokens = word_tokenize(tweet)\n",
    "    filtered_words = [w for w in tweet_tokens if not w in stop_words]\n",
    "\n",
    "    ps = PorterStemmer()\n",
    "    stemmed_words = [ps.stem(w) for w in filtered_words]\n",
    "\n",
    "    return \" \".join(stemmed_words)"
   ]
  },
  {
   "cell_type": "code",
   "execution_count": 95,
   "metadata": {},
   "outputs": [],
   "source": [
    "tweets_text = [tweet[3] for tweet in tweets]"
   ]
  },
  {
   "cell_type": "code",
   "execution_count": 96,
   "metadata": {},
   "outputs": [
    {
     "data": {
      "text/plain": [
       "['RT @monipersona: a thread of namjoon; but as you scroll down he gets older 🥺 @BTS_twt https://t.co/2LNRCnfjY7',\n",
       " 'RT @SB19Official: What\\'s your favorite track in \"Get In The Zone!\"? 🤔\\n\\n#SB191stAlbum #SB19 #SB19_SEJUN #SB19_JUSTIN #SB19_STELL #SB19_JOSH…',\n",
       " 'RT @OlisaOsega: After dancing tonight, tomorrow morning Prince will open his hair dressing and barbing salon. 😭😭😭\\n\\nIf Darling don’t give th…',\n",
       " '@hoobisboobies 🥺 sending hugs',\n",
       " 'RT @rahm3sh: Y’all need to leave the jobs that require you to serve food on roller skates alone ‼️😭 https://t.co/qNo58BAgXL',\n",
       " 'RT @alyssabaptiste_: men love to play the asshole and no feelings role when they have all the feelings in the world 😭',\n",
       " 'It’s the love emoji for me😭😭 https://t.co/UyA4sefiq3',\n",
       " 'RT @lilkowch: lmaooo wtf my bro chilling in iraq 😭 https://t.co/Bo41xsTCA2',\n",
       " 'RT @sibahlesays: 😭😭😭 pls why is this ending me?? https://t.co/iDiBbldP2c',\n",
       " 'I’m convinced the world ended in 2016 cus ain’t shit been the same since 😭']"
      ]
     },
     "execution_count": 96,
     "metadata": {},
     "output_type": "execute_result"
    }
   ],
   "source": [
    "tweets_text"
   ]
  },
  {
   "cell_type": "code",
   "execution_count": 97,
   "metadata": {},
   "outputs": [],
   "source": [
    "url_extractor = urlextract.URLExtract()\n",
    "cleanted_tweets_text = [cleanup_tweet(tweet) for tweet in tweets_text]"
   ]
  },
  {
   "cell_type": "code",
   "execution_count": 98,
   "metadata": {},
   "outputs": [
    {
     "data": {
      "text/plain": [
       "['thread namjoon but you scroll down get older',\n",
       " 'what your favorit track get zone sb191stalbum sb19 sb19sejun sb19justin sb19stell sb19josh',\n",
       " 'after danc tonight tomorrow morn princ open hi hair dress barb salon if darl dont give th',\n",
       " 'send hug',\n",
       " 'yall need leav job requir you serv food roller skate alon',\n",
       " 'men love play asshol no feel role when they have all feel world',\n",
       " 'love emoji me',\n",
       " 'lmaooo wtf my bro chill iraq',\n",
       " 'pl whi thi end me',\n",
       " 'im convinc world end 2016 cu aint shit been same sinc']"
      ]
     },
     "execution_count": 98,
     "metadata": {},
     "output_type": "execute_result"
    }
   ],
   "source": [
    "cleanted_tweets_text"
   ]
  },
  {
   "cell_type": "code",
   "execution_count": null,
   "metadata": {},
   "outputs": [],
   "source": []
  },
  {
   "cell_type": "code",
   "execution_count": null,
   "metadata": {},
   "outputs": [],
   "source": []
  },
  {
   "cell_type": "code",
   "execution_count": null,
   "metadata": {},
   "outputs": [],
   "source": []
  },
  {
   "cell_type": "code",
   "execution_count": null,
   "metadata": {},
   "outputs": [],
   "source": []
  },
  {
   "cell_type": "code",
   "execution_count": null,
   "metadata": {},
   "outputs": [],
   "source": []
  },
  {
   "cell_type": "code",
   "execution_count": null,
   "metadata": {},
   "outputs": [],
   "source": []
  },
  {
   "cell_type": "code",
   "execution_count": null,
   "metadata": {},
   "outputs": [],
   "source": []
  },
  {
   "cell_type": "code",
   "execution_count": null,
   "metadata": {},
   "outputs": [],
   "source": []
  },
  {
   "cell_type": "code",
   "execution_count": 19,
   "metadata": {},
   "outputs": [],
   "source": [
    "def twitter_bot(api, query, date_since):\n",
    "    \n",
    "    today = datetime.datetime.today().strftime('_%Y%m%d')\n",
    "\n",
    "    filepath = \"./data/tweets\"\n",
    "    if not os.path.exists(filepath):\n",
    "        os.makedirs(filepath)\n",
    "        \n",
    "    file_tweets = open(filepath + today + \"_tweets.csv\", \"a+\")\n",
    "    writer = csv.writer(file_tweets)\n",
    "    \n",
    "    try:\n",
    "        tweets = get_tweets(api, query, date_since)\n",
    "    except:\n",
    "        print(\"API limit exceeded. Waiting 1 hour.\")\n",
    "        time.sleep(3605)\n",
    "        tweets = get_tweets(api, query, date_since)\n",
    "        \n",
    "    for tweet in tweets:\n",
    "        writer.writerow(tweet)\n",
    "    \n",
    "    file_tweets.close()\n",
    "\n",
    "def main(query, date_since):\n",
    "\n",
    "    api = initiate_api()\n",
    "    \n",
    "    #schedule.every().day.at(\"00:00\").do(twitter_bot, api, locations)\n",
    "    schedule.every(60).seconds.do(twitter_bot, api, query, date_since)\n",
    "    \n",
    "    while True:\n",
    "        schedule.run_pending()\n",
    "        time.sleep(10)"
   ]
  },
  {
   "cell_type": "code",
   "execution_count": null,
   "metadata": {},
   "outputs": [],
   "source": [
    "# run\n",
    "main(negative_query, date_since)"
   ]
  },
  {
   "cell_type": "code",
   "execution_count": null,
   "metadata": {},
   "outputs": [],
   "source": []
  }
 ],
 "metadata": {
  "kernelspec": {
   "display_name": "Python 3",
   "language": "python",
   "name": "python3"
  },
  "language_info": {
   "codemirror_mode": {
    "name": "ipython",
    "version": 3
   },
   "file_extension": ".py",
   "mimetype": "text/x-python",
   "name": "python",
   "nbconvert_exporter": "python",
   "pygments_lexer": "ipython3",
   "version": "3.7.3"
  }
 },
 "nbformat": 4,
 "nbformat_minor": 4
}
