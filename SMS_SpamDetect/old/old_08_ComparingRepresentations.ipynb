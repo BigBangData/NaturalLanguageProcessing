{
 "cells": [
  {
   "cell_type": "markdown",
   "metadata": {},
   "source": [
    "# Comparing Representations\n",
    "\n",
    "---\n",
    "\n",
    "*Problem Space*\n",
    "\n",
    "We now have several representations we can test, the most promising being:\n",
    "\n",
    "- BoT (a Bag-of-upto-Trigrams with 2,000 terms)\n",
    "- Tfidf (the Tfidf of the BoT)\n",
    "- SVD (a 300-component svd of either the BoT or the Tfidf)\n",
    "- New features (minus RSR)\n",
    "- Document length (raw)\n",
    "\n",
    "The number of ways in which these can be combined results in a large problem space. Using intuition alone I've decided to narrow down the comparisons to the following representations:\n",
    "\n",
    "    1. BoT: accuracy\n",
    "    2. SVD on Tfidf\n",
    "    3. BoT + new features\n",
    "    4. BoT + document length\n",
    "    5. SVD on Tfidf + new features\n",
    "    6. SVD on Tfidf + document length\n",
    "\n",
    "*Results*\n",
    "\n",
    "Given the baseline logistic classifier:\n",
    "\n",
    "- Overall accuracy and specificity are high\n",
    "- Sensitivity, which is desired, is the metric that needs improvement\n",
    "- The original BoT has the best sensitivity\n",
    "- This BoT plus all features minus RSR has the second-best sensitivity, then plus document length\n",
    "- SVD alone has bad sensitivity, this is improved with all features but RSR\n",
    "\n",
    "*Keep*\n",
    "\n",
    "- BoT alone\n",
    "- BoT with all features but RSR\n",
    "- SVD with all features but RSR (to test out with a more complex model)\n"
   ]
  },
  {
   "cell_type": "markdown",
   "metadata": {},
   "source": [
    "## Setup"
   ]
  },
  {
   "cell_type": "code",
   "execution_count": 1,
   "metadata": {},
   "outputs": [
    {
     "name": "stdout",
     "output_type": "stream",
     "text": [
      "Revised on: 2020-12-27\n"
     ]
    }
   ],
   "source": [
    "import os\n",
    "import time\n",
    "\n",
    "import numpy as np\n",
    "import pandas as pd\n",
    "\n",
    "from datetime import datetime\n",
    "\n",
    "start_time = time.time()\n",
    "dt_object = datetime.fromtimestamp(time.time())\n",
    "day, T = str(dt_object).split('.')[0].split(' ')\n",
    "print('Revised on: ' + day)"
   ]
  },
  {
   "cell_type": "markdown",
   "metadata": {},
   "source": [
    "## Load Data"
   ]
  },
  {
   "cell_type": "code",
   "execution_count": 2,
   "metadata": {},
   "outputs": [],
   "source": [
    "import json\n",
    "import urlextract\n",
    "from nltk.stem import WordNetLemmatizer\n",
    "\n",
    "def load_data(data):\n",
    "    raw_path = os.path.join(\"..\",\"data\",\"1_raw\")\n",
    "    filename = ''.join([data, \".csv\"])\n",
    "    out_dfm = pd.read_csv(os.path.join(raw_path, filename))\n",
    "    out_arr = np.array(out_dfm.iloc[:,0].ravel())\n",
    "    return out_arr\n",
    "\n",
    "X_train = load_data(\"X_train\")\n",
    "y_train = load_data(\"y_train\")\n",
    "\n",
    "# load contractions map for custom cleanup\n",
    "with open(\"contractions_map.json\") as f:\n",
    "    contractions_map = json.load(f)"
   ]
  },
  {
   "cell_type": "code",
   "execution_count": 3,
   "metadata": {},
   "outputs": [],
   "source": [
    "%%capture output\n",
    "\n",
    "# custom feature engineering module\n",
    "import custom.feature_engineering as Fe\n",
    "\n",
    "try:                   \n",
    "    clean_train_docs, X_train_feat = Fe.DocumentToFeaturesCounterTransformer().fit_transform(X_train)\n",
    "except Warning as e:\n",
    "    pass\n",
    "\n",
    "# impute with zeros\n",
    "X_train_feat[np.isnan(X_train_feat)] = 0"
   ]
  },
  {
   "cell_type": "markdown",
   "metadata": {},
   "source": [
    "## Create Representations\n"
   ]
  },
  {
   "cell_type": "markdown",
   "metadata": {},
   "source": [
    "### 1. BoT\n",
    "\n",
    "A Bag-of-upto-Trigrams with a vocabulary size of 2,000 terms."
   ]
  },
  {
   "cell_type": "code",
   "execution_count": 4,
   "metadata": {},
   "outputs": [],
   "source": [
    "import custom.clean_preprocess as cp\n",
    "from sklearn.pipeline import Pipeline\n",
    "from sklearn.feature_extraction.text import TfidfTransformer\n",
    "\n",
    "pipe = Pipeline([('counter', cp.DocumentToNgramCounterTransformer(n_grams=3)),\n",
    "                 ('bot', cp.WordCounterToVectorTransformer(vocabulary_size=2000)),\n",
    "                 ('tfidf', TfidfTransformer(sublinear_tf=True))                  \n",
    "                ])\n",
    "\n",
    "X_counter = pipe['counter'].fit_transform(X_train)\n",
    "X_bot = pipe['bot'].fit_transform(X_counter)"
   ]
  },
  {
   "cell_type": "markdown",
   "metadata": {},
   "source": [
    "### 2. SVD on Tfidf\n",
    "\n",
    "The same Bag-of-upto-Trigrams of 2,000 terms that is TF-IDFed, and SVD is performed to reduce it to 300 components."
   ]
  },
  {
   "cell_type": "code",
   "execution_count": 5,
   "metadata": {},
   "outputs": [],
   "source": [
    "from scipy.sparse.linalg import svds\n",
    "from sklearn.utils.extmath import svd_flip\n",
    "from sklearn.preprocessing import MinMaxScaler\n",
    "\n",
    "def perform_SVD(X, k=300):\n",
    "    U, Sigma, VT = svds(X.T, # transposed to a term-document matrix\n",
    "                    k=k) # k = number of components\n",
    "    # reverse outputs\n",
    "    Sigma = Sigma[::-1]\n",
    "    U, VT = svd_flip(U[:, ::-1], VT[::-1])\n",
    "    # scale\n",
    "    V = VT.T\n",
    "    scaler = MinMaxScaler()\n",
    "    X_scaled = scaler.fit_transform(V)\n",
    "    return X_scaled\n",
    "\n",
    "# tfidf\n",
    "X_tfidf = pipe.fit_transform(X_train)\n",
    "\n",
    "# svd\n",
    "X_svd_tfidf = perform_SVD(X_tfidf)"
   ]
  },
  {
   "cell_type": "markdown",
   "metadata": {},
   "source": [
    "### 3. BoT + All features but RSR"
   ]
  },
  {
   "cell_type": "code",
   "execution_count": 6,
   "metadata": {},
   "outputs": [
    {
     "data": {
      "text/plain": [
       "<3900x2007 sparse matrix of type '<class 'numpy.float64'>'\n",
       "\twith 82468 stored elements in COOrdinate format>"
      ]
     },
     "execution_count": 6,
     "metadata": {},
     "output_type": "execute_result"
    }
   ],
   "source": [
    "import scipy.sparse as sp\n",
    "\n",
    "X_bot_feat = sp.hstack((X_bot, X_train_feat[:,0:6]))\n",
    "X_bot_feat"
   ]
  },
  {
   "cell_type": "markdown",
   "metadata": {},
   "source": [
    "### 4. BoT + raw document length"
   ]
  },
  {
   "cell_type": "code",
   "execution_count": 7,
   "metadata": {},
   "outputs": [
    {
     "data": {
      "text/plain": [
       "<3900x2002 sparse matrix of type '<class 'numpy.float64'>'\n",
       "\twith 63002 stored elements in COOrdinate format>"
      ]
     },
     "execution_count": 7,
     "metadata": {},
     "output_type": "execute_result"
    }
   ],
   "source": [
    "X_bot_doclen = sp.hstack((X_bot, X_train_feat[:,0:1]))\n",
    "X_bot_doclen"
   ]
  },
  {
   "cell_type": "markdown",
   "metadata": {},
   "source": [
    "### 5. SVD + All features but RSR"
   ]
  },
  {
   "cell_type": "code",
   "execution_count": 8,
   "metadata": {},
   "outputs": [
    {
     "data": {
      "text/plain": [
       "<3900x306 sparse matrix of type '<class 'numpy.float64'>'\n",
       "\twith 1192930 stored elements in COOrdinate format>"
      ]
     },
     "execution_count": 8,
     "metadata": {},
     "output_type": "execute_result"
    }
   ],
   "source": [
    "from scipy.sparse import csr_matrix\n",
    "\n",
    "X_svd_feat = sp.hstack((csr_matrix(X_svd_tfidf), X_train_feat[:, 0:6]))\n",
    "X_svd_feat"
   ]
  },
  {
   "cell_type": "markdown",
   "metadata": {},
   "source": [
    "### 6. SVD + raw document length"
   ]
  },
  {
   "cell_type": "code",
   "execution_count": 9,
   "metadata": {},
   "outputs": [
    {
     "data": {
      "text/plain": [
       "<3900x301 sparse matrix of type '<class 'numpy.float64'>'\n",
       "\twith 1173464 stored elements in COOrdinate format>"
      ]
     },
     "execution_count": 9,
     "metadata": {},
     "output_type": "execute_result"
    }
   ],
   "source": [
    "X_svd_doclen = sp.hstack((csr_matrix(X_svd_tfidf), X_train_feat[:,0:1]))\n",
    "X_svd_doclen"
   ]
  },
  {
   "cell_type": "markdown",
   "metadata": {},
   "source": [
    "## Quick Modeling"
   ]
  },
  {
   "cell_type": "code",
   "execution_count": 10,
   "metadata": {},
   "outputs": [],
   "source": [
    "# transform y_array into int type\n",
    "y_train[y_train=='ham'] = 0\n",
    "y_train[y_train=='spam'] = 1\n",
    "y_train = y_train.astype('int')"
   ]
  },
  {
   "cell_type": "code",
   "execution_count": 11,
   "metadata": {},
   "outputs": [],
   "source": [
    "from sklearn.linear_model import LogisticRegression\n",
    "from sklearn.model_selection import cross_val_score\n",
    "from sklearn.metrics import make_scorer, accuracy_score, recall_score\n",
    "\n",
    "log_clf = LogisticRegression(solver=\"liblinear\", random_state=42)\n",
    "\n",
    "scorer_ = {\n",
    "    'acc': make_scorer(accuracy_score),\n",
    "    'tpr': make_scorer(recall_score, pos_label=1),\n",
    "    'tnr': make_scorer(recall_score, pos_label=0)\n",
    "}"
   ]
  },
  {
   "cell_type": "code",
   "execution_count": 12,
   "metadata": {},
   "outputs": [],
   "source": [
    "# list of representations\n",
    "Xs = [\n",
    "      X_bot, \n",
    "      X_svd_tfidf, \n",
    "      X_bot_feat, \n",
    "      X_bot_doclen,\n",
    "      X_svd_feat,\n",
    "      X_svd_doclen\n",
    "     ]\n",
    "\n",
    "# list of  names\n",
    "Xnames = [\n",
    "          'X_bot',\n",
    "          'X_svd_tfidf', \n",
    "          'X_bot_feat', \n",
    "          'X_bot_doclen', \n",
    "          'X_svd_feat', \n",
    "          'X_svd_doclen', \n",
    "         ]"
   ]
  },
  {
   "cell_type": "code",
   "execution_count": 13,
   "metadata": {},
   "outputs": [
    {
     "data": {
      "text/html": [
       "<div>\n",
       "<style scoped>\n",
       "    .dataframe tbody tr th:only-of-type {\n",
       "        vertical-align: middle;\n",
       "    }\n",
       "\n",
       "    .dataframe tbody tr th {\n",
       "        vertical-align: top;\n",
       "    }\n",
       "\n",
       "    .dataframe thead th {\n",
       "        text-align: right;\n",
       "    }\n",
       "</style>\n",
       "<table border=\"1\" class=\"dataframe\">\n",
       "  <thead>\n",
       "    <tr style=\"text-align: right;\">\n",
       "      <th></th>\n",
       "      <th>representation</th>\n",
       "      <th>accuracy</th>\n",
       "      <th>sensitivity</th>\n",
       "      <th>specificity</th>\n",
       "    </tr>\n",
       "  </thead>\n",
       "  <tbody>\n",
       "    <tr>\n",
       "      <th>0</th>\n",
       "      <td>X_bot</td>\n",
       "      <td>0.9859</td>\n",
       "      <td>0.9069</td>\n",
       "      <td>0.9979</td>\n",
       "    </tr>\n",
       "    <tr>\n",
       "      <th>1</th>\n",
       "      <td>X_svd_tfidf</td>\n",
       "      <td>0.9836</td>\n",
       "      <td>0.8857</td>\n",
       "      <td>0.9985</td>\n",
       "    </tr>\n",
       "    <tr>\n",
       "      <th>2</th>\n",
       "      <td>X_bot_feat</td>\n",
       "      <td>0.9849</td>\n",
       "      <td>0.9031</td>\n",
       "      <td>0.9973</td>\n",
       "    </tr>\n",
       "    <tr>\n",
       "      <th>3</th>\n",
       "      <td>X_bot_doclen</td>\n",
       "      <td>0.9846</td>\n",
       "      <td>0.9011</td>\n",
       "      <td>0.9973</td>\n",
       "    </tr>\n",
       "    <tr>\n",
       "      <th>4</th>\n",
       "      <td>X_svd_feat</td>\n",
       "      <td>0.9828</td>\n",
       "      <td>0.8973</td>\n",
       "      <td>0.9959</td>\n",
       "    </tr>\n",
       "    <tr>\n",
       "      <th>5</th>\n",
       "      <td>X_svd_doclen</td>\n",
       "      <td>0.9823</td>\n",
       "      <td>0.8896</td>\n",
       "      <td>0.9965</td>\n",
       "    </tr>\n",
       "  </tbody>\n",
       "</table>\n",
       "</div>"
      ],
      "text/plain": [
       "  representation  accuracy  sensitivity  specificity\n",
       "0          X_bot    0.9859       0.9069       0.9979\n",
       "1    X_svd_tfidf    0.9836       0.8857       0.9985\n",
       "2     X_bot_feat    0.9849       0.9031       0.9973\n",
       "3   X_bot_doclen    0.9846       0.9011       0.9973\n",
       "4     X_svd_feat    0.9828       0.8973       0.9959\n",
       "5   X_svd_doclen    0.9823       0.8896       0.9965"
      ]
     },
     "execution_count": 13,
     "metadata": {},
     "output_type": "execute_result"
    }
   ],
   "source": [
    "accs, tprs, tnrs = [], [], []\n",
    "for X_ in Xs:\n",
    "    acc = cross_val_score(log_clf, X_, y_train, cv=10, verbose=0, scoring=scorer_['acc'], n_jobs=-1)\n",
    "    tpr = cross_val_score(log_clf, X_, y_train, cv=10, verbose=0, scoring=scorer_['tpr'], n_jobs=-1)\n",
    "    tnr = cross_val_score(log_clf, X_, y_train, cv=10, verbose=0, scoring=scorer_['tnr'], n_jobs=-1)\n",
    "    accs.append(round(acc.mean(),4))\n",
    "    tprs.append(round(tpr.mean(),4))\n",
    "    tnrs.append(round(tnr.mean(),4))\n",
    "\n",
    "data = {'representation':Xnames,\n",
    "        'accuracy':accs,\n",
    "        'sensitivity':tprs,\n",
    "        'specificity':tnrs}\n",
    "\n",
    "df = pd.DataFrame(data)\n",
    "df"
   ]
  },
  {
   "cell_type": "code",
   "execution_count": 14,
   "metadata": {},
   "outputs": [],
   "source": [
    "# get vectors for plotting\n",
    "mean_accs  = [x for x in df.loc[:,\"accuracy\"]]\n",
    "mean_sens = [x for x in df.loc[:,\"sensitivity\"]]\n",
    "mean_spec  =  [x for x in df.loc[:,\"specificity\"]]"
   ]
  },
  {
   "cell_type": "markdown",
   "metadata": {},
   "source": [
    "### Evaluate Representations"
   ]
  },
  {
   "cell_type": "code",
   "execution_count": 15,
   "metadata": {},
   "outputs": [
    {
     "data": {
      "image/png": "[encoded data removed]",
      "text/plain": [
       "<Figure size 1008x576 with 1 Axes>"
      ]
     },
     "metadata": {
      "needs_background": "light"
     },
     "output_type": "display_data"
    }
   ],
   "source": [
    "import matplotlib.pyplot as plt \n",
    "\n",
    "plt.figure(figsize=(14, 8)) \n",
    "plt.plot(mean_accs, label=\"accuracy\")\n",
    "plt.plot(mean_sens, label=\"sensitivity\")\n",
    "plt.plot(mean_spec, label=\"specificiy\")\n",
    "plt.title('Evaluating 6 representations with baseline logistic classifier')\n",
    "plt.xticks(np.arange(6), ('BoT', \n",
    "                          'SVD', \n",
    "                          'BoT+feat', \n",
    "                          'BoT+doclen',\n",
    "                          'SVD+feat',\n",
    "                          'SVD+doclen'))\n",
    "plt.vlines(np.arange(6), ymin=.85, ymax=1.01, linestyle='dashed', colors='b', alpha=.5, linewidth=.7)\n",
    "plt.legend(loc=\"lower right\")\n",
    "plt.axis([0, 6, 0.85, 1.01])\n",
    "plt.show()"
   ]
  },
  {
   "cell_type": "markdown",
   "metadata": {},
   "source": [
    "*Results*\n",
    "\n",
    "- Overall accuracy and specificity are high\n",
    "- Sensitivity, which is desired, is the metric that needs improvement\n",
    "- The original BoT has the best sensitivity (0.9069)\n",
    "- This BoT plus new features has the second-best sensitivity (0.9031)\n",
    "- This BoT plus document length has the third-best sensitivty (0.9011)\n",
    "- SVD alone has bad sensitivity; it is improved with new features (0.8973)\n",
    "\n",
    "*Keep*\n",
    "\n",
    "- BoT alone\n",
    "- BoT with new features except RSR\n",
    "- SVD with new features except RSR, to test with a more complex model"
   ]
  },
  {
   "cell_type": "markdown",
   "metadata": {},
   "source": [
    "\n",
    "### Precision-Recall Curves\n",
    "\n",
    "\n",
    "The PR curves below are less robust since I'm not performing cross validation."
   ]
  },
  {
   "cell_type": "code",
   "execution_count": 16,
   "metadata": {},
   "outputs": [],
   "source": [
    "from sklearn.metrics import precision_recall_curve\n",
    "from sklearn.metrics import plot_precision_recall_curve\n",
    "from sklearn.model_selection import train_test_split\n",
    "\n",
    "def plot_PR(X, y):\n",
    "    X_train, X_test, y_train, y_test = train_test_split(X, y, test_size=.2, random_state=42)\n",
    "    log_clf = LogisticRegression(solver=\"liblinear\", random_state=42)\n",
    "    log_clf.fit(X_train, y_train)\n",
    "    p = plot_precision_recall_curve(log_clf, X_test, y_test)"
   ]
  },
  {
   "cell_type": "code",
   "execution_count": 17,
   "metadata": {},
   "outputs": [
    {
     "data": {
      "image/png": "[encoded data removed]",
      "text/plain": [
       "<Figure size 432x288 with 1 Axes>"
      ]
     },
     "metadata": {
      "needs_background": "light"
     },
     "output_type": "display_data"
    }
   ],
   "source": [
    "plot_PR(X_bot, y_train)"
   ]
  },
  {
   "cell_type": "code",
   "execution_count": 18,
   "metadata": {},
   "outputs": [
    {
     "data": {
      "image/png": "[encoded data removed]",
      "text/plain": [
       "<Figure size 432x288 with 1 Axes>"
      ]
     },
     "metadata": {
      "needs_background": "light"
     },
     "output_type": "display_data"
    }
   ],
   "source": [
    "plot_PR(X_svd_tfidf, y_train)"
   ]
  },
  {
   "cell_type": "code",
   "execution_count": 19,
   "metadata": {},
   "outputs": [
    {
     "data": {
      "image/png": "[encoded data removed]",
      "text/plain": [
       "<Figure size 432x288 with 1 Axes>"
      ]
     },
     "metadata": {
      "needs_background": "light"
     },
     "output_type": "display_data"
    }
   ],
   "source": [
    "plot_PR(X_bot_feat, y_train)"
   ]
  },
  {
   "cell_type": "code",
   "execution_count": 20,
   "metadata": {},
   "outputs": [
    {
     "data": {
      "image/png": "[encoded data removed]",
      "text/plain": [
       "<Figure size 432x288 with 1 Axes>"
      ]
     },
     "metadata": {
      "needs_background": "light"
     },
     "output_type": "display_data"
    }
   ],
   "source": [
    "plot_PR(X_bot_doclen, y_train)"
   ]
  },
  {
   "cell_type": "code",
   "execution_count": 21,
   "metadata": {},
   "outputs": [
    {
     "data": {
      "image/png": "[encoded data removed]",
      "text/plain": [
       "<Figure size 432x288 with 1 Axes>"
      ]
     },
     "metadata": {
      "needs_background": "light"
     },
     "output_type": "display_data"
    }
   ],
   "source": [
    "plot_PR(X_svd_feat, y_train)"
   ]
  },
  {
   "cell_type": "code",
   "execution_count": 22,
   "metadata": {},
   "outputs": [
    {
     "data": {
      "image/png": "[encoded data removed]",
      "text/plain": [
       "<Figure size 432x288 with 1 Axes>"
      ]
     },
     "metadata": {
      "needs_background": "light"
     },
     "output_type": "display_data"
    }
   ],
   "source": [
    "plot_PR(X_svd_doclen, y_train)"
   ]
  },
  {
   "cell_type": "code",
   "execution_count": 23,
   "metadata": {},
   "outputs": [
    {
     "name": "stdout",
     "output_type": "stream",
     "text": [
      "Time elapsed: 0 m 50 s\n"
     ]
    }
   ],
   "source": [
    "mins, secs = divmod(time.time() - start_time, 60)\n",
    "print(f'Time elapsed: {mins:0.0f} m {secs:0.0f} s')"
   ]
  },
  {
   "cell_type": "markdown",
   "metadata": {},
   "source": [
    "---"
   ]
  }
 ],
 "metadata": {
  "kernelspec": {
   "display_name": "Python 3",
   "language": "python",
   "name": "python3"
  },
  "language_info": {
   "codemirror_mode": {
    "name": "ipython",
    "version": 3
   },
   "file_extension": ".py",
   "mimetype": "text/x-python",
   "name": "python",
   "nbconvert_exporter": "python",
   "pygments_lexer": "ipython3",
   "version": "3.7.3"
  }
 },
 "nbformat": 4,
 "nbformat_minor": 4
}
