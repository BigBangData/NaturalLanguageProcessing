{
 "cells": [
  {
   "cell_type": "markdown",
   "metadata": {},
   "source": [
    "# Model Deployment\n",
    "\n",
    "---\n",
    "\n",
    "In which I test final deployment before hosting it.\n",
    "\n",
    "Tutorial on [Towards Data Science](https://towardsdatascience.com/build-deploy-a-spam-classifier-app-on-heroku-cloud-in-10-minutes-f9347b27ff72) by [Chayan Kathuria](https://medium.com/@chayankathuria).\n"
   ]
  },
  {
   "cell_type": "markdown",
   "metadata": {},
   "source": [
    "## Setup"
   ]
  },
  {
   "cell_type": "code",
   "execution_count": 1,
   "metadata": {},
   "outputs": [],
   "source": [
    "import os\n",
    "import time\n",
    "import joblib \n",
    "import numpy as np\n",
    "\n",
    "import custom.deploy_models as dp"
   ]
  },
  {
   "cell_type": "code",
   "execution_count": 4,
   "metadata": {},
   "outputs": [],
   "source": [
    "#user_input = \"You've earned 10 FREE badges - redeem coupon and subscribe NOW!\"\n",
    "#new_data = np.array([user_input])"
   ]
  },
  {
   "cell_type": "code",
   "execution_count": 11,
   "metadata": {},
   "outputs": [],
   "source": [
    "from flask import Flask, render_template, request\n",
    "\n",
    "app = Flask(__name__) \n",
    "\n",
    "# routes app to task below when URL is called\n",
    "@app.route('/')\n",
    "def home():\n",
    "    # simply return the rendered homepage\n",
    "    return render_template('home.html')\n",
    "\n",
    "@app.route('/predict',methods=['POST'])\n",
    "def predict_newdata(): \n",
    "\n",
    "    XGboost_mod1_PATH = os.path.join(\"data\", \n",
    "                                     \"5_deployment\", \n",
    "                                     \"XGboost_mod1.joblib\")\n",
    "    \n",
    "    with open(XGboost_mod1_PATH, 'rb') as f:\n",
    "        XGboost_mod1 = joblib.load(f)\n",
    "\n",
    "    if request.method == 'POST': \n",
    "\n",
    "        message = request.form['message'] \n",
    "        new_data = np.array([message])\n",
    "    \n",
    "        #X_test_processed = dp.transform_newdata(new_data)\n",
    "        \n",
    "        #y_pred = XGboost_mod1.predict(X_test_processed) \n",
    "        y_pred = 0\n",
    "    return render_template('result.html',\n",
    "                           prediction = y_pred) "
   ]
  },
  {
   "cell_type": "code",
   "execution_count": 12,
   "metadata": {},
   "outputs": [
    {
     "name": "stdout",
     "output_type": "stream",
     "text": [
      " * Serving Flask app \"__main__\" (lazy loading)\n",
      " * Environment: production\n",
      "   WARNING: This is a development server. Do not use it in a production deployment.\n",
      "   Use a production WSGI server instead.\n",
      " * Debug mode: on\n"
     ]
    },
    {
     "name": "stderr",
     "output_type": "stream",
     "text": [
      " * Restarting with stat\n"
     ]
    },
    {
     "ename": "SystemExit",
     "evalue": "1",
     "output_type": "error",
     "traceback": [
      "An exception has occurred, use %tb to see the full traceback.\n",
      "\u001b[1;31mSystemExit\u001b[0m\u001b[1;31m:\u001b[0m 1\n"
     ]
    }
   ],
   "source": [
    "if __name__ == '__main__':\n",
    "    app.run(debug=True)"
   ]
  },
  {
   "cell_type": "code",
   "execution_count": 14,
   "metadata": {},
   "outputs": [],
   "source": [
    "#%tb"
   ]
  },
  {
   "cell_type": "markdown",
   "metadata": {},
   "source": [
    "---"
   ]
  }
 ],
 "metadata": {
  "kernelspec": {
   "display_name": "Python 3",
   "language": "python",
   "name": "python3"
  },
  "language_info": {
   "codemirror_mode": {
    "name": "ipython",
    "version": 3
   },
   "file_extension": ".py",
   "mimetype": "text/x-python",
   "name": "python",
   "nbconvert_exporter": "python",
   "pygments_lexer": "ipython3",
   "version": "3.9.1"
  }
 },
 "nbformat": 4,
 "nbformat_minor": 4
}
