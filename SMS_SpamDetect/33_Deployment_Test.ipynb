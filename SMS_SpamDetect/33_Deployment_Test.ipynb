{
 "cells": [
  {
   "cell_type": "markdown",
   "metadata": {},
   "source": [
    "# Model Deployment 2\n",
    "\n",
    "---\n",
    "\n",
    "Testing the prediction pipeline.\n"
   ]
  },
  {
   "cell_type": "markdown",
   "metadata": {},
   "source": [
    "## Setup"
   ]
  },
  {
   "cell_type": "code",
   "execution_count": 1,
   "metadata": {},
   "outputs": [],
   "source": [
    "import re\n",
    "import os\n",
    "import sys\n",
    "import time\n",
    "import joblib \n",
    "\n",
    "import numpy as np\n",
    "import pandas as pd\n",
    "import scipy.sparse as sp\n",
    "import custom.clean_preprocess as cp\n",
    "\n",
    "from datetime import datetime\n",
    "from xgboost import XGBClassifier\n",
    "from scipy.sparse import csr_matrix\n",
    "\n",
    "from sklearn.pipeline import Pipeline\n",
    "from sklearn.feature_extraction.text import TfidfTransformer\n",
    "from sklearn.feature_extraction.text import CountVectorizer\n",
    "from sklearn.metrics.pairwise import cosine_similarity\n",
    "from sklearn.model_selection import train_test_split "
   ]
  },
  {
   "cell_type": "code",
   "execution_count": 2,
   "metadata": {},
   "outputs": [],
   "source": [
    "# create deployment dir\n",
    "dep_dir = os.path.join(\"data\",\"5_deployment\")\n",
    "\n",
    "try:\n",
    "    os.stat(dep_dir)\n",
    "except:\n",
    "    os.mkdir(dep_dir)"
   ]
  },
  {
   "cell_type": "markdown",
   "metadata": {},
   "source": [
    "## User input "
   ]
  },
  {
   "cell_type": "code",
   "execution_count": 3,
   "metadata": {},
   "outputs": [],
   "source": [
    "user_input = \"You've earned 10 FREE badges - redeem coupon and subscribe NOW!\"\n",
    "\n",
    "start_time = time.time()\n",
    "new_data = np.array([user_input])"
   ]
  },
  {
   "cell_type": "markdown",
   "metadata": {},
   "source": [
    "## Load transformers and model"
   ]
  },
  {
   "cell_type": "code",
   "execution_count": 4,
   "metadata": {},
   "outputs": [],
   "source": [
    "X_train_transformer_PATH = os.path.join(dep_dir, \n",
    "                                        \"X_train_transformer.joblib\")\n",
    "with open(X_train_transformer_PATH, 'rb') as f:\n",
    "    X_train_transformer = joblib.load(f)\n",
    "\n",
    "X_train_fit_PATH = os.path.join(dep_dir, \"X_train_fit.joblib\")\n",
    "with open(X_train_fit_PATH, 'rb') as f:\n",
    "    X_train_fit = joblib.load(f) \n",
    "\n",
    "X_train_svd_transformer_PATH = os.path.join(dep_dir, \n",
    "                                            \"X_train_svd_transformer.joblib\")\n",
    "with open(X_train_svd_transformer_PATH, 'rb') as f:\n",
    "    X_train_svd_transformer = joblib.load(f)   \n",
    "\n",
    "X_train_svd_spam_PATH = os.path.join(dep_dir, \n",
    "                                     \"X_train_svd_spam.joblib\")\n",
    "with open(X_train_svd_spam_PATH, 'rb') as f:\n",
    "    X_train_svd_spam = joblib.load(f)   \n",
    "\n",
    "XGboost_mod1_PATH = os.path.join(dep_dir, \n",
    "                                 \"XGboost_mod1.joblib\")\n",
    "with open(XGboost_mod1_PATH, 'rb') as f:\n",
    "    XGboost_mod1 = joblib.load(f)   "
   ]
  },
  {
   "cell_type": "markdown",
   "metadata": {},
   "source": [
    "## Pre-process"
   ]
  },
  {
   "cell_type": "code",
   "execution_count": 5,
   "metadata": {},
   "outputs": [],
   "source": [
    "# preprocess pipeline\n",
    "pipe = Pipeline([('counter', cp.DocumentToNgramCounterTransformer(n_grams=3)),\n",
    "                 ('bot', cp.WordCounterToVectorTransformer(vocabulary_size=2000)),\n",
    "                 ('tfidf', TfidfTransformer(sublinear_tf=True))])\n",
    "\n",
    "# counter\n",
    "X_test_counter = pipe['counter'].fit_transform(new_data) \n",
    "\n",
    "# BoT\n",
    "X_test_bot = X_train_transformer.transform(X_test_counter)\n",
    "\n",
    "# Tfidf\n",
    "X_test_tfidf = X_train_fit.transform(X_test_bot)\n",
    "\n",
    "# SVD\n",
    "sigma_inverse = 1 / X_train_svd_transformer.sigma_\n",
    "U_transpose = X_train_svd_transformer.U_.T\n",
    "UT_TestTfidfT = (U_transpose @ X_test_tfidf.T)\n",
    "X_test_svd = (sigma_inverse.reshape(-1,1) * UT_TestTfidfT).T"
   ]
  },
  {
   "cell_type": "code",
   "execution_count": 6,
   "metadata": {},
   "outputs": [
    {
     "data": {
      "text/plain": [
       "array([ 2.08543146e-02,  2.05733092e-02,  3.25309980e-05, -2.28182664e-02,\n",
       "        1.50388200e-03,  1.32481380e-02, -8.94341236e-03, -4.42912305e-03,\n",
       "       -9.71310881e-03,  1.88697220e-02])"
      ]
     },
     "execution_count": 6,
     "metadata": {},
     "output_type": "execute_result"
    }
   ],
   "source": [
    "X_test_svd[0][:10]"
   ]
  },
  {
   "cell_type": "code",
   "execution_count": 7,
   "metadata": {},
   "outputs": [
    {
     "data": {
      "text/plain": [
       "(747, 800)"
      ]
     },
     "execution_count": 7,
     "metadata": {},
     "output_type": "execute_result"
    }
   ],
   "source": [
    "X_train_svd_spam.shape"
   ]
  },
  {
   "cell_type": "code",
   "execution_count": 8,
   "metadata": {},
   "outputs": [],
   "source": [
    "# Cosine Similarities\n",
    "test_similarities = cosine_similarity(sp.vstack((X_test_svd, \n",
    "                                                 X_train_svd_spam)))"
   ]
  },
  {
   "cell_type": "code",
   "execution_count": 9,
   "metadata": {},
   "outputs": [
    {
     "data": {
      "text/plain": [
       "(748, 748)"
      ]
     },
     "execution_count": 9,
     "metadata": {},
     "output_type": "execute_result"
    }
   ],
   "source": [
    "test_similarities.shape"
   ]
  },
  {
   "cell_type": "code",
   "execution_count": 10,
   "metadata": {},
   "outputs": [
    {
     "data": {
      "text/plain": [
       "range(1, 748)"
      ]
     },
     "execution_count": 10,
     "metadata": {},
     "output_type": "execute_result"
    }
   ],
   "source": [
    "spam_cols = range(X_test_svd.shape[0], test_similarities.shape[0])\n",
    "spam_cols"
   ]
  },
  {
   "cell_type": "code",
   "execution_count": 11,
   "metadata": {},
   "outputs": [],
   "source": [
    "test_mean_spam_sims = []\n",
    "for ix in range(X_test_svd.shape[0]):\n",
    "    mean_spam_sim = np.mean(test_similarities[ix, spam_cols])\n",
    "    test_mean_spam_sims.append(mean_spam_sim)"
   ]
  },
  {
   "cell_type": "code",
   "execution_count": 12,
   "metadata": {},
   "outputs": [
    {
     "data": {
      "text/plain": [
       "[0.0066333545396542485]"
      ]
     },
     "execution_count": 12,
     "metadata": {},
     "output_type": "execute_result"
    }
   ],
   "source": [
    "test_mean_spam_sims # mean cosine similarity between the new doc"
   ]
  },
  {
   "cell_type": "code",
   "execution_count": 13,
   "metadata": {},
   "outputs": [],
   "source": [
    "# stack\n",
    "X_test_processed = sp.hstack((csr_matrix(test_mean_spam_sims).T, \n",
    "                              X_test_svd))"
   ]
  },
  {
   "cell_type": "markdown",
   "metadata": {},
   "source": [
    "## Predict"
   ]
  },
  {
   "cell_type": "code",
   "execution_count": 14,
   "metadata": {},
   "outputs": [
    {
     "data": {
      "text/plain": [
       "array([1])"
      ]
     },
     "execution_count": 14,
     "metadata": {},
     "output_type": "execute_result"
    }
   ],
   "source": [
    "XGboost_mod1.predict(X_test_processed)"
   ]
  },
  {
   "cell_type": "markdown",
   "metadata": {},
   "source": [
    "---"
   ]
  },
  {
   "cell_type": "code",
   "execution_count": 15,
   "metadata": {},
   "outputs": [
    {
     "name": "stdout",
     "output_type": "stream",
     "text": [
      "Elapsed: 6.584 sec\n"
     ]
    }
   ],
   "source": [
    "print(f'Elapsed: {time.time() - start_time:0.3f} sec')"
   ]
  },
  {
   "cell_type": "markdown",
   "metadata": {},
   "source": [
    "---"
   ]
  }
 ],
 "metadata": {
  "kernelspec": {
   "display_name": "Python 3",
   "language": "python",
   "name": "python3"
  },
  "language_info": {
   "codemirror_mode": {
    "name": "ipython",
    "version": 3
   },
   "file_extension": ".py",
   "mimetype": "text/x-python",
   "name": "python",
   "nbconvert_exporter": "python",
   "pygments_lexer": "ipython3",
   "version": "3.9.1"
  }
 },
 "nbformat": 4,
 "nbformat_minor": 4
}
