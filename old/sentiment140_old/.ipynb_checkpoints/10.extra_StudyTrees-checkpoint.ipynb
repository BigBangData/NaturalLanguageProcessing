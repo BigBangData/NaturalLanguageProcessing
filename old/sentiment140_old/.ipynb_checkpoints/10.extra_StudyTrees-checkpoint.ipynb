{
 "cells": [
  {
   "cell_type": "markdown",
   "metadata": {},
   "source": [
    "### Simple GridsearchCV with DecisionTreeClassifer in moons dataset"
   ]
  },
  {
   "cell_type": "code",
   "execution_count": 1,
   "metadata": {},
   "outputs": [
    {
     "data": {
      "text/plain": [
       "(array([[-0.23896213,  0.98544523],\n",
       "        [ 1.36200411, -0.02763882],\n",
       "        [ 0.24880568,  0.47858043],\n",
       "        ...,\n",
       "        [-0.52606243,  1.24042155],\n",
       "        [ 0.81436171,  0.77103515],\n",
       "        [ 1.31170681,  0.85691052]]),\n",
       " array([0, 0, 1, ..., 0, 0, 0], dtype=int64))"
      ]
     },
     "execution_count": 1,
     "metadata": {},
     "output_type": "execute_result"
    }
   ],
   "source": [
    "from sklearn.datasets import make_moons\n",
    "df = make_moons(n_samples=10000, noise=0.4)\n",
    "df"
   ]
  },
  {
   "cell_type": "code",
   "execution_count": 2,
   "metadata": {},
   "outputs": [],
   "source": [
    "X, y = df[0], df[1]"
   ]
  },
  {
   "cell_type": "code",
   "execution_count": 3,
   "metadata": {},
   "outputs": [],
   "source": [
    "from sklearn.model_selection import train_test_split\n",
    "\n",
    "X_train, X_test, y_train, y_test = train_test_split(X, y, test_size=0.25, random_state=42)"
   ]
  },
  {
   "cell_type": "code",
   "execution_count": 96,
   "metadata": {},
   "outputs": [
    {
     "data": {
      "text/plain": [
       "GridSearchCV(cv=2, estimator=DecisionTreeClassifier(random_state=42), n_jobs=6,\n",
       "             param_grid={'max_leaf_nodes': [20, 21, 22, 23, 24, 25, 26, 27, 28,\n",
       "                                            29, 30, 31, 32, 33, 34, 35, 36, 37,\n",
       "                                            38, 39, 40, 41, 42, 43, 44, 45, 46,\n",
       "                                            47, 48, 49, ...]},\n",
       "             scoring='accuracy')"
      ]
     },
     "execution_count": 96,
     "metadata": {},
     "output_type": "execute_result"
    }
   ],
   "source": [
    "from sklearn.model_selection import GridSearchCV\n",
    "from sklearn.tree import DecisionTreeClassifier\n",
    "\n",
    "params = {'max_leaf_nodes':list(range(20,51,1))}\n",
    "\n",
    "dtree = DecisionTreeClassifier(random_state=42)\n",
    "clf = GridSearchCV(dtree, params, cv=2, scoring='accuracy', n_jobs=6)\n",
    "clf.fit(X_train, y_train)"
   ]
  },
  {
   "cell_type": "code",
   "execution_count": 97,
   "metadata": {},
   "outputs": [
    {
     "data": {
      "text/plain": [
       "['mean_fit_time',\n",
       " 'mean_score_time',\n",
       " 'mean_test_score',\n",
       " 'param_max_leaf_nodes',\n",
       " 'params',\n",
       " 'rank_test_score',\n",
       " 'split0_test_score',\n",
       " 'split1_test_score',\n",
       " 'std_fit_time',\n",
       " 'std_score_time',\n",
       " 'std_test_score']"
      ]
     },
     "execution_count": 97,
     "metadata": {},
     "output_type": "execute_result"
    }
   ],
   "source": [
    "sorted(clf.cv_results_.keys())"
   ]
  },
  {
   "cell_type": "code",
   "execution_count": 98,
   "metadata": {},
   "outputs": [
    {
     "data": {
      "text/plain": [
       "0.8536"
      ]
     },
     "execution_count": 98,
     "metadata": {},
     "output_type": "execute_result"
    }
   ],
   "source": [
    "max(clf.cv_results_['mean_test_score'])"
   ]
  },
  {
   "cell_type": "code",
   "execution_count": 101,
   "metadata": {},
   "outputs": [
    {
     "data": {
      "text/plain": [
       "array([29, 29, 15, 17,  1,  2,  5,  4, 16, 18,  8, 14, 13,  8, 11, 11,  8,\n",
       "        5,  5,  3, 24, 24, 24, 27, 21, 21, 21, 31, 19, 19, 27])"
      ]
     },
     "execution_count": 101,
     "metadata": {},
     "output_type": "execute_result"
    }
   ],
   "source": [
    "clf.cv_results_['rank_test_score']"
   ]
  },
  {
   "cell_type": "code",
   "execution_count": 99,
   "metadata": {},
   "outputs": [
    {
     "name": "stdout",
     "output_type": "stream",
     "text": [
      "[0.85       0.85       0.85133333 0.85106667 0.8536     0.8532\n",
      " 0.85266667 0.85293333 0.8512     0.85093333 0.85226667 0.852\n",
      " 0.85213333 0.85226667 0.85213333 0.85213333 0.85226667 0.85266667\n",
      " 0.85266667 0.85306667 0.8504     0.8504     0.8504     0.85013333\n",
      " 0.85053333 0.85053333 0.85053333 0.8488     0.85066667 0.85066667\n",
      " 0.85013333]\n"
     ]
    }
   ],
   "source": [
    "print(clf.cv_results_['mean_test_score'])"
   ]
  },
  {
   "cell_type": "code",
   "execution_count": 100,
   "metadata": {},
   "outputs": [
    {
     "data": {
      "text/plain": [
       "[{'max_leaf_nodes': 20},\n",
       " {'max_leaf_nodes': 21},\n",
       " {'max_leaf_nodes': 22},\n",
       " {'max_leaf_nodes': 23},\n",
       " {'max_leaf_nodes': 24},\n",
       " {'max_leaf_nodes': 25},\n",
       " {'max_leaf_nodes': 26},\n",
       " {'max_leaf_nodes': 27},\n",
       " {'max_leaf_nodes': 28},\n",
       " {'max_leaf_nodes': 29},\n",
       " {'max_leaf_nodes': 30},\n",
       " {'max_leaf_nodes': 31},\n",
       " {'max_leaf_nodes': 32},\n",
       " {'max_leaf_nodes': 33},\n",
       " {'max_leaf_nodes': 34},\n",
       " {'max_leaf_nodes': 35},\n",
       " {'max_leaf_nodes': 36},\n",
       " {'max_leaf_nodes': 37},\n",
       " {'max_leaf_nodes': 38},\n",
       " {'max_leaf_nodes': 39},\n",
       " {'max_leaf_nodes': 40},\n",
       " {'max_leaf_nodes': 41},\n",
       " {'max_leaf_nodes': 42},\n",
       " {'max_leaf_nodes': 43},\n",
       " {'max_leaf_nodes': 44},\n",
       " {'max_leaf_nodes': 45},\n",
       " {'max_leaf_nodes': 46},\n",
       " {'max_leaf_nodes': 47},\n",
       " {'max_leaf_nodes': 48},\n",
       " {'max_leaf_nodes': 49},\n",
       " {'max_leaf_nodes': 50}]"
      ]
     },
     "execution_count": 100,
     "metadata": {},
     "output_type": "execute_result"
    }
   ],
   "source": [
    "clf.cv_results_['params']"
   ]
  },
  {
   "cell_type": "code",
   "execution_count": 102,
   "metadata": {},
   "outputs": [],
   "source": [
    "dtree = DecisionTreeClassifier(random_state=42, max_leaf_nodes=24)\n",
    "dtree.fit(X_train, y_train)\n",
    "y_preds = dtree.predict(X_test)"
   ]
  },
  {
   "cell_type": "code",
   "execution_count": 103,
   "metadata": {},
   "outputs": [
    {
     "data": {
      "text/plain": [
       "0.866"
      ]
     },
     "execution_count": 103,
     "metadata": {},
     "output_type": "execute_result"
    }
   ],
   "source": [
    "from sklearn.metrics import accuracy_score\n",
    "\n",
    "accuracy_score(y_test, y_preds)"
   ]
  },
  {
   "cell_type": "markdown",
   "metadata": {},
   "source": [
    "---"
   ]
  }
 ],
 "metadata": {
  "kernelspec": {
   "display_name": "Python 3",
   "language": "python",
   "name": "python3"
  },
  "language_info": {
   "codemirror_mode": {
    "name": "ipython",
    "version": 3
   },
   "file_extension": ".py",
   "mimetype": "text/x-python",
   "name": "python",
   "nbconvert_exporter": "python",
   "pygments_lexer": "ipython3",
   "version": "3.7.3"
  }
 },
 "nbformat": 4,
 "nbformat_minor": 4
}
