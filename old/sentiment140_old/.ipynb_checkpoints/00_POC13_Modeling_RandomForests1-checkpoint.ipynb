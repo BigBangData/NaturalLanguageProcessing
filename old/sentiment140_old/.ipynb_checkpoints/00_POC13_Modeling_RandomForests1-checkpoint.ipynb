{
 "cells": [
  {
   "cell_type": "markdown",
   "metadata": {},
   "source": [
    "# Twitter Sentiment Analysis - POC\n",
    "---\n",
    "\n",
    "## Random Forests 1 - Tfidf\n",
    "\n",
    "I reached $75\\%$ accuracy in the BoW representation with random forests for the first time - this notebook tests whether the Tfidf with the same random forest classifiers reaches a better accuracy."
   ]
  },
  {
   "cell_type": "code",
   "execution_count": 1,
   "metadata": {},
   "outputs": [],
   "source": [
    "import re\n",
    "import os\n",
    "import time\n",
    "import json\n",
    "\n",
    "import numpy as np\n",
    "import pandas as pd\n",
    "import scipy.sparse as sp\n",
    "\n",
    "from sklearn.base import clone\n",
    "from sklearn.tree import DecisionTreeClassifier \n",
    "from sklearn.model_selection import cross_val_score\n",
    "from sklearn.model_selection import train_test_split\n",
    "from sklearn.model_selection import ShuffleSplit\n",
    "from sklearn.metrics import accuracy_score"
   ]
  },
  {
   "cell_type": "markdown",
   "metadata": {},
   "source": [
    "### Load $m\\approx250k$, $n=50k$ training subset"
   ]
  },
  {
   "cell_type": "code",
   "execution_count": 2,
   "metadata": {},
   "outputs": [],
   "source": [
    "# processed dir\n",
    "proc_dir = os.path.join(\"..\",\"data\",\"3_processed\",\"sentiment140\")\n",
    "X_train_transformed = sp.load_npz(os.path.join(proc_dir, \"X_train_transformed_Tfidf_250k_50k.npz\"))\n",
    "with open(os.path.join(proc_dir, \"y_array_250k.npy\"), 'rb') as f:\n",
    "    y_array = np.load(f)"
   ]
  },
  {
   "cell_type": "code",
   "execution_count": 3,
   "metadata": {},
   "outputs": [],
   "source": [
    "X_train, X_test, y_train, y_test = train_test_split(X_train_transformed, \n",
    "                                                    y_array, \n",
    "                                                    test_size=0.2, \n",
    "                                                    random_state=42)"
   ]
  },
  {
   "cell_type": "markdown",
   "metadata": {},
   "source": [
    "### Scikit-learn's RandomForestClassifier"
   ]
  },
  {
   "cell_type": "code",
   "execution_count": 4,
   "metadata": {},
   "outputs": [],
   "source": [
    "from sklearn.ensemble import RandomForestClassifier\n",
    "\n",
    "rf_clf = RandomForestClassifier(n_estimators=1000, # same value as first DIY forest\n",
    "                                max_samples=100, # ibid.\n",
    "                                max_features=\"sqrt\", # ibid.\n",
    "                                max_leaf_nodes=99, # ibid.\n",
    "                                random_state=42, # ibid.\n",
    "                                n_jobs=-1, \n",
    "                                verbose=1)"
   ]
  },
  {
   "cell_type": "code",
   "execution_count": 5,
   "metadata": {},
   "outputs": [
    {
     "name": "stderr",
     "output_type": "stream",
     "text": [
      "[Parallel(n_jobs=-1)]: Using backend ThreadingBackend with 8 concurrent workers.\n",
      "[Parallel(n_jobs=-1)]: Done  34 tasks      | elapsed:    0.6s\n",
      "[Parallel(n_jobs=-1)]: Done 184 tasks      | elapsed:    3.1s\n",
      "[Parallel(n_jobs=-1)]: Done 434 tasks      | elapsed:    7.4s\n",
      "[Parallel(n_jobs=-1)]: Done 784 tasks      | elapsed:   13.2s\n",
      "[Parallel(n_jobs=-1)]: Done 1000 out of 1000 | elapsed:   16.7s finished\n"
     ]
    },
    {
     "data": {
      "text/plain": [
       "RandomForestClassifier(max_features='sqrt', max_leaf_nodes=99, max_samples=100,\n",
       "                       n_estimators=1000, n_jobs=-1, random_state=42,\n",
       "                       verbose=1)"
      ]
     },
     "execution_count": 5,
     "metadata": {},
     "output_type": "execute_result"
    }
   ],
   "source": [
    "rf_clf.fit(X_train, y_train)"
   ]
  },
  {
   "cell_type": "code",
   "execution_count": 6,
   "metadata": {},
   "outputs": [
    {
     "name": "stderr",
     "output_type": "stream",
     "text": [
      "[Parallel(n_jobs=8)]: Using backend ThreadingBackend with 8 concurrent workers.\n",
      "[Parallel(n_jobs=8)]: Done  34 tasks      | elapsed:    0.1s\n",
      "[Parallel(n_jobs=8)]: Done 184 tasks      | elapsed:    0.6s\n",
      "[Parallel(n_jobs=8)]: Done 434 tasks      | elapsed:    1.5s\n",
      "[Parallel(n_jobs=8)]: Done 784 tasks      | elapsed:    2.7s\n",
      "[Parallel(n_jobs=8)]: Done 1000 out of 1000 | elapsed:    3.5s finished\n"
     ]
    }
   ],
   "source": [
    "y_pred = rf_clf.predict(X_test)"
   ]
  },
  {
   "cell_type": "code",
   "execution_count": 7,
   "metadata": {},
   "outputs": [
    {
     "data": {
      "text/plain": [
       "0.7056"
      ]
     },
     "execution_count": 7,
     "metadata": {},
     "output_type": "execute_result"
    }
   ],
   "source": [
    "# BoW accuracy was 0.6993\n",
    "round(accuracy_score(y_test, y_pred), 4)"
   ]
  },
  {
   "cell_type": "code",
   "execution_count": 8,
   "metadata": {},
   "outputs": [
    {
     "name": "stderr",
     "output_type": "stream",
     "text": [
      "[Parallel(n_jobs=1)]: Using backend SequentialBackend with 1 concurrent workers.\n",
      "[Parallel(n_jobs=-1)]: Using backend LokyBackend with 8 concurrent workers.\n",
      "[Parallel(n_jobs=-1)]: Done  34 tasks      | elapsed:    3.2s\n",
      "[Parallel(n_jobs=-1)]: Done 184 tasks      | elapsed:    6.0s\n",
      "[Parallel(n_jobs=-1)]: Done 434 tasks      | elapsed:   10.3s\n",
      "[Parallel(n_jobs=-1)]: Done 784 tasks      | elapsed:   16.5s\n",
      "[Parallel(n_jobs=-1)]: Done 1000 out of 1000 | elapsed:   20.2s finished\n",
      "[Parallel(n_jobs=8)]: Using backend ThreadingBackend with 8 concurrent workers.\n",
      "[Parallel(n_jobs=8)]: Done  34 tasks      | elapsed:    0.1s\n",
      "[Parallel(n_jobs=8)]: Done 184 tasks      | elapsed:    1.1s\n",
      "[Parallel(n_jobs=8)]: Done 434 tasks      | elapsed:    2.6s\n",
      "[Parallel(n_jobs=8)]: Done 784 tasks      | elapsed:    4.8s\n",
      "[Parallel(n_jobs=8)]: Done 1000 out of 1000 | elapsed:    6.1s finished\n",
      "[Parallel(n_jobs=-1)]: Using backend LokyBackend with 8 concurrent workers.\n",
      "[Parallel(n_jobs=-1)]: Done  34 tasks      | elapsed:    0.8s\n",
      "[Parallel(n_jobs=-1)]: Done 184 tasks      | elapsed:    3.2s\n",
      "[Parallel(n_jobs=-1)]: Done 434 tasks      | elapsed:    7.5s\n",
      "[Parallel(n_jobs=-1)]: Done 784 tasks      | elapsed:   13.5s\n",
      "[Parallel(n_jobs=-1)]: Done 1000 out of 1000 | elapsed:   17.2s finished\n",
      "[Parallel(n_jobs=8)]: Using backend ThreadingBackend with 8 concurrent workers.\n",
      "[Parallel(n_jobs=8)]: Done  34 tasks      | elapsed:    0.1s\n",
      "[Parallel(n_jobs=8)]: Done 184 tasks      | elapsed:    1.1s\n",
      "[Parallel(n_jobs=8)]: Done 434 tasks      | elapsed:    2.6s\n",
      "[Parallel(n_jobs=8)]: Done 784 tasks      | elapsed:    4.6s\n",
      "[Parallel(n_jobs=8)]: Done 1000 out of 1000 | elapsed:    5.8s finished\n",
      "[Parallel(n_jobs=-1)]: Using backend LokyBackend with 8 concurrent workers.\n",
      "[Parallel(n_jobs=-1)]: Done  34 tasks      | elapsed:    0.6s\n",
      "[Parallel(n_jobs=-1)]: Done 184 tasks      | elapsed:    3.1s\n",
      "[Parallel(n_jobs=-1)]: Done 434 tasks      | elapsed:    7.3s\n",
      "[Parallel(n_jobs=-1)]: Done 784 tasks      | elapsed:   13.0s\n",
      "[Parallel(n_jobs=-1)]: Done 1000 out of 1000 | elapsed:   16.9s finished\n",
      "[Parallel(n_jobs=8)]: Using backend ThreadingBackend with 8 concurrent workers.\n",
      "[Parallel(n_jobs=8)]: Done  34 tasks      | elapsed:    0.2s\n",
      "[Parallel(n_jobs=8)]: Done 184 tasks      | elapsed:    1.1s\n",
      "[Parallel(n_jobs=8)]: Done 434 tasks      | elapsed:    2.6s\n",
      "[Parallel(n_jobs=8)]: Done 784 tasks      | elapsed:    4.7s\n"
     ]
    },
    {
     "name": "stdout",
     "output_type": "stream",
     "text": [
      "Accuracy: 0.69 (+/- 0.01)\n"
     ]
    },
    {
     "name": "stderr",
     "output_type": "stream",
     "text": [
      "[Parallel(n_jobs=8)]: Done 1000 out of 1000 | elapsed:    6.0s finished\n",
      "[Parallel(n_jobs=1)]: Done   3 out of   3 | elapsed:  1.3min finished\n"
     ]
    }
   ],
   "source": [
    "# more robust evaluation: basically the same\n",
    "scores = cross_val_score(rf_clf, X_train_transformed, y_array, cv=3, verbose=1, scoring='accuracy')\n",
    "print(\"Accuracy: %0.2f (+/- %0.2f)\" % (scores.mean(), scores.std() * 2))"
   ]
  },
  {
   "cell_type": "code",
   "execution_count": 9,
   "metadata": {},
   "outputs": [],
   "source": [
    "rf_clf = RandomForestClassifier(n_estimators=10000, # same value as second DIY forest\n",
    "                                max_samples=2000, # ibid.\n",
    "                                max_features=\"sqrt\", # ibid.\n",
    "                                max_leaf_nodes=99, # ibid.\n",
    "                                random_state=42, # ibid.\n",
    "                                n_jobs=-1, \n",
    "                                verbose=1)"
   ]
  },
  {
   "cell_type": "code",
   "execution_count": 10,
   "metadata": {},
   "outputs": [
    {
     "name": "stderr",
     "output_type": "stream",
     "text": [
      "[Parallel(n_jobs=-1)]: Using backend ThreadingBackend with 8 concurrent workers.\n",
      "[Parallel(n_jobs=-1)]: Done  34 tasks      | elapsed:    0.8s\n",
      "[Parallel(n_jobs=-1)]: Done 184 tasks      | elapsed:    4.2s\n",
      "[Parallel(n_jobs=-1)]: Done 434 tasks      | elapsed:   10.0s\n",
      "[Parallel(n_jobs=-1)]: Done 784 tasks      | elapsed:   18.0s\n",
      "[Parallel(n_jobs=-1)]: Done 1234 tasks      | elapsed:   28.4s\n",
      "[Parallel(n_jobs=-1)]: Done 1784 tasks      | elapsed:   40.9s\n",
      "[Parallel(n_jobs=-1)]: Done 2434 tasks      | elapsed:   56.4s\n",
      "[Parallel(n_jobs=-1)]: Done 3184 tasks      | elapsed:  1.2min\n",
      "[Parallel(n_jobs=-1)]: Done 4034 tasks      | elapsed:  1.5min\n",
      "[Parallel(n_jobs=-1)]: Done 4984 tasks      | elapsed:  1.9min\n",
      "[Parallel(n_jobs=-1)]: Done 6034 tasks      | elapsed:  2.3min\n",
      "[Parallel(n_jobs=-1)]: Done 7184 tasks      | elapsed:  2.8min\n",
      "[Parallel(n_jobs=-1)]: Done 8434 tasks      | elapsed:  3.2min\n",
      "[Parallel(n_jobs=-1)]: Done 9784 tasks      | elapsed:  3.8min\n",
      "[Parallel(n_jobs=-1)]: Done 10000 out of 10000 | elapsed:  3.8min finished\n"
     ]
    },
    {
     "data": {
      "text/plain": [
       "RandomForestClassifier(max_features='sqrt', max_leaf_nodes=99, max_samples=2000,\n",
       "                       n_estimators=10000, n_jobs=-1, random_state=42,\n",
       "                       verbose=1)"
      ]
     },
     "execution_count": 10,
     "metadata": {},
     "output_type": "execute_result"
    }
   ],
   "source": [
    "rf_clf.fit(X_train, y_train)"
   ]
  },
  {
   "cell_type": "code",
   "execution_count": 11,
   "metadata": {},
   "outputs": [
    {
     "name": "stderr",
     "output_type": "stream",
     "text": [
      "[Parallel(n_jobs=8)]: Using backend ThreadingBackend with 8 concurrent workers.\n",
      "[Parallel(n_jobs=8)]: Done  34 tasks      | elapsed:    0.1s\n",
      "[Parallel(n_jobs=8)]: Done 184 tasks      | elapsed:    0.6s\n",
      "[Parallel(n_jobs=8)]: Done 434 tasks      | elapsed:    1.5s\n",
      "[Parallel(n_jobs=8)]: Done 784 tasks      | elapsed:    2.8s\n",
      "[Parallel(n_jobs=8)]: Done 1234 tasks      | elapsed:    4.5s\n",
      "[Parallel(n_jobs=8)]: Done 1784 tasks      | elapsed:    6.6s\n",
      "[Parallel(n_jobs=8)]: Done 2434 tasks      | elapsed:    9.0s\n",
      "[Parallel(n_jobs=8)]: Done 3184 tasks      | elapsed:   11.9s\n",
      "[Parallel(n_jobs=8)]: Done 4034 tasks      | elapsed:   15.3s\n",
      "[Parallel(n_jobs=8)]: Done 4984 tasks      | elapsed:   18.9s\n",
      "[Parallel(n_jobs=8)]: Done 6034 tasks      | elapsed:   22.9s\n",
      "[Parallel(n_jobs=8)]: Done 7184 tasks      | elapsed:   27.2s\n",
      "[Parallel(n_jobs=8)]: Done 8434 tasks      | elapsed:   31.9s\n",
      "[Parallel(n_jobs=8)]: Done 9784 tasks      | elapsed:   37.1s\n",
      "[Parallel(n_jobs=8)]: Done 10000 out of 10000 | elapsed:   38.0s finished\n"
     ]
    }
   ],
   "source": [
    "y_pred = rf_clf.predict(X_test)"
   ]
  },
  {
   "cell_type": "code",
   "execution_count": 12,
   "metadata": {},
   "outputs": [
    {
     "data": {
      "text/plain": [
       "0.7448"
      ]
     },
     "execution_count": 12,
     "metadata": {},
     "output_type": "execute_result"
    }
   ],
   "source": [
    "# BoW accuracy 0.7441\n",
    "round(accuracy_score(y_test, y_pred), 4)"
   ]
  },
  {
   "cell_type": "code",
   "execution_count": 13,
   "metadata": {},
   "outputs": [
    {
     "name": "stderr",
     "output_type": "stream",
     "text": [
      "[Parallel(n_jobs=1)]: Using backend SequentialBackend with 1 concurrent workers.\n"
     ]
    },
    {
     "name": "stdout",
     "output_type": "stream",
     "text": [
      "[CV]  ................................................................\n"
     ]
    },
    {
     "name": "stderr",
     "output_type": "stream",
     "text": [
      "[Parallel(n_jobs=-1)]: Using backend LokyBackend with 8 concurrent workers.\n",
      "[Parallel(n_jobs=-1)]: Done  34 tasks      | elapsed:    3.1s\n",
      "[Parallel(n_jobs=-1)]: Done 184 tasks      | elapsed:    6.5s\n",
      "[Parallel(n_jobs=-1)]: Done 434 tasks      | elapsed:   12.3s\n",
      "[Parallel(n_jobs=-1)]: Done 784 tasks      | elapsed:   20.5s\n",
      "[Parallel(n_jobs=-1)]: Done 1234 tasks      | elapsed:   30.0s\n",
      "[Parallel(n_jobs=-1)]: Done 2040 tasks      | elapsed:   40.6s\n",
      "[Parallel(n_jobs=-1)]: Done 3340 tasks      | elapsed:   57.7s\n",
      "[Parallel(n_jobs=-1)]: Done 4840 tasks      | elapsed:  1.3min\n",
      "[Parallel(n_jobs=-1)]: Done 6540 tasks      | elapsed:  1.7min\n",
      "[Parallel(n_jobs=-1)]: Done 8440 tasks      | elapsed:  2.1min\n",
      "[Parallel(n_jobs=-1)]: Done 9985 out of 10000 | elapsed:  2.5min remaining:    0.1s\n",
      "[Parallel(n_jobs=-1)]: Done 10000 out of 10000 | elapsed:  2.5min finished\n",
      "[Parallel(n_jobs=8)]: Using backend ThreadingBackend with 8 concurrent workers.\n",
      "[Parallel(n_jobs=8)]: Done  34 tasks      | elapsed:    0.1s\n",
      "[Parallel(n_jobs=8)]: Done 184 tasks      | elapsed:    0.7s\n",
      "[Parallel(n_jobs=8)]: Done 434 tasks      | elapsed:    1.7s\n",
      "[Parallel(n_jobs=8)]: Done 784 tasks      | elapsed:    3.2s\n",
      "[Parallel(n_jobs=8)]: Done 1234 tasks      | elapsed:    5.2s\n",
      "[Parallel(n_jobs=8)]: Done 1784 tasks      | elapsed:    7.5s\n",
      "[Parallel(n_jobs=8)]: Done 2434 tasks      | elapsed:   10.3s\n",
      "[Parallel(n_jobs=8)]: Done 3184 tasks      | elapsed:   13.6s\n",
      "[Parallel(n_jobs=8)]: Done 4034 tasks      | elapsed:   17.4s\n",
      "[Parallel(n_jobs=8)]: Done 4984 tasks      | elapsed:   21.4s\n",
      "[Parallel(n_jobs=8)]: Done 6034 tasks      | elapsed:   25.9s\n",
      "[Parallel(n_jobs=8)]: Done 7184 tasks      | elapsed:   30.8s\n",
      "[Parallel(n_jobs=8)]: Done 8434 tasks      | elapsed:   36.1s\n",
      "[Parallel(n_jobs=8)]: Done 9784 tasks      | elapsed:   41.9s\n",
      "[Parallel(n_jobs=8)]: Done 10000 out of 10000 | elapsed:   42.8s finished\n",
      "[Parallel(n_jobs=1)]: Done   1 out of   1 | elapsed:  3.4min remaining:    0.0s\n"
     ]
    },
    {
     "name": "stdout",
     "output_type": "stream",
     "text": [
      "[CV] ................................................. , total= 3.4min\n",
      "[CV]  ................................................................\n"
     ]
    },
    {
     "name": "stderr",
     "output_type": "stream",
     "text": [
      "[Parallel(n_jobs=-1)]: Using backend LokyBackend with 8 concurrent workers.\n",
      "[Parallel(n_jobs=-1)]: Done  52 tasks      | elapsed:    0.9s\n",
      "[Parallel(n_jobs=-1)]: Done 352 tasks      | elapsed:    5.1s\n",
      "[Parallel(n_jobs=-1)]: Done 852 tasks      | elapsed:   12.3s\n",
      "[Parallel(n_jobs=-1)]: Done 1552 tasks      | elapsed:   22.5s\n",
      "[Parallel(n_jobs=-1)]: Done 2452 tasks      | elapsed:   35.8s\n",
      "[Parallel(n_jobs=-1)]: Done 3552 tasks      | elapsed:   51.8s\n",
      "[Parallel(n_jobs=-1)]: Done 4852 tasks      | elapsed:  1.2min\n",
      "[Parallel(n_jobs=-1)]: Done 6352 tasks      | elapsed:  1.5min\n",
      "[Parallel(n_jobs=-1)]: Done 8052 tasks      | elapsed:  2.0min\n",
      "[Parallel(n_jobs=-1)]: Done 9952 tasks      | elapsed:  2.4min\n",
      "[Parallel(n_jobs=-1)]: Done 10000 out of 10000 | elapsed:  2.4min finished\n",
      "[Parallel(n_jobs=8)]: Using backend ThreadingBackend with 8 concurrent workers.\n",
      "[Parallel(n_jobs=8)]: Done  34 tasks      | elapsed:    0.0s\n",
      "[Parallel(n_jobs=8)]: Done 184 tasks      | elapsed:    0.6s\n",
      "[Parallel(n_jobs=8)]: Done 434 tasks      | elapsed:    1.6s\n",
      "[Parallel(n_jobs=8)]: Done 784 tasks      | elapsed:    3.1s\n",
      "[Parallel(n_jobs=8)]: Done 1234 tasks      | elapsed:    5.0s\n",
      "[Parallel(n_jobs=8)]: Done 1784 tasks      | elapsed:    7.4s\n",
      "[Parallel(n_jobs=8)]: Done 2434 tasks      | elapsed:   10.2s\n",
      "[Parallel(n_jobs=8)]: Done 3184 tasks      | elapsed:   13.4s\n",
      "[Parallel(n_jobs=8)]: Done 4034 tasks      | elapsed:   17.0s\n",
      "[Parallel(n_jobs=8)]: Done 4984 tasks      | elapsed:   21.2s\n",
      "[Parallel(n_jobs=8)]: Done 6034 tasks      | elapsed:   25.8s\n",
      "[Parallel(n_jobs=8)]: Done 7184 tasks      | elapsed:   30.7s\n",
      "[Parallel(n_jobs=8)]: Done 8434 tasks      | elapsed:   36.0s\n",
      "[Parallel(n_jobs=8)]: Done 9784 tasks      | elapsed:   41.8s\n",
      "[Parallel(n_jobs=8)]: Done 10000 out of 10000 | elapsed:   42.7s finished\n"
     ]
    },
    {
     "name": "stdout",
     "output_type": "stream",
     "text": [
      "[CV] ................................................. , total= 3.2min\n",
      "[CV]  ................................................................\n"
     ]
    },
    {
     "name": "stderr",
     "output_type": "stream",
     "text": [
      "[Parallel(n_jobs=-1)]: Using backend LokyBackend with 8 concurrent workers.\n",
      "[Parallel(n_jobs=-1)]: Done  52 tasks      | elapsed:    0.8s\n",
      "[Parallel(n_jobs=-1)]: Done 352 tasks      | elapsed:    5.1s\n",
      "[Parallel(n_jobs=-1)]: Done 852 tasks      | elapsed:   12.4s\n",
      "[Parallel(n_jobs=-1)]: Done 1552 tasks      | elapsed:   22.6s\n",
      "[Parallel(n_jobs=-1)]: Done 2452 tasks      | elapsed:   35.4s\n",
      "[Parallel(n_jobs=-1)]: Done 3552 tasks      | elapsed:   51.3s\n",
      "[Parallel(n_jobs=-1)]: Done 4852 tasks      | elapsed:  1.2min\n",
      "[Parallel(n_jobs=-1)]: Done 6352 tasks      | elapsed:  1.5min\n",
      "[Parallel(n_jobs=-1)]: Done 8052 tasks      | elapsed:  1.9min\n",
      "[Parallel(n_jobs=-1)]: Done 9952 tasks      | elapsed:  2.4min\n",
      "[Parallel(n_jobs=-1)]: Done 10000 out of 10000 | elapsed:  2.4min finished\n",
      "[Parallel(n_jobs=8)]: Using backend ThreadingBackend with 8 concurrent workers.\n",
      "[Parallel(n_jobs=8)]: Done  34 tasks      | elapsed:    0.1s\n",
      "[Parallel(n_jobs=8)]: Done 184 tasks      | elapsed:    0.7s\n",
      "[Parallel(n_jobs=8)]: Done 434 tasks      | elapsed:    1.8s\n",
      "[Parallel(n_jobs=8)]: Done 784 tasks      | elapsed:    3.3s\n",
      "[Parallel(n_jobs=8)]: Done 1234 tasks      | elapsed:    5.2s\n",
      "[Parallel(n_jobs=8)]: Done 1784 tasks      | elapsed:    7.6s\n",
      "[Parallel(n_jobs=8)]: Done 2434 tasks      | elapsed:   10.3s\n",
      "[Parallel(n_jobs=8)]: Done 3184 tasks      | elapsed:   13.5s\n",
      "[Parallel(n_jobs=8)]: Done 4034 tasks      | elapsed:   17.2s\n",
      "[Parallel(n_jobs=8)]: Done 4984 tasks      | elapsed:   21.2s\n",
      "[Parallel(n_jobs=8)]: Done 6034 tasks      | elapsed:   25.7s\n",
      "[Parallel(n_jobs=8)]: Done 7184 tasks      | elapsed:   30.9s\n",
      "[Parallel(n_jobs=8)]: Done 8434 tasks      | elapsed:   36.2s\n",
      "[Parallel(n_jobs=8)]: Done 9784 tasks      | elapsed:   41.9s\n"
     ]
    },
    {
     "name": "stdout",
     "output_type": "stream",
     "text": [
      "[CV] ................................................. , total= 3.2min\n",
      "Accuracy: 0.7469 (+/- 0.0019)\n"
     ]
    },
    {
     "name": "stderr",
     "output_type": "stream",
     "text": [
      "[Parallel(n_jobs=8)]: Done 10000 out of 10000 | elapsed:   42.8s finished\n",
      "[Parallel(n_jobs=1)]: Done   3 out of   3 | elapsed:  9.7min finished\n"
     ]
    }
   ],
   "source": [
    "# more robust evaluation\n",
    "# BoW got 0.75 (+/- 0.00)\n",
    "scores = cross_val_score(rf_clf, X_train_transformed, y_array, cv=3, verbose=2, scoring='accuracy')\n",
    "print(\"Accuracy: %0.4f (+/- %0.4f)\" % (scores.mean(), scores.std() * 2))"
   ]
  },
  {
   "cell_type": "code",
   "execution_count": 14,
   "metadata": {},
   "outputs": [],
   "source": [
    "rf_clf = RandomForestClassifier(n_estimators=300, # grow few trees...\n",
    "                                max_depth=500, # ... as deep as they go...\n",
    "                                max_features=\"sqrt\", # using default num features (about 224)\n",
    "                                max_samples=5000, # and a reasonable instance space - maybe increase?\n",
    "                                random_state=42,\n",
    "                                n_jobs=-1, \n",
    "                                verbose=1)"
   ]
  },
  {
   "cell_type": "code",
   "execution_count": 15,
   "metadata": {},
   "outputs": [
    {
     "name": "stderr",
     "output_type": "stream",
     "text": [
      "[Parallel(n_jobs=-1)]: Using backend ThreadingBackend with 8 concurrent workers.\n",
      "[Parallel(n_jobs=-1)]: Done  34 tasks      | elapsed:    6.3s\n",
      "[Parallel(n_jobs=-1)]: Done 184 tasks      | elapsed:   30.0s\n",
      "[Parallel(n_jobs=-1)]: Done 300 out of 300 | elapsed:   48.8s finished\n"
     ]
    },
    {
     "data": {
      "text/plain": [
       "RandomForestClassifier(max_depth=500, max_features='sqrt', max_samples=5000,\n",
       "                       n_estimators=300, n_jobs=-1, random_state=42, verbose=1)"
      ]
     },
     "execution_count": 15,
     "metadata": {},
     "output_type": "execute_result"
    }
   ],
   "source": [
    "rf_clf.fit(X_train, y_train)"
   ]
  },
  {
   "cell_type": "code",
   "execution_count": 16,
   "metadata": {},
   "outputs": [
    {
     "name": "stderr",
     "output_type": "stream",
     "text": [
      "[Parallel(n_jobs=8)]: Using backend ThreadingBackend with 8 concurrent workers.\n",
      "[Parallel(n_jobs=8)]: Done  34 tasks      | elapsed:    0.2s\n",
      "[Parallel(n_jobs=8)]: Done 184 tasks      | elapsed:    1.4s\n",
      "[Parallel(n_jobs=8)]: Done 300 out of 300 | elapsed:    2.3s finished\n"
     ]
    }
   ],
   "source": [
    "y_pred = rf_clf.predict(X_test)"
   ]
  },
  {
   "cell_type": "code",
   "execution_count": 17,
   "metadata": {},
   "outputs": [
    {
     "data": {
      "text/plain": [
       "0.754"
      ]
     },
     "execution_count": 17,
     "metadata": {},
     "output_type": "execute_result"
    }
   ],
   "source": [
    "# BoW got 0.7616\n",
    "round(accuracy_score(y_test, y_pred), 4)"
   ]
  },
  {
   "cell_type": "code",
   "execution_count": 18,
   "metadata": {},
   "outputs": [
    {
     "name": "stderr",
     "output_type": "stream",
     "text": [
      "[Parallel(n_jobs=1)]: Using backend SequentialBackend with 1 concurrent workers.\n"
     ]
    },
    {
     "name": "stdout",
     "output_type": "stream",
     "text": [
      "[CV]  ................................................................\n"
     ]
    },
    {
     "name": "stderr",
     "output_type": "stream",
     "text": [
      "[Parallel(n_jobs=-1)]: Using backend LokyBackend with 8 concurrent workers.\n",
      "[Parallel(n_jobs=-1)]: Done  34 tasks      | elapsed:    6.5s\n",
      "[Parallel(n_jobs=-1)]: Done 184 tasks      | elapsed:   30.3s\n",
      "[Parallel(n_jobs=-1)]: Done 300 out of 300 | elapsed:   47.9s finished\n",
      "[Parallel(n_jobs=8)]: Using backend ThreadingBackend with 8 concurrent workers.\n",
      "[Parallel(n_jobs=8)]: Done  34 tasks      | elapsed:    0.3s\n",
      "[Parallel(n_jobs=8)]: Done 184 tasks      | elapsed:    1.8s\n",
      "[Parallel(n_jobs=8)]: Done 300 out of 300 | elapsed:    3.1s finished\n",
      "[Parallel(n_jobs=1)]: Done   1 out of   1 | elapsed:   51.7s remaining:    0.0s\n"
     ]
    },
    {
     "name": "stdout",
     "output_type": "stream",
     "text": [
      "[CV] ................................................. , total=  51.8s\n",
      "[CV]  ................................................................\n"
     ]
    },
    {
     "name": "stderr",
     "output_type": "stream",
     "text": [
      "[Parallel(n_jobs=-1)]: Using backend LokyBackend with 8 concurrent workers.\n",
      "[Parallel(n_jobs=-1)]: Done  34 tasks      | elapsed:    6.1s\n",
      "[Parallel(n_jobs=-1)]: Done 184 tasks      | elapsed:   28.9s\n",
      "[Parallel(n_jobs=-1)]: Done 300 out of 300 | elapsed:   46.3s finished\n",
      "[Parallel(n_jobs=8)]: Using backend ThreadingBackend with 8 concurrent workers.\n",
      "[Parallel(n_jobs=8)]: Done  34 tasks      | elapsed:    0.2s\n",
      "[Parallel(n_jobs=8)]: Done 184 tasks      | elapsed:    1.8s\n",
      "[Parallel(n_jobs=8)]: Done 300 out of 300 | elapsed:    3.0s finished\n"
     ]
    },
    {
     "name": "stdout",
     "output_type": "stream",
     "text": [
      "[CV] ................................................. , total=  49.9s\n",
      "[CV]  ................................................................\n"
     ]
    },
    {
     "name": "stderr",
     "output_type": "stream",
     "text": [
      "[Parallel(n_jobs=-1)]: Using backend LokyBackend with 8 concurrent workers.\n",
      "[Parallel(n_jobs=-1)]: Done  34 tasks      | elapsed:    6.1s\n",
      "[Parallel(n_jobs=-1)]: Done 184 tasks      | elapsed:   28.6s\n",
      "[Parallel(n_jobs=-1)]: Done 300 out of 300 | elapsed:   46.2s finished\n",
      "[Parallel(n_jobs=8)]: Using backend ThreadingBackend with 8 concurrent workers.\n",
      "[Parallel(n_jobs=8)]: Done  34 tasks      | elapsed:    0.3s\n",
      "[Parallel(n_jobs=8)]: Done 184 tasks      | elapsed:    1.8s\n"
     ]
    },
    {
     "name": "stdout",
     "output_type": "stream",
     "text": [
      "[CV] ................................................. , total=  49.8s\n",
      "Accuracy: 0.7555 (+/- 0.0043)\n"
     ]
    },
    {
     "name": "stderr",
     "output_type": "stream",
     "text": [
      "[Parallel(n_jobs=8)]: Done 300 out of 300 | elapsed:    3.0s finished\n",
      "[Parallel(n_jobs=1)]: Done   3 out of   3 | elapsed:  2.5min finished\n"
     ]
    }
   ],
   "source": [
    "# more robust evaluation\n",
    "# Bow Accuracy: 0.76 (+/- 0.00)\n",
    "scores = cross_val_score(rf_clf, X_train_transformed, y_array, cv=3, verbose=2, scoring='accuracy')\n",
    "print(\"Accuracy: %0.4f (+/- %0.4f)\" % (scores.mean(), scores.std() * 2))"
   ]
  },
  {
   "cell_type": "markdown",
   "metadata": {},
   "source": [
    "### Grid search\n",
    "\n",
    "Just the best results."
   ]
  },
  {
   "cell_type": "code",
   "execution_count": 20,
   "metadata": {},
   "outputs": [],
   "source": [
    "grid_search_best = RandomForestClassifier(n_estimators=1000,\n",
    "                                max_depth=512, \n",
    "                                max_features=200, \n",
    "                                max_samples=8000, \n",
    "                                random_state=42,\n",
    "                                n_jobs=-1, \n",
    "                                verbose=1)"
   ]
  },
  {
   "cell_type": "code",
   "execution_count": 21,
   "metadata": {},
   "outputs": [
    {
     "name": "stderr",
     "output_type": "stream",
     "text": [
      "[Parallel(n_jobs=-1)]: Using backend ThreadingBackend with 8 concurrent workers.\n",
      "[Parallel(n_jobs=-1)]: Done  34 tasks      | elapsed:    9.8s\n",
      "[Parallel(n_jobs=-1)]: Done 184 tasks      | elapsed:   46.7s\n",
      "[Parallel(n_jobs=-1)]: Done 434 tasks      | elapsed:  1.9min\n",
      "[Parallel(n_jobs=-1)]: Done 784 tasks      | elapsed:  3.4min\n",
      "[Parallel(n_jobs=-1)]: Done 1000 out of 1000 | elapsed:  4.3min finished\n"
     ]
    },
    {
     "data": {
      "text/plain": [
       "RandomForestClassifier(max_depth=512, max_features=200, max_samples=8000,\n",
       "                       n_estimators=1000, n_jobs=-1, random_state=42,\n",
       "                       verbose=1)"
      ]
     },
     "execution_count": 21,
     "metadata": {},
     "output_type": "execute_result"
    }
   ],
   "source": [
    "grid_search_best.fit(X_train, y_train)"
   ]
  },
  {
   "cell_type": "code",
   "execution_count": 22,
   "metadata": {},
   "outputs": [
    {
     "name": "stderr",
     "output_type": "stream",
     "text": [
      "[Parallel(n_jobs=8)]: Using backend ThreadingBackend with 8 concurrent workers.\n",
      "[Parallel(n_jobs=8)]: Done  34 tasks      | elapsed:    0.2s\n",
      "[Parallel(n_jobs=8)]: Done 184 tasks      | elapsed:    1.3s\n",
      "[Parallel(n_jobs=8)]: Done 434 tasks      | elapsed:    3.1s\n",
      "[Parallel(n_jobs=8)]: Done 784 tasks      | elapsed:    5.6s\n",
      "[Parallel(n_jobs=8)]: Done 1000 out of 1000 | elapsed:    7.7s finished\n"
     ]
    },
    {
     "data": {
      "text/plain": [
       "0.763"
      ]
     },
     "execution_count": 22,
     "metadata": {},
     "output_type": "execute_result"
    }
   ],
   "source": [
    "y_pred = grid_search_best.predict(X_test)\n",
    "round(accuracy_score(y_test, y_pred), 4)"
   ]
  },
  {
   "cell_type": "code",
   "execution_count": 23,
   "metadata": {},
   "outputs": [
    {
     "name": "stderr",
     "output_type": "stream",
     "text": [
      "[Parallel(n_jobs=1)]: Using backend SequentialBackend with 1 concurrent workers.\n"
     ]
    },
    {
     "name": "stdout",
     "output_type": "stream",
     "text": [
      "[CV]  ................................................................\n"
     ]
    },
    {
     "name": "stderr",
     "output_type": "stream",
     "text": [
      "[Parallel(n_jobs=-1)]: Using backend LokyBackend with 8 concurrent workers.\n",
      "[Parallel(n_jobs=-1)]: Done  34 tasks      | elapsed:   12.8s\n",
      "[Parallel(n_jobs=-1)]: Done 184 tasks      | elapsed:   53.1s\n",
      "[Parallel(n_jobs=-1)]: Done 434 tasks      | elapsed:  2.1min\n",
      "[Parallel(n_jobs=-1)]: Done 784 tasks      | elapsed:  3.5min\n",
      "[Parallel(n_jobs=-1)]: Done 1000 out of 1000 | elapsed:  4.4min finished\n",
      "[Parallel(n_jobs=8)]: Using backend ThreadingBackend with 8 concurrent workers.\n",
      "[Parallel(n_jobs=8)]: Done  34 tasks      | elapsed:    0.4s\n",
      "[Parallel(n_jobs=8)]: Done 184 tasks      | elapsed:    2.1s\n",
      "[Parallel(n_jobs=8)]: Done 434 tasks      | elapsed:    5.2s\n",
      "[Parallel(n_jobs=8)]: Done 784 tasks      | elapsed:    9.5s\n",
      "[Parallel(n_jobs=8)]: Done 1000 out of 1000 | elapsed:   12.2s finished\n",
      "[Parallel(n_jobs=1)]: Done   1 out of   1 | elapsed:  4.6min remaining:    0.0s\n"
     ]
    },
    {
     "name": "stdout",
     "output_type": "stream",
     "text": [
      "[CV] ................................................. , total= 4.6min\n",
      "[CV]  ................................................................\n"
     ]
    },
    {
     "name": "stderr",
     "output_type": "stream",
     "text": [
      "[Parallel(n_jobs=-1)]: Using backend LokyBackend with 8 concurrent workers.\n",
      "[Parallel(n_jobs=-1)]: Done  34 tasks      | elapsed:   10.6s\n",
      "[Parallel(n_jobs=-1)]: Done 184 tasks      | elapsed:   53.0s\n",
      "[Parallel(n_jobs=-1)]: Done 434 tasks      | elapsed:  2.0min\n",
      "[Parallel(n_jobs=-1)]: Done 784 tasks      | elapsed:  3.6min\n",
      "[Parallel(n_jobs=-1)]: Done 1000 out of 1000 | elapsed:  4.6min finished\n",
      "[Parallel(n_jobs=8)]: Using backend ThreadingBackend with 8 concurrent workers.\n",
      "[Parallel(n_jobs=8)]: Done  34 tasks      | elapsed:    0.4s\n",
      "[Parallel(n_jobs=8)]: Done 184 tasks      | elapsed:    2.5s\n",
      "[Parallel(n_jobs=8)]: Done 434 tasks      | elapsed:    5.8s\n",
      "[Parallel(n_jobs=8)]: Done 784 tasks      | elapsed:   10.4s\n",
      "[Parallel(n_jobs=8)]: Done 1000 out of 1000 | elapsed:   13.2s finished\n"
     ]
    },
    {
     "name": "stdout",
     "output_type": "stream",
     "text": [
      "[CV] ................................................. , total= 4.8min\n",
      "[CV]  ................................................................\n"
     ]
    },
    {
     "name": "stderr",
     "output_type": "stream",
     "text": [
      "[Parallel(n_jobs=-1)]: Using backend LokyBackend with 8 concurrent workers.\n",
      "[Parallel(n_jobs=-1)]: Done  34 tasks      | elapsed:   10.5s\n",
      "[Parallel(n_jobs=-1)]: Done 184 tasks      | elapsed:   50.6s\n",
      "[Parallel(n_jobs=-1)]: Done 434 tasks      | elapsed:  2.0min\n",
      "[Parallel(n_jobs=-1)]: Done 784 tasks      | elapsed:  3.5min\n",
      "[Parallel(n_jobs=-1)]: Done 1000 out of 1000 | elapsed:  4.5min finished\n",
      "[Parallel(n_jobs=8)]: Using backend ThreadingBackend with 8 concurrent workers.\n",
      "[Parallel(n_jobs=8)]: Done  34 tasks      | elapsed:    0.4s\n",
      "[Parallel(n_jobs=8)]: Done 184 tasks      | elapsed:    2.6s\n",
      "[Parallel(n_jobs=8)]: Done 434 tasks      | elapsed:    6.2s\n",
      "[Parallel(n_jobs=8)]: Done 784 tasks      | elapsed:   11.2s\n"
     ]
    },
    {
     "name": "stdout",
     "output_type": "stream",
     "text": [
      "[CV] ................................................. , total= 4.8min\n",
      "Accuracy: 0.7639 (+/- 0.0033)\n"
     ]
    },
    {
     "name": "stderr",
     "output_type": "stream",
     "text": [
      "[Parallel(n_jobs=8)]: Done 1000 out of 1000 | elapsed:   14.2s finished\n",
      "[Parallel(n_jobs=1)]: Done   3 out of   3 | elapsed: 14.2min finished\n"
     ]
    }
   ],
   "source": [
    "scores = cross_val_score(grid_search_best, X_train_transformed, y_array, cv=3, verbose=2, scoring='accuracy')\n",
    "print(\"Accuracy: %0.4f (+/- %0.4f)\" % (scores.mean(), scores.std() * 2))"
   ]
  },
  {
   "cell_type": "markdown",
   "metadata": {},
   "source": [
    "$76.4\\%$ seems more promising than $75\\%$ for the BoW, but tought to know without learning curves.\n",
    "\n",
    "---"
   ]
  }
 ],
 "metadata": {
  "kernelspec": {
   "display_name": "Python 3",
   "language": "python",
   "name": "python3"
  },
  "language_info": {
   "codemirror_mode": {
    "name": "ipython",
    "version": 3
   },
   "file_extension": ".py",
   "mimetype": "text/x-python",
   "name": "python",
   "nbconvert_exporter": "python",
   "pygments_lexer": "ipython3",
   "version": "3.7.3"
  }
 },
 "nbformat": 4,
 "nbformat_minor": 4
}
