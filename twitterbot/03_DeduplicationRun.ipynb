{
 "cells": [
  {
   "cell_type": "markdown",
   "metadata": {},
   "source": [
    "# Deduplication\n",
    "\n",
    "Reproducible run of the deduplication script."
   ]
  },
  {
   "cell_type": "code",
   "execution_count": 1,
   "metadata": {},
   "outputs": [
    {
     "name": "stdout",
     "output_type": "stream",
     "text": [
      "Script complete. See logs\\20201018_dedupe_log\n"
     ]
    },
    {
     "name": "stderr",
     "output_type": "stream",
     "text": [
      "root        : INFO     Date: 2020-10-18\n",
      "root        : INFO     Time: 19:12:26\n",
      "root        : INFO     Tweet deduplication\n",
      "root        : INFO     Loading...\n",
      "load        : INFO     Loading time: 20.3579 secs.\n",
      "load        : INFO     Raw data nrows: 1415400\n",
      "dedup       : INFO     Deduping...\n",
      "dedup       : INFO     Dedupe time: 1.3723 secs.\n",
      "dedup       : INFO     Deduped data nrows: 1038850\n",
      "dedup       : INFO     % dupes: 26.6\n",
      "dedup       : INFO     % diff in target (Polarity): 5.9799999999999995\n",
      "save        : INFO     Saving...\n",
      "root        : INFO     Deduplication successful.\n",
      "root        : INFO     See ..\\data\\1.2_deduped\\tweets\\20201018_deduped_tweets.csv for data.\n",
      "root        : INFO     Time elapsed: 35.8665 secs.\n"
     ]
    }
   ],
   "source": [
    "cmd = 'python dedupe.py'\n",
    "!{cmd}"
   ]
  },
  {
   "cell_type": "markdown",
   "metadata": {},
   "source": [
    "---"
   ]
  }
 ],
 "metadata": {
  "kernelspec": {
   "display_name": "Python 3",
   "language": "python",
   "name": "python3"
  },
  "language_info": {
   "codemirror_mode": {
    "name": "ipython",
    "version": 3
   },
   "file_extension": ".py",
   "mimetype": "text/x-python",
   "name": "python",
   "nbconvert_exporter": "python",
   "pygments_lexer": "ipython3",
   "version": "3.7.3"
  }
 },
 "nbformat": 4,
 "nbformat_minor": 4
}
