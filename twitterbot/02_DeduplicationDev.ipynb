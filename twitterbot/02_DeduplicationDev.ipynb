{
 "cells": [
  {
   "cell_type": "markdown",
   "metadata": {},
   "source": [
    "# Cleanup Process\n",
    "\n",
    "There are two main schools of thought when it comes to cleaning data for machine learning projects:\n",
    "\n",
    "1. clean entire data, then split into train/test sets and proceeds with preprocessing for ML\n",
    "2. split raw data into train/test sets, setup a reusable cleaning pipeline\n",
    "\n",
    "The first method is easier for smaller projects that will not scale nor expect future data.\n",
    "\n",
    "The second is the standard process for an online solution, it scales to deployment in production with new data.\n",
    "\n",
    "Because of the large number of duplicated Tweets (mostly retweets) and because I'm not implementing an online solution, I'll prefer a hybric approach: remove duplicates prior to splitting into train/test sets, but save any further cleanup for the analytic pipeline.\n",
    "\n",
    "This notebook is *not* the implementation of this process, it is an exploration of the data so that this process can be implemented. See `dedupe.py` for actual deduplication script which is run from the command line: ```python dedupe.py```.\n",
    "\n",
    "Here I am prematurely creating the variable \"Retweet\", which is essentially feature enginering (a step down the pipeline), so that I can compare the percentage of retweets in both duplicated Tweets and deduplicated Tweets, gain insight into the amount of duplication and tune the Tweet ingestion schedule. Too many Tweets on a single day isn't worth the small gains in non-duplicated Tweets. I've got ingestion tuned to 25% duplication at 50k Tweets a day so I'm ingesting ~37,500 unique Tweets daily."
   ]
  },
  {
   "cell_type": "code",
   "execution_count": 1,
   "metadata": {},
   "outputs": [],
   "source": [
    "import os\n",
    "import re\n",
    "import time\n",
    "import pandas as pd"
   ]
  },
  {
   "cell_type": "code",
   "execution_count": 9,
   "metadata": {},
   "outputs": [
    {
     "name": "stdout",
     "output_type": "stream",
     "text": [
      "There are 1524 csv files.\n"
     ]
    }
   ],
   "source": [
    "csv_files = os.listdir(os.path.join(\"..\",\"data\",\"1_raw\",\"tweets\"))\n",
    "\n",
    "print(f'There are {len(csv_files):0.0f} csv files.')"
   ]
  },
  {
   "cell_type": "markdown",
   "metadata": {},
   "source": [
    "### study dates and plot ingestion as a line graph..."
   ]
  },
  {
   "cell_type": "code",
   "execution_count": 10,
   "metadata": {},
   "outputs": [],
   "source": [
    "def load_all_data():\n",
    "    filepath = os.path.join(\"..\",\"data\",\"1_raw\",\"tweets\")\n",
    "    dfm = []\n",
    "    for f in os.listdir(filepath):\n",
    "        dfm.append(pd.read_csv(os.path.join(filepath, f)))\n",
    "    df = pd.concat(dfm)\n",
    "    df = df.reset_index(drop=True)\n",
    "    return df"
   ]
  },
  {
   "cell_type": "code",
   "execution_count": 11,
   "metadata": {},
   "outputs": [
    {
     "data": {
      "text/plain": [
       "(1415400, 5)"
      ]
     },
     "execution_count": 11,
     "metadata": {},
     "output_type": "execute_result"
    }
   ],
   "source": [
    "df = load_all_data()\n",
    "df.shape"
   ]
  },
  {
   "cell_type": "code",
   "execution_count": 12,
   "metadata": {},
   "outputs": [
    {
     "data": {
      "text/html": [
       "<div>\n",
       "<style scoped>\n",
       "    .dataframe tbody tr th:only-of-type {\n",
       "        vertical-align: middle;\n",
       "    }\n",
       "\n",
       "    .dataframe tbody tr th {\n",
       "        vertical-align: top;\n",
       "    }\n",
       "\n",
       "    .dataframe thead th {\n",
       "        text-align: right;\n",
       "    }\n",
       "</style>\n",
       "<table border=\"1\" class=\"dataframe\">\n",
       "  <thead>\n",
       "    <tr style=\"text-align: right;\">\n",
       "      <th></th>\n",
       "      <th>ID</th>\n",
       "    </tr>\n",
       "    <tr>\n",
       "      <th>User</th>\n",
       "      <th></th>\n",
       "    </tr>\n",
       "  </thead>\n",
       "  <tbody>\n",
       "    <tr>\n",
       "      <th>GetVidBot</th>\n",
       "      <td>82</td>\n",
       "    </tr>\n",
       "    <tr>\n",
       "      <th>pinkyfaye</th>\n",
       "      <td>70</td>\n",
       "    </tr>\n",
       "    <tr>\n",
       "      <th>vmindarling</th>\n",
       "      <td>58</td>\n",
       "    </tr>\n",
       "    <tr>\n",
       "      <th>sportsthread</th>\n",
       "      <td>57</td>\n",
       "    </tr>\n",
       "    <tr>\n",
       "      <th>KenanWaters</th>\n",
       "      <td>45</td>\n",
       "    </tr>\n",
       "  </tbody>\n",
       "</table>\n",
       "</div>"
      ],
      "text/plain": [
       "              ID\n",
       "User            \n",
       "GetVidBot     82\n",
       "pinkyfaye     70\n",
       "vmindarling   58\n",
       "sportsthread  57\n",
       "KenanWaters   45"
      ]
     },
     "execution_count": 12,
     "metadata": {},
     "output_type": "execute_result"
    }
   ],
   "source": [
    "# quick glance at top users with multiple tweets\n",
    "grouped = df[['User', 'ID']].groupby('User').count().sort_values('ID', ascending=False)\n",
    "grouped[grouped['ID']>1].head()"
   ]
  },
  {
   "cell_type": "markdown",
   "metadata": {},
   "source": [
    "### Retweet Column\n",
    "\n",
    "Issue: not present in sentiment140 data - do not use for comparing classifiers between projects and tracking data drift.\n",
    "\n",
    "Note: this is a feature engineering step that is only present here for early analysis not as a cleanup step."
   ]
  },
  {
   "cell_type": "code",
   "execution_count": 13,
   "metadata": {},
   "outputs": [],
   "source": [
    "def is_retweet(col):\n",
    "\n",
    "    for i in range(len(col)):\n",
    "        if re.match(r'^RT', col) is not None:\n",
    "            return 1\n",
    "        else:\n",
    "            return 0      \n",
    "        \n",
    "def map_is_retweet(col):\n",
    "   \n",
    "    bool_map = map(lambda x: is_retweet(x), col)      \n",
    "    return(list(bool_map)) "
   ]
  },
  {
   "cell_type": "code",
   "execution_count": 14,
   "metadata": {},
   "outputs": [],
   "source": [
    "df['Retweet'] = map_is_retweet(df['Text'].values)"
   ]
  },
  {
   "cell_type": "code",
   "execution_count": 15,
   "metadata": {},
   "outputs": [
    {
     "data": {
      "text/html": [
       "<div>\n",
       "<style scoped>\n",
       "    .dataframe tbody tr th:only-of-type {\n",
       "        vertical-align: middle;\n",
       "    }\n",
       "\n",
       "    .dataframe tbody tr th {\n",
       "        vertical-align: top;\n",
       "    }\n",
       "\n",
       "    .dataframe thead th {\n",
       "        text-align: right;\n",
       "    }\n",
       "</style>\n",
       "<table border=\"1\" class=\"dataframe\">\n",
       "  <thead>\n",
       "    <tr style=\"text-align: right;\">\n",
       "      <th></th>\n",
       "      <th>ID</th>\n",
       "      <th>Timestamp</th>\n",
       "      <th>User</th>\n",
       "      <th>Text</th>\n",
       "      <th>Polarity</th>\n",
       "      <th>Retweet</th>\n",
       "    </tr>\n",
       "  </thead>\n",
       "  <tbody>\n",
       "    <tr>\n",
       "      <th>0</th>\n",
       "      <td>1302406168791470081</td>\n",
       "      <td>2020-09-06 00:40:02</td>\n",
       "      <td>asarinanamis</td>\n",
       "      <td>RT @Ayshiun: Totally inspired by@/kianamaiart'...</td>\n",
       "      <td>-1</td>\n",
       "      <td>1</td>\n",
       "    </tr>\n",
       "    <tr>\n",
       "      <th>1</th>\n",
       "      <td>1302406168766078976</td>\n",
       "      <td>2020-09-06 00:40:02</td>\n",
       "      <td>xleave_thecity</td>\n",
       "      <td>@thiinkinaboutit thank you 🥺</td>\n",
       "      <td>-1</td>\n",
       "      <td>0</td>\n",
       "    </tr>\n",
       "    <tr>\n",
       "      <th>2</th>\n",
       "      <td>1302406168170696706</td>\n",
       "      <td>2020-09-06 00:40:02</td>\n",
       "      <td>MsTam_Tam</td>\n",
       "      <td>some of yall retweets really be having me look...</td>\n",
       "      <td>-1</td>\n",
       "      <td>0</td>\n",
       "    </tr>\n",
       "    <tr>\n",
       "      <th>3</th>\n",
       "      <td>1302406168120365056</td>\n",
       "      <td>2020-09-06 00:40:02</td>\n",
       "      <td>_thebdawkk</td>\n",
       "      <td>@jeenbeen__ Thank you Jen 🥺 just miss the old ...</td>\n",
       "      <td>-1</td>\n",
       "      <td>0</td>\n",
       "    </tr>\n",
       "    <tr>\n",
       "      <th>4</th>\n",
       "      <td>1302406167956602880</td>\n",
       "      <td>2020-09-06 00:40:02</td>\n",
       "      <td>4ranghae1015</td>\n",
       "      <td>@SJofficial My favorite part is the BAD boy, g...</td>\n",
       "      <td>-1</td>\n",
       "      <td>0</td>\n",
       "    </tr>\n",
       "  </tbody>\n",
       "</table>\n",
       "</div>"
      ],
      "text/plain": [
       "                    ID            Timestamp            User  \\\n",
       "0  1302406168791470081  2020-09-06 00:40:02    asarinanamis   \n",
       "1  1302406168766078976  2020-09-06 00:40:02  xleave_thecity   \n",
       "2  1302406168170696706  2020-09-06 00:40:02       MsTam_Tam   \n",
       "3  1302406168120365056  2020-09-06 00:40:02      _thebdawkk   \n",
       "4  1302406167956602880  2020-09-06 00:40:02    4ranghae1015   \n",
       "\n",
       "                                                Text  Polarity  Retweet  \n",
       "0  RT @Ayshiun: Totally inspired by@/kianamaiart'...        -1        1  \n",
       "1                       @thiinkinaboutit thank you 🥺        -1        0  \n",
       "2  some of yall retweets really be having me look...        -1        0  \n",
       "3  @jeenbeen__ Thank you Jen 🥺 just miss the old ...        -1        0  \n",
       "4  @SJofficial My favorite part is the BAD boy, g...        -1        0  "
      ]
     },
     "execution_count": 15,
     "metadata": {},
     "output_type": "execute_result"
    }
   ],
   "source": [
    "df.head()"
   ]
  },
  {
   "cell_type": "code",
   "execution_count": 16,
   "metadata": {},
   "outputs": [
    {
     "data": {
      "text/html": [
       "<div>\n",
       "<style scoped>\n",
       "    .dataframe tbody tr th:only-of-type {\n",
       "        vertical-align: middle;\n",
       "    }\n",
       "\n",
       "    .dataframe tbody tr th {\n",
       "        vertical-align: top;\n",
       "    }\n",
       "\n",
       "    .dataframe thead th {\n",
       "        text-align: right;\n",
       "    }\n",
       "</style>\n",
       "<table border=\"1\" class=\"dataframe\">\n",
       "  <thead>\n",
       "    <tr style=\"text-align: right;\">\n",
       "      <th></th>\n",
       "      <th>ID</th>\n",
       "      <th>Timestamp</th>\n",
       "      <th>User</th>\n",
       "      <th>Text</th>\n",
       "      <th>Polarity</th>\n",
       "      <th>Retweet</th>\n",
       "    </tr>\n",
       "  </thead>\n",
       "  <tbody>\n",
       "    <tr>\n",
       "      <th>1415395</th>\n",
       "      <td>1316053552976986112</td>\n",
       "      <td>2020-10-13 16:29:52</td>\n",
       "      <td>SayJoseReal</td>\n",
       "      <td>RT @amorhestia: toga it is 🥰✨ https://t.co/Sil...</td>\n",
       "      <td>1</td>\n",
       "      <td>1</td>\n",
       "    </tr>\n",
       "    <tr>\n",
       "      <th>1415396</th>\n",
       "      <td>1316053552956157952</td>\n",
       "      <td>2020-10-13 16:29:52</td>\n",
       "      <td>otleyshev68</td>\n",
       "      <td>@NYKChannel @elonmusk hey Elon don’t suppose p...</td>\n",
       "      <td>1</td>\n",
       "      <td>0</td>\n",
       "    </tr>\n",
       "    <tr>\n",
       "      <th>1415397</th>\n",
       "      <td>1316053552951816192</td>\n",
       "      <td>2020-10-13 16:29:52</td>\n",
       "      <td>Yenettirb</td>\n",
       "      <td>@camisavisionary Aye. I just screamed 😂</td>\n",
       "      <td>1</td>\n",
       "      <td>0</td>\n",
       "    </tr>\n",
       "    <tr>\n",
       "      <th>1415398</th>\n",
       "      <td>1316053552926687237</td>\n",
       "      <td>2020-10-13 16:29:52</td>\n",
       "      <td>JeremiahLambert</td>\n",
       "      <td>@German_Titans 😂😂😂😂😂😂😂😂😂😂😂😂😂😂😂😂😂😂😂😂😂😂😂😂 \\n\\nGi...</td>\n",
       "      <td>1</td>\n",
       "      <td>0</td>\n",
       "    </tr>\n",
       "    <tr>\n",
       "      <th>1415399</th>\n",
       "      <td>1316053552897368064</td>\n",
       "      <td>2020-10-13 16:29:52</td>\n",
       "      <td>elizabethvarao</td>\n",
       "      <td>@IamSisSisisMe @carlazuill Can't wait to follo...</td>\n",
       "      <td>1</td>\n",
       "      <td>0</td>\n",
       "    </tr>\n",
       "  </tbody>\n",
       "</table>\n",
       "</div>"
      ],
      "text/plain": [
       "                          ID            Timestamp             User  \\\n",
       "1415395  1316053552976986112  2020-10-13 16:29:52      SayJoseReal   \n",
       "1415396  1316053552956157952  2020-10-13 16:29:52      otleyshev68   \n",
       "1415397  1316053552951816192  2020-10-13 16:29:52        Yenettirb   \n",
       "1415398  1316053552926687237  2020-10-13 16:29:52  JeremiahLambert   \n",
       "1415399  1316053552897368064  2020-10-13 16:29:52   elizabethvarao   \n",
       "\n",
       "                                                      Text  Polarity  Retweet  \n",
       "1415395  RT @amorhestia: toga it is 🥰✨ https://t.co/Sil...         1        1  \n",
       "1415396  @NYKChannel @elonmusk hey Elon don’t suppose p...         1        0  \n",
       "1415397            @camisavisionary Aye. I just screamed 😂         1        0  \n",
       "1415398  @German_Titans 😂😂😂😂😂😂😂😂😂😂😂😂😂😂😂😂😂😂😂😂😂😂😂😂 \\n\\nGi...         1        0  \n",
       "1415399  @IamSisSisisMe @carlazuill Can't wait to follo...         1        0  "
      ]
     },
     "execution_count": 16,
     "metadata": {},
     "output_type": "execute_result"
    }
   ],
   "source": [
    "df.tail()"
   ]
  },
  {
   "cell_type": "markdown",
   "metadata": {},
   "source": [
    "## POC for Deduplicating on Text"
   ]
  },
  {
   "cell_type": "code",
   "execution_count": 17,
   "metadata": {},
   "outputs": [
    {
     "data": {
      "text/html": [
       "<div>\n",
       "<style scoped>\n",
       "    .dataframe tbody tr th:only-of-type {\n",
       "        vertical-align: middle;\n",
       "    }\n",
       "\n",
       "    .dataframe tbody tr th {\n",
       "        vertical-align: top;\n",
       "    }\n",
       "\n",
       "    .dataframe thead th {\n",
       "        text-align: right;\n",
       "    }\n",
       "</style>\n",
       "<table border=\"1\" class=\"dataframe\">\n",
       "  <thead>\n",
       "    <tr style=\"text-align: right;\">\n",
       "      <th></th>\n",
       "      <th>Text</th>\n",
       "      <th>ID</th>\n",
       "      <th>Retweet</th>\n",
       "    </tr>\n",
       "  </thead>\n",
       "  <tbody>\n",
       "    <tr>\n",
       "      <th>0</th>\n",
       "      <td>apple</td>\n",
       "      <td>234309</td>\n",
       "      <td>0</td>\n",
       "    </tr>\n",
       "    <tr>\n",
       "      <th>1</th>\n",
       "      <td>orange</td>\n",
       "      <td>349102</td>\n",
       "      <td>0</td>\n",
       "    </tr>\n",
       "    <tr>\n",
       "      <th>2</th>\n",
       "      <td>banana</td>\n",
       "      <td>930443</td>\n",
       "      <td>0</td>\n",
       "    </tr>\n",
       "    <tr>\n",
       "      <th>3</th>\n",
       "      <td>apple</td>\n",
       "      <td>898344</td>\n",
       "      <td>1</td>\n",
       "    </tr>\n",
       "    <tr>\n",
       "      <th>4</th>\n",
       "      <td>banana</td>\n",
       "      <td>229945</td>\n",
       "      <td>1</td>\n",
       "    </tr>\n",
       "    <tr>\n",
       "      <th>5</th>\n",
       "      <td>banana</td>\n",
       "      <td>690346</td>\n",
       "      <td>0</td>\n",
       "    </tr>\n",
       "    <tr>\n",
       "      <th>6</th>\n",
       "      <td>mango</td>\n",
       "      <td>893427</td>\n",
       "      <td>1</td>\n",
       "    </tr>\n",
       "  </tbody>\n",
       "</table>\n",
       "</div>"
      ],
      "text/plain": [
       "     Text      ID  Retweet\n",
       "0   apple  234309        0\n",
       "1  orange  349102        0\n",
       "2  banana  930443        0\n",
       "3   apple  898344        1\n",
       "4  banana  229945        1\n",
       "5  banana  690346        0\n",
       "6   mango  893427        1"
      ]
     },
     "execution_count": 17,
     "metadata": {},
     "output_type": "execute_result"
    }
   ],
   "source": [
    "data = {'Text': ['apple','orange','banana','apple','banana','banana','mango']\n",
    "       , 'ID': [234309, 349102, 930443, 898344, 229945, 690346, 893427]\n",
    "       , 'Retweet': [0, 0, 0, 1, 1, 0, 1]}\n",
    "test = pd.DataFrame(data, columns = ['Text','ID','Retweet'])\n",
    "test"
   ]
  },
  {
   "cell_type": "code",
   "execution_count": 18,
   "metadata": {},
   "outputs": [
    {
     "data": {
      "text/html": [
       "<div>\n",
       "<style scoped>\n",
       "    .dataframe tbody tr th:only-of-type {\n",
       "        vertical-align: middle;\n",
       "    }\n",
       "\n",
       "    .dataframe tbody tr th {\n",
       "        vertical-align: top;\n",
       "    }\n",
       "\n",
       "    .dataframe thead th {\n",
       "        text-align: right;\n",
       "    }\n",
       "</style>\n",
       "<table border=\"1\" class=\"dataframe\">\n",
       "  <thead>\n",
       "    <tr style=\"text-align: right;\">\n",
       "      <th></th>\n",
       "      <th>Text</th>\n",
       "      <th>ID</th>\n",
       "      <th>Retweet</th>\n",
       "    </tr>\n",
       "  </thead>\n",
       "  <tbody>\n",
       "    <tr>\n",
       "      <th>3</th>\n",
       "      <td>apple</td>\n",
       "      <td>898344</td>\n",
       "      <td>1</td>\n",
       "    </tr>\n",
       "    <tr>\n",
       "      <th>4</th>\n",
       "      <td>banana</td>\n",
       "      <td>229945</td>\n",
       "      <td>1</td>\n",
       "    </tr>\n",
       "    <tr>\n",
       "      <th>5</th>\n",
       "      <td>banana</td>\n",
       "      <td>690346</td>\n",
       "      <td>0</td>\n",
       "    </tr>\n",
       "  </tbody>\n",
       "</table>\n",
       "</div>"
      ],
      "text/plain": [
       "     Text      ID  Retweet\n",
       "3   apple  898344        1\n",
       "4  banana  229945        1\n",
       "5  banana  690346        0"
      ]
     },
     "execution_count": 18,
     "metadata": {},
     "output_type": "execute_result"
    }
   ],
   "source": [
    "dupes = test[test['Text'].duplicated(keep='first')]\n",
    "dupes"
   ]
  },
  {
   "cell_type": "code",
   "execution_count": 19,
   "metadata": {},
   "outputs": [
    {
     "data": {
      "text/plain": [
       "0.42857142857142855"
      ]
     },
     "execution_count": 19,
     "metadata": {},
     "output_type": "execute_result"
    }
   ],
   "source": [
    "dupes.shape[0]/test.shape[0] # % dupes"
   ]
  },
  {
   "cell_type": "code",
   "execution_count": 20,
   "metadata": {},
   "outputs": [
    {
     "data": {
      "text/plain": [
       "0.6666666666666666"
      ]
     },
     "execution_count": 20,
     "metadata": {},
     "output_type": "execute_result"
    }
   ],
   "source": [
    "dupes[dupes['Retweet']==1].shape[0]/dupes.shape[0] # % retweets in dupes"
   ]
  },
  {
   "cell_type": "code",
   "execution_count": 21,
   "metadata": {},
   "outputs": [
    {
     "data": {
      "text/plain": [
       "3    898344\n",
       "4    229945\n",
       "5    690346\n",
       "Name: ID, dtype: int64"
      ]
     },
     "execution_count": 21,
     "metadata": {},
     "output_type": "execute_result"
    }
   ],
   "source": [
    "dupes['ID'] # dup ids, remove from test"
   ]
  },
  {
   "cell_type": "code",
   "execution_count": 22,
   "metadata": {},
   "outputs": [
    {
     "data": {
      "text/html": [
       "<div>\n",
       "<style scoped>\n",
       "    .dataframe tbody tr th:only-of-type {\n",
       "        vertical-align: middle;\n",
       "    }\n",
       "\n",
       "    .dataframe tbody tr th {\n",
       "        vertical-align: top;\n",
       "    }\n",
       "\n",
       "    .dataframe thead th {\n",
       "        text-align: right;\n",
       "    }\n",
       "</style>\n",
       "<table border=\"1\" class=\"dataframe\">\n",
       "  <thead>\n",
       "    <tr style=\"text-align: right;\">\n",
       "      <th></th>\n",
       "      <th>Text</th>\n",
       "      <th>ID</th>\n",
       "      <th>Retweet</th>\n",
       "    </tr>\n",
       "  </thead>\n",
       "  <tbody>\n",
       "    <tr>\n",
       "      <th>0</th>\n",
       "      <td>apple</td>\n",
       "      <td>234309</td>\n",
       "      <td>0</td>\n",
       "    </tr>\n",
       "    <tr>\n",
       "      <th>1</th>\n",
       "      <td>orange</td>\n",
       "      <td>349102</td>\n",
       "      <td>0</td>\n",
       "    </tr>\n",
       "    <tr>\n",
       "      <th>2</th>\n",
       "      <td>banana</td>\n",
       "      <td>930443</td>\n",
       "      <td>0</td>\n",
       "    </tr>\n",
       "    <tr>\n",
       "      <th>6</th>\n",
       "      <td>mango</td>\n",
       "      <td>893427</td>\n",
       "      <td>1</td>\n",
       "    </tr>\n",
       "  </tbody>\n",
       "</table>\n",
       "</div>"
      ],
      "text/plain": [
       "     Text      ID  Retweet\n",
       "0   apple  234309        0\n",
       "1  orange  349102        0\n",
       "2  banana  930443        0\n",
       "6   mango  893427        1"
      ]
     },
     "execution_count": 22,
     "metadata": {},
     "output_type": "execute_result"
    }
   ],
   "source": [
    "deduped_test = test[~test.ID.isin(dupes['ID'])]\n",
    "deduped_test"
   ]
  },
  {
   "cell_type": "code",
   "execution_count": 23,
   "metadata": {},
   "outputs": [
    {
     "data": {
      "text/plain": [
       "0.25"
      ]
     },
     "execution_count": 23,
     "metadata": {},
     "output_type": "execute_result"
    }
   ],
   "source": [
    "deduped_test[deduped_test['Retweet']==1].shape[0]/deduped_test.shape[0] # % retweets in deduped data "
   ]
  },
  {
   "cell_type": "markdown",
   "metadata": {},
   "source": [
    "Then check for polarity and class balance.\n",
    "\n",
    "## Deduplicating Data"
   ]
  },
  {
   "cell_type": "code",
   "execution_count": 24,
   "metadata": {},
   "outputs": [],
   "source": [
    "dupes = df[df['Text'].duplicated(keep='first')]"
   ]
  },
  {
   "cell_type": "code",
   "execution_count": 25,
   "metadata": {},
   "outputs": [
    {
     "name": "stdout",
     "output_type": "stream",
     "text": [
      "% dupes: 26.6\n"
     ]
    }
   ],
   "source": [
    "print(\"% dupes: \" + str(100*round(dupes.shape[0]/df.shape[0], 4)))"
   ]
  },
  {
   "cell_type": "code",
   "execution_count": 26,
   "metadata": {},
   "outputs": [
    {
     "name": "stdout",
     "output_type": "stream",
     "text": [
      "% retweets in dupes: 99.79\n"
     ]
    }
   ],
   "source": [
    "print(\"% retweets in dupes: \" + str(100*round(dupes[dupes['Retweet']==1].shape[0]/dupes.shape[0], 4))) "
   ]
  },
  {
   "cell_type": "code",
   "execution_count": 27,
   "metadata": {},
   "outputs": [],
   "source": [
    "deduped_df = df[~df.ID.isin(dupes['ID'])]"
   ]
  },
  {
   "cell_type": "code",
   "execution_count": 28,
   "metadata": {},
   "outputs": [
    {
     "data": {
      "text/plain": [
       "(1038850, 6)"
      ]
     },
     "execution_count": 28,
     "metadata": {},
     "output_type": "execute_result"
    }
   ],
   "source": [
    "deduped_df.shape"
   ]
  },
  {
   "cell_type": "code",
   "execution_count": 29,
   "metadata": {},
   "outputs": [
    {
     "name": "stdout",
     "output_type": "stream",
     "text": [
      "% retweets in deduped data: 30.34\n"
     ]
    }
   ],
   "source": [
    "print(\"% retweets in deduped data: \" + \\\n",
    "      str(100*round(deduped_df[deduped_df['Retweet']==1].shape[0]/deduped_df.shape[0], 4)))"
   ]
  },
  {
   "cell_type": "code",
   "execution_count": 30,
   "metadata": {},
   "outputs": [
    {
     "data": {
      "text/html": [
       "<div>\n",
       "<style scoped>\n",
       "    .dataframe tbody tr th:only-of-type {\n",
       "        vertical-align: middle;\n",
       "    }\n",
       "\n",
       "    .dataframe tbody tr th {\n",
       "        vertical-align: top;\n",
       "    }\n",
       "\n",
       "    .dataframe thead th {\n",
       "        text-align: right;\n",
       "    }\n",
       "</style>\n",
       "<table border=\"1\" class=\"dataframe\">\n",
       "  <thead>\n",
       "    <tr style=\"text-align: right;\">\n",
       "      <th></th>\n",
       "      <th>ID</th>\n",
       "    </tr>\n",
       "    <tr>\n",
       "      <th>Polarity</th>\n",
       "      <th></th>\n",
       "    </tr>\n",
       "  </thead>\n",
       "  <tbody>\n",
       "    <tr>\n",
       "      <th>-1</th>\n",
       "      <td>707700</td>\n",
       "    </tr>\n",
       "    <tr>\n",
       "      <th>1</th>\n",
       "      <td>707700</td>\n",
       "    </tr>\n",
       "  </tbody>\n",
       "</table>\n",
       "</div>"
      ],
      "text/plain": [
       "              ID\n",
       "Polarity        \n",
       "-1        707700\n",
       " 1        707700"
      ]
     },
     "execution_count": 30,
     "metadata": {},
     "output_type": "execute_result"
    }
   ],
   "source": [
    "df[['ID','Polarity']].groupby('Polarity').count() # original polarity class balance"
   ]
  },
  {
   "cell_type": "code",
   "execution_count": 33,
   "metadata": {},
   "outputs": [
    {
     "data": {
      "text/html": [
       "<div>\n",
       "<style scoped>\n",
       "    .dataframe tbody tr th:only-of-type {\n",
       "        vertical-align: middle;\n",
       "    }\n",
       "\n",
       "    .dataframe tbody tr th {\n",
       "        vertical-align: top;\n",
       "    }\n",
       "\n",
       "    .dataframe thead th {\n",
       "        text-align: right;\n",
       "    }\n",
       "</style>\n",
       "<table border=\"1\" class=\"dataframe\">\n",
       "  <thead>\n",
       "    <tr style=\"text-align: right;\">\n",
       "      <th></th>\n",
       "      <th>ID</th>\n",
       "    </tr>\n",
       "    <tr>\n",
       "      <th>Polarity</th>\n",
       "      <th></th>\n",
       "    </tr>\n",
       "  </thead>\n",
       "  <tbody>\n",
       "    <tr>\n",
       "      <th>-1</th>\n",
       "      <td>488341</td>\n",
       "    </tr>\n",
       "    <tr>\n",
       "      <th>1</th>\n",
       "      <td>550509</td>\n",
       "    </tr>\n",
       "  </tbody>\n",
       "</table>\n",
       "</div>"
      ],
      "text/plain": [
       "              ID\n",
       "Polarity        \n",
       "-1        488341\n",
       " 1        550509"
      ]
     },
     "execution_count": 33,
     "metadata": {},
     "output_type": "execute_result"
    }
   ],
   "source": [
    "# polarity class balance after deduping\n",
    "polarity_df = deduped_df[['ID','Polarity']].groupby('Polarity').count()\n",
    "polarity_df"
   ]
  },
  {
   "cell_type": "code",
   "execution_count": 34,
   "metadata": {},
   "outputs": [
    {
     "name": "stdout",
     "output_type": "stream",
     "text": [
      "% diff in target (Polarity): 5.98\n"
     ]
    }
   ],
   "source": [
    "pct_diff = 100*round(abs(polarity_df['ID'][1] - polarity_df['ID'][-1]) / sum(polarity_df['ID']), 4)\n",
    "print(\"% diff in target (Polarity): \" + str(round(pct_diff, 4)))"
   ]
  },
  {
   "cell_type": "code",
   "execution_count": 35,
   "metadata": {},
   "outputs": [],
   "source": [
    "deduped_df.index = range(len(deduped_df.index))"
   ]
  },
  {
   "cell_type": "code",
   "execution_count": 36,
   "metadata": {},
   "outputs": [
    {
     "data": {
      "text/html": [
       "<div>\n",
       "<style scoped>\n",
       "    .dataframe tbody tr th:only-of-type {\n",
       "        vertical-align: middle;\n",
       "    }\n",
       "\n",
       "    .dataframe tbody tr th {\n",
       "        vertical-align: top;\n",
       "    }\n",
       "\n",
       "    .dataframe thead th {\n",
       "        text-align: right;\n",
       "    }\n",
       "</style>\n",
       "<table border=\"1\" class=\"dataframe\">\n",
       "  <thead>\n",
       "    <tr style=\"text-align: right;\">\n",
       "      <th></th>\n",
       "      <th>ID</th>\n",
       "      <th>Timestamp</th>\n",
       "      <th>User</th>\n",
       "      <th>Text</th>\n",
       "      <th>Polarity</th>\n",
       "      <th>Retweet</th>\n",
       "    </tr>\n",
       "  </thead>\n",
       "  <tbody>\n",
       "    <tr>\n",
       "      <th>0</th>\n",
       "      <td>1302406168791470081</td>\n",
       "      <td>2020-09-06 00:40:02</td>\n",
       "      <td>asarinanamis</td>\n",
       "      <td>RT @Ayshiun: Totally inspired by@/kianamaiart'...</td>\n",
       "      <td>-1</td>\n",
       "      <td>1</td>\n",
       "    </tr>\n",
       "    <tr>\n",
       "      <th>1</th>\n",
       "      <td>1302406168766078976</td>\n",
       "      <td>2020-09-06 00:40:02</td>\n",
       "      <td>xleave_thecity</td>\n",
       "      <td>@thiinkinaboutit thank you 🥺</td>\n",
       "      <td>-1</td>\n",
       "      <td>0</td>\n",
       "    </tr>\n",
       "    <tr>\n",
       "      <th>2</th>\n",
       "      <td>1302406168170696706</td>\n",
       "      <td>2020-09-06 00:40:02</td>\n",
       "      <td>MsTam_Tam</td>\n",
       "      <td>some of yall retweets really be having me look...</td>\n",
       "      <td>-1</td>\n",
       "      <td>0</td>\n",
       "    </tr>\n",
       "    <tr>\n",
       "      <th>3</th>\n",
       "      <td>1302406168120365056</td>\n",
       "      <td>2020-09-06 00:40:02</td>\n",
       "      <td>_thebdawkk</td>\n",
       "      <td>@jeenbeen__ Thank you Jen 🥺 just miss the old ...</td>\n",
       "      <td>-1</td>\n",
       "      <td>0</td>\n",
       "    </tr>\n",
       "    <tr>\n",
       "      <th>4</th>\n",
       "      <td>1302406167956602880</td>\n",
       "      <td>2020-09-06 00:40:02</td>\n",
       "      <td>4ranghae1015</td>\n",
       "      <td>@SJofficial My favorite part is the BAD boy, g...</td>\n",
       "      <td>-1</td>\n",
       "      <td>0</td>\n",
       "    </tr>\n",
       "  </tbody>\n",
       "</table>\n",
       "</div>"
      ],
      "text/plain": [
       "                    ID            Timestamp            User  \\\n",
       "0  1302406168791470081  2020-09-06 00:40:02    asarinanamis   \n",
       "1  1302406168766078976  2020-09-06 00:40:02  xleave_thecity   \n",
       "2  1302406168170696706  2020-09-06 00:40:02       MsTam_Tam   \n",
       "3  1302406168120365056  2020-09-06 00:40:02      _thebdawkk   \n",
       "4  1302406167956602880  2020-09-06 00:40:02    4ranghae1015   \n",
       "\n",
       "                                                Text  Polarity  Retweet  \n",
       "0  RT @Ayshiun: Totally inspired by@/kianamaiart'...        -1        1  \n",
       "1                       @thiinkinaboutit thank you 🥺        -1        0  \n",
       "2  some of yall retweets really be having me look...        -1        0  \n",
       "3  @jeenbeen__ Thank you Jen 🥺 just miss the old ...        -1        0  \n",
       "4  @SJofficial My favorite part is the BAD boy, g...        -1        0  "
      ]
     },
     "execution_count": 36,
     "metadata": {},
     "output_type": "execute_result"
    }
   ],
   "source": [
    "deduped_df.head()"
   ]
  },
  {
   "cell_type": "code",
   "execution_count": 37,
   "metadata": {},
   "outputs": [
    {
     "data": {
      "text/html": [
       "<div>\n",
       "<style scoped>\n",
       "    .dataframe tbody tr th:only-of-type {\n",
       "        vertical-align: middle;\n",
       "    }\n",
       "\n",
       "    .dataframe tbody tr th {\n",
       "        vertical-align: top;\n",
       "    }\n",
       "\n",
       "    .dataframe thead th {\n",
       "        text-align: right;\n",
       "    }\n",
       "</style>\n",
       "<table border=\"1\" class=\"dataframe\">\n",
       "  <thead>\n",
       "    <tr style=\"text-align: right;\">\n",
       "      <th></th>\n",
       "      <th>ID</th>\n",
       "      <th>Timestamp</th>\n",
       "      <th>User</th>\n",
       "      <th>Text</th>\n",
       "      <th>Polarity</th>\n",
       "      <th>Retweet</th>\n",
       "    </tr>\n",
       "  </thead>\n",
       "  <tbody>\n",
       "    <tr>\n",
       "      <th>1038845</th>\n",
       "      <td>1316053552976986112</td>\n",
       "      <td>2020-10-13 16:29:52</td>\n",
       "      <td>SayJoseReal</td>\n",
       "      <td>RT @amorhestia: toga it is 🥰✨ https://t.co/Sil...</td>\n",
       "      <td>1</td>\n",
       "      <td>1</td>\n",
       "    </tr>\n",
       "    <tr>\n",
       "      <th>1038846</th>\n",
       "      <td>1316053552956157952</td>\n",
       "      <td>2020-10-13 16:29:52</td>\n",
       "      <td>otleyshev68</td>\n",
       "      <td>@NYKChannel @elonmusk hey Elon don’t suppose p...</td>\n",
       "      <td>1</td>\n",
       "      <td>0</td>\n",
       "    </tr>\n",
       "    <tr>\n",
       "      <th>1038847</th>\n",
       "      <td>1316053552951816192</td>\n",
       "      <td>2020-10-13 16:29:52</td>\n",
       "      <td>Yenettirb</td>\n",
       "      <td>@camisavisionary Aye. I just screamed 😂</td>\n",
       "      <td>1</td>\n",
       "      <td>0</td>\n",
       "    </tr>\n",
       "    <tr>\n",
       "      <th>1038848</th>\n",
       "      <td>1316053552926687237</td>\n",
       "      <td>2020-10-13 16:29:52</td>\n",
       "      <td>JeremiahLambert</td>\n",
       "      <td>@German_Titans 😂😂😂😂😂😂😂😂😂😂😂😂😂😂😂😂😂😂😂😂😂😂😂😂 \\n\\nGi...</td>\n",
       "      <td>1</td>\n",
       "      <td>0</td>\n",
       "    </tr>\n",
       "    <tr>\n",
       "      <th>1038849</th>\n",
       "      <td>1316053552897368064</td>\n",
       "      <td>2020-10-13 16:29:52</td>\n",
       "      <td>elizabethvarao</td>\n",
       "      <td>@IamSisSisisMe @carlazuill Can't wait to follo...</td>\n",
       "      <td>1</td>\n",
       "      <td>0</td>\n",
       "    </tr>\n",
       "  </tbody>\n",
       "</table>\n",
       "</div>"
      ],
      "text/plain": [
       "                          ID            Timestamp             User  \\\n",
       "1038845  1316053552976986112  2020-10-13 16:29:52      SayJoseReal   \n",
       "1038846  1316053552956157952  2020-10-13 16:29:52      otleyshev68   \n",
       "1038847  1316053552951816192  2020-10-13 16:29:52        Yenettirb   \n",
       "1038848  1316053552926687237  2020-10-13 16:29:52  JeremiahLambert   \n",
       "1038849  1316053552897368064  2020-10-13 16:29:52   elizabethvarao   \n",
       "\n",
       "                                                      Text  Polarity  Retweet  \n",
       "1038845  RT @amorhestia: toga it is 🥰✨ https://t.co/Sil...         1        1  \n",
       "1038846  @NYKChannel @elonmusk hey Elon don’t suppose p...         1        0  \n",
       "1038847            @camisavisionary Aye. I just screamed 😂         1        0  \n",
       "1038848  @German_Titans 😂😂😂😂😂😂😂😂😂😂😂😂😂😂😂😂😂😂😂😂😂😂😂😂 \\n\\nGi...         1        0  \n",
       "1038849  @IamSisSisisMe @carlazuill Can't wait to follo...         1        0  "
      ]
     },
     "execution_count": 37,
     "metadata": {},
     "output_type": "execute_result"
    }
   ],
   "source": [
    "deduped_df.tail()"
   ]
  },
  {
   "cell_type": "markdown",
   "metadata": {},
   "source": [
    "---"
   ]
  }
 ],
 "metadata": {
  "kernelspec": {
   "display_name": "Python 3",
   "language": "python",
   "name": "python3"
  },
  "language_info": {
   "codemirror_mode": {
    "name": "ipython",
    "version": 3
   },
   "file_extension": ".py",
   "mimetype": "text/x-python",
   "name": "python",
   "nbconvert_exporter": "python",
   "pygments_lexer": "ipython3",
   "version": "3.7.3"
  }
 },
 "nbformat": 4,
 "nbformat_minor": 4
}
