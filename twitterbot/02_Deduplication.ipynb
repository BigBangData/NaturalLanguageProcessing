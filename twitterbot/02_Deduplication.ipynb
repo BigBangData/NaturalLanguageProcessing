{
 "cells": [
  {
   "cell_type": "markdown",
   "metadata": {},
   "source": [
    "# Cleanup Process\n",
    "\n",
    "There are two main schools of thought when it comes to cleaning data for machine learning projects:\n",
    "\n",
    "1. clean entire data, then split into train/test sets and proceeds with preprocessing for ML\n",
    "2. split raw data into train/test sets, setup a reusable cleaning pipeline\n",
    "\n",
    "The first method is easier for smaller projects that will not scale nor expect future data.\n",
    "\n",
    "The second is the standard process for an online solution, it scales to deployment in production with new data.\n",
    "\n",
    "Because of the large number of duplicated Tweets (mostly retweets) and because I'm not implementing an online solution, I'll prefer a hybric approach: remove duplicates prior to splitting into train/test sets, but save any further cleanup for the analytic pipeline.\n",
    "\n",
    "This notebook is not the implementation of this process, it is an exploration of the data so that this process. See `dedupe.py` for actual deduplication script which is run from the command line: ```python dedupe.py```.\n",
    "\n",
    "Here I am prematurely creating the variable \"Retweet\", which is essentially feature enginering (a step down the pipeline), so that I can compare the percentage of retweets in both duplicated Tweets and deduplicated Tweets, gain insight into the amount of duplication and tune the Tweet ingestion schedule. Too many Tweets on a single day isn't worth the small gains in non-duplicated Tweets. I've got ingestion tuned to 25% duplication at 50k Tweets a day so I'm ingesting ~37,500 unique Tweets daily."
   ]
  },
  {
   "cell_type": "code",
   "execution_count": 1,
   "metadata": {},
   "outputs": [],
   "source": [
    "import os\n",
    "import re\n",
    "import time\n",
    "import pandas as pd"
   ]
  },
  {
   "cell_type": "code",
   "execution_count": 2,
   "metadata": {},
   "outputs": [],
   "source": [
    "def load_todays_data():\n",
    "    filepath = os.path.join(\"..\",\"data\",\"1_raw\",\"tweets\")\n",
    "    today_prefix = datetime.datetime.now().strftime(\"%Y%m%d\")\n",
    "    dfm = []\n",
    "    for f in os.listdir(filepath):\n",
    "        if re.match(today_prefix, f):\n",
    "            dfm.append(pd.read_csv(os.path.join(filepath, f)))\n",
    "    df = pd.concat(dfm)\n",
    "    df = df.reset_index(drop=True)\n",
    "    return df"
   ]
  },
  {
   "cell_type": "code",
   "execution_count": 3,
   "metadata": {},
   "outputs": [],
   "source": [
    "def load_all_data():\n",
    "    filepath = os.path.join(\"..\",\"data\",\"1_raw\",\"tweets\")\n",
    "    dfm = []\n",
    "    for f in os.listdir(filepath):\n",
    "        dfm.append(pd.read_csv(os.path.join(filepath, f)))\n",
    "    df = pd.concat(dfm)\n",
    "    df = df.reset_index(drop=True)\n",
    "    return df"
   ]
  },
  {
   "cell_type": "code",
   "execution_count": 4,
   "metadata": {},
   "outputs": [
    {
     "data": {
      "text/plain": [
       "(975400, 5)"
      ]
     },
     "execution_count": 4,
     "metadata": {},
     "output_type": "execute_result"
    }
   ],
   "source": [
    "df = load_all_data()\n",
    "df.shape"
   ]
  },
  {
   "cell_type": "code",
   "execution_count": 5,
   "metadata": {},
   "outputs": [
    {
     "data": {
      "text/html": [
       "<div>\n",
       "<style scoped>\n",
       "    .dataframe tbody tr th:only-of-type {\n",
       "        vertical-align: middle;\n",
       "    }\n",
       "\n",
       "    .dataframe tbody tr th {\n",
       "        vertical-align: top;\n",
       "    }\n",
       "\n",
       "    .dataframe thead th {\n",
       "        text-align: right;\n",
       "    }\n",
       "</style>\n",
       "<table border=\"1\" class=\"dataframe\">\n",
       "  <thead>\n",
       "    <tr style=\"text-align: right;\">\n",
       "      <th></th>\n",
       "      <th>ID</th>\n",
       "    </tr>\n",
       "    <tr>\n",
       "      <th>User</th>\n",
       "      <th></th>\n",
       "    </tr>\n",
       "  </thead>\n",
       "  <tbody>\n",
       "    <tr>\n",
       "      <th>pinkyfaye</th>\n",
       "      <td>57</td>\n",
       "    </tr>\n",
       "    <tr>\n",
       "      <th>GetVidBot</th>\n",
       "      <td>52</td>\n",
       "    </tr>\n",
       "    <tr>\n",
       "      <th>KenanWaters</th>\n",
       "      <td>43</td>\n",
       "    </tr>\n",
       "    <tr>\n",
       "      <th>vmindarling</th>\n",
       "      <td>37</td>\n",
       "    </tr>\n",
       "    <tr>\n",
       "      <th>DeadPoolzNutz</th>\n",
       "      <td>35</td>\n",
       "    </tr>\n",
       "  </tbody>\n",
       "</table>\n",
       "</div>"
      ],
      "text/plain": [
       "               ID\n",
       "User             \n",
       "pinkyfaye      57\n",
       "GetVidBot      52\n",
       "KenanWaters    43\n",
       "vmindarling    37\n",
       "DeadPoolzNutz  35"
      ]
     },
     "execution_count": 5,
     "metadata": {},
     "output_type": "execute_result"
    }
   ],
   "source": [
    "# quick glance at top users with multiple tweets\n",
    "grouped = df[['User', 'ID']].groupby('User').count().sort_values('ID', ascending=False)\n",
    "grouped[grouped['ID']>1].head()"
   ]
  },
  {
   "cell_type": "markdown",
   "metadata": {},
   "source": [
    "### Retweet Column\n",
    "\n",
    "Issue: not present in sentiment140 data - do not use for comparing classifiers between projects and tracking data drift.\n",
    "\n",
    "Note: this is a feature engineering step that is only present here for early analysis not as a cleanup step."
   ]
  },
  {
   "cell_type": "code",
   "execution_count": 6,
   "metadata": {},
   "outputs": [],
   "source": [
    "def is_retweet(col):\n",
    "\n",
    "    for i in range(len(col)):\n",
    "        if re.match(r'^RT', col) is not None:\n",
    "            return 1\n",
    "        else:\n",
    "            return 0      \n",
    "        \n",
    "def map_is_retweet(col):\n",
    "   \n",
    "    bool_map = map(lambda x: is_retweet(x), col)      \n",
    "    return(list(bool_map)) "
   ]
  },
  {
   "cell_type": "code",
   "execution_count": 7,
   "metadata": {},
   "outputs": [],
   "source": [
    "df['Retweet'] = map_is_retweet(df['Text'].values)"
   ]
  },
  {
   "cell_type": "code",
   "execution_count": 8,
   "metadata": {},
   "outputs": [
    {
     "data": {
      "text/html": [
       "<div>\n",
       "<style scoped>\n",
       "    .dataframe tbody tr th:only-of-type {\n",
       "        vertical-align: middle;\n",
       "    }\n",
       "\n",
       "    .dataframe tbody tr th {\n",
       "        vertical-align: top;\n",
       "    }\n",
       "\n",
       "    .dataframe thead th {\n",
       "        text-align: right;\n",
       "    }\n",
       "</style>\n",
       "<table border=\"1\" class=\"dataframe\">\n",
       "  <thead>\n",
       "    <tr style=\"text-align: right;\">\n",
       "      <th></th>\n",
       "      <th>ID</th>\n",
       "      <th>Timestamp</th>\n",
       "      <th>User</th>\n",
       "      <th>Text</th>\n",
       "      <th>Polarity</th>\n",
       "      <th>Retweet</th>\n",
       "    </tr>\n",
       "  </thead>\n",
       "  <tbody>\n",
       "    <tr>\n",
       "      <th>0</th>\n",
       "      <td>1302406168791470081</td>\n",
       "      <td>2020-09-06 00:40:02</td>\n",
       "      <td>asarinanamis</td>\n",
       "      <td>RT @Ayshiun: Totally inspired by@/kianamaiart'...</td>\n",
       "      <td>-1</td>\n",
       "      <td>1</td>\n",
       "    </tr>\n",
       "    <tr>\n",
       "      <th>1</th>\n",
       "      <td>1302406168766078976</td>\n",
       "      <td>2020-09-06 00:40:02</td>\n",
       "      <td>xleave_thecity</td>\n",
       "      <td>@thiinkinaboutit thank you 🥺</td>\n",
       "      <td>-1</td>\n",
       "      <td>0</td>\n",
       "    </tr>\n",
       "    <tr>\n",
       "      <th>2</th>\n",
       "      <td>1302406168170696706</td>\n",
       "      <td>2020-09-06 00:40:02</td>\n",
       "      <td>MsTam_Tam</td>\n",
       "      <td>some of yall retweets really be having me look...</td>\n",
       "      <td>-1</td>\n",
       "      <td>0</td>\n",
       "    </tr>\n",
       "    <tr>\n",
       "      <th>3</th>\n",
       "      <td>1302406168120365056</td>\n",
       "      <td>2020-09-06 00:40:02</td>\n",
       "      <td>_thebdawkk</td>\n",
       "      <td>@jeenbeen__ Thank you Jen 🥺 just miss the old ...</td>\n",
       "      <td>-1</td>\n",
       "      <td>0</td>\n",
       "    </tr>\n",
       "    <tr>\n",
       "      <th>4</th>\n",
       "      <td>1302406167956602880</td>\n",
       "      <td>2020-09-06 00:40:02</td>\n",
       "      <td>4ranghae1015</td>\n",
       "      <td>@SJofficial My favorite part is the BAD boy, g...</td>\n",
       "      <td>-1</td>\n",
       "      <td>0</td>\n",
       "    </tr>\n",
       "  </tbody>\n",
       "</table>\n",
       "</div>"
      ],
      "text/plain": [
       "                    ID            Timestamp            User  \\\n",
       "0  1302406168791470081  2020-09-06 00:40:02    asarinanamis   \n",
       "1  1302406168766078976  2020-09-06 00:40:02  xleave_thecity   \n",
       "2  1302406168170696706  2020-09-06 00:40:02       MsTam_Tam   \n",
       "3  1302406168120365056  2020-09-06 00:40:02      _thebdawkk   \n",
       "4  1302406167956602880  2020-09-06 00:40:02    4ranghae1015   \n",
       "\n",
       "                                                Text  Polarity  Retweet  \n",
       "0  RT @Ayshiun: Totally inspired by@/kianamaiart'...        -1        1  \n",
       "1                       @thiinkinaboutit thank you 🥺        -1        0  \n",
       "2  some of yall retweets really be having me look...        -1        0  \n",
       "3  @jeenbeen__ Thank you Jen 🥺 just miss the old ...        -1        0  \n",
       "4  @SJofficial My favorite part is the BAD boy, g...        -1        0  "
      ]
     },
     "execution_count": 8,
     "metadata": {},
     "output_type": "execute_result"
    }
   ],
   "source": [
    "df.head()"
   ]
  },
  {
   "cell_type": "code",
   "execution_count": 9,
   "metadata": {},
   "outputs": [
    {
     "data": {
      "text/html": [
       "<div>\n",
       "<style scoped>\n",
       "    .dataframe tbody tr th:only-of-type {\n",
       "        vertical-align: middle;\n",
       "    }\n",
       "\n",
       "    .dataframe tbody tr th {\n",
       "        vertical-align: top;\n",
       "    }\n",
       "\n",
       "    .dataframe thead th {\n",
       "        text-align: right;\n",
       "    }\n",
       "</style>\n",
       "<table border=\"1\" class=\"dataframe\">\n",
       "  <thead>\n",
       "    <tr style=\"text-align: right;\">\n",
       "      <th></th>\n",
       "      <th>ID</th>\n",
       "      <th>Timestamp</th>\n",
       "      <th>User</th>\n",
       "      <th>Text</th>\n",
       "      <th>Polarity</th>\n",
       "      <th>Retweet</th>\n",
       "    </tr>\n",
       "  </thead>\n",
       "  <tbody>\n",
       "    <tr>\n",
       "      <th>975395</th>\n",
       "      <td>1312909692356575232</td>\n",
       "      <td>2020-10-05 00:17:17</td>\n",
       "      <td>min9yufluffy</td>\n",
       "      <td>RT @wonubliss: jeonghan's gift to seungcheol:\\...</td>\n",
       "      <td>1</td>\n",
       "      <td>1</td>\n",
       "    </tr>\n",
       "    <tr>\n",
       "      <th>975396</th>\n",
       "      <td>1312909692285472768</td>\n",
       "      <td>2020-10-05 00:17:17</td>\n",
       "      <td>shawny_strolls</td>\n",
       "      <td>@acciopage394 So like when I’m at work and try...</td>\n",
       "      <td>1</td>\n",
       "      <td>0</td>\n",
       "    </tr>\n",
       "    <tr>\n",
       "      <th>975397</th>\n",
       "      <td>1312909692268687360</td>\n",
       "      <td>2020-10-05 00:17:17</td>\n",
       "      <td>melanin_sugar</td>\n",
       "      <td>@yadastarot Maria 🥰 thanx</td>\n",
       "      <td>1</td>\n",
       "      <td>0</td>\n",
       "    </tr>\n",
       "    <tr>\n",
       "      <th>975398</th>\n",
       "      <td>1312909692268548097</td>\n",
       "      <td>2020-10-05 00:17:17</td>\n",
       "      <td>atomicoffin</td>\n",
       "      <td>@pamelarenfree i’ve been having crazy back pai...</td>\n",
       "      <td>1</td>\n",
       "      <td>0</td>\n",
       "    </tr>\n",
       "    <tr>\n",
       "      <th>975399</th>\n",
       "      <td>1312909692226555904</td>\n",
       "      <td>2020-10-05 00:17:17</td>\n",
       "      <td>Dory24960234</td>\n",
       "      <td>Bless morning♥️thankyou Lord 🥰♥️</td>\n",
       "      <td>1</td>\n",
       "      <td>0</td>\n",
       "    </tr>\n",
       "  </tbody>\n",
       "</table>\n",
       "</div>"
      ],
      "text/plain": [
       "                         ID            Timestamp            User  \\\n",
       "975395  1312909692356575232  2020-10-05 00:17:17    min9yufluffy   \n",
       "975396  1312909692285472768  2020-10-05 00:17:17  shawny_strolls   \n",
       "975397  1312909692268687360  2020-10-05 00:17:17   melanin_sugar   \n",
       "975398  1312909692268548097  2020-10-05 00:17:17     atomicoffin   \n",
       "975399  1312909692226555904  2020-10-05 00:17:17    Dory24960234   \n",
       "\n",
       "                                                     Text  Polarity  Retweet  \n",
       "975395  RT @wonubliss: jeonghan's gift to seungcheol:\\...         1        1  \n",
       "975396  @acciopage394 So like when I’m at work and try...         1        0  \n",
       "975397                          @yadastarot Maria 🥰 thanx         1        0  \n",
       "975398  @pamelarenfree i’ve been having crazy back pai...         1        0  \n",
       "975399                   Bless morning♥️thankyou Lord 🥰♥️         1        0  "
      ]
     },
     "execution_count": 9,
     "metadata": {},
     "output_type": "execute_result"
    }
   ],
   "source": [
    "df.tail()"
   ]
  },
  {
   "cell_type": "markdown",
   "metadata": {},
   "source": [
    "## POC for Deduplicating on Text"
   ]
  },
  {
   "cell_type": "code",
   "execution_count": 10,
   "metadata": {},
   "outputs": [
    {
     "data": {
      "text/html": [
       "<div>\n",
       "<style scoped>\n",
       "    .dataframe tbody tr th:only-of-type {\n",
       "        vertical-align: middle;\n",
       "    }\n",
       "\n",
       "    .dataframe tbody tr th {\n",
       "        vertical-align: top;\n",
       "    }\n",
       "\n",
       "    .dataframe thead th {\n",
       "        text-align: right;\n",
       "    }\n",
       "</style>\n",
       "<table border=\"1\" class=\"dataframe\">\n",
       "  <thead>\n",
       "    <tr style=\"text-align: right;\">\n",
       "      <th></th>\n",
       "      <th>Text</th>\n",
       "      <th>ID</th>\n",
       "      <th>Retweet</th>\n",
       "    </tr>\n",
       "  </thead>\n",
       "  <tbody>\n",
       "    <tr>\n",
       "      <th>0</th>\n",
       "      <td>apple</td>\n",
       "      <td>234309</td>\n",
       "      <td>0</td>\n",
       "    </tr>\n",
       "    <tr>\n",
       "      <th>1</th>\n",
       "      <td>orange</td>\n",
       "      <td>349102</td>\n",
       "      <td>0</td>\n",
       "    </tr>\n",
       "    <tr>\n",
       "      <th>2</th>\n",
       "      <td>banana</td>\n",
       "      <td>930443</td>\n",
       "      <td>0</td>\n",
       "    </tr>\n",
       "    <tr>\n",
       "      <th>3</th>\n",
       "      <td>apple</td>\n",
       "      <td>898344</td>\n",
       "      <td>1</td>\n",
       "    </tr>\n",
       "    <tr>\n",
       "      <th>4</th>\n",
       "      <td>banana</td>\n",
       "      <td>229945</td>\n",
       "      <td>1</td>\n",
       "    </tr>\n",
       "    <tr>\n",
       "      <th>5</th>\n",
       "      <td>banana</td>\n",
       "      <td>690346</td>\n",
       "      <td>0</td>\n",
       "    </tr>\n",
       "    <tr>\n",
       "      <th>6</th>\n",
       "      <td>mango</td>\n",
       "      <td>893427</td>\n",
       "      <td>1</td>\n",
       "    </tr>\n",
       "  </tbody>\n",
       "</table>\n",
       "</div>"
      ],
      "text/plain": [
       "     Text      ID  Retweet\n",
       "0   apple  234309        0\n",
       "1  orange  349102        0\n",
       "2  banana  930443        0\n",
       "3   apple  898344        1\n",
       "4  banana  229945        1\n",
       "5  banana  690346        0\n",
       "6   mango  893427        1"
      ]
     },
     "execution_count": 10,
     "metadata": {},
     "output_type": "execute_result"
    }
   ],
   "source": [
    "data = {'Text': ['apple','orange','banana','apple','banana','banana','mango']\n",
    "       , 'ID': [234309, 349102, 930443, 898344, 229945, 690346, 893427]\n",
    "       , 'Retweet': [0, 0, 0, 1, 1, 0, 1]}\n",
    "test = pd.DataFrame(data, columns = ['Text','ID','Retweet'])\n",
    "test"
   ]
  },
  {
   "cell_type": "code",
   "execution_count": 11,
   "metadata": {},
   "outputs": [
    {
     "data": {
      "text/html": [
       "<div>\n",
       "<style scoped>\n",
       "    .dataframe tbody tr th:only-of-type {\n",
       "        vertical-align: middle;\n",
       "    }\n",
       "\n",
       "    .dataframe tbody tr th {\n",
       "        vertical-align: top;\n",
       "    }\n",
       "\n",
       "    .dataframe thead th {\n",
       "        text-align: right;\n",
       "    }\n",
       "</style>\n",
       "<table border=\"1\" class=\"dataframe\">\n",
       "  <thead>\n",
       "    <tr style=\"text-align: right;\">\n",
       "      <th></th>\n",
       "      <th>Text</th>\n",
       "      <th>ID</th>\n",
       "      <th>Retweet</th>\n",
       "    </tr>\n",
       "  </thead>\n",
       "  <tbody>\n",
       "    <tr>\n",
       "      <th>3</th>\n",
       "      <td>apple</td>\n",
       "      <td>898344</td>\n",
       "      <td>1</td>\n",
       "    </tr>\n",
       "    <tr>\n",
       "      <th>4</th>\n",
       "      <td>banana</td>\n",
       "      <td>229945</td>\n",
       "      <td>1</td>\n",
       "    </tr>\n",
       "    <tr>\n",
       "      <th>5</th>\n",
       "      <td>banana</td>\n",
       "      <td>690346</td>\n",
       "      <td>0</td>\n",
       "    </tr>\n",
       "  </tbody>\n",
       "</table>\n",
       "</div>"
      ],
      "text/plain": [
       "     Text      ID  Retweet\n",
       "3   apple  898344        1\n",
       "4  banana  229945        1\n",
       "5  banana  690346        0"
      ]
     },
     "execution_count": 11,
     "metadata": {},
     "output_type": "execute_result"
    }
   ],
   "source": [
    "dupes = test[test['Text'].duplicated(keep='first')]\n",
    "dupes"
   ]
  },
  {
   "cell_type": "code",
   "execution_count": 12,
   "metadata": {},
   "outputs": [
    {
     "data": {
      "text/plain": [
       "0.42857142857142855"
      ]
     },
     "execution_count": 12,
     "metadata": {},
     "output_type": "execute_result"
    }
   ],
   "source": [
    "dupes.shape[0]/test.shape[0] # % dupes"
   ]
  },
  {
   "cell_type": "code",
   "execution_count": 13,
   "metadata": {},
   "outputs": [
    {
     "data": {
      "text/plain": [
       "0.6666666666666666"
      ]
     },
     "execution_count": 13,
     "metadata": {},
     "output_type": "execute_result"
    }
   ],
   "source": [
    "dupes[dupes['Retweet']==1].shape[0]/dupes.shape[0] # % retweets in dupes"
   ]
  },
  {
   "cell_type": "code",
   "execution_count": 14,
   "metadata": {},
   "outputs": [
    {
     "data": {
      "text/plain": [
       "3    898344\n",
       "4    229945\n",
       "5    690346\n",
       "Name: ID, dtype: int64"
      ]
     },
     "execution_count": 14,
     "metadata": {},
     "output_type": "execute_result"
    }
   ],
   "source": [
    "dupes['ID'] # dup ids, remove from test"
   ]
  },
  {
   "cell_type": "code",
   "execution_count": 15,
   "metadata": {},
   "outputs": [
    {
     "data": {
      "text/html": [
       "<div>\n",
       "<style scoped>\n",
       "    .dataframe tbody tr th:only-of-type {\n",
       "        vertical-align: middle;\n",
       "    }\n",
       "\n",
       "    .dataframe tbody tr th {\n",
       "        vertical-align: top;\n",
       "    }\n",
       "\n",
       "    .dataframe thead th {\n",
       "        text-align: right;\n",
       "    }\n",
       "</style>\n",
       "<table border=\"1\" class=\"dataframe\">\n",
       "  <thead>\n",
       "    <tr style=\"text-align: right;\">\n",
       "      <th></th>\n",
       "      <th>Text</th>\n",
       "      <th>ID</th>\n",
       "      <th>Retweet</th>\n",
       "    </tr>\n",
       "  </thead>\n",
       "  <tbody>\n",
       "    <tr>\n",
       "      <th>0</th>\n",
       "      <td>apple</td>\n",
       "      <td>234309</td>\n",
       "      <td>0</td>\n",
       "    </tr>\n",
       "    <tr>\n",
       "      <th>1</th>\n",
       "      <td>orange</td>\n",
       "      <td>349102</td>\n",
       "      <td>0</td>\n",
       "    </tr>\n",
       "    <tr>\n",
       "      <th>2</th>\n",
       "      <td>banana</td>\n",
       "      <td>930443</td>\n",
       "      <td>0</td>\n",
       "    </tr>\n",
       "    <tr>\n",
       "      <th>6</th>\n",
       "      <td>mango</td>\n",
       "      <td>893427</td>\n",
       "      <td>1</td>\n",
       "    </tr>\n",
       "  </tbody>\n",
       "</table>\n",
       "</div>"
      ],
      "text/plain": [
       "     Text      ID  Retweet\n",
       "0   apple  234309        0\n",
       "1  orange  349102        0\n",
       "2  banana  930443        0\n",
       "6   mango  893427        1"
      ]
     },
     "execution_count": 15,
     "metadata": {},
     "output_type": "execute_result"
    }
   ],
   "source": [
    "deduped_test = test[~test.ID.isin(dupes['ID'])]\n",
    "deduped_test"
   ]
  },
  {
   "cell_type": "code",
   "execution_count": 16,
   "metadata": {},
   "outputs": [
    {
     "data": {
      "text/plain": [
       "0.25"
      ]
     },
     "execution_count": 16,
     "metadata": {},
     "output_type": "execute_result"
    }
   ],
   "source": [
    "deduped_test[deduped_test['Retweet']==1].shape[0]/deduped_test.shape[0] # % retweets in deduped data "
   ]
  },
  {
   "cell_type": "markdown",
   "metadata": {},
   "source": [
    "Then check for polarity and class balance.\n",
    "\n",
    "## Deduplicating Data"
   ]
  },
  {
   "cell_type": "code",
   "execution_count": 17,
   "metadata": {},
   "outputs": [],
   "source": [
    "dupes = df[df['Text'].duplicated(keep='first')]"
   ]
  },
  {
   "cell_type": "code",
   "execution_count": 22,
   "metadata": {},
   "outputs": [
    {
     "name": "stdout",
     "output_type": "stream",
     "text": [
      "% dupes: 25.28\n"
     ]
    }
   ],
   "source": [
    "print(\"% dupes: \" + str(100*round(dupes.shape[0]/df.shape[0], 4)))"
   ]
  },
  {
   "cell_type": "code",
   "execution_count": 23,
   "metadata": {},
   "outputs": [
    {
     "name": "stdout",
     "output_type": "stream",
     "text": [
      "% retweets in dupes: 99.81\n"
     ]
    }
   ],
   "source": [
    "print(\"% retweets in dupes: \" + str(100*round(dupes[dupes['Retweet']==1].shape[0]/dupes.shape[0], 4))) "
   ]
  },
  {
   "cell_type": "code",
   "execution_count": 24,
   "metadata": {},
   "outputs": [],
   "source": [
    "deduped_df = df[~df.ID.isin(dupes['ID'])]"
   ]
  },
  {
   "cell_type": "code",
   "execution_count": 25,
   "metadata": {},
   "outputs": [
    {
     "data": {
      "text/plain": [
       "(728838, 6)"
      ]
     },
     "execution_count": 25,
     "metadata": {},
     "output_type": "execute_result"
    }
   ],
   "source": [
    "deduped_df.shape"
   ]
  },
  {
   "cell_type": "code",
   "execution_count": 26,
   "metadata": {},
   "outputs": [
    {
     "name": "stdout",
     "output_type": "stream",
     "text": [
      "% retweets in deduped data: 30.5\n"
     ]
    }
   ],
   "source": [
    "print(\"% retweets in deduped data: \" + \\\n",
    "      str(100*round(deduped_df[deduped_df['Retweet']==1].shape[0]/deduped_df.shape[0], 4)))"
   ]
  },
  {
   "cell_type": "code",
   "execution_count": 28,
   "metadata": {},
   "outputs": [
    {
     "data": {
      "text/html": [
       "<div>\n",
       "<style scoped>\n",
       "    .dataframe tbody tr th:only-of-type {\n",
       "        vertical-align: middle;\n",
       "    }\n",
       "\n",
       "    .dataframe tbody tr th {\n",
       "        vertical-align: top;\n",
       "    }\n",
       "\n",
       "    .dataframe thead th {\n",
       "        text-align: right;\n",
       "    }\n",
       "</style>\n",
       "<table border=\"1\" class=\"dataframe\">\n",
       "  <thead>\n",
       "    <tr style=\"text-align: right;\">\n",
       "      <th></th>\n",
       "      <th>ID</th>\n",
       "    </tr>\n",
       "    <tr>\n",
       "      <th>Polarity</th>\n",
       "      <th></th>\n",
       "    </tr>\n",
       "  </thead>\n",
       "  <tbody>\n",
       "    <tr>\n",
       "      <th>-1</th>\n",
       "      <td>487700</td>\n",
       "    </tr>\n",
       "    <tr>\n",
       "      <th>1</th>\n",
       "      <td>487700</td>\n",
       "    </tr>\n",
       "  </tbody>\n",
       "</table>\n",
       "</div>"
      ],
      "text/plain": [
       "              ID\n",
       "Polarity        \n",
       "-1        487700\n",
       " 1        487700"
      ]
     },
     "execution_count": 28,
     "metadata": {},
     "output_type": "execute_result"
    }
   ],
   "source": [
    "df[['ID','Polarity']].groupby('Polarity').count() # original polarity class balance"
   ]
  },
  {
   "cell_type": "code",
   "execution_count": 42,
   "metadata": {},
   "outputs": [
    {
     "name": "stdout",
     "output_type": "stream",
     "text": [
      "% diff in target (Polarity): 5.82\n"
     ]
    }
   ],
   "source": [
    "polarity_df = deduped_df[['ID','Polarity']].groupby('Polarity').count() # polarity class balance after deduping\n",
    "pct_diff = 100*round(abs(polarity_df['ID'][1] - polarity_df['ID'][-1]) / sum(polarity_df['ID']), 4)\n",
    "print(\"% diff in target (Polarity): \" + str(pct_diff))"
   ]
  },
  {
   "cell_type": "code",
   "execution_count": 30,
   "metadata": {},
   "outputs": [],
   "source": [
    "deduped_df.index = range(len(deduped_df.index))"
   ]
  },
  {
   "cell_type": "code",
   "execution_count": 31,
   "metadata": {},
   "outputs": [
    {
     "data": {
      "text/html": [
       "<div>\n",
       "<style scoped>\n",
       "    .dataframe tbody tr th:only-of-type {\n",
       "        vertical-align: middle;\n",
       "    }\n",
       "\n",
       "    .dataframe tbody tr th {\n",
       "        vertical-align: top;\n",
       "    }\n",
       "\n",
       "    .dataframe thead th {\n",
       "        text-align: right;\n",
       "    }\n",
       "</style>\n",
       "<table border=\"1\" class=\"dataframe\">\n",
       "  <thead>\n",
       "    <tr style=\"text-align: right;\">\n",
       "      <th></th>\n",
       "      <th>ID</th>\n",
       "      <th>Timestamp</th>\n",
       "      <th>User</th>\n",
       "      <th>Text</th>\n",
       "      <th>Polarity</th>\n",
       "      <th>Retweet</th>\n",
       "    </tr>\n",
       "  </thead>\n",
       "  <tbody>\n",
       "    <tr>\n",
       "      <th>0</th>\n",
       "      <td>1302406168791470081</td>\n",
       "      <td>2020-09-06 00:40:02</td>\n",
       "      <td>asarinanamis</td>\n",
       "      <td>RT @Ayshiun: Totally inspired by@/kianamaiart'...</td>\n",
       "      <td>-1</td>\n",
       "      <td>1</td>\n",
       "    </tr>\n",
       "    <tr>\n",
       "      <th>1</th>\n",
       "      <td>1302406168766078976</td>\n",
       "      <td>2020-09-06 00:40:02</td>\n",
       "      <td>xleave_thecity</td>\n",
       "      <td>@thiinkinaboutit thank you 🥺</td>\n",
       "      <td>-1</td>\n",
       "      <td>0</td>\n",
       "    </tr>\n",
       "    <tr>\n",
       "      <th>2</th>\n",
       "      <td>1302406168170696706</td>\n",
       "      <td>2020-09-06 00:40:02</td>\n",
       "      <td>MsTam_Tam</td>\n",
       "      <td>some of yall retweets really be having me look...</td>\n",
       "      <td>-1</td>\n",
       "      <td>0</td>\n",
       "    </tr>\n",
       "    <tr>\n",
       "      <th>3</th>\n",
       "      <td>1302406168120365056</td>\n",
       "      <td>2020-09-06 00:40:02</td>\n",
       "      <td>_thebdawkk</td>\n",
       "      <td>@jeenbeen__ Thank you Jen 🥺 just miss the old ...</td>\n",
       "      <td>-1</td>\n",
       "      <td>0</td>\n",
       "    </tr>\n",
       "    <tr>\n",
       "      <th>4</th>\n",
       "      <td>1302406167956602880</td>\n",
       "      <td>2020-09-06 00:40:02</td>\n",
       "      <td>4ranghae1015</td>\n",
       "      <td>@SJofficial My favorite part is the BAD boy, g...</td>\n",
       "      <td>-1</td>\n",
       "      <td>0</td>\n",
       "    </tr>\n",
       "  </tbody>\n",
       "</table>\n",
       "</div>"
      ],
      "text/plain": [
       "                    ID            Timestamp            User  \\\n",
       "0  1302406168791470081  2020-09-06 00:40:02    asarinanamis   \n",
       "1  1302406168766078976  2020-09-06 00:40:02  xleave_thecity   \n",
       "2  1302406168170696706  2020-09-06 00:40:02       MsTam_Tam   \n",
       "3  1302406168120365056  2020-09-06 00:40:02      _thebdawkk   \n",
       "4  1302406167956602880  2020-09-06 00:40:02    4ranghae1015   \n",
       "\n",
       "                                                Text  Polarity  Retweet  \n",
       "0  RT @Ayshiun: Totally inspired by@/kianamaiart'...        -1        1  \n",
       "1                       @thiinkinaboutit thank you 🥺        -1        0  \n",
       "2  some of yall retweets really be having me look...        -1        0  \n",
       "3  @jeenbeen__ Thank you Jen 🥺 just miss the old ...        -1        0  \n",
       "4  @SJofficial My favorite part is the BAD boy, g...        -1        0  "
      ]
     },
     "execution_count": 31,
     "metadata": {},
     "output_type": "execute_result"
    }
   ],
   "source": [
    "deduped_df.head()"
   ]
  },
  {
   "cell_type": "code",
   "execution_count": 32,
   "metadata": {},
   "outputs": [
    {
     "data": {
      "text/html": [
       "<div>\n",
       "<style scoped>\n",
       "    .dataframe tbody tr th:only-of-type {\n",
       "        vertical-align: middle;\n",
       "    }\n",
       "\n",
       "    .dataframe tbody tr th {\n",
       "        vertical-align: top;\n",
       "    }\n",
       "\n",
       "    .dataframe thead th {\n",
       "        text-align: right;\n",
       "    }\n",
       "</style>\n",
       "<table border=\"1\" class=\"dataframe\">\n",
       "  <thead>\n",
       "    <tr style=\"text-align: right;\">\n",
       "      <th></th>\n",
       "      <th>ID</th>\n",
       "      <th>Timestamp</th>\n",
       "      <th>User</th>\n",
       "      <th>Text</th>\n",
       "      <th>Polarity</th>\n",
       "      <th>Retweet</th>\n",
       "    </tr>\n",
       "  </thead>\n",
       "  <tbody>\n",
       "    <tr>\n",
       "      <th>728833</th>\n",
       "      <td>1312909692356575232</td>\n",
       "      <td>2020-10-05 00:17:17</td>\n",
       "      <td>min9yufluffy</td>\n",
       "      <td>RT @wonubliss: jeonghan's gift to seungcheol:\\...</td>\n",
       "      <td>1</td>\n",
       "      <td>1</td>\n",
       "    </tr>\n",
       "    <tr>\n",
       "      <th>728834</th>\n",
       "      <td>1312909692285472768</td>\n",
       "      <td>2020-10-05 00:17:17</td>\n",
       "      <td>shawny_strolls</td>\n",
       "      <td>@acciopage394 So like when I’m at work and try...</td>\n",
       "      <td>1</td>\n",
       "      <td>0</td>\n",
       "    </tr>\n",
       "    <tr>\n",
       "      <th>728835</th>\n",
       "      <td>1312909692268687360</td>\n",
       "      <td>2020-10-05 00:17:17</td>\n",
       "      <td>melanin_sugar</td>\n",
       "      <td>@yadastarot Maria 🥰 thanx</td>\n",
       "      <td>1</td>\n",
       "      <td>0</td>\n",
       "    </tr>\n",
       "    <tr>\n",
       "      <th>728836</th>\n",
       "      <td>1312909692268548097</td>\n",
       "      <td>2020-10-05 00:17:17</td>\n",
       "      <td>atomicoffin</td>\n",
       "      <td>@pamelarenfree i’ve been having crazy back pai...</td>\n",
       "      <td>1</td>\n",
       "      <td>0</td>\n",
       "    </tr>\n",
       "    <tr>\n",
       "      <th>728837</th>\n",
       "      <td>1312909692226555904</td>\n",
       "      <td>2020-10-05 00:17:17</td>\n",
       "      <td>Dory24960234</td>\n",
       "      <td>Bless morning♥️thankyou Lord 🥰♥️</td>\n",
       "      <td>1</td>\n",
       "      <td>0</td>\n",
       "    </tr>\n",
       "  </tbody>\n",
       "</table>\n",
       "</div>"
      ],
      "text/plain": [
       "                         ID            Timestamp            User  \\\n",
       "728833  1312909692356575232  2020-10-05 00:17:17    min9yufluffy   \n",
       "728834  1312909692285472768  2020-10-05 00:17:17  shawny_strolls   \n",
       "728835  1312909692268687360  2020-10-05 00:17:17   melanin_sugar   \n",
       "728836  1312909692268548097  2020-10-05 00:17:17     atomicoffin   \n",
       "728837  1312909692226555904  2020-10-05 00:17:17    Dory24960234   \n",
       "\n",
       "                                                     Text  Polarity  Retweet  \n",
       "728833  RT @wonubliss: jeonghan's gift to seungcheol:\\...         1        1  \n",
       "728834  @acciopage394 So like when I’m at work and try...         1        0  \n",
       "728835                          @yadastarot Maria 🥰 thanx         1        0  \n",
       "728836  @pamelarenfree i’ve been having crazy back pai...         1        0  \n",
       "728837                   Bless morning♥️thankyou Lord 🥰♥️         1        0  "
      ]
     },
     "execution_count": 32,
     "metadata": {},
     "output_type": "execute_result"
    }
   ],
   "source": [
    "deduped_df.tail()"
   ]
  },
  {
   "cell_type": "markdown",
   "metadata": {},
   "source": [
    "---"
   ]
  }
 ],
 "metadata": {
  "kernelspec": {
   "display_name": "Python 3",
   "language": "python",
   "name": "python3"
  },
  "language_info": {
   "codemirror_mode": {
    "name": "ipython",
    "version": 3
   },
   "file_extension": ".py",
   "mimetype": "text/x-python",
   "name": "python",
   "nbconvert_exporter": "python",
   "pygments_lexer": "ipython3",
   "version": "3.7.3"
  }
 },
 "nbformat": 4,
 "nbformat_minor": 4
}
