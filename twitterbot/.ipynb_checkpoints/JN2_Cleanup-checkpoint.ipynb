{
 "cells": [
  {
   "cell_type": "markdown",
   "metadata": {},
   "source": [
    "**Checklist**\n",
    "\n",
    "- check for dupes in ingestion? \n",
    "    - not needed, no dupes, and text dupes should be checked after cleaning\n",
    "- use textBlob as yet another way to perform basic sentiment analysis?\n",
    "    - yes, TODO, but maybe not during cleanup\n",
    "- create an incremental cleanup module?\n",
    "    - overkill, just reprocess everything bc of dupes, \n",
    "      script takes 8 secs for 20k tweets, that's ~6 min for a million if linear\n",
    "- improve script?\n",
    "    - add logs?"
   ]
  },
  {
   "cell_type": "code",
   "execution_count": 1,
   "metadata": {},
   "outputs": [],
   "source": [
    "import os\n",
    "import re\n",
    "import json\n",
    "import time\n",
    "\n",
    "import string\n",
    "import datetime\n",
    "import urlextract\n",
    "import pandas as pd\n",
    "\n",
    "from html import unescape\n",
    "from nltk.corpus import stopwords\n",
    "from nltk.tokenize import word_tokenize\n",
    "from nltk.stem import PorterStemmer"
   ]
  },
  {
   "cell_type": "code",
   "execution_count": 2,
   "metadata": {},
   "outputs": [],
   "source": [
    "def load_todays_data():\n",
    "    filepath = os.path.join(\"..\",\"data\",\"1_raw\",\"tweets\")\n",
    "    today_prefix = datetime.datetime.now().strftime(\"%Y%m%d\")\n",
    "    dfm = []\n",
    "    for f in os.listdir(filepath):\n",
    "        if re.match(today_prefix, f):\n",
    "            dfm.append(pd.read_csv(os.path.join(filepath, f)))\n",
    "    df = pd.concat(dfm)\n",
    "    df = df.reset_index(drop=True)\n",
    "    return df"
   ]
  },
  {
   "cell_type": "code",
   "execution_count": 3,
   "metadata": {},
   "outputs": [],
   "source": [
    "df = load_todays_data()"
   ]
  },
  {
   "cell_type": "code",
   "execution_count": 4,
   "metadata": {},
   "outputs": [
    {
     "data": {
      "text/plain": [
       "(44000, 5)"
      ]
     },
     "execution_count": 4,
     "metadata": {},
     "output_type": "execute_result"
    }
   ],
   "source": [
    "df.shape"
   ]
  },
  {
   "cell_type": "code",
   "execution_count": 5,
   "metadata": {},
   "outputs": [
    {
     "data": {
      "text/plain": [
       "(0, 5)"
      ]
     },
     "execution_count": 5,
     "metadata": {},
     "output_type": "execute_result"
    }
   ],
   "source": [
    "# test for duplicated IDs\n",
    "ids = df[\"ID\"]\n",
    "df[ids.isin(ids[ids.duplicated()])].shape"
   ]
  },
  {
   "cell_type": "code",
   "execution_count": 6,
   "metadata": {},
   "outputs": [
    {
     "data": {
      "text/plain": [
       "(12217, 5)"
      ]
     },
     "execution_count": 6,
     "metadata": {},
     "output_type": "execute_result"
    }
   ],
   "source": [
    "# test for duplicated Text\n",
    "txt = df[\"Text\"]\n",
    "df[txt.isin(txt[txt.duplicated()])].shape"
   ]
  },
  {
   "cell_type": "code",
   "execution_count": 7,
   "metadata": {},
   "outputs": [
    {
     "data": {
      "text/html": [
       "<div>\n",
       "<style scoped>\n",
       "    .dataframe tbody tr th:only-of-type {\n",
       "        vertical-align: middle;\n",
       "    }\n",
       "\n",
       "    .dataframe tbody tr th {\n",
       "        vertical-align: top;\n",
       "    }\n",
       "\n",
       "    .dataframe thead th {\n",
       "        text-align: right;\n",
       "    }\n",
       "</style>\n",
       "<table border=\"1\" class=\"dataframe\">\n",
       "  <thead>\n",
       "    <tr style=\"text-align: right;\">\n",
       "      <th></th>\n",
       "      <th>ID</th>\n",
       "    </tr>\n",
       "    <tr>\n",
       "      <th>User</th>\n",
       "      <th></th>\n",
       "    </tr>\n",
       "  </thead>\n",
       "  <tbody>\n",
       "    <tr>\n",
       "      <th>Navii52989964</th>\n",
       "      <td>7</td>\n",
       "    </tr>\n",
       "    <tr>\n",
       "      <th>wonpirimirie</th>\n",
       "      <td>6</td>\n",
       "    </tr>\n",
       "    <tr>\n",
       "      <th>ClaudieSkies</th>\n",
       "      <td>6</td>\n",
       "    </tr>\n",
       "    <tr>\n",
       "      <th>Dzs18887618</th>\n",
       "      <td>6</td>\n",
       "    </tr>\n",
       "    <tr>\n",
       "      <th>GetVidBot</th>\n",
       "      <td>5</td>\n",
       "    </tr>\n",
       "  </tbody>\n",
       "</table>\n",
       "</div>"
      ],
      "text/plain": [
       "               ID\n",
       "User             \n",
       "Navii52989964   7\n",
       "wonpirimirie    6\n",
       "ClaudieSkies    6\n",
       "Dzs18887618     6\n",
       "GetVidBot       5"
      ]
     },
     "execution_count": 7,
     "metadata": {},
     "output_type": "execute_result"
    }
   ],
   "source": [
    "# look at users with more than 1 tweet?\n",
    "grouped = df[['User', 'ID']].groupby('User').count().sort_values('ID', ascending=False)\n",
    "\n",
    "grouped[grouped['ID']>1].head()"
   ]
  },
  {
   "cell_type": "markdown",
   "metadata": {},
   "source": [
    "#### Adding Retweet Column"
   ]
  },
  {
   "cell_type": "code",
   "execution_count": 8,
   "metadata": {},
   "outputs": [],
   "source": [
    "def is_retweet(col):\n",
    "\n",
    "    for i in range(len(col)):\n",
    "        if re.match(r'^RT', col) is not None:\n",
    "            return 1\n",
    "        else:\n",
    "            return 0      \n",
    "        \n",
    "def map_is_retweet(col):\n",
    "   \n",
    "    bool_map = map(lambda x: is_retweet(x), col)       \n",
    "    return(list(bool_map)) "
   ]
  },
  {
   "cell_type": "code",
   "execution_count": 9,
   "metadata": {},
   "outputs": [],
   "source": [
    "df['Retweet'] = map_is_retweet(df['Text'].values)"
   ]
  },
  {
   "cell_type": "markdown",
   "metadata": {},
   "source": [
    "## Cleanup"
   ]
  },
  {
   "cell_type": "code",
   "execution_count": 10,
   "metadata": {},
   "outputs": [],
   "source": [
    "def cleanup_tweet(tweet):\n",
    "    \"\"\"Cleans up a tweet with the following steps:\n",
    "        1. make lower case\n",
    "        2. remove URLs\n",
    "        3. unescape HTML entities\n",
    "        4. remove user references (including username) or hashtags, etc.\n",
    "        5. remove punctuation\n",
    "        6. remove emojis\n",
    "        7. discard non-ascii decodable text after utf-8 encoding\n",
    "        8. tokenize\n",
    "        9. filter stop words from tokens\n",
    "        10. stem filtered tokens\n",
    "        \n",
    "    The function returns a 3-tuple with cleaned versions 8 through 10.\n",
    "    \"\"\"\n",
    "    # 1\n",
    "    tweet = tweet.lower()\n",
    "\n",
    "    # 2\n",
    "    # URL_pattern = r'\\w+:\\/{2}[\\d\\w-]+(\\.[\\d\\w-]+)*(?:(?:\\/[^\\s/]*))*'\n",
    "    # tweet = re.sub(URL_pattern, '', tweet, flags=re.MULTILINE)\n",
    "    # better, albeit slower, version\n",
    "    urls = list(set(url_extractor.find_urls(tweet)))\n",
    "    if len(urls) > 0:\n",
    "        for url in urls:\n",
    "            tweet = tweet.replace(url, \"\")\n",
    "    # 3\n",
    "    tweet = unescape(tweet)\n",
    "    \n",
    "    # 4\n",
    "    pattern = r'\\@\\w+|\\#|\\¥|\\â|\\«|\\»|\\Ñ|\\Ð|\\¼|\\½|\\¾|\\!|\\?|\\¿\\\n",
    "                |\\x82|\\x83|\\x84|\\x85|\\x86|\\x87|\\x88|\\x89|\\\n",
    "                |\\x8a|\\x8b|\\x8c|\\x8d|\\x8e|\\°|\\µ|\\´|\\º|\\¹|\\³'\n",
    "    tweet = re.sub(pattern, '', tweet)\n",
    "\n",
    "    # 5\n",
    "    tweet = tweet.translate(str.maketrans('', '', string.punctuation))\n",
    "    \n",
    "    # 6\n",
    "    tweet = re.sub(r'[^\\x00-\\x7F]+', '', tweet).strip()\n",
    "\n",
    "    # 7\n",
    "    def is_ascii(text):\n",
    "        try:\n",
    "            text.encode(encoding='utf-8').decode('ascii')\n",
    "        except UnicodeDecodeError:\n",
    "            return False\n",
    "        else:\n",
    "            return True\n",
    "    \n",
    "    if is_ascii(tweet) == False:\n",
    "        return \" \"\n",
    "    else:\n",
    "        pass\n",
    "\n",
    "    # 8 tokenized only (remove retweet prefix)\n",
    "    tweet_tokens = word_tokenize(tweet)\n",
    "    retweet = ['rt']\n",
    "    tweet_tokens = [token for token in tweet_tokens if not token in retweet]\n",
    "    \n",
    "    # 9 tokenized + filtered\n",
    "    # NLTK's set(stopwords.words('english')) removes too many words\n",
    "    # using list of 25 semantically non-selective words (Reuters-RCV1 dataset)\n",
    "    stop_words = ['a','an','and','are','as','at','be','by','for','from',\n",
    "                  'has','he','in','is','it','its','of','on','that','the',\n",
    "                  'to','was','were','will','with'] \n",
    "    filtered_tokens = [token for token in tweet_tokens if not token in stop_words]\n",
    "\n",
    "    # 10 tokenized + filtered + stemmed\n",
    "    ps = PorterStemmer()\n",
    "    filtered_stemmed_tokens = [ps.stem(token) for token in filtered_tokens]\n",
    "        \n",
    "    v8 = \" \".join(tweet_tokens)\n",
    "    v9 = \" \".join(filtered_tokens)\n",
    "    v10 = \" \".join(filtered_stemmed_tokens)  \n",
    "    \n",
    "    return (v8, v9, v10)"
   ]
  },
  {
   "cell_type": "code",
   "execution_count": 11,
   "metadata": {},
   "outputs": [],
   "source": [
    "url_extractor = urlextract.URLExtract()\n",
    "tuples = [cleanup_tweet(tweet) for tweet in df.loc[:,'Text']]"
   ]
  },
  {
   "cell_type": "code",
   "execution_count": 12,
   "metadata": {},
   "outputs": [],
   "source": [
    "df.loc[:, 'tokenized'], df.loc[:, 'filtered'], df.loc[:, 'stemmed'] = \\\n",
    "[x[0] for x in tuples], [x[1] for x in tuples], [x[2] for x in tuples]"
   ]
  },
  {
   "cell_type": "code",
   "execution_count": 13,
   "metadata": {},
   "outputs": [
    {
     "data": {
      "text/html": [
       "<div>\n",
       "<style scoped>\n",
       "    .dataframe tbody tr th:only-of-type {\n",
       "        vertical-align: middle;\n",
       "    }\n",
       "\n",
       "    .dataframe tbody tr th {\n",
       "        vertical-align: top;\n",
       "    }\n",
       "\n",
       "    .dataframe thead th {\n",
       "        text-align: right;\n",
       "    }\n",
       "</style>\n",
       "<table border=\"1\" class=\"dataframe\">\n",
       "  <thead>\n",
       "    <tr style=\"text-align: right;\">\n",
       "      <th></th>\n",
       "      <th>ID</th>\n",
       "      <th>Timestamp</th>\n",
       "      <th>User</th>\n",
       "      <th>Text</th>\n",
       "      <th>Polarity</th>\n",
       "      <th>Retweet</th>\n",
       "      <th>tokenized</th>\n",
       "      <th>filtered</th>\n",
       "      <th>stemmed</th>\n",
       "    </tr>\n",
       "  </thead>\n",
       "  <tbody>\n",
       "    <tr>\n",
       "      <th>0</th>\n",
       "      <td>1305509246335934467</td>\n",
       "      <td>2020-09-14 14:10:34</td>\n",
       "      <td>Exquisite_Lex</td>\n",
       "      <td>wait ? why are teachers putting kids in groups...</td>\n",
       "      <td>-1</td>\n",
       "      <td>0</td>\n",
       "      <td>wait why are teachers putting kids in groups l...</td>\n",
       "      <td>wait why teachers putting kids groups like thi...</td>\n",
       "      <td>wait whi teacher put kid group like thi whole ...</td>\n",
       "    </tr>\n",
       "    <tr>\n",
       "      <th>1</th>\n",
       "      <td>1305509246130413569</td>\n",
       "      <td>2020-09-14 14:10:34</td>\n",
       "      <td>FabFay3</td>\n",
       "      <td>Damn I want some fried rice kitchen 😫</td>\n",
       "      <td>-1</td>\n",
       "      <td>0</td>\n",
       "      <td>damn i want some fried rice kitchen</td>\n",
       "      <td>damn i want some fried rice kitchen</td>\n",
       "      <td>damn i want some fri rice kitchen</td>\n",
       "    </tr>\n",
       "    <tr>\n",
       "      <th>2</th>\n",
       "      <td>1305509246067331079</td>\n",
       "      <td>2020-09-14 14:10:34</td>\n",
       "      <td>chim0nacx</td>\n",
       "      <td>@THARAFR0NG THIS ONE!!! NEW BEING NEW AND TAY ...</td>\n",
       "      <td>-1</td>\n",
       "      <td>0</td>\n",
       "      <td>this one new being new and tay being tay huhu</td>\n",
       "      <td>this one new being new tay being tay huhu</td>\n",
       "      <td>thi one new be new tay be tay huhu</td>\n",
       "    </tr>\n",
       "    <tr>\n",
       "      <th>3</th>\n",
       "      <td>1305509245920645120</td>\n",
       "      <td>2020-09-14 14:10:34</td>\n",
       "      <td>twoheartskiwi</td>\n",
       "      <td>@whoishannahhh you make all of our days so muc...</td>\n",
       "      <td>-1</td>\n",
       "      <td>0</td>\n",
       "      <td>you make all of our days so much brighter</td>\n",
       "      <td>you make all our days so much brighter</td>\n",
       "      <td>you make all our day so much brighter</td>\n",
       "    </tr>\n",
       "    <tr>\n",
       "      <th>4</th>\n",
       "      <td>1305509245811486720</td>\n",
       "      <td>2020-09-14 14:10:34</td>\n",
       "      <td>BelmilJennyrose</td>\n",
       "      <td>RT @borahaejeonjk: can we talk about how jungk...</td>\n",
       "      <td>-1</td>\n",
       "      <td>1</td>\n",
       "      <td>can we talk about how jungkook always makes su...</td>\n",
       "      <td>can we talk about how jungkook always makes su...</td>\n",
       "      <td>can we talk about how jungkook alway make sure...</td>\n",
       "    </tr>\n",
       "  </tbody>\n",
       "</table>\n",
       "</div>"
      ],
      "text/plain": [
       "                    ID            Timestamp             User  \\\n",
       "0  1305509246335934467  2020-09-14 14:10:34    Exquisite_Lex   \n",
       "1  1305509246130413569  2020-09-14 14:10:34          FabFay3   \n",
       "2  1305509246067331079  2020-09-14 14:10:34        chim0nacx   \n",
       "3  1305509245920645120  2020-09-14 14:10:34    twoheartskiwi   \n",
       "4  1305509245811486720  2020-09-14 14:10:34  BelmilJennyrose   \n",
       "\n",
       "                                                Text  Polarity  Retweet  \\\n",
       "0  wait ? why are teachers putting kids in groups...        -1        0   \n",
       "1              Damn I want some fried rice kitchen 😫        -1        0   \n",
       "2  @THARAFR0NG THIS ONE!!! NEW BEING NEW AND TAY ...        -1        0   \n",
       "3  @whoishannahhh you make all of our days so muc...        -1        0   \n",
       "4  RT @borahaejeonjk: can we talk about how jungk...        -1        1   \n",
       "\n",
       "                                           tokenized  \\\n",
       "0  wait why are teachers putting kids in groups l...   \n",
       "1                damn i want some fried rice kitchen   \n",
       "2      this one new being new and tay being tay huhu   \n",
       "3          you make all of our days so much brighter   \n",
       "4  can we talk about how jungkook always makes su...   \n",
       "\n",
       "                                            filtered  \\\n",
       "0  wait why teachers putting kids groups like thi...   \n",
       "1                damn i want some fried rice kitchen   \n",
       "2          this one new being new tay being tay huhu   \n",
       "3             you make all our days so much brighter   \n",
       "4  can we talk about how jungkook always makes su...   \n",
       "\n",
       "                                             stemmed  \n",
       "0  wait whi teacher put kid group like thi whole ...  \n",
       "1                  damn i want some fri rice kitchen  \n",
       "2                 thi one new be new tay be tay huhu  \n",
       "3              you make all our day so much brighter  \n",
       "4  can we talk about how jungkook alway make sure...  "
      ]
     },
     "execution_count": 13,
     "metadata": {},
     "output_type": "execute_result"
    }
   ],
   "source": [
    "df.head()"
   ]
  },
  {
   "cell_type": "code",
   "execution_count": 14,
   "metadata": {},
   "outputs": [
    {
     "data": {
      "text/html": [
       "<div>\n",
       "<style scoped>\n",
       "    .dataframe tbody tr th:only-of-type {\n",
       "        vertical-align: middle;\n",
       "    }\n",
       "\n",
       "    .dataframe tbody tr th {\n",
       "        vertical-align: top;\n",
       "    }\n",
       "\n",
       "    .dataframe thead th {\n",
       "        text-align: right;\n",
       "    }\n",
       "</style>\n",
       "<table border=\"1\" class=\"dataframe\">\n",
       "  <thead>\n",
       "    <tr style=\"text-align: right;\">\n",
       "      <th></th>\n",
       "      <th>ID</th>\n",
       "      <th>Timestamp</th>\n",
       "      <th>User</th>\n",
       "      <th>Text</th>\n",
       "      <th>Polarity</th>\n",
       "      <th>Retweet</th>\n",
       "      <th>tokenized</th>\n",
       "      <th>filtered</th>\n",
       "      <th>stemmed</th>\n",
       "    </tr>\n",
       "  </thead>\n",
       "  <tbody>\n",
       "    <tr>\n",
       "      <th>43995</th>\n",
       "      <td>1305708822795706368</td>\n",
       "      <td>2020-09-15 03:23:36</td>\n",
       "      <td>jindalji5206</td>\n",
       "      <td>RT @__TANU_: Waiting for new post😒😒...\\nHaye m...</td>\n",
       "      <td>1</td>\n",
       "      <td>1</td>\n",
       "      <td>waiting for new post haye meri mottojaldi se e...</td>\n",
       "      <td>waiting new post haye meri mottojaldi se ek st...</td>\n",
       "      <td>wait new post hay meri mottojaldi se ek stun p...</td>\n",
       "    </tr>\n",
       "    <tr>\n",
       "      <th>43996</th>\n",
       "      <td>1305708822791507968</td>\n",
       "      <td>2020-09-15 03:23:36</td>\n",
       "      <td>CodingMark</td>\n",
       "      <td>@dezmondOliver @seanmmitchell @Kristennetten I...</td>\n",
       "      <td>1</td>\n",
       "      <td>0</td>\n",
       "      <td>it is quite surprising to me but the competiti...</td>\n",
       "      <td>quite surprising me but competitive price utility</td>\n",
       "      <td>quit surpris me but competit price util</td>\n",
       "    </tr>\n",
       "    <tr>\n",
       "      <th>43997</th>\n",
       "      <td>1305708822691020801</td>\n",
       "      <td>2020-09-15 03:23:36</td>\n",
       "      <td>zziraaah</td>\n",
       "      <td>RT @lmlowk3y: Muslim architecture 😍 https://t....</td>\n",
       "      <td>1</td>\n",
       "      <td>1</td>\n",
       "      <td>muslim architecture</td>\n",
       "      <td>muslim architecture</td>\n",
       "      <td>muslim architectur</td>\n",
       "    </tr>\n",
       "    <tr>\n",
       "      <th>43998</th>\n",
       "      <td>1305708822577598464</td>\n",
       "      <td>2020-09-15 03:23:36</td>\n",
       "      <td>teresa08238743</td>\n",
       "      <td>@DanRather Good report Dan Rather😊</td>\n",
       "      <td>1</td>\n",
       "      <td>0</td>\n",
       "      <td>good report dan rather</td>\n",
       "      <td>good report dan rather</td>\n",
       "      <td>good report dan rather</td>\n",
       "    </tr>\n",
       "    <tr>\n",
       "      <th>43999</th>\n",
       "      <td>1305708822535827456</td>\n",
       "      <td>2020-09-15 03:23:36</td>\n",
       "      <td>Ari_brielle</td>\n",
       "      <td>RT @ItssArielle_: teachers are the foundation ...</td>\n",
       "      <td>1</td>\n",
       "      <td>1</td>\n",
       "      <td>teachers are the foundation of our society sho...</td>\n",
       "      <td>teachers foundation our society shoutout my te...</td>\n",
       "      <td>teacher foundat our societi shoutout my teache...</td>\n",
       "    </tr>\n",
       "  </tbody>\n",
       "</table>\n",
       "</div>"
      ],
      "text/plain": [
       "                        ID            Timestamp            User  \\\n",
       "43995  1305708822795706368  2020-09-15 03:23:36    jindalji5206   \n",
       "43996  1305708822791507968  2020-09-15 03:23:36      CodingMark   \n",
       "43997  1305708822691020801  2020-09-15 03:23:36        zziraaah   \n",
       "43998  1305708822577598464  2020-09-15 03:23:36  teresa08238743   \n",
       "43999  1305708822535827456  2020-09-15 03:23:36     Ari_brielle   \n",
       "\n",
       "                                                    Text  Polarity  Retweet  \\\n",
       "43995  RT @__TANU_: Waiting for new post😒😒...\\nHaye m...         1        1   \n",
       "43996  @dezmondOliver @seanmmitchell @Kristennetten I...         1        0   \n",
       "43997  RT @lmlowk3y: Muslim architecture 😍 https://t....         1        1   \n",
       "43998                 @DanRather Good report Dan Rather😊         1        0   \n",
       "43999  RT @ItssArielle_: teachers are the foundation ...         1        1   \n",
       "\n",
       "                                               tokenized  \\\n",
       "43995  waiting for new post haye meri mottojaldi se e...   \n",
       "43996  it is quite surprising to me but the competiti...   \n",
       "43997                                muslim architecture   \n",
       "43998                             good report dan rather   \n",
       "43999  teachers are the foundation of our society sho...   \n",
       "\n",
       "                                                filtered  \\\n",
       "43995  waiting new post haye meri mottojaldi se ek st...   \n",
       "43996  quite surprising me but competitive price utility   \n",
       "43997                                muslim architecture   \n",
       "43998                             good report dan rather   \n",
       "43999  teachers foundation our society shoutout my te...   \n",
       "\n",
       "                                                 stemmed  \n",
       "43995  wait new post hay meri mottojaldi se ek stun p...  \n",
       "43996            quit surpris me but competit price util  \n",
       "43997                                 muslim architectur  \n",
       "43998                             good report dan rather  \n",
       "43999  teacher foundat our societi shoutout my teache...  "
      ]
     },
     "execution_count": 14,
     "metadata": {},
     "output_type": "execute_result"
    }
   ],
   "source": [
    "df.tail()"
   ]
  },
  {
   "cell_type": "code",
   "execution_count": 15,
   "metadata": {},
   "outputs": [],
   "source": [
    "dupes = df[df['tokenized'].duplicated(keep='first')]"
   ]
  },
  {
   "cell_type": "code",
   "execution_count": 16,
   "metadata": {},
   "outputs": [
    {
     "data": {
      "text/plain": [
       "0.26981818181818185"
      ]
     },
     "execution_count": 16,
     "metadata": {},
     "output_type": "execute_result"
    }
   ],
   "source": [
    "dupes.shape[0]/df.shape[0] # % dupes"
   ]
  },
  {
   "cell_type": "code",
   "execution_count": 17,
   "metadata": {},
   "outputs": [
    {
     "data": {
      "text/plain": [
       "0.8828335579514824"
      ]
     },
     "execution_count": 17,
     "metadata": {},
     "output_type": "execute_result"
    }
   ],
   "source": [
    "dupes[dupes['Retweet']==1].shape[0]/dupes.shape[0] # % of dupes that are retweets"
   ]
  },
  {
   "cell_type": "code",
   "execution_count": null,
   "metadata": {},
   "outputs": [],
   "source": []
  }
 ],
 "metadata": {
  "kernelspec": {
   "display_name": "Python 3",
   "language": "python",
   "name": "python3"
  },
  "language_info": {
   "codemirror_mode": {
    "name": "ipython",
    "version": 3
   },
   "file_extension": ".py",
   "mimetype": "text/x-python",
   "name": "python",
   "nbconvert_exporter": "python",
   "pygments_lexer": "ipython3",
   "version": "3.7.3"
  }
 },
 "nbformat": 4,
 "nbformat_minor": 4
}
