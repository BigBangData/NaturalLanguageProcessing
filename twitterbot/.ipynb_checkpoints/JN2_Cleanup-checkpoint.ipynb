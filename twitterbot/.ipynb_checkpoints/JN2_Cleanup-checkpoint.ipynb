{
 "cells": [
  {
   "cell_type": "markdown",
   "metadata": {},
   "source": [
    "**Checklist**\n",
    "\n",
    "- check for dupes in ingestion? \n",
    "    - not needed, no dupes, and text dupes should be checked after cleaning\n",
    "- use textBlob as yet another way to perform basic sentiment analysis?\n",
    "    - yes, TODO, but maybe not during cleanup\n",
    "- create an incremental cleanup module?\n",
    "    - overkill, just reprocess everything bc of dupes, \n",
    "      script takes 8 secs for 20k tweets, that's ~6 min for a million if linear\n",
    "- improve script?\n",
    "    - add logs?"
   ]
  },
  {
   "cell_type": "code",
   "execution_count": 6,
   "metadata": {},
   "outputs": [],
   "source": [
    "import os\n",
    "import re\n",
    "import json\n",
    "import time\n",
    "\n",
    "import string\n",
    "import datetime\n",
    "import urlextract\n",
    "import pandas as pd\n",
    "\n",
    "from html import unescape\n",
    "from nltk.corpus import stopwords\n",
    "from nltk.tokenize import word_tokenize\n",
    "from nltk.stem import PorterStemmer"
   ]
  },
  {
   "cell_type": "code",
   "execution_count": 7,
   "metadata": {},
   "outputs": [],
   "source": [
    "def load_todays_data():\n",
    "    filepath = os.path.join(\"..\",\"data\",\"1_raw\",\"tweets\")\n",
    "    today_prefix = datetime.datetime.now().strftime(\"%Y%m%d\")\n",
    "    dfm = []\n",
    "    for f in os.listdir(filepath):\n",
    "        if re.match(today_prefix, f):\n",
    "            dfm.append(pd.read_csv(os.path.join(filepath, f)))\n",
    "    df = pd.concat(dfm)\n",
    "    df = df.reset_index(drop=True)\n",
    "    return df"
   ]
  },
  {
   "cell_type": "code",
   "execution_count": 9,
   "metadata": {},
   "outputs": [],
   "source": [
    "#df = load_todays_data()"
   ]
  },
  {
   "cell_type": "code",
   "execution_count": 10,
   "metadata": {},
   "outputs": [],
   "source": [
    "def load_all_data():\n",
    "    filepath = os.path.join(\"..\",\"data\",\"1_raw\",\"tweets\")\n",
    "    #today_prefix = datetime.datetime.now().strftime(\"%Y%m%d\")\n",
    "    dfm = []\n",
    "    for f in os.listdir(filepath):\n",
    "        #if re.match(today_prefix, f):\n",
    "        dfm.append(pd.read_csv(os.path.join(filepath, f)))\n",
    "    df = pd.concat(dfm)\n",
    "    df = df.reset_index(drop=True)\n",
    "    return df"
   ]
  },
  {
   "cell_type": "code",
   "execution_count": 11,
   "metadata": {},
   "outputs": [],
   "source": [
    "df = load_all_data()"
   ]
  },
  {
   "cell_type": "code",
   "execution_count": 12,
   "metadata": {},
   "outputs": [
    {
     "data": {
      "text/plain": [
       "(372400, 5)"
      ]
     },
     "execution_count": 12,
     "metadata": {},
     "output_type": "execute_result"
    }
   ],
   "source": [
    "df.shape"
   ]
  },
  {
   "cell_type": "code",
   "execution_count": 13,
   "metadata": {},
   "outputs": [
    {
     "data": {
      "text/plain": [
       "(0, 5)"
      ]
     },
     "execution_count": 13,
     "metadata": {},
     "output_type": "execute_result"
    }
   ],
   "source": [
    "# test for duplicated IDs\n",
    "ids = df[\"ID\"]\n",
    "df[ids.isin(ids[ids.duplicated()])].shape"
   ]
  },
  {
   "cell_type": "code",
   "execution_count": 14,
   "metadata": {},
   "outputs": [
    {
     "data": {
      "text/plain": [
       "(104665, 5)"
      ]
     },
     "execution_count": 14,
     "metadata": {},
     "output_type": "execute_result"
    }
   ],
   "source": [
    "# test for duplicated Text\n",
    "txt = df[\"Text\"]\n",
    "df[txt.isin(txt[txt.duplicated()])].shape"
   ]
  },
  {
   "cell_type": "code",
   "execution_count": 15,
   "metadata": {},
   "outputs": [
    {
     "data": {
      "text/plain": [
       "267735"
      ]
     },
     "execution_count": 15,
     "metadata": {},
     "output_type": "execute_result"
    }
   ],
   "source": [
    "372400-104665"
   ]
  },
  {
   "cell_type": "code",
   "execution_count": 16,
   "metadata": {},
   "outputs": [
    {
     "data": {
      "text/html": [
       "<div>\n",
       "<style scoped>\n",
       "    .dataframe tbody tr th:only-of-type {\n",
       "        vertical-align: middle;\n",
       "    }\n",
       "\n",
       "    .dataframe tbody tr th {\n",
       "        vertical-align: top;\n",
       "    }\n",
       "\n",
       "    .dataframe thead th {\n",
       "        text-align: right;\n",
       "    }\n",
       "</style>\n",
       "<table border=\"1\" class=\"dataframe\">\n",
       "  <thead>\n",
       "    <tr style=\"text-align: right;\">\n",
       "      <th></th>\n",
       "      <th>ID</th>\n",
       "    </tr>\n",
       "    <tr>\n",
       "      <th>User</th>\n",
       "      <th></th>\n",
       "    </tr>\n",
       "  </thead>\n",
       "  <tbody>\n",
       "    <tr>\n",
       "      <th>pinkyfaye</th>\n",
       "      <td>25</td>\n",
       "    </tr>\n",
       "    <tr>\n",
       "      <th>GetVidBot</th>\n",
       "      <td>23</td>\n",
       "    </tr>\n",
       "    <tr>\n",
       "      <th>Bot_Otters</th>\n",
       "      <td>21</td>\n",
       "    </tr>\n",
       "    <tr>\n",
       "      <th>KenanWaters</th>\n",
       "      <td>21</td>\n",
       "    </tr>\n",
       "    <tr>\n",
       "      <th>DeadPoolzNutz</th>\n",
       "      <td>19</td>\n",
       "    </tr>\n",
       "  </tbody>\n",
       "</table>\n",
       "</div>"
      ],
      "text/plain": [
       "               ID\n",
       "User             \n",
       "pinkyfaye      25\n",
       "GetVidBot      23\n",
       "Bot_Otters     21\n",
       "KenanWaters    21\n",
       "DeadPoolzNutz  19"
      ]
     },
     "execution_count": 16,
     "metadata": {},
     "output_type": "execute_result"
    }
   ],
   "source": [
    "# look at users with more than 1 tweet?\n",
    "grouped = df[['User', 'ID']].groupby('User').count().sort_values('ID', ascending=False)\n",
    "\n",
    "grouped[grouped['ID']>1].head()"
   ]
  },
  {
   "cell_type": "markdown",
   "metadata": {},
   "source": [
    "#### Adding Retweet Column"
   ]
  },
  {
   "cell_type": "code",
   "execution_count": 17,
   "metadata": {},
   "outputs": [],
   "source": [
    "def is_retweet(col):\n",
    "\n",
    "    for i in range(len(col)):\n",
    "        if re.match(r'^RT', col) is not None:\n",
    "            return 1\n",
    "        else:\n",
    "            return 0      \n",
    "        \n",
    "def map_is_retweet(col):\n",
    "   \n",
    "    bool_map = map(lambda x: is_retweet(x), col)       \n",
    "    return(list(bool_map)) "
   ]
  },
  {
   "cell_type": "code",
   "execution_count": 18,
   "metadata": {},
   "outputs": [],
   "source": [
    "df['Retweet'] = map_is_retweet(df['Text'].values)"
   ]
  },
  {
   "cell_type": "markdown",
   "metadata": {},
   "source": [
    "## Cleanup"
   ]
  },
  {
   "cell_type": "code",
   "execution_count": 19,
   "metadata": {},
   "outputs": [],
   "source": [
    "def cleanup_tweet(tweet):\n",
    "    \"\"\"Cleans up a tweet with the following steps:\n",
    "        1. make lower case\n",
    "        2. remove URLs\n",
    "        3. unescape HTML entities\n",
    "        4. remove user references (including username) or hashtags, etc.\n",
    "        5. remove punctuation\n",
    "        6. remove emojis\n",
    "        7. discard non-ascii decodable text after utf-8 encoding\n",
    "        8. tokenize\n",
    "        9. filter stop words from tokens\n",
    "        10. stem filtered tokens\n",
    "        \n",
    "    The function returns a 3-tuple with cleaned versions 8 through 10.\n",
    "    \"\"\"\n",
    "    # 1\n",
    "    tweet = tweet.lower()\n",
    "\n",
    "    # 2\n",
    "    # URL_pattern = r'\\w+:\\/{2}[\\d\\w-]+(\\.[\\d\\w-]+)*(?:(?:\\/[^\\s/]*))*'\n",
    "    # tweet = re.sub(URL_pattern, '', tweet, flags=re.MULTILINE)\n",
    "    # better, albeit slower, version\n",
    "    urls = list(set(url_extractor.find_urls(tweet)))\n",
    "    if len(urls) > 0:\n",
    "        for url in urls:\n",
    "            tweet = tweet.replace(url, \"\")\n",
    "    # 3\n",
    "    tweet = unescape(tweet)\n",
    "    \n",
    "    # 4\n",
    "    pattern = r'\\@\\w+|\\#|\\¥|\\â|\\«|\\»|\\Ñ|\\Ð|\\¼|\\½|\\¾|\\!|\\?|\\¿\\\n",
    "                |\\x82|\\x83|\\x84|\\x85|\\x86|\\x87|\\x88|\\x89|\\\n",
    "                |\\x8a|\\x8b|\\x8c|\\x8d|\\x8e|\\°|\\µ|\\´|\\º|\\¹|\\³'\n",
    "    tweet = re.sub(pattern, '', tweet)\n",
    "\n",
    "    # 5\n",
    "    tweet = tweet.translate(str.maketrans('', '', string.punctuation))\n",
    "    \n",
    "    # 6\n",
    "    tweet = re.sub(r'[^\\x00-\\x7F]+', '', tweet).strip()\n",
    "\n",
    "    # 7\n",
    "    def is_ascii(text):\n",
    "        try:\n",
    "            text.encode(encoding='utf-8').decode('ascii')\n",
    "        except UnicodeDecodeError:\n",
    "            return False\n",
    "        else:\n",
    "            return True\n",
    "    \n",
    "    if is_ascii(tweet) == False:\n",
    "        return \" \"\n",
    "    else:\n",
    "        pass\n",
    "\n",
    "    # 8 tokenized only (remove retweet prefix)\n",
    "    tweet_tokens = word_tokenize(tweet)\n",
    "    retweet = ['rt']\n",
    "    tweet_tokens = [token for token in tweet_tokens if not token in retweet]\n",
    "    \n",
    "    # 9 tokenized + filtered\n",
    "    # NLTK's set(stopwords.words('english')) removes too many words\n",
    "    # using list of 25 semantically non-selective words (Reuters-RCV1 dataset)\n",
    "    stop_words = ['a','an','and','are','as','at','be','by','for','from',\n",
    "                  'has','he','in','is','it','its','of','on','that','the',\n",
    "                  'to','was','were','will','with'] \n",
    "    filtered_tokens = [token for token in tweet_tokens if not token in stop_words]\n",
    "\n",
    "    # 10 tokenized + filtered + stemmed\n",
    "    ps = PorterStemmer()\n",
    "    filtered_stemmed_tokens = [ps.stem(token) for token in filtered_tokens]\n",
    "        \n",
    "    v8 = \" \".join(tweet_tokens)\n",
    "    v9 = \" \".join(filtered_tokens)\n",
    "    v10 = \" \".join(filtered_stemmed_tokens)  \n",
    "    \n",
    "    return (v8, v9, v10)"
   ]
  },
  {
   "cell_type": "code",
   "execution_count": 20,
   "metadata": {},
   "outputs": [],
   "source": [
    "url_extractor = urlextract.URLExtract()\n",
    "tuples = [cleanup_tweet(tweet) for tweet in df.loc[:,'Text']]"
   ]
  },
  {
   "cell_type": "code",
   "execution_count": 21,
   "metadata": {},
   "outputs": [],
   "source": [
    "df.loc[:, 'tokenized'], df.loc[:, 'filtered'], df.loc[:, 'stemmed'] = \\\n",
    "[x[0] for x in tuples], [x[1] for x in tuples], [x[2] for x in tuples]"
   ]
  },
  {
   "cell_type": "code",
   "execution_count": 22,
   "metadata": {},
   "outputs": [
    {
     "data": {
      "text/html": [
       "<div>\n",
       "<style scoped>\n",
       "    .dataframe tbody tr th:only-of-type {\n",
       "        vertical-align: middle;\n",
       "    }\n",
       "\n",
       "    .dataframe tbody tr th {\n",
       "        vertical-align: top;\n",
       "    }\n",
       "\n",
       "    .dataframe thead th {\n",
       "        text-align: right;\n",
       "    }\n",
       "</style>\n",
       "<table border=\"1\" class=\"dataframe\">\n",
       "  <thead>\n",
       "    <tr style=\"text-align: right;\">\n",
       "      <th></th>\n",
       "      <th>ID</th>\n",
       "      <th>Timestamp</th>\n",
       "      <th>User</th>\n",
       "      <th>Text</th>\n",
       "      <th>Polarity</th>\n",
       "      <th>Retweet</th>\n",
       "      <th>tokenized</th>\n",
       "      <th>filtered</th>\n",
       "      <th>stemmed</th>\n",
       "    </tr>\n",
       "  </thead>\n",
       "  <tbody>\n",
       "    <tr>\n",
       "      <th>0</th>\n",
       "      <td>1302406168791470081</td>\n",
       "      <td>2020-09-06 00:40:02</td>\n",
       "      <td>asarinanamis</td>\n",
       "      <td>RT @Ayshiun: Totally inspired by@/kianamaiart'...</td>\n",
       "      <td>-1</td>\n",
       "      <td>1</td>\n",
       "      <td>totally inspired bykianamaiarts peach so i tri...</td>\n",
       "      <td>totally inspired bykianamaiarts peach so i tri...</td>\n",
       "      <td>total inspir bykianamaiart peach so i tri make...</td>\n",
       "    </tr>\n",
       "    <tr>\n",
       "      <th>1</th>\n",
       "      <td>1302406168766078976</td>\n",
       "      <td>2020-09-06 00:40:02</td>\n",
       "      <td>xleave_thecity</td>\n",
       "      <td>@thiinkinaboutit thank you 🥺</td>\n",
       "      <td>-1</td>\n",
       "      <td>0</td>\n",
       "      <td>thank you</td>\n",
       "      <td>thank you</td>\n",
       "      <td>thank you</td>\n",
       "    </tr>\n",
       "    <tr>\n",
       "      <th>2</th>\n",
       "      <td>1302406168170696706</td>\n",
       "      <td>2020-09-06 00:40:02</td>\n",
       "      <td>MsTam_Tam</td>\n",
       "      <td>some of yall retweets really be having me look...</td>\n",
       "      <td>-1</td>\n",
       "      <td>0</td>\n",
       "      <td>some of yall retweets really be having me look...</td>\n",
       "      <td>some yall retweets really having me look you s...</td>\n",
       "      <td>some yall retweet realli have me look you side...</td>\n",
       "    </tr>\n",
       "    <tr>\n",
       "      <th>3</th>\n",
       "      <td>1302406168120365056</td>\n",
       "      <td>2020-09-06 00:40:02</td>\n",
       "      <td>_thebdawkk</td>\n",
       "      <td>@jeenbeen__ Thank you Jen 🥺 just miss the old ...</td>\n",
       "      <td>-1</td>\n",
       "      <td>0</td>\n",
       "      <td>thank you jen just miss the old me</td>\n",
       "      <td>thank you jen just miss old me</td>\n",
       "      <td>thank you jen just miss old me</td>\n",
       "    </tr>\n",
       "    <tr>\n",
       "      <th>4</th>\n",
       "      <td>1302406167956602880</td>\n",
       "      <td>2020-09-06 00:40:02</td>\n",
       "      <td>4ranghae1015</td>\n",
       "      <td>@SJofficial My favorite part is the BAD boy, g...</td>\n",
       "      <td>-1</td>\n",
       "      <td>0</td>\n",
       "      <td>my favorite part is the bad boy gangsters masc...</td>\n",
       "      <td>my favorite part bad boy gangsters mascot eunh...</td>\n",
       "      <td>my favorit part bad boy gangster mascot eunhyu...</td>\n",
       "    </tr>\n",
       "  </tbody>\n",
       "</table>\n",
       "</div>"
      ],
      "text/plain": [
       "                    ID            Timestamp            User  \\\n",
       "0  1302406168791470081  2020-09-06 00:40:02    asarinanamis   \n",
       "1  1302406168766078976  2020-09-06 00:40:02  xleave_thecity   \n",
       "2  1302406168170696706  2020-09-06 00:40:02       MsTam_Tam   \n",
       "3  1302406168120365056  2020-09-06 00:40:02      _thebdawkk   \n",
       "4  1302406167956602880  2020-09-06 00:40:02    4ranghae1015   \n",
       "\n",
       "                                                Text  Polarity  Retweet  \\\n",
       "0  RT @Ayshiun: Totally inspired by@/kianamaiart'...        -1        1   \n",
       "1                       @thiinkinaboutit thank you 🥺        -1        0   \n",
       "2  some of yall retweets really be having me look...        -1        0   \n",
       "3  @jeenbeen__ Thank you Jen 🥺 just miss the old ...        -1        0   \n",
       "4  @SJofficial My favorite part is the BAD boy, g...        -1        0   \n",
       "\n",
       "                                           tokenized  \\\n",
       "0  totally inspired bykianamaiarts peach so i tri...   \n",
       "1                                          thank you   \n",
       "2  some of yall retweets really be having me look...   \n",
       "3                 thank you jen just miss the old me   \n",
       "4  my favorite part is the bad boy gangsters masc...   \n",
       "\n",
       "                                            filtered  \\\n",
       "0  totally inspired bykianamaiarts peach so i tri...   \n",
       "1                                          thank you   \n",
       "2  some yall retweets really having me look you s...   \n",
       "3                     thank you jen just miss old me   \n",
       "4  my favorite part bad boy gangsters mascot eunh...   \n",
       "\n",
       "                                             stemmed  \n",
       "0  total inspir bykianamaiart peach so i tri make...  \n",
       "1                                          thank you  \n",
       "2  some yall retweet realli have me look you side...  \n",
       "3                     thank you jen just miss old me  \n",
       "4  my favorit part bad boy gangster mascot eunhyu...  "
      ]
     },
     "execution_count": 22,
     "metadata": {},
     "output_type": "execute_result"
    }
   ],
   "source": [
    "df.head()"
   ]
  },
  {
   "cell_type": "code",
   "execution_count": 23,
   "metadata": {},
   "outputs": [
    {
     "data": {
      "text/html": [
       "<div>\n",
       "<style scoped>\n",
       "    .dataframe tbody tr th:only-of-type {\n",
       "        vertical-align: middle;\n",
       "    }\n",
       "\n",
       "    .dataframe tbody tr th {\n",
       "        vertical-align: top;\n",
       "    }\n",
       "\n",
       "    .dataframe thead th {\n",
       "        text-align: right;\n",
       "    }\n",
       "</style>\n",
       "<table border=\"1\" class=\"dataframe\">\n",
       "  <thead>\n",
       "    <tr style=\"text-align: right;\">\n",
       "      <th></th>\n",
       "      <th>ID</th>\n",
       "      <th>Timestamp</th>\n",
       "      <th>User</th>\n",
       "      <th>Text</th>\n",
       "      <th>Polarity</th>\n",
       "      <th>Retweet</th>\n",
       "      <th>tokenized</th>\n",
       "      <th>filtered</th>\n",
       "      <th>stemmed</th>\n",
       "    </tr>\n",
       "  </thead>\n",
       "  <tbody>\n",
       "    <tr>\n",
       "      <th>372395</th>\n",
       "      <td>1307544799126237186</td>\n",
       "      <td>2020-09-20 04:59:07</td>\n",
       "      <td>kingshxxbiay</td>\n",
       "      <td>RT @arjuyna: 25rep 25rt 25like gue bikin react...</td>\n",
       "      <td>1</td>\n",
       "      <td>1</td>\n",
       "      <td>25rep 25rt 25like gue bikin reaction mv the st...</td>\n",
       "      <td>25rep 25rt 25like gue bikin reaction mv steale...</td>\n",
       "      <td>25rep 25rt 25like gue bikin reaction mv steale...</td>\n",
       "    </tr>\n",
       "    <tr>\n",
       "      <th>372396</th>\n",
       "      <td>1307544799000449026</td>\n",
       "      <td>2020-09-20 04:59:07</td>\n",
       "      <td>llnyall</td>\n",
       "      <td>RT @YouKnowMeLilyA: Today on Twitter I found m...</td>\n",
       "      <td>1</td>\n",
       "      <td>1</td>\n",
       "      <td>today on twitter i found my sudanese husbands</td>\n",
       "      <td>today twitter i found my sudanese husbands</td>\n",
       "      <td>today twitter i found my sudanes husband</td>\n",
       "    </tr>\n",
       "    <tr>\n",
       "      <th>372397</th>\n",
       "      <td>1307544798866276352</td>\n",
       "      <td>2020-09-20 04:59:07</td>\n",
       "      <td>JiyaramPatel</td>\n",
       "      <td>RT @1FIRSTGroups: 1000+ FOLLOWERS Instantly !!...</td>\n",
       "      <td>1</td>\n",
       "      <td>1</td>\n",
       "      <td>1000 followers instantly retweet and drop your...</td>\n",
       "      <td>1000 followers instantly retweet drop your handle</td>\n",
       "      <td>1000 follow instantli retweet drop your handl</td>\n",
       "    </tr>\n",
       "    <tr>\n",
       "      <th>372398</th>\n",
       "      <td>1307544798828679168</td>\n",
       "      <td>2020-09-20 04:59:07</td>\n",
       "      <td>alefromplenty</td>\n",
       "      <td>RT @DuecePop: Tonight I’m djayin @TheSqueezebo...</td>\n",
       "      <td>1</td>\n",
       "      <td>1</td>\n",
       "      <td>tonight im djayin mask required we serving foo...</td>\n",
       "      <td>tonight im djayin mask required we serving foo...</td>\n",
       "      <td>tonight im djayin mask requir we serv food dri...</td>\n",
       "    </tr>\n",
       "    <tr>\n",
       "      <th>372399</th>\n",
       "      <td>1307544798459437057</td>\n",
       "      <td>2020-09-20 04:59:07</td>\n",
       "      <td>sanamraut16</td>\n",
       "      <td>RT @KatrinaTigress: 17 YEARS OF KATRINA KAIF\\n...</td>\n",
       "      <td>1</td>\n",
       "      <td>1</td>\n",
       "      <td>17 years of katrina kaif queen katrinakaif cut...</td>\n",
       "      <td>17 years katrina kaif queen katrinakaif cutie ...</td>\n",
       "      <td>17 year katrina kaif queen katrinakaif cuti da...</td>\n",
       "    </tr>\n",
       "  </tbody>\n",
       "</table>\n",
       "</div>"
      ],
      "text/plain": [
       "                         ID            Timestamp           User  \\\n",
       "372395  1307544799126237186  2020-09-20 04:59:07   kingshxxbiay   \n",
       "372396  1307544799000449026  2020-09-20 04:59:07        llnyall   \n",
       "372397  1307544798866276352  2020-09-20 04:59:07   JiyaramPatel   \n",
       "372398  1307544798828679168  2020-09-20 04:59:07  alefromplenty   \n",
       "372399  1307544798459437057  2020-09-20 04:59:07    sanamraut16   \n",
       "\n",
       "                                                     Text  Polarity  Retweet  \\\n",
       "372395  RT @arjuyna: 25rep 25rt 25like gue bikin react...         1        1   \n",
       "372396  RT @YouKnowMeLilyA: Today on Twitter I found m...         1        1   \n",
       "372397  RT @1FIRSTGroups: 1000+ FOLLOWERS Instantly !!...         1        1   \n",
       "372398  RT @DuecePop: Tonight I’m djayin @TheSqueezebo...         1        1   \n",
       "372399  RT @KatrinaTigress: 17 YEARS OF KATRINA KAIF\\n...         1        1   \n",
       "\n",
       "                                                tokenized  \\\n",
       "372395  25rep 25rt 25like gue bikin reaction mv the st...   \n",
       "372396      today on twitter i found my sudanese husbands   \n",
       "372397  1000 followers instantly retweet and drop your...   \n",
       "372398  tonight im djayin mask required we serving foo...   \n",
       "372399  17 years of katrina kaif queen katrinakaif cut...   \n",
       "\n",
       "                                                 filtered  \\\n",
       "372395  25rep 25rt 25like gue bikin reaction mv steale...   \n",
       "372396         today twitter i found my sudanese husbands   \n",
       "372397  1000 followers instantly retweet drop your handle   \n",
       "372398  tonight im djayin mask required we serving foo...   \n",
       "372399  17 years katrina kaif queen katrinakaif cutie ...   \n",
       "\n",
       "                                                  stemmed  \n",
       "372395  25rep 25rt 25like gue bikin reaction mv steale...  \n",
       "372396           today twitter i found my sudanes husband  \n",
       "372397      1000 follow instantli retweet drop your handl  \n",
       "372398  tonight im djayin mask requir we serv food dri...  \n",
       "372399  17 year katrina kaif queen katrinakaif cuti da...  "
      ]
     },
     "execution_count": 23,
     "metadata": {},
     "output_type": "execute_result"
    }
   ],
   "source": [
    "df.tail()"
   ]
  },
  {
   "cell_type": "code",
   "execution_count": 24,
   "metadata": {},
   "outputs": [],
   "source": [
    "dupes = df[df['tokenized'].duplicated(keep='first')]"
   ]
  },
  {
   "cell_type": "code",
   "execution_count": 25,
   "metadata": {},
   "outputs": [
    {
     "data": {
      "text/plain": [
       "0.297078410311493"
      ]
     },
     "execution_count": 25,
     "metadata": {},
     "output_type": "execute_result"
    }
   ],
   "source": [
    "dupes.shape[0]/df.shape[0] # % dupes"
   ]
  },
  {
   "cell_type": "code",
   "execution_count": 26,
   "metadata": {},
   "outputs": [
    {
     "data": {
      "text/plain": [
       "0.8210101959650011"
      ]
     },
     "execution_count": 26,
     "metadata": {},
     "output_type": "execute_result"
    }
   ],
   "source": [
    "dupes[dupes['Retweet']==1].shape[0]/dupes.shape[0] # % of dupes that are retweets"
   ]
  },
  {
   "cell_type": "code",
   "execution_count": 27,
   "metadata": {},
   "outputs": [
    {
     "data": {
      "text/plain": [
       "(133237, 9)"
      ]
     },
     "execution_count": 27,
     "metadata": {},
     "output_type": "execute_result"
    }
   ],
   "source": [
    "# test for duplicated in tokenized\n",
    "txt = df[\"tokenized\"]\n",
    "df[txt.isin(txt[txt.duplicated()])].shape"
   ]
  },
  {
   "cell_type": "code",
   "execution_count": 28,
   "metadata": {},
   "outputs": [
    {
     "data": {
      "text/plain": [
       "239163"
      ]
     },
     "execution_count": 28,
     "metadata": {},
     "output_type": "execute_result"
    }
   ],
   "source": [
    "# get total non-dupes\n",
    "df.shape[0] - df[txt.isin(txt[txt.duplicated()])].shape[0]"
   ]
  },
  {
   "cell_type": "code",
   "execution_count": 31,
   "metadata": {},
   "outputs": [
    {
     "data": {
      "text/html": [
       "<div>\n",
       "<style scoped>\n",
       "    .dataframe tbody tr th:only-of-type {\n",
       "        vertical-align: middle;\n",
       "    }\n",
       "\n",
       "    .dataframe tbody tr th {\n",
       "        vertical-align: top;\n",
       "    }\n",
       "\n",
       "    .dataframe thead th {\n",
       "        text-align: right;\n",
       "    }\n",
       "</style>\n",
       "<table border=\"1\" class=\"dataframe\">\n",
       "  <thead>\n",
       "    <tr style=\"text-align: right;\">\n",
       "      <th></th>\n",
       "      <th>ID</th>\n",
       "      <th>Timestamp</th>\n",
       "      <th>User</th>\n",
       "      <th>Text</th>\n",
       "      <th>Retweet</th>\n",
       "      <th>tokenized</th>\n",
       "      <th>filtered</th>\n",
       "      <th>stemmed</th>\n",
       "    </tr>\n",
       "    <tr>\n",
       "      <th>Polarity</th>\n",
       "      <th></th>\n",
       "      <th></th>\n",
       "      <th></th>\n",
       "      <th></th>\n",
       "      <th></th>\n",
       "      <th></th>\n",
       "      <th></th>\n",
       "      <th></th>\n",
       "    </tr>\n",
       "  </thead>\n",
       "  <tbody>\n",
       "    <tr>\n",
       "      <th>-1</th>\n",
       "      <td>186200</td>\n",
       "      <td>186200</td>\n",
       "      <td>186200</td>\n",
       "      <td>186200</td>\n",
       "      <td>186200</td>\n",
       "      <td>186200</td>\n",
       "      <td>186200</td>\n",
       "      <td>186200</td>\n",
       "    </tr>\n",
       "    <tr>\n",
       "      <th>1</th>\n",
       "      <td>186200</td>\n",
       "      <td>186200</td>\n",
       "      <td>186200</td>\n",
       "      <td>186200</td>\n",
       "      <td>186200</td>\n",
       "      <td>186200</td>\n",
       "      <td>186200</td>\n",
       "      <td>186200</td>\n",
       "    </tr>\n",
       "  </tbody>\n",
       "</table>\n",
       "</div>"
      ],
      "text/plain": [
       "              ID  Timestamp    User    Text  Retweet  tokenized  filtered  \\\n",
       "Polarity                                                                    \n",
       "-1        186200     186200  186200  186200   186200     186200    186200   \n",
       " 1        186200     186200  186200  186200   186200     186200    186200   \n",
       "\n",
       "          stemmed  \n",
       "Polarity           \n",
       "-1         186200  \n",
       " 1         186200  "
      ]
     },
     "execution_count": 31,
     "metadata": {},
     "output_type": "execute_result"
    }
   ],
   "source": [
    "df.groupby('Polarity').count()"
   ]
  },
  {
   "cell_type": "code",
   "execution_count": 35,
   "metadata": {},
   "outputs": [
    {
     "data": {
      "text/html": [
       "<div>\n",
       "<style scoped>\n",
       "    .dataframe tbody tr th:only-of-type {\n",
       "        vertical-align: middle;\n",
       "    }\n",
       "\n",
       "    .dataframe tbody tr th {\n",
       "        vertical-align: top;\n",
       "    }\n",
       "\n",
       "    .dataframe thead th {\n",
       "        text-align: right;\n",
       "    }\n",
       "</style>\n",
       "<table border=\"1\" class=\"dataframe\">\n",
       "  <thead>\n",
       "    <tr style=\"text-align: right;\">\n",
       "      <th></th>\n",
       "      <th>ID</th>\n",
       "      <th>Timestamp</th>\n",
       "      <th>User</th>\n",
       "      <th>Text</th>\n",
       "      <th>Retweet</th>\n",
       "      <th>tokenized</th>\n",
       "      <th>filtered</th>\n",
       "      <th>stemmed</th>\n",
       "    </tr>\n",
       "    <tr>\n",
       "      <th>Polarity</th>\n",
       "      <th></th>\n",
       "      <th></th>\n",
       "      <th></th>\n",
       "      <th></th>\n",
       "      <th></th>\n",
       "      <th></th>\n",
       "      <th></th>\n",
       "      <th></th>\n",
       "    </tr>\n",
       "  </thead>\n",
       "  <tbody>\n",
       "    <tr>\n",
       "      <th>-1</th>\n",
       "      <td>73202</td>\n",
       "      <td>73202</td>\n",
       "      <td>73202</td>\n",
       "      <td>73202</td>\n",
       "      <td>73202</td>\n",
       "      <td>73202</td>\n",
       "      <td>73202</td>\n",
       "      <td>73202</td>\n",
       "    </tr>\n",
       "    <tr>\n",
       "      <th>1</th>\n",
       "      <td>60035</td>\n",
       "      <td>60035</td>\n",
       "      <td>60035</td>\n",
       "      <td>60035</td>\n",
       "      <td>60035</td>\n",
       "      <td>60035</td>\n",
       "      <td>60035</td>\n",
       "      <td>60035</td>\n",
       "    </tr>\n",
       "  </tbody>\n",
       "</table>\n",
       "</div>"
      ],
      "text/plain": [
       "             ID  Timestamp   User   Text  Retweet  tokenized  filtered  \\\n",
       "Polarity                                                                 \n",
       "-1        73202      73202  73202  73202    73202      73202     73202   \n",
       " 1        60035      60035  60035  60035    60035      60035     60035   \n",
       "\n",
       "          stemmed  \n",
       "Polarity           \n",
       "-1          73202  \n",
       " 1          60035  "
      ]
     },
     "execution_count": 35,
     "metadata": {},
     "output_type": "execute_result"
    }
   ],
   "source": [
    "# more negative dupes\n",
    "df[txt.isin(txt[txt.duplicated()])].groupby('Polarity').count()"
   ]
  },
  {
   "cell_type": "code",
   "execution_count": null,
   "metadata": {},
   "outputs": [],
   "source": []
  }
 ],
 "metadata": {
  "kernelspec": {
   "display_name": "Python 3",
   "language": "python",
   "name": "python3"
  },
  "language_info": {
   "codemirror_mode": {
    "name": "ipython",
    "version": 3
   },
   "file_extension": ".py",
   "mimetype": "text/x-python",
   "name": "python",
   "nbconvert_exporter": "python",
   "pygments_lexer": "ipython3",
   "version": "3.7.3"
  }
 },
 "nbformat": 4,
 "nbformat_minor": 4
}
